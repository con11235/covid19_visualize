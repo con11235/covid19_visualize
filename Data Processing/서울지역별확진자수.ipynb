{
  "nbformat": 4,
  "nbformat_minor": 0,
  "metadata": {
    "colab": {
      "name": "서울지역별확진자수.ipynb",
      "provenance": [],
      "collapsed_sections": [],
      "authorship_tag": "ABX9TyMK5k5QKsrGCmuo5j1VXFjq",
      "include_colab_link": true
    },
    "kernelspec": {
      "name": "python3",
      "display_name": "Python 3"
    }
  },
  "cells": [
    {
      "cell_type": "markdown",
      "metadata": {
        "id": "view-in-github",
        "colab_type": "text"
      },
      "source": [
        "<a href=\"https://colab.research.google.com/github/con11235/covid19_visualize/blob/master/Data%20Processing/%EC%84%9C%EC%9A%B8%EC%A7%80%EC%97%AD%EB%B3%84%ED%99%95%EC%A7%84%EC%9E%90%EC%88%98.ipynb\" target=\"_parent\"><img src=\"https://colab.research.google.com/assets/colab-badge.svg\" alt=\"Open In Colab\"/></a>"
      ]
    },
    {
      "cell_type": "code",
      "metadata": {
        "id": "BApjGvpMzT30",
        "colab_type": "code",
        "colab": {
          "base_uri": "https://localhost:8080/",
          "height": 127
        },
        "outputId": "2e05cd26-89cf-4e0e-896d-c82b9e14d81a"
      },
      "source": [
        "from google.colab import drive\n",
        "drive.mount('/content/gdrive')"
      ],
      "execution_count": 1,
      "outputs": [
        {
          "output_type": "stream",
          "text": [
            "Go to this URL in a browser: https://accounts.google.com/o/oauth2/auth?client_id=947318989803-6bn6qk8qdgf4n4g3pfee6491hc0brc4i.apps.googleusercontent.com&redirect_uri=urn%3aietf%3awg%3aoauth%3a2.0%3aoob&response_type=code&scope=email%20https%3a%2f%2fwww.googleapis.com%2fauth%2fdocs.test%20https%3a%2f%2fwww.googleapis.com%2fauth%2fdrive%20https%3a%2f%2fwww.googleapis.com%2fauth%2fdrive.photos.readonly%20https%3a%2f%2fwww.googleapis.com%2fauth%2fpeopleapi.readonly\n",
            "\n",
            "Enter your authorization code:\n",
            "··········\n",
            "Mounted at /content/gdrive\n"
          ],
          "name": "stdout"
        }
      ]
    },
    {
      "cell_type": "code",
      "metadata": {
        "id": "7YnYAwoNzV_z",
        "colab_type": "code",
        "colab": {
          "base_uri": "https://localhost:8080/",
          "height": 325
        },
        "outputId": "9ad4aa1a-8531-4e75-a3fe-9d7e52ffc113"
      },
      "source": [
        "import pandas as pd\n",
        "import seaborn as sns\n",
        "import numpy as np\n",
        "import warnings\n",
        "warnings.filterwarnings(action='ignore')\n",
        "\n",
        "import matplotlib as mpl\n",
        "import matplotlib.pyplot as plt\n",
        "%config InlineBackend.figure_format = 'retina' \n",
        "!apt -qq -y install fonts-nanum\n",
        "import matplotlib.font_manager as fm\n",
        "fontpath = '/usr/share/fonts/truetype/nanum/NanumBarunGothic.ttf'\n",
        "font = fm.FontProperties(fname=fontpath, size=9)\n",
        "plt.rc('font', family='NanumBarunGothic') \n",
        "mpl.font_manager._rebuild()\n",
        "\n",
        "import datetime\n",
        "import plotly.express as px\n",
        "\n",
        "import plotly\n",
        "from plotly.graph_objs import Scatter, Line, Layout\n",
        " \n",
        "import importlib\n",
        "import json\n",
        " \n",
        "from plotly.subplots import make_subplots\n",
        "import plotly.graph_objects as go\n"
      ],
      "execution_count": 2,
      "outputs": [
        {
          "output_type": "stream",
          "text": [
            "/usr/local/lib/python3.6/dist-packages/statsmodels/tools/_testing.py:19: FutureWarning: pandas.util.testing is deprecated. Use the functions in the public API at pandas.testing instead.\n",
            "  import pandas.util.testing as tm\n"
          ],
          "name": "stderr"
        },
        {
          "output_type": "stream",
          "text": [
            "The following package was automatically installed and is no longer required:\n",
            "  libnvidia-common-440\n",
            "Use 'apt autoremove' to remove it.\n",
            "The following NEW packages will be installed:\n",
            "  fonts-nanum\n",
            "0 upgraded, 1 newly installed, 0 to remove and 35 not upgraded.\n",
            "Need to get 9,604 kB of archives.\n",
            "After this operation, 29.5 MB of additional disk space will be used.\n",
            "Selecting previously unselected package fonts-nanum.\n",
            "(Reading database ... 144465 files and directories currently installed.)\n",
            "Preparing to unpack .../fonts-nanum_20170925-1_all.deb ...\n",
            "Unpacking fonts-nanum (20170925-1) ...\n",
            "Setting up fonts-nanum (20170925-1) ...\n",
            "Processing triggers for fontconfig (2.12.6-0ubuntu2) ...\n"
          ],
          "name": "stdout"
        }
      ]
    },
    {
      "cell_type": "code",
      "metadata": {
        "id": "YOXfZLBZzk7S",
        "colab_type": "code",
        "colab": {
          "base_uri": "https://localhost:8080/",
          "height": 142
        },
        "outputId": "216cb8cc-dca8-49ea-ad16-37a687e8a375"
      },
      "source": [
        "patientinfo=pd.read_csv('/content/gdrive/My Drive/dacon/COVID_19/PatientInfo.csv')\n",
        "patientinfo.head(3)"
      ],
      "execution_count": 3,
      "outputs": [
        {
          "output_type": "execute_result",
          "data": {
            "text/html": [
              "<div>\n",
              "<style scoped>\n",
              "    .dataframe tbody tr th:only-of-type {\n",
              "        vertical-align: middle;\n",
              "    }\n",
              "\n",
              "    .dataframe tbody tr th {\n",
              "        vertical-align: top;\n",
              "    }\n",
              "\n",
              "    .dataframe thead th {\n",
              "        text-align: right;\n",
              "    }\n",
              "</style>\n",
              "<table border=\"1\" class=\"dataframe\">\n",
              "  <thead>\n",
              "    <tr style=\"text-align: right;\">\n",
              "      <th></th>\n",
              "      <th>patient_id</th>\n",
              "      <th>sex</th>\n",
              "      <th>age</th>\n",
              "      <th>country</th>\n",
              "      <th>province</th>\n",
              "      <th>city</th>\n",
              "      <th>infection_case</th>\n",
              "      <th>infected_by</th>\n",
              "      <th>contact_number</th>\n",
              "      <th>symptom_onset_date</th>\n",
              "      <th>confirmed_date</th>\n",
              "      <th>released_date</th>\n",
              "      <th>deceased_date</th>\n",
              "      <th>state</th>\n",
              "    </tr>\n",
              "  </thead>\n",
              "  <tbody>\n",
              "    <tr>\n",
              "      <th>0</th>\n",
              "      <td>1000000001</td>\n",
              "      <td>male</td>\n",
              "      <td>50s</td>\n",
              "      <td>Korea</td>\n",
              "      <td>서울</td>\n",
              "      <td>강서구</td>\n",
              "      <td>overseas inflow</td>\n",
              "      <td>NaN</td>\n",
              "      <td>75</td>\n",
              "      <td>2020-01-22</td>\n",
              "      <td>2020-01-23</td>\n",
              "      <td>2020-02-05</td>\n",
              "      <td>NaN</td>\n",
              "      <td>released</td>\n",
              "    </tr>\n",
              "    <tr>\n",
              "      <th>1</th>\n",
              "      <td>1000000002</td>\n",
              "      <td>male</td>\n",
              "      <td>30s</td>\n",
              "      <td>Korea</td>\n",
              "      <td>서울</td>\n",
              "      <td>중랑구</td>\n",
              "      <td>overseas inflow</td>\n",
              "      <td>NaN</td>\n",
              "      <td>31</td>\n",
              "      <td>NaN</td>\n",
              "      <td>2020-01-30</td>\n",
              "      <td>2020-03-02</td>\n",
              "      <td>NaN</td>\n",
              "      <td>released</td>\n",
              "    </tr>\n",
              "    <tr>\n",
              "      <th>2</th>\n",
              "      <td>1000000003</td>\n",
              "      <td>male</td>\n",
              "      <td>50s</td>\n",
              "      <td>Korea</td>\n",
              "      <td>서울</td>\n",
              "      <td>종로구</td>\n",
              "      <td>contact with patient</td>\n",
              "      <td>2002000001</td>\n",
              "      <td>17</td>\n",
              "      <td>NaN</td>\n",
              "      <td>2020-01-30</td>\n",
              "      <td>2020-02-19</td>\n",
              "      <td>NaN</td>\n",
              "      <td>released</td>\n",
              "    </tr>\n",
              "  </tbody>\n",
              "</table>\n",
              "</div>"
            ],
            "text/plain": [
              "   patient_id   sex  age  ... released_date deceased_date     state\n",
              "0  1000000001  male  50s  ...    2020-02-05           NaN  released\n",
              "1  1000000002  male  30s  ...    2020-03-02           NaN  released\n",
              "2  1000000003  male  50s  ...    2020-02-19           NaN  released\n",
              "\n",
              "[3 rows x 14 columns]"
            ]
          },
          "metadata": {
            "tags": []
          },
          "execution_count": 3
        }
      ]
    },
    {
      "cell_type": "markdown",
      "metadata": {
        "id": "IItw0xeDzyNV",
        "colab_type": "text"
      },
      "source": [
        "### 서울 확진자만 분류"
      ]
    },
    {
      "cell_type": "code",
      "metadata": {
        "id": "zbIX4datztAv",
        "colab_type": "code",
        "colab": {}
      },
      "source": [
        "patientinfo_seoul=patientinfo[patientinfo['province']=='서울']"
      ],
      "execution_count": 4,
      "outputs": []
    },
    {
      "cell_type": "code",
      "metadata": {
        "id": "zTL17ewozxGj",
        "colab_type": "code",
        "colab": {}
      },
      "source": [
        "patient_seoul=patientinfo_seoul[['province','city','confirmed_date']]\n",
        "patient_seoul['total_ads']=patient_seoul['province']+' '+patientinfo_seoul['city']"
      ],
      "execution_count": 5,
      "outputs": []
    },
    {
      "cell_type": "markdown",
      "metadata": {
        "id": "jf9O52Xh0PNi",
        "colab_type": "text"
      },
      "source": [
        "지역별로 분류"
      ]
    },
    {
      "cell_type": "code",
      "metadata": {
        "id": "EImSLov90OHi",
        "colab_type": "code",
        "colab": {
          "base_uri": "https://localhost:8080/",
          "height": 142
        },
        "outputId": "c8d60831-ae68-40e6-c5fa-c7f4df575c23"
      },
      "source": [
        "patient_seoul=patient_seoul[['confirmed_date','total_ads']]\n",
        "patient_seoul['cnt']=1\n",
        "patient_seoul.head(3)"
      ],
      "execution_count": 6,
      "outputs": [
        {
          "output_type": "execute_result",
          "data": {
            "text/html": [
              "<div>\n",
              "<style scoped>\n",
              "    .dataframe tbody tr th:only-of-type {\n",
              "        vertical-align: middle;\n",
              "    }\n",
              "\n",
              "    .dataframe tbody tr th {\n",
              "        vertical-align: top;\n",
              "    }\n",
              "\n",
              "    .dataframe thead th {\n",
              "        text-align: right;\n",
              "    }\n",
              "</style>\n",
              "<table border=\"1\" class=\"dataframe\">\n",
              "  <thead>\n",
              "    <tr style=\"text-align: right;\">\n",
              "      <th></th>\n",
              "      <th>confirmed_date</th>\n",
              "      <th>total_ads</th>\n",
              "      <th>cnt</th>\n",
              "    </tr>\n",
              "  </thead>\n",
              "  <tbody>\n",
              "    <tr>\n",
              "      <th>0</th>\n",
              "      <td>2020-01-23</td>\n",
              "      <td>서울 강서구</td>\n",
              "      <td>1</td>\n",
              "    </tr>\n",
              "    <tr>\n",
              "      <th>1</th>\n",
              "      <td>2020-01-30</td>\n",
              "      <td>서울 중랑구</td>\n",
              "      <td>1</td>\n",
              "    </tr>\n",
              "    <tr>\n",
              "      <th>2</th>\n",
              "      <td>2020-01-30</td>\n",
              "      <td>서울 종로구</td>\n",
              "      <td>1</td>\n",
              "    </tr>\n",
              "  </tbody>\n",
              "</table>\n",
              "</div>"
            ],
            "text/plain": [
              "  confirmed_date total_ads  cnt\n",
              "0     2020-01-23    서울 강서구    1\n",
              "1     2020-01-30    서울 중랑구    1\n",
              "2     2020-01-30    서울 종로구    1"
            ]
          },
          "metadata": {
            "tags": []
          },
          "execution_count": 6
        }
      ]
    },
    {
      "cell_type": "markdown",
      "metadata": {
        "id": "5fqqZl7o0cju",
        "colab_type": "text"
      },
      "source": [
        "혹시 몰라서 날짜순으로 배열"
      ]
    },
    {
      "cell_type": "code",
      "metadata": {
        "id": "WAq-G56G0YtP",
        "colab_type": "code",
        "colab": {}
      },
      "source": [
        "patient_seoul=patient_seoul.sort_values(by=['confirmed_date',],ascending=True)"
      ],
      "execution_count": 7,
      "outputs": []
    },
    {
      "cell_type": "markdown",
      "metadata": {
        "id": "I85aSG-B1KkA",
        "colab_type": "text"
      },
      "source": [
        "날짜별 그 지역 확진자 수로 병합\n",
        "\n",
        "ex) 1/23 종로구1, 종로구1 => 종로구2"
      ]
    },
    {
      "cell_type": "code",
      "metadata": {
        "id": "kY0_FRu00fWR",
        "colab_type": "code",
        "colab": {
          "base_uri": "https://localhost:8080/",
          "height": 142
        },
        "outputId": "0fd08ae8-4317-4ce7-f3f2-37efb72b452f"
      },
      "source": [
        "patient_seoul=patient_seoul.groupby(['confirmed_date','total_ads'],as_index=False).cnt.sum()\n",
        "patient_seoul.head(3)"
      ],
      "execution_count": 8,
      "outputs": [
        {
          "output_type": "execute_result",
          "data": {
            "text/html": [
              "<div>\n",
              "<style scoped>\n",
              "    .dataframe tbody tr th:only-of-type {\n",
              "        vertical-align: middle;\n",
              "    }\n",
              "\n",
              "    .dataframe tbody tr th {\n",
              "        vertical-align: top;\n",
              "    }\n",
              "\n",
              "    .dataframe thead th {\n",
              "        text-align: right;\n",
              "    }\n",
              "</style>\n",
              "<table border=\"1\" class=\"dataframe\">\n",
              "  <thead>\n",
              "    <tr style=\"text-align: right;\">\n",
              "      <th></th>\n",
              "      <th>confirmed_date</th>\n",
              "      <th>total_ads</th>\n",
              "      <th>cnt</th>\n",
              "    </tr>\n",
              "  </thead>\n",
              "  <tbody>\n",
              "    <tr>\n",
              "      <th>0</th>\n",
              "      <td>2020-01-23</td>\n",
              "      <td>서울 강서구</td>\n",
              "      <td>1</td>\n",
              "    </tr>\n",
              "    <tr>\n",
              "      <th>1</th>\n",
              "      <td>2020-01-30</td>\n",
              "      <td>서울 마포구</td>\n",
              "      <td>1</td>\n",
              "    </tr>\n",
              "    <tr>\n",
              "      <th>2</th>\n",
              "      <td>2020-01-30</td>\n",
              "      <td>서울 종로구</td>\n",
              "      <td>1</td>\n",
              "    </tr>\n",
              "  </tbody>\n",
              "</table>\n",
              "</div>"
            ],
            "text/plain": [
              "  confirmed_date total_ads  cnt\n",
              "0     2020-01-23    서울 강서구    1\n",
              "1     2020-01-30    서울 마포구    1\n",
              "2     2020-01-30    서울 종로구    1"
            ]
          },
          "metadata": {
            "tags": []
          },
          "execution_count": 8
        }
      ]
    },
    {
      "cell_type": "markdown",
      "metadata": {
        "id": "8aFXh9au1B9_",
        "colab_type": "text"
      },
      "source": [
        "지역별 누적 확진자 추가"
      ]
    },
    {
      "cell_type": "code",
      "metadata": {
        "id": "MGTU-A4d08up",
        "colab_type": "code",
        "colab": {
          "base_uri": "https://localhost:8080/",
          "height": 142
        },
        "outputId": "9d6a63be-ab41-4f22-dd3a-0fe11af62e70"
      },
      "source": [
        "patient_seoul['cnt_sum']=patient_seoul.groupby('total_ads')['cnt'].cumsum()\n",
        "patient_seoul.head(3)"
      ],
      "execution_count": 10,
      "outputs": [
        {
          "output_type": "execute_result",
          "data": {
            "text/html": [
              "<div>\n",
              "<style scoped>\n",
              "    .dataframe tbody tr th:only-of-type {\n",
              "        vertical-align: middle;\n",
              "    }\n",
              "\n",
              "    .dataframe tbody tr th {\n",
              "        vertical-align: top;\n",
              "    }\n",
              "\n",
              "    .dataframe thead th {\n",
              "        text-align: right;\n",
              "    }\n",
              "</style>\n",
              "<table border=\"1\" class=\"dataframe\">\n",
              "  <thead>\n",
              "    <tr style=\"text-align: right;\">\n",
              "      <th></th>\n",
              "      <th>confirmed_date</th>\n",
              "      <th>total_ads</th>\n",
              "      <th>cnt</th>\n",
              "      <th>cnt_sum</th>\n",
              "    </tr>\n",
              "  </thead>\n",
              "  <tbody>\n",
              "    <tr>\n",
              "      <th>0</th>\n",
              "      <td>2020-01-23</td>\n",
              "      <td>서울 강서구</td>\n",
              "      <td>1</td>\n",
              "      <td>1</td>\n",
              "    </tr>\n",
              "    <tr>\n",
              "      <th>1</th>\n",
              "      <td>2020-01-30</td>\n",
              "      <td>서울 마포구</td>\n",
              "      <td>1</td>\n",
              "      <td>1</td>\n",
              "    </tr>\n",
              "    <tr>\n",
              "      <th>2</th>\n",
              "      <td>2020-01-30</td>\n",
              "      <td>서울 종로구</td>\n",
              "      <td>1</td>\n",
              "      <td>1</td>\n",
              "    </tr>\n",
              "  </tbody>\n",
              "</table>\n",
              "</div>"
            ],
            "text/plain": [
              "  confirmed_date total_ads  cnt  cnt_sum\n",
              "0     2020-01-23    서울 강서구    1        1\n",
              "1     2020-01-30    서울 마포구    1        1\n",
              "2     2020-01-30    서울 종로구    1        1"
            ]
          },
          "metadata": {
            "tags": []
          },
          "execution_count": 10
        }
      ]
    },
    {
      "cell_type": "code",
      "metadata": {
        "id": "z1soQZMd03Y6",
        "colab_type": "code",
        "colab": {
          "base_uri": "https://localhost:8080/",
          "height": 542
        },
        "outputId": "c9944329-ad0c-4585-85e4-38098bc601db"
      },
      "source": [
        "fig=px.line(patient_seoul,x='confirmed_date',y='cnt_sum',color='total_ads')\n",
        "fig.update_layout(\n",
        "    title={\n",
        "        'text': \"지역별 확진자 변화(서울 한정)\",\n",
        "        'y':1,\n",
        "        'x':0.5,\n",
        "        'xanchor': 'center',\n",
        "        'yanchor': 'top'})\n",
        "fig.show()"
      ],
      "execution_count": 13,
      "outputs": [
        {
          "output_type": "display_data",
          "data": {
            "text/html": [
              "<html>\n",
              "<head><meta charset=\"utf-8\" /></head>\n",
              "<body>\n",
              "    <div>\n",
              "            <script src=\"https://cdnjs.cloudflare.com/ajax/libs/mathjax/2.7.5/MathJax.js?config=TeX-AMS-MML_SVG\"></script><script type=\"text/javascript\">if (window.MathJax) {MathJax.Hub.Config({SVG: {font: \"STIX-Web\"}});}</script>\n",
              "                <script type=\"text/javascript\">window.PlotlyConfig = {MathJaxConfig: 'local'};</script>\n",
              "        <script src=\"https://cdn.plot.ly/plotly-latest.min.js\"></script>    \n",
              "            <div id=\"a4e8b847-877f-4d9c-bac8-e7216a1c5647\" class=\"plotly-graph-div\" style=\"height:525px; width:100%;\"></div>\n",
              "            <script type=\"text/javascript\">\n",
              "                \n",
              "                    window.PLOTLYENV=window.PLOTLYENV || {};\n",
              "                    \n",
              "                if (document.getElementById(\"a4e8b847-877f-4d9c-bac8-e7216a1c5647\")) {\n",
              "                    Plotly.newPlot(\n",
              "                        'a4e8b847-877f-4d9c-bac8-e7216a1c5647',\n",
              "                        [{\"hoverlabel\": {\"namelength\": 0}, \"hovertemplate\": \"total_ads=\\uc11c\\uc6b8 \\uac15\\uc11c\\uad6c<br>confirmed_date=%{x}<br>cnt_sum=%{y}\", \"legendgroup\": \"total_ads=\\uc11c\\uc6b8 \\uac15\\uc11c\\uad6c\", \"line\": {\"color\": \"#636efa\", \"dash\": \"solid\"}, \"mode\": \"lines\", \"name\": \"total_ads=\\uc11c\\uc6b8 \\uac15\\uc11c\\uad6c\", \"showlegend\": true, \"type\": \"scatter\", \"x\": [\"2020-01-23\", \"2020-02-23\", \"2020-03-06\", \"2020-03-09\", \"2020-03-10\", \"2020-03-11\", \"2020-03-15\", \"2020-03-16\", \"2020-03-19\", \"2020-03-20\", \"2020-03-21\", \"2020-03-22\", \"2020-03-24\", \"2020-03-25\", \"2020-04-04\", \"2020-04-05\", \"2020-04-07\", \"2020-04-19\", \"2020-05-09\", \"2020-05-11\", \"2020-05-13\", \"2020-05-18\", \"2020-05-25\", \"2020-05-26\", \"2020-05-27\", \"2020-05-28\", \"2020-05-30\", \"2020-06-01\", \"2020-06-02\", \"2020-06-03\", \"2020-06-04\", \"2020-06-05\", \"2020-06-06\", \"2020-06-07\", \"2020-06-08\", \"2020-06-11\", \"2020-06-12\", \"2020-06-13\", \"2020-06-17\", \"2020-06-18\", \"2020-06-19\", \"2020-06-20\", \"2020-06-21\", \"2020-06-22\", \"2020-06-25\"], \"xaxis\": \"x\", \"y\": [1, 2, 3, 6, 10, 13, 14, 15, 16, 17, 18, 19, 21, 22, 23, 24, 25, 26, 28, 30, 31, 32, 33, 35, 39, 43, 45, 47, 50, 52, 54, 55, 57, 59, 62, 65, 67, 69, 71, 73, 74, 75, 76, 77, 78], \"yaxis\": \"y\"}, {\"hoverlabel\": {\"namelength\": 0}, \"hovertemplate\": \"total_ads=\\uc11c\\uc6b8 \\ub9c8\\ud3ec\\uad6c<br>confirmed_date=%{x}<br>cnt_sum=%{y}\", \"legendgroup\": \"total_ads=\\uc11c\\uc6b8 \\ub9c8\\ud3ec\\uad6c\", \"line\": {\"color\": \"#EF553B\", \"dash\": \"solid\"}, \"mode\": \"lines\", \"name\": \"total_ads=\\uc11c\\uc6b8 \\ub9c8\\ud3ec\\uad6c\", \"showlegend\": true, \"type\": \"scatter\", \"x\": [\"2020-01-30\", \"2020-03-10\", \"2020-03-11\", \"2020-03-13\", \"2020-03-14\", \"2020-03-17\", \"2020-03-18\", \"2020-03-19\", \"2020-03-27\", \"2020-03-29\", \"2020-03-31\", \"2020-04-01\", \"2020-04-04\", \"2020-04-08\", \"2020-04-20\", \"2020-04-21\", \"2020-05-27\", \"2020-05-28\", \"2020-06-03\", \"2020-06-04\", \"2020-06-06\", \"2020-06-09\", \"2020-06-16\", \"2020-06-18\", \"2020-06-19\", \"2020-06-27\", \"2020-06-29\"], \"xaxis\": \"x\", \"y\": [1, 5, 6, 7, 8, 9, 10, 13, 14, 15, 17, 18, 19, 22, 23, 24, 25, 27, 28, 29, 30, 31, 32, 33, 34, 35, 38], \"yaxis\": \"y\"}, {\"hoverlabel\": {\"namelength\": 0}, \"hovertemplate\": \"total_ads=\\uc11c\\uc6b8 \\uc885\\ub85c\\uad6c<br>confirmed_date=%{x}<br>cnt_sum=%{y}\", \"legendgroup\": \"total_ads=\\uc11c\\uc6b8 \\uc885\\ub85c\\uad6c\", \"line\": {\"color\": \"#00cc96\", \"dash\": \"solid\"}, \"mode\": \"lines\", \"name\": \"total_ads=\\uc11c\\uc6b8 \\uc885\\ub85c\\uad6c\", \"showlegend\": true, \"type\": \"scatter\", \"x\": [\"2020-01-30\", \"2020-01-31\", \"2020-02-16\", \"2020-02-19\", \"2020-02-20\", \"2020-02-23\", \"2020-02-26\", \"2020-03-23\", \"2020-03-24\", \"2020-03-31\", \"2020-04-02\", \"2020-05-08\", \"2020-05-17\", \"2020-05-29\", \"2020-06-12\", \"2020-06-13\", \"2020-06-24\"], \"xaxis\": \"x\", \"y\": [1, 3, 5, 6, 9, 10, 11, 12, 13, 15, 16, 17, 18, 19, 20, 21, 22], \"yaxis\": \"y\"}, {\"hoverlabel\": {\"namelength\": 0}, \"hovertemplate\": \"total_ads=\\uc11c\\uc6b8 \\uc911\\ub791\\uad6c<br>confirmed_date=%{x}<br>cnt_sum=%{y}\", \"legendgroup\": \"total_ads=\\uc11c\\uc6b8 \\uc911\\ub791\\uad6c\", \"line\": {\"color\": \"#ab63fa\", \"dash\": \"solid\"}, \"mode\": \"lines\", \"name\": \"total_ads=\\uc11c\\uc6b8 \\uc911\\ub791\\uad6c\", \"showlegend\": true, \"type\": \"scatter\", \"x\": [\"2020-01-30\", \"2020-03-04\", \"2020-03-11\", \"2020-03-14\", \"2020-03-20\", \"2020-03-21\", \"2020-03-24\", \"2020-03-26\", \"2020-03-27\", \"2020-04-02\", \"2020-04-04\", \"2020-04-06\", \"2020-05-09\", \"2020-05-23\", \"2020-05-24\", \"2020-06-05\", \"2020-06-08\", \"2020-06-11\", \"2020-06-12\", \"2020-06-13\", \"2020-06-16\", \"2020-06-18\", \"2020-06-19\", \"2020-06-23\", \"2020-06-25\", \"2020-06-26\"], \"xaxis\": \"x\", \"y\": [1, 2, 4, 5, 6, 8, 10, 11, 13, 14, 15, 16, 17, 18, 19, 20, 21, 23, 26, 27, 28, 29, 30, 31, 32, 33], \"yaxis\": \"y\"}, {\"hoverlabel\": {\"namelength\": 0}, \"hovertemplate\": \"total_ads=\\uc11c\\uc6b8 \\uc131\\ubd81\\uad6c<br>confirmed_date=%{x}<br>cnt_sum=%{y}\", \"legendgroup\": \"total_ads=\\uc11c\\uc6b8 \\uc131\\ubd81\\uad6c\", \"line\": {\"color\": \"#FFA15A\", \"dash\": \"solid\"}, \"mode\": \"lines\", \"name\": \"total_ads=\\uc11c\\uc6b8 \\uc131\\ubd81\\uad6c\", \"showlegend\": true, \"type\": \"scatter\", \"x\": [\"2020-01-31\", \"2020-02-05\", \"2020-03-01\", \"2020-03-02\", \"2020-03-06\", \"2020-03-11\", \"2020-03-12\", \"2020-03-18\", \"2020-03-20\", \"2020-03-22\", \"2020-03-26\", \"2020-03-27\", \"2020-04-04\", \"2020-04-05\", \"2020-04-07\", \"2020-04-09\", \"2020-04-13\", \"2020-04-17\", \"2020-04-27\", \"2020-05-08\", \"2020-05-09\", \"2020-05-10\", \"2020-05-18\", \"2020-05-29\", \"2020-06-10\", \"2020-06-12\", \"2020-06-18\", \"2020-06-21\"], \"xaxis\": \"x\", \"y\": [1, 2, 3, 5, 6, 8, 9, 11, 12, 13, 14, 15, 16, 18, 20, 21, 22, 23, 24, 25, 26, 27, 28, 29, 30, 31, 32, 33], \"yaxis\": \"y\"}, {\"hoverlabel\": {\"namelength\": 0}, \"hovertemplate\": \"total_ads=\\uc11c\\uc6b8 \\uae30\\ud0c0<br>confirmed_date=%{x}<br>cnt_sum=%{y}\", \"legendgroup\": \"total_ads=\\uc11c\\uc6b8 \\uae30\\ud0c0\", \"line\": {\"color\": \"#19d3f3\", \"dash\": \"solid\"}, \"mode\": \"lines\", \"name\": \"total_ads=\\uc11c\\uc6b8 \\uae30\\ud0c0\", \"showlegend\": true, \"type\": \"scatter\", \"x\": [\"2020-02-02\", \"2020-02-07\", \"2020-02-20\", \"2020-02-25\", \"2020-02-26\", \"2020-02-27\", \"2020-03-06\", \"2020-03-07\", \"2020-03-08\", \"2020-03-09\", \"2020-03-17\", \"2020-03-24\", \"2020-03-25\", \"2020-03-27\", \"2020-03-28\", \"2020-03-29\", \"2020-03-30\", \"2020-03-31\", \"2020-04-01\", \"2020-04-02\", \"2020-04-04\", \"2020-04-05\", \"2020-04-06\", \"2020-04-21\", \"2020-04-24\", \"2020-05-08\", \"2020-05-11\", \"2020-05-20\", \"2020-05-22\", \"2020-05-23\", \"2020-05-26\", \"2020-05-27\", \"2020-05-28\", \"2020-06-02\", \"2020-06-03\", \"2020-06-04\", \"2020-06-06\", \"2020-06-07\", \"2020-06-08\", \"2020-06-09\", \"2020-06-10\", \"2020-06-14\", \"2020-06-17\", \"2020-06-18\", \"2020-06-19\", \"2020-06-20\", \"2020-06-24\", \"2020-06-25\", \"2020-06-28\", \"2020-06-29\"], \"xaxis\": \"x\", \"y\": [1, 2, 3, 5, 6, 9, 11, 12, 13, 17, 18, 19, 21, 22, 25, 26, 29, 31, 37, 38, 39, 40, 41, 42, 43, 45, 46, 47, 48, 49, 50, 53, 55, 57, 58, 59, 63, 65, 66, 67, 68, 69, 70, 71, 73, 75, 77, 78, 79, 80], \"yaxis\": \"y\"}, {\"hoverlabel\": {\"namelength\": 0}, \"hovertemplate\": \"total_ads=\\uc11c\\uc6b8 \\uc1a1\\ud30c\\uad6c<br>confirmed_date=%{x}<br>cnt_sum=%{y}\", \"legendgroup\": \"total_ads=\\uc11c\\uc6b8 \\uc1a1\\ud30c\\uad6c\", \"line\": {\"color\": \"#FF6692\", \"dash\": \"solid\"}, \"mode\": \"lines\", \"name\": \"total_ads=\\uc11c\\uc6b8 \\uc1a1\\ud30c\\uad6c\", \"showlegend\": true, \"type\": \"scatter\", \"x\": [\"2020-02-05\", \"2020-02-22\", \"2020-02-24\", \"2020-02-25\", \"2020-02-26\", \"2020-02-27\", \"2020-02-29\", \"2020-03-01\", \"2020-03-10\", \"2020-03-11\", \"2020-03-12\", \"2020-03-17\", \"2020-03-19\", \"2020-03-23\", \"2020-03-26\", \"2020-03-27\", \"2020-03-28\", \"2020-03-29\", \"2020-03-30\", \"2020-03-31\", \"2020-04-01\", \"2020-04-03\", \"2020-04-04\", \"2020-04-05\", \"2020-04-12\", \"2020-05-09\", \"2020-05-10\", \"2020-05-12\", \"2020-05-13\", \"2020-05-14\", \"2020-05-16\", \"2020-05-18\", \"2020-05-27\", \"2020-05-28\", \"2020-05-29\", \"2020-06-01\", \"2020-06-05\", \"2020-06-10\", \"2020-06-16\", \"2020-06-21\", \"2020-06-27\", \"2020-06-28\"], \"xaxis\": \"x\", \"y\": [1, 2, 4, 5, 7, 10, 11, 12, 13, 14, 15, 16, 18, 19, 21, 22, 23, 24, 25, 27, 28, 32, 35, 36, 37, 38, 39, 40, 41, 42, 44, 45, 46, 47, 48, 49, 50, 51, 52, 53, 54, 55], \"yaxis\": \"y\"}, {\"hoverlabel\": {\"namelength\": 0}, \"hovertemplate\": \"total_ads=\\uc11c\\uc6b8 \\uc11c\\ub300\\ubb38\\uad6c<br>confirmed_date=%{x}<br>cnt_sum=%{y}\", \"legendgroup\": \"total_ads=\\uc11c\\uc6b8 \\uc11c\\ub300\\ubb38\\uad6c\", \"line\": {\"color\": \"#B6E880\", \"dash\": \"solid\"}, \"mode\": \"lines\", \"name\": \"total_ads=\\uc11c\\uc6b8 \\uc11c\\ub300\\ubb38\\uad6c\", \"showlegend\": true, \"type\": \"scatter\", \"x\": [\"2020-02-06\", \"2020-02-21\", \"2020-02-28\", \"2020-03-11\", \"2020-03-16\", \"2020-03-21\", \"2020-03-22\", \"2020-03-27\", \"2020-03-29\", \"2020-04-01\", \"2020-04-03\", \"2020-04-04\", \"2020-04-15\", \"2020-04-30\", \"2020-05-09\", \"2020-05-11\", \"2020-05-15\", \"2020-05-27\", \"2020-05-28\", \"2020-05-29\", \"2020-05-30\", \"2020-06-01\", \"2020-06-02\", \"2020-06-08\", \"2020-06-14\", \"2020-06-15\", \"2020-06-18\", \"2020-06-19\"], \"xaxis\": \"x\", \"y\": [1, 2, 4, 6, 8, 10, 12, 13, 14, 15, 16, 18, 19, 20, 21, 22, 23, 24, 26, 27, 28, 29, 31, 32, 33, 34, 35, 36], \"yaxis\": \"y\"}, {\"hoverlabel\": {\"namelength\": 0}, \"hovertemplate\": \"total_ads=\\uc11c\\uc6b8 \\uc131\\ub3d9\\uad6c<br>confirmed_date=%{x}<br>cnt_sum=%{y}\", \"legendgroup\": \"total_ads=\\uc11c\\uc6b8 \\uc131\\ub3d9\\uad6c\", \"line\": {\"color\": \"#FF97FF\", \"dash\": \"solid\"}, \"mode\": \"lines\", \"name\": \"total_ads=\\uc11c\\uc6b8 \\uc131\\ub3d9\\uad6c\", \"showlegend\": true, \"type\": \"scatter\", \"x\": [\"2020-02-19\", \"2020-02-20\", \"2020-02-28\", \"2020-03-19\", \"2020-03-20\", \"2020-03-21\", \"2020-04-02\", \"2020-04-06\", \"2020-04-07\", \"2020-04-08\", \"2020-04-09\", \"2020-04-12\", \"2020-04-13\", \"2020-04-14\", \"2020-05-01\", \"2020-05-10\", \"2020-05-12\", \"2020-05-24\", \"2020-05-25\", \"2020-05-26\", \"2020-05-27\", \"2020-05-28\", \"2020-05-29\", \"2020-06-02\", \"2020-06-05\", \"2020-06-06\", \"2020-06-07\", \"2020-06-09\", \"2020-06-20\"], \"xaxis\": \"x\", \"y\": [1, 2, 3, 4, 5, 6, 7, 8, 9, 10, 12, 16, 18, 19, 20, 21, 22, 23, 26, 34, 37, 39, 40, 41, 42, 44, 46, 47, 49], \"yaxis\": \"y\"}, {\"hoverlabel\": {\"namelength\": 0}, \"hovertemplate\": \"total_ads=\\uc11c\\uc6b8 \\uc11c\\ucd08\\uad6c<br>confirmed_date=%{x}<br>cnt_sum=%{y}\", \"legendgroup\": \"total_ads=\\uc11c\\uc6b8 \\uc11c\\ucd08\\uad6c\", \"line\": {\"color\": \"#FECB52\", \"dash\": \"solid\"}, \"mode\": \"lines\", \"name\": \"total_ads=\\uc11c\\uc6b8 \\uc11c\\ucd08\\uad6c\", \"showlegend\": true, \"type\": \"scatter\", \"x\": [\"2020-02-21\", \"2020-02-22\", \"2020-02-23\", \"2020-02-27\", \"2020-03-02\", \"2020-03-07\", \"2020-03-12\", \"2020-03-13\", \"2020-03-20\", \"2020-03-21\", \"2020-03-24\", \"2020-03-25\", \"2020-03-26\", \"2020-03-28\", \"2020-03-29\", \"2020-03-30\", \"2020-03-31\", \"2020-04-01\", \"2020-04-02\", \"2020-04-03\", \"2020-04-07\", \"2020-04-08\", \"2020-04-14\", \"2020-05-09\", \"2020-05-11\", \"2020-05-19\", \"2020-05-22\", \"2020-06-01\", \"2020-06-08\", \"2020-06-10\", \"2020-06-11\", \"2020-06-13\", \"2020-06-14\", \"2020-06-16\", \"2020-06-17\", \"2020-06-18\", \"2020-06-19\", \"2020-06-20\", \"2020-06-26\", \"2020-06-28\"], \"xaxis\": \"x\", \"y\": [1, 2, 3, 4, 5, 6, 7, 9, 11, 12, 13, 16, 17, 20, 21, 23, 24, 26, 28, 30, 33, 35, 37, 38, 39, 40, 41, 43, 44, 45, 46, 47, 48, 49, 50, 51, 52, 53, 54, 55], \"yaxis\": \"y\"}, {\"hoverlabel\": {\"namelength\": 0}, \"hovertemplate\": \"total_ads=\\uc11c\\uc6b8 \\uac15\\ub3d9\\uad6c<br>confirmed_date=%{x}<br>cnt_sum=%{y}\", \"legendgroup\": \"total_ads=\\uc11c\\uc6b8 \\uac15\\ub3d9\\uad6c\", \"line\": {\"color\": \"#636efa\", \"dash\": \"solid\"}, \"mode\": \"lines\", \"name\": \"total_ads=\\uc11c\\uc6b8 \\uac15\\ub3d9\\uad6c\", \"showlegend\": true, \"type\": \"scatter\", \"x\": [\"2020-02-22\", \"2020-02-23\", \"2020-02-25\", \"2020-02-27\", \"2020-03-09\", \"2020-03-20\", \"2020-03-23\", \"2020-03-26\", \"2020-03-30\", \"2020-04-02\", \"2020-04-03\", \"2020-04-05\", \"2020-05-05\", \"2020-05-08\", \"2020-05-10\", \"2020-05-13\", \"2020-05-14\", \"2020-05-19\", \"2020-05-22\", \"2020-05-23\", \"2020-05-25\", \"2020-05-27\", \"2020-06-01\", \"2020-06-02\", \"2020-06-04\", \"2020-06-05\", \"2020-06-07\", \"2020-06-11\", \"2020-06-12\", \"2020-06-22\"], \"xaxis\": \"x\", \"y\": [1, 2, 3, 4, 5, 7, 8, 9, 10, 11, 12, 13, 14, 15, 16, 17, 19, 20, 21, 22, 23, 24, 25, 26, 28, 30, 31, 32, 33, 35], \"yaxis\": \"y\"}, {\"hoverlabel\": {\"namelength\": 0}, \"hovertemplate\": \"total_ads=\\uc11c\\uc6b8 \\uad6c\\ub85c\\uad6c<br>confirmed_date=%{x}<br>cnt_sum=%{y}\", \"legendgroup\": \"total_ads=\\uc11c\\uc6b8 \\uad6c\\ub85c\\uad6c\", \"line\": {\"color\": \"#EF553B\", \"dash\": \"solid\"}, \"mode\": \"lines\", \"name\": \"total_ads=\\uc11c\\uc6b8 \\uad6c\\ub85c\\uad6c\", \"showlegend\": true, \"type\": \"scatter\", \"x\": [\"2020-02-22\", \"2020-03-09\", \"2020-03-10\", \"2020-03-11\", \"2020-03-14\", \"2020-03-15\", \"2020-03-16\", \"2020-03-20\", \"2020-03-26\", \"2020-03-27\", \"2020-03-28\", \"2020-03-29\", \"2020-03-30\", \"2020-03-31\", \"2020-04-02\", \"2020-05-18\", \"2020-05-25\", \"2020-05-26\", \"2020-05-27\", \"2020-06-02\", \"2020-06-03\", \"2020-06-04\", \"2020-06-05\", \"2020-06-06\", \"2020-06-07\", \"2020-06-08\", \"2020-06-09\", \"2020-06-10\", \"2020-06-11\", \"2020-06-12\", \"2020-06-14\", \"2020-06-15\", \"2020-06-17\", \"2020-06-21\", \"2020-06-23\", \"2020-06-24\", \"2020-06-25\", \"2020-06-26\", \"2020-06-27\", \"2020-06-28\"], \"xaxis\": \"x\", \"y\": [1, 9, 14, 16, 18, 20, 22, 23, 25, 26, 29, 30, 32, 33, 34, 35, 36, 37, 40, 42, 43, 45, 49, 52, 55, 64, 65, 67, 68, 69, 70, 74, 75, 79, 80, 81, 82, 83, 84, 85], \"yaxis\": \"y\"}, {\"hoverlabel\": {\"namelength\": 0}, \"hovertemplate\": \"total_ads=\\uc11c\\uc6b8 \\uad00\\uc545\\uad6c<br>confirmed_date=%{x}<br>cnt_sum=%{y}\", \"legendgroup\": \"total_ads=\\uc11c\\uc6b8 \\uad00\\uc545\\uad6c\", \"line\": {\"color\": \"#00cc96\", \"dash\": \"solid\"}, \"mode\": \"lines\", \"name\": \"total_ads=\\uc11c\\uc6b8 \\uad00\\uc545\\uad6c\", \"showlegend\": true, \"type\": \"scatter\", \"x\": [\"2020-02-25\", \"2020-02-27\", \"2020-02-29\", \"2020-03-07\", \"2020-03-10\", \"2020-03-12\", \"2020-03-13\", \"2020-03-16\", \"2020-03-19\", \"2020-03-20\", \"2020-03-27\", \"2020-03-28\", \"2020-03-29\", \"2020-03-30\", \"2020-03-31\", \"2020-04-02\", \"2020-04-04\", \"2020-04-05\", \"2020-04-06\", \"2020-04-11\", \"2020-04-27\", \"2020-05-08\", \"2020-05-09\", \"2020-05-10\", \"2020-05-11\", \"2020-05-12\", \"2020-05-15\", \"2020-05-21\", \"2020-05-23\", \"2020-05-24\", \"2020-05-26\", \"2020-05-27\", \"2020-06-01\", \"2020-06-03\", \"2020-06-05\", \"2020-06-06\", \"2020-06-08\", \"2020-06-09\", \"2020-06-10\", \"2020-06-11\", \"2020-06-12\", \"2020-06-13\", \"2020-06-16\", \"2020-06-17\", \"2020-06-18\", \"2020-06-20\", \"2020-06-23\", \"2020-06-24\", \"2020-06-25\", \"2020-06-26\", \"2020-06-27\", \"2020-06-28\"], \"xaxis\": \"x\", \"y\": [1, 2, 4, 5, 13, 14, 15, 17, 18, 19, 20, 21, 24, 28, 34, 37, 39, 40, 41, 42, 43, 46, 47, 50, 51, 52, 53, 54, 55, 56, 58, 59, 60, 61, 64, 65, 66, 68, 69, 74, 75, 77, 79, 81, 82, 83, 87, 89, 100, 107, 112, 113], \"yaxis\": \"y\"}, {\"hoverlabel\": {\"namelength\": 0}, \"hovertemplate\": \"total_ads=\\uc11c\\uc6b8 \\uae08\\ucc9c\\uad6c<br>confirmed_date=%{x}<br>cnt_sum=%{y}\", \"legendgroup\": \"total_ads=\\uc11c\\uc6b8 \\uae08\\ucc9c\\uad6c\", \"line\": {\"color\": \"#ab63fa\", \"dash\": \"solid\"}, \"mode\": \"lines\", \"name\": \"total_ads=\\uc11c\\uc6b8 \\uae08\\ucc9c\\uad6c\", \"showlegend\": true, \"type\": \"scatter\", \"x\": [\"2020-02-25\", \"2020-03-09\", \"2020-03-10\", \"2020-03-12\", \"2020-03-25\", \"2020-03-26\", \"2020-03-27\", \"2020-03-28\", \"2020-03-29\", \"2020-05-14\", \"2020-05-26\", \"2020-05-28\", \"2020-06-02\", \"2020-06-03\", \"2020-06-09\", \"2020-06-10\", \"2020-06-11\", \"2020-06-12\", \"2020-06-13\", \"2020-06-15\", \"2020-06-24\", \"2020-06-29\"], \"xaxis\": \"x\", \"y\": [1, 2, 3, 5, 6, 7, 8, 9, 13, 14, 15, 16, 17, 19, 20, 24, 27, 28, 29, 30, 31, 32], \"yaxis\": \"y\"}, {\"hoverlabel\": {\"namelength\": 0}, \"hovertemplate\": \"total_ads=\\uc11c\\uc6b8 \\ub178\\uc6d0\\uad6c<br>confirmed_date=%{x}<br>cnt_sum=%{y}\", \"legendgroup\": \"total_ads=\\uc11c\\uc6b8 \\ub178\\uc6d0\\uad6c\", \"line\": {\"color\": \"#FFA15A\", \"dash\": \"solid\"}, \"mode\": \"lines\", \"name\": \"total_ads=\\uc11c\\uc6b8 \\ub178\\uc6d0\\uad6c\", \"showlegend\": true, \"type\": \"scatter\", \"x\": [\"2020-02-25\", \"2020-02-26\", \"2020-02-27\", \"2020-02-28\", \"2020-02-29\", \"2020-03-08\", \"2020-03-09\", \"2020-03-10\", \"2020-03-12\", \"2020-03-13\", \"2020-03-15\", \"2020-03-18\", \"2020-03-19\", \"2020-03-20\", \"2020-04-02\", \"2020-04-03\", \"2020-04-06\", \"2020-05-12\", \"2020-05-13\", \"2020-05-16\", \"2020-05-21\", \"2020-05-23\", \"2020-05-25\", \"2020-05-26\", \"2020-06-04\", \"2020-06-05\", \"2020-06-10\", \"2020-06-11\", \"2020-06-12\", \"2020-06-20\", \"2020-06-25\", \"2020-06-26\", \"2020-06-28\", \"2020-06-29\"], \"xaxis\": \"x\", \"y\": [1, 3, 5, 7, 8, 9, 10, 12, 13, 14, 15, 16, 18, 20, 21, 22, 23, 24, 25, 27, 28, 29, 30, 31, 32, 34, 35, 36, 37, 39, 40, 41, 42, 43], \"yaxis\": \"y\"}, {\"hoverlabel\": {\"namelength\": 0}, \"hovertemplate\": \"total_ads=\\uc11c\\uc6b8 \\uc740\\ud3c9\\uad6c<br>confirmed_date=%{x}<br>cnt_sum=%{y}\", \"legendgroup\": \"total_ads=\\uc11c\\uc6b8 \\uc740\\ud3c9\\uad6c\", \"line\": {\"color\": \"#19d3f3\", \"dash\": \"solid\"}, \"mode\": \"lines\", \"name\": \"total_ads=\\uc11c\\uc6b8 \\uc740\\ud3c9\\uad6c\", \"showlegend\": true, \"type\": \"scatter\", \"x\": [\"2020-02-25\", \"2020-02-26\", \"2020-02-27\", \"2020-02-28\", \"2020-03-07\", \"2020-03-09\", \"2020-03-10\", \"2020-03-11\", \"2020-03-15\", \"2020-03-16\", \"2020-03-20\", \"2020-03-22\", \"2020-03-24\", \"2020-04-02\", \"2020-04-03\", \"2020-04-04\", \"2020-04-11\", \"2020-04-12\", \"2020-05-15\", \"2020-05-26\", \"2020-05-27\", \"2020-05-29\", \"2020-06-05\", \"2020-06-06\", \"2020-06-10\", \"2020-06-11\", \"2020-06-13\", \"2020-06-14\", \"2020-06-15\", \"2020-06-16\", \"2020-06-17\", \"2020-06-18\", \"2020-06-19\", \"2020-06-26\", \"2020-06-29\"], \"xaxis\": \"x\", \"y\": [1, 3, 5, 7, 8, 12, 14, 16, 17, 18, 19, 20, 21, 23, 24, 26, 27, 28, 30, 32, 34, 35, 37, 39, 40, 41, 42, 43, 44, 47, 49, 50, 51, 52, 53], \"yaxis\": \"y\"}, {\"hoverlabel\": {\"namelength\": 0}, \"hovertemplate\": \"total_ads=\\uc11c\\uc6b8 \\uac15\\ub0a8\\uad6c<br>confirmed_date=%{x}<br>cnt_sum=%{y}\", \"legendgroup\": \"total_ads=\\uc11c\\uc6b8 \\uac15\\ub0a8\\uad6c\", \"line\": {\"color\": \"#FF6692\", \"dash\": \"solid\"}, \"mode\": \"lines\", \"name\": \"total_ads=\\uc11c\\uc6b8 \\uac15\\ub0a8\\uad6c\", \"showlegend\": true, \"type\": \"scatter\", \"x\": [\"2020-02-26\", \"2020-02-27\", \"2020-02-29\", \"2020-03-01\", \"2020-03-02\", \"2020-03-05\", \"2020-03-07\", \"2020-03-08\", \"2020-03-12\", \"2020-03-14\", \"2020-03-18\", \"2020-03-19\", \"2020-03-23\", \"2020-03-24\", \"2020-03-25\", \"2020-03-26\", \"2020-03-27\", \"2020-03-28\", \"2020-03-29\", \"2020-03-31\", \"2020-04-02\", \"2020-04-03\", \"2020-04-04\", \"2020-04-06\", \"2020-04-07\", \"2020-04-08\", \"2020-04-09\", \"2020-04-10\", \"2020-04-16\", \"2020-04-17\", \"2020-04-18\", \"2020-04-27\", \"2020-05-09\", \"2020-05-10\", \"2020-05-14\", \"2020-05-15\", \"2020-05-19\", \"2020-05-29\", \"2020-05-31\", \"2020-06-02\", \"2020-06-03\", \"2020-06-16\", \"2020-06-17\", \"2020-06-22\", \"2020-06-24\", \"2020-06-27\"], \"xaxis\": \"x\", \"y\": [1, 3, 7, 8, 9, 10, 11, 12, 13, 14, 16, 17, 18, 19, 23, 27, 29, 34, 38, 41, 43, 48, 50, 53, 54, 56, 57, 59, 60, 61, 62, 64, 65, 69, 70, 71, 72, 74, 75, 76, 78, 79, 80, 81, 82, 83], \"yaxis\": \"y\"}, {\"hoverlabel\": {\"namelength\": 0}, \"hovertemplate\": \"total_ads=\\uc11c\\uc6b8 \\ub3d9\\uad6c \\uad6c<br>confirmed_date=%{x}<br>cnt_sum=%{y}\", \"legendgroup\": \"total_ads=\\uc11c\\uc6b8 \\ub3d9\\uad6c \\uad6c\", \"line\": {\"color\": \"#B6E880\", \"dash\": \"solid\"}, \"mode\": \"lines\", \"name\": \"total_ads=\\uc11c\\uc6b8 \\ub3d9\\uad6c \\uad6c\", \"showlegend\": true, \"type\": \"scatter\", \"x\": [\"2020-02-26\", \"2020-03-09\", \"2020-03-10\", \"2020-03-13\", \"2020-03-16\", \"2020-03-18\", \"2020-03-19\", \"2020-03-20\", \"2020-03-24\", \"2020-03-25\", \"2020-03-28\", \"2020-03-29\", \"2020-03-30\", \"2020-03-31\", \"2020-04-01\", \"2020-04-03\", \"2020-04-08\", \"2020-04-12\", \"2020-04-14\", \"2020-05-08\", \"2020-05-09\", \"2020-05-10\", \"2020-05-11\", \"2020-05-12\", \"2020-05-20\", \"2020-05-27\", \"2020-05-28\", \"2020-06-06\", \"2020-06-09\", \"2020-06-10\", \"2020-06-15\", \"2020-06-16\", \"2020-06-19\", \"2020-06-20\", \"2020-06-25\", \"2020-06-26\"], \"xaxis\": \"x\", \"y\": [1, 2, 5, 6, 7, 9, 11, 13, 14, 16, 19, 21, 23, 24, 25, 28, 29, 30, 31, 32, 33, 35, 36, 37, 38, 39, 40, 41, 44, 45, 46, 48, 49, 50, 51, 53], \"yaxis\": \"y\"}, {\"hoverlabel\": {\"namelength\": 0}, \"hovertemplate\": \"total_ads=\\uc11c\\uc6b8 \\uad11\\uc9c4\\uad6c<br>confirmed_date=%{x}<br>cnt_sum=%{y}\", \"legendgroup\": \"total_ads=\\uc11c\\uc6b8 \\uad11\\uc9c4\\uad6c\", \"line\": {\"color\": \"#FF97FF\", \"dash\": \"solid\"}, \"mode\": \"lines\", \"name\": \"total_ads=\\uc11c\\uc6b8 \\uad11\\uc9c4\\uad6c\", \"showlegend\": true, \"type\": \"scatter\", \"x\": [\"2020-02-27\", \"2020-03-01\", \"2020-03-18\", \"2020-03-20\", \"2020-03-29\", \"2020-03-31\", \"2020-04-01\", \"2020-04-09\", \"2020-05-09\", \"2020-05-10\", \"2020-05-14\", \"2020-05-21\", \"2020-05-27\", \"2020-06-10\", \"2020-06-18\", \"2020-06-26\"], \"xaxis\": \"x\", \"y\": [1, 2, 3, 4, 5, 6, 7, 8, 10, 11, 12, 13, 14, 15, 16, 17], \"yaxis\": \"y\"}, {\"hoverlabel\": {\"namelength\": 0}, \"hovertemplate\": \"total_ads=\\uc11c\\uc6b8 \\ub3d9\\ub300\\ubb38\\uad6c<br>confirmed_date=%{x}<br>cnt_sum=%{y}\", \"legendgroup\": \"total_ads=\\uc11c\\uc6b8 \\ub3d9\\ub300\\ubb38\\uad6c\", \"line\": {\"color\": \"#FECB52\", \"dash\": \"solid\"}, \"mode\": \"lines\", \"name\": \"total_ads=\\uc11c\\uc6b8 \\ub3d9\\ub300\\ubb38\\uad6c\", \"showlegend\": true, \"type\": \"scatter\", \"x\": [\"2020-02-27\", \"2020-03-01\", \"2020-03-04\", \"2020-03-08\", \"2020-03-10\", \"2020-03-11\", \"2020-03-12\", \"2020-03-13\", \"2020-03-16\", \"2020-03-17\", \"2020-03-24\", \"2020-04-01\", \"2020-04-03\", \"2020-04-04\", \"2020-04-07\", \"2020-05-10\", \"2020-05-12\", \"2020-05-14\", \"2020-06-05\", \"2020-06-19\", \"2020-06-26\", \"2020-06-27\"], \"xaxis\": \"x\", \"y\": [1, 2, 4, 11, 15, 18, 19, 22, 24, 25, 26, 27, 28, 30, 31, 32, 33, 34, 35, 36, 37, 38], \"yaxis\": \"y\"}, {\"hoverlabel\": {\"namelength\": 0}, \"hovertemplate\": \"total_ads=\\uc11c\\uc6b8 \\uc591\\ucc9c\\uad6c<br>confirmed_date=%{x}<br>cnt_sum=%{y}\", \"legendgroup\": \"total_ads=\\uc11c\\uc6b8 \\uc591\\ucc9c\\uad6c\", \"line\": {\"color\": \"#636efa\", \"dash\": \"solid\"}, \"mode\": \"lines\", \"name\": \"total_ads=\\uc11c\\uc6b8 \\uc591\\ucc9c\\uad6c\", \"showlegend\": true, \"type\": \"scatter\", \"x\": [\"2020-02-27\", \"2020-03-01\", \"2020-03-06\", \"2020-03-07\", \"2020-03-09\", \"2020-03-10\", \"2020-03-18\", \"2020-03-19\", \"2020-03-28\", \"2020-03-31\", \"2020-04-01\", \"2020-04-02\", \"2020-04-10\", \"2020-05-10\", \"2020-05-11\", \"2020-05-18\", \"2020-05-20\", \"2020-05-27\", \"2020-06-01\", \"2020-06-02\", \"2020-06-04\", \"2020-06-05\", \"2020-06-06\", \"2020-06-07\", \"2020-06-08\", \"2020-06-09\", \"2020-06-10\", \"2020-06-11\", \"2020-06-12\", \"2020-06-18\", \"2020-06-19\", \"2020-06-27\"], \"xaxis\": \"x\", \"y\": [1, 2, 3, 5, 7, 14, 15, 16, 17, 18, 20, 21, 22, 23, 24, 26, 27, 28, 31, 36, 40, 44, 52, 57, 58, 60, 63, 64, 66, 68, 70, 71], \"yaxis\": \"y\"}, {\"hoverlabel\": {\"namelength\": 0}, \"hovertemplate\": \"total_ads=\\uc11c\\uc6b8 \\uc601\\ub4f1\\ud3ec\\uad6c<br>confirmed_date=%{x}<br>cnt_sum=%{y}\", \"legendgroup\": \"total_ads=\\uc11c\\uc6b8 \\uc601\\ub4f1\\ud3ec\\uad6c\", \"line\": {\"color\": \"#EF553B\", \"dash\": \"solid\"}, \"mode\": \"lines\", \"name\": \"total_ads=\\uc11c\\uc6b8 \\uc601\\ub4f1\\ud3ec\\uad6c\", \"showlegend\": true, \"type\": \"scatter\", \"x\": [\"2020-02-29\", \"2020-03-01\", \"2020-03-02\", \"2020-03-10\", \"2020-03-14\", \"2020-03-15\", \"2020-03-16\", \"2020-03-19\", \"2020-03-20\", \"2020-03-21\", \"2020-03-23\", \"2020-03-27\", \"2020-03-31\", \"2020-04-05\", \"2020-04-07\", \"2020-04-08\", \"2020-05-12\", \"2020-05-14\", \"2020-05-18\", \"2020-05-24\", \"2020-05-27\", \"2020-05-28\", \"2020-05-30\", \"2020-06-01\", \"2020-06-03\", \"2020-06-05\", \"2020-06-06\", \"2020-06-09\", \"2020-06-11\", \"2020-06-12\", \"2020-06-13\", \"2020-06-17\", \"2020-06-18\", \"2020-06-19\", \"2020-06-20\", \"2020-06-23\", \"2020-06-27\"], \"xaxis\": \"x\", \"y\": [2, 3, 4, 9, 11, 12, 13, 15, 16, 17, 18, 19, 20, 22, 23, 24, 25, 26, 27, 29, 30, 32, 35, 38, 39, 40, 41, 42, 47, 48, 50, 53, 54, 56, 59, 60, 62], \"yaxis\": \"y\"}, {\"hoverlabel\": {\"namelength\": 0}, \"hovertemplate\": \"total_ads=\\uc11c\\uc6b8 \\ub3c4\\ubd09\\uad6c<br>confirmed_date=%{x}<br>cnt_sum=%{y}\", \"legendgroup\": \"total_ads=\\uc11c\\uc6b8 \\ub3c4\\ubd09\\uad6c\", \"line\": {\"color\": \"#00cc96\", \"dash\": \"solid\"}, \"mode\": \"lines\", \"name\": \"total_ads=\\uc11c\\uc6b8 \\ub3c4\\ubd09\\uad6c\", \"showlegend\": true, \"type\": \"scatter\", \"x\": [\"2020-03-02\", \"2020-03-14\", \"2020-03-22\", \"2020-03-24\", \"2020-03-27\", \"2020-03-29\", \"2020-04-03\", \"2020-04-08\", \"2020-04-12\", \"2020-05-09\", \"2020-05-11\", \"2020-05-12\", \"2020-05-14\", \"2020-05-19\", \"2020-05-20\", \"2020-05-25\", \"2020-05-26\", \"2020-05-29\", \"2020-06-03\", \"2020-06-04\", \"2020-06-05\", \"2020-06-10\", \"2020-06-11\", \"2020-06-12\", \"2020-06-14\", \"2020-06-15\", \"2020-06-16\", \"2020-06-17\", \"2020-06-18\", \"2020-06-19\", \"2020-06-20\", \"2020-06-21\", \"2020-06-23\", \"2020-06-24\"], \"xaxis\": \"x\", \"y\": [1, 2, 3, 4, 5, 6, 7, 8, 9, 10, 11, 12, 14, 15, 16, 17, 18, 19, 20, 21, 22, 23, 24, 36, 37, 38, 40, 51, 53, 55, 57, 58, 61, 62], \"yaxis\": \"y\"}, {\"hoverlabel\": {\"namelength\": 0}, \"hovertemplate\": \"total_ads=\\uc11c\\uc6b8 \\uac15\\ubd81\\uad6c<br>confirmed_date=%{x}<br>cnt_sum=%{y}\", \"legendgroup\": \"total_ads=\\uc11c\\uc6b8 \\uac15\\ubd81\\uad6c\", \"line\": {\"color\": \"#ab63fa\", \"dash\": \"solid\"}, \"mode\": \"lines\", \"name\": \"total_ads=\\uc11c\\uc6b8 \\uac15\\ubd81\\uad6c\", \"showlegend\": true, \"type\": \"scatter\", \"x\": [\"2020-03-04\", \"2020-03-05\", \"2020-03-06\", \"2020-03-12\", \"2020-05-10\", \"2020-05-11\", \"2020-05-13\", \"2020-05-19\", \"2020-05-23\", \"2020-05-24\", \"2020-05-27\", \"2020-05-28\", \"2020-06-02\", \"2020-06-03\", \"2020-06-05\", \"2020-06-06\", \"2020-06-07\", \"2020-06-12\", \"2020-06-13\", \"2020-06-18\"], \"xaxis\": \"x\", \"y\": [1, 2, 4, 5, 6, 7, 8, 9, 10, 12, 13, 14, 16, 17, 18, 19, 20, 22, 23, 24], \"yaxis\": \"y\"}, {\"hoverlabel\": {\"namelength\": 0}, \"hovertemplate\": \"total_ads=\\uc11c\\uc6b8 \\uc6a9\\uc0b0\\uad6c<br>confirmed_date=%{x}<br>cnt_sum=%{y}\", \"legendgroup\": \"total_ads=\\uc11c\\uc6b8 \\uc6a9\\uc0b0\\uad6c\", \"line\": {\"color\": \"#FFA15A\", \"dash\": \"solid\"}, \"mode\": \"lines\", \"name\": \"total_ads=\\uc11c\\uc6b8 \\uc6a9\\uc0b0\\uad6c\", \"showlegend\": true, \"type\": \"scatter\", \"x\": [\"2020-03-04\", \"2020-03-12\", \"2020-03-16\", \"2020-03-18\", \"2020-03-19\", \"2020-03-23\", \"2020-03-24\", \"2020-03-26\", \"2020-03-30\", \"2020-04-02\", \"2020-04-04\", \"2020-04-05\", \"2020-04-17\", \"2020-05-02\", \"2020-05-08\", \"2020-05-09\", \"2020-05-10\", \"2020-05-11\", \"2020-05-14\", \"2020-05-15\", \"2020-05-19\", \"2020-06-03\", \"2020-06-04\", \"2020-06-05\", \"2020-06-06\", \"2020-06-12\", \"2020-06-14\", \"2020-06-15\", \"2020-06-27\", \"2020-06-28\"], \"xaxis\": \"x\", \"y\": [1, 2, 3, 4, 5, 6, 7, 8, 12, 14, 15, 17, 18, 19, 23, 27, 30, 31, 33, 34, 38, 39, 40, 42, 44, 45, 46, 48, 49, 50], \"yaxis\": \"y\"}, {\"hoverlabel\": {\"namelength\": 0}, \"hovertemplate\": \"total_ads=\\uc11c\\uc6b8 \\uc911\\uad6c<br>confirmed_date=%{x}<br>cnt_sum=%{y}\", \"legendgroup\": \"total_ads=\\uc11c\\uc6b8 \\uc911\\uad6c\", \"line\": {\"color\": \"#19d3f3\", \"dash\": \"solid\"}, \"mode\": \"lines\", \"name\": \"total_ads=\\uc11c\\uc6b8 \\uc911\\uad6c\", \"showlegend\": true, \"type\": \"scatter\", \"x\": [\"2020-03-09\", \"2020-03-27\", \"2020-03-28\", \"2020-03-30\", \"2020-03-31\", \"2020-04-15\", \"2020-05-08\", \"2020-05-11\", \"2020-05-28\", \"2020-06-09\", \"2020-06-18\", \"2020-06-26\"], \"xaxis\": \"x\", \"y\": [1, 2, 3, 4, 5, 6, 7, 8, 9, 10, 11, 12], \"yaxis\": \"y\"}],\n",
              "                        {\"legend\": {\"tracegroupgap\": 0}, \"margin\": {\"t\": 60}, \"template\": {\"data\": {\"bar\": [{\"error_x\": {\"color\": \"#2a3f5f\"}, \"error_y\": {\"color\": \"#2a3f5f\"}, \"marker\": {\"line\": {\"color\": \"#E5ECF6\", \"width\": 0.5}}, \"type\": \"bar\"}], \"barpolar\": [{\"marker\": {\"line\": {\"color\": \"#E5ECF6\", \"width\": 0.5}}, \"type\": \"barpolar\"}], \"carpet\": [{\"aaxis\": {\"endlinecolor\": \"#2a3f5f\", \"gridcolor\": \"white\", \"linecolor\": \"white\", \"minorgridcolor\": \"white\", \"startlinecolor\": \"#2a3f5f\"}, \"baxis\": {\"endlinecolor\": \"#2a3f5f\", \"gridcolor\": \"white\", \"linecolor\": \"white\", \"minorgridcolor\": \"white\", \"startlinecolor\": \"#2a3f5f\"}, \"type\": \"carpet\"}], \"choropleth\": [{\"colorbar\": {\"outlinewidth\": 0, \"ticks\": \"\"}, \"type\": \"choropleth\"}], \"contour\": [{\"colorbar\": {\"outlinewidth\": 0, \"ticks\": \"\"}, \"colorscale\": [[0.0, \"#0d0887\"], [0.1111111111111111, \"#46039f\"], [0.2222222222222222, \"#7201a8\"], [0.3333333333333333, \"#9c179e\"], [0.4444444444444444, \"#bd3786\"], [0.5555555555555556, \"#d8576b\"], [0.6666666666666666, \"#ed7953\"], [0.7777777777777778, \"#fb9f3a\"], [0.8888888888888888, \"#fdca26\"], [1.0, \"#f0f921\"]], \"type\": \"contour\"}], \"contourcarpet\": [{\"colorbar\": {\"outlinewidth\": 0, \"ticks\": \"\"}, \"type\": \"contourcarpet\"}], \"heatmap\": [{\"colorbar\": {\"outlinewidth\": 0, \"ticks\": \"\"}, \"colorscale\": [[0.0, \"#0d0887\"], [0.1111111111111111, \"#46039f\"], [0.2222222222222222, \"#7201a8\"], [0.3333333333333333, \"#9c179e\"], [0.4444444444444444, \"#bd3786\"], [0.5555555555555556, \"#d8576b\"], [0.6666666666666666, \"#ed7953\"], [0.7777777777777778, \"#fb9f3a\"], [0.8888888888888888, \"#fdca26\"], [1.0, \"#f0f921\"]], \"type\": \"heatmap\"}], \"heatmapgl\": [{\"colorbar\": {\"outlinewidth\": 0, \"ticks\": \"\"}, \"colorscale\": [[0.0, \"#0d0887\"], [0.1111111111111111, \"#46039f\"], [0.2222222222222222, \"#7201a8\"], [0.3333333333333333, \"#9c179e\"], [0.4444444444444444, \"#bd3786\"], [0.5555555555555556, \"#d8576b\"], [0.6666666666666666, \"#ed7953\"], [0.7777777777777778, \"#fb9f3a\"], [0.8888888888888888, \"#fdca26\"], [1.0, \"#f0f921\"]], \"type\": \"heatmapgl\"}], \"histogram\": [{\"marker\": {\"colorbar\": {\"outlinewidth\": 0, \"ticks\": \"\"}}, \"type\": \"histogram\"}], \"histogram2d\": [{\"colorbar\": {\"outlinewidth\": 0, \"ticks\": \"\"}, \"colorscale\": [[0.0, \"#0d0887\"], [0.1111111111111111, \"#46039f\"], [0.2222222222222222, \"#7201a8\"], [0.3333333333333333, \"#9c179e\"], [0.4444444444444444, \"#bd3786\"], [0.5555555555555556, \"#d8576b\"], [0.6666666666666666, \"#ed7953\"], [0.7777777777777778, \"#fb9f3a\"], [0.8888888888888888, \"#fdca26\"], [1.0, \"#f0f921\"]], \"type\": \"histogram2d\"}], \"histogram2dcontour\": [{\"colorbar\": {\"outlinewidth\": 0, \"ticks\": \"\"}, \"colorscale\": [[0.0, \"#0d0887\"], [0.1111111111111111, \"#46039f\"], [0.2222222222222222, \"#7201a8\"], [0.3333333333333333, \"#9c179e\"], [0.4444444444444444, \"#bd3786\"], [0.5555555555555556, \"#d8576b\"], [0.6666666666666666, \"#ed7953\"], [0.7777777777777778, \"#fb9f3a\"], [0.8888888888888888, \"#fdca26\"], [1.0, \"#f0f921\"]], \"type\": \"histogram2dcontour\"}], \"mesh3d\": [{\"colorbar\": {\"outlinewidth\": 0, \"ticks\": \"\"}, \"type\": \"mesh3d\"}], \"parcoords\": [{\"line\": {\"colorbar\": {\"outlinewidth\": 0, \"ticks\": \"\"}}, \"type\": \"parcoords\"}], \"pie\": [{\"automargin\": true, \"type\": \"pie\"}], \"scatter\": [{\"marker\": {\"colorbar\": {\"outlinewidth\": 0, \"ticks\": \"\"}}, \"type\": \"scatter\"}], \"scatter3d\": [{\"line\": {\"colorbar\": {\"outlinewidth\": 0, \"ticks\": \"\"}}, \"marker\": {\"colorbar\": {\"outlinewidth\": 0, \"ticks\": \"\"}}, \"type\": \"scatter3d\"}], \"scattercarpet\": [{\"marker\": {\"colorbar\": {\"outlinewidth\": 0, \"ticks\": \"\"}}, \"type\": \"scattercarpet\"}], \"scattergeo\": [{\"marker\": {\"colorbar\": {\"outlinewidth\": 0, \"ticks\": \"\"}}, \"type\": \"scattergeo\"}], \"scattergl\": [{\"marker\": {\"colorbar\": {\"outlinewidth\": 0, \"ticks\": \"\"}}, \"type\": \"scattergl\"}], \"scattermapbox\": [{\"marker\": {\"colorbar\": {\"outlinewidth\": 0, \"ticks\": \"\"}}, \"type\": \"scattermapbox\"}], \"scatterpolar\": [{\"marker\": {\"colorbar\": {\"outlinewidth\": 0, \"ticks\": \"\"}}, \"type\": \"scatterpolar\"}], \"scatterpolargl\": [{\"marker\": {\"colorbar\": {\"outlinewidth\": 0, \"ticks\": \"\"}}, \"type\": \"scatterpolargl\"}], \"scatterternary\": [{\"marker\": {\"colorbar\": {\"outlinewidth\": 0, \"ticks\": \"\"}}, \"type\": \"scatterternary\"}], \"surface\": [{\"colorbar\": {\"outlinewidth\": 0, \"ticks\": \"\"}, \"colorscale\": [[0.0, \"#0d0887\"], [0.1111111111111111, \"#46039f\"], [0.2222222222222222, \"#7201a8\"], [0.3333333333333333, \"#9c179e\"], [0.4444444444444444, \"#bd3786\"], [0.5555555555555556, \"#d8576b\"], [0.6666666666666666, \"#ed7953\"], [0.7777777777777778, \"#fb9f3a\"], [0.8888888888888888, \"#fdca26\"], [1.0, \"#f0f921\"]], \"type\": \"surface\"}], \"table\": [{\"cells\": {\"fill\": {\"color\": \"#EBF0F8\"}, \"line\": {\"color\": \"white\"}}, \"header\": {\"fill\": {\"color\": \"#C8D4E3\"}, \"line\": {\"color\": \"white\"}}, \"type\": \"table\"}]}, \"layout\": {\"annotationdefaults\": {\"arrowcolor\": \"#2a3f5f\", \"arrowhead\": 0, \"arrowwidth\": 1}, \"coloraxis\": {\"colorbar\": {\"outlinewidth\": 0, \"ticks\": \"\"}}, \"colorscale\": {\"diverging\": [[0, \"#8e0152\"], [0.1, \"#c51b7d\"], [0.2, \"#de77ae\"], [0.3, \"#f1b6da\"], [0.4, \"#fde0ef\"], [0.5, \"#f7f7f7\"], [0.6, \"#e6f5d0\"], [0.7, \"#b8e186\"], [0.8, \"#7fbc41\"], [0.9, \"#4d9221\"], [1, \"#276419\"]], \"sequential\": [[0.0, \"#0d0887\"], [0.1111111111111111, \"#46039f\"], [0.2222222222222222, \"#7201a8\"], [0.3333333333333333, \"#9c179e\"], [0.4444444444444444, \"#bd3786\"], [0.5555555555555556, \"#d8576b\"], [0.6666666666666666, \"#ed7953\"], [0.7777777777777778, \"#fb9f3a\"], [0.8888888888888888, \"#fdca26\"], [1.0, \"#f0f921\"]], \"sequentialminus\": [[0.0, \"#0d0887\"], [0.1111111111111111, \"#46039f\"], [0.2222222222222222, \"#7201a8\"], [0.3333333333333333, \"#9c179e\"], [0.4444444444444444, \"#bd3786\"], [0.5555555555555556, \"#d8576b\"], [0.6666666666666666, \"#ed7953\"], [0.7777777777777778, \"#fb9f3a\"], [0.8888888888888888, \"#fdca26\"], [1.0, \"#f0f921\"]]}, \"colorway\": [\"#636efa\", \"#EF553B\", \"#00cc96\", \"#ab63fa\", \"#FFA15A\", \"#19d3f3\", \"#FF6692\", \"#B6E880\", \"#FF97FF\", \"#FECB52\"], \"font\": {\"color\": \"#2a3f5f\"}, \"geo\": {\"bgcolor\": \"white\", \"lakecolor\": \"white\", \"landcolor\": \"#E5ECF6\", \"showlakes\": true, \"showland\": true, \"subunitcolor\": \"white\"}, \"hoverlabel\": {\"align\": \"left\"}, \"hovermode\": \"closest\", \"mapbox\": {\"style\": \"light\"}, \"paper_bgcolor\": \"white\", \"plot_bgcolor\": \"#E5ECF6\", \"polar\": {\"angularaxis\": {\"gridcolor\": \"white\", \"linecolor\": \"white\", \"ticks\": \"\"}, \"bgcolor\": \"#E5ECF6\", \"radialaxis\": {\"gridcolor\": \"white\", \"linecolor\": \"white\", \"ticks\": \"\"}}, \"scene\": {\"xaxis\": {\"backgroundcolor\": \"#E5ECF6\", \"gridcolor\": \"white\", \"gridwidth\": 2, \"linecolor\": \"white\", \"showbackground\": true, \"ticks\": \"\", \"zerolinecolor\": \"white\"}, \"yaxis\": {\"backgroundcolor\": \"#E5ECF6\", \"gridcolor\": \"white\", \"gridwidth\": 2, \"linecolor\": \"white\", \"showbackground\": true, \"ticks\": \"\", \"zerolinecolor\": \"white\"}, \"zaxis\": {\"backgroundcolor\": \"#E5ECF6\", \"gridcolor\": \"white\", \"gridwidth\": 2, \"linecolor\": \"white\", \"showbackground\": true, \"ticks\": \"\", \"zerolinecolor\": \"white\"}}, \"shapedefaults\": {\"line\": {\"color\": \"#2a3f5f\"}}, \"ternary\": {\"aaxis\": {\"gridcolor\": \"white\", \"linecolor\": \"white\", \"ticks\": \"\"}, \"baxis\": {\"gridcolor\": \"white\", \"linecolor\": \"white\", \"ticks\": \"\"}, \"bgcolor\": \"#E5ECF6\", \"caxis\": {\"gridcolor\": \"white\", \"linecolor\": \"white\", \"ticks\": \"\"}}, \"title\": {\"x\": 0.05}, \"xaxis\": {\"automargin\": true, \"gridcolor\": \"white\", \"linecolor\": \"white\", \"ticks\": \"\", \"title\": {\"standoff\": 15}, \"zerolinecolor\": \"white\", \"zerolinewidth\": 2}, \"yaxis\": {\"automargin\": true, \"gridcolor\": \"white\", \"linecolor\": \"white\", \"ticks\": \"\", \"title\": {\"standoff\": 15}, \"zerolinecolor\": \"white\", \"zerolinewidth\": 2}}}, \"title\": {\"text\": \"\\uc9c0\\uc5ed\\ubcc4 \\ud655\\uc9c4\\uc790 \\ubcc0\\ud654(\\uc11c\\uc6b8 \\ud55c\\uc815)\", \"x\": 0.5, \"xanchor\": \"center\", \"y\": 1, \"yanchor\": \"top\"}, \"xaxis\": {\"anchor\": \"y\", \"domain\": [0.0, 1.0], \"title\": {\"text\": \"confirmed_date\"}}, \"yaxis\": {\"anchor\": \"x\", \"domain\": [0.0, 1.0], \"title\": {\"text\": \"cnt_sum\"}}},\n",
              "                        {\"responsive\": true}\n",
              "                    ).then(function(){\n",
              "                            \n",
              "var gd = document.getElementById('a4e8b847-877f-4d9c-bac8-e7216a1c5647');\n",
              "var x = new MutationObserver(function (mutations, observer) {{\n",
              "        var display = window.getComputedStyle(gd).display;\n",
              "        if (!display || display === 'none') {{\n",
              "            console.log([gd, 'removed!']);\n",
              "            Plotly.purge(gd);\n",
              "            observer.disconnect();\n",
              "        }}\n",
              "}});\n",
              "\n",
              "// Listen for the removal of the full notebook cells\n",
              "var notebookContainer = gd.closest('#notebook-container');\n",
              "if (notebookContainer) {{\n",
              "    x.observe(notebookContainer, {childList: true});\n",
              "}}\n",
              "\n",
              "// Listen for the clearing of the current output cell\n",
              "var outputEl = gd.closest('.output');\n",
              "if (outputEl) {{\n",
              "    x.observe(outputEl, {childList: true});\n",
              "}}\n",
              "\n",
              "                        })\n",
              "                };\n",
              "                \n",
              "            </script>\n",
              "        </div>\n",
              "</body>\n",
              "</html>"
            ]
          },
          "metadata": {
            "tags": []
          }
        }
      ]
    },
    {
      "cell_type": "markdown",
      "metadata": {
        "id": "i-tMtOND1lX_",
        "colab_type": "text"
      },
      "source": [
        "### 1월/2월초/2월말/3월초/3월말/4월초/4월말/5월초/5월말/6월초 나누기"
      ]
    },
    {
      "cell_type": "code",
      "metadata": {
        "id": "AU3v4pbt1jIg",
        "colab_type": "code",
        "colab": {
          "base_uri": "https://localhost:8080/",
          "height": 204
        },
        "outputId": "7428df1e-beca-4b17-abe3-aa0f73c24ec8"
      },
      "source": [
        "is_date=patient_seoul['confirmed_date']<'2020-02-01'\n",
        "patient_seoul_jan=patient_seoul[is_date]\n",
        "patient_seoul=patient_seoul.drop(patient_seoul[is_date].index)\n",
        "\n",
        "patient_seoul_jan['confirmed_date']='1월 말'\n",
        "patient_seoul_jan=patient_seoul_jan.groupby(['confirmed_date','total_ads'],as_index=False).cnt.sum()\n",
        "patient_seoul_jan"
      ],
      "execution_count": 18,
      "outputs": [
        {
          "output_type": "execute_result",
          "data": {
            "text/html": [
              "<div>\n",
              "<style scoped>\n",
              "    .dataframe tbody tr th:only-of-type {\n",
              "        vertical-align: middle;\n",
              "    }\n",
              "\n",
              "    .dataframe tbody tr th {\n",
              "        vertical-align: top;\n",
              "    }\n",
              "\n",
              "    .dataframe thead th {\n",
              "        text-align: right;\n",
              "    }\n",
              "</style>\n",
              "<table border=\"1\" class=\"dataframe\">\n",
              "  <thead>\n",
              "    <tr style=\"text-align: right;\">\n",
              "      <th></th>\n",
              "      <th>confirmed_date</th>\n",
              "      <th>total_ads</th>\n",
              "      <th>cnt</th>\n",
              "    </tr>\n",
              "  </thead>\n",
              "  <tbody>\n",
              "    <tr>\n",
              "      <th>0</th>\n",
              "      <td>1월 말</td>\n",
              "      <td>서울 강서구</td>\n",
              "      <td>1</td>\n",
              "    </tr>\n",
              "    <tr>\n",
              "      <th>1</th>\n",
              "      <td>1월 말</td>\n",
              "      <td>서울 마포구</td>\n",
              "      <td>1</td>\n",
              "    </tr>\n",
              "    <tr>\n",
              "      <th>2</th>\n",
              "      <td>1월 말</td>\n",
              "      <td>서울 성북구</td>\n",
              "      <td>1</td>\n",
              "    </tr>\n",
              "    <tr>\n",
              "      <th>3</th>\n",
              "      <td>1월 말</td>\n",
              "      <td>서울 종로구</td>\n",
              "      <td>3</td>\n",
              "    </tr>\n",
              "    <tr>\n",
              "      <th>4</th>\n",
              "      <td>1월 말</td>\n",
              "      <td>서울 중랑구</td>\n",
              "      <td>1</td>\n",
              "    </tr>\n",
              "  </tbody>\n",
              "</table>\n",
              "</div>"
            ],
            "text/plain": [
              "  confirmed_date total_ads  cnt\n",
              "0           1월 말    서울 강서구    1\n",
              "1           1월 말    서울 마포구    1\n",
              "2           1월 말    서울 성북구    1\n",
              "3           1월 말    서울 종로구    3\n",
              "4           1월 말    서울 중랑구    1"
            ]
          },
          "metadata": {
            "tags": []
          },
          "execution_count": 18
        }
      ]
    },
    {
      "cell_type": "code",
      "metadata": {
        "id": "Z1pqClXF2JPE",
        "colab_type": "code",
        "colab": {}
      },
      "source": [
        "#2월 초\n",
        "is_date_1=patient_seoul_1['confirmed_date']<'2020-02-15'\n",
        "patient_seoul_feb_1=patient_seoul[is_date_1]\n",
        "patient_seoul=patient_seoul.drop(patient_seoul[is_date].index)\n",
        "patient_seoul_feb_1['confirmed_date']='2월 초'\n",
        "patient_seoul_feb_1=patient_seoul_feb_1.groupby(['confirmed_date','total_ads'],as_index=False).cnt.sum()\n",
        "\n",
        "#2월 말\n",
        "is_date=patient_seoul['confirmed_date']<'2020-03-01'\n",
        "patient_seoul_feb_2=patient_seoul[is_date]\n",
        "patient_seoul=patient_seoul.drop(patient_seoul[is_date].index)\n",
        "patient_seoul_feb_2['confirmed_date']='2월 말'\n",
        "patient_seoul_feb_2=patient_seoul_feb_2.groupby(['confirmed_date','total_ads'],as_index=False).cnt.sum()\n",
        "\n",
        "#3월 초\n",
        "is_date=patient_seoul['confirmed_date']<'2020-03-16'\n",
        "patient_seoul_mar_1=patient_seoul[is_date]\n",
        "patient_seoul=patient_seoul.drop(patient_seoul[is_date].index)\n",
        "patient_seoul_mar_1['confirmed_date']='3월 초'\n",
        "patient_seoul_mar_1=patient_seoul_mar_1.groupby(['confirmed_date','total_ads'],as_index=False).cnt.sum()\n",
        "\n",
        "#3월 말\n",
        "is_date=patient_seoul['confirmed_date']<'2020-04-01'\n",
        "patient_seoul_mar_2=patient_seoul[is_date]\n",
        "patient_seoul=patient_seoul.drop(patient_seoul[is_date].index)\n",
        "patient_seoul_mar_2['confirmed_date']='3월 말'\n",
        "patient_seoul_mar_2=patient_seoul_mar_2.groupby(['confirmed_date','total_ads'],as_index=False).cnt.sum()\n",
        "\n",
        "#4월 초\n",
        "\n",
        "is_date=patient_seoul['confirmed_date']<'2020-04-16'\n",
        "patient_seoul_apr_1=patient_seoul[is_date]\n",
        "patient_seoul=patient_seoul.drop(patient_seoul[is_date].index)\n",
        "patient_seoul_apr_1['confirmed_date']='4월 초'\n",
        "patient_seoul_apr_1=patient_seoul_apr_1.groupby(['confirmed_date','total_ads'],as_index=False).cnt.sum()\n",
        "\n",
        "#4월 말\n",
        "is_date=patient_seoul['confirmed_date']<'2020-05-01'\n",
        "patient_seoul_apr_2=patient_seoul[is_date]\n",
        "patient_seoul=patient_seoul.drop(patient_seoul[is_date].index)\n",
        "patient_seoul_apr_2['confirmed_date']='4월 말'\n",
        "patient_seoul_apr_2=patient_seoul_apr_2.groupby(['confirmed_date','total_ads'],as_index=False).cnt.sum()\n",
        "\n"
      ],
      "execution_count": 20,
      "outputs": []
    },
    {
      "cell_type": "markdown",
      "metadata": {
        "id": "Qh4PIeYK4fQ2",
        "colab_type": "text"
      },
      "source": [
        "5월초/말, 6월초/말"
      ]
    },
    {
      "cell_type": "code",
      "metadata": {
        "id": "gKJgZ7zn4jIf",
        "colab_type": "code",
        "colab": {}
      },
      "source": [
        "#5월 초\n",
        "is_date=patient_seoul['confirmed_date']<'2020-05-16'\n",
        "patient_seoul_may_1=patient_seoul[is_date]\n",
        "patient_seoul=patient_seoul.drop(patient_seoul[is_date].index)\n",
        "patient_seoul_may_1['confirmed_date']='5월 초'\n",
        "patient_seoul_may_1=patient_seoul_may_1.groupby(['confirmed_date','total_ads'],as_index=False).cnt.sum()\n",
        "\n",
        "#5월 말\n",
        "is_date=patient_seoul['confirmed_date']<'2020-06-01'\n",
        "patient_seoul_may_2=patient_seoul[is_date]\n",
        "patient_seoul=patient_seoul.drop(patient_seoul[is_date].index)\n",
        "patient_seoul_may_2['confirmed_date']='3월 말'\n",
        "patient_seoul_may_2=patient_seoul_may_2.groupby(['confirmed_date','total_ads'],as_index=False).cnt.sum()\n",
        "\n",
        "#6월 초\n",
        "\n",
        "is_date=patient_seoul['confirmed_date']<'2020-06-16'\n",
        "patient_seoul_june_1=patient_seoul[is_date]\n",
        "patient_seoul=patient_seoul.drop(patient_seoul[is_date].index)\n",
        "patient_seoul_june_1['confirmed_date']='6월 초'\n",
        "patient_seoul_june_1=patient_seoul_june_1.groupby(['confirmed_date','total_ads'],as_index=False).cnt.sum()\n",
        "\n",
        "#6월 말\n",
        "is_date=patient_seoul['confirmed_date']<'2020-07-01'\n",
        "patient_seoul_june_2=patient_seoul[is_date]\n",
        "patient_seoul=patient_seoul.drop(patient_seoul[is_date].index)\n",
        "patient_seoul_june_2['confirmed_date']='6월 말'\n",
        "patient_seoul_june_2=patient_seoul_june_2.groupby(['confirmed_date','total_ads'],as_index=False).cnt.sum()\n"
      ],
      "execution_count": 23,
      "outputs": []
    },
    {
      "cell_type": "code",
      "metadata": {
        "id": "Rvk4Mrjl4P9P",
        "colab_type": "code",
        "colab": {}
      },
      "source": [
        "patient_seoul_ads=pd.concat([patient_seoul_jan,patient_seoul_feb_1,patient_seoul_feb_2,patient_seoul_mar_1,patient_seoul_mar_2,\n",
        "                             patient_seoul_apr_1,patient_seoul_apr_2,patient_seoul_may_1,patient_seoul_may_2,\n",
        "                             patient_seoul_june_1,patient_seoul_june_2],axis=0)"
      ],
      "execution_count": 25,
      "outputs": []
    },
    {
      "cell_type": "code",
      "metadata": {
        "id": "M8MxMy0D4a_l",
        "colab_type": "code",
        "colab": {}
      },
      "source": [
        "patient_seoul_ads['cnt_sum']=patient_seoul_ads.groupby('total_ads')['cnt'].cumsum()"
      ],
      "execution_count": 27,
      "outputs": []
    },
    {
      "cell_type": "code",
      "metadata": {
        "id": "zXOICjid7Ey0",
        "colab_type": "code",
        "colab": {
          "base_uri": "https://localhost:8080/",
          "height": 542
        },
        "outputId": "4ffbab7a-b428-4ed6-fe23-58e4926840e5"
      },
      "source": [
        "fig=px.line(patient_seoul_ads,x='confirmed_date',y='cnt_sum',color='total_ads')\n",
        "fig.update_layout(\n",
        "    title={\n",
        "        'text': \"지역별 확진자 변화(서울 한정)\",\n",
        "        'y':1,\n",
        "        'x':0.5,\n",
        "        'xanchor': 'center',\n",
        "        'yanchor': 'top'})\n",
        "fig.show()"
      ],
      "execution_count": 28,
      "outputs": [
        {
          "output_type": "display_data",
          "data": {
            "text/html": [
              "<html>\n",
              "<head><meta charset=\"utf-8\" /></head>\n",
              "<body>\n",
              "    <div>\n",
              "            <script src=\"https://cdnjs.cloudflare.com/ajax/libs/mathjax/2.7.5/MathJax.js?config=TeX-AMS-MML_SVG\"></script><script type=\"text/javascript\">if (window.MathJax) {MathJax.Hub.Config({SVG: {font: \"STIX-Web\"}});}</script>\n",
              "                <script type=\"text/javascript\">window.PlotlyConfig = {MathJaxConfig: 'local'};</script>\n",
              "        <script src=\"https://cdn.plot.ly/plotly-latest.min.js\"></script>    \n",
              "            <div id=\"b5594934-3abc-4ea8-ad05-d6aae58c83f2\" class=\"plotly-graph-div\" style=\"height:525px; width:100%;\"></div>\n",
              "            <script type=\"text/javascript\">\n",
              "                \n",
              "                    window.PLOTLYENV=window.PLOTLYENV || {};\n",
              "                    \n",
              "                if (document.getElementById(\"b5594934-3abc-4ea8-ad05-d6aae58c83f2\")) {\n",
              "                    Plotly.newPlot(\n",
              "                        'b5594934-3abc-4ea8-ad05-d6aae58c83f2',\n",
              "                        [{\"hoverlabel\": {\"namelength\": 0}, \"hovertemplate\": \"total_ads=\\uc11c\\uc6b8 \\uac15\\uc11c\\uad6c<br>confirmed_date=%{x}<br>cnt_sum=%{y}\", \"legendgroup\": \"total_ads=\\uc11c\\uc6b8 \\uac15\\uc11c\\uad6c\", \"line\": {\"color\": \"#636efa\", \"dash\": \"solid\"}, \"mode\": \"lines\", \"name\": \"total_ads=\\uc11c\\uc6b8 \\uac15\\uc11c\\uad6c\", \"showlegend\": true, \"type\": \"scatter\", \"x\": [\"1\\uc6d4 \\ub9d0\", \"2\\uc6d4 \\ub9d0\", \"3\\uc6d4 \\ucd08\", \"3\\uc6d4 \\ub9d0\", \"4\\uc6d4 \\ucd08\", \"4\\uc6d4 \\ub9d0\", \"6\\uc6d4 \\ucd08\", \"6\\uc6d4 \\ub9d0\"], \"xaxis\": \"x\", \"y\": [1, 2, 14, 22, 25, 26, 50, 59], \"yaxis\": \"y\"}, {\"hoverlabel\": {\"namelength\": 0}, \"hovertemplate\": \"total_ads=\\uc11c\\uc6b8 \\ub9c8\\ud3ec\\uad6c<br>confirmed_date=%{x}<br>cnt_sum=%{y}\", \"legendgroup\": \"total_ads=\\uc11c\\uc6b8 \\ub9c8\\ud3ec\\uad6c\", \"line\": {\"color\": \"#EF553B\", \"dash\": \"solid\"}, \"mode\": \"lines\", \"name\": \"total_ads=\\uc11c\\uc6b8 \\ub9c8\\ud3ec\\uad6c\", \"showlegend\": true, \"type\": \"scatter\", \"x\": [\"1\\uc6d4 \\ub9d0\", \"3\\uc6d4 \\ucd08\", \"3\\uc6d4 \\ub9d0\", \"4\\uc6d4 \\ucd08\", \"4\\uc6d4 \\ub9d0\", \"6\\uc6d4 \\ucd08\", \"6\\uc6d4 \\ub9d0\"], \"xaxis\": \"x\", \"y\": [1, 8, 17, 22, 24, 28, 35], \"yaxis\": \"y\"}, {\"hoverlabel\": {\"namelength\": 0}, \"hovertemplate\": \"total_ads=\\uc11c\\uc6b8 \\uc131\\ubd81\\uad6c<br>confirmed_date=%{x}<br>cnt_sum=%{y}\", \"legendgroup\": \"total_ads=\\uc11c\\uc6b8 \\uc131\\ubd81\\uad6c\", \"line\": {\"color\": \"#00cc96\", \"dash\": \"solid\"}, \"mode\": \"lines\", \"name\": \"total_ads=\\uc11c\\uc6b8 \\uc131\\ubd81\\uad6c\", \"showlegend\": true, \"type\": \"scatter\", \"x\": [\"1\\uc6d4 \\ub9d0\", \"2\\uc6d4 \\ucd08\", \"2\\uc6d4 \\ub9d0\", \"3\\uc6d4 \\ucd08\", \"3\\uc6d4 \\ub9d0\", \"4\\uc6d4 \\ucd08\", \"4\\uc6d4 \\ub9d0\", \"6\\uc6d4 \\ucd08\", \"6\\uc6d4 \\ub9d0\"], \"xaxis\": \"x\", \"y\": [1, 2, 3, 10, 16, 23, 25, 27, 29], \"yaxis\": \"y\"}, {\"hoverlabel\": {\"namelength\": 0}, \"hovertemplate\": \"total_ads=\\uc11c\\uc6b8 \\uc885\\ub85c\\uad6c<br>confirmed_date=%{x}<br>cnt_sum=%{y}\", \"legendgroup\": \"total_ads=\\uc11c\\uc6b8 \\uc885\\ub85c\\uad6c\", \"line\": {\"color\": \"#ab63fa\", \"dash\": \"solid\"}, \"mode\": \"lines\", \"name\": \"total_ads=\\uc11c\\uc6b8 \\uc885\\ub85c\\uad6c\", \"showlegend\": true, \"type\": \"scatter\", \"x\": [\"1\\uc6d4 \\ub9d0\", \"2\\uc6d4 \\ub9d0\", \"3\\uc6d4 \\ub9d0\", \"4\\uc6d4 \\ucd08\", \"6\\uc6d4 \\ucd08\", \"6\\uc6d4 \\ub9d0\"], \"xaxis\": \"x\", \"y\": [3, 11, 15, 16, 18, 19], \"yaxis\": \"y\"}, {\"hoverlabel\": {\"namelength\": 0}, \"hovertemplate\": \"total_ads=\\uc11c\\uc6b8 \\uc911\\ub791\\uad6c<br>confirmed_date=%{x}<br>cnt_sum=%{y}\", \"legendgroup\": \"total_ads=\\uc11c\\uc6b8 \\uc911\\ub791\\uad6c\", \"line\": {\"color\": \"#FFA15A\", \"dash\": \"solid\"}, \"mode\": \"lines\", \"name\": \"total_ads=\\uc11c\\uc6b8 \\uc911\\ub791\\uad6c\", \"showlegend\": true, \"type\": \"scatter\", \"x\": [\"1\\uc6d4 \\ub9d0\", \"3\\uc6d4 \\ucd08\", \"3\\uc6d4 \\ub9d0\", \"4\\uc6d4 \\ucd08\", \"6\\uc6d4 \\ucd08\", \"6\\uc6d4 \\ub9d0\"], \"xaxis\": \"x\", \"y\": [1, 5, 13, 16, 24, 30], \"yaxis\": \"y\"}, {\"hoverlabel\": {\"namelength\": 0}, \"hovertemplate\": \"total_ads=\\uc11c\\uc6b8 \\uae30\\ud0c0<br>confirmed_date=%{x}<br>cnt_sum=%{y}\", \"legendgroup\": \"total_ads=\\uc11c\\uc6b8 \\uae30\\ud0c0\", \"line\": {\"color\": \"#19d3f3\", \"dash\": \"solid\"}, \"mode\": \"lines\", \"name\": \"total_ads=\\uc11c\\uc6b8 \\uae30\\ud0c0\", \"showlegend\": true, \"type\": \"scatter\", \"x\": [\"2\\uc6d4 \\ucd08\", \"2\\uc6d4 \\ub9d0\", \"3\\uc6d4 \\ucd08\", \"3\\uc6d4 \\ub9d0\", \"4\\uc6d4 \\ucd08\", \"4\\uc6d4 \\ub9d0\", \"6\\uc6d4 \\ucd08\", \"6\\uc6d4 \\ub9d0\"], \"xaxis\": \"x\", \"y\": [2, 11, 19, 33, 43, 45, 59, 70], \"yaxis\": \"y\"}, {\"hoverlabel\": {\"namelength\": 0}, \"hovertemplate\": \"total_ads=\\uc11c\\uc6b8 \\uc11c\\ub300\\ubb38\\uad6c<br>confirmed_date=%{x}<br>cnt_sum=%{y}\", \"legendgroup\": \"total_ads=\\uc11c\\uc6b8 \\uc11c\\ub300\\ubb38\\uad6c\", \"line\": {\"color\": \"#FF6692\", \"dash\": \"solid\"}, \"mode\": \"lines\", \"name\": \"total_ads=\\uc11c\\uc6b8 \\uc11c\\ub300\\ubb38\\uad6c\", \"showlegend\": true, \"type\": \"scatter\", \"x\": [\"2\\uc6d4 \\ucd08\", \"2\\uc6d4 \\ub9d0\", \"3\\uc6d4 \\ucd08\", \"3\\uc6d4 \\ub9d0\", \"4\\uc6d4 \\ucd08\", \"4\\uc6d4 \\ub9d0\", \"6\\uc6d4 \\ucd08\", \"6\\uc6d4 \\ub9d0\"], \"xaxis\": \"x\", \"y\": [1, 5, 7, 15, 20, 21, 27, 29], \"yaxis\": \"y\"}, {\"hoverlabel\": {\"namelength\": 0}, \"hovertemplate\": \"total_ads=\\uc11c\\uc6b8 \\uc1a1\\ud30c\\uad6c<br>confirmed_date=%{x}<br>cnt_sum=%{y}\", \"legendgroup\": \"total_ads=\\uc11c\\uc6b8 \\uc1a1\\ud30c\\uad6c\", \"line\": {\"color\": \"#B6E880\", \"dash\": \"solid\"}, \"mode\": \"lines\", \"name\": \"total_ads=\\uc11c\\uc6b8 \\uc1a1\\ud30c\\uad6c\", \"showlegend\": true, \"type\": \"scatter\", \"x\": [\"2\\uc6d4 \\ucd08\", \"2\\uc6d4 \\ub9d0\", \"3\\uc6d4 \\ucd08\", \"3\\uc6d4 \\ub9d0\", \"4\\uc6d4 \\ucd08\", \"6\\uc6d4 \\ucd08\", \"6\\uc6d4 \\ub9d0\"], \"xaxis\": \"x\", \"y\": [1, 12, 16, 28, 38, 41, 45], \"yaxis\": \"y\"}, {\"hoverlabel\": {\"namelength\": 0}, \"hovertemplate\": \"total_ads=\\uc11c\\uc6b8 \\uac15\\ub0a8\\uad6c<br>confirmed_date=%{x}<br>cnt_sum=%{y}\", \"legendgroup\": \"total_ads=\\uc11c\\uc6b8 \\uac15\\ub0a8\\uad6c\", \"line\": {\"color\": \"#FF97FF\", \"dash\": \"solid\"}, \"mode\": \"lines\", \"name\": \"total_ads=\\uc11c\\uc6b8 \\uac15\\ub0a8\\uad6c\", \"showlegend\": true, \"type\": \"scatter\", \"x\": [\"2\\uc6d4 \\ub9d0\", \"3\\uc6d4 \\ucd08\", \"3\\uc6d4 \\ub9d0\", \"4\\uc6d4 \\ucd08\", \"4\\uc6d4 \\ub9d0\", \"6\\uc6d4 \\ucd08\", \"6\\uc6d4 \\ub9d0\"], \"xaxis\": \"x\", \"y\": [7, 14, 41, 59, 64, 67, 72], \"yaxis\": \"y\"}, {\"hoverlabel\": {\"namelength\": 0}, \"hovertemplate\": \"total_ads=\\uc11c\\uc6b8 \\uac15\\ub3d9\\uad6c<br>confirmed_date=%{x}<br>cnt_sum=%{y}\", \"legendgroup\": \"total_ads=\\uc11c\\uc6b8 \\uac15\\ub3d9\\uad6c\", \"line\": {\"color\": \"#FECB52\", \"dash\": \"solid\"}, \"mode\": \"lines\", \"name\": \"total_ads=\\uc11c\\uc6b8 \\uac15\\ub3d9\\uad6c\", \"showlegend\": true, \"type\": \"scatter\", \"x\": [\"2\\uc6d4 \\ub9d0\", \"3\\uc6d4 \\ucd08\", \"3\\uc6d4 \\ub9d0\", \"4\\uc6d4 \\ucd08\", \"6\\uc6d4 \\ucd08\", \"6\\uc6d4 \\ub9d0\"], \"xaxis\": \"x\", \"y\": [4, 5, 10, 13, 22, 24], \"yaxis\": \"y\"}, {\"hoverlabel\": {\"namelength\": 0}, \"hovertemplate\": \"total_ads=\\uc11c\\uc6b8 \\uad00\\uc545\\uad6c<br>confirmed_date=%{x}<br>cnt_sum=%{y}\", \"legendgroup\": \"total_ads=\\uc11c\\uc6b8 \\uad00\\uc545\\uad6c\", \"line\": {\"color\": \"#636efa\", \"dash\": \"solid\"}, \"mode\": \"lines\", \"name\": \"total_ads=\\uc11c\\uc6b8 \\uad00\\uc545\\uad6c\", \"showlegend\": true, \"type\": \"scatter\", \"x\": [\"2\\uc6d4 \\ub9d0\", \"3\\uc6d4 \\ucd08\", \"3\\uc6d4 \\ub9d0\", \"4\\uc6d4 \\ucd08\", \"4\\uc6d4 \\ub9d0\", \"6\\uc6d4 \\ucd08\", \"6\\uc6d4 \\ub9d0\"], \"xaxis\": \"x\", \"y\": [4, 15, 34, 42, 43, 61, 97], \"yaxis\": \"y\"}, {\"hoverlabel\": {\"namelength\": 0}, \"hovertemplate\": \"total_ads=\\uc11c\\uc6b8 \\uad11\\uc9c4\\uad6c<br>confirmed_date=%{x}<br>cnt_sum=%{y}\", \"legendgroup\": \"total_ads=\\uc11c\\uc6b8 \\uad11\\uc9c4\\uad6c\", \"line\": {\"color\": \"#EF553B\", \"dash\": \"solid\"}, \"mode\": \"lines\", \"name\": \"total_ads=\\uc11c\\uc6b8 \\uad11\\uc9c4\\uad6c\", \"showlegend\": true, \"type\": \"scatter\", \"x\": [\"2\\uc6d4 \\ub9d0\", \"3\\uc6d4 \\ucd08\", \"3\\uc6d4 \\ub9d0\", \"4\\uc6d4 \\ucd08\", \"6\\uc6d4 \\ucd08\", \"6\\uc6d4 \\ub9d0\"], \"xaxis\": \"x\", \"y\": [1, 2, 6, 8, 9, 11], \"yaxis\": \"y\"}, {\"hoverlabel\": {\"namelength\": 0}, \"hovertemplate\": \"total_ads=\\uc11c\\uc6b8 \\uad6c\\ub85c\\uad6c<br>confirmed_date=%{x}<br>cnt_sum=%{y}\", \"legendgroup\": \"total_ads=\\uc11c\\uc6b8 \\uad6c\\ub85c\\uad6c\", \"line\": {\"color\": \"#00cc96\", \"dash\": \"solid\"}, \"mode\": \"lines\", \"name\": \"total_ads=\\uc11c\\uc6b8 \\uad6c\\ub85c\\uad6c\", \"showlegend\": true, \"type\": \"scatter\", \"x\": [\"2\\uc6d4 \\ub9d0\", \"3\\uc6d4 \\ucd08\", \"3\\uc6d4 \\ub9d0\", \"4\\uc6d4 \\ucd08\", \"6\\uc6d4 \\ucd08\", \"6\\uc6d4 \\ub9d0\"], \"xaxis\": \"x\", \"y\": [1, 20, 33, 34, 68, 79], \"yaxis\": \"y\"}, {\"hoverlabel\": {\"namelength\": 0}, \"hovertemplate\": \"total_ads=\\uc11c\\uc6b8 \\uae08\\ucc9c\\uad6c<br>confirmed_date=%{x}<br>cnt_sum=%{y}\", \"legendgroup\": \"total_ads=\\uc11c\\uc6b8 \\uae08\\ucc9c\\uad6c\", \"line\": {\"color\": \"#ab63fa\", \"dash\": \"solid\"}, \"mode\": \"lines\", \"name\": \"total_ads=\\uc11c\\uc6b8 \\uae08\\ucc9c\\uad6c\", \"showlegend\": true, \"type\": \"scatter\", \"x\": [\"2\\uc6d4 \\ub9d0\", \"3\\uc6d4 \\ucd08\", \"3\\uc6d4 \\ub9d0\", \"6\\uc6d4 \\ucd08\", \"6\\uc6d4 \\ub9d0\"], \"xaxis\": \"x\", \"y\": [1, 5, 13, 27, 29], \"yaxis\": \"y\"}, {\"hoverlabel\": {\"namelength\": 0}, \"hovertemplate\": \"total_ads=\\uc11c\\uc6b8 \\ub178\\uc6d0\\uad6c<br>confirmed_date=%{x}<br>cnt_sum=%{y}\", \"legendgroup\": \"total_ads=\\uc11c\\uc6b8 \\ub178\\uc6d0\\uad6c\", \"line\": {\"color\": \"#FFA15A\", \"dash\": \"solid\"}, \"mode\": \"lines\", \"name\": \"total_ads=\\uc11c\\uc6b8 \\ub178\\uc6d0\\uad6c\", \"showlegend\": true, \"type\": \"scatter\", \"x\": [\"2\\uc6d4 \\ub9d0\", \"3\\uc6d4 \\ucd08\", \"3\\uc6d4 \\ub9d0\", \"4\\uc6d4 \\ucd08\", \"6\\uc6d4 \\ucd08\", \"6\\uc6d4 \\ub9d0\"], \"xaxis\": \"x\", \"y\": [8, 15, 20, 23, 29, 35], \"yaxis\": \"y\"}, {\"hoverlabel\": {\"namelength\": 0}, \"hovertemplate\": \"total_ads=\\uc11c\\uc6b8 \\ub3d9\\uad6c \\uad6c<br>confirmed_date=%{x}<br>cnt_sum=%{y}\", \"legendgroup\": \"total_ads=\\uc11c\\uc6b8 \\ub3d9\\uad6c \\uad6c\", \"line\": {\"color\": \"#19d3f3\", \"dash\": \"solid\"}, \"mode\": \"lines\", \"name\": \"total_ads=\\uc11c\\uc6b8 \\ub3d9\\uad6c \\uad6c\", \"showlegend\": true, \"type\": \"scatter\", \"x\": [\"2\\uc6d4 \\ub9d0\", \"3\\uc6d4 \\ucd08\", \"3\\uc6d4 \\ub9d0\", \"4\\uc6d4 \\ucd08\", \"6\\uc6d4 \\ucd08\", \"6\\uc6d4 \\ub9d0\"], \"xaxis\": \"x\", \"y\": [1, 6, 24, 31, 37, 44], \"yaxis\": \"y\"}, {\"hoverlabel\": {\"namelength\": 0}, \"hovertemplate\": \"total_ads=\\uc11c\\uc6b8 \\ub3d9\\ub300\\ubb38\\uad6c<br>confirmed_date=%{x}<br>cnt_sum=%{y}\", \"legendgroup\": \"total_ads=\\uc11c\\uc6b8 \\ub3d9\\ub300\\ubb38\\uad6c\", \"line\": {\"color\": \"#FF6692\", \"dash\": \"solid\"}, \"mode\": \"lines\", \"name\": \"total_ads=\\uc11c\\uc6b8 \\ub3d9\\ub300\\ubb38\\uad6c\", \"showlegend\": true, \"type\": \"scatter\", \"x\": [\"2\\uc6d4 \\ub9d0\", \"3\\uc6d4 \\ucd08\", \"3\\uc6d4 \\ub9d0\", \"4\\uc6d4 \\ucd08\", \"6\\uc6d4 \\ucd08\", \"6\\uc6d4 \\ub9d0\"], \"xaxis\": \"x\", \"y\": [1, 22, 26, 31, 32, 35], \"yaxis\": \"y\"}, {\"hoverlabel\": {\"namelength\": 0}, \"hovertemplate\": \"total_ads=\\uc11c\\uc6b8 \\uc11c\\ucd08\\uad6c<br>confirmed_date=%{x}<br>cnt_sum=%{y}\", \"legendgroup\": \"total_ads=\\uc11c\\uc6b8 \\uc11c\\ucd08\\uad6c\", \"line\": {\"color\": \"#B6E880\", \"dash\": \"solid\"}, \"mode\": \"lines\", \"name\": \"total_ads=\\uc11c\\uc6b8 \\uc11c\\ucd08\\uad6c\", \"showlegend\": true, \"type\": \"scatter\", \"x\": [\"2\\uc6d4 \\ub9d0\", \"3\\uc6d4 \\ucd08\", \"3\\uc6d4 \\ub9d0\", \"4\\uc6d4 \\ucd08\", \"6\\uc6d4 \\ucd08\", \"6\\uc6d4 \\ub9d0\"], \"xaxis\": \"x\", \"y\": [4, 9, 24, 37, 44, 51], \"yaxis\": \"y\"}, {\"hoverlabel\": {\"namelength\": 0}, \"hovertemplate\": \"total_ads=\\uc11c\\uc6b8 \\uc131\\ub3d9\\uad6c<br>confirmed_date=%{x}<br>cnt_sum=%{y}\", \"legendgroup\": \"total_ads=\\uc11c\\uc6b8 \\uc131\\ub3d9\\uad6c\", \"line\": {\"color\": \"#FF97FF\", \"dash\": \"solid\"}, \"mode\": \"lines\", \"name\": \"total_ads=\\uc11c\\uc6b8 \\uc131\\ub3d9\\uad6c\", \"showlegend\": true, \"type\": \"scatter\", \"x\": [\"2\\uc6d4 \\ub9d0\", \"3\\uc6d4 \\ub9d0\", \"4\\uc6d4 \\ucd08\", \"6\\uc6d4 \\ucd08\", \"6\\uc6d4 \\ub9d0\"], \"xaxis\": \"x\", \"y\": [3, 6, 19, 26, 28], \"yaxis\": \"y\"}, {\"hoverlabel\": {\"namelength\": 0}, \"hovertemplate\": \"total_ads=\\uc11c\\uc6b8 \\uc591\\ucc9c\\uad6c<br>confirmed_date=%{x}<br>cnt_sum=%{y}\", \"legendgroup\": \"total_ads=\\uc11c\\uc6b8 \\uc591\\ucc9c\\uad6c\", \"line\": {\"color\": \"#FECB52\", \"dash\": \"solid\"}, \"mode\": \"lines\", \"name\": \"total_ads=\\uc11c\\uc6b8 \\uc591\\ucc9c\\uad6c\", \"showlegend\": true, \"type\": \"scatter\", \"x\": [\"2\\uc6d4 \\ub9d0\", \"3\\uc6d4 \\ucd08\", \"3\\uc6d4 \\ub9d0\", \"4\\uc6d4 \\ucd08\", \"6\\uc6d4 \\ucd08\", \"6\\uc6d4 \\ub9d0\"], \"xaxis\": \"x\", \"y\": [1, 14, 18, 22, 60, 65], \"yaxis\": \"y\"}, {\"hoverlabel\": {\"namelength\": 0}, \"hovertemplate\": \"total_ads=\\uc11c\\uc6b8 \\uc601\\ub4f1\\ud3ec\\uad6c<br>confirmed_date=%{x}<br>cnt_sum=%{y}\", \"legendgroup\": \"total_ads=\\uc11c\\uc6b8 \\uc601\\ub4f1\\ud3ec\\uad6c\", \"line\": {\"color\": \"#636efa\", \"dash\": \"solid\"}, \"mode\": \"lines\", \"name\": \"total_ads=\\uc11c\\uc6b8 \\uc601\\ub4f1\\ud3ec\\uad6c\", \"showlegend\": true, \"type\": \"scatter\", \"x\": [\"2\\uc6d4 \\ub9d0\", \"3\\uc6d4 \\ucd08\", \"3\\uc6d4 \\ub9d0\", \"4\\uc6d4 \\ucd08\", \"6\\uc6d4 \\ucd08\", \"6\\uc6d4 \\ub9d0\"], \"xaxis\": \"x\", \"y\": [2, 12, 20, 24, 39, 51], \"yaxis\": \"y\"}, {\"hoverlabel\": {\"namelength\": 0}, \"hovertemplate\": \"total_ads=\\uc11c\\uc6b8 \\uc740\\ud3c9\\uad6c<br>confirmed_date=%{x}<br>cnt_sum=%{y}\", \"legendgroup\": \"total_ads=\\uc11c\\uc6b8 \\uc740\\ud3c9\\uad6c\", \"line\": {\"color\": \"#EF553B\", \"dash\": \"solid\"}, \"mode\": \"lines\", \"name\": \"total_ads=\\uc11c\\uc6b8 \\uc740\\ud3c9\\uad6c\", \"showlegend\": true, \"type\": \"scatter\", \"x\": [\"2\\uc6d4 \\ub9d0\", \"3\\uc6d4 \\ucd08\", \"3\\uc6d4 \\ub9d0\", \"4\\uc6d4 \\ucd08\", \"6\\uc6d4 \\ucd08\", \"6\\uc6d4 \\ub9d0\"], \"xaxis\": \"x\", \"y\": [7, 17, 21, 28, 37, 46], \"yaxis\": \"y\"}, {\"hoverlabel\": {\"namelength\": 0}, \"hovertemplate\": \"total_ads=\\uc11c\\uc6b8 \\uac15\\ubd81\\uad6c<br>confirmed_date=%{x}<br>cnt_sum=%{y}\", \"legendgroup\": \"total_ads=\\uc11c\\uc6b8 \\uac15\\ubd81\\uad6c\", \"line\": {\"color\": \"#00cc96\", \"dash\": \"solid\"}, \"mode\": \"lines\", \"name\": \"total_ads=\\uc11c\\uc6b8 \\uac15\\ubd81\\uad6c\", \"showlegend\": true, \"type\": \"scatter\", \"x\": [\"3\\uc6d4 \\ucd08\", \"6\\uc6d4 \\ucd08\", \"6\\uc6d4 \\ub9d0\"], \"xaxis\": \"x\", \"y\": [5, 14, 15], \"yaxis\": \"y\"}, {\"hoverlabel\": {\"namelength\": 0}, \"hovertemplate\": \"total_ads=\\uc11c\\uc6b8 \\ub3c4\\ubd09\\uad6c<br>confirmed_date=%{x}<br>cnt_sum=%{y}\", \"legendgroup\": \"total_ads=\\uc11c\\uc6b8 \\ub3c4\\ubd09\\uad6c\", \"line\": {\"color\": \"#ab63fa\", \"dash\": \"solid\"}, \"mode\": \"lines\", \"name\": \"total_ads=\\uc11c\\uc6b8 \\ub3c4\\ubd09\\uad6c\", \"showlegend\": true, \"type\": \"scatter\", \"x\": [\"3\\uc6d4 \\ucd08\", \"3\\uc6d4 \\ub9d0\", \"4\\uc6d4 \\ucd08\", \"6\\uc6d4 \\ucd08\", \"6\\uc6d4 \\ub9d0\"], \"xaxis\": \"x\", \"y\": [2, 6, 9, 28, 52], \"yaxis\": \"y\"}, {\"hoverlabel\": {\"namelength\": 0}, \"hovertemplate\": \"total_ads=\\uc11c\\uc6b8 \\uc6a9\\uc0b0\\uad6c<br>confirmed_date=%{x}<br>cnt_sum=%{y}\", \"legendgroup\": \"total_ads=\\uc11c\\uc6b8 \\uc6a9\\uc0b0\\uad6c\", \"line\": {\"color\": \"#FFA15A\", \"dash\": \"solid\"}, \"mode\": \"lines\", \"name\": \"total_ads=\\uc11c\\uc6b8 \\uc6a9\\uc0b0\\uad6c\", \"showlegend\": true, \"type\": \"scatter\", \"x\": [\"3\\uc6d4 \\ucd08\", \"3\\uc6d4 \\ub9d0\", \"4\\uc6d4 \\ucd08\", \"4\\uc6d4 \\ub9d0\", \"6\\uc6d4 \\ucd08\", \"6\\uc6d4 \\ub9d0\"], \"xaxis\": \"x\", \"y\": [2, 12, 17, 18, 28, 30], \"yaxis\": \"y\"}, {\"hoverlabel\": {\"namelength\": 0}, \"hovertemplate\": \"total_ads=\\uc11c\\uc6b8 \\uc911\\uad6c<br>confirmed_date=%{x}<br>cnt_sum=%{y}\", \"legendgroup\": \"total_ads=\\uc11c\\uc6b8 \\uc911\\uad6c\", \"line\": {\"color\": \"#19d3f3\", \"dash\": \"solid\"}, \"mode\": \"lines\", \"name\": \"total_ads=\\uc11c\\uc6b8 \\uc911\\uad6c\", \"showlegend\": true, \"type\": \"scatter\", \"x\": [\"3\\uc6d4 \\ucd08\", \"3\\uc6d4 \\ub9d0\", \"4\\uc6d4 \\ucd08\", \"6\\uc6d4 \\ucd08\", \"6\\uc6d4 \\ub9d0\"], \"xaxis\": \"x\", \"y\": [1, 5, 6, 7, 9], \"yaxis\": \"y\"}],\n",
              "                        {\"legend\": {\"tracegroupgap\": 0}, \"margin\": {\"t\": 60}, \"template\": {\"data\": {\"bar\": [{\"error_x\": {\"color\": \"#2a3f5f\"}, \"error_y\": {\"color\": \"#2a3f5f\"}, \"marker\": {\"line\": {\"color\": \"#E5ECF6\", \"width\": 0.5}}, \"type\": \"bar\"}], \"barpolar\": [{\"marker\": {\"line\": {\"color\": \"#E5ECF6\", \"width\": 0.5}}, \"type\": \"barpolar\"}], \"carpet\": [{\"aaxis\": {\"endlinecolor\": \"#2a3f5f\", \"gridcolor\": \"white\", \"linecolor\": \"white\", \"minorgridcolor\": \"white\", \"startlinecolor\": \"#2a3f5f\"}, \"baxis\": {\"endlinecolor\": \"#2a3f5f\", \"gridcolor\": \"white\", \"linecolor\": \"white\", \"minorgridcolor\": \"white\", \"startlinecolor\": \"#2a3f5f\"}, \"type\": \"carpet\"}], \"choropleth\": [{\"colorbar\": {\"outlinewidth\": 0, \"ticks\": \"\"}, \"type\": \"choropleth\"}], \"contour\": [{\"colorbar\": {\"outlinewidth\": 0, \"ticks\": \"\"}, \"colorscale\": [[0.0, \"#0d0887\"], [0.1111111111111111, \"#46039f\"], [0.2222222222222222, \"#7201a8\"], [0.3333333333333333, \"#9c179e\"], [0.4444444444444444, \"#bd3786\"], [0.5555555555555556, \"#d8576b\"], [0.6666666666666666, \"#ed7953\"], [0.7777777777777778, \"#fb9f3a\"], [0.8888888888888888, \"#fdca26\"], [1.0, \"#f0f921\"]], \"type\": \"contour\"}], \"contourcarpet\": [{\"colorbar\": {\"outlinewidth\": 0, \"ticks\": \"\"}, \"type\": \"contourcarpet\"}], \"heatmap\": [{\"colorbar\": {\"outlinewidth\": 0, \"ticks\": \"\"}, \"colorscale\": [[0.0, \"#0d0887\"], [0.1111111111111111, \"#46039f\"], [0.2222222222222222, \"#7201a8\"], [0.3333333333333333, \"#9c179e\"], [0.4444444444444444, \"#bd3786\"], [0.5555555555555556, \"#d8576b\"], [0.6666666666666666, \"#ed7953\"], [0.7777777777777778, \"#fb9f3a\"], [0.8888888888888888, \"#fdca26\"], [1.0, \"#f0f921\"]], \"type\": \"heatmap\"}], \"heatmapgl\": [{\"colorbar\": {\"outlinewidth\": 0, \"ticks\": \"\"}, \"colorscale\": [[0.0, \"#0d0887\"], [0.1111111111111111, \"#46039f\"], [0.2222222222222222, \"#7201a8\"], [0.3333333333333333, \"#9c179e\"], [0.4444444444444444, \"#bd3786\"], [0.5555555555555556, \"#d8576b\"], [0.6666666666666666, \"#ed7953\"], [0.7777777777777778, \"#fb9f3a\"], [0.8888888888888888, \"#fdca26\"], [1.0, \"#f0f921\"]], \"type\": \"heatmapgl\"}], \"histogram\": [{\"marker\": {\"colorbar\": {\"outlinewidth\": 0, \"ticks\": \"\"}}, \"type\": \"histogram\"}], \"histogram2d\": [{\"colorbar\": {\"outlinewidth\": 0, \"ticks\": \"\"}, \"colorscale\": [[0.0, \"#0d0887\"], [0.1111111111111111, \"#46039f\"], [0.2222222222222222, \"#7201a8\"], [0.3333333333333333, \"#9c179e\"], [0.4444444444444444, \"#bd3786\"], [0.5555555555555556, \"#d8576b\"], [0.6666666666666666, \"#ed7953\"], [0.7777777777777778, \"#fb9f3a\"], [0.8888888888888888, \"#fdca26\"], [1.0, \"#f0f921\"]], \"type\": \"histogram2d\"}], \"histogram2dcontour\": [{\"colorbar\": {\"outlinewidth\": 0, \"ticks\": \"\"}, \"colorscale\": [[0.0, \"#0d0887\"], [0.1111111111111111, \"#46039f\"], [0.2222222222222222, \"#7201a8\"], [0.3333333333333333, \"#9c179e\"], [0.4444444444444444, \"#bd3786\"], [0.5555555555555556, \"#d8576b\"], [0.6666666666666666, \"#ed7953\"], [0.7777777777777778, \"#fb9f3a\"], [0.8888888888888888, \"#fdca26\"], [1.0, \"#f0f921\"]], \"type\": \"histogram2dcontour\"}], \"mesh3d\": [{\"colorbar\": {\"outlinewidth\": 0, \"ticks\": \"\"}, \"type\": \"mesh3d\"}], \"parcoords\": [{\"line\": {\"colorbar\": {\"outlinewidth\": 0, \"ticks\": \"\"}}, \"type\": \"parcoords\"}], \"pie\": [{\"automargin\": true, \"type\": \"pie\"}], \"scatter\": [{\"marker\": {\"colorbar\": {\"outlinewidth\": 0, \"ticks\": \"\"}}, \"type\": \"scatter\"}], \"scatter3d\": [{\"line\": {\"colorbar\": {\"outlinewidth\": 0, \"ticks\": \"\"}}, \"marker\": {\"colorbar\": {\"outlinewidth\": 0, \"ticks\": \"\"}}, \"type\": \"scatter3d\"}], \"scattercarpet\": [{\"marker\": {\"colorbar\": {\"outlinewidth\": 0, \"ticks\": \"\"}}, \"type\": \"scattercarpet\"}], \"scattergeo\": [{\"marker\": {\"colorbar\": {\"outlinewidth\": 0, \"ticks\": \"\"}}, \"type\": \"scattergeo\"}], \"scattergl\": [{\"marker\": {\"colorbar\": {\"outlinewidth\": 0, \"ticks\": \"\"}}, \"type\": \"scattergl\"}], \"scattermapbox\": [{\"marker\": {\"colorbar\": {\"outlinewidth\": 0, \"ticks\": \"\"}}, \"type\": \"scattermapbox\"}], \"scatterpolar\": [{\"marker\": {\"colorbar\": {\"outlinewidth\": 0, \"ticks\": \"\"}}, \"type\": \"scatterpolar\"}], \"scatterpolargl\": [{\"marker\": {\"colorbar\": {\"outlinewidth\": 0, \"ticks\": \"\"}}, \"type\": \"scatterpolargl\"}], \"scatterternary\": [{\"marker\": {\"colorbar\": {\"outlinewidth\": 0, \"ticks\": \"\"}}, \"type\": \"scatterternary\"}], \"surface\": [{\"colorbar\": {\"outlinewidth\": 0, \"ticks\": \"\"}, \"colorscale\": [[0.0, \"#0d0887\"], [0.1111111111111111, \"#46039f\"], [0.2222222222222222, \"#7201a8\"], [0.3333333333333333, \"#9c179e\"], [0.4444444444444444, \"#bd3786\"], [0.5555555555555556, \"#d8576b\"], [0.6666666666666666, \"#ed7953\"], [0.7777777777777778, \"#fb9f3a\"], [0.8888888888888888, \"#fdca26\"], [1.0, \"#f0f921\"]], \"type\": \"surface\"}], \"table\": [{\"cells\": {\"fill\": {\"color\": \"#EBF0F8\"}, \"line\": {\"color\": \"white\"}}, \"header\": {\"fill\": {\"color\": \"#C8D4E3\"}, \"line\": {\"color\": \"white\"}}, \"type\": \"table\"}]}, \"layout\": {\"annotationdefaults\": {\"arrowcolor\": \"#2a3f5f\", \"arrowhead\": 0, \"arrowwidth\": 1}, \"coloraxis\": {\"colorbar\": {\"outlinewidth\": 0, \"ticks\": \"\"}}, \"colorscale\": {\"diverging\": [[0, \"#8e0152\"], [0.1, \"#c51b7d\"], [0.2, \"#de77ae\"], [0.3, \"#f1b6da\"], [0.4, \"#fde0ef\"], [0.5, \"#f7f7f7\"], [0.6, \"#e6f5d0\"], [0.7, \"#b8e186\"], [0.8, \"#7fbc41\"], [0.9, \"#4d9221\"], [1, \"#276419\"]], \"sequential\": [[0.0, \"#0d0887\"], [0.1111111111111111, \"#46039f\"], [0.2222222222222222, \"#7201a8\"], [0.3333333333333333, \"#9c179e\"], [0.4444444444444444, \"#bd3786\"], [0.5555555555555556, \"#d8576b\"], [0.6666666666666666, \"#ed7953\"], [0.7777777777777778, \"#fb9f3a\"], [0.8888888888888888, \"#fdca26\"], [1.0, \"#f0f921\"]], \"sequentialminus\": [[0.0, \"#0d0887\"], [0.1111111111111111, \"#46039f\"], [0.2222222222222222, \"#7201a8\"], [0.3333333333333333, \"#9c179e\"], [0.4444444444444444, \"#bd3786\"], [0.5555555555555556, \"#d8576b\"], [0.6666666666666666, \"#ed7953\"], [0.7777777777777778, \"#fb9f3a\"], [0.8888888888888888, \"#fdca26\"], [1.0, \"#f0f921\"]]}, \"colorway\": [\"#636efa\", \"#EF553B\", \"#00cc96\", \"#ab63fa\", \"#FFA15A\", \"#19d3f3\", \"#FF6692\", \"#B6E880\", \"#FF97FF\", \"#FECB52\"], \"font\": {\"color\": \"#2a3f5f\"}, \"geo\": {\"bgcolor\": \"white\", \"lakecolor\": \"white\", \"landcolor\": \"#E5ECF6\", \"showlakes\": true, \"showland\": true, \"subunitcolor\": \"white\"}, \"hoverlabel\": {\"align\": \"left\"}, \"hovermode\": \"closest\", \"mapbox\": {\"style\": \"light\"}, \"paper_bgcolor\": \"white\", \"plot_bgcolor\": \"#E5ECF6\", \"polar\": {\"angularaxis\": {\"gridcolor\": \"white\", \"linecolor\": \"white\", \"ticks\": \"\"}, \"bgcolor\": \"#E5ECF6\", \"radialaxis\": {\"gridcolor\": \"white\", \"linecolor\": \"white\", \"ticks\": \"\"}}, \"scene\": {\"xaxis\": {\"backgroundcolor\": \"#E5ECF6\", \"gridcolor\": \"white\", \"gridwidth\": 2, \"linecolor\": \"white\", \"showbackground\": true, \"ticks\": \"\", \"zerolinecolor\": \"white\"}, \"yaxis\": {\"backgroundcolor\": \"#E5ECF6\", \"gridcolor\": \"white\", \"gridwidth\": 2, \"linecolor\": \"white\", \"showbackground\": true, \"ticks\": \"\", \"zerolinecolor\": \"white\"}, \"zaxis\": {\"backgroundcolor\": \"#E5ECF6\", \"gridcolor\": \"white\", \"gridwidth\": 2, \"linecolor\": \"white\", \"showbackground\": true, \"ticks\": \"\", \"zerolinecolor\": \"white\"}}, \"shapedefaults\": {\"line\": {\"color\": \"#2a3f5f\"}}, \"ternary\": {\"aaxis\": {\"gridcolor\": \"white\", \"linecolor\": \"white\", \"ticks\": \"\"}, \"baxis\": {\"gridcolor\": \"white\", \"linecolor\": \"white\", \"ticks\": \"\"}, \"bgcolor\": \"#E5ECF6\", \"caxis\": {\"gridcolor\": \"white\", \"linecolor\": \"white\", \"ticks\": \"\"}}, \"title\": {\"x\": 0.05}, \"xaxis\": {\"automargin\": true, \"gridcolor\": \"white\", \"linecolor\": \"white\", \"ticks\": \"\", \"title\": {\"standoff\": 15}, \"zerolinecolor\": \"white\", \"zerolinewidth\": 2}, \"yaxis\": {\"automargin\": true, \"gridcolor\": \"white\", \"linecolor\": \"white\", \"ticks\": \"\", \"title\": {\"standoff\": 15}, \"zerolinecolor\": \"white\", \"zerolinewidth\": 2}}}, \"title\": {\"text\": \"\\uc9c0\\uc5ed\\ubcc4 \\ud655\\uc9c4\\uc790 \\ubcc0\\ud654(\\uc11c\\uc6b8 \\ud55c\\uc815)\", \"x\": 0.5, \"xanchor\": \"center\", \"y\": 1, \"yanchor\": \"top\"}, \"xaxis\": {\"anchor\": \"y\", \"domain\": [0.0, 1.0], \"title\": {\"text\": \"confirmed_date\"}}, \"yaxis\": {\"anchor\": \"x\", \"domain\": [0.0, 1.0], \"title\": {\"text\": \"cnt_sum\"}}},\n",
              "                        {\"responsive\": true}\n",
              "                    ).then(function(){\n",
              "                            \n",
              "var gd = document.getElementById('b5594934-3abc-4ea8-ad05-d6aae58c83f2');\n",
              "var x = new MutationObserver(function (mutations, observer) {{\n",
              "        var display = window.getComputedStyle(gd).display;\n",
              "        if (!display || display === 'none') {{\n",
              "            console.log([gd, 'removed!']);\n",
              "            Plotly.purge(gd);\n",
              "            observer.disconnect();\n",
              "        }}\n",
              "}});\n",
              "\n",
              "// Listen for the removal of the full notebook cells\n",
              "var notebookContainer = gd.closest('#notebook-container');\n",
              "if (notebookContainer) {{\n",
              "    x.observe(notebookContainer, {childList: true});\n",
              "}}\n",
              "\n",
              "// Listen for the clearing of the current output cell\n",
              "var outputEl = gd.closest('.output');\n",
              "if (outputEl) {{\n",
              "    x.observe(outputEl, {childList: true});\n",
              "}}\n",
              "\n",
              "                        })\n",
              "                };\n",
              "                \n",
              "            </script>\n",
              "        </div>\n",
              "</body>\n",
              "</html>"
            ]
          },
          "metadata": {
            "tags": []
          }
        }
      ]
    },
    {
      "cell_type": "code",
      "metadata": {
        "id": "Dr55CssP7cfJ",
        "colab_type": "code",
        "colab": {}
      },
      "source": [
        ""
      ],
      "execution_count": null,
      "outputs": []
    }
  ]
}