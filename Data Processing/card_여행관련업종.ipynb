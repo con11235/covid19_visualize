{
 "cells": [
  {
   "cell_type": "markdown",
   "metadata": {},
   "source": [
    "# card data 시각화\n",
    "## 기간에 따른 card data 변화"
   ]
  },
  {
   "cell_type": "code",
   "execution_count": 23,
   "metadata": {},
   "outputs": [],
   "source": [
    "import matplotlib.pyplot as plt \n",
    "import matplotlib.font_manager as fm\n",
    "\n",
    "plt.rcParams[\"font.family\"] = 'NanumGothic'\n",
    "plt.rcParams[\"font.size\"] = 15\n",
    "plt.rcParams[\"figure.figsize\"] = (14,4)"
   ]
  },
  {
   "cell_type": "code",
   "execution_count": 24,
   "metadata": {},
   "outputs": [],
   "source": [
    "import pandas as pd\n",
    "import numpy as np\n",
    "import matplotlib.pyplot as plt\n",
    "import seaborn as sns\n",
    "\n",
    "import warnings\n",
    "warnings.filterwarnings(\"ignore\")\n",
    "\n",
    "\n",
    "path = '/Library/Fonts/NanumBarunpenRegular.otf'\n",
    "fontprop = fm.FontProperties(fname=path, size=18)"
   ]
  },
  {
   "cell_type": "code",
   "execution_count": 25,
   "metadata": {},
   "outputs": [
    {
     "data": {
      "text/html": [
       "<div>\n",
       "<style scoped>\n",
       "    .dataframe tbody tr th:only-of-type {\n",
       "        vertical-align: middle;\n",
       "    }\n",
       "\n",
       "    .dataframe tbody tr th {\n",
       "        vertical-align: top;\n",
       "    }\n",
       "\n",
       "    .dataframe thead th {\n",
       "        text-align: right;\n",
       "    }\n",
       "</style>\n",
       "<table border=\"1\" class=\"dataframe\">\n",
       "  <thead>\n",
       "    <tr style=\"text-align: right;\">\n",
       "      <th></th>\n",
       "      <th>receipt_dttm</th>\n",
       "      <th>adstrd_code</th>\n",
       "      <th>adstrd_nm</th>\n",
       "      <th>mrhst_induty_cl_code</th>\n",
       "      <th>mrhst_induty_cl_nm</th>\n",
       "      <th>selng_cascnt</th>\n",
       "      <th>salamt</th>\n",
       "    </tr>\n",
       "  </thead>\n",
       "  <tbody>\n",
       "    <tr>\n",
       "      <th>0</th>\n",
       "      <td>20200104</td>\n",
       "      <td>1174066000</td>\n",
       "      <td>성내3동</td>\n",
       "      <td>7041</td>\n",
       "      <td>약국</td>\n",
       "      <td>463</td>\n",
       "      <td>5843230</td>\n",
       "    </tr>\n",
       "    <tr>\n",
       "      <th>1</th>\n",
       "      <td>20200104</td>\n",
       "      <td>1174066000</td>\n",
       "      <td>성내3동</td>\n",
       "      <td>7022</td>\n",
       "      <td>치과의원</td>\n",
       "      <td>33</td>\n",
       "      <td>7835550</td>\n",
       "    </tr>\n",
       "    <tr>\n",
       "      <th>2</th>\n",
       "      <td>20200104</td>\n",
       "      <td>1174066000</td>\n",
       "      <td>성내3동</td>\n",
       "      <td>7021</td>\n",
       "      <td>한의원</td>\n",
       "      <td>53</td>\n",
       "      <td>4589800</td>\n",
       "    </tr>\n",
       "    <tr>\n",
       "      <th>3</th>\n",
       "      <td>20200104</td>\n",
       "      <td>1174066000</td>\n",
       "      <td>성내3동</td>\n",
       "      <td>7020</td>\n",
       "      <td>의원</td>\n",
       "      <td>339</td>\n",
       "      <td>9267240</td>\n",
       "    </tr>\n",
       "    <tr>\n",
       "      <th>4</th>\n",
       "      <td>20200104</td>\n",
       "      <td>1174066000</td>\n",
       "      <td>성내3동</td>\n",
       "      <td>6110</td>\n",
       "      <td>자동차정비</td>\n",
       "      <td>19</td>\n",
       "      <td>4441000</td>\n",
       "    </tr>\n",
       "  </tbody>\n",
       "</table>\n",
       "</div>"
      ],
      "text/plain": [
       "   receipt_dttm  adstrd_code adstrd_nm  mrhst_induty_cl_code  \\\n",
       "0      20200104   1174066000      성내3동                  7041   \n",
       "1      20200104   1174066000      성내3동                  7022   \n",
       "2      20200104   1174066000      성내3동                  7021   \n",
       "3      20200104   1174066000      성내3동                  7020   \n",
       "4      20200104   1174066000      성내3동                  6110   \n",
       "\n",
       "  mrhst_induty_cl_nm selng_cascnt   salamt  \n",
       "0                 약국          463  5843230  \n",
       "1               치과의원           33  7835550  \n",
       "2                한의원           53  4589800  \n",
       "3                 의원          339  9267240  \n",
       "4              자동차정비           19  4441000  "
      ]
     },
     "execution_count": 25,
     "metadata": {},
     "output_type": "execute_result"
    }
   ],
   "source": [
    "card = pd.read_csv('card.csv')\n",
    "\n",
    "card.head()"
   ]
  },
  {
   "cell_type": "code",
   "execution_count": 26,
   "metadata": {},
   "outputs": [
    {
     "name": "stdout",
     "output_type": "stream",
     "text": [
      "<class 'pandas.core.frame.DataFrame'>\n",
      "RangeIndex: 3777647 entries, 0 to 3777646\n",
      "Data columns (total 7 columns):\n",
      "receipt_dttm            int64\n",
      "adstrd_code             int64\n",
      "adstrd_nm               object\n",
      "mrhst_induty_cl_code    int64\n",
      "mrhst_induty_cl_nm      object\n",
      "selng_cascnt            object\n",
      "salamt                  object\n",
      "dtypes: int64(3), object(4)\n",
      "memory usage: 201.7+ MB\n"
     ]
    }
   ],
   "source": [
    "card.info()"
   ]
  },
  {
   "cell_type": "code",
   "execution_count": 27,
   "metadata": {},
   "outputs": [],
   "source": [
    "card['adstrd_code'] = card['adstrd_code'].astype(str)\n",
    "card['exp']=card['adstrd_code'].apply(lambda x:x[:5])"
   ]
  },
  {
   "cell_type": "code",
   "execution_count": 28,
   "metadata": {},
   "outputs": [
    {
     "data": {
      "text/html": [
       "<div>\n",
       "<style scoped>\n",
       "    .dataframe tbody tr th:only-of-type {\n",
       "        vertical-align: middle;\n",
       "    }\n",
       "\n",
       "    .dataframe tbody tr th {\n",
       "        vertical-align: top;\n",
       "    }\n",
       "\n",
       "    .dataframe thead th {\n",
       "        text-align: right;\n",
       "    }\n",
       "</style>\n",
       "<table border=\"1\" class=\"dataframe\">\n",
       "  <thead>\n",
       "    <tr style=\"text-align: right;\">\n",
       "      <th></th>\n",
       "      <th>index</th>\n",
       "      <th>receipt_dttm</th>\n",
       "      <th>adstrd_code</th>\n",
       "      <th>adstrd_nm</th>\n",
       "      <th>mrhst_induty_cl_code</th>\n",
       "      <th>mrhst_induty_cl_nm</th>\n",
       "      <th>selng_cascnt</th>\n",
       "      <th>salamt</th>\n",
       "      <th>exp</th>\n",
       "    </tr>\n",
       "  </thead>\n",
       "  <tbody>\n",
       "    <tr>\n",
       "      <th>0</th>\n",
       "      <td>0</td>\n",
       "      <td>20200104</td>\n",
       "      <td>1174066000</td>\n",
       "      <td>성내3동</td>\n",
       "      <td>7041</td>\n",
       "      <td>약국</td>\n",
       "      <td>463</td>\n",
       "      <td>5843230</td>\n",
       "      <td>11740</td>\n",
       "    </tr>\n",
       "    <tr>\n",
       "      <th>1</th>\n",
       "      <td>1</td>\n",
       "      <td>20200104</td>\n",
       "      <td>1174066000</td>\n",
       "      <td>성내3동</td>\n",
       "      <td>7022</td>\n",
       "      <td>치과의원</td>\n",
       "      <td>33</td>\n",
       "      <td>7835550</td>\n",
       "      <td>11740</td>\n",
       "    </tr>\n",
       "    <tr>\n",
       "      <th>2</th>\n",
       "      <td>2</td>\n",
       "      <td>20200104</td>\n",
       "      <td>1174066000</td>\n",
       "      <td>성내3동</td>\n",
       "      <td>7021</td>\n",
       "      <td>한의원</td>\n",
       "      <td>53</td>\n",
       "      <td>4589800</td>\n",
       "      <td>11740</td>\n",
       "    </tr>\n",
       "    <tr>\n",
       "      <th>3</th>\n",
       "      <td>3</td>\n",
       "      <td>20200104</td>\n",
       "      <td>1174066000</td>\n",
       "      <td>성내3동</td>\n",
       "      <td>7020</td>\n",
       "      <td>의원</td>\n",
       "      <td>339</td>\n",
       "      <td>9267240</td>\n",
       "      <td>11740</td>\n",
       "    </tr>\n",
       "    <tr>\n",
       "      <th>4</th>\n",
       "      <td>4</td>\n",
       "      <td>20200104</td>\n",
       "      <td>1174066000</td>\n",
       "      <td>성내3동</td>\n",
       "      <td>6110</td>\n",
       "      <td>자동차정비</td>\n",
       "      <td>19</td>\n",
       "      <td>4441000</td>\n",
       "      <td>11740</td>\n",
       "    </tr>\n",
       "  </tbody>\n",
       "</table>\n",
       "</div>"
      ],
      "text/plain": [
       "   index  receipt_dttm adstrd_code adstrd_nm  mrhst_induty_cl_code  \\\n",
       "0      0      20200104  1174066000      성내3동                  7041   \n",
       "1      1      20200104  1174066000      성내3동                  7022   \n",
       "2      2      20200104  1174066000      성내3동                  7021   \n",
       "3      3      20200104  1174066000      성내3동                  7020   \n",
       "4      4      20200104  1174066000      성내3동                  6110   \n",
       "\n",
       "  mrhst_induty_cl_nm selng_cascnt   salamt    exp  \n",
       "0                 약국          463  5843230  11740  \n",
       "1               치과의원           33  7835550  11740  \n",
       "2                한의원           53  4589800  11740  \n",
       "3                 의원          339  9267240  11740  \n",
       "4              자동차정비           19  4441000  11740  "
      ]
     },
     "execution_count": 28,
     "metadata": {},
     "output_type": "execute_result"
    }
   ],
   "source": [
    "gu_card = card.loc[card['exp']=='11740',:].reset_index()\n",
    "\n",
    "gu_card.head()"
   ]
  },
  {
   "cell_type": "code",
   "execution_count": 29,
   "metadata": {},
   "outputs": [
    {
     "name": "stdout",
     "output_type": "stream",
     "text": [
      "<class 'pandas.core.frame.DataFrame'>\n",
      "RangeIndex: 159620 entries, 0 to 159619\n",
      "Data columns (total 9 columns):\n",
      "index                   159620 non-null int64\n",
      "receipt_dttm            159620 non-null int64\n",
      "adstrd_code             159620 non-null object\n",
      "adstrd_nm               159620 non-null object\n",
      "mrhst_induty_cl_code    159620 non-null int64\n",
      "mrhst_induty_cl_nm      159620 non-null object\n",
      "selng_cascnt            159620 non-null object\n",
      "salamt                  159620 non-null object\n",
      "exp                     159620 non-null object\n",
      "dtypes: int64(3), object(6)\n",
      "memory usage: 11.0+ MB\n"
     ]
    }
   ],
   "source": [
    "gu_card.info()"
   ]
  },
  {
   "cell_type": "code",
   "execution_count": 30,
   "metadata": {},
   "outputs": [
    {
     "data": {
      "text/html": [
       "<div>\n",
       "<style scoped>\n",
       "    .dataframe tbody tr th:only-of-type {\n",
       "        vertical-align: middle;\n",
       "    }\n",
       "\n",
       "    .dataframe tbody tr th {\n",
       "        vertical-align: top;\n",
       "    }\n",
       "\n",
       "    .dataframe thead th {\n",
       "        text-align: right;\n",
       "    }\n",
       "</style>\n",
       "<table border=\"1\" class=\"dataframe\">\n",
       "  <thead>\n",
       "    <tr style=\"text-align: right;\">\n",
       "      <th></th>\n",
       "      <th>index</th>\n",
       "      <th>receipt_dttm</th>\n",
       "      <th>adstrd_code</th>\n",
       "      <th>adstrd_nm</th>\n",
       "      <th>mrhst_induty_cl_code</th>\n",
       "      <th>mrhst_induty_cl_nm</th>\n",
       "      <th>selng_cascnt</th>\n",
       "      <th>salamt</th>\n",
       "      <th>exp</th>\n",
       "    </tr>\n",
       "  </thead>\n",
       "  <tbody>\n",
       "    <tr>\n",
       "      <th>0</th>\n",
       "      <td>0</td>\n",
       "      <td>2020-01-04</td>\n",
       "      <td>1174066000</td>\n",
       "      <td>성내3동</td>\n",
       "      <td>7041</td>\n",
       "      <td>약국</td>\n",
       "      <td>463</td>\n",
       "      <td>5843230</td>\n",
       "      <td>11740</td>\n",
       "    </tr>\n",
       "    <tr>\n",
       "      <th>1</th>\n",
       "      <td>1</td>\n",
       "      <td>2020-01-04</td>\n",
       "      <td>1174066000</td>\n",
       "      <td>성내3동</td>\n",
       "      <td>7022</td>\n",
       "      <td>치과의원</td>\n",
       "      <td>33</td>\n",
       "      <td>7835550</td>\n",
       "      <td>11740</td>\n",
       "    </tr>\n",
       "    <tr>\n",
       "      <th>2</th>\n",
       "      <td>2</td>\n",
       "      <td>2020-01-04</td>\n",
       "      <td>1174066000</td>\n",
       "      <td>성내3동</td>\n",
       "      <td>7021</td>\n",
       "      <td>한의원</td>\n",
       "      <td>53</td>\n",
       "      <td>4589800</td>\n",
       "      <td>11740</td>\n",
       "    </tr>\n",
       "    <tr>\n",
       "      <th>3</th>\n",
       "      <td>3</td>\n",
       "      <td>2020-01-04</td>\n",
       "      <td>1174066000</td>\n",
       "      <td>성내3동</td>\n",
       "      <td>7020</td>\n",
       "      <td>의원</td>\n",
       "      <td>339</td>\n",
       "      <td>9267240</td>\n",
       "      <td>11740</td>\n",
       "    </tr>\n",
       "    <tr>\n",
       "      <th>4</th>\n",
       "      <td>4</td>\n",
       "      <td>2020-01-04</td>\n",
       "      <td>1174066000</td>\n",
       "      <td>성내3동</td>\n",
       "      <td>6110</td>\n",
       "      <td>자동차정비</td>\n",
       "      <td>19</td>\n",
       "      <td>4441000</td>\n",
       "      <td>11740</td>\n",
       "    </tr>\n",
       "  </tbody>\n",
       "</table>\n",
       "</div>"
      ],
      "text/plain": [
       "   index receipt_dttm adstrd_code adstrd_nm mrhst_induty_cl_code  \\\n",
       "0      0   2020-01-04  1174066000      성내3동                 7041   \n",
       "1      1   2020-01-04  1174066000      성내3동                 7022   \n",
       "2      2   2020-01-04  1174066000      성내3동                 7021   \n",
       "3      3   2020-01-04  1174066000      성내3동                 7020   \n",
       "4      4   2020-01-04  1174066000      성내3동                 6110   \n",
       "\n",
       "  mrhst_induty_cl_nm selng_cascnt   salamt    exp  \n",
       "0                 약국          463  5843230  11740  \n",
       "1               치과의원           33  7835550  11740  \n",
       "2                한의원           53  4589800  11740  \n",
       "3                 의원          339  9267240  11740  \n",
       "4              자동차정비           19  4441000  11740  "
      ]
     },
     "execution_count": 30,
     "metadata": {},
     "output_type": "execute_result"
    }
   ],
   "source": [
    "gu_card['mrhst_induty_cl_code'] = gu_card['mrhst_induty_cl_code'].astype(str)\n",
    "\n",
    "#gu_card['receipt_dttm'] = gu_card['receipt_dttm'].astype(str)\n",
    "#gu_card['month'] = gu_card['receipt_dttm'].apply(lambda x:x[5:7])\n",
    "gu_card['receipt_dttm'] = pd.to_datetime(gu_card['receipt_dttm'], format='%Y%m%d')\n",
    "\n",
    "gu_card.head()"
   ]
  },
  {
   "cell_type": "code",
   "execution_count": 31,
   "metadata": {},
   "outputs": [
    {
     "name": "stdout",
     "output_type": "stream",
     "text": [
      "33\n",
      "['10', '11', '20', '21', '22', '30', '31', '32', '33', '34', '40', '41', '42', '43', '44', '50', '51', '52', '60', '61', '70', '71', '80', '81', '82', '83', '84', '90', '91', '92', '93', '96', '99']\n"
     ]
    }
   ],
   "source": [
    "gu_card['mrhst_induty_cate'] = gu_card['mrhst_induty_cl_code'].apply(lambda x:x[:2])\n",
    "    \n",
    "cate_list = []\n",
    "\n",
    "for x in gu_card['mrhst_induty_cate']:\n",
    "    if not x in cate_list:\n",
    "        cate_list.append(x)\n",
    "\n",
    "cate_list.sort()\n",
    "print(len(cate_list))\n",
    "print(cate_list)"
   ]
  },
  {
   "cell_type": "code",
   "execution_count": 32,
   "metadata": {},
   "outputs": [
    {
     "data": {
      "text/html": [
       "<div>\n",
       "<style scoped>\n",
       "    .dataframe tbody tr th:only-of-type {\n",
       "        vertical-align: middle;\n",
       "    }\n",
       "\n",
       "    .dataframe tbody tr th {\n",
       "        vertical-align: top;\n",
       "    }\n",
       "\n",
       "    .dataframe thead th {\n",
       "        text-align: right;\n",
       "    }\n",
       "</style>\n",
       "<table border=\"1\" class=\"dataframe\">\n",
       "  <thead>\n",
       "    <tr style=\"text-align: right;\">\n",
       "      <th></th>\n",
       "      <th>index</th>\n",
       "      <th>receipt_dttm</th>\n",
       "      <th>adstrd_code</th>\n",
       "      <th>adstrd_nm</th>\n",
       "      <th>mrhst_induty_cl_code</th>\n",
       "      <th>mrhst_induty_cl_nm</th>\n",
       "      <th>selng_cascnt</th>\n",
       "      <th>salamt</th>\n",
       "      <th>exp</th>\n",
       "      <th>mrhst_induty_cate</th>\n",
       "      <th>mrhst_induty_large_cate</th>\n",
       "    </tr>\n",
       "  </thead>\n",
       "  <tbody>\n",
       "    <tr>\n",
       "      <th>0</th>\n",
       "      <td>0</td>\n",
       "      <td>2020-01-04</td>\n",
       "      <td>1174066000</td>\n",
       "      <td>성내3동</td>\n",
       "      <td>7041</td>\n",
       "      <td>약국</td>\n",
       "      <td>463</td>\n",
       "      <td>5843230</td>\n",
       "      <td>11740</td>\n",
       "      <td>70</td>\n",
       "      <td>7</td>\n",
       "    </tr>\n",
       "    <tr>\n",
       "      <th>1</th>\n",
       "      <td>1</td>\n",
       "      <td>2020-01-04</td>\n",
       "      <td>1174066000</td>\n",
       "      <td>성내3동</td>\n",
       "      <td>7022</td>\n",
       "      <td>치과의원</td>\n",
       "      <td>33</td>\n",
       "      <td>7835550</td>\n",
       "      <td>11740</td>\n",
       "      <td>70</td>\n",
       "      <td>7</td>\n",
       "    </tr>\n",
       "    <tr>\n",
       "      <th>2</th>\n",
       "      <td>2</td>\n",
       "      <td>2020-01-04</td>\n",
       "      <td>1174066000</td>\n",
       "      <td>성내3동</td>\n",
       "      <td>7021</td>\n",
       "      <td>한의원</td>\n",
       "      <td>53</td>\n",
       "      <td>4589800</td>\n",
       "      <td>11740</td>\n",
       "      <td>70</td>\n",
       "      <td>7</td>\n",
       "    </tr>\n",
       "    <tr>\n",
       "      <th>3</th>\n",
       "      <td>3</td>\n",
       "      <td>2020-01-04</td>\n",
       "      <td>1174066000</td>\n",
       "      <td>성내3동</td>\n",
       "      <td>7020</td>\n",
       "      <td>의원</td>\n",
       "      <td>339</td>\n",
       "      <td>9267240</td>\n",
       "      <td>11740</td>\n",
       "      <td>70</td>\n",
       "      <td>7</td>\n",
       "    </tr>\n",
       "    <tr>\n",
       "      <th>4</th>\n",
       "      <td>4</td>\n",
       "      <td>2020-01-04</td>\n",
       "      <td>1174066000</td>\n",
       "      <td>성내3동</td>\n",
       "      <td>6110</td>\n",
       "      <td>자동차정비</td>\n",
       "      <td>19</td>\n",
       "      <td>4441000</td>\n",
       "      <td>11740</td>\n",
       "      <td>61</td>\n",
       "      <td>6</td>\n",
       "    </tr>\n",
       "  </tbody>\n",
       "</table>\n",
       "</div>"
      ],
      "text/plain": [
       "   index receipt_dttm adstrd_code adstrd_nm mrhst_induty_cl_code  \\\n",
       "0      0   2020-01-04  1174066000      성내3동                 7041   \n",
       "1      1   2020-01-04  1174066000      성내3동                 7022   \n",
       "2      2   2020-01-04  1174066000      성내3동                 7021   \n",
       "3      3   2020-01-04  1174066000      성내3동                 7020   \n",
       "4      4   2020-01-04  1174066000      성내3동                 6110   \n",
       "\n",
       "  mrhst_induty_cl_nm selng_cascnt   salamt    exp mrhst_induty_cate  \\\n",
       "0                 약국          463  5843230  11740                70   \n",
       "1               치과의원           33  7835550  11740                70   \n",
       "2                한의원           53  4589800  11740                70   \n",
       "3                 의원          339  9267240  11740                70   \n",
       "4              자동차정비           19  4441000  11740                61   \n",
       "\n",
       "  mrhst_induty_large_cate  \n",
       "0                       7  \n",
       "1                       7  \n",
       "2                       7  \n",
       "3                       7  \n",
       "4                       6  "
      ]
     },
     "execution_count": 32,
     "metadata": {},
     "output_type": "execute_result"
    }
   ],
   "source": [
    "gu_card['mrhst_induty_large_cate'] = gu_card['mrhst_induty_cl_code'].apply(lambda x:x[:1])\n",
    "\n",
    "gu_card.head()"
   ]
  },
  {
   "cell_type": "markdown",
   "metadata": {},
   "source": [
    "### 1. 여행 관련 업종\n",
    "#### 매출 건수"
   ]
  },
  {
   "cell_type": "code",
   "execution_count": 33,
   "metadata": {},
   "outputs": [],
   "source": [
    "plotdata = gu_card.loc[gu_card['mrhst_induty_large_cate']=='1',:]\n",
    "plotdata['selng_cascnt'] = plotdata['selng_cascnt'].astype(int)\n",
    "\n",
    "plotdata = plotdata.groupby(['receipt_dttm','mrhst_induty_cate']).selng_cascnt.mean().reset_index()"
   ]
  },
  {
   "cell_type": "code",
   "execution_count": 34,
   "metadata": {},
   "outputs": [],
   "source": [
    "plotdata10 = plotdata.loc[plotdata['mrhst_induty_cate']=='10']\n",
    "plotdata11 = plotdata.loc[plotdata['mrhst_induty_cate']=='11']"
   ]
  },
  {
   "cell_type": "code",
   "execution_count": 35,
   "metadata": {},
   "outputs": [
    {
     "data": {
      "image/png": "[encoded data removed]",
      "text/plain": [
       "<Figure size 1008x288 with 2 Axes>"
      ]
     },
     "metadata": {},
     "output_type": "display_data"
    },
    {
     "data": {
      "text/plain": [
       "<Figure size 1200x560 with 0 Axes>"
      ]
     },
     "metadata": {},
     "output_type": "display_data"
    }
   ],
   "source": [
    "import matplotlib.pyplot as plt \n",
    "import matplotlib.legend as legend\n",
    "\n",
    "fig = plt.figure()\n",
    "ax1 = fig.add_subplot(2,1,1)\n",
    "ax2 = fig.add_subplot(2,1,2)\n",
    "\n",
    "plt.style.use('ggplot')\n",
    "plt.figure(figsize=(15,7),dpi=80)\n",
    "ax1.bar(plotdata10['receipt_dttm'],plotdata10['selng_cascnt'])\n",
    "ax2.bar(plotdata11['receipt_dttm'], plotdata11['selng_cascnt'])\n",
    "\n",
    "plt.show()"
   ]
  },
  {
   "cell_type": "markdown",
   "metadata": {},
   "source": [
    "#### 매출액"
   ]
  },
  {
   "cell_type": "code",
   "execution_count": 36,
   "metadata": {},
   "outputs": [],
   "source": [
    "gu_card = card.loc[card['exp']=='11740',:].reset_index()"
   ]
  },
  {
   "cell_type": "code",
   "execution_count": 37,
   "metadata": {},
   "outputs": [],
   "source": [
    "gu_card['mrhst_induty_cl_code'] = gu_card['mrhst_induty_cl_code'].astype(str)\n",
    "\n",
    "#gu_card['receipt_dttm'] = gu_card['receipt_dttm'].astype(str)\n",
    "#gu_card['month'] = gu_card['receipt_dttm'].apply(lambda x:x[5:7])\n",
    "gu_card['receipt_dttm'] = pd.to_datetime(gu_card['receipt_dttm'], format='%Y%m%d')"
   ]
  },
  {
   "cell_type": "code",
   "execution_count": 38,
   "metadata": {},
   "outputs": [],
   "source": [
    "gu_card['mrhst_induty_cate'] = gu_card['mrhst_induty_cl_code'].apply(lambda x:x[:2])"
   ]
  },
  {
   "cell_type": "code",
   "execution_count": 39,
   "metadata": {},
   "outputs": [],
   "source": [
    "gu_card['mrhst_induty_large_cate'] = gu_card['mrhst_induty_cl_code'].apply(lambda x:x[:1])"
   ]
  },
  {
   "cell_type": "code",
   "execution_count": 40,
   "metadata": {},
   "outputs": [],
   "source": [
    "plotdata = gu_card.loc[gu_card['mrhst_induty_large_cate']=='1',:]\n",
    "plotdata['salamt'] = plotdata['salamt'].astype(int)\n",
    "\n",
    "plotdata = plotdata.groupby(['receipt_dttm','mrhst_induty_cate']).salamt.mean().reset_index()"
   ]
  },
  {
   "cell_type": "code",
   "execution_count": 41,
   "metadata": {},
   "outputs": [],
   "source": [
    "plotdata10 = plotdata.loc[plotdata['mrhst_induty_cate']=='10']\n",
    "plotdata11 = plotdata.loc[plotdata['mrhst_induty_cate']=='11']"
   ]
  },
  {
   "cell_type": "code",
   "execution_count": 42,
   "metadata": {},
   "outputs": [
    {
     "data": {
      "image/png": "[encoded data removed]",
      "text/plain": [
       "<Figure size 1008x288 with 2 Axes>"
      ]
     },
     "metadata": {},
     "output_type": "display_data"
    },
    {
     "data": {
      "text/plain": [
       "<Figure size 1200x560 with 0 Axes>"
      ]
     },
     "metadata": {},
     "output_type": "display_data"
    }
   ],
   "source": [
    "fig = plt.figure()\n",
    "ax1 = fig.add_subplot(2,1,1)\n",
    "ax2 = fig.add_subplot(2,1,2)\n",
    "\n",
    "plt.style.use('ggplot')\n",
    "plt.figure(figsize=(15,7),dpi=80)\n",
    "ax1.bar(plotdata10['receipt_dttm'],plotdata10['salamt'])\n",
    "ax2.bar(plotdata11['receipt_dttm'], plotdata11['salamt'])\n",
    "\n",
    "plt.show()"
   ]
  },
  {
   "cell_type": "code",
   "execution_count": 43,
   "metadata": {},
   "outputs": [
    {
     "data": {
      "text/plain": [
       "<matplotlib.legend.Legend at 0x1829d3f7ef0>"
      ]
     },
     "execution_count": 43,
     "metadata": {},
     "output_type": "execute_result"
    },
    {
     "data": {
      "image/png": "[encoded data removed]",
      "text/plain": [
       "<Figure size 1008x288 with 1 Axes>"
      ]
     },
     "metadata": {},
     "output_type": "display_data"
    }
   ],
   "source": [
    "plotdata['receipt_dttm'] = plotdata['receipt_dttm'].astype(str)\n",
    "plotdata['month']=plotdata['receipt_dttm'].apply(lambda x:x[5:7])\n",
    "\n",
    "plotdata10 = plotdata.loc[plotdata['mrhst_induty_cate']=='10']\n",
    "plotdata11 = plotdata.loc[plotdata['mrhst_induty_cate']=='11']\n",
    "\n",
    "ave1 = plotdata10[plotdata10['month']=='01'].salamt.mean()\n",
    "ave2 = plotdata10[plotdata10['month']=='02'].salamt.mean()\n",
    "ave3 = plotdata10[plotdata10['month']=='03'].salamt.mean()\n",
    "ave4 = plotdata10[plotdata10['month']=='04'].salamt.mean()\n",
    "ave5 = plotdata10[plotdata10['month']=='05'].salamt.mean()\n",
    "ave6 = plotdata10[plotdata10['month']=='06'].salamt.mean()\n",
    "\n",
    "\n",
    "ave10 = []\n",
    "ave10.append(ave1)\n",
    "ave10.append(ave2)\n",
    "ave10.append(ave3)\n",
    "ave10.append(ave4)\n",
    "ave10.append(ave5)\n",
    "ave10.append(ave6)\n",
    "\n",
    "\n",
    "ave1 = plotdata11[plotdata11['month']=='01'].salamt.mean()\n",
    "ave2 = plotdata11[plotdata11['month']=='02'].salamt.mean()\n",
    "ave3 = plotdata11[plotdata11['month']=='03'].salamt.mean()\n",
    "ave4 = plotdata11[plotdata11['month']=='04'].salamt.mean()\n",
    "ave5 = plotdata11[plotdata11['month']=='05'].salamt.mean()\n",
    "ave6 = plotdata11[plotdata11['month']=='06'].salamt.mean()\n",
    "\n",
    "ave11 = []\n",
    "ave11.append(ave1)\n",
    "ave11.append(ave2)\n",
    "ave11.append(ave3)\n",
    "ave11.append(ave4)\n",
    "ave11.append(ave5)\n",
    "ave11.append(ave6)\n",
    "\n",
    "plt.plot([1,2,3,4,5,6],ave10)\n",
    "plt.plot([1,2,3,4,5,6],ave11)\n",
    "\n",
    "plt.title('여행 관련 업종 매출액 변화')\n",
    "plt.xlabel('월')\n",
    "plt.ylabel('매출액')\n",
    "\n",
    "plt.legend(['기타숙박업','렌트카'])"
   ]
  }
 ],
 "metadata": {
  "kernelspec": {
   "display_name": "Python 3",
   "language": "python",
   "name": "python3"
  },
  "language_info": {
   "codemirror_mode": {
    "name": "ipython",
    "version": 3
   },
   "file_extension": ".py",
   "mimetype": "text/x-python",
   "name": "python",
   "nbconvert_exporter": "python",
   "pygments_lexer": "ipython3",
   "version": "3.7.3"
  }
 },
 "nbformat": 4,
 "nbformat_minor": 2
}
