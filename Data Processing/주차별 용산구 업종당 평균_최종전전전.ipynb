{
 "cells": [
  {
   "cell_type": "code",
   "execution_count": 1,
   "metadata": {},
   "outputs": [],
   "source": [
    "import pandas as pd\n",
    "import numpy as np\n",
    "import matplotlib.pyplot as plt\n",
    "import seaborn as sn"
   ]
  },
  {
   "cell_type": "markdown",
   "metadata": {},
   "source": [
    "### csv file read"
   ]
  },
  {
   "cell_type": "code",
   "execution_count": 21,
   "metadata": {},
   "outputs": [
    {
     "data": {
      "text/html": [
       "<div>\n",
       "<style scoped>\n",
       "    .dataframe tbody tr th:only-of-type {\n",
       "        vertical-align: middle;\n",
       "    }\n",
       "\n",
       "    .dataframe tbody tr th {\n",
       "        vertical-align: top;\n",
       "    }\n",
       "\n",
       "    .dataframe thead th {\n",
       "        text-align: right;\n",
       "    }\n",
       "</style>\n",
       "<table border=\"1\" class=\"dataframe\">\n",
       "  <thead>\n",
       "    <tr style=\"text-align: right;\">\n",
       "      <th></th>\n",
       "      <th>Unnamed: 0</th>\n",
       "      <th>receipt_dttm</th>\n",
       "      <th>adstrd_code</th>\n",
       "      <th>adstrd_nm</th>\n",
       "      <th>mrhst_induty_cl_code</th>\n",
       "      <th>mrhst_induty_cl_nm</th>\n",
       "      <th>selng_cascnt</th>\n",
       "      <th>salamt</th>\n",
       "    </tr>\n",
       "  </thead>\n",
       "  <tbody>\n",
       "    <tr>\n",
       "      <th>0</th>\n",
       "      <td>0</td>\n",
       "      <td>20200104</td>\n",
       "      <td>11740</td>\n",
       "      <td>성내3동</td>\n",
       "      <td>70</td>\n",
       "      <td>약국</td>\n",
       "      <td>463</td>\n",
       "      <td>5843230.0</td>\n",
       "    </tr>\n",
       "    <tr>\n",
       "      <th>1</th>\n",
       "      <td>1</td>\n",
       "      <td>20200104</td>\n",
       "      <td>11740</td>\n",
       "      <td>성내3동</td>\n",
       "      <td>70</td>\n",
       "      <td>치과의원</td>\n",
       "      <td>33</td>\n",
       "      <td>7835550.0</td>\n",
       "    </tr>\n",
       "    <tr>\n",
       "      <th>2</th>\n",
       "      <td>2</td>\n",
       "      <td>20200104</td>\n",
       "      <td>11740</td>\n",
       "      <td>성내3동</td>\n",
       "      <td>70</td>\n",
       "      <td>한의원</td>\n",
       "      <td>53</td>\n",
       "      <td>4589800.0</td>\n",
       "    </tr>\n",
       "    <tr>\n",
       "      <th>3</th>\n",
       "      <td>3</td>\n",
       "      <td>20200104</td>\n",
       "      <td>11740</td>\n",
       "      <td>성내3동</td>\n",
       "      <td>70</td>\n",
       "      <td>의원</td>\n",
       "      <td>339</td>\n",
       "      <td>9267240.0</td>\n",
       "    </tr>\n",
       "    <tr>\n",
       "      <th>4</th>\n",
       "      <td>4</td>\n",
       "      <td>20200104</td>\n",
       "      <td>11740</td>\n",
       "      <td>성내3동</td>\n",
       "      <td>61</td>\n",
       "      <td>자동차정비</td>\n",
       "      <td>19</td>\n",
       "      <td>4441000.0</td>\n",
       "    </tr>\n",
       "  </tbody>\n",
       "</table>\n",
       "</div>"
      ],
      "text/plain": [
       "   Unnamed: 0  receipt_dttm  adstrd_code adstrd_nm  mrhst_induty_cl_code  \\\n",
       "0           0      20200104        11740      성내3동                    70   \n",
       "1           1      20200104        11740      성내3동                    70   \n",
       "2           2      20200104        11740      성내3동                    70   \n",
       "3           3      20200104        11740      성내3동                    70   \n",
       "4           4      20200104        11740      성내3동                    61   \n",
       "\n",
       "  mrhst_induty_cl_nm  selng_cascnt     salamt  \n",
       "0                 약국           463  5843230.0  \n",
       "1               치과의원            33  7835550.0  \n",
       "2                한의원            53  4589800.0  \n",
       "3                 의원           339  9267240.0  \n",
       "4              자동차정비            19  4441000.0  "
      ]
     },
     "execution_count": 21,
     "metadata": {},
     "output_type": "execute_result"
    }
   ],
   "source": [
    "card_01 = pd.read_csv(\"df_card01.csv\")\n",
    "card_02 = pd.read_csv(\"df_card02.csv\")\n",
    "card_03 = pd.read_csv(\"df_card03.csv\")\n",
    "card_04 = pd.read_csv(\"df_card04.csv\")\n",
    "card_05 = pd.read_csv(\"df_card05.csv\")\n",
    "card_06 = pd.read_csv(\"df_card06.csv\")\n",
    "\n",
    "card_01.head()"
   ]
  },
  {
   "cell_type": "code",
   "execution_count": 22,
   "metadata": {},
   "outputs": [
    {
     "data": {
      "text/html": [
       "<div>\n",
       "<style scoped>\n",
       "    .dataframe tbody tr th:only-of-type {\n",
       "        vertical-align: middle;\n",
       "    }\n",
       "\n",
       "    .dataframe tbody tr th {\n",
       "        vertical-align: top;\n",
       "    }\n",
       "\n",
       "    .dataframe thead th {\n",
       "        text-align: right;\n",
       "    }\n",
       "</style>\n",
       "<table border=\"1\" class=\"dataframe\">\n",
       "  <thead>\n",
       "    <tr style=\"text-align: right;\">\n",
       "      <th></th>\n",
       "      <th>Unnamed: 0</th>\n",
       "      <th>receipt_dttm</th>\n",
       "      <th>adstrd_code</th>\n",
       "      <th>adstrd_nm</th>\n",
       "      <th>mrhst_induty_cl_code</th>\n",
       "      <th>mrhst_induty_cl_nm</th>\n",
       "      <th>selng_cascnt</th>\n",
       "      <th>salamt</th>\n",
       "    </tr>\n",
       "  </thead>\n",
       "  <tbody>\n",
       "    <tr>\n",
       "      <th>380409</th>\n",
       "      <td>380409</td>\n",
       "      <td>20200614</td>\n",
       "      <td>11215</td>\n",
       "      <td>구의2동</td>\n",
       "      <td>40</td>\n",
       "      <td>대형할인점</td>\n",
       "      <td>136.0</td>\n",
       "      <td>1195640.0</td>\n",
       "    </tr>\n",
       "    <tr>\n",
       "      <th>380410</th>\n",
       "      <td>380410</td>\n",
       "      <td>20200614</td>\n",
       "      <td>11215</td>\n",
       "      <td>자양4동</td>\n",
       "      <td>90</td>\n",
       "      <td>인테 리어</td>\n",
       "      <td>2.0</td>\n",
       "      <td>13100.0</td>\n",
       "    </tr>\n",
       "    <tr>\n",
       "      <th>380411</th>\n",
       "      <td>380411</td>\n",
       "      <td>20200614</td>\n",
       "      <td>11620</td>\n",
       "      <td>보라매동</td>\n",
       "      <td>61</td>\n",
       "      <td>주 차 장</td>\n",
       "      <td>2.0</td>\n",
       "      <td>14500.0</td>\n",
       "    </tr>\n",
       "    <tr>\n",
       "      <th>380412</th>\n",
       "      <td>380412</td>\n",
       "      <td>20200614</td>\n",
       "      <td>11350</td>\n",
       "      <td>월계1동</td>\n",
       "      <td>99</td>\n",
       "      <td>기타전문점</td>\n",
       "      <td>1.0</td>\n",
       "      <td>38000.0</td>\n",
       "    </tr>\n",
       "    <tr>\n",
       "      <th>380413</th>\n",
       "      <td>380413</td>\n",
       "      <td>20200614</td>\n",
       "      <td>11590</td>\n",
       "      <td>흑석동</td>\n",
       "      <td>92</td>\n",
       "      <td>사무통신기기수리</td>\n",
       "      <td>1.0</td>\n",
       "      <td>20000.0</td>\n",
       "    </tr>\n",
       "  </tbody>\n",
       "</table>\n",
       "</div>"
      ],
      "text/plain": [
       "        Unnamed: 0  receipt_dttm  adstrd_code adstrd_nm  mrhst_induty_cl_code  \\\n",
       "380409      380409      20200614        11215      구의2동                    40   \n",
       "380410      380410      20200614        11215      자양4동                    90   \n",
       "380411      380411      20200614        11620      보라매동                    61   \n",
       "380412      380412      20200614        11350      월계1동                    99   \n",
       "380413      380413      20200614        11590       흑석동                    92   \n",
       "\n",
       "       mrhst_induty_cl_nm  selng_cascnt     salamt  \n",
       "380409              대형할인점         136.0  1195640.0  \n",
       "380410              인테 리어           2.0    13100.0  \n",
       "380411              주 차 장           2.0    14500.0  \n",
       "380412              기타전문점           1.0    38000.0  \n",
       "380413           사무통신기기수리           1.0    20000.0  "
      ]
     },
     "execution_count": 22,
     "metadata": {},
     "output_type": "execute_result"
    }
   ],
   "source": [
    "card = pd.concat([card_01, card_02, card_03, card_04, card_05, card_06])\n",
    "card.tail()"
   ]
  },
  {
   "cell_type": "code",
   "execution_count": 23,
   "metadata": {},
   "outputs": [
    {
     "name": "stdout",
     "output_type": "stream",
     "text": [
      "코드:  [10, 11, 20, 21, 22, 30, 31, 32, 33, 34, 40, 41, 42, 43, 44, 50, 51, 52, 60, 61, 62, 70, 71, 80, 81, 82, 83, 84, 90, 91, 92, 93, 95, 96, 99] \n",
      "코드 개수:  35\n"
     ]
    }
   ],
   "source": [
    "card['mrhst_induty_cl_code'].value_counts()\n",
    "code = []\n",
    "for i in card['mrhst_induty_cl_code'].value_counts().index:\n",
    "    code.append(i)\n",
    "code.sort()\n",
    "print(\"코드: \", code, \"\\n코드 개수: \", len(code))"
   ]
  },
  {
   "cell_type": "code",
   "execution_count": 24,
   "metadata": {},
   "outputs": [
    {
     "data": {
      "text/plain": [
       "(20200104, 155)"
      ]
     },
     "execution_count": 24,
     "metadata": {},
     "output_type": "execute_result"
    }
   ],
   "source": [
    "count = card['receipt_dttm'].value_counts().index\n",
    "day = []\n",
    "for i in count:\n",
    "    day.append(i)\n",
    "day.sort()\n",
    "day[0], len(day)"
   ]
  },
  {
   "cell_type": "markdown",
   "metadata": {},
   "source": [
    "#### 지역 6개 선정\n",
    "서초구 : 11650 <br>\n",
    "용산구 : 11170 <br>"
   ]
  },
  {
   "cell_type": "markdown",
   "metadata": {},
   "source": [
    "#### DataFrame 구 별로 세팅"
   ]
  },
  {
   "cell_type": "code",
   "execution_count": 25,
   "metadata": {},
   "outputs": [
    {
     "data": {
      "text/html": [
       "<div>\n",
       "<style scoped>\n",
       "    .dataframe tbody tr th:only-of-type {\n",
       "        vertical-align: middle;\n",
       "    }\n",
       "\n",
       "    .dataframe tbody tr th {\n",
       "        vertical-align: top;\n",
       "    }\n",
       "\n",
       "    .dataframe thead th {\n",
       "        text-align: right;\n",
       "    }\n",
       "</style>\n",
       "<table border=\"1\" class=\"dataframe\">\n",
       "  <thead>\n",
       "    <tr style=\"text-align: right;\">\n",
       "      <th></th>\n",
       "      <th>Unnamed: 0</th>\n",
       "      <th>receipt_dttm</th>\n",
       "      <th>adstrd_code</th>\n",
       "      <th>adstrd_nm</th>\n",
       "      <th>mrhst_induty_cl_code</th>\n",
       "      <th>mrhst_induty_cl_nm</th>\n",
       "      <th>selng_cascnt</th>\n",
       "      <th>salamt</th>\n",
       "    </tr>\n",
       "  </thead>\n",
       "  <tbody>\n",
       "    <tr>\n",
       "      <th>7868</th>\n",
       "      <td>7868</td>\n",
       "      <td>20200104</td>\n",
       "      <td>11170</td>\n",
       "      <td>보광동</td>\n",
       "      <td>83</td>\n",
       "      <td>기타음료식품</td>\n",
       "      <td>52.0</td>\n",
       "      <td>447880.0</td>\n",
       "    </tr>\n",
       "    <tr>\n",
       "      <th>7869</th>\n",
       "      <td>7869</td>\n",
       "      <td>20200104</td>\n",
       "      <td>11170</td>\n",
       "      <td>보광동</td>\n",
       "      <td>83</td>\n",
       "      <td>농축수산품</td>\n",
       "      <td>36.0</td>\n",
       "      <td>799000.0</td>\n",
       "    </tr>\n",
       "    <tr>\n",
       "      <th>7870</th>\n",
       "      <td>7870</td>\n",
       "      <td>20200104</td>\n",
       "      <td>11170</td>\n",
       "      <td>보광동</td>\n",
       "      <td>83</td>\n",
       "      <td>제과점</td>\n",
       "      <td>71.0</td>\n",
       "      <td>657080.0</td>\n",
       "    </tr>\n",
       "    <tr>\n",
       "      <th>7871</th>\n",
       "      <td>7871</td>\n",
       "      <td>20200104</td>\n",
       "      <td>11170</td>\n",
       "      <td>보광동</td>\n",
       "      <td>80</td>\n",
       "      <td>스넥</td>\n",
       "      <td>106.0</td>\n",
       "      <td>1729600.0</td>\n",
       "    </tr>\n",
       "    <tr>\n",
       "      <th>7872</th>\n",
       "      <td>7872</td>\n",
       "      <td>20200104</td>\n",
       "      <td>11170</td>\n",
       "      <td>보광동</td>\n",
       "      <td>80</td>\n",
       "      <td>주점</td>\n",
       "      <td>14.0</td>\n",
       "      <td>671500.0</td>\n",
       "    </tr>\n",
       "  </tbody>\n",
       "</table>\n",
       "</div>"
      ],
      "text/plain": [
       "      Unnamed: 0  receipt_dttm  adstrd_code adstrd_nm  mrhst_induty_cl_code  \\\n",
       "7868        7868      20200104        11170       보광동                    83   \n",
       "7869        7869      20200104        11170       보광동                    83   \n",
       "7870        7870      20200104        11170       보광동                    83   \n",
       "7871        7871      20200104        11170       보광동                    80   \n",
       "7872        7872      20200104        11170       보광동                    80   \n",
       "\n",
       "     mrhst_induty_cl_nm  selng_cascnt     salamt  \n",
       "7868             기타음료식품          52.0   447880.0  \n",
       "7869              농축수산품          36.0   799000.0  \n",
       "7870                제과점          71.0   657080.0  \n",
       "7871                 스넥         106.0  1729600.0  \n",
       "7872                 주점          14.0   671500.0  "
      ]
     },
     "execution_count": 25,
     "metadata": {},
     "output_type": "execute_result"
    }
   ],
   "source": [
    "is_code_ys = card['adstrd_code'] == 11170\n",
    "YS = card[is_code_ys]\n",
    "YS.head()"
   ]
  },
  {
   "cell_type": "code",
   "execution_count": 55,
   "metadata": {},
   "outputs": [
    {
     "name": "stdout",
     "output_type": "stream",
     "text": [
      "106\n",
      "[20200301, 20200308, 20200315, 20200322, 20200329, 20200405, 20200412, 20200419, 20200426, 20200503, 20200510, 20200517, 20200524, 20200531, 20200607, 20200614] \n",
      " 16\n"
     ]
    }
   ],
   "source": [
    "is_date = is_code_ys = card['receipt_dttm'] > 20200229\n",
    "YS03 = card[is_date]\n",
    "count = YS03['receipt_dttm'].value_counts().index\n",
    "day03 = []\n",
    "for i in count:\n",
    "    day03.append(i)\n",
    "day03.sort()\n",
    "print(len(day03))\n",
    "\n",
    "first_day = []\n",
    "for i in range(0, 106):\n",
    "    if(i%7==0):\n",
    "        first_day.append(day03[i])\n",
    "print(first_day, \"\\n\", len(first_day))"
   ]
  },
  {
   "cell_type": "code",
   "execution_count": 56,
   "metadata": {},
   "outputs": [
    {
     "data": {
      "text/html": [
       "<div>\n",
       "<style scoped>\n",
       "    .dataframe tbody tr th:only-of-type {\n",
       "        vertical-align: middle;\n",
       "    }\n",
       "\n",
       "    .dataframe tbody tr th {\n",
       "        vertical-align: top;\n",
       "    }\n",
       "\n",
       "    .dataframe thead th {\n",
       "        text-align: right;\n",
       "    }\n",
       "</style>\n",
       "<table border=\"1\" class=\"dataframe\">\n",
       "  <thead>\n",
       "    <tr style=\"text-align: right;\">\n",
       "      <th></th>\n",
       "      <th>receipt_dttm</th>\n",
       "      <th>mrhst_induty_cl_code</th>\n",
       "      <th>selng_cascnt</th>\n",
       "    </tr>\n",
       "  </thead>\n",
       "  <tbody>\n",
       "    <tr>\n",
       "      <th>3698</th>\n",
       "      <td>20200614</td>\n",
       "      <td>91</td>\n",
       "      <td>51025.0</td>\n",
       "    </tr>\n",
       "    <tr>\n",
       "      <th>3699</th>\n",
       "      <td>20200614</td>\n",
       "      <td>92</td>\n",
       "      <td>12537.0</td>\n",
       "    </tr>\n",
       "    <tr>\n",
       "      <th>3700</th>\n",
       "      <td>20200614</td>\n",
       "      <td>93</td>\n",
       "      <td>4642.0</td>\n",
       "    </tr>\n",
       "    <tr>\n",
       "      <th>3701</th>\n",
       "      <td>20200614</td>\n",
       "      <td>96</td>\n",
       "      <td>87.0</td>\n",
       "    </tr>\n",
       "    <tr>\n",
       "      <th>3702</th>\n",
       "      <td>20200614</td>\n",
       "      <td>99</td>\n",
       "      <td>4840828.0</td>\n",
       "    </tr>\n",
       "  </tbody>\n",
       "</table>\n",
       "</div>"
      ],
      "text/plain": [
       "      receipt_dttm  mrhst_induty_cl_code  selng_cascnt\n",
       "3698      20200614                    91       51025.0\n",
       "3699      20200614                    92       12537.0\n",
       "3700      20200614                    93        4642.0\n",
       "3701      20200614                    96          87.0\n",
       "3702      20200614                    99     4840828.0"
      ]
     },
     "execution_count": 56,
     "metadata": {},
     "output_type": "execute_result"
    }
   ],
   "source": [
    "ys_group = YS03.groupby(['receipt_dttm','mrhst_induty_cl_code'],as_index=False).selng_cascnt.sum()\n",
    "ys_group.tail()"
   ]
  },
  {
   "cell_type": "code",
   "execution_count": 59,
   "metadata": {
    "scrolled": false
   },
   "outputs": [],
   "source": [
    "# test_code\n",
    "\n",
    "#is_day = (ys_group['receipt_dttm']>=first_day[0]) & (ys_group['receipt_dttm'] < first_day[1])\n",
    "#ys_week = ys_group[is_day]\n",
    "#print(ys_week)\n",
    "#ys_week = ys_week.groupby(['mrhst_induty_cl_code'],as_index=False).selng_cascnt.sum()\n",
    "#ys_week"
   ]
  },
  {
   "cell_type": "code",
   "execution_count": 77,
   "metadata": {},
   "outputs": [
    {
     "data": {
      "text/html": [
       "<div>\n",
       "<style scoped>\n",
       "    .dataframe tbody tr th:only-of-type {\n",
       "        vertical-align: middle;\n",
       "    }\n",
       "\n",
       "    .dataframe tbody tr th {\n",
       "        vertical-align: top;\n",
       "    }\n",
       "\n",
       "    .dataframe thead th {\n",
       "        text-align: right;\n",
       "    }\n",
       "</style>\n",
       "<table border=\"1\" class=\"dataframe\">\n",
       "  <thead>\n",
       "    <tr style=\"text-align: right;\">\n",
       "      <th></th>\n",
       "      <th>mrhst_induty_cl_code</th>\n",
       "      <th>selng_cascnt</th>\n",
       "    </tr>\n",
       "  </thead>\n",
       "  <tbody>\n",
       "    <tr>\n",
       "      <th>0</th>\n",
       "      <td>10</td>\n",
       "      <td>50301.0</td>\n",
       "    </tr>\n",
       "    <tr>\n",
       "      <th>1</th>\n",
       "      <td>11</td>\n",
       "      <td>2423499.0</td>\n",
       "    </tr>\n",
       "    <tr>\n",
       "      <th>2</th>\n",
       "      <td>20</td>\n",
       "      <td>40306.0</td>\n",
       "    </tr>\n",
       "    <tr>\n",
       "      <th>3</th>\n",
       "      <td>21</td>\n",
       "      <td>452185.0</td>\n",
       "    </tr>\n",
       "    <tr>\n",
       "      <th>4</th>\n",
       "      <td>22</td>\n",
       "      <td>67988.0</td>\n",
       "    </tr>\n",
       "  </tbody>\n",
       "</table>\n",
       "</div>"
      ],
      "text/plain": [
       "   mrhst_induty_cl_code  selng_cascnt\n",
       "0                    10       50301.0\n",
       "1                    11     2423499.0\n",
       "2                    20       40306.0\n",
       "3                    21      452185.0\n",
       "4                    22       67988.0"
      ]
     },
     "execution_count": 77,
     "metadata": {},
     "output_type": "execute_result"
    }
   ],
   "source": [
    "total_sum = []\n",
    "\n",
    "for i in range(0, 15):\n",
    "    is_day = (ys_group['receipt_dttm']>=first_day[i]) & (ys_group['receipt_dttm'] < first_day[i+1])\n",
    "    ys_week = ys_group[is_day]\n",
    "    ys_week = ys_week.groupby(['mrhst_induty_cl_code'],as_index=False).selng_cascnt.sum()\n",
    "    total_sum.append(ys_week)\n",
    "    \n",
    "total_sum[0].head()"
   ]
  },
  {
   "cell_type": "code",
   "execution_count": 78,
   "metadata": {},
   "outputs": [],
   "source": [
    "total_mean = []\n",
    "for i in total_sum:\n",
    "    i['selng_cascnt'] = i['selng_cascnt'].apply(lambda x: x/7)\n",
    "    total_mean.append(i)"
   ]
  },
  {
   "cell_type": "code",
   "execution_count": 94,
   "metadata": {},
   "outputs": [
    {
     "data": {
      "text/html": [
       "<div>\n",
       "<style scoped>\n",
       "    .dataframe tbody tr th:only-of-type {\n",
       "        vertical-align: middle;\n",
       "    }\n",
       "\n",
       "    .dataframe tbody tr th {\n",
       "        vertical-align: top;\n",
       "    }\n",
       "\n",
       "    .dataframe thead th {\n",
       "        text-align: right;\n",
       "    }\n",
       "</style>\n",
       "<table border=\"1\" class=\"dataframe\">\n",
       "  <thead>\n",
       "    <tr style=\"text-align: right;\">\n",
       "      <th></th>\n",
       "      <th>mrhst_induty_cl_code</th>\n",
       "      <th>selng_cascnt</th>\n",
       "    </tr>\n",
       "  </thead>\n",
       "  <tbody>\n",
       "    <tr>\n",
       "      <th>0</th>\n",
       "      <td>10</td>\n",
       "      <td>7185.857143</td>\n",
       "    </tr>\n",
       "    <tr>\n",
       "      <th>1</th>\n",
       "      <td>11</td>\n",
       "      <td>346214.142857</td>\n",
       "    </tr>\n",
       "    <tr>\n",
       "      <th>2</th>\n",
       "      <td>20</td>\n",
       "      <td>5758.000000</td>\n",
       "    </tr>\n",
       "    <tr>\n",
       "      <th>3</th>\n",
       "      <td>21</td>\n",
       "      <td>64597.857143</td>\n",
       "    </tr>\n",
       "    <tr>\n",
       "      <th>4</th>\n",
       "      <td>22</td>\n",
       "      <td>9712.571429</td>\n",
       "    </tr>\n",
       "  </tbody>\n",
       "</table>\n",
       "</div>"
      ],
      "text/plain": [
       "   mrhst_induty_cl_code   selng_cascnt\n",
       "0                    10    7185.857143\n",
       "1                    11  346214.142857\n",
       "2                    20    5758.000000\n",
       "3                    21   64597.857143\n",
       "4                    22    9712.571429"
      ]
     },
     "execution_count": 94,
     "metadata": {},
     "output_type": "execute_result"
    }
   ],
   "source": [
    "total_mean[0].head()"
   ]
  },
  {
   "cell_type": "markdown",
   "metadata": {},
   "source": [
    "#### 용산구 평균값"
   ]
  },
  {
   "cell_type": "code",
   "execution_count": 70,
   "metadata": {},
   "outputs": [
    {
     "data": {
      "text/html": [
       "<div>\n",
       "<style scoped>\n",
       "    .dataframe tbody tr th:only-of-type {\n",
       "        vertical-align: middle;\n",
       "    }\n",
       "\n",
       "    .dataframe tbody tr th {\n",
       "        vertical-align: top;\n",
       "    }\n",
       "\n",
       "    .dataframe thead th {\n",
       "        text-align: right;\n",
       "    }\n",
       "</style>\n",
       "<table border=\"1\" class=\"dataframe\">\n",
       "  <thead>\n",
       "    <tr style=\"text-align: right;\">\n",
       "      <th></th>\n",
       "      <th>Unnamed: 0</th>\n",
       "      <th>receipt_dttm</th>\n",
       "      <th>adstrd_code</th>\n",
       "      <th>adstrd_nm</th>\n",
       "      <th>mrhst_induty_cl_code</th>\n",
       "      <th>mrhst_induty_cl_nm</th>\n",
       "      <th>selng_cascnt</th>\n",
       "      <th>salamt</th>\n",
       "    </tr>\n",
       "  </thead>\n",
       "  <tbody>\n",
       "    <tr>\n",
       "      <th>552851</th>\n",
       "      <td>552851</td>\n",
       "      <td>20200229</td>\n",
       "      <td>11170</td>\n",
       "      <td>용문동</td>\n",
       "      <td>71</td>\n",
       "      <td>화 장 품</td>\n",
       "      <td>1.0</td>\n",
       "      <td>35000.0</td>\n",
       "    </tr>\n",
       "    <tr>\n",
       "      <th>552937</th>\n",
       "      <td>552937</td>\n",
       "      <td>20200229</td>\n",
       "      <td>11170</td>\n",
       "      <td>이태원1동</td>\n",
       "      <td>71</td>\n",
       "      <td>이 용 원</td>\n",
       "      <td>1.0</td>\n",
       "      <td>35000.0</td>\n",
       "    </tr>\n",
       "    <tr>\n",
       "      <th>552972</th>\n",
       "      <td>552972</td>\n",
       "      <td>20200229</td>\n",
       "      <td>11170</td>\n",
       "      <td>남영동</td>\n",
       "      <td>91</td>\n",
       "      <td>이동통신요금</td>\n",
       "      <td>169.0</td>\n",
       "      <td>9741328.0</td>\n",
       "    </tr>\n",
       "    <tr>\n",
       "      <th>553009</th>\n",
       "      <td>553009</td>\n",
       "      <td>20200229</td>\n",
       "      <td>11170</td>\n",
       "      <td>용산2가동</td>\n",
       "      <td>42</td>\n",
       "      <td>기타의류</td>\n",
       "      <td>4.0</td>\n",
       "      <td>52400.0</td>\n",
       "    </tr>\n",
       "    <tr>\n",
       "      <th>553016</th>\n",
       "      <td>553016</td>\n",
       "      <td>20200229</td>\n",
       "      <td>11170</td>\n",
       "      <td>남영동</td>\n",
       "      <td>21</td>\n",
       "      <td>헬스 크럽</td>\n",
       "      <td>2.0</td>\n",
       "      <td>646500.0</td>\n",
       "    </tr>\n",
       "  </tbody>\n",
       "</table>\n",
       "</div>"
      ],
      "text/plain": [
       "        Unnamed: 0  receipt_dttm  adstrd_code adstrd_nm  mrhst_induty_cl_code  \\\n",
       "552851      552851      20200229        11170       용문동                    71   \n",
       "552937      552937      20200229        11170     이태원1동                    71   \n",
       "552972      552972      20200229        11170       남영동                    91   \n",
       "553009      553009      20200229        11170     용산2가동                    42   \n",
       "553016      553016      20200229        11170       남영동                    21   \n",
       "\n",
       "       mrhst_induty_cl_nm  selng_cascnt     salamt  \n",
       "552851              화 장 품           1.0    35000.0  \n",
       "552937              이 용 원           1.0    35000.0  \n",
       "552972             이동통신요금         169.0  9741328.0  \n",
       "553009               기타의류           4.0    52400.0  \n",
       "553016              헬스 크럽           2.0   646500.0  "
      ]
     },
     "execution_count": 70,
     "metadata": {},
     "output_type": "execute_result"
    }
   ],
   "source": [
    "is_day = YS['receipt_dttm'] <= 20200229\n",
    "ys_mean = YS[is_day]\n",
    "ys_mean.tail()"
   ]
  },
  {
   "cell_type": "code",
   "execution_count": 71,
   "metadata": {},
   "outputs": [
    {
     "data": {
      "text/plain": [
       "(20200104, 49)"
      ]
     },
     "execution_count": 71,
     "metadata": {},
     "output_type": "execute_result"
    }
   ],
   "source": [
    "count0102 = ys_mean['receipt_dttm'].value_counts().index\n",
    "day0102 = []\n",
    "for i in count0102:\n",
    "    day0102.append(i)\n",
    "day0102.sort()\n",
    "day0102[0], len(day0102)"
   ]
  },
  {
   "cell_type": "code",
   "execution_count": 73,
   "metadata": {},
   "outputs": [
    {
     "data": {
      "text/html": [
       "<div>\n",
       "<style scoped>\n",
       "    .dataframe tbody tr th:only-of-type {\n",
       "        vertical-align: middle;\n",
       "    }\n",
       "\n",
       "    .dataframe tbody tr th {\n",
       "        vertical-align: top;\n",
       "    }\n",
       "\n",
       "    .dataframe thead th {\n",
       "        text-align: right;\n",
       "    }\n",
       "</style>\n",
       "<table border=\"1\" class=\"dataframe\">\n",
       "  <thead>\n",
       "    <tr style=\"text-align: right;\">\n",
       "      <th></th>\n",
       "      <th>mrhst_induty_cl_code</th>\n",
       "      <th>selng_cascnt</th>\n",
       "    </tr>\n",
       "  </thead>\n",
       "  <tbody>\n",
       "    <tr>\n",
       "      <th>0</th>\n",
       "      <td>10</td>\n",
       "      <td>15318.0</td>\n",
       "    </tr>\n",
       "    <tr>\n",
       "      <th>1</th>\n",
       "      <td>11</td>\n",
       "      <td>868.0</td>\n",
       "    </tr>\n",
       "    <tr>\n",
       "      <th>2</th>\n",
       "      <td>20</td>\n",
       "      <td>9218.0</td>\n",
       "    </tr>\n",
       "    <tr>\n",
       "      <th>3</th>\n",
       "      <td>21</td>\n",
       "      <td>49894.0</td>\n",
       "    </tr>\n",
       "    <tr>\n",
       "      <th>4</th>\n",
       "      <td>22</td>\n",
       "      <td>208283.0</td>\n",
       "    </tr>\n",
       "  </tbody>\n",
       "</table>\n",
       "</div>"
      ],
      "text/plain": [
       "   mrhst_induty_cl_code  selng_cascnt\n",
       "0                    10       15318.0\n",
       "1                    11         868.0\n",
       "2                    20        9218.0\n",
       "3                    21       49894.0\n",
       "4                    22      208283.0"
      ]
     },
     "execution_count": 73,
     "metadata": {},
     "output_type": "execute_result"
    }
   ],
   "source": [
    "ys_mean = ys_mean.groupby(['mrhst_induty_cl_code'], as_index = False).selng_cascnt.sum()\n",
    "ys_mean.head()"
   ]
  },
  {
   "cell_type": "code",
   "execution_count": 74,
   "metadata": {},
   "outputs": [],
   "source": [
    "ys_mean['selng_cascnt'] = ys_mean['selng_cascnt'].apply(lambda x:x/len(day0102))"
   ]
  },
  {
   "cell_type": "code",
   "execution_count": 93,
   "metadata": {},
   "outputs": [
    {
     "data": {
      "text/html": [
       "<div>\n",
       "<style scoped>\n",
       "    .dataframe tbody tr th:only-of-type {\n",
       "        vertical-align: middle;\n",
       "    }\n",
       "\n",
       "    .dataframe tbody tr th {\n",
       "        vertical-align: top;\n",
       "    }\n",
       "\n",
       "    .dataframe thead th {\n",
       "        text-align: right;\n",
       "    }\n",
       "</style>\n",
       "<table border=\"1\" class=\"dataframe\">\n",
       "  <thead>\n",
       "    <tr style=\"text-align: right;\">\n",
       "      <th></th>\n",
       "      <th>mrhst_induty_cl_code</th>\n",
       "      <th>selng_cascnt</th>\n",
       "    </tr>\n",
       "  </thead>\n",
       "  <tbody>\n",
       "    <tr>\n",
       "      <th>0</th>\n",
       "      <td>10</td>\n",
       "      <td>312.612245</td>\n",
       "    </tr>\n",
       "    <tr>\n",
       "      <th>1</th>\n",
       "      <td>11</td>\n",
       "      <td>17.714286</td>\n",
       "    </tr>\n",
       "    <tr>\n",
       "      <th>2</th>\n",
       "      <td>20</td>\n",
       "      <td>188.122449</td>\n",
       "    </tr>\n",
       "    <tr>\n",
       "      <th>3</th>\n",
       "      <td>21</td>\n",
       "      <td>1018.244898</td>\n",
       "    </tr>\n",
       "    <tr>\n",
       "      <th>4</th>\n",
       "      <td>22</td>\n",
       "      <td>4250.673469</td>\n",
       "    </tr>\n",
       "  </tbody>\n",
       "</table>\n",
       "</div>"
      ],
      "text/plain": [
       "   mrhst_induty_cl_code  selng_cascnt\n",
       "0                    10    312.612245\n",
       "1                    11     17.714286\n",
       "2                    20    188.122449\n",
       "3                    21   1018.244898\n",
       "4                    22   4250.673469"
      ]
     },
     "execution_count": 93,
     "metadata": {},
     "output_type": "execute_result"
    }
   ],
   "source": [
    "ys_mean.head()  # 1, 2월에 업종코드 95가 없음."
   ]
  },
  {
   "cell_type": "markdown",
   "metadata": {},
   "source": [
    "#### 용산구 상대값 계산"
   ]
  },
  {
   "cell_type": "markdown",
   "metadata": {},
   "source": [
    "상대값 = {(주차 평균) - (1, 2월 평균)}/(1, 2월 평균) * 100"
   ]
  },
  {
   "cell_type": "code",
   "execution_count": 80,
   "metadata": {},
   "outputs": [
    {
     "data": {
      "text/plain": [
       "15"
      ]
     },
     "execution_count": 80,
     "metadata": {},
     "output_type": "execute_result"
    }
   ],
   "source": [
    "len(total_mean) # 3월부터 6월까지 총 15주 존재"
   ]
  },
  {
   "cell_type": "code",
   "execution_count": 115,
   "metadata": {},
   "outputs": [
    {
     "data": {
      "text/html": [
       "<div>\n",
       "<style scoped>\n",
       "    .dataframe tbody tr th:only-of-type {\n",
       "        vertical-align: middle;\n",
       "    }\n",
       "\n",
       "    .dataframe tbody tr th {\n",
       "        vertical-align: top;\n",
       "    }\n",
       "\n",
       "    .dataframe thead th {\n",
       "        text-align: right;\n",
       "    }\n",
       "</style>\n",
       "<table border=\"1\" class=\"dataframe\">\n",
       "  <thead>\n",
       "    <tr style=\"text-align: right;\">\n",
       "      <th></th>\n",
       "      <th>mrhst_induty_cl_code</th>\n",
       "      <th>selng_cascnt</th>\n",
       "    </tr>\n",
       "  </thead>\n",
       "  <tbody>\n",
       "    <tr>\n",
       "      <th>30</th>\n",
       "      <td>92</td>\n",
       "      <td>7803.428571</td>\n",
       "    </tr>\n",
       "    <tr>\n",
       "      <th>31</th>\n",
       "      <td>93</td>\n",
       "      <td>4101.285714</td>\n",
       "    </tr>\n",
       "    <tr>\n",
       "      <th>32</th>\n",
       "      <td>95</td>\n",
       "      <td>21233.285714</td>\n",
       "    </tr>\n",
       "    <tr>\n",
       "      <th>33</th>\n",
       "      <td>96</td>\n",
       "      <td>64.857143</td>\n",
       "    </tr>\n",
       "    <tr>\n",
       "      <th>34</th>\n",
       "      <td>99</td>\n",
       "      <td>309692.285714</td>\n",
       "    </tr>\n",
       "  </tbody>\n",
       "</table>\n",
       "</div>"
      ],
      "text/plain": [
       "    mrhst_induty_cl_code   selng_cascnt\n",
       "30                    92    7803.428571\n",
       "31                    93    4101.285714\n",
       "32                    95   21233.285714\n",
       "33                    96      64.857143\n",
       "34                    99  309692.285714"
      ]
     },
     "execution_count": 115,
     "metadata": {},
     "output_type": "execute_result"
    }
   ],
   "source": [
    "total_mean[0].tail()"
   ]
  },
  {
   "cell_type": "code",
   "execution_count": 116,
   "metadata": {},
   "outputs": [
    {
     "data": {
      "text/html": [
       "<div>\n",
       "<style scoped>\n",
       "    .dataframe tbody tr th:only-of-type {\n",
       "        vertical-align: middle;\n",
       "    }\n",
       "\n",
       "    .dataframe tbody tr th {\n",
       "        vertical-align: top;\n",
       "    }\n",
       "\n",
       "    .dataframe thead th {\n",
       "        text-align: right;\n",
       "    }\n",
       "</style>\n",
       "<table border=\"1\" class=\"dataframe\">\n",
       "  <thead>\n",
       "    <tr style=\"text-align: right;\">\n",
       "      <th></th>\n",
       "      <th>mrhst_induty_cl_code</th>\n",
       "      <th>selng_cascnt</th>\n",
       "    </tr>\n",
       "  </thead>\n",
       "  <tbody>\n",
       "    <tr>\n",
       "      <th>29</th>\n",
       "      <td>91.0</td>\n",
       "      <td>56490.571429</td>\n",
       "    </tr>\n",
       "    <tr>\n",
       "      <th>30</th>\n",
       "      <td>92.0</td>\n",
       "      <td>7803.428571</td>\n",
       "    </tr>\n",
       "    <tr>\n",
       "      <th>31</th>\n",
       "      <td>93.0</td>\n",
       "      <td>4101.285714</td>\n",
       "    </tr>\n",
       "    <tr>\n",
       "      <th>32</th>\n",
       "      <td>96.0</td>\n",
       "      <td>64.857143</td>\n",
       "    </tr>\n",
       "    <tr>\n",
       "      <th>33</th>\n",
       "      <td>99.0</td>\n",
       "      <td>309692.285714</td>\n",
       "    </tr>\n",
       "  </tbody>\n",
       "</table>\n",
       "</div>"
      ],
      "text/plain": [
       "    mrhst_induty_cl_code   selng_cascnt\n",
       "29                  91.0   56490.571429\n",
       "30                  92.0    7803.428571\n",
       "31                  93.0    4101.285714\n",
       "32                  96.0      64.857143\n",
       "33                  99.0  309692.285714"
      ]
     },
     "execution_count": 116,
     "metadata": {},
     "output_type": "execute_result"
    }
   ],
   "source": [
    "re_total_mean = []\n",
    "num = 0\n",
    "for i in total_mean:\n",
    "    i = i.drop([32, 33, 34]) # 32번째 열은 업종코드 95\n",
    "    i = i.append({'mrhst_induty_cl_code' : total_mean[num]['mrhst_induty_cl_code'][33], 'selng_cascnt' : total_mean[num]['selng_cascnt'][33]}, ignore_index = True)\n",
    "    i = i.append({'mrhst_induty_cl_code' : total_mean[num]['mrhst_induty_cl_code'][34], 'selng_cascnt' : total_mean[num]['selng_cascnt'][34]}, ignore_index = True)\n",
    "    re_total_mean.append(i)\n",
    "    num = num+1\n",
    "re_total_mean[0].tail()"
   ]
  },
  {
   "cell_type": "code",
   "execution_count": 123,
   "metadata": {},
   "outputs": [
    {
     "data": {
      "text/html": [
       "<div>\n",
       "<style scoped>\n",
       "    .dataframe tbody tr th:only-of-type {\n",
       "        vertical-align: middle;\n",
       "    }\n",
       "\n",
       "    .dataframe tbody tr th {\n",
       "        vertical-align: top;\n",
       "    }\n",
       "\n",
       "    .dataframe thead th {\n",
       "        text-align: right;\n",
       "    }\n",
       "</style>\n",
       "<table border=\"1\" class=\"dataframe\">\n",
       "  <thead>\n",
       "    <tr style=\"text-align: right;\">\n",
       "      <th></th>\n",
       "      <th>mrhst_induty_cl_code</th>\n",
       "      <th>selng_cascnt</th>\n",
       "    </tr>\n",
       "  </thead>\n",
       "  <tbody>\n",
       "    <tr>\n",
       "      <th>0</th>\n",
       "      <td>10.0</td>\n",
       "      <td>7185.857143</td>\n",
       "    </tr>\n",
       "    <tr>\n",
       "      <th>1</th>\n",
       "      <td>11.0</td>\n",
       "      <td>346214.142857</td>\n",
       "    </tr>\n",
       "    <tr>\n",
       "      <th>2</th>\n",
       "      <td>20.0</td>\n",
       "      <td>5758.000000</td>\n",
       "    </tr>\n",
       "    <tr>\n",
       "      <th>3</th>\n",
       "      <td>21.0</td>\n",
       "      <td>64597.857143</td>\n",
       "    </tr>\n",
       "    <tr>\n",
       "      <th>4</th>\n",
       "      <td>22.0</td>\n",
       "      <td>9712.571429</td>\n",
       "    </tr>\n",
       "  </tbody>\n",
       "</table>\n",
       "</div>"
      ],
      "text/plain": [
       "   mrhst_induty_cl_code   selng_cascnt\n",
       "0                  10.0    7185.857143\n",
       "1                  11.0  346214.142857\n",
       "2                  20.0    5758.000000\n",
       "3                  21.0   64597.857143\n",
       "4                  22.0    9712.571429"
      ]
     },
     "execution_count": 123,
     "metadata": {},
     "output_type": "execute_result"
    }
   ],
   "source": [
    "re_total_mean[0].head()"
   ]
  },
  {
   "cell_type": "code",
   "execution_count": 124,
   "metadata": {},
   "outputs": [
    {
     "data": {
      "text/plain": [
       "([2389.163076119598,\n",
       "  2098671.7741935486,\n",
       "  3592.2000433933604,\n",
       "  6174.409748667174,\n",
       "  133.83185377587225,\n",
       "  6837.067773167358,\n",
       "  3992.4005865608556,\n",
       "  19864.630225080386,\n",
       "  10413.944641873968,\n",
       "  2771.186440677966,\n",
       "  682.773916740318,\n",
       "  98.78260787228604,\n",
       "  4400.75211532435,\n",
       "  40708.333333333336,\n",
       "  6624.649523952321,\n",
       "  6074.047570016474,\n",
       "  4947.773571299802,\n",
       "  888.1913622396721,\n",
       "  6663.149078726969,\n",
       "  7613.381302690222,\n",
       "  2658.6577405060275,\n",
       "  5624.569348968864,\n",
       "  3470.663738896097,\n",
       "  2371.0699757325356,\n",
       "  938.0854136579327,\n",
       "  972.7610553697509,\n",
       "  1547.22343863252,\n",
       "  2977.900912646675,\n",
       "  3823.8247600295344,\n",
       "  1825.166136061571,\n",
       "  5895.541308465686,\n",
       "  9566.635987114589,\n",
       "  142933.3333333333,\n",
       "  228956.68653158526],\n",
       " 34)"
      ]
     },
     "execution_count": 124,
     "metadata": {},
     "output_type": "execute_result"
    }
   ],
   "source": [
    "per1 = []\n",
    "ys_per = []\n",
    "\n",
    "for i in re_total_mean:\n",
    "    per1 = []\n",
    "    for j in range(0, 34):\n",
    "        a = i['selng_cascnt'][j]\n",
    "        b = ys_mean['selng_cascnt'][j]\n",
    "        per = (a - b)/b*100\n",
    "        per1.append(per)\n",
    "    ys_per.append(per1)\n",
    "ys_per[1], len(ys_per[1])"
   ]
  },
  {
   "cell_type": "code",
   "execution_count": null,
   "metadata": {},
   "outputs": [],
   "source": []
  }
 ],
 "metadata": {
  "kernelspec": {
   "display_name": "Python 3",
   "language": "python",
   "name": "python3"
  },
  "language_info": {
   "codemirror_mode": {
    "name": "ipython",
    "version": 3
   },
   "file_extension": ".py",
   "mimetype": "text/x-python",
   "name": "python",
   "nbconvert_exporter": "python",
   "pygments_lexer": "ipython3",
   "version": "3.7.3"
  }
 },
 "nbformat": 4,
 "nbformat_minor": 2
}
