{
 "cells": [
  {
   "cell_type": "code",
   "execution_count": 8,
   "metadata": {},
   "outputs": [],
   "source": [
    "import pandas as pd\n",
    "import seaborn as sns\n",
    "import numpy as np\n",
    "import warnings\n",
    "warnings.filterwarnings(action='ignore')\n",
    "\n",
    "import matplotlib as mpl\n",
    "import matplotlib.pyplot as plt\n",
    "plt.rc('font', family='NanumGothic')\n",
    "\n",
    "import datetime\n",
    "import plotly.express as px\n",
    "\n",
    "import plotly\n",
    "from plotly.graph_objs import Scatter, Line, Layout\n",
    " \n",
    "import importlib\n",
    "import json\n",
    " \n",
    "from plotly.subplots import make_subplots\n",
    "import plotly.graph_objects as go\n"
   ]
  },
  {
   "cell_type": "markdown",
   "metadata": {},
   "source": [
    "전국확진자수"
   ]
  },
  {
   "cell_type": "code",
   "execution_count": 41,
   "metadata": {},
   "outputs": [],
   "source": [
    "case=pd.read_csv('Time.csv',usecols=['date','confirmed'])\n",
    "case=case.sort_values(['date'],ascending=False)\n",
    "case=case.reset_index()\n",
    "case=case.drop(['index'],axis=1)\n",
    "\n",
    "d_c=[]\n",
    "for i in range(len(case)-1):\n",
    "    d_c.append(case['confirmed'][i]-case['confirmed'][i+1])\n",
    "d_c.append(1)\n",
    "\n",
    "case['daily']=d_c\n",
    "case=case.sort_values(['date'],ascending=True)\n",
    "case=case.reset_index()\n",
    "case=case.drop(['index'],axis=1)"
   ]
  },
  {
   "cell_type": "code",
   "execution_count": 9,
   "metadata": {
    "scrolled": false
   },
   "outputs": [
    {
     "data": {
      "text/html": [
       "<div>\n",
       "<style scoped>\n",
       "    .dataframe tbody tr th:only-of-type {\n",
       "        vertical-align: middle;\n",
       "    }\n",
       "\n",
       "    .dataframe tbody tr th {\n",
       "        vertical-align: top;\n",
       "    }\n",
       "\n",
       "    .dataframe thead th {\n",
       "        text-align: right;\n",
       "    }\n",
       "</style>\n",
       "<table border=\"1\" class=\"dataframe\">\n",
       "  <thead>\n",
       "    <tr style=\"text-align: right;\">\n",
       "      <th></th>\n",
       "      <th>patient_id</th>\n",
       "      <th>sex</th>\n",
       "      <th>age</th>\n",
       "      <th>country</th>\n",
       "      <th>province</th>\n",
       "      <th>city</th>\n",
       "      <th>infection_case</th>\n",
       "      <th>infected_by</th>\n",
       "      <th>contact_number</th>\n",
       "      <th>symptom_onset_date</th>\n",
       "      <th>confirmed_date</th>\n",
       "      <th>released_date</th>\n",
       "      <th>deceased_date</th>\n",
       "      <th>state</th>\n",
       "    </tr>\n",
       "  </thead>\n",
       "  <tbody>\n",
       "    <tr>\n",
       "      <th>0</th>\n",
       "      <td>1400000001</td>\n",
       "      <td>female</td>\n",
       "      <td>30s</td>\n",
       "      <td>China</td>\n",
       "      <td>인천</td>\n",
       "      <td>기타</td>\n",
       "      <td>overseas inflow</td>\n",
       "      <td>NaN</td>\n",
       "      <td>NaN</td>\n",
       "      <td>2020-01-19</td>\n",
       "      <td>2020-01-20</td>\n",
       "      <td>2020-02-06</td>\n",
       "      <td>NaN</td>\n",
       "      <td>released</td>\n",
       "    </tr>\n",
       "    <tr>\n",
       "      <th>1</th>\n",
       "      <td>1000000001</td>\n",
       "      <td>male</td>\n",
       "      <td>50s</td>\n",
       "      <td>Korea</td>\n",
       "      <td>서울</td>\n",
       "      <td>강서구</td>\n",
       "      <td>overseas inflow</td>\n",
       "      <td>NaN</td>\n",
       "      <td>75</td>\n",
       "      <td>2020-01-22</td>\n",
       "      <td>2020-01-23</td>\n",
       "      <td>2020-02-05</td>\n",
       "      <td>NaN</td>\n",
       "      <td>released</td>\n",
       "    </tr>\n",
       "    <tr>\n",
       "      <th>2</th>\n",
       "      <td>2000000001</td>\n",
       "      <td>male</td>\n",
       "      <td>50s</td>\n",
       "      <td>Korea</td>\n",
       "      <td>경기도</td>\n",
       "      <td>고양시</td>\n",
       "      <td>overseas inflow</td>\n",
       "      <td>NaN</td>\n",
       "      <td>16</td>\n",
       "      <td>NaN</td>\n",
       "      <td>2020-01-26</td>\n",
       "      <td>2020-02-12</td>\n",
       "      <td>NaN</td>\n",
       "      <td>released</td>\n",
       "    </tr>\n",
       "  </tbody>\n",
       "</table>\n",
       "</div>"
      ],
      "text/plain": [
       "   patient_id     sex  age country province city   infection_case infected_by  \\\n",
       "0  1400000001  female  30s   China       인천   기타  overseas inflow         NaN   \n",
       "1  1000000001    male  50s   Korea       서울  강서구  overseas inflow         NaN   \n",
       "2  2000000001    male  50s   Korea      경기도  고양시  overseas inflow         NaN   \n",
       "\n",
       "  contact_number symptom_onset_date confirmed_date released_date  \\\n",
       "0            NaN         2020-01-19     2020-01-20    2020-02-06   \n",
       "1             75         2020-01-22     2020-01-23    2020-02-05   \n",
       "2             16                NaN     2020-01-26    2020-02-12   \n",
       "\n",
       "  deceased_date     state  \n",
       "0           NaN  released  \n",
       "1           NaN  released  \n",
       "2           NaN  released  "
      ]
     },
     "execution_count": 9,
     "metadata": {},
     "output_type": "execute_result"
    }
   ],
   "source": [
    "patientinfo=pd.read_csv('PatientInfo.csv')\n",
    "patientinfo.head(3)"
   ]
  },
  {
   "cell_type": "markdown",
   "metadata": {},
   "source": [
    "서울시 확진자 수만 표기"
   ]
  },
  {
   "cell_type": "code",
   "execution_count": 20,
   "metadata": {},
   "outputs": [],
   "source": [
    "patientinfo_seoul=patientinfo[patientinfo['province']=='서울']"
   ]
  },
  {
   "cell_type": "code",
   "execution_count": 21,
   "metadata": {},
   "outputs": [],
   "source": [
    "patient_s=patientinfo_seoul[['confirmed_date','province','infection_case']]\n",
    "patient_s['cnt']=1\n",
    "patient_s=patient_s.groupby(['confirmed_date','province'],as_index=False).cnt.sum()\n",
    "patient_s['cnt_sum']=patient_s.groupby('province')['cnt'].cumsum()"
   ]
  },
  {
   "cell_type": "code",
   "execution_count": 22,
   "metadata": {},
   "outputs": [],
   "source": [
    "patient_s['confirmed_date']=pd.to_datetime(patient_s['confirmed_date'])"
   ]
  },
  {
   "cell_type": "code",
   "execution_count": 23,
   "metadata": {},
   "outputs": [],
   "source": [
    "patient_s['주차']=patient_s['confirmed_date'].dt.weekofyear\n",
    "patient_s['월']=patient_s['confirmed_date'].dt.month\n",
    "\n",
    "patient_s['월'] = patient_s['월'].apply(lambda x:f'{x}월')\n",
    "patient_s['주'] = patient_s['주'].apply(lambda x:f'{x}주차')"
   ]
  },
  {
   "cell_type": "code",
   "execution_count": 30,
   "metadata": {},
   "outputs": [
    {
     "data": {
      "text/html": [
       "<div>\n",
       "<style scoped>\n",
       "    .dataframe tbody tr th:only-of-type {\n",
       "        vertical-align: middle;\n",
       "    }\n",
       "\n",
       "    .dataframe tbody tr th {\n",
       "        vertical-align: top;\n",
       "    }\n",
       "\n",
       "    .dataframe thead th {\n",
       "        text-align: right;\n",
       "    }\n",
       "</style>\n",
       "<table border=\"1\" class=\"dataframe\">\n",
       "  <thead>\n",
       "    <tr style=\"text-align: right;\">\n",
       "      <th></th>\n",
       "      <th>confirmed_date</th>\n",
       "      <th>province</th>\n",
       "      <th>cnt</th>\n",
       "      <th>cnt_sum</th>\n",
       "      <th>주차</th>\n",
       "      <th>월</th>\n",
       "    </tr>\n",
       "  </thead>\n",
       "  <tbody>\n",
       "    <tr>\n",
       "      <th>0</th>\n",
       "      <td>2020-01-23</td>\n",
       "      <td>서울</td>\n",
       "      <td>1</td>\n",
       "      <td>1</td>\n",
       "      <td>4</td>\n",
       "      <td>1</td>\n",
       "    </tr>\n",
       "    <tr>\n",
       "      <th>1</th>\n",
       "      <td>2020-01-30</td>\n",
       "      <td>서울</td>\n",
       "      <td>3</td>\n",
       "      <td>4</td>\n",
       "      <td>5</td>\n",
       "      <td>1</td>\n",
       "    </tr>\n",
       "    <tr>\n",
       "      <th>2</th>\n",
       "      <td>2020-01-31</td>\n",
       "      <td>서울</td>\n",
       "      <td>3</td>\n",
       "      <td>7</td>\n",
       "      <td>5</td>\n",
       "      <td>1</td>\n",
       "    </tr>\n",
       "    <tr>\n",
       "      <th>3</th>\n",
       "      <td>2020-02-02</td>\n",
       "      <td>서울</td>\n",
       "      <td>1</td>\n",
       "      <td>8</td>\n",
       "      <td>5</td>\n",
       "      <td>2</td>\n",
       "    </tr>\n",
       "    <tr>\n",
       "      <th>4</th>\n",
       "      <td>2020-02-05</td>\n",
       "      <td>서울</td>\n",
       "      <td>2</td>\n",
       "      <td>10</td>\n",
       "      <td>6</td>\n",
       "      <td>2</td>\n",
       "    </tr>\n",
       "    <tr>\n",
       "      <th>...</th>\n",
       "      <td>...</td>\n",
       "      <td>...</td>\n",
       "      <td>...</td>\n",
       "      <td>...</td>\n",
       "      <td>...</td>\n",
       "      <td>...</td>\n",
       "    </tr>\n",
       "    <tr>\n",
       "      <th>124</th>\n",
       "      <td>2020-06-25</td>\n",
       "      <td>서울</td>\n",
       "      <td>17</td>\n",
       "      <td>1267</td>\n",
       "      <td>26</td>\n",
       "      <td>6</td>\n",
       "    </tr>\n",
       "    <tr>\n",
       "      <th>125</th>\n",
       "      <td>2020-06-26</td>\n",
       "      <td>서울</td>\n",
       "      <td>17</td>\n",
       "      <td>1284</td>\n",
       "      <td>26</td>\n",
       "      <td>6</td>\n",
       "    </tr>\n",
       "    <tr>\n",
       "      <th>126</th>\n",
       "      <td>2020-06-27</td>\n",
       "      <td>서울</td>\n",
       "      <td>14</td>\n",
       "      <td>1298</td>\n",
       "      <td>26</td>\n",
       "      <td>6</td>\n",
       "    </tr>\n",
       "    <tr>\n",
       "      <th>127</th>\n",
       "      <td>2020-06-28</td>\n",
       "      <td>서울</td>\n",
       "      <td>7</td>\n",
       "      <td>1305</td>\n",
       "      <td>26</td>\n",
       "      <td>6</td>\n",
       "    </tr>\n",
       "    <tr>\n",
       "      <th>128</th>\n",
       "      <td>2020-06-29</td>\n",
       "      <td>서울</td>\n",
       "      <td>7</td>\n",
       "      <td>1312</td>\n",
       "      <td>27</td>\n",
       "      <td>6</td>\n",
       "    </tr>\n",
       "  </tbody>\n",
       "</table>\n",
       "<p>129 rows × 6 columns</p>\n",
       "</div>"
      ],
      "text/plain": [
       "    confirmed_date province  cnt  cnt_sum  주차  월\n",
       "0       2020-01-23       서울    1        1   4  1\n",
       "1       2020-01-30       서울    3        4   5  1\n",
       "2       2020-01-31       서울    3        7   5  1\n",
       "3       2020-02-02       서울    1        8   5  2\n",
       "4       2020-02-05       서울    2       10   6  2\n",
       "..             ...      ...  ...      ...  .. ..\n",
       "124     2020-06-25       서울   17     1267  26  6\n",
       "125     2020-06-26       서울   17     1284  26  6\n",
       "126     2020-06-27       서울   14     1298  26  6\n",
       "127     2020-06-28       서울    7     1305  26  6\n",
       "128     2020-06-29       서울    7     1312  27  6\n",
       "\n",
       "[129 rows x 6 columns]"
      ]
     },
     "execution_count": 30,
     "metadata": {},
     "output_type": "execute_result"
    }
   ],
   "source": [
    "patient_s"
   ]
  },
  {
   "cell_type": "code",
   "execution_count": 42,
   "metadata": {},
   "outputs": [
    {
     "data": {
      "application/vnd.plotly.v1+json": {
       "config": {
        "plotlyServerURL": "https://plot.ly"
       },
       "data": [
        {
         "alignmentgroup": "True",
         "hovertemplate": "date=%{x}<br>daily=%{y}<extra></extra>",
         "legendgroup": "",
         "marker": {
          "color": "#636efa"
         },
         "name": "",
         "offsetgroup": "",
         "orientation": "v",
         "showlegend": false,
         "textposition": "auto",
         "type": "bar",
         "x": [
          "2020-01-20",
          "2020-01-21",
          "2020-01-22",
          "2020-01-23",
          "2020-01-24",
          "2020-01-25",
          "2020-01-26",
          "2020-01-27",
          "2020-01-28",
          "2020-01-29",
          "2020-01-30",
          "2020-01-31",
          "2020-02-01",
          "2020-02-02",
          "2020-02-03",
          "2020-02-04",
          "2020-02-05",
          "2020-02-06",
          "2020-02-07",
          "2020-02-08",
          "2020-02-09",
          "2020-02-10",
          "2020-02-11",
          "2020-02-12",
          "2020-02-13",
          "2020-02-14",
          "2020-02-15",
          "2020-02-16",
          "2020-02-17",
          "2020-02-18",
          "2020-02-19",
          "2020-02-20",
          "2020-02-21",
          "2020-02-22",
          "2020-02-23",
          "2020-02-24",
          "2020-02-25",
          "2020-02-26",
          "2020-02-27",
          "2020-02-28",
          "2020-02-29",
          "2020-03-01",
          "2020-03-02",
          "2020-03-03",
          "2020-03-04",
          "2020-03-05",
          "2020-03-06",
          "2020-03-07",
          "2020-03-08",
          "2020-03-09",
          "2020-03-10",
          "2020-03-11",
          "2020-03-12",
          "2020-03-13",
          "2020-03-14",
          "2020-03-15",
          "2020-03-16",
          "2020-03-17",
          "2020-03-18",
          "2020-03-19",
          "2020-03-20",
          "2020-03-21",
          "2020-03-22",
          "2020-03-23",
          "2020-03-24",
          "2020-03-25",
          "2020-03-26",
          "2020-03-27",
          "2020-03-28",
          "2020-03-29",
          "2020-03-30",
          "2020-03-31",
          "2020-04-01",
          "2020-04-02",
          "2020-04-03",
          "2020-04-04",
          "2020-04-05",
          "2020-04-06",
          "2020-04-07",
          "2020-04-08",
          "2020-04-09",
          "2020-04-10",
          "2020-04-11",
          "2020-04-12",
          "2020-04-13",
          "2020-04-14",
          "2020-04-15",
          "2020-04-16",
          "2020-04-17",
          "2020-04-18",
          "2020-04-19",
          "2020-04-20",
          "2020-04-21",
          "2020-04-22",
          "2020-04-23",
          "2020-04-24",
          "2020-04-25",
          "2020-04-26",
          "2020-04-27",
          "2020-04-28",
          "2020-04-29",
          "2020-04-30",
          "2020-05-01",
          "2020-05-02",
          "2020-05-03",
          "2020-05-04",
          "2020-05-05",
          "2020-05-06",
          "2020-05-07",
          "2020-05-08",
          "2020-05-09",
          "2020-05-10",
          "2020-05-11",
          "2020-05-12",
          "2020-05-13",
          "2020-05-14",
          "2020-05-15",
          "2020-05-16",
          "2020-05-17",
          "2020-05-18",
          "2020-05-19",
          "2020-05-20",
          "2020-05-21",
          "2020-05-22",
          "2020-05-23",
          "2020-05-24",
          "2020-05-25",
          "2020-05-26",
          "2020-05-27",
          "2020-05-28",
          "2020-05-29",
          "2020-05-30",
          "2020-05-31",
          "2020-06-01",
          "2020-06-02",
          "2020-06-03",
          "2020-06-04",
          "2020-06-05",
          "2020-06-06",
          "2020-06-07",
          "2020-06-08",
          "2020-06-09",
          "2020-06-10",
          "2020-06-11",
          "2020-06-12",
          "2020-06-13",
          "2020-06-14",
          "2020-06-15",
          "2020-06-16",
          "2020-06-17",
          "2020-06-18",
          "2020-06-19",
          "2020-06-20",
          "2020-06-21",
          "2020-06-22",
          "2020-06-23",
          "2020-06-24",
          "2020-06-25",
          "2020-06-26",
          "2020-06-27",
          "2020-06-28",
          "2020-06-29",
          "2020-06-30"
         ],
         "xaxis": "x",
         "y": [
          1,
          0,
          0,
          0,
          1,
          0,
          1,
          1,
          0,
          0,
          2,
          5,
          1,
          3,
          0,
          1,
          2,
          5,
          1,
          0,
          3,
          0,
          1,
          0,
          0,
          0,
          0,
          1,
          1,
          1,
          20,
          53,
          100,
          229,
          169,
          231,
          144,
          284,
          505,
          571,
          813,
          586,
          476,
          600,
          516,
          438,
          518,
          483,
          367,
          248,
          131,
          242,
          114,
          110,
          107,
          40,
          110,
          84,
          93,
          152,
          87,
          147,
          98,
          64,
          76,
          100,
          104,
          91,
          146,
          105,
          78,
          125,
          101,
          89,
          86,
          94,
          81,
          47,
          47,
          53,
          39,
          27,
          30,
          32,
          25,
          27,
          27,
          22,
          22,
          18,
          8,
          13,
          9,
          11,
          8,
          6,
          10,
          10,
          10,
          14,
          9,
          4,
          9,
          6,
          13,
          8,
          3,
          2,
          4,
          12,
          18,
          34,
          35,
          27,
          26,
          29,
          27,
          19,
          13,
          15,
          13,
          32,
          12,
          20,
          23,
          25,
          16,
          19,
          40,
          79,
          58,
          39,
          27,
          35,
          38,
          49,
          39,
          39,
          51,
          57,
          38,
          38,
          50,
          45,
          56,
          48,
          34,
          36,
          34,
          43,
          59,
          49,
          67,
          48,
          17,
          46,
          51,
          28,
          39,
          51,
          62,
          42,
          43
         ],
         "yaxis": "y"
        }
       ],
       "layout": {
        "barmode": "relative",
        "legend": {
         "tracegroupgap": 0
        },
        "margin": {
         "t": 60
        },
        "template": {
         "data": {
          "bar": [
           {
            "error_x": {
             "color": "#2a3f5f"
            },
            "error_y": {
             "color": "#2a3f5f"
            },
            "marker": {
             "line": {
              "color": "#E5ECF6",
              "width": 0.5
             }
            },
            "type": "bar"
           }
          ],
          "barpolar": [
           {
            "marker": {
             "line": {
              "color": "#E5ECF6",
              "width": 0.5
             }
            },
            "type": "barpolar"
           }
          ],
          "carpet": [
           {
            "aaxis": {
             "endlinecolor": "#2a3f5f",
             "gridcolor": "white",
             "linecolor": "white",
             "minorgridcolor": "white",
             "startlinecolor": "#2a3f5f"
            },
            "baxis": {
             "endlinecolor": "#2a3f5f",
             "gridcolor": "white",
             "linecolor": "white",
             "minorgridcolor": "white",
             "startlinecolor": "#2a3f5f"
            },
            "type": "carpet"
           }
          ],
          "choropleth": [
           {
            "colorbar": {
             "outlinewidth": 0,
             "ticks": ""
            },
            "type": "choropleth"
           }
          ],
          "contour": [
           {
            "colorbar": {
             "outlinewidth": 0,
             "ticks": ""
            },
            "colorscale": [
             [
              0,
              "#0d0887"
             ],
             [
              0.1111111111111111,
              "#46039f"
             ],
             [
              0.2222222222222222,
              "#7201a8"
             ],
             [
              0.3333333333333333,
              "#9c179e"
             ],
             [
              0.4444444444444444,
              "#bd3786"
             ],
             [
              0.5555555555555556,
              "#d8576b"
             ],
             [
              0.6666666666666666,
              "#ed7953"
             ],
             [
              0.7777777777777778,
              "#fb9f3a"
             ],
             [
              0.8888888888888888,
              "#fdca26"
             ],
             [
              1,
              "#f0f921"
             ]
            ],
            "type": "contour"
           }
          ],
          "contourcarpet": [
           {
            "colorbar": {
             "outlinewidth": 0,
             "ticks": ""
            },
            "type": "contourcarpet"
           }
          ],
          "heatmap": [
           {
            "colorbar": {
             "outlinewidth": 0,
             "ticks": ""
            },
            "colorscale": [
             [
              0,
              "#0d0887"
             ],
             [
              0.1111111111111111,
              "#46039f"
             ],
             [
              0.2222222222222222,
              "#7201a8"
             ],
             [
              0.3333333333333333,
              "#9c179e"
             ],
             [
              0.4444444444444444,
              "#bd3786"
             ],
             [
              0.5555555555555556,
              "#d8576b"
             ],
             [
              0.6666666666666666,
              "#ed7953"
             ],
             [
              0.7777777777777778,
              "#fb9f3a"
             ],
             [
              0.8888888888888888,
              "#fdca26"
             ],
             [
              1,
              "#f0f921"
             ]
            ],
            "type": "heatmap"
           }
          ],
          "heatmapgl": [
           {
            "colorbar": {
             "outlinewidth": 0,
             "ticks": ""
            },
            "colorscale": [
             [
              0,
              "#0d0887"
             ],
             [
              0.1111111111111111,
              "#46039f"
             ],
             [
              0.2222222222222222,
              "#7201a8"
             ],
             [
              0.3333333333333333,
              "#9c179e"
             ],
             [
              0.4444444444444444,
              "#bd3786"
             ],
             [
              0.5555555555555556,
              "#d8576b"
             ],
             [
              0.6666666666666666,
              "#ed7953"
             ],
             [
              0.7777777777777778,
              "#fb9f3a"
             ],
             [
              0.8888888888888888,
              "#fdca26"
             ],
             [
              1,
              "#f0f921"
             ]
            ],
            "type": "heatmapgl"
           }
          ],
          "histogram": [
           {
            "marker": {
             "colorbar": {
              "outlinewidth": 0,
              "ticks": ""
             }
            },
            "type": "histogram"
           }
          ],
          "histogram2d": [
           {
            "colorbar": {
             "outlinewidth": 0,
             "ticks": ""
            },
            "colorscale": [
             [
              0,
              "#0d0887"
             ],
             [
              0.1111111111111111,
              "#46039f"
             ],
             [
              0.2222222222222222,
              "#7201a8"
             ],
             [
              0.3333333333333333,
              "#9c179e"
             ],
             [
              0.4444444444444444,
              "#bd3786"
             ],
             [
              0.5555555555555556,
              "#d8576b"
             ],
             [
              0.6666666666666666,
              "#ed7953"
             ],
             [
              0.7777777777777778,
              "#fb9f3a"
             ],
             [
              0.8888888888888888,
              "#fdca26"
             ],
             [
              1,
              "#f0f921"
             ]
            ],
            "type": "histogram2d"
           }
          ],
          "histogram2dcontour": [
           {
            "colorbar": {
             "outlinewidth": 0,
             "ticks": ""
            },
            "colorscale": [
             [
              0,
              "#0d0887"
             ],
             [
              0.1111111111111111,
              "#46039f"
             ],
             [
              0.2222222222222222,
              "#7201a8"
             ],
             [
              0.3333333333333333,
              "#9c179e"
             ],
             [
              0.4444444444444444,
              "#bd3786"
             ],
             [
              0.5555555555555556,
              "#d8576b"
             ],
             [
              0.6666666666666666,
              "#ed7953"
             ],
             [
              0.7777777777777778,
              "#fb9f3a"
             ],
             [
              0.8888888888888888,
              "#fdca26"
             ],
             [
              1,
              "#f0f921"
             ]
            ],
            "type": "histogram2dcontour"
           }
          ],
          "mesh3d": [
           {
            "colorbar": {
             "outlinewidth": 0,
             "ticks": ""
            },
            "type": "mesh3d"
           }
          ],
          "parcoords": [
           {
            "line": {
             "colorbar": {
              "outlinewidth": 0,
              "ticks": ""
             }
            },
            "type": "parcoords"
           }
          ],
          "pie": [
           {
            "automargin": true,
            "type": "pie"
           }
          ],
          "scatter": [
           {
            "marker": {
             "colorbar": {
              "outlinewidth": 0,
              "ticks": ""
             }
            },
            "type": "scatter"
           }
          ],
          "scatter3d": [
           {
            "line": {
             "colorbar": {
              "outlinewidth": 0,
              "ticks": ""
             }
            },
            "marker": {
             "colorbar": {
              "outlinewidth": 0,
              "ticks": ""
             }
            },
            "type": "scatter3d"
           }
          ],
          "scattercarpet": [
           {
            "marker": {
             "colorbar": {
              "outlinewidth": 0,
              "ticks": ""
             }
            },
            "type": "scattercarpet"
           }
          ],
          "scattergeo": [
           {
            "marker": {
             "colorbar": {
              "outlinewidth": 0,
              "ticks": ""
             }
            },
            "type": "scattergeo"
           }
          ],
          "scattergl": [
           {
            "marker": {
             "colorbar": {
              "outlinewidth": 0,
              "ticks": ""
             }
            },
            "type": "scattergl"
           }
          ],
          "scattermapbox": [
           {
            "marker": {
             "colorbar": {
              "outlinewidth": 0,
              "ticks": ""
             }
            },
            "type": "scattermapbox"
           }
          ],
          "scatterpolar": [
           {
            "marker": {
             "colorbar": {
              "outlinewidth": 0,
              "ticks": ""
             }
            },
            "type": "scatterpolar"
           }
          ],
          "scatterpolargl": [
           {
            "marker": {
             "colorbar": {
              "outlinewidth": 0,
              "ticks": ""
             }
            },
            "type": "scatterpolargl"
           }
          ],
          "scatterternary": [
           {
            "marker": {
             "colorbar": {
              "outlinewidth": 0,
              "ticks": ""
             }
            },
            "type": "scatterternary"
           }
          ],
          "surface": [
           {
            "colorbar": {
             "outlinewidth": 0,
             "ticks": ""
            },
            "colorscale": [
             [
              0,
              "#0d0887"
             ],
             [
              0.1111111111111111,
              "#46039f"
             ],
             [
              0.2222222222222222,
              "#7201a8"
             ],
             [
              0.3333333333333333,
              "#9c179e"
             ],
             [
              0.4444444444444444,
              "#bd3786"
             ],
             [
              0.5555555555555556,
              "#d8576b"
             ],
             [
              0.6666666666666666,
              "#ed7953"
             ],
             [
              0.7777777777777778,
              "#fb9f3a"
             ],
             [
              0.8888888888888888,
              "#fdca26"
             ],
             [
              1,
              "#f0f921"
             ]
            ],
            "type": "surface"
           }
          ],
          "table": [
           {
            "cells": {
             "fill": {
              "color": "#EBF0F8"
             },
             "line": {
              "color": "white"
             }
            },
            "header": {
             "fill": {
              "color": "#C8D4E3"
             },
             "line": {
              "color": "white"
             }
            },
            "type": "table"
           }
          ]
         },
         "layout": {
          "annotationdefaults": {
           "arrowcolor": "#2a3f5f",
           "arrowhead": 0,
           "arrowwidth": 1
          },
          "coloraxis": {
           "colorbar": {
            "outlinewidth": 0,
            "ticks": ""
           }
          },
          "colorscale": {
           "diverging": [
            [
             0,
             "#8e0152"
            ],
            [
             0.1,
             "#c51b7d"
            ],
            [
             0.2,
             "#de77ae"
            ],
            [
             0.3,
             "#f1b6da"
            ],
            [
             0.4,
             "#fde0ef"
            ],
            [
             0.5,
             "#f7f7f7"
            ],
            [
             0.6,
             "#e6f5d0"
            ],
            [
             0.7,
             "#b8e186"
            ],
            [
             0.8,
             "#7fbc41"
            ],
            [
             0.9,
             "#4d9221"
            ],
            [
             1,
             "#276419"
            ]
           ],
           "sequential": [
            [
             0,
             "#0d0887"
            ],
            [
             0.1111111111111111,
             "#46039f"
            ],
            [
             0.2222222222222222,
             "#7201a8"
            ],
            [
             0.3333333333333333,
             "#9c179e"
            ],
            [
             0.4444444444444444,
             "#bd3786"
            ],
            [
             0.5555555555555556,
             "#d8576b"
            ],
            [
             0.6666666666666666,
             "#ed7953"
            ],
            [
             0.7777777777777778,
             "#fb9f3a"
            ],
            [
             0.8888888888888888,
             "#fdca26"
            ],
            [
             1,
             "#f0f921"
            ]
           ],
           "sequentialminus": [
            [
             0,
             "#0d0887"
            ],
            [
             0.1111111111111111,
             "#46039f"
            ],
            [
             0.2222222222222222,
             "#7201a8"
            ],
            [
             0.3333333333333333,
             "#9c179e"
            ],
            [
             0.4444444444444444,
             "#bd3786"
            ],
            [
             0.5555555555555556,
             "#d8576b"
            ],
            [
             0.6666666666666666,
             "#ed7953"
            ],
            [
             0.7777777777777778,
             "#fb9f3a"
            ],
            [
             0.8888888888888888,
             "#fdca26"
            ],
            [
             1,
             "#f0f921"
            ]
           ]
          },
          "colorway": [
           "#636efa",
           "#EF553B",
           "#00cc96",
           "#ab63fa",
           "#FFA15A",
           "#19d3f3",
           "#FF6692",
           "#B6E880",
           "#FF97FF",
           "#FECB52"
          ],
          "font": {
           "color": "#2a3f5f"
          },
          "geo": {
           "bgcolor": "white",
           "lakecolor": "white",
           "landcolor": "#E5ECF6",
           "showlakes": true,
           "showland": true,
           "subunitcolor": "white"
          },
          "hoverlabel": {
           "align": "left"
          },
          "hovermode": "closest",
          "mapbox": {
           "style": "light"
          },
          "paper_bgcolor": "white",
          "plot_bgcolor": "#E5ECF6",
          "polar": {
           "angularaxis": {
            "gridcolor": "white",
            "linecolor": "white",
            "ticks": ""
           },
           "bgcolor": "#E5ECF6",
           "radialaxis": {
            "gridcolor": "white",
            "linecolor": "white",
            "ticks": ""
           }
          },
          "scene": {
           "xaxis": {
            "backgroundcolor": "#E5ECF6",
            "gridcolor": "white",
            "gridwidth": 2,
            "linecolor": "white",
            "showbackground": true,
            "ticks": "",
            "zerolinecolor": "white"
           },
           "yaxis": {
            "backgroundcolor": "#E5ECF6",
            "gridcolor": "white",
            "gridwidth": 2,
            "linecolor": "white",
            "showbackground": true,
            "ticks": "",
            "zerolinecolor": "white"
           },
           "zaxis": {
            "backgroundcolor": "#E5ECF6",
            "gridcolor": "white",
            "gridwidth": 2,
            "linecolor": "white",
            "showbackground": true,
            "ticks": "",
            "zerolinecolor": "white"
           }
          },
          "shapedefaults": {
           "line": {
            "color": "#2a3f5f"
           }
          },
          "ternary": {
           "aaxis": {
            "gridcolor": "white",
            "linecolor": "white",
            "ticks": ""
           },
           "baxis": {
            "gridcolor": "white",
            "linecolor": "white",
            "ticks": ""
           },
           "bgcolor": "#E5ECF6",
           "caxis": {
            "gridcolor": "white",
            "linecolor": "white",
            "ticks": ""
           }
          },
          "title": {
           "x": 0.05
          },
          "xaxis": {
           "automargin": true,
           "gridcolor": "white",
           "linecolor": "white",
           "ticks": "",
           "title": {
            "standoff": 15
           },
           "zerolinecolor": "white",
           "zerolinewidth": 2
          },
          "yaxis": {
           "automargin": true,
           "gridcolor": "white",
           "linecolor": "white",
           "ticks": "",
           "title": {
            "standoff": 15
           },
           "zerolinecolor": "white",
           "zerolinewidth": 2
          }
         }
        },
        "title": {
         "text": "확진자 추이(전국)",
         "x": 0.5,
         "xanchor": "center",
         "y": 1,
         "yanchor": "top"
        },
        "xaxis": {
         "anchor": "y",
         "domain": [
          0,
          1
         ],
         "title": {
          "text": "date"
         }
        },
        "yaxis": {
         "anchor": "x",
         "domain": [
          0,
          1
         ],
         "title": {
          "text": "daily"
         }
        }
       }
      },
      "text/html": [
       "<div>\n",
       "        \n",
       "        \n",
       "            <div id=\"dc6cb7df-1ea0-49d8-bf78-c1bbae5f9f8c\" class=\"plotly-graph-div\" style=\"height:525px; width:100%;\"></div>\n",
       "            <script type=\"text/javascript\">\n",
       "                require([\"plotly\"], function(Plotly) {\n",
       "                    window.PLOTLYENV=window.PLOTLYENV || {};\n",
       "                    \n",
       "                if (document.getElementById(\"dc6cb7df-1ea0-49d8-bf78-c1bbae5f9f8c\")) {\n",
       "                    Plotly.newPlot(\n",
       "                        'dc6cb7df-1ea0-49d8-bf78-c1bbae5f9f8c',\n",
       "                        [{\"alignmentgroup\": \"True\", \"hovertemplate\": \"date=%{x}<br>daily=%{y}<extra></extra>\", \"legendgroup\": \"\", \"marker\": {\"color\": \"#636efa\"}, \"name\": \"\", \"offsetgroup\": \"\", \"orientation\": \"v\", \"showlegend\": false, \"textposition\": \"auto\", \"type\": \"bar\", \"x\": [\"2020-01-20\", \"2020-01-21\", \"2020-01-22\", \"2020-01-23\", \"2020-01-24\", \"2020-01-25\", \"2020-01-26\", \"2020-01-27\", \"2020-01-28\", \"2020-01-29\", \"2020-01-30\", \"2020-01-31\", \"2020-02-01\", \"2020-02-02\", \"2020-02-03\", \"2020-02-04\", \"2020-02-05\", \"2020-02-06\", \"2020-02-07\", \"2020-02-08\", \"2020-02-09\", \"2020-02-10\", \"2020-02-11\", \"2020-02-12\", \"2020-02-13\", \"2020-02-14\", \"2020-02-15\", \"2020-02-16\", \"2020-02-17\", \"2020-02-18\", \"2020-02-19\", \"2020-02-20\", \"2020-02-21\", \"2020-02-22\", \"2020-02-23\", \"2020-02-24\", \"2020-02-25\", \"2020-02-26\", \"2020-02-27\", \"2020-02-28\", \"2020-02-29\", \"2020-03-01\", \"2020-03-02\", \"2020-03-03\", \"2020-03-04\", \"2020-03-05\", \"2020-03-06\", \"2020-03-07\", \"2020-03-08\", \"2020-03-09\", \"2020-03-10\", \"2020-03-11\", \"2020-03-12\", \"2020-03-13\", \"2020-03-14\", \"2020-03-15\", \"2020-03-16\", \"2020-03-17\", \"2020-03-18\", \"2020-03-19\", \"2020-03-20\", \"2020-03-21\", \"2020-03-22\", \"2020-03-23\", \"2020-03-24\", \"2020-03-25\", \"2020-03-26\", \"2020-03-27\", \"2020-03-28\", \"2020-03-29\", \"2020-03-30\", \"2020-03-31\", \"2020-04-01\", \"2020-04-02\", \"2020-04-03\", \"2020-04-04\", \"2020-04-05\", \"2020-04-06\", \"2020-04-07\", \"2020-04-08\", \"2020-04-09\", \"2020-04-10\", \"2020-04-11\", \"2020-04-12\", \"2020-04-13\", \"2020-04-14\", \"2020-04-15\", \"2020-04-16\", \"2020-04-17\", \"2020-04-18\", \"2020-04-19\", \"2020-04-20\", \"2020-04-21\", \"2020-04-22\", \"2020-04-23\", \"2020-04-24\", \"2020-04-25\", \"2020-04-26\", \"2020-04-27\", \"2020-04-28\", \"2020-04-29\", \"2020-04-30\", \"2020-05-01\", \"2020-05-02\", \"2020-05-03\", \"2020-05-04\", \"2020-05-05\", \"2020-05-06\", \"2020-05-07\", \"2020-05-08\", \"2020-05-09\", \"2020-05-10\", \"2020-05-11\", \"2020-05-12\", \"2020-05-13\", \"2020-05-14\", \"2020-05-15\", \"2020-05-16\", \"2020-05-17\", \"2020-05-18\", \"2020-05-19\", \"2020-05-20\", \"2020-05-21\", \"2020-05-22\", \"2020-05-23\", \"2020-05-24\", \"2020-05-25\", \"2020-05-26\", \"2020-05-27\", \"2020-05-28\", \"2020-05-29\", \"2020-05-30\", \"2020-05-31\", \"2020-06-01\", \"2020-06-02\", \"2020-06-03\", \"2020-06-04\", \"2020-06-05\", \"2020-06-06\", \"2020-06-07\", \"2020-06-08\", \"2020-06-09\", \"2020-06-10\", \"2020-06-11\", \"2020-06-12\", \"2020-06-13\", \"2020-06-14\", \"2020-06-15\", \"2020-06-16\", \"2020-06-17\", \"2020-06-18\", \"2020-06-19\", \"2020-06-20\", \"2020-06-21\", \"2020-06-22\", \"2020-06-23\", \"2020-06-24\", \"2020-06-25\", \"2020-06-26\", \"2020-06-27\", \"2020-06-28\", \"2020-06-29\", \"2020-06-30\"], \"xaxis\": \"x\", \"y\": [1, 0, 0, 0, 1, 0, 1, 1, 0, 0, 2, 5, 1, 3, 0, 1, 2, 5, 1, 0, 3, 0, 1, 0, 0, 0, 0, 1, 1, 1, 20, 53, 100, 229, 169, 231, 144, 284, 505, 571, 813, 586, 476, 600, 516, 438, 518, 483, 367, 248, 131, 242, 114, 110, 107, 40, 110, 84, 93, 152, 87, 147, 98, 64, 76, 100, 104, 91, 146, 105, 78, 125, 101, 89, 86, 94, 81, 47, 47, 53, 39, 27, 30, 32, 25, 27, 27, 22, 22, 18, 8, 13, 9, 11, 8, 6, 10, 10, 10, 14, 9, 4, 9, 6, 13, 8, 3, 2, 4, 12, 18, 34, 35, 27, 26, 29, 27, 19, 13, 15, 13, 32, 12, 20, 23, 25, 16, 19, 40, 79, 58, 39, 27, 35, 38, 49, 39, 39, 51, 57, 38, 38, 50, 45, 56, 48, 34, 36, 34, 43, 59, 49, 67, 48, 17, 46, 51, 28, 39, 51, 62, 42, 43], \"yaxis\": \"y\"}],\n",
       "                        {\"barmode\": \"relative\", \"legend\": {\"tracegroupgap\": 0}, \"margin\": {\"t\": 60}, \"template\": {\"data\": {\"bar\": [{\"error_x\": {\"color\": \"#2a3f5f\"}, \"error_y\": {\"color\": \"#2a3f5f\"}, \"marker\": {\"line\": {\"color\": \"#E5ECF6\", \"width\": 0.5}}, \"type\": \"bar\"}], \"barpolar\": [{\"marker\": {\"line\": {\"color\": \"#E5ECF6\", \"width\": 0.5}}, \"type\": \"barpolar\"}], \"carpet\": [{\"aaxis\": {\"endlinecolor\": \"#2a3f5f\", \"gridcolor\": \"white\", \"linecolor\": \"white\", \"minorgridcolor\": \"white\", \"startlinecolor\": \"#2a3f5f\"}, \"baxis\": {\"endlinecolor\": \"#2a3f5f\", \"gridcolor\": \"white\", \"linecolor\": \"white\", \"minorgridcolor\": \"white\", \"startlinecolor\": \"#2a3f5f\"}, \"type\": \"carpet\"}], \"choropleth\": [{\"colorbar\": {\"outlinewidth\": 0, \"ticks\": \"\"}, \"type\": \"choropleth\"}], \"contour\": [{\"colorbar\": {\"outlinewidth\": 0, \"ticks\": \"\"}, \"colorscale\": [[0.0, \"#0d0887\"], [0.1111111111111111, \"#46039f\"], [0.2222222222222222, \"#7201a8\"], [0.3333333333333333, \"#9c179e\"], [0.4444444444444444, \"#bd3786\"], [0.5555555555555556, \"#d8576b\"], [0.6666666666666666, \"#ed7953\"], [0.7777777777777778, \"#fb9f3a\"], [0.8888888888888888, \"#fdca26\"], [1.0, \"#f0f921\"]], \"type\": \"contour\"}], \"contourcarpet\": [{\"colorbar\": {\"outlinewidth\": 0, \"ticks\": \"\"}, \"type\": \"contourcarpet\"}], \"heatmap\": [{\"colorbar\": {\"outlinewidth\": 0, \"ticks\": \"\"}, \"colorscale\": [[0.0, \"#0d0887\"], [0.1111111111111111, \"#46039f\"], [0.2222222222222222, \"#7201a8\"], [0.3333333333333333, \"#9c179e\"], [0.4444444444444444, \"#bd3786\"], [0.5555555555555556, \"#d8576b\"], [0.6666666666666666, \"#ed7953\"], [0.7777777777777778, \"#fb9f3a\"], [0.8888888888888888, \"#fdca26\"], [1.0, \"#f0f921\"]], \"type\": \"heatmap\"}], \"heatmapgl\": [{\"colorbar\": {\"outlinewidth\": 0, \"ticks\": \"\"}, \"colorscale\": [[0.0, \"#0d0887\"], [0.1111111111111111, \"#46039f\"], [0.2222222222222222, \"#7201a8\"], [0.3333333333333333, \"#9c179e\"], [0.4444444444444444, \"#bd3786\"], [0.5555555555555556, \"#d8576b\"], [0.6666666666666666, \"#ed7953\"], [0.7777777777777778, \"#fb9f3a\"], [0.8888888888888888, \"#fdca26\"], [1.0, \"#f0f921\"]], \"type\": \"heatmapgl\"}], \"histogram\": [{\"marker\": {\"colorbar\": {\"outlinewidth\": 0, \"ticks\": \"\"}}, \"type\": \"histogram\"}], \"histogram2d\": [{\"colorbar\": {\"outlinewidth\": 0, \"ticks\": \"\"}, \"colorscale\": [[0.0, \"#0d0887\"], [0.1111111111111111, \"#46039f\"], [0.2222222222222222, \"#7201a8\"], [0.3333333333333333, \"#9c179e\"], [0.4444444444444444, \"#bd3786\"], [0.5555555555555556, \"#d8576b\"], [0.6666666666666666, \"#ed7953\"], [0.7777777777777778, \"#fb9f3a\"], [0.8888888888888888, \"#fdca26\"], [1.0, \"#f0f921\"]], \"type\": \"histogram2d\"}], \"histogram2dcontour\": [{\"colorbar\": {\"outlinewidth\": 0, \"ticks\": \"\"}, \"colorscale\": [[0.0, \"#0d0887\"], [0.1111111111111111, \"#46039f\"], [0.2222222222222222, \"#7201a8\"], [0.3333333333333333, \"#9c179e\"], [0.4444444444444444, \"#bd3786\"], [0.5555555555555556, \"#d8576b\"], [0.6666666666666666, \"#ed7953\"], [0.7777777777777778, \"#fb9f3a\"], [0.8888888888888888, \"#fdca26\"], [1.0, \"#f0f921\"]], \"type\": \"histogram2dcontour\"}], \"mesh3d\": [{\"colorbar\": {\"outlinewidth\": 0, \"ticks\": \"\"}, \"type\": \"mesh3d\"}], \"parcoords\": [{\"line\": {\"colorbar\": {\"outlinewidth\": 0, \"ticks\": \"\"}}, \"type\": \"parcoords\"}], \"pie\": [{\"automargin\": true, \"type\": \"pie\"}], \"scatter\": [{\"marker\": {\"colorbar\": {\"outlinewidth\": 0, \"ticks\": \"\"}}, \"type\": \"scatter\"}], \"scatter3d\": [{\"line\": {\"colorbar\": {\"outlinewidth\": 0, \"ticks\": \"\"}}, \"marker\": {\"colorbar\": {\"outlinewidth\": 0, \"ticks\": \"\"}}, \"type\": \"scatter3d\"}], \"scattercarpet\": [{\"marker\": {\"colorbar\": {\"outlinewidth\": 0, \"ticks\": \"\"}}, \"type\": \"scattercarpet\"}], \"scattergeo\": [{\"marker\": {\"colorbar\": {\"outlinewidth\": 0, \"ticks\": \"\"}}, \"type\": \"scattergeo\"}], \"scattergl\": [{\"marker\": {\"colorbar\": {\"outlinewidth\": 0, \"ticks\": \"\"}}, \"type\": \"scattergl\"}], \"scattermapbox\": [{\"marker\": {\"colorbar\": {\"outlinewidth\": 0, \"ticks\": \"\"}}, \"type\": \"scattermapbox\"}], \"scatterpolar\": [{\"marker\": {\"colorbar\": {\"outlinewidth\": 0, \"ticks\": \"\"}}, \"type\": \"scatterpolar\"}], \"scatterpolargl\": [{\"marker\": {\"colorbar\": {\"outlinewidth\": 0, \"ticks\": \"\"}}, \"type\": \"scatterpolargl\"}], \"scatterternary\": [{\"marker\": {\"colorbar\": {\"outlinewidth\": 0, \"ticks\": \"\"}}, \"type\": \"scatterternary\"}], \"surface\": [{\"colorbar\": {\"outlinewidth\": 0, \"ticks\": \"\"}, \"colorscale\": [[0.0, \"#0d0887\"], [0.1111111111111111, \"#46039f\"], [0.2222222222222222, \"#7201a8\"], [0.3333333333333333, \"#9c179e\"], [0.4444444444444444, \"#bd3786\"], [0.5555555555555556, \"#d8576b\"], [0.6666666666666666, \"#ed7953\"], [0.7777777777777778, \"#fb9f3a\"], [0.8888888888888888, \"#fdca26\"], [1.0, \"#f0f921\"]], \"type\": \"surface\"}], \"table\": [{\"cells\": {\"fill\": {\"color\": \"#EBF0F8\"}, \"line\": {\"color\": \"white\"}}, \"header\": {\"fill\": {\"color\": \"#C8D4E3\"}, \"line\": {\"color\": \"white\"}}, \"type\": \"table\"}]}, \"layout\": {\"annotationdefaults\": {\"arrowcolor\": \"#2a3f5f\", \"arrowhead\": 0, \"arrowwidth\": 1}, \"coloraxis\": {\"colorbar\": {\"outlinewidth\": 0, \"ticks\": \"\"}}, \"colorscale\": {\"diverging\": [[0, \"#8e0152\"], [0.1, \"#c51b7d\"], [0.2, \"#de77ae\"], [0.3, \"#f1b6da\"], [0.4, \"#fde0ef\"], [0.5, \"#f7f7f7\"], [0.6, \"#e6f5d0\"], [0.7, \"#b8e186\"], [0.8, \"#7fbc41\"], [0.9, \"#4d9221\"], [1, \"#276419\"]], \"sequential\": [[0.0, \"#0d0887\"], [0.1111111111111111, \"#46039f\"], [0.2222222222222222, \"#7201a8\"], [0.3333333333333333, \"#9c179e\"], [0.4444444444444444, \"#bd3786\"], [0.5555555555555556, \"#d8576b\"], [0.6666666666666666, \"#ed7953\"], [0.7777777777777778, \"#fb9f3a\"], [0.8888888888888888, \"#fdca26\"], [1.0, \"#f0f921\"]], \"sequentialminus\": [[0.0, \"#0d0887\"], [0.1111111111111111, \"#46039f\"], [0.2222222222222222, \"#7201a8\"], [0.3333333333333333, \"#9c179e\"], [0.4444444444444444, \"#bd3786\"], [0.5555555555555556, \"#d8576b\"], [0.6666666666666666, \"#ed7953\"], [0.7777777777777778, \"#fb9f3a\"], [0.8888888888888888, \"#fdca26\"], [1.0, \"#f0f921\"]]}, \"colorway\": [\"#636efa\", \"#EF553B\", \"#00cc96\", \"#ab63fa\", \"#FFA15A\", \"#19d3f3\", \"#FF6692\", \"#B6E880\", \"#FF97FF\", \"#FECB52\"], \"font\": {\"color\": \"#2a3f5f\"}, \"geo\": {\"bgcolor\": \"white\", \"lakecolor\": \"white\", \"landcolor\": \"#E5ECF6\", \"showlakes\": true, \"showland\": true, \"subunitcolor\": \"white\"}, \"hoverlabel\": {\"align\": \"left\"}, \"hovermode\": \"closest\", \"mapbox\": {\"style\": \"light\"}, \"paper_bgcolor\": \"white\", \"plot_bgcolor\": \"#E5ECF6\", \"polar\": {\"angularaxis\": {\"gridcolor\": \"white\", \"linecolor\": \"white\", \"ticks\": \"\"}, \"bgcolor\": \"#E5ECF6\", \"radialaxis\": {\"gridcolor\": \"white\", \"linecolor\": \"white\", \"ticks\": \"\"}}, \"scene\": {\"xaxis\": {\"backgroundcolor\": \"#E5ECF6\", \"gridcolor\": \"white\", \"gridwidth\": 2, \"linecolor\": \"white\", \"showbackground\": true, \"ticks\": \"\", \"zerolinecolor\": \"white\"}, \"yaxis\": {\"backgroundcolor\": \"#E5ECF6\", \"gridcolor\": \"white\", \"gridwidth\": 2, \"linecolor\": \"white\", \"showbackground\": true, \"ticks\": \"\", \"zerolinecolor\": \"white\"}, \"zaxis\": {\"backgroundcolor\": \"#E5ECF6\", \"gridcolor\": \"white\", \"gridwidth\": 2, \"linecolor\": \"white\", \"showbackground\": true, \"ticks\": \"\", \"zerolinecolor\": \"white\"}}, \"shapedefaults\": {\"line\": {\"color\": \"#2a3f5f\"}}, \"ternary\": {\"aaxis\": {\"gridcolor\": \"white\", \"linecolor\": \"white\", \"ticks\": \"\"}, \"baxis\": {\"gridcolor\": \"white\", \"linecolor\": \"white\", \"ticks\": \"\"}, \"bgcolor\": \"#E5ECF6\", \"caxis\": {\"gridcolor\": \"white\", \"linecolor\": \"white\", \"ticks\": \"\"}}, \"title\": {\"x\": 0.05}, \"xaxis\": {\"automargin\": true, \"gridcolor\": \"white\", \"linecolor\": \"white\", \"ticks\": \"\", \"title\": {\"standoff\": 15}, \"zerolinecolor\": \"white\", \"zerolinewidth\": 2}, \"yaxis\": {\"automargin\": true, \"gridcolor\": \"white\", \"linecolor\": \"white\", \"ticks\": \"\", \"title\": {\"standoff\": 15}, \"zerolinecolor\": \"white\", \"zerolinewidth\": 2}}}, \"title\": {\"text\": \"\\ud655\\uc9c4\\uc790 \\ucd94\\uc774(\\uc804\\uad6d)\", \"x\": 0.5, \"xanchor\": \"center\", \"y\": 1, \"yanchor\": \"top\"}, \"xaxis\": {\"anchor\": \"y\", \"domain\": [0.0, 1.0], \"title\": {\"text\": \"date\"}}, \"yaxis\": {\"anchor\": \"x\", \"domain\": [0.0, 1.0], \"title\": {\"text\": \"daily\"}}},\n",
       "                        {\"responsive\": true}\n",
       "                    ).then(function(){\n",
       "                            \n",
       "var gd = document.getElementById('dc6cb7df-1ea0-49d8-bf78-c1bbae5f9f8c');\n",
       "var x = new MutationObserver(function (mutations, observer) {{\n",
       "        var display = window.getComputedStyle(gd).display;\n",
       "        if (!display || display === 'none') {{\n",
       "            console.log([gd, 'removed!']);\n",
       "            Plotly.purge(gd);\n",
       "            observer.disconnect();\n",
       "        }}\n",
       "}});\n",
       "\n",
       "// Listen for the removal of the full notebook cells\n",
       "var notebookContainer = gd.closest('#notebook-container');\n",
       "if (notebookContainer) {{\n",
       "    x.observe(notebookContainer, {childList: true});\n",
       "}}\n",
       "\n",
       "// Listen for the clearing of the current output cell\n",
       "var outputEl = gd.closest('.output');\n",
       "if (outputEl) {{\n",
       "    x.observe(outputEl, {childList: true});\n",
       "}}\n",
       "\n",
       "                        })\n",
       "                };\n",
       "                });\n",
       "            </script>\n",
       "        </div>"
      ]
     },
     "metadata": {},
     "output_type": "display_data"
    }
   ],
   "source": [
    "fig=px.bar(case,x='date',y='daily')\n",
    "fig.update_layout(\n",
    "    title={\n",
    "        'text': \"확진자 추이(전국)\",\n",
    "        'y':1,\n",
    "        'x':0.5,\n",
    "        'xanchor': 'center',\n",
    "        'yanchor': 'top'})\n",
    "fig.show()"
   ]
  },
  {
   "cell_type": "code",
   "execution_count": 34,
   "metadata": {},
   "outputs": [
    {
     "data": {
      "application/vnd.plotly.v1+json": {
       "config": {
        "plotlyServerURL": "https://plot.ly"
       },
       "data": [
        {
         "alignmentgroup": "True",
         "hovertemplate": "confirmed_date=%{x}<br>cnt=%{y}<extra></extra>",
         "legendgroup": "",
         "marker": {
          "color": "#636efa"
         },
         "name": "",
         "offsetgroup": "",
         "orientation": "v",
         "showlegend": false,
         "textposition": "auto",
         "type": "bar",
         "x": [
          "2020-01-23T00:00:00",
          "2020-01-30T00:00:00",
          "2020-01-31T00:00:00",
          "2020-02-02T00:00:00",
          "2020-02-05T00:00:00",
          "2020-02-06T00:00:00",
          "2020-02-07T00:00:00",
          "2020-02-16T00:00:00",
          "2020-02-19T00:00:00",
          "2020-02-20T00:00:00",
          "2020-02-21T00:00:00",
          "2020-02-22T00:00:00",
          "2020-02-23T00:00:00",
          "2020-02-24T00:00:00",
          "2020-02-25T00:00:00",
          "2020-02-26T00:00:00",
          "2020-02-27T00:00:00",
          "2020-02-28T00:00:00",
          "2020-02-29T00:00:00",
          "2020-03-01T00:00:00",
          "2020-03-02T00:00:00",
          "2020-03-04T00:00:00",
          "2020-03-05T00:00:00",
          "2020-03-06T00:00:00",
          "2020-03-07T00:00:00",
          "2020-03-08T00:00:00",
          "2020-03-09T00:00:00",
          "2020-03-10T00:00:00",
          "2020-03-11T00:00:00",
          "2020-03-12T00:00:00",
          "2020-03-13T00:00:00",
          "2020-03-14T00:00:00",
          "2020-03-15T00:00:00",
          "2020-03-16T00:00:00",
          "2020-03-17T00:00:00",
          "2020-03-18T00:00:00",
          "2020-03-19T00:00:00",
          "2020-03-20T00:00:00",
          "2020-03-21T00:00:00",
          "2020-03-22T00:00:00",
          "2020-03-23T00:00:00",
          "2020-03-24T00:00:00",
          "2020-03-25T00:00:00",
          "2020-03-26T00:00:00",
          "2020-03-27T00:00:00",
          "2020-03-28T00:00:00",
          "2020-03-29T00:00:00",
          "2020-03-30T00:00:00",
          "2020-03-31T00:00:00",
          "2020-04-01T00:00:00",
          "2020-04-02T00:00:00",
          "2020-04-03T00:00:00",
          "2020-04-04T00:00:00",
          "2020-04-05T00:00:00",
          "2020-04-06T00:00:00",
          "2020-04-07T00:00:00",
          "2020-04-08T00:00:00",
          "2020-04-09T00:00:00",
          "2020-04-10T00:00:00",
          "2020-04-11T00:00:00",
          "2020-04-12T00:00:00",
          "2020-04-13T00:00:00",
          "2020-04-14T00:00:00",
          "2020-04-15T00:00:00",
          "2020-04-16T00:00:00",
          "2020-04-17T00:00:00",
          "2020-04-18T00:00:00",
          "2020-04-19T00:00:00",
          "2020-04-20T00:00:00",
          "2020-04-21T00:00:00",
          "2020-04-24T00:00:00",
          "2020-04-27T00:00:00",
          "2020-04-30T00:00:00",
          "2020-05-01T00:00:00",
          "2020-05-02T00:00:00",
          "2020-05-05T00:00:00",
          "2020-05-08T00:00:00",
          "2020-05-09T00:00:00",
          "2020-05-10T00:00:00",
          "2020-05-11T00:00:00",
          "2020-05-12T00:00:00",
          "2020-05-13T00:00:00",
          "2020-05-14T00:00:00",
          "2020-05-15T00:00:00",
          "2020-05-16T00:00:00",
          "2020-05-17T00:00:00",
          "2020-05-18T00:00:00",
          "2020-05-19T00:00:00",
          "2020-05-20T00:00:00",
          "2020-05-21T00:00:00",
          "2020-05-22T00:00:00",
          "2020-05-23T00:00:00",
          "2020-05-24T00:00:00",
          "2020-05-25T00:00:00",
          "2020-05-26T00:00:00",
          "2020-05-27T00:00:00",
          "2020-05-28T00:00:00",
          "2020-05-29T00:00:00",
          "2020-05-30T00:00:00",
          "2020-05-31T00:00:00",
          "2020-06-01T00:00:00",
          "2020-06-02T00:00:00",
          "2020-06-03T00:00:00",
          "2020-06-04T00:00:00",
          "2020-06-05T00:00:00",
          "2020-06-06T00:00:00",
          "2020-06-07T00:00:00",
          "2020-06-08T00:00:00",
          "2020-06-09T00:00:00",
          "2020-06-10T00:00:00",
          "2020-06-11T00:00:00",
          "2020-06-12T00:00:00",
          "2020-06-13T00:00:00",
          "2020-06-14T00:00:00",
          "2020-06-15T00:00:00",
          "2020-06-16T00:00:00",
          "2020-06-17T00:00:00",
          "2020-06-18T00:00:00",
          "2020-06-19T00:00:00",
          "2020-06-20T00:00:00",
          "2020-06-21T00:00:00",
          "2020-06-22T00:00:00",
          "2020-06-23T00:00:00",
          "2020-06-24T00:00:00",
          "2020-06-25T00:00:00",
          "2020-06-26T00:00:00",
          "2020-06-27T00:00:00",
          "2020-06-28T00:00:00",
          "2020-06-29T00:00:00"
         ],
         "xaxis": "x",
         "y": [
          1,
          3,
          3,
          1,
          2,
          1,
          1,
          2,
          2,
          5,
          2,
          4,
          4,
          2,
          8,
          10,
          18,
          7,
          10,
          7,
          6,
          5,
          2,
          7,
          7,
          10,
          26,
          46,
          18,
          11,
          9,
          8,
          6,
          13,
          4,
          11,
          17,
          17,
          8,
          6,
          6,
          13,
          13,
          14,
          15,
          22,
          21,
          20,
          24,
          16,
          19,
          20,
          19,
          11,
          8,
          10,
          11,
          5,
          3,
          2,
          8,
          3,
          4,
          2,
          1,
          3,
          1,
          1,
          1,
          2,
          1,
          4,
          1,
          1,
          1,
          1,
          14,
          17,
          20,
          12,
          8,
          5,
          12,
          6,
          4,
          1,
          7,
          9,
          4,
          3,
          3,
          6,
          7,
          8,
          19,
          25,
          19,
          9,
          6,
          1,
          14,
          20,
          14,
          15,
          27,
          28,
          16,
          18,
          14,
          19,
          25,
          30,
          12,
          7,
          11,
          14,
          24,
          18,
          16,
          15,
          8,
          4,
          10,
          9,
          17,
          17,
          14,
          7,
          7
         ],
         "yaxis": "y"
        }
       ],
       "layout": {
        "barmode": "relative",
        "legend": {
         "tracegroupgap": 0
        },
        "margin": {
         "t": 60
        },
        "template": {
         "data": {
          "bar": [
           {
            "error_x": {
             "color": "#2a3f5f"
            },
            "error_y": {
             "color": "#2a3f5f"
            },
            "marker": {
             "line": {
              "color": "#E5ECF6",
              "width": 0.5
             }
            },
            "type": "bar"
           }
          ],
          "barpolar": [
           {
            "marker": {
             "line": {
              "color": "#E5ECF6",
              "width": 0.5
             }
            },
            "type": "barpolar"
           }
          ],
          "carpet": [
           {
            "aaxis": {
             "endlinecolor": "#2a3f5f",
             "gridcolor": "white",
             "linecolor": "white",
             "minorgridcolor": "white",
             "startlinecolor": "#2a3f5f"
            },
            "baxis": {
             "endlinecolor": "#2a3f5f",
             "gridcolor": "white",
             "linecolor": "white",
             "minorgridcolor": "white",
             "startlinecolor": "#2a3f5f"
            },
            "type": "carpet"
           }
          ],
          "choropleth": [
           {
            "colorbar": {
             "outlinewidth": 0,
             "ticks": ""
            },
            "type": "choropleth"
           }
          ],
          "contour": [
           {
            "colorbar": {
             "outlinewidth": 0,
             "ticks": ""
            },
            "colorscale": [
             [
              0,
              "#0d0887"
             ],
             [
              0.1111111111111111,
              "#46039f"
             ],
             [
              0.2222222222222222,
              "#7201a8"
             ],
             [
              0.3333333333333333,
              "#9c179e"
             ],
             [
              0.4444444444444444,
              "#bd3786"
             ],
             [
              0.5555555555555556,
              "#d8576b"
             ],
             [
              0.6666666666666666,
              "#ed7953"
             ],
             [
              0.7777777777777778,
              "#fb9f3a"
             ],
             [
              0.8888888888888888,
              "#fdca26"
             ],
             [
              1,
              "#f0f921"
             ]
            ],
            "type": "contour"
           }
          ],
          "contourcarpet": [
           {
            "colorbar": {
             "outlinewidth": 0,
             "ticks": ""
            },
            "type": "contourcarpet"
           }
          ],
          "heatmap": [
           {
            "colorbar": {
             "outlinewidth": 0,
             "ticks": ""
            },
            "colorscale": [
             [
              0,
              "#0d0887"
             ],
             [
              0.1111111111111111,
              "#46039f"
             ],
             [
              0.2222222222222222,
              "#7201a8"
             ],
             [
              0.3333333333333333,
              "#9c179e"
             ],
             [
              0.4444444444444444,
              "#bd3786"
             ],
             [
              0.5555555555555556,
              "#d8576b"
             ],
             [
              0.6666666666666666,
              "#ed7953"
             ],
             [
              0.7777777777777778,
              "#fb9f3a"
             ],
             [
              0.8888888888888888,
              "#fdca26"
             ],
             [
              1,
              "#f0f921"
             ]
            ],
            "type": "heatmap"
           }
          ],
          "heatmapgl": [
           {
            "colorbar": {
             "outlinewidth": 0,
             "ticks": ""
            },
            "colorscale": [
             [
              0,
              "#0d0887"
             ],
             [
              0.1111111111111111,
              "#46039f"
             ],
             [
              0.2222222222222222,
              "#7201a8"
             ],
             [
              0.3333333333333333,
              "#9c179e"
             ],
             [
              0.4444444444444444,
              "#bd3786"
             ],
             [
              0.5555555555555556,
              "#d8576b"
             ],
             [
              0.6666666666666666,
              "#ed7953"
             ],
             [
              0.7777777777777778,
              "#fb9f3a"
             ],
             [
              0.8888888888888888,
              "#fdca26"
             ],
             [
              1,
              "#f0f921"
             ]
            ],
            "type": "heatmapgl"
           }
          ],
          "histogram": [
           {
            "marker": {
             "colorbar": {
              "outlinewidth": 0,
              "ticks": ""
             }
            },
            "type": "histogram"
           }
          ],
          "histogram2d": [
           {
            "colorbar": {
             "outlinewidth": 0,
             "ticks": ""
            },
            "colorscale": [
             [
              0,
              "#0d0887"
             ],
             [
              0.1111111111111111,
              "#46039f"
             ],
             [
              0.2222222222222222,
              "#7201a8"
             ],
             [
              0.3333333333333333,
              "#9c179e"
             ],
             [
              0.4444444444444444,
              "#bd3786"
             ],
             [
              0.5555555555555556,
              "#d8576b"
             ],
             [
              0.6666666666666666,
              "#ed7953"
             ],
             [
              0.7777777777777778,
              "#fb9f3a"
             ],
             [
              0.8888888888888888,
              "#fdca26"
             ],
             [
              1,
              "#f0f921"
             ]
            ],
            "type": "histogram2d"
           }
          ],
          "histogram2dcontour": [
           {
            "colorbar": {
             "outlinewidth": 0,
             "ticks": ""
            },
            "colorscale": [
             [
              0,
              "#0d0887"
             ],
             [
              0.1111111111111111,
              "#46039f"
             ],
             [
              0.2222222222222222,
              "#7201a8"
             ],
             [
              0.3333333333333333,
              "#9c179e"
             ],
             [
              0.4444444444444444,
              "#bd3786"
             ],
             [
              0.5555555555555556,
              "#d8576b"
             ],
             [
              0.6666666666666666,
              "#ed7953"
             ],
             [
              0.7777777777777778,
              "#fb9f3a"
             ],
             [
              0.8888888888888888,
              "#fdca26"
             ],
             [
              1,
              "#f0f921"
             ]
            ],
            "type": "histogram2dcontour"
           }
          ],
          "mesh3d": [
           {
            "colorbar": {
             "outlinewidth": 0,
             "ticks": ""
            },
            "type": "mesh3d"
           }
          ],
          "parcoords": [
           {
            "line": {
             "colorbar": {
              "outlinewidth": 0,
              "ticks": ""
             }
            },
            "type": "parcoords"
           }
          ],
          "pie": [
           {
            "automargin": true,
            "type": "pie"
           }
          ],
          "scatter": [
           {
            "marker": {
             "colorbar": {
              "outlinewidth": 0,
              "ticks": ""
             }
            },
            "type": "scatter"
           }
          ],
          "scatter3d": [
           {
            "line": {
             "colorbar": {
              "outlinewidth": 0,
              "ticks": ""
             }
            },
            "marker": {
             "colorbar": {
              "outlinewidth": 0,
              "ticks": ""
             }
            },
            "type": "scatter3d"
           }
          ],
          "scattercarpet": [
           {
            "marker": {
             "colorbar": {
              "outlinewidth": 0,
              "ticks": ""
             }
            },
            "type": "scattercarpet"
           }
          ],
          "scattergeo": [
           {
            "marker": {
             "colorbar": {
              "outlinewidth": 0,
              "ticks": ""
             }
            },
            "type": "scattergeo"
           }
          ],
          "scattergl": [
           {
            "marker": {
             "colorbar": {
              "outlinewidth": 0,
              "ticks": ""
             }
            },
            "type": "scattergl"
           }
          ],
          "scattermapbox": [
           {
            "marker": {
             "colorbar": {
              "outlinewidth": 0,
              "ticks": ""
             }
            },
            "type": "scattermapbox"
           }
          ],
          "scatterpolar": [
           {
            "marker": {
             "colorbar": {
              "outlinewidth": 0,
              "ticks": ""
             }
            },
            "type": "scatterpolar"
           }
          ],
          "scatterpolargl": [
           {
            "marker": {
             "colorbar": {
              "outlinewidth": 0,
              "ticks": ""
             }
            },
            "type": "scatterpolargl"
           }
          ],
          "scatterternary": [
           {
            "marker": {
             "colorbar": {
              "outlinewidth": 0,
              "ticks": ""
             }
            },
            "type": "scatterternary"
           }
          ],
          "surface": [
           {
            "colorbar": {
             "outlinewidth": 0,
             "ticks": ""
            },
            "colorscale": [
             [
              0,
              "#0d0887"
             ],
             [
              0.1111111111111111,
              "#46039f"
             ],
             [
              0.2222222222222222,
              "#7201a8"
             ],
             [
              0.3333333333333333,
              "#9c179e"
             ],
             [
              0.4444444444444444,
              "#bd3786"
             ],
             [
              0.5555555555555556,
              "#d8576b"
             ],
             [
              0.6666666666666666,
              "#ed7953"
             ],
             [
              0.7777777777777778,
              "#fb9f3a"
             ],
             [
              0.8888888888888888,
              "#fdca26"
             ],
             [
              1,
              "#f0f921"
             ]
            ],
            "type": "surface"
           }
          ],
          "table": [
           {
            "cells": {
             "fill": {
              "color": "#EBF0F8"
             },
             "line": {
              "color": "white"
             }
            },
            "header": {
             "fill": {
              "color": "#C8D4E3"
             },
             "line": {
              "color": "white"
             }
            },
            "type": "table"
           }
          ]
         },
         "layout": {
          "annotationdefaults": {
           "arrowcolor": "#2a3f5f",
           "arrowhead": 0,
           "arrowwidth": 1
          },
          "coloraxis": {
           "colorbar": {
            "outlinewidth": 0,
            "ticks": ""
           }
          },
          "colorscale": {
           "diverging": [
            [
             0,
             "#8e0152"
            ],
            [
             0.1,
             "#c51b7d"
            ],
            [
             0.2,
             "#de77ae"
            ],
            [
             0.3,
             "#f1b6da"
            ],
            [
             0.4,
             "#fde0ef"
            ],
            [
             0.5,
             "#f7f7f7"
            ],
            [
             0.6,
             "#e6f5d0"
            ],
            [
             0.7,
             "#b8e186"
            ],
            [
             0.8,
             "#7fbc41"
            ],
            [
             0.9,
             "#4d9221"
            ],
            [
             1,
             "#276419"
            ]
           ],
           "sequential": [
            [
             0,
             "#0d0887"
            ],
            [
             0.1111111111111111,
             "#46039f"
            ],
            [
             0.2222222222222222,
             "#7201a8"
            ],
            [
             0.3333333333333333,
             "#9c179e"
            ],
            [
             0.4444444444444444,
             "#bd3786"
            ],
            [
             0.5555555555555556,
             "#d8576b"
            ],
            [
             0.6666666666666666,
             "#ed7953"
            ],
            [
             0.7777777777777778,
             "#fb9f3a"
            ],
            [
             0.8888888888888888,
             "#fdca26"
            ],
            [
             1,
             "#f0f921"
            ]
           ],
           "sequentialminus": [
            [
             0,
             "#0d0887"
            ],
            [
             0.1111111111111111,
             "#46039f"
            ],
            [
             0.2222222222222222,
             "#7201a8"
            ],
            [
             0.3333333333333333,
             "#9c179e"
            ],
            [
             0.4444444444444444,
             "#bd3786"
            ],
            [
             0.5555555555555556,
             "#d8576b"
            ],
            [
             0.6666666666666666,
             "#ed7953"
            ],
            [
             0.7777777777777778,
             "#fb9f3a"
            ],
            [
             0.8888888888888888,
             "#fdca26"
            ],
            [
             1,
             "#f0f921"
            ]
           ]
          },
          "colorway": [
           "#636efa",
           "#EF553B",
           "#00cc96",
           "#ab63fa",
           "#FFA15A",
           "#19d3f3",
           "#FF6692",
           "#B6E880",
           "#FF97FF",
           "#FECB52"
          ],
          "font": {
           "color": "#2a3f5f"
          },
          "geo": {
           "bgcolor": "white",
           "lakecolor": "white",
           "landcolor": "#E5ECF6",
           "showlakes": true,
           "showland": true,
           "subunitcolor": "white"
          },
          "hoverlabel": {
           "align": "left"
          },
          "hovermode": "closest",
          "mapbox": {
           "style": "light"
          },
          "paper_bgcolor": "white",
          "plot_bgcolor": "#E5ECF6",
          "polar": {
           "angularaxis": {
            "gridcolor": "white",
            "linecolor": "white",
            "ticks": ""
           },
           "bgcolor": "#E5ECF6",
           "radialaxis": {
            "gridcolor": "white",
            "linecolor": "white",
            "ticks": ""
           }
          },
          "scene": {
           "xaxis": {
            "backgroundcolor": "#E5ECF6",
            "gridcolor": "white",
            "gridwidth": 2,
            "linecolor": "white",
            "showbackground": true,
            "ticks": "",
            "zerolinecolor": "white"
           },
           "yaxis": {
            "backgroundcolor": "#E5ECF6",
            "gridcolor": "white",
            "gridwidth": 2,
            "linecolor": "white",
            "showbackground": true,
            "ticks": "",
            "zerolinecolor": "white"
           },
           "zaxis": {
            "backgroundcolor": "#E5ECF6",
            "gridcolor": "white",
            "gridwidth": 2,
            "linecolor": "white",
            "showbackground": true,
            "ticks": "",
            "zerolinecolor": "white"
           }
          },
          "shapedefaults": {
           "line": {
            "color": "#2a3f5f"
           }
          },
          "ternary": {
           "aaxis": {
            "gridcolor": "white",
            "linecolor": "white",
            "ticks": ""
           },
           "baxis": {
            "gridcolor": "white",
            "linecolor": "white",
            "ticks": ""
           },
           "bgcolor": "#E5ECF6",
           "caxis": {
            "gridcolor": "white",
            "linecolor": "white",
            "ticks": ""
           }
          },
          "title": {
           "x": 0.05
          },
          "xaxis": {
           "automargin": true,
           "gridcolor": "white",
           "linecolor": "white",
           "ticks": "",
           "title": {
            "standoff": 15
           },
           "zerolinecolor": "white",
           "zerolinewidth": 2
          },
          "yaxis": {
           "automargin": true,
           "gridcolor": "white",
           "linecolor": "white",
           "ticks": "",
           "title": {
            "standoff": 15
           },
           "zerolinecolor": "white",
           "zerolinewidth": 2
          }
         }
        },
        "title": {
         "text": "지역별 확진자 변화(서울 한정)-달 초/말 로 나눔",
         "x": 0.5,
         "xanchor": "center",
         "y": 1,
         "yanchor": "top"
        },
        "xaxis": {
         "anchor": "y",
         "domain": [
          0,
          1
         ],
         "title": {
          "text": "confirmed_date"
         }
        },
        "yaxis": {
         "anchor": "x",
         "domain": [
          0,
          1
         ],
         "title": {
          "text": "cnt"
         }
        }
       }
      },
      "text/html": [
       "<div>\n",
       "        \n",
       "        \n",
       "            <div id=\"a61850a4-75b0-4f9e-b803-8b4e1b88419b\" class=\"plotly-graph-div\" style=\"height:525px; width:100%;\"></div>\n",
       "            <script type=\"text/javascript\">\n",
       "                require([\"plotly\"], function(Plotly) {\n",
       "                    window.PLOTLYENV=window.PLOTLYENV || {};\n",
       "                    \n",
       "                if (document.getElementById(\"a61850a4-75b0-4f9e-b803-8b4e1b88419b\")) {\n",
       "                    Plotly.newPlot(\n",
       "                        'a61850a4-75b0-4f9e-b803-8b4e1b88419b',\n",
       "                        [{\"alignmentgroup\": \"True\", \"hovertemplate\": \"confirmed_date=%{x}<br>cnt=%{y}<extra></extra>\", \"legendgroup\": \"\", \"marker\": {\"color\": \"#636efa\"}, \"name\": \"\", \"offsetgroup\": \"\", \"orientation\": \"v\", \"showlegend\": false, \"textposition\": \"auto\", \"type\": \"bar\", \"x\": [\"2020-01-23T00:00:00\", \"2020-01-30T00:00:00\", \"2020-01-31T00:00:00\", \"2020-02-02T00:00:00\", \"2020-02-05T00:00:00\", \"2020-02-06T00:00:00\", \"2020-02-07T00:00:00\", \"2020-02-16T00:00:00\", \"2020-02-19T00:00:00\", \"2020-02-20T00:00:00\", \"2020-02-21T00:00:00\", \"2020-02-22T00:00:00\", \"2020-02-23T00:00:00\", \"2020-02-24T00:00:00\", \"2020-02-25T00:00:00\", \"2020-02-26T00:00:00\", \"2020-02-27T00:00:00\", \"2020-02-28T00:00:00\", \"2020-02-29T00:00:00\", \"2020-03-01T00:00:00\", \"2020-03-02T00:00:00\", \"2020-03-04T00:00:00\", \"2020-03-05T00:00:00\", \"2020-03-06T00:00:00\", \"2020-03-07T00:00:00\", \"2020-03-08T00:00:00\", \"2020-03-09T00:00:00\", \"2020-03-10T00:00:00\", \"2020-03-11T00:00:00\", \"2020-03-12T00:00:00\", \"2020-03-13T00:00:00\", \"2020-03-14T00:00:00\", \"2020-03-15T00:00:00\", \"2020-03-16T00:00:00\", \"2020-03-17T00:00:00\", \"2020-03-18T00:00:00\", \"2020-03-19T00:00:00\", \"2020-03-20T00:00:00\", \"2020-03-21T00:00:00\", \"2020-03-22T00:00:00\", \"2020-03-23T00:00:00\", \"2020-03-24T00:00:00\", \"2020-03-25T00:00:00\", \"2020-03-26T00:00:00\", \"2020-03-27T00:00:00\", \"2020-03-28T00:00:00\", \"2020-03-29T00:00:00\", \"2020-03-30T00:00:00\", \"2020-03-31T00:00:00\", \"2020-04-01T00:00:00\", \"2020-04-02T00:00:00\", \"2020-04-03T00:00:00\", \"2020-04-04T00:00:00\", \"2020-04-05T00:00:00\", \"2020-04-06T00:00:00\", \"2020-04-07T00:00:00\", \"2020-04-08T00:00:00\", \"2020-04-09T00:00:00\", \"2020-04-10T00:00:00\", \"2020-04-11T00:00:00\", \"2020-04-12T00:00:00\", \"2020-04-13T00:00:00\", \"2020-04-14T00:00:00\", \"2020-04-15T00:00:00\", \"2020-04-16T00:00:00\", \"2020-04-17T00:00:00\", \"2020-04-18T00:00:00\", \"2020-04-19T00:00:00\", \"2020-04-20T00:00:00\", \"2020-04-21T00:00:00\", \"2020-04-24T00:00:00\", \"2020-04-27T00:00:00\", \"2020-04-30T00:00:00\", \"2020-05-01T00:00:00\", \"2020-05-02T00:00:00\", \"2020-05-05T00:00:00\", \"2020-05-08T00:00:00\", \"2020-05-09T00:00:00\", \"2020-05-10T00:00:00\", \"2020-05-11T00:00:00\", \"2020-05-12T00:00:00\", \"2020-05-13T00:00:00\", \"2020-05-14T00:00:00\", \"2020-05-15T00:00:00\", \"2020-05-16T00:00:00\", \"2020-05-17T00:00:00\", \"2020-05-18T00:00:00\", \"2020-05-19T00:00:00\", \"2020-05-20T00:00:00\", \"2020-05-21T00:00:00\", \"2020-05-22T00:00:00\", \"2020-05-23T00:00:00\", \"2020-05-24T00:00:00\", \"2020-05-25T00:00:00\", \"2020-05-26T00:00:00\", \"2020-05-27T00:00:00\", \"2020-05-28T00:00:00\", \"2020-05-29T00:00:00\", \"2020-05-30T00:00:00\", \"2020-05-31T00:00:00\", \"2020-06-01T00:00:00\", \"2020-06-02T00:00:00\", \"2020-06-03T00:00:00\", \"2020-06-04T00:00:00\", \"2020-06-05T00:00:00\", \"2020-06-06T00:00:00\", \"2020-06-07T00:00:00\", \"2020-06-08T00:00:00\", \"2020-06-09T00:00:00\", \"2020-06-10T00:00:00\", \"2020-06-11T00:00:00\", \"2020-06-12T00:00:00\", \"2020-06-13T00:00:00\", \"2020-06-14T00:00:00\", \"2020-06-15T00:00:00\", \"2020-06-16T00:00:00\", \"2020-06-17T00:00:00\", \"2020-06-18T00:00:00\", \"2020-06-19T00:00:00\", \"2020-06-20T00:00:00\", \"2020-06-21T00:00:00\", \"2020-06-22T00:00:00\", \"2020-06-23T00:00:00\", \"2020-06-24T00:00:00\", \"2020-06-25T00:00:00\", \"2020-06-26T00:00:00\", \"2020-06-27T00:00:00\", \"2020-06-28T00:00:00\", \"2020-06-29T00:00:00\"], \"xaxis\": \"x\", \"y\": [1, 3, 3, 1, 2, 1, 1, 2, 2, 5, 2, 4, 4, 2, 8, 10, 18, 7, 10, 7, 6, 5, 2, 7, 7, 10, 26, 46, 18, 11, 9, 8, 6, 13, 4, 11, 17, 17, 8, 6, 6, 13, 13, 14, 15, 22, 21, 20, 24, 16, 19, 20, 19, 11, 8, 10, 11, 5, 3, 2, 8, 3, 4, 2, 1, 3, 1, 1, 1, 2, 1, 4, 1, 1, 1, 1, 14, 17, 20, 12, 8, 5, 12, 6, 4, 1, 7, 9, 4, 3, 3, 6, 7, 8, 19, 25, 19, 9, 6, 1, 14, 20, 14, 15, 27, 28, 16, 18, 14, 19, 25, 30, 12, 7, 11, 14, 24, 18, 16, 15, 8, 4, 10, 9, 17, 17, 14, 7, 7], \"yaxis\": \"y\"}],\n",
       "                        {\"barmode\": \"relative\", \"legend\": {\"tracegroupgap\": 0}, \"margin\": {\"t\": 60}, \"template\": {\"data\": {\"bar\": [{\"error_x\": {\"color\": \"#2a3f5f\"}, \"error_y\": {\"color\": \"#2a3f5f\"}, \"marker\": {\"line\": {\"color\": \"#E5ECF6\", \"width\": 0.5}}, \"type\": \"bar\"}], \"barpolar\": [{\"marker\": {\"line\": {\"color\": \"#E5ECF6\", \"width\": 0.5}}, \"type\": \"barpolar\"}], \"carpet\": [{\"aaxis\": {\"endlinecolor\": \"#2a3f5f\", \"gridcolor\": \"white\", \"linecolor\": \"white\", \"minorgridcolor\": \"white\", \"startlinecolor\": \"#2a3f5f\"}, \"baxis\": {\"endlinecolor\": \"#2a3f5f\", \"gridcolor\": \"white\", \"linecolor\": \"white\", \"minorgridcolor\": \"white\", \"startlinecolor\": \"#2a3f5f\"}, \"type\": \"carpet\"}], \"choropleth\": [{\"colorbar\": {\"outlinewidth\": 0, \"ticks\": \"\"}, \"type\": \"choropleth\"}], \"contour\": [{\"colorbar\": {\"outlinewidth\": 0, \"ticks\": \"\"}, \"colorscale\": [[0.0, \"#0d0887\"], [0.1111111111111111, \"#46039f\"], [0.2222222222222222, \"#7201a8\"], [0.3333333333333333, \"#9c179e\"], [0.4444444444444444, \"#bd3786\"], [0.5555555555555556, \"#d8576b\"], [0.6666666666666666, \"#ed7953\"], [0.7777777777777778, \"#fb9f3a\"], [0.8888888888888888, \"#fdca26\"], [1.0, \"#f0f921\"]], \"type\": \"contour\"}], \"contourcarpet\": [{\"colorbar\": {\"outlinewidth\": 0, \"ticks\": \"\"}, \"type\": \"contourcarpet\"}], \"heatmap\": [{\"colorbar\": {\"outlinewidth\": 0, \"ticks\": \"\"}, \"colorscale\": [[0.0, \"#0d0887\"], [0.1111111111111111, \"#46039f\"], [0.2222222222222222, \"#7201a8\"], [0.3333333333333333, \"#9c179e\"], [0.4444444444444444, \"#bd3786\"], [0.5555555555555556, \"#d8576b\"], [0.6666666666666666, \"#ed7953\"], [0.7777777777777778, \"#fb9f3a\"], [0.8888888888888888, \"#fdca26\"], [1.0, \"#f0f921\"]], \"type\": \"heatmap\"}], \"heatmapgl\": [{\"colorbar\": {\"outlinewidth\": 0, \"ticks\": \"\"}, \"colorscale\": [[0.0, \"#0d0887\"], [0.1111111111111111, \"#46039f\"], [0.2222222222222222, \"#7201a8\"], [0.3333333333333333, \"#9c179e\"], [0.4444444444444444, \"#bd3786\"], [0.5555555555555556, \"#d8576b\"], [0.6666666666666666, \"#ed7953\"], [0.7777777777777778, \"#fb9f3a\"], [0.8888888888888888, \"#fdca26\"], [1.0, \"#f0f921\"]], \"type\": \"heatmapgl\"}], \"histogram\": [{\"marker\": {\"colorbar\": {\"outlinewidth\": 0, \"ticks\": \"\"}}, \"type\": \"histogram\"}], \"histogram2d\": [{\"colorbar\": {\"outlinewidth\": 0, \"ticks\": \"\"}, \"colorscale\": [[0.0, \"#0d0887\"], [0.1111111111111111, \"#46039f\"], [0.2222222222222222, \"#7201a8\"], [0.3333333333333333, \"#9c179e\"], [0.4444444444444444, \"#bd3786\"], [0.5555555555555556, \"#d8576b\"], [0.6666666666666666, \"#ed7953\"], [0.7777777777777778, \"#fb9f3a\"], [0.8888888888888888, \"#fdca26\"], [1.0, \"#f0f921\"]], \"type\": \"histogram2d\"}], \"histogram2dcontour\": [{\"colorbar\": {\"outlinewidth\": 0, \"ticks\": \"\"}, \"colorscale\": [[0.0, \"#0d0887\"], [0.1111111111111111, \"#46039f\"], [0.2222222222222222, \"#7201a8\"], [0.3333333333333333, \"#9c179e\"], [0.4444444444444444, \"#bd3786\"], [0.5555555555555556, \"#d8576b\"], [0.6666666666666666, \"#ed7953\"], [0.7777777777777778, \"#fb9f3a\"], [0.8888888888888888, \"#fdca26\"], [1.0, \"#f0f921\"]], \"type\": \"histogram2dcontour\"}], \"mesh3d\": [{\"colorbar\": {\"outlinewidth\": 0, \"ticks\": \"\"}, \"type\": \"mesh3d\"}], \"parcoords\": [{\"line\": {\"colorbar\": {\"outlinewidth\": 0, \"ticks\": \"\"}}, \"type\": \"parcoords\"}], \"pie\": [{\"automargin\": true, \"type\": \"pie\"}], \"scatter\": [{\"marker\": {\"colorbar\": {\"outlinewidth\": 0, \"ticks\": \"\"}}, \"type\": \"scatter\"}], \"scatter3d\": [{\"line\": {\"colorbar\": {\"outlinewidth\": 0, \"ticks\": \"\"}}, \"marker\": {\"colorbar\": {\"outlinewidth\": 0, \"ticks\": \"\"}}, \"type\": \"scatter3d\"}], \"scattercarpet\": [{\"marker\": {\"colorbar\": {\"outlinewidth\": 0, \"ticks\": \"\"}}, \"type\": \"scattercarpet\"}], \"scattergeo\": [{\"marker\": {\"colorbar\": {\"outlinewidth\": 0, \"ticks\": \"\"}}, \"type\": \"scattergeo\"}], \"scattergl\": [{\"marker\": {\"colorbar\": {\"outlinewidth\": 0, \"ticks\": \"\"}}, \"type\": \"scattergl\"}], \"scattermapbox\": [{\"marker\": {\"colorbar\": {\"outlinewidth\": 0, \"ticks\": \"\"}}, \"type\": \"scattermapbox\"}], \"scatterpolar\": [{\"marker\": {\"colorbar\": {\"outlinewidth\": 0, \"ticks\": \"\"}}, \"type\": \"scatterpolar\"}], \"scatterpolargl\": [{\"marker\": {\"colorbar\": {\"outlinewidth\": 0, \"ticks\": \"\"}}, \"type\": \"scatterpolargl\"}], \"scatterternary\": [{\"marker\": {\"colorbar\": {\"outlinewidth\": 0, \"ticks\": \"\"}}, \"type\": \"scatterternary\"}], \"surface\": [{\"colorbar\": {\"outlinewidth\": 0, \"ticks\": \"\"}, \"colorscale\": [[0.0, \"#0d0887\"], [0.1111111111111111, \"#46039f\"], [0.2222222222222222, \"#7201a8\"], [0.3333333333333333, \"#9c179e\"], [0.4444444444444444, \"#bd3786\"], [0.5555555555555556, \"#d8576b\"], [0.6666666666666666, \"#ed7953\"], [0.7777777777777778, \"#fb9f3a\"], [0.8888888888888888, \"#fdca26\"], [1.0, \"#f0f921\"]], \"type\": \"surface\"}], \"table\": [{\"cells\": {\"fill\": {\"color\": \"#EBF0F8\"}, \"line\": {\"color\": \"white\"}}, \"header\": {\"fill\": {\"color\": \"#C8D4E3\"}, \"line\": {\"color\": \"white\"}}, \"type\": \"table\"}]}, \"layout\": {\"annotationdefaults\": {\"arrowcolor\": \"#2a3f5f\", \"arrowhead\": 0, \"arrowwidth\": 1}, \"coloraxis\": {\"colorbar\": {\"outlinewidth\": 0, \"ticks\": \"\"}}, \"colorscale\": {\"diverging\": [[0, \"#8e0152\"], [0.1, \"#c51b7d\"], [0.2, \"#de77ae\"], [0.3, \"#f1b6da\"], [0.4, \"#fde0ef\"], [0.5, \"#f7f7f7\"], [0.6, \"#e6f5d0\"], [0.7, \"#b8e186\"], [0.8, \"#7fbc41\"], [0.9, \"#4d9221\"], [1, \"#276419\"]], \"sequential\": [[0.0, \"#0d0887\"], [0.1111111111111111, \"#46039f\"], [0.2222222222222222, \"#7201a8\"], [0.3333333333333333, \"#9c179e\"], [0.4444444444444444, \"#bd3786\"], [0.5555555555555556, \"#d8576b\"], [0.6666666666666666, \"#ed7953\"], [0.7777777777777778, \"#fb9f3a\"], [0.8888888888888888, \"#fdca26\"], [1.0, \"#f0f921\"]], \"sequentialminus\": [[0.0, \"#0d0887\"], [0.1111111111111111, \"#46039f\"], [0.2222222222222222, \"#7201a8\"], [0.3333333333333333, \"#9c179e\"], [0.4444444444444444, \"#bd3786\"], [0.5555555555555556, \"#d8576b\"], [0.6666666666666666, \"#ed7953\"], [0.7777777777777778, \"#fb9f3a\"], [0.8888888888888888, \"#fdca26\"], [1.0, \"#f0f921\"]]}, \"colorway\": [\"#636efa\", \"#EF553B\", \"#00cc96\", \"#ab63fa\", \"#FFA15A\", \"#19d3f3\", \"#FF6692\", \"#B6E880\", \"#FF97FF\", \"#FECB52\"], \"font\": {\"color\": \"#2a3f5f\"}, \"geo\": {\"bgcolor\": \"white\", \"lakecolor\": \"white\", \"landcolor\": \"#E5ECF6\", \"showlakes\": true, \"showland\": true, \"subunitcolor\": \"white\"}, \"hoverlabel\": {\"align\": \"left\"}, \"hovermode\": \"closest\", \"mapbox\": {\"style\": \"light\"}, \"paper_bgcolor\": \"white\", \"plot_bgcolor\": \"#E5ECF6\", \"polar\": {\"angularaxis\": {\"gridcolor\": \"white\", \"linecolor\": \"white\", \"ticks\": \"\"}, \"bgcolor\": \"#E5ECF6\", \"radialaxis\": {\"gridcolor\": \"white\", \"linecolor\": \"white\", \"ticks\": \"\"}}, \"scene\": {\"xaxis\": {\"backgroundcolor\": \"#E5ECF6\", \"gridcolor\": \"white\", \"gridwidth\": 2, \"linecolor\": \"white\", \"showbackground\": true, \"ticks\": \"\", \"zerolinecolor\": \"white\"}, \"yaxis\": {\"backgroundcolor\": \"#E5ECF6\", \"gridcolor\": \"white\", \"gridwidth\": 2, \"linecolor\": \"white\", \"showbackground\": true, \"ticks\": \"\", \"zerolinecolor\": \"white\"}, \"zaxis\": {\"backgroundcolor\": \"#E5ECF6\", \"gridcolor\": \"white\", \"gridwidth\": 2, \"linecolor\": \"white\", \"showbackground\": true, \"ticks\": \"\", \"zerolinecolor\": \"white\"}}, \"shapedefaults\": {\"line\": {\"color\": \"#2a3f5f\"}}, \"ternary\": {\"aaxis\": {\"gridcolor\": \"white\", \"linecolor\": \"white\", \"ticks\": \"\"}, \"baxis\": {\"gridcolor\": \"white\", \"linecolor\": \"white\", \"ticks\": \"\"}, \"bgcolor\": \"#E5ECF6\", \"caxis\": {\"gridcolor\": \"white\", \"linecolor\": \"white\", \"ticks\": \"\"}}, \"title\": {\"x\": 0.05}, \"xaxis\": {\"automargin\": true, \"gridcolor\": \"white\", \"linecolor\": \"white\", \"ticks\": \"\", \"title\": {\"standoff\": 15}, \"zerolinecolor\": \"white\", \"zerolinewidth\": 2}, \"yaxis\": {\"automargin\": true, \"gridcolor\": \"white\", \"linecolor\": \"white\", \"ticks\": \"\", \"title\": {\"standoff\": 15}, \"zerolinecolor\": \"white\", \"zerolinewidth\": 2}}}, \"title\": {\"text\": \"\\uc9c0\\uc5ed\\ubcc4 \\ud655\\uc9c4\\uc790 \\ubcc0\\ud654(\\uc11c\\uc6b8 \\ud55c\\uc815)-\\ub2ec \\ucd08/\\ub9d0 \\ub85c \\ub098\\ub214\", \"x\": 0.5, \"xanchor\": \"center\", \"y\": 1, \"yanchor\": \"top\"}, \"xaxis\": {\"anchor\": \"y\", \"domain\": [0.0, 1.0], \"title\": {\"text\": \"confirmed_date\"}}, \"yaxis\": {\"anchor\": \"x\", \"domain\": [0.0, 1.0], \"title\": {\"text\": \"cnt\"}}},\n",
       "                        {\"responsive\": true}\n",
       "                    ).then(function(){\n",
       "                            \n",
       "var gd = document.getElementById('a61850a4-75b0-4f9e-b803-8b4e1b88419b');\n",
       "var x = new MutationObserver(function (mutations, observer) {{\n",
       "        var display = window.getComputedStyle(gd).display;\n",
       "        if (!display || display === 'none') {{\n",
       "            console.log([gd, 'removed!']);\n",
       "            Plotly.purge(gd);\n",
       "            observer.disconnect();\n",
       "        }}\n",
       "}});\n",
       "\n",
       "// Listen for the removal of the full notebook cells\n",
       "var notebookContainer = gd.closest('#notebook-container');\n",
       "if (notebookContainer) {{\n",
       "    x.observe(notebookContainer, {childList: true});\n",
       "}}\n",
       "\n",
       "// Listen for the clearing of the current output cell\n",
       "var outputEl = gd.closest('.output');\n",
       "if (outputEl) {{\n",
       "    x.observe(outputEl, {childList: true});\n",
       "}}\n",
       "\n",
       "                        })\n",
       "                };\n",
       "                });\n",
       "            </script>\n",
       "        </div>"
      ]
     },
     "metadata": {},
     "output_type": "display_data"
    }
   ],
   "source": [
    "fig=px.bar(patient_s,x='confirmed_date',y='cnt')\n",
    "fig.update_layout(\n",
    "    title={\n",
    "        'text': \"지역별 확진자 변화(서울 한정)-달 초/말 로 나눔\",\n",
    "        'y':1,\n",
    "        'x':0.5,\n",
    "        'xanchor': 'center',\n",
    "        'yanchor': 'top'})\n",
    "fig.show()"
   ]
  },
  {
   "cell_type": "code",
   "execution_count": 39,
   "metadata": {},
   "outputs": [
    {
     "data": {
      "image/png": "[encoded data removed]",
      "text/plain": [
       "<Figure size 432x288 with 2 Axes>"
      ]
     },
     "metadata": {
      "needs_background": "light"
     },
     "output_type": "display_data"
    }
   ],
   "source": [
    "fig,ax1=plt.subplots()\n",
    "\n",
    "ax2=ax1.twinx()\n",
    "ax1.bar(patient_s['confirmed_date'],patient_s['cnt'])\n",
    "ax2.plot(patient_s['confirmed_date'],patient_s['cnt_sum'],color='r')\n",
    "\n",
    "ax1.set_label('date')\n",
    "ax1.set_ylabel('코로나 확진자수(daily)',color='b')\n",
    "ax2.set_ylabel('코로나 확진자수(누적)', color='r')\n",
    "\n",
    "plt.title('서울시 코로나 확진자수')\n",
    "\n",
    "plt.show()"
   ]
  },
  {
   "cell_type": "code",
   "execution_count": 37,
   "metadata": {},
   "outputs": [
    {
     "data": {
      "image/png": "[encoded data removed]",
      "text/plain": [
       "<Figure size 1296x432 with 1 Axes>"
      ]
     },
     "metadata": {
      "needs_background": "light"
     },
     "output_type": "display_data"
    }
   ],
   "source": [
    "plt.figure(figsize=(18, 6))\n",
    "pal = sns.color_palette(\"Blues_d\", patient_se.shape[0])\n",
    "sns.barplot(data=patient_s, x='월', y='cnt')\n",
    "\n",
    "\n",
    "plt.title(f'서울 월별 신규 확진자 수', size=20)\n",
    "plt.xticks(rotation=45, size=15, ha='right')\n",
    "plt.xlabel('월별', size=15)\n",
    "plt.ylabel('cnt', size=15)\n",
    "plt.show()"
   ]
  },
  {
   "cell_type": "code",
   "execution_count": 38,
   "metadata": {},
   "outputs": [
    {
     "data": {
      "image/png": "[encoded data removed]",
      "text/plain": [
       "<Figure size 1296x432 with 1 Axes>"
      ]
     },
     "metadata": {
      "needs_background": "light"
     },
     "output_type": "display_data"
    }
   ],
   "source": [
    "\n",
    "plt.figure(figsize=(18, 6))\n",
    "\"\"\"pal = sns.color_palette(\"Blues_d\", patient_s.shape[0])\n",
    "rank = patient_s['cnt'].argsort().argsort()\"\"\"\n",
    "sns.barplot(data=patient_s, x='주차', y='cnt')\n",
    "\n",
    "\"\"\"plt.axvline(7, color='red', label='포스트코로나 시작 시점')\n",
    "plt.axvspan(7, 26.5, facecolor='red', alpha=0.1)\n",
    "plt.legend(fontsize=15)\"\"\"\n",
    "\n",
    "plt.title(f'서울 주별 신규 확진자 수', size=20)\n",
    "plt.xticks(rotation=45, size=15)\n",
    "plt.xlabel('주별(2020년 기준)', size=15)\n",
    "plt.ylabel('cnt', size=15)\n",
    "plt.show()\n"
   ]
  },
  {
   "cell_type": "markdown",
   "metadata": {},
   "source": [
    "서울 지역별 확진자"
   ]
  },
  {
   "cell_type": "code",
   "execution_count": 43,
   "metadata": {},
   "outputs": [
    {
     "data": {
      "text/html": [
       "<div>\n",
       "<style scoped>\n",
       "    .dataframe tbody tr th:only-of-type {\n",
       "        vertical-align: middle;\n",
       "    }\n",
       "\n",
       "    .dataframe tbody tr th {\n",
       "        vertical-align: top;\n",
       "    }\n",
       "\n",
       "    .dataframe thead th {\n",
       "        text-align: right;\n",
       "    }\n",
       "</style>\n",
       "<table border=\"1\" class=\"dataframe\">\n",
       "  <thead>\n",
       "    <tr style=\"text-align: right;\">\n",
       "      <th></th>\n",
       "      <th>confirmed_date</th>\n",
       "      <th>total_ads</th>\n",
       "      <th>cnt</th>\n",
       "    </tr>\n",
       "  </thead>\n",
       "  <tbody>\n",
       "    <tr>\n",
       "      <th>1</th>\n",
       "      <td>2020-01-23</td>\n",
       "      <td>서울 강서구</td>\n",
       "      <td>1</td>\n",
       "    </tr>\n",
       "    <tr>\n",
       "      <th>4</th>\n",
       "      <td>2020-01-30</td>\n",
       "      <td>서울 중랑구</td>\n",
       "      <td>1</td>\n",
       "    </tr>\n",
       "    <tr>\n",
       "      <th>5</th>\n",
       "      <td>2020-01-30</td>\n",
       "      <td>서울 종로구</td>\n",
       "      <td>1</td>\n",
       "    </tr>\n",
       "  </tbody>\n",
       "</table>\n",
       "</div>"
      ],
      "text/plain": [
       "  confirmed_date total_ads  cnt\n",
       "1     2020-01-23    서울 강서구    1\n",
       "4     2020-01-30    서울 중랑구    1\n",
       "5     2020-01-30    서울 종로구    1"
      ]
     },
     "execution_count": 43,
     "metadata": {},
     "output_type": "execute_result"
    }
   ],
   "source": [
    "patient_seoul=patientinfo_seoul[['province','city','confirmed_date']]\n",
    "patient_seoul['total_ads']=patient_seoul['province']+' '+patientinfo_seoul['city']\n",
    "patient_seoul=patient_seoul[['confirmed_date','total_ads']]\n",
    "patient_seoul['cnt']=1\n",
    "patient_seoul.head(3)"
   ]
  },
  {
   "cell_type": "markdown",
   "metadata": {},
   "source": [
    "지역별 daily 확진자수로 구함\n",
    "\n",
    "누적 확진자수 추가."
   ]
  },
  {
   "cell_type": "code",
   "execution_count": 44,
   "metadata": {},
   "outputs": [],
   "source": [
    "patient_seoul=patient_seoul.groupby(['confirmed_date','total_ads'],as_index=False).cnt.sum()\n",
    "patient_seoul['cnt_sum']=patient_seoul.groupby('total_ads')['cnt'].cumsum()"
   ]
  },
  {
   "cell_type": "code",
   "execution_count": 45,
   "metadata": {},
   "outputs": [
    {
     "data": {
      "application/vnd.plotly.v1+json": {
       "config": {
        "plotlyServerURL": "https://plot.ly"
       },
       "data": [
        {
         "hovertemplate": "total_ads=서울 강서구<br>confirmed_date=%{x}<br>cnt_sum=%{y}<extra></extra>",
         "legendgroup": "서울 강서구",
         "line": {
          "color": "#636efa",
          "dash": "solid"
         },
         "mode": "lines",
         "name": "서울 강서구",
         "orientation": "v",
         "showlegend": true,
         "type": "scatter",
         "x": [
          "2020-01-23",
          "2020-02-23",
          "2020-03-06",
          "2020-03-09",
          "2020-03-10",
          "2020-03-11",
          "2020-03-15",
          "2020-03-16",
          "2020-03-19",
          "2020-03-20",
          "2020-03-21",
          "2020-03-22",
          "2020-03-24",
          "2020-03-25",
          "2020-04-04",
          "2020-04-05",
          "2020-04-07",
          "2020-04-19",
          "2020-05-09",
          "2020-05-11",
          "2020-05-13",
          "2020-05-18",
          "2020-05-25",
          "2020-05-26",
          "2020-05-27",
          "2020-05-28",
          "2020-05-30",
          "2020-06-01",
          "2020-06-02",
          "2020-06-03",
          "2020-06-04",
          "2020-06-05",
          "2020-06-06",
          "2020-06-07",
          "2020-06-08",
          "2020-06-11",
          "2020-06-12",
          "2020-06-13",
          "2020-06-17",
          "2020-06-18",
          "2020-06-19",
          "2020-06-20",
          "2020-06-21",
          "2020-06-22",
          "2020-06-25"
         ],
         "xaxis": "x",
         "y": [
          1,
          2,
          3,
          6,
          10,
          13,
          14,
          15,
          16,
          17,
          18,
          19,
          21,
          22,
          23,
          24,
          25,
          26,
          28,
          30,
          31,
          32,
          33,
          35,
          39,
          43,
          45,
          47,
          50,
          52,
          54,
          55,
          57,
          59,
          62,
          65,
          67,
          69,
          71,
          73,
          74,
          75,
          76,
          77,
          78
         ],
         "yaxis": "y"
        },
        {
         "hovertemplate": "total_ads=서울 마포구<br>confirmed_date=%{x}<br>cnt_sum=%{y}<extra></extra>",
         "legendgroup": "서울 마포구",
         "line": {
          "color": "#EF553B",
          "dash": "solid"
         },
         "mode": "lines",
         "name": "서울 마포구",
         "orientation": "v",
         "showlegend": true,
         "type": "scatter",
         "x": [
          "2020-01-30",
          "2020-03-10",
          "2020-03-11",
          "2020-03-13",
          "2020-03-14",
          "2020-03-17",
          "2020-03-18",
          "2020-03-19",
          "2020-03-27",
          "2020-03-29",
          "2020-03-31",
          "2020-04-01",
          "2020-04-04",
          "2020-04-08",
          "2020-04-20",
          "2020-04-21",
          "2020-05-27",
          "2020-05-28",
          "2020-06-03",
          "2020-06-04",
          "2020-06-06",
          "2020-06-09",
          "2020-06-16",
          "2020-06-18",
          "2020-06-19",
          "2020-06-27",
          "2020-06-29"
         ],
         "xaxis": "x",
         "y": [
          1,
          5,
          6,
          7,
          8,
          9,
          10,
          13,
          14,
          15,
          17,
          18,
          19,
          22,
          23,
          24,
          25,
          27,
          28,
          29,
          30,
          31,
          32,
          33,
          34,
          35,
          38
         ],
         "yaxis": "y"
        },
        {
         "hovertemplate": "total_ads=서울 종로구<br>confirmed_date=%{x}<br>cnt_sum=%{y}<extra></extra>",
         "legendgroup": "서울 종로구",
         "line": {
          "color": "#00cc96",
          "dash": "solid"
         },
         "mode": "lines",
         "name": "서울 종로구",
         "orientation": "v",
         "showlegend": true,
         "type": "scatter",
         "x": [
          "2020-01-30",
          "2020-01-31",
          "2020-02-16",
          "2020-02-19",
          "2020-02-20",
          "2020-02-23",
          "2020-02-26",
          "2020-03-23",
          "2020-03-24",
          "2020-03-31",
          "2020-04-02",
          "2020-05-08",
          "2020-05-17",
          "2020-05-29",
          "2020-06-12",
          "2020-06-13",
          "2020-06-24"
         ],
         "xaxis": "x",
         "y": [
          1,
          3,
          5,
          6,
          9,
          10,
          11,
          12,
          13,
          15,
          16,
          17,
          18,
          19,
          20,
          21,
          22
         ],
         "yaxis": "y"
        },
        {
         "hovertemplate": "total_ads=서울 중랑구<br>confirmed_date=%{x}<br>cnt_sum=%{y}<extra></extra>",
         "legendgroup": "서울 중랑구",
         "line": {
          "color": "#ab63fa",
          "dash": "solid"
         },
         "mode": "lines",
         "name": "서울 중랑구",
         "orientation": "v",
         "showlegend": true,
         "type": "scatter",
         "x": [
          "2020-01-30",
          "2020-03-04",
          "2020-03-11",
          "2020-03-14",
          "2020-03-20",
          "2020-03-21",
          "2020-03-24",
          "2020-03-26",
          "2020-03-27",
          "2020-04-02",
          "2020-04-04",
          "2020-04-06",
          "2020-05-09",
          "2020-05-23",
          "2020-05-24",
          "2020-06-05",
          "2020-06-08",
          "2020-06-11",
          "2020-06-12",
          "2020-06-13",
          "2020-06-16",
          "2020-06-18",
          "2020-06-19",
          "2020-06-23",
          "2020-06-25",
          "2020-06-26"
         ],
         "xaxis": "x",
         "y": [
          1,
          2,
          4,
          5,
          6,
          8,
          10,
          11,
          13,
          14,
          15,
          16,
          17,
          18,
          19,
          20,
          21,
          23,
          26,
          27,
          28,
          29,
          30,
          31,
          32,
          33
         ],
         "yaxis": "y"
        },
        {
         "hovertemplate": "total_ads=서울 성북구<br>confirmed_date=%{x}<br>cnt_sum=%{y}<extra></extra>",
         "legendgroup": "서울 성북구",
         "line": {
          "color": "#FFA15A",
          "dash": "solid"
         },
         "mode": "lines",
         "name": "서울 성북구",
         "orientation": "v",
         "showlegend": true,
         "type": "scatter",
         "x": [
          "2020-01-31",
          "2020-02-05",
          "2020-03-01",
          "2020-03-02",
          "2020-03-06",
          "2020-03-11",
          "2020-03-12",
          "2020-03-18",
          "2020-03-20",
          "2020-03-22",
          "2020-03-26",
          "2020-03-27",
          "2020-04-04",
          "2020-04-05",
          "2020-04-07",
          "2020-04-09",
          "2020-04-13",
          "2020-04-17",
          "2020-04-27",
          "2020-05-08",
          "2020-05-09",
          "2020-05-10",
          "2020-05-18",
          "2020-05-29",
          "2020-06-10",
          "2020-06-12",
          "2020-06-18",
          "2020-06-21"
         ],
         "xaxis": "x",
         "y": [
          1,
          2,
          3,
          5,
          6,
          8,
          9,
          11,
          12,
          13,
          14,
          15,
          16,
          18,
          20,
          21,
          22,
          23,
          24,
          25,
          26,
          27,
          28,
          29,
          30,
          31,
          32,
          33
         ],
         "yaxis": "y"
        },
        {
         "hovertemplate": "total_ads=서울 기타<br>confirmed_date=%{x}<br>cnt_sum=%{y}<extra></extra>",
         "legendgroup": "서울 기타",
         "line": {
          "color": "#19d3f3",
          "dash": "solid"
         },
         "mode": "lines",
         "name": "서울 기타",
         "orientation": "v",
         "showlegend": true,
         "type": "scatter",
         "x": [
          "2020-02-02",
          "2020-02-07",
          "2020-02-20",
          "2020-02-25",
          "2020-02-26",
          "2020-02-27",
          "2020-03-06",
          "2020-03-07",
          "2020-03-08",
          "2020-03-09",
          "2020-03-17",
          "2020-03-24",
          "2020-03-25",
          "2020-03-27",
          "2020-03-28",
          "2020-03-29",
          "2020-03-30",
          "2020-03-31",
          "2020-04-01",
          "2020-04-02",
          "2020-04-04",
          "2020-04-05",
          "2020-04-06",
          "2020-04-21",
          "2020-04-24",
          "2020-05-08",
          "2020-05-11",
          "2020-05-20",
          "2020-05-22",
          "2020-05-23",
          "2020-05-26",
          "2020-05-27",
          "2020-05-28",
          "2020-06-02",
          "2020-06-03",
          "2020-06-04",
          "2020-06-06",
          "2020-06-07",
          "2020-06-08",
          "2020-06-09",
          "2020-06-10",
          "2020-06-14",
          "2020-06-17",
          "2020-06-18",
          "2020-06-19",
          "2020-06-20",
          "2020-06-24",
          "2020-06-25",
          "2020-06-28",
          "2020-06-29"
         ],
         "xaxis": "x",
         "y": [
          1,
          2,
          3,
          5,
          6,
          9,
          11,
          12,
          13,
          17,
          18,
          19,
          21,
          22,
          25,
          26,
          29,
          31,
          37,
          38,
          39,
          40,
          41,
          42,
          43,
          45,
          46,
          47,
          48,
          49,
          50,
          53,
          55,
          57,
          58,
          59,
          63,
          65,
          66,
          67,
          68,
          69,
          70,
          71,
          73,
          75,
          77,
          78,
          79,
          80
         ],
         "yaxis": "y"
        },
        {
         "hovertemplate": "total_ads=서울 송파구<br>confirmed_date=%{x}<br>cnt_sum=%{y}<extra></extra>",
         "legendgroup": "서울 송파구",
         "line": {
          "color": "#FF6692",
          "dash": "solid"
         },
         "mode": "lines",
         "name": "서울 송파구",
         "orientation": "v",
         "showlegend": true,
         "type": "scatter",
         "x": [
          "2020-02-05",
          "2020-02-22",
          "2020-02-24",
          "2020-02-25",
          "2020-02-26",
          "2020-02-27",
          "2020-02-29",
          "2020-03-01",
          "2020-03-10",
          "2020-03-11",
          "2020-03-12",
          "2020-03-17",
          "2020-03-19",
          "2020-03-23",
          "2020-03-26",
          "2020-03-27",
          "2020-03-28",
          "2020-03-29",
          "2020-03-30",
          "2020-03-31",
          "2020-04-01",
          "2020-04-03",
          "2020-04-04",
          "2020-04-05",
          "2020-04-12",
          "2020-05-09",
          "2020-05-10",
          "2020-05-12",
          "2020-05-13",
          "2020-05-14",
          "2020-05-16",
          "2020-05-18",
          "2020-05-27",
          "2020-05-28",
          "2020-05-29",
          "2020-06-01",
          "2020-06-05",
          "2020-06-10",
          "2020-06-16",
          "2020-06-21",
          "2020-06-27",
          "2020-06-28"
         ],
         "xaxis": "x",
         "y": [
          1,
          2,
          4,
          5,
          7,
          10,
          11,
          12,
          13,
          14,
          15,
          16,
          18,
          19,
          21,
          22,
          23,
          24,
          25,
          27,
          28,
          32,
          35,
          36,
          37,
          38,
          39,
          40,
          41,
          42,
          44,
          45,
          46,
          47,
          48,
          49,
          50,
          51,
          52,
          53,
          54,
          55
         ],
         "yaxis": "y"
        },
        {
         "hovertemplate": "total_ads=서울 서대문구<br>confirmed_date=%{x}<br>cnt_sum=%{y}<extra></extra>",
         "legendgroup": "서울 서대문구",
         "line": {
          "color": "#B6E880",
          "dash": "solid"
         },
         "mode": "lines",
         "name": "서울 서대문구",
         "orientation": "v",
         "showlegend": true,
         "type": "scatter",
         "x": [
          "2020-02-06",
          "2020-02-21",
          "2020-02-28",
          "2020-03-11",
          "2020-03-16",
          "2020-03-21",
          "2020-03-22",
          "2020-03-27",
          "2020-03-29",
          "2020-04-01",
          "2020-04-03",
          "2020-04-04",
          "2020-04-15",
          "2020-04-30",
          "2020-05-09",
          "2020-05-11",
          "2020-05-15",
          "2020-05-27",
          "2020-05-28",
          "2020-05-29",
          "2020-05-30",
          "2020-06-01",
          "2020-06-02",
          "2020-06-08",
          "2020-06-14",
          "2020-06-15",
          "2020-06-18",
          "2020-06-19"
         ],
         "xaxis": "x",
         "y": [
          1,
          2,
          4,
          6,
          8,
          10,
          12,
          13,
          14,
          15,
          16,
          18,
          19,
          20,
          21,
          22,
          23,
          24,
          26,
          27,
          28,
          29,
          31,
          32,
          33,
          34,
          35,
          36
         ],
         "yaxis": "y"
        },
        {
         "hovertemplate": "total_ads=서울 성동구<br>confirmed_date=%{x}<br>cnt_sum=%{y}<extra></extra>",
         "legendgroup": "서울 성동구",
         "line": {
          "color": "#FF97FF",
          "dash": "solid"
         },
         "mode": "lines",
         "name": "서울 성동구",
         "orientation": "v",
         "showlegend": true,
         "type": "scatter",
         "x": [
          "2020-02-19",
          "2020-02-20",
          "2020-02-28",
          "2020-03-19",
          "2020-03-20",
          "2020-03-21",
          "2020-04-02",
          "2020-04-06",
          "2020-04-07",
          "2020-04-08",
          "2020-04-09",
          "2020-04-12",
          "2020-04-13",
          "2020-04-14",
          "2020-05-01",
          "2020-05-10",
          "2020-05-12",
          "2020-05-24",
          "2020-05-25",
          "2020-05-26",
          "2020-05-27",
          "2020-05-28",
          "2020-05-29",
          "2020-06-02",
          "2020-06-05",
          "2020-06-06",
          "2020-06-07",
          "2020-06-09",
          "2020-06-20"
         ],
         "xaxis": "x",
         "y": [
          1,
          2,
          3,
          4,
          5,
          6,
          7,
          8,
          9,
          10,
          12,
          16,
          18,
          19,
          20,
          21,
          22,
          23,
          26,
          34,
          37,
          39,
          40,
          41,
          42,
          44,
          46,
          47,
          49
         ],
         "yaxis": "y"
        },
        {
         "hovertemplate": "total_ads=서울 서초구<br>confirmed_date=%{x}<br>cnt_sum=%{y}<extra></extra>",
         "legendgroup": "서울 서초구",
         "line": {
          "color": "#FECB52",
          "dash": "solid"
         },
         "mode": "lines",
         "name": "서울 서초구",
         "orientation": "v",
         "showlegend": true,
         "type": "scatter",
         "x": [
          "2020-02-21",
          "2020-02-22",
          "2020-02-23",
          "2020-02-27",
          "2020-03-02",
          "2020-03-07",
          "2020-03-12",
          "2020-03-13",
          "2020-03-20",
          "2020-03-21",
          "2020-03-24",
          "2020-03-25",
          "2020-03-26",
          "2020-03-28",
          "2020-03-29",
          "2020-03-30",
          "2020-03-31",
          "2020-04-01",
          "2020-04-02",
          "2020-04-03",
          "2020-04-07",
          "2020-04-08",
          "2020-04-14",
          "2020-05-09",
          "2020-05-11",
          "2020-05-19",
          "2020-05-22",
          "2020-06-01",
          "2020-06-08",
          "2020-06-10",
          "2020-06-11",
          "2020-06-13",
          "2020-06-14",
          "2020-06-16",
          "2020-06-17",
          "2020-06-18",
          "2020-06-19",
          "2020-06-20",
          "2020-06-26",
          "2020-06-28"
         ],
         "xaxis": "x",
         "y": [
          1,
          2,
          3,
          4,
          5,
          6,
          7,
          9,
          11,
          12,
          13,
          16,
          17,
          20,
          21,
          23,
          24,
          26,
          28,
          30,
          33,
          35,
          37,
          38,
          39,
          40,
          41,
          43,
          44,
          45,
          46,
          47,
          48,
          49,
          50,
          51,
          52,
          53,
          54,
          55
         ],
         "yaxis": "y"
        },
        {
         "hovertemplate": "total_ads=서울 강동구<br>confirmed_date=%{x}<br>cnt_sum=%{y}<extra></extra>",
         "legendgroup": "서울 강동구",
         "line": {
          "color": "#636efa",
          "dash": "solid"
         },
         "mode": "lines",
         "name": "서울 강동구",
         "orientation": "v",
         "showlegend": true,
         "type": "scatter",
         "x": [
          "2020-02-22",
          "2020-02-23",
          "2020-02-25",
          "2020-02-27",
          "2020-03-09",
          "2020-03-20",
          "2020-03-23",
          "2020-03-26",
          "2020-03-30",
          "2020-04-02",
          "2020-04-03",
          "2020-04-05",
          "2020-05-05",
          "2020-05-08",
          "2020-05-10",
          "2020-05-13",
          "2020-05-14",
          "2020-05-19",
          "2020-05-22",
          "2020-05-23",
          "2020-05-25",
          "2020-05-27",
          "2020-06-01",
          "2020-06-02",
          "2020-06-04",
          "2020-06-05",
          "2020-06-07",
          "2020-06-11",
          "2020-06-12",
          "2020-06-22"
         ],
         "xaxis": "x",
         "y": [
          1,
          2,
          3,
          4,
          5,
          7,
          8,
          9,
          10,
          11,
          12,
          13,
          14,
          15,
          16,
          17,
          19,
          20,
          21,
          22,
          23,
          24,
          25,
          26,
          28,
          30,
          31,
          32,
          33,
          35
         ],
         "yaxis": "y"
        },
        {
         "hovertemplate": "total_ads=서울 구로구<br>confirmed_date=%{x}<br>cnt_sum=%{y}<extra></extra>",
         "legendgroup": "서울 구로구",
         "line": {
          "color": "#EF553B",
          "dash": "solid"
         },
         "mode": "lines",
         "name": "서울 구로구",
         "orientation": "v",
         "showlegend": true,
         "type": "scatter",
         "x": [
          "2020-02-22",
          "2020-03-09",
          "2020-03-10",
          "2020-03-11",
          "2020-03-14",
          "2020-03-15",
          "2020-03-16",
          "2020-03-20",
          "2020-03-26",
          "2020-03-27",
          "2020-03-28",
          "2020-03-29",
          "2020-03-30",
          "2020-03-31",
          "2020-04-02",
          "2020-05-18",
          "2020-05-25",
          "2020-05-26",
          "2020-05-27",
          "2020-06-02",
          "2020-06-03",
          "2020-06-04",
          "2020-06-05",
          "2020-06-06",
          "2020-06-07",
          "2020-06-08",
          "2020-06-09",
          "2020-06-10",
          "2020-06-11",
          "2020-06-12",
          "2020-06-14",
          "2020-06-15",
          "2020-06-17",
          "2020-06-21",
          "2020-06-23",
          "2020-06-24",
          "2020-06-25",
          "2020-06-26",
          "2020-06-27",
          "2020-06-28"
         ],
         "xaxis": "x",
         "y": [
          1,
          9,
          14,
          16,
          18,
          20,
          22,
          23,
          25,
          26,
          29,
          30,
          32,
          33,
          34,
          35,
          36,
          37,
          40,
          42,
          43,
          45,
          49,
          52,
          55,
          64,
          65,
          67,
          68,
          69,
          70,
          74,
          75,
          79,
          80,
          81,
          82,
          83,
          84,
          85
         ],
         "yaxis": "y"
        },
        {
         "hovertemplate": "total_ads=서울 관악구<br>confirmed_date=%{x}<br>cnt_sum=%{y}<extra></extra>",
         "legendgroup": "서울 관악구",
         "line": {
          "color": "#00cc96",
          "dash": "solid"
         },
         "mode": "lines",
         "name": "서울 관악구",
         "orientation": "v",
         "showlegend": true,
         "type": "scatter",
         "x": [
          "2020-02-25",
          "2020-02-27",
          "2020-02-29",
          "2020-03-07",
          "2020-03-10",
          "2020-03-12",
          "2020-03-13",
          "2020-03-16",
          "2020-03-19",
          "2020-03-20",
          "2020-03-27",
          "2020-03-28",
          "2020-03-29",
          "2020-03-30",
          "2020-03-31",
          "2020-04-02",
          "2020-04-04",
          "2020-04-05",
          "2020-04-06",
          "2020-04-11",
          "2020-04-27",
          "2020-05-08",
          "2020-05-09",
          "2020-05-10",
          "2020-05-11",
          "2020-05-12",
          "2020-05-15",
          "2020-05-21",
          "2020-05-23",
          "2020-05-24",
          "2020-05-26",
          "2020-05-27",
          "2020-06-01",
          "2020-06-03",
          "2020-06-05",
          "2020-06-06",
          "2020-06-08",
          "2020-06-09",
          "2020-06-10",
          "2020-06-11",
          "2020-06-12",
          "2020-06-13",
          "2020-06-16",
          "2020-06-17",
          "2020-06-18",
          "2020-06-20",
          "2020-06-23",
          "2020-06-24",
          "2020-06-25",
          "2020-06-26",
          "2020-06-27",
          "2020-06-28"
         ],
         "xaxis": "x",
         "y": [
          1,
          2,
          4,
          5,
          13,
          14,
          15,
          17,
          18,
          19,
          20,
          21,
          24,
          28,
          34,
          37,
          39,
          40,
          41,
          42,
          43,
          46,
          47,
          50,
          51,
          52,
          53,
          54,
          55,
          56,
          58,
          59,
          60,
          61,
          64,
          65,
          66,
          68,
          69,
          74,
          75,
          77,
          79,
          81,
          82,
          83,
          87,
          89,
          100,
          107,
          112,
          113
         ],
         "yaxis": "y"
        },
        {
         "hovertemplate": "total_ads=서울 금천구<br>confirmed_date=%{x}<br>cnt_sum=%{y}<extra></extra>",
         "legendgroup": "서울 금천구",
         "line": {
          "color": "#ab63fa",
          "dash": "solid"
         },
         "mode": "lines",
         "name": "서울 금천구",
         "orientation": "v",
         "showlegend": true,
         "type": "scatter",
         "x": [
          "2020-02-25",
          "2020-03-09",
          "2020-03-10",
          "2020-03-12",
          "2020-03-25",
          "2020-03-26",
          "2020-03-27",
          "2020-03-28",
          "2020-03-29",
          "2020-05-14",
          "2020-05-26",
          "2020-05-28",
          "2020-06-02",
          "2020-06-03",
          "2020-06-09",
          "2020-06-10",
          "2020-06-11",
          "2020-06-12",
          "2020-06-13",
          "2020-06-15",
          "2020-06-24",
          "2020-06-29"
         ],
         "xaxis": "x",
         "y": [
          1,
          2,
          3,
          5,
          6,
          7,
          8,
          9,
          13,
          14,
          15,
          16,
          17,
          19,
          20,
          24,
          27,
          28,
          29,
          30,
          31,
          32
         ],
         "yaxis": "y"
        },
        {
         "hovertemplate": "total_ads=서울 노원구<br>confirmed_date=%{x}<br>cnt_sum=%{y}<extra></extra>",
         "legendgroup": "서울 노원구",
         "line": {
          "color": "#FFA15A",
          "dash": "solid"
         },
         "mode": "lines",
         "name": "서울 노원구",
         "orientation": "v",
         "showlegend": true,
         "type": "scatter",
         "x": [
          "2020-02-25",
          "2020-02-26",
          "2020-02-27",
          "2020-02-28",
          "2020-02-29",
          "2020-03-08",
          "2020-03-09",
          "2020-03-10",
          "2020-03-12",
          "2020-03-13",
          "2020-03-15",
          "2020-03-18",
          "2020-03-19",
          "2020-03-20",
          "2020-04-02",
          "2020-04-03",
          "2020-04-06",
          "2020-05-12",
          "2020-05-13",
          "2020-05-16",
          "2020-05-21",
          "2020-05-23",
          "2020-05-25",
          "2020-05-26",
          "2020-06-04",
          "2020-06-05",
          "2020-06-10",
          "2020-06-11",
          "2020-06-12",
          "2020-06-20",
          "2020-06-25",
          "2020-06-26",
          "2020-06-28",
          "2020-06-29"
         ],
         "xaxis": "x",
         "y": [
          1,
          3,
          5,
          7,
          8,
          9,
          10,
          12,
          13,
          14,
          15,
          16,
          18,
          20,
          21,
          22,
          23,
          24,
          25,
          27,
          28,
          29,
          30,
          31,
          32,
          34,
          35,
          36,
          37,
          39,
          40,
          41,
          42,
          43
         ],
         "yaxis": "y"
        },
        {
         "hovertemplate": "total_ads=서울 은평구<br>confirmed_date=%{x}<br>cnt_sum=%{y}<extra></extra>",
         "legendgroup": "서울 은평구",
         "line": {
          "color": "#19d3f3",
          "dash": "solid"
         },
         "mode": "lines",
         "name": "서울 은평구",
         "orientation": "v",
         "showlegend": true,
         "type": "scatter",
         "x": [
          "2020-02-25",
          "2020-02-26",
          "2020-02-27",
          "2020-02-28",
          "2020-03-07",
          "2020-03-09",
          "2020-03-10",
          "2020-03-11",
          "2020-03-15",
          "2020-03-16",
          "2020-03-20",
          "2020-03-22",
          "2020-03-24",
          "2020-04-02",
          "2020-04-03",
          "2020-04-04",
          "2020-04-11",
          "2020-04-12",
          "2020-05-15",
          "2020-05-26",
          "2020-05-27",
          "2020-05-29",
          "2020-06-05",
          "2020-06-06",
          "2020-06-10",
          "2020-06-11",
          "2020-06-13",
          "2020-06-14",
          "2020-06-15",
          "2020-06-16",
          "2020-06-17",
          "2020-06-18",
          "2020-06-19",
          "2020-06-26",
          "2020-06-29"
         ],
         "xaxis": "x",
         "y": [
          1,
          3,
          5,
          7,
          8,
          12,
          14,
          16,
          17,
          18,
          19,
          20,
          21,
          23,
          24,
          26,
          27,
          28,
          30,
          32,
          34,
          35,
          37,
          39,
          40,
          41,
          42,
          43,
          44,
          47,
          49,
          50,
          51,
          52,
          53
         ],
         "yaxis": "y"
        },
        {
         "hovertemplate": "total_ads=서울 강남구<br>confirmed_date=%{x}<br>cnt_sum=%{y}<extra></extra>",
         "legendgroup": "서울 강남구",
         "line": {
          "color": "#FF6692",
          "dash": "solid"
         },
         "mode": "lines",
         "name": "서울 강남구",
         "orientation": "v",
         "showlegend": true,
         "type": "scatter",
         "x": [
          "2020-02-26",
          "2020-02-27",
          "2020-02-29",
          "2020-03-01",
          "2020-03-02",
          "2020-03-05",
          "2020-03-07",
          "2020-03-08",
          "2020-03-12",
          "2020-03-14",
          "2020-03-18",
          "2020-03-19",
          "2020-03-23",
          "2020-03-24",
          "2020-03-25",
          "2020-03-26",
          "2020-03-27",
          "2020-03-28",
          "2020-03-29",
          "2020-03-31",
          "2020-04-02",
          "2020-04-03",
          "2020-04-04",
          "2020-04-06",
          "2020-04-07",
          "2020-04-08",
          "2020-04-09",
          "2020-04-10",
          "2020-04-16",
          "2020-04-17",
          "2020-04-18",
          "2020-04-27",
          "2020-05-09",
          "2020-05-10",
          "2020-05-14",
          "2020-05-15",
          "2020-05-19",
          "2020-05-29",
          "2020-05-31",
          "2020-06-02",
          "2020-06-03",
          "2020-06-16",
          "2020-06-17",
          "2020-06-22",
          "2020-06-24",
          "2020-06-27"
         ],
         "xaxis": "x",
         "y": [
          1,
          3,
          7,
          8,
          9,
          10,
          11,
          12,
          13,
          14,
          16,
          17,
          18,
          19,
          23,
          27,
          29,
          34,
          38,
          41,
          43,
          48,
          50,
          53,
          54,
          56,
          57,
          59,
          60,
          61,
          62,
          64,
          65,
          69,
          70,
          71,
          72,
          74,
          75,
          76,
          78,
          79,
          80,
          81,
          82,
          83
         ],
         "yaxis": "y"
        },
        {
         "hovertemplate": "total_ads=서울 동구 구<br>confirmed_date=%{x}<br>cnt_sum=%{y}<extra></extra>",
         "legendgroup": "서울 동구 구",
         "line": {
          "color": "#B6E880",
          "dash": "solid"
         },
         "mode": "lines",
         "name": "서울 동구 구",
         "orientation": "v",
         "showlegend": true,
         "type": "scatter",
         "x": [
          "2020-02-26",
          "2020-03-09",
          "2020-03-10",
          "2020-03-13",
          "2020-03-16",
          "2020-03-18",
          "2020-03-19",
          "2020-03-20",
          "2020-03-24",
          "2020-03-25",
          "2020-03-28",
          "2020-03-29",
          "2020-03-30",
          "2020-03-31",
          "2020-04-01",
          "2020-04-03",
          "2020-04-08",
          "2020-04-12",
          "2020-04-14",
          "2020-05-08",
          "2020-05-09",
          "2020-05-10",
          "2020-05-11",
          "2020-05-12",
          "2020-05-20",
          "2020-05-27",
          "2020-05-28",
          "2020-06-06",
          "2020-06-09",
          "2020-06-10",
          "2020-06-15",
          "2020-06-16",
          "2020-06-19",
          "2020-06-20",
          "2020-06-25",
          "2020-06-26"
         ],
         "xaxis": "x",
         "y": [
          1,
          2,
          5,
          6,
          7,
          9,
          11,
          13,
          14,
          16,
          19,
          21,
          23,
          24,
          25,
          28,
          29,
          30,
          31,
          32,
          33,
          35,
          36,
          37,
          38,
          39,
          40,
          41,
          44,
          45,
          46,
          48,
          49,
          50,
          51,
          53
         ],
         "yaxis": "y"
        },
        {
         "hovertemplate": "total_ads=서울 광진구<br>confirmed_date=%{x}<br>cnt_sum=%{y}<extra></extra>",
         "legendgroup": "서울 광진구",
         "line": {
          "color": "#FF97FF",
          "dash": "solid"
         },
         "mode": "lines",
         "name": "서울 광진구",
         "orientation": "v",
         "showlegend": true,
         "type": "scatter",
         "x": [
          "2020-02-27",
          "2020-03-01",
          "2020-03-18",
          "2020-03-20",
          "2020-03-29",
          "2020-03-31",
          "2020-04-01",
          "2020-04-09",
          "2020-05-09",
          "2020-05-10",
          "2020-05-14",
          "2020-05-21",
          "2020-05-27",
          "2020-06-10",
          "2020-06-18",
          "2020-06-26"
         ],
         "xaxis": "x",
         "y": [
          1,
          2,
          3,
          4,
          5,
          6,
          7,
          8,
          10,
          11,
          12,
          13,
          14,
          15,
          16,
          17
         ],
         "yaxis": "y"
        },
        {
         "hovertemplate": "total_ads=서울 동대문구<br>confirmed_date=%{x}<br>cnt_sum=%{y}<extra></extra>",
         "legendgroup": "서울 동대문구",
         "line": {
          "color": "#FECB52",
          "dash": "solid"
         },
         "mode": "lines",
         "name": "서울 동대문구",
         "orientation": "v",
         "showlegend": true,
         "type": "scatter",
         "x": [
          "2020-02-27",
          "2020-03-01",
          "2020-03-04",
          "2020-03-08",
          "2020-03-10",
          "2020-03-11",
          "2020-03-12",
          "2020-03-13",
          "2020-03-16",
          "2020-03-17",
          "2020-03-24",
          "2020-04-01",
          "2020-04-03",
          "2020-04-04",
          "2020-04-07",
          "2020-05-10",
          "2020-05-12",
          "2020-05-14",
          "2020-06-05",
          "2020-06-19",
          "2020-06-26",
          "2020-06-27"
         ],
         "xaxis": "x",
         "y": [
          1,
          2,
          4,
          11,
          15,
          18,
          19,
          22,
          24,
          25,
          26,
          27,
          28,
          30,
          31,
          32,
          33,
          34,
          35,
          36,
          37,
          38
         ],
         "yaxis": "y"
        },
        {
         "hovertemplate": "total_ads=서울 양천구<br>confirmed_date=%{x}<br>cnt_sum=%{y}<extra></extra>",
         "legendgroup": "서울 양천구",
         "line": {
          "color": "#636efa",
          "dash": "solid"
         },
         "mode": "lines",
         "name": "서울 양천구",
         "orientation": "v",
         "showlegend": true,
         "type": "scatter",
         "x": [
          "2020-02-27",
          "2020-03-01",
          "2020-03-06",
          "2020-03-07",
          "2020-03-09",
          "2020-03-10",
          "2020-03-18",
          "2020-03-19",
          "2020-03-28",
          "2020-03-31",
          "2020-04-01",
          "2020-04-02",
          "2020-04-10",
          "2020-05-10",
          "2020-05-11",
          "2020-05-18",
          "2020-05-20",
          "2020-05-27",
          "2020-06-01",
          "2020-06-02",
          "2020-06-04",
          "2020-06-05",
          "2020-06-06",
          "2020-06-07",
          "2020-06-08",
          "2020-06-09",
          "2020-06-10",
          "2020-06-11",
          "2020-06-12",
          "2020-06-18",
          "2020-06-19",
          "2020-06-27"
         ],
         "xaxis": "x",
         "y": [
          1,
          2,
          3,
          5,
          7,
          14,
          15,
          16,
          17,
          18,
          20,
          21,
          22,
          23,
          24,
          26,
          27,
          28,
          31,
          36,
          40,
          44,
          52,
          57,
          58,
          60,
          63,
          64,
          66,
          68,
          70,
          71
         ],
         "yaxis": "y"
        },
        {
         "hovertemplate": "total_ads=서울 영등포구<br>confirmed_date=%{x}<br>cnt_sum=%{y}<extra></extra>",
         "legendgroup": "서울 영등포구",
         "line": {
          "color": "#EF553B",
          "dash": "solid"
         },
         "mode": "lines",
         "name": "서울 영등포구",
         "orientation": "v",
         "showlegend": true,
         "type": "scatter",
         "x": [
          "2020-02-29",
          "2020-03-01",
          "2020-03-02",
          "2020-03-10",
          "2020-03-14",
          "2020-03-15",
          "2020-03-16",
          "2020-03-19",
          "2020-03-20",
          "2020-03-21",
          "2020-03-23",
          "2020-03-27",
          "2020-03-31",
          "2020-04-05",
          "2020-04-07",
          "2020-04-08",
          "2020-05-12",
          "2020-05-14",
          "2020-05-18",
          "2020-05-24",
          "2020-05-27",
          "2020-05-28",
          "2020-05-30",
          "2020-06-01",
          "2020-06-03",
          "2020-06-05",
          "2020-06-06",
          "2020-06-09",
          "2020-06-11",
          "2020-06-12",
          "2020-06-13",
          "2020-06-17",
          "2020-06-18",
          "2020-06-19",
          "2020-06-20",
          "2020-06-23",
          "2020-06-27"
         ],
         "xaxis": "x",
         "y": [
          2,
          3,
          4,
          9,
          11,
          12,
          13,
          15,
          16,
          17,
          18,
          19,
          20,
          22,
          23,
          24,
          25,
          26,
          27,
          29,
          30,
          32,
          35,
          38,
          39,
          40,
          41,
          42,
          47,
          48,
          50,
          53,
          54,
          56,
          59,
          60,
          62
         ],
         "yaxis": "y"
        },
        {
         "hovertemplate": "total_ads=서울 도봉구<br>confirmed_date=%{x}<br>cnt_sum=%{y}<extra></extra>",
         "legendgroup": "서울 도봉구",
         "line": {
          "color": "#00cc96",
          "dash": "solid"
         },
         "mode": "lines",
         "name": "서울 도봉구",
         "orientation": "v",
         "showlegend": true,
         "type": "scatter",
         "x": [
          "2020-03-02",
          "2020-03-14",
          "2020-03-22",
          "2020-03-24",
          "2020-03-27",
          "2020-03-29",
          "2020-04-03",
          "2020-04-08",
          "2020-04-12",
          "2020-05-09",
          "2020-05-11",
          "2020-05-12",
          "2020-05-14",
          "2020-05-19",
          "2020-05-20",
          "2020-05-25",
          "2020-05-26",
          "2020-05-29",
          "2020-06-03",
          "2020-06-04",
          "2020-06-05",
          "2020-06-10",
          "2020-06-11",
          "2020-06-12",
          "2020-06-14",
          "2020-06-15",
          "2020-06-16",
          "2020-06-17",
          "2020-06-18",
          "2020-06-19",
          "2020-06-20",
          "2020-06-21",
          "2020-06-23",
          "2020-06-24"
         ],
         "xaxis": "x",
         "y": [
          1,
          2,
          3,
          4,
          5,
          6,
          7,
          8,
          9,
          10,
          11,
          12,
          14,
          15,
          16,
          17,
          18,
          19,
          20,
          21,
          22,
          23,
          24,
          36,
          37,
          38,
          40,
          51,
          53,
          55,
          57,
          58,
          61,
          62
         ],
         "yaxis": "y"
        },
        {
         "hovertemplate": "total_ads=서울 강북구<br>confirmed_date=%{x}<br>cnt_sum=%{y}<extra></extra>",
         "legendgroup": "서울 강북구",
         "line": {
          "color": "#ab63fa",
          "dash": "solid"
         },
         "mode": "lines",
         "name": "서울 강북구",
         "orientation": "v",
         "showlegend": true,
         "type": "scatter",
         "x": [
          "2020-03-04",
          "2020-03-05",
          "2020-03-06",
          "2020-03-12",
          "2020-05-10",
          "2020-05-11",
          "2020-05-13",
          "2020-05-19",
          "2020-05-23",
          "2020-05-24",
          "2020-05-27",
          "2020-05-28",
          "2020-06-02",
          "2020-06-03",
          "2020-06-05",
          "2020-06-06",
          "2020-06-07",
          "2020-06-12",
          "2020-06-13",
          "2020-06-18"
         ],
         "xaxis": "x",
         "y": [
          1,
          2,
          4,
          5,
          6,
          7,
          8,
          9,
          10,
          12,
          13,
          14,
          16,
          17,
          18,
          19,
          20,
          22,
          23,
          24
         ],
         "yaxis": "y"
        },
        {
         "hovertemplate": "total_ads=서울 용산구<br>confirmed_date=%{x}<br>cnt_sum=%{y}<extra></extra>",
         "legendgroup": "서울 용산구",
         "line": {
          "color": "#FFA15A",
          "dash": "solid"
         },
         "mode": "lines",
         "name": "서울 용산구",
         "orientation": "v",
         "showlegend": true,
         "type": "scatter",
         "x": [
          "2020-03-04",
          "2020-03-12",
          "2020-03-16",
          "2020-03-18",
          "2020-03-19",
          "2020-03-23",
          "2020-03-24",
          "2020-03-26",
          "2020-03-30",
          "2020-04-02",
          "2020-04-04",
          "2020-04-05",
          "2020-04-17",
          "2020-05-02",
          "2020-05-08",
          "2020-05-09",
          "2020-05-10",
          "2020-05-11",
          "2020-05-14",
          "2020-05-15",
          "2020-05-19",
          "2020-06-03",
          "2020-06-04",
          "2020-06-05",
          "2020-06-06",
          "2020-06-12",
          "2020-06-14",
          "2020-06-15",
          "2020-06-27",
          "2020-06-28"
         ],
         "xaxis": "x",
         "y": [
          1,
          2,
          3,
          4,
          5,
          6,
          7,
          8,
          12,
          14,
          15,
          17,
          18,
          19,
          23,
          27,
          30,
          31,
          33,
          34,
          38,
          39,
          40,
          42,
          44,
          45,
          46,
          48,
          49,
          50
         ],
         "yaxis": "y"
        },
        {
         "hovertemplate": "total_ads=서울 중구<br>confirmed_date=%{x}<br>cnt_sum=%{y}<extra></extra>",
         "legendgroup": "서울 중구",
         "line": {
          "color": "#19d3f3",
          "dash": "solid"
         },
         "mode": "lines",
         "name": "서울 중구",
         "orientation": "v",
         "showlegend": true,
         "type": "scatter",
         "x": [
          "2020-03-09",
          "2020-03-27",
          "2020-03-28",
          "2020-03-30",
          "2020-03-31",
          "2020-04-15",
          "2020-05-08",
          "2020-05-11",
          "2020-05-28",
          "2020-06-09",
          "2020-06-18",
          "2020-06-26"
         ],
         "xaxis": "x",
         "y": [
          1,
          2,
          3,
          4,
          5,
          6,
          7,
          8,
          9,
          10,
          11,
          12
         ],
         "yaxis": "y"
        }
       ],
       "layout": {
        "legend": {
         "title": {
          "text": "total_ads"
         },
         "tracegroupgap": 0
        },
        "margin": {
         "t": 60
        },
        "template": {
         "data": {
          "bar": [
           {
            "error_x": {
             "color": "#2a3f5f"
            },
            "error_y": {
             "color": "#2a3f5f"
            },
            "marker": {
             "line": {
              "color": "#E5ECF6",
              "width": 0.5
             }
            },
            "type": "bar"
           }
          ],
          "barpolar": [
           {
            "marker": {
             "line": {
              "color": "#E5ECF6",
              "width": 0.5
             }
            },
            "type": "barpolar"
           }
          ],
          "carpet": [
           {
            "aaxis": {
             "endlinecolor": "#2a3f5f",
             "gridcolor": "white",
             "linecolor": "white",
             "minorgridcolor": "white",
             "startlinecolor": "#2a3f5f"
            },
            "baxis": {
             "endlinecolor": "#2a3f5f",
             "gridcolor": "white",
             "linecolor": "white",
             "minorgridcolor": "white",
             "startlinecolor": "#2a3f5f"
            },
            "type": "carpet"
           }
          ],
          "choropleth": [
           {
            "colorbar": {
             "outlinewidth": 0,
             "ticks": ""
            },
            "type": "choropleth"
           }
          ],
          "contour": [
           {
            "colorbar": {
             "outlinewidth": 0,
             "ticks": ""
            },
            "colorscale": [
             [
              0,
              "#0d0887"
             ],
             [
              0.1111111111111111,
              "#46039f"
             ],
             [
              0.2222222222222222,
              "#7201a8"
             ],
             [
              0.3333333333333333,
              "#9c179e"
             ],
             [
              0.4444444444444444,
              "#bd3786"
             ],
             [
              0.5555555555555556,
              "#d8576b"
             ],
             [
              0.6666666666666666,
              "#ed7953"
             ],
             [
              0.7777777777777778,
              "#fb9f3a"
             ],
             [
              0.8888888888888888,
              "#fdca26"
             ],
             [
              1,
              "#f0f921"
             ]
            ],
            "type": "contour"
           }
          ],
          "contourcarpet": [
           {
            "colorbar": {
             "outlinewidth": 0,
             "ticks": ""
            },
            "type": "contourcarpet"
           }
          ],
          "heatmap": [
           {
            "colorbar": {
             "outlinewidth": 0,
             "ticks": ""
            },
            "colorscale": [
             [
              0,
              "#0d0887"
             ],
             [
              0.1111111111111111,
              "#46039f"
             ],
             [
              0.2222222222222222,
              "#7201a8"
             ],
             [
              0.3333333333333333,
              "#9c179e"
             ],
             [
              0.4444444444444444,
              "#bd3786"
             ],
             [
              0.5555555555555556,
              "#d8576b"
             ],
             [
              0.6666666666666666,
              "#ed7953"
             ],
             [
              0.7777777777777778,
              "#fb9f3a"
             ],
             [
              0.8888888888888888,
              "#fdca26"
             ],
             [
              1,
              "#f0f921"
             ]
            ],
            "type": "heatmap"
           }
          ],
          "heatmapgl": [
           {
            "colorbar": {
             "outlinewidth": 0,
             "ticks": ""
            },
            "colorscale": [
             [
              0,
              "#0d0887"
             ],
             [
              0.1111111111111111,
              "#46039f"
             ],
             [
              0.2222222222222222,
              "#7201a8"
             ],
             [
              0.3333333333333333,
              "#9c179e"
             ],
             [
              0.4444444444444444,
              "#bd3786"
             ],
             [
              0.5555555555555556,
              "#d8576b"
             ],
             [
              0.6666666666666666,
              "#ed7953"
             ],
             [
              0.7777777777777778,
              "#fb9f3a"
             ],
             [
              0.8888888888888888,
              "#fdca26"
             ],
             [
              1,
              "#f0f921"
             ]
            ],
            "type": "heatmapgl"
           }
          ],
          "histogram": [
           {
            "marker": {
             "colorbar": {
              "outlinewidth": 0,
              "ticks": ""
             }
            },
            "type": "histogram"
           }
          ],
          "histogram2d": [
           {
            "colorbar": {
             "outlinewidth": 0,
             "ticks": ""
            },
            "colorscale": [
             [
              0,
              "#0d0887"
             ],
             [
              0.1111111111111111,
              "#46039f"
             ],
             [
              0.2222222222222222,
              "#7201a8"
             ],
             [
              0.3333333333333333,
              "#9c179e"
             ],
             [
              0.4444444444444444,
              "#bd3786"
             ],
             [
              0.5555555555555556,
              "#d8576b"
             ],
             [
              0.6666666666666666,
              "#ed7953"
             ],
             [
              0.7777777777777778,
              "#fb9f3a"
             ],
             [
              0.8888888888888888,
              "#fdca26"
             ],
             [
              1,
              "#f0f921"
             ]
            ],
            "type": "histogram2d"
           }
          ],
          "histogram2dcontour": [
           {
            "colorbar": {
             "outlinewidth": 0,
             "ticks": ""
            },
            "colorscale": [
             [
              0,
              "#0d0887"
             ],
             [
              0.1111111111111111,
              "#46039f"
             ],
             [
              0.2222222222222222,
              "#7201a8"
             ],
             [
              0.3333333333333333,
              "#9c179e"
             ],
             [
              0.4444444444444444,
              "#bd3786"
             ],
             [
              0.5555555555555556,
              "#d8576b"
             ],
             [
              0.6666666666666666,
              "#ed7953"
             ],
             [
              0.7777777777777778,
              "#fb9f3a"
             ],
             [
              0.8888888888888888,
              "#fdca26"
             ],
             [
              1,
              "#f0f921"
             ]
            ],
            "type": "histogram2dcontour"
           }
          ],
          "mesh3d": [
           {
            "colorbar": {
             "outlinewidth": 0,
             "ticks": ""
            },
            "type": "mesh3d"
           }
          ],
          "parcoords": [
           {
            "line": {
             "colorbar": {
              "outlinewidth": 0,
              "ticks": ""
             }
            },
            "type": "parcoords"
           }
          ],
          "pie": [
           {
            "automargin": true,
            "type": "pie"
           }
          ],
          "scatter": [
           {
            "marker": {
             "colorbar": {
              "outlinewidth": 0,
              "ticks": ""
             }
            },
            "type": "scatter"
           }
          ],
          "scatter3d": [
           {
            "line": {
             "colorbar": {
              "outlinewidth": 0,
              "ticks": ""
             }
            },
            "marker": {
             "colorbar": {
              "outlinewidth": 0,
              "ticks": ""
             }
            },
            "type": "scatter3d"
           }
          ],
          "scattercarpet": [
           {
            "marker": {
             "colorbar": {
              "outlinewidth": 0,
              "ticks": ""
             }
            },
            "type": "scattercarpet"
           }
          ],
          "scattergeo": [
           {
            "marker": {
             "colorbar": {
              "outlinewidth": 0,
              "ticks": ""
             }
            },
            "type": "scattergeo"
           }
          ],
          "scattergl": [
           {
            "marker": {
             "colorbar": {
              "outlinewidth": 0,
              "ticks": ""
             }
            },
            "type": "scattergl"
           }
          ],
          "scattermapbox": [
           {
            "marker": {
             "colorbar": {
              "outlinewidth": 0,
              "ticks": ""
             }
            },
            "type": "scattermapbox"
           }
          ],
          "scatterpolar": [
           {
            "marker": {
             "colorbar": {
              "outlinewidth": 0,
              "ticks": ""
             }
            },
            "type": "scatterpolar"
           }
          ],
          "scatterpolargl": [
           {
            "marker": {
             "colorbar": {
              "outlinewidth": 0,
              "ticks": ""
             }
            },
            "type": "scatterpolargl"
           }
          ],
          "scatterternary": [
           {
            "marker": {
             "colorbar": {
              "outlinewidth": 0,
              "ticks": ""
             }
            },
            "type": "scatterternary"
           }
          ],
          "surface": [
           {
            "colorbar": {
             "outlinewidth": 0,
             "ticks": ""
            },
            "colorscale": [
             [
              0,
              "#0d0887"
             ],
             [
              0.1111111111111111,
              "#46039f"
             ],
             [
              0.2222222222222222,
              "#7201a8"
             ],
             [
              0.3333333333333333,
              "#9c179e"
             ],
             [
              0.4444444444444444,
              "#bd3786"
             ],
             [
              0.5555555555555556,
              "#d8576b"
             ],
             [
              0.6666666666666666,
              "#ed7953"
             ],
             [
              0.7777777777777778,
              "#fb9f3a"
             ],
             [
              0.8888888888888888,
              "#fdca26"
             ],
             [
              1,
              "#f0f921"
             ]
            ],
            "type": "surface"
           }
          ],
          "table": [
           {
            "cells": {
             "fill": {
              "color": "#EBF0F8"
             },
             "line": {
              "color": "white"
             }
            },
            "header": {
             "fill": {
              "color": "#C8D4E3"
             },
             "line": {
              "color": "white"
             }
            },
            "type": "table"
           }
          ]
         },
         "layout": {
          "annotationdefaults": {
           "arrowcolor": "#2a3f5f",
           "arrowhead": 0,
           "arrowwidth": 1
          },
          "coloraxis": {
           "colorbar": {
            "outlinewidth": 0,
            "ticks": ""
           }
          },
          "colorscale": {
           "diverging": [
            [
             0,
             "#8e0152"
            ],
            [
             0.1,
             "#c51b7d"
            ],
            [
             0.2,
             "#de77ae"
            ],
            [
             0.3,
             "#f1b6da"
            ],
            [
             0.4,
             "#fde0ef"
            ],
            [
             0.5,
             "#f7f7f7"
            ],
            [
             0.6,
             "#e6f5d0"
            ],
            [
             0.7,
             "#b8e186"
            ],
            [
             0.8,
             "#7fbc41"
            ],
            [
             0.9,
             "#4d9221"
            ],
            [
             1,
             "#276419"
            ]
           ],
           "sequential": [
            [
             0,
             "#0d0887"
            ],
            [
             0.1111111111111111,
             "#46039f"
            ],
            [
             0.2222222222222222,
             "#7201a8"
            ],
            [
             0.3333333333333333,
             "#9c179e"
            ],
            [
             0.4444444444444444,
             "#bd3786"
            ],
            [
             0.5555555555555556,
             "#d8576b"
            ],
            [
             0.6666666666666666,
             "#ed7953"
            ],
            [
             0.7777777777777778,
             "#fb9f3a"
            ],
            [
             0.8888888888888888,
             "#fdca26"
            ],
            [
             1,
             "#f0f921"
            ]
           ],
           "sequentialminus": [
            [
             0,
             "#0d0887"
            ],
            [
             0.1111111111111111,
             "#46039f"
            ],
            [
             0.2222222222222222,
             "#7201a8"
            ],
            [
             0.3333333333333333,
             "#9c179e"
            ],
            [
             0.4444444444444444,
             "#bd3786"
            ],
            [
             0.5555555555555556,
             "#d8576b"
            ],
            [
             0.6666666666666666,
             "#ed7953"
            ],
            [
             0.7777777777777778,
             "#fb9f3a"
            ],
            [
             0.8888888888888888,
             "#fdca26"
            ],
            [
             1,
             "#f0f921"
            ]
           ]
          },
          "colorway": [
           "#636efa",
           "#EF553B",
           "#00cc96",
           "#ab63fa",
           "#FFA15A",
           "#19d3f3",
           "#FF6692",
           "#B6E880",
           "#FF97FF",
           "#FECB52"
          ],
          "font": {
           "color": "#2a3f5f"
          },
          "geo": {
           "bgcolor": "white",
           "lakecolor": "white",
           "landcolor": "#E5ECF6",
           "showlakes": true,
           "showland": true,
           "subunitcolor": "white"
          },
          "hoverlabel": {
           "align": "left"
          },
          "hovermode": "closest",
          "mapbox": {
           "style": "light"
          },
          "paper_bgcolor": "white",
          "plot_bgcolor": "#E5ECF6",
          "polar": {
           "angularaxis": {
            "gridcolor": "white",
            "linecolor": "white",
            "ticks": ""
           },
           "bgcolor": "#E5ECF6",
           "radialaxis": {
            "gridcolor": "white",
            "linecolor": "white",
            "ticks": ""
           }
          },
          "scene": {
           "xaxis": {
            "backgroundcolor": "#E5ECF6",
            "gridcolor": "white",
            "gridwidth": 2,
            "linecolor": "white",
            "showbackground": true,
            "ticks": "",
            "zerolinecolor": "white"
           },
           "yaxis": {
            "backgroundcolor": "#E5ECF6",
            "gridcolor": "white",
            "gridwidth": 2,
            "linecolor": "white",
            "showbackground": true,
            "ticks": "",
            "zerolinecolor": "white"
           },
           "zaxis": {
            "backgroundcolor": "#E5ECF6",
            "gridcolor": "white",
            "gridwidth": 2,
            "linecolor": "white",
            "showbackground": true,
            "ticks": "",
            "zerolinecolor": "white"
           }
          },
          "shapedefaults": {
           "line": {
            "color": "#2a3f5f"
           }
          },
          "ternary": {
           "aaxis": {
            "gridcolor": "white",
            "linecolor": "white",
            "ticks": ""
           },
           "baxis": {
            "gridcolor": "white",
            "linecolor": "white",
            "ticks": ""
           },
           "bgcolor": "#E5ECF6",
           "caxis": {
            "gridcolor": "white",
            "linecolor": "white",
            "ticks": ""
           }
          },
          "title": {
           "x": 0.05
          },
          "xaxis": {
           "automargin": true,
           "gridcolor": "white",
           "linecolor": "white",
           "ticks": "",
           "title": {
            "standoff": 15
           },
           "zerolinecolor": "white",
           "zerolinewidth": 2
          },
          "yaxis": {
           "automargin": true,
           "gridcolor": "white",
           "linecolor": "white",
           "ticks": "",
           "title": {
            "standoff": 15
           },
           "zerolinecolor": "white",
           "zerolinewidth": 2
          }
         }
        },
        "title": {
         "text": "지역별 확진자 변화(서울 한정)",
         "x": 0.5,
         "xanchor": "center",
         "y": 1,
         "yanchor": "top"
        },
        "xaxis": {
         "anchor": "y",
         "domain": [
          0,
          1
         ],
         "title": {
          "text": "confirmed_date"
         }
        },
        "yaxis": {
         "anchor": "x",
         "domain": [
          0,
          1
         ],
         "title": {
          "text": "cnt_sum"
         }
        }
       }
      },
      "text/html": [
       "<div>\n",
       "        \n",
       "        \n",
       "            <div id=\"dd752f23-656e-45a9-99dc-3bea1d2a9cac\" class=\"plotly-graph-div\" style=\"height:525px; width:100%;\"></div>\n",
       "            <script type=\"text/javascript\">\n",
       "                require([\"plotly\"], function(Plotly) {\n",
       "                    window.PLOTLYENV=window.PLOTLYENV || {};\n",
       "                    \n",
       "                if (document.getElementById(\"dd752f23-656e-45a9-99dc-3bea1d2a9cac\")) {\n",
       "                    Plotly.newPlot(\n",
       "                        'dd752f23-656e-45a9-99dc-3bea1d2a9cac',\n",
       "                        [{\"hovertemplate\": \"total_ads=\\uc11c\\uc6b8 \\uac15\\uc11c\\uad6c<br>confirmed_date=%{x}<br>cnt_sum=%{y}<extra></extra>\", \"legendgroup\": \"\\uc11c\\uc6b8 \\uac15\\uc11c\\uad6c\", \"line\": {\"color\": \"#636efa\", \"dash\": \"solid\"}, \"mode\": \"lines\", \"name\": \"\\uc11c\\uc6b8 \\uac15\\uc11c\\uad6c\", \"orientation\": \"v\", \"showlegend\": true, \"type\": \"scatter\", \"x\": [\"2020-01-23\", \"2020-02-23\", \"2020-03-06\", \"2020-03-09\", \"2020-03-10\", \"2020-03-11\", \"2020-03-15\", \"2020-03-16\", \"2020-03-19\", \"2020-03-20\", \"2020-03-21\", \"2020-03-22\", \"2020-03-24\", \"2020-03-25\", \"2020-04-04\", \"2020-04-05\", \"2020-04-07\", \"2020-04-19\", \"2020-05-09\", \"2020-05-11\", \"2020-05-13\", \"2020-05-18\", \"2020-05-25\", \"2020-05-26\", \"2020-05-27\", \"2020-05-28\", \"2020-05-30\", \"2020-06-01\", \"2020-06-02\", \"2020-06-03\", \"2020-06-04\", \"2020-06-05\", \"2020-06-06\", \"2020-06-07\", \"2020-06-08\", \"2020-06-11\", \"2020-06-12\", \"2020-06-13\", \"2020-06-17\", \"2020-06-18\", \"2020-06-19\", \"2020-06-20\", \"2020-06-21\", \"2020-06-22\", \"2020-06-25\"], \"xaxis\": \"x\", \"y\": [1, 2, 3, 6, 10, 13, 14, 15, 16, 17, 18, 19, 21, 22, 23, 24, 25, 26, 28, 30, 31, 32, 33, 35, 39, 43, 45, 47, 50, 52, 54, 55, 57, 59, 62, 65, 67, 69, 71, 73, 74, 75, 76, 77, 78], \"yaxis\": \"y\"}, {\"hovertemplate\": \"total_ads=\\uc11c\\uc6b8 \\ub9c8\\ud3ec\\uad6c<br>confirmed_date=%{x}<br>cnt_sum=%{y}<extra></extra>\", \"legendgroup\": \"\\uc11c\\uc6b8 \\ub9c8\\ud3ec\\uad6c\", \"line\": {\"color\": \"#EF553B\", \"dash\": \"solid\"}, \"mode\": \"lines\", \"name\": \"\\uc11c\\uc6b8 \\ub9c8\\ud3ec\\uad6c\", \"orientation\": \"v\", \"showlegend\": true, \"type\": \"scatter\", \"x\": [\"2020-01-30\", \"2020-03-10\", \"2020-03-11\", \"2020-03-13\", \"2020-03-14\", \"2020-03-17\", \"2020-03-18\", \"2020-03-19\", \"2020-03-27\", \"2020-03-29\", \"2020-03-31\", \"2020-04-01\", \"2020-04-04\", \"2020-04-08\", \"2020-04-20\", \"2020-04-21\", \"2020-05-27\", \"2020-05-28\", \"2020-06-03\", \"2020-06-04\", \"2020-06-06\", \"2020-06-09\", \"2020-06-16\", \"2020-06-18\", \"2020-06-19\", \"2020-06-27\", \"2020-06-29\"], \"xaxis\": \"x\", \"y\": [1, 5, 6, 7, 8, 9, 10, 13, 14, 15, 17, 18, 19, 22, 23, 24, 25, 27, 28, 29, 30, 31, 32, 33, 34, 35, 38], \"yaxis\": \"y\"}, {\"hovertemplate\": \"total_ads=\\uc11c\\uc6b8 \\uc885\\ub85c\\uad6c<br>confirmed_date=%{x}<br>cnt_sum=%{y}<extra></extra>\", \"legendgroup\": \"\\uc11c\\uc6b8 \\uc885\\ub85c\\uad6c\", \"line\": {\"color\": \"#00cc96\", \"dash\": \"solid\"}, \"mode\": \"lines\", \"name\": \"\\uc11c\\uc6b8 \\uc885\\ub85c\\uad6c\", \"orientation\": \"v\", \"showlegend\": true, \"type\": \"scatter\", \"x\": [\"2020-01-30\", \"2020-01-31\", \"2020-02-16\", \"2020-02-19\", \"2020-02-20\", \"2020-02-23\", \"2020-02-26\", \"2020-03-23\", \"2020-03-24\", \"2020-03-31\", \"2020-04-02\", \"2020-05-08\", \"2020-05-17\", \"2020-05-29\", \"2020-06-12\", \"2020-06-13\", \"2020-06-24\"], \"xaxis\": \"x\", \"y\": [1, 3, 5, 6, 9, 10, 11, 12, 13, 15, 16, 17, 18, 19, 20, 21, 22], \"yaxis\": \"y\"}, {\"hovertemplate\": \"total_ads=\\uc11c\\uc6b8 \\uc911\\ub791\\uad6c<br>confirmed_date=%{x}<br>cnt_sum=%{y}<extra></extra>\", \"legendgroup\": \"\\uc11c\\uc6b8 \\uc911\\ub791\\uad6c\", \"line\": {\"color\": \"#ab63fa\", \"dash\": \"solid\"}, \"mode\": \"lines\", \"name\": \"\\uc11c\\uc6b8 \\uc911\\ub791\\uad6c\", \"orientation\": \"v\", \"showlegend\": true, \"type\": \"scatter\", \"x\": [\"2020-01-30\", \"2020-03-04\", \"2020-03-11\", \"2020-03-14\", \"2020-03-20\", \"2020-03-21\", \"2020-03-24\", \"2020-03-26\", \"2020-03-27\", \"2020-04-02\", \"2020-04-04\", \"2020-04-06\", \"2020-05-09\", \"2020-05-23\", \"2020-05-24\", \"2020-06-05\", \"2020-06-08\", \"2020-06-11\", \"2020-06-12\", \"2020-06-13\", \"2020-06-16\", \"2020-06-18\", \"2020-06-19\", \"2020-06-23\", \"2020-06-25\", \"2020-06-26\"], \"xaxis\": \"x\", \"y\": [1, 2, 4, 5, 6, 8, 10, 11, 13, 14, 15, 16, 17, 18, 19, 20, 21, 23, 26, 27, 28, 29, 30, 31, 32, 33], \"yaxis\": \"y\"}, {\"hovertemplate\": \"total_ads=\\uc11c\\uc6b8 \\uc131\\ubd81\\uad6c<br>confirmed_date=%{x}<br>cnt_sum=%{y}<extra></extra>\", \"legendgroup\": \"\\uc11c\\uc6b8 \\uc131\\ubd81\\uad6c\", \"line\": {\"color\": \"#FFA15A\", \"dash\": \"solid\"}, \"mode\": \"lines\", \"name\": \"\\uc11c\\uc6b8 \\uc131\\ubd81\\uad6c\", \"orientation\": \"v\", \"showlegend\": true, \"type\": \"scatter\", \"x\": [\"2020-01-31\", \"2020-02-05\", \"2020-03-01\", \"2020-03-02\", \"2020-03-06\", \"2020-03-11\", \"2020-03-12\", \"2020-03-18\", \"2020-03-20\", \"2020-03-22\", \"2020-03-26\", \"2020-03-27\", \"2020-04-04\", \"2020-04-05\", \"2020-04-07\", \"2020-04-09\", \"2020-04-13\", \"2020-04-17\", \"2020-04-27\", \"2020-05-08\", \"2020-05-09\", \"2020-05-10\", \"2020-05-18\", \"2020-05-29\", \"2020-06-10\", \"2020-06-12\", \"2020-06-18\", \"2020-06-21\"], \"xaxis\": \"x\", \"y\": [1, 2, 3, 5, 6, 8, 9, 11, 12, 13, 14, 15, 16, 18, 20, 21, 22, 23, 24, 25, 26, 27, 28, 29, 30, 31, 32, 33], \"yaxis\": \"y\"}, {\"hovertemplate\": \"total_ads=\\uc11c\\uc6b8 \\uae30\\ud0c0<br>confirmed_date=%{x}<br>cnt_sum=%{y}<extra></extra>\", \"legendgroup\": \"\\uc11c\\uc6b8 \\uae30\\ud0c0\", \"line\": {\"color\": \"#19d3f3\", \"dash\": \"solid\"}, \"mode\": \"lines\", \"name\": \"\\uc11c\\uc6b8 \\uae30\\ud0c0\", \"orientation\": \"v\", \"showlegend\": true, \"type\": \"scatter\", \"x\": [\"2020-02-02\", \"2020-02-07\", \"2020-02-20\", \"2020-02-25\", \"2020-02-26\", \"2020-02-27\", \"2020-03-06\", \"2020-03-07\", \"2020-03-08\", \"2020-03-09\", \"2020-03-17\", \"2020-03-24\", \"2020-03-25\", \"2020-03-27\", \"2020-03-28\", \"2020-03-29\", \"2020-03-30\", \"2020-03-31\", \"2020-04-01\", \"2020-04-02\", \"2020-04-04\", \"2020-04-05\", \"2020-04-06\", \"2020-04-21\", \"2020-04-24\", \"2020-05-08\", \"2020-05-11\", \"2020-05-20\", \"2020-05-22\", \"2020-05-23\", \"2020-05-26\", \"2020-05-27\", \"2020-05-28\", \"2020-06-02\", \"2020-06-03\", \"2020-06-04\", \"2020-06-06\", \"2020-06-07\", \"2020-06-08\", \"2020-06-09\", \"2020-06-10\", \"2020-06-14\", \"2020-06-17\", \"2020-06-18\", \"2020-06-19\", \"2020-06-20\", \"2020-06-24\", \"2020-06-25\", \"2020-06-28\", \"2020-06-29\"], \"xaxis\": \"x\", \"y\": [1, 2, 3, 5, 6, 9, 11, 12, 13, 17, 18, 19, 21, 22, 25, 26, 29, 31, 37, 38, 39, 40, 41, 42, 43, 45, 46, 47, 48, 49, 50, 53, 55, 57, 58, 59, 63, 65, 66, 67, 68, 69, 70, 71, 73, 75, 77, 78, 79, 80], \"yaxis\": \"y\"}, {\"hovertemplate\": \"total_ads=\\uc11c\\uc6b8 \\uc1a1\\ud30c\\uad6c<br>confirmed_date=%{x}<br>cnt_sum=%{y}<extra></extra>\", \"legendgroup\": \"\\uc11c\\uc6b8 \\uc1a1\\ud30c\\uad6c\", \"line\": {\"color\": \"#FF6692\", \"dash\": \"solid\"}, \"mode\": \"lines\", \"name\": \"\\uc11c\\uc6b8 \\uc1a1\\ud30c\\uad6c\", \"orientation\": \"v\", \"showlegend\": true, \"type\": \"scatter\", \"x\": [\"2020-02-05\", \"2020-02-22\", \"2020-02-24\", \"2020-02-25\", \"2020-02-26\", \"2020-02-27\", \"2020-02-29\", \"2020-03-01\", \"2020-03-10\", \"2020-03-11\", \"2020-03-12\", \"2020-03-17\", \"2020-03-19\", \"2020-03-23\", \"2020-03-26\", \"2020-03-27\", \"2020-03-28\", \"2020-03-29\", \"2020-03-30\", \"2020-03-31\", \"2020-04-01\", \"2020-04-03\", \"2020-04-04\", \"2020-04-05\", \"2020-04-12\", \"2020-05-09\", \"2020-05-10\", \"2020-05-12\", \"2020-05-13\", \"2020-05-14\", \"2020-05-16\", \"2020-05-18\", \"2020-05-27\", \"2020-05-28\", \"2020-05-29\", \"2020-06-01\", \"2020-06-05\", \"2020-06-10\", \"2020-06-16\", \"2020-06-21\", \"2020-06-27\", \"2020-06-28\"], \"xaxis\": \"x\", \"y\": [1, 2, 4, 5, 7, 10, 11, 12, 13, 14, 15, 16, 18, 19, 21, 22, 23, 24, 25, 27, 28, 32, 35, 36, 37, 38, 39, 40, 41, 42, 44, 45, 46, 47, 48, 49, 50, 51, 52, 53, 54, 55], \"yaxis\": \"y\"}, {\"hovertemplate\": \"total_ads=\\uc11c\\uc6b8 \\uc11c\\ub300\\ubb38\\uad6c<br>confirmed_date=%{x}<br>cnt_sum=%{y}<extra></extra>\", \"legendgroup\": \"\\uc11c\\uc6b8 \\uc11c\\ub300\\ubb38\\uad6c\", \"line\": {\"color\": \"#B6E880\", \"dash\": \"solid\"}, \"mode\": \"lines\", \"name\": \"\\uc11c\\uc6b8 \\uc11c\\ub300\\ubb38\\uad6c\", \"orientation\": \"v\", \"showlegend\": true, \"type\": \"scatter\", \"x\": [\"2020-02-06\", \"2020-02-21\", \"2020-02-28\", \"2020-03-11\", \"2020-03-16\", \"2020-03-21\", \"2020-03-22\", \"2020-03-27\", \"2020-03-29\", \"2020-04-01\", \"2020-04-03\", \"2020-04-04\", \"2020-04-15\", \"2020-04-30\", \"2020-05-09\", \"2020-05-11\", \"2020-05-15\", \"2020-05-27\", \"2020-05-28\", \"2020-05-29\", \"2020-05-30\", \"2020-06-01\", \"2020-06-02\", \"2020-06-08\", \"2020-06-14\", \"2020-06-15\", \"2020-06-18\", \"2020-06-19\"], \"xaxis\": \"x\", \"y\": [1, 2, 4, 6, 8, 10, 12, 13, 14, 15, 16, 18, 19, 20, 21, 22, 23, 24, 26, 27, 28, 29, 31, 32, 33, 34, 35, 36], \"yaxis\": \"y\"}, {\"hovertemplate\": \"total_ads=\\uc11c\\uc6b8 \\uc131\\ub3d9\\uad6c<br>confirmed_date=%{x}<br>cnt_sum=%{y}<extra></extra>\", \"legendgroup\": \"\\uc11c\\uc6b8 \\uc131\\ub3d9\\uad6c\", \"line\": {\"color\": \"#FF97FF\", \"dash\": \"solid\"}, \"mode\": \"lines\", \"name\": \"\\uc11c\\uc6b8 \\uc131\\ub3d9\\uad6c\", \"orientation\": \"v\", \"showlegend\": true, \"type\": \"scatter\", \"x\": [\"2020-02-19\", \"2020-02-20\", \"2020-02-28\", \"2020-03-19\", \"2020-03-20\", \"2020-03-21\", \"2020-04-02\", \"2020-04-06\", \"2020-04-07\", \"2020-04-08\", \"2020-04-09\", \"2020-04-12\", \"2020-04-13\", \"2020-04-14\", \"2020-05-01\", \"2020-05-10\", \"2020-05-12\", \"2020-05-24\", \"2020-05-25\", \"2020-05-26\", \"2020-05-27\", \"2020-05-28\", \"2020-05-29\", \"2020-06-02\", \"2020-06-05\", \"2020-06-06\", \"2020-06-07\", \"2020-06-09\", \"2020-06-20\"], \"xaxis\": \"x\", \"y\": [1, 2, 3, 4, 5, 6, 7, 8, 9, 10, 12, 16, 18, 19, 20, 21, 22, 23, 26, 34, 37, 39, 40, 41, 42, 44, 46, 47, 49], \"yaxis\": \"y\"}, {\"hovertemplate\": \"total_ads=\\uc11c\\uc6b8 \\uc11c\\ucd08\\uad6c<br>confirmed_date=%{x}<br>cnt_sum=%{y}<extra></extra>\", \"legendgroup\": \"\\uc11c\\uc6b8 \\uc11c\\ucd08\\uad6c\", \"line\": {\"color\": \"#FECB52\", \"dash\": \"solid\"}, \"mode\": \"lines\", \"name\": \"\\uc11c\\uc6b8 \\uc11c\\ucd08\\uad6c\", \"orientation\": \"v\", \"showlegend\": true, \"type\": \"scatter\", \"x\": [\"2020-02-21\", \"2020-02-22\", \"2020-02-23\", \"2020-02-27\", \"2020-03-02\", \"2020-03-07\", \"2020-03-12\", \"2020-03-13\", \"2020-03-20\", \"2020-03-21\", \"2020-03-24\", \"2020-03-25\", \"2020-03-26\", \"2020-03-28\", \"2020-03-29\", \"2020-03-30\", \"2020-03-31\", \"2020-04-01\", \"2020-04-02\", \"2020-04-03\", \"2020-04-07\", \"2020-04-08\", \"2020-04-14\", \"2020-05-09\", \"2020-05-11\", \"2020-05-19\", \"2020-05-22\", \"2020-06-01\", \"2020-06-08\", \"2020-06-10\", \"2020-06-11\", \"2020-06-13\", \"2020-06-14\", \"2020-06-16\", \"2020-06-17\", \"2020-06-18\", \"2020-06-19\", \"2020-06-20\", \"2020-06-26\", \"2020-06-28\"], \"xaxis\": \"x\", \"y\": [1, 2, 3, 4, 5, 6, 7, 9, 11, 12, 13, 16, 17, 20, 21, 23, 24, 26, 28, 30, 33, 35, 37, 38, 39, 40, 41, 43, 44, 45, 46, 47, 48, 49, 50, 51, 52, 53, 54, 55], \"yaxis\": \"y\"}, {\"hovertemplate\": \"total_ads=\\uc11c\\uc6b8 \\uac15\\ub3d9\\uad6c<br>confirmed_date=%{x}<br>cnt_sum=%{y}<extra></extra>\", \"legendgroup\": \"\\uc11c\\uc6b8 \\uac15\\ub3d9\\uad6c\", \"line\": {\"color\": \"#636efa\", \"dash\": \"solid\"}, \"mode\": \"lines\", \"name\": \"\\uc11c\\uc6b8 \\uac15\\ub3d9\\uad6c\", \"orientation\": \"v\", \"showlegend\": true, \"type\": \"scatter\", \"x\": [\"2020-02-22\", \"2020-02-23\", \"2020-02-25\", \"2020-02-27\", \"2020-03-09\", \"2020-03-20\", \"2020-03-23\", \"2020-03-26\", \"2020-03-30\", \"2020-04-02\", \"2020-04-03\", \"2020-04-05\", \"2020-05-05\", \"2020-05-08\", \"2020-05-10\", \"2020-05-13\", \"2020-05-14\", \"2020-05-19\", \"2020-05-22\", \"2020-05-23\", \"2020-05-25\", \"2020-05-27\", \"2020-06-01\", \"2020-06-02\", \"2020-06-04\", \"2020-06-05\", \"2020-06-07\", \"2020-06-11\", \"2020-06-12\", \"2020-06-22\"], \"xaxis\": \"x\", \"y\": [1, 2, 3, 4, 5, 7, 8, 9, 10, 11, 12, 13, 14, 15, 16, 17, 19, 20, 21, 22, 23, 24, 25, 26, 28, 30, 31, 32, 33, 35], \"yaxis\": \"y\"}, {\"hovertemplate\": \"total_ads=\\uc11c\\uc6b8 \\uad6c\\ub85c\\uad6c<br>confirmed_date=%{x}<br>cnt_sum=%{y}<extra></extra>\", \"legendgroup\": \"\\uc11c\\uc6b8 \\uad6c\\ub85c\\uad6c\", \"line\": {\"color\": \"#EF553B\", \"dash\": \"solid\"}, \"mode\": \"lines\", \"name\": \"\\uc11c\\uc6b8 \\uad6c\\ub85c\\uad6c\", \"orientation\": \"v\", \"showlegend\": true, \"type\": \"scatter\", \"x\": [\"2020-02-22\", \"2020-03-09\", \"2020-03-10\", \"2020-03-11\", \"2020-03-14\", \"2020-03-15\", \"2020-03-16\", \"2020-03-20\", \"2020-03-26\", \"2020-03-27\", \"2020-03-28\", \"2020-03-29\", \"2020-03-30\", \"2020-03-31\", \"2020-04-02\", \"2020-05-18\", \"2020-05-25\", \"2020-05-26\", \"2020-05-27\", \"2020-06-02\", \"2020-06-03\", \"2020-06-04\", \"2020-06-05\", \"2020-06-06\", \"2020-06-07\", \"2020-06-08\", \"2020-06-09\", \"2020-06-10\", \"2020-06-11\", \"2020-06-12\", \"2020-06-14\", \"2020-06-15\", \"2020-06-17\", \"2020-06-21\", \"2020-06-23\", \"2020-06-24\", \"2020-06-25\", \"2020-06-26\", \"2020-06-27\", \"2020-06-28\"], \"xaxis\": \"x\", \"y\": [1, 9, 14, 16, 18, 20, 22, 23, 25, 26, 29, 30, 32, 33, 34, 35, 36, 37, 40, 42, 43, 45, 49, 52, 55, 64, 65, 67, 68, 69, 70, 74, 75, 79, 80, 81, 82, 83, 84, 85], \"yaxis\": \"y\"}, {\"hovertemplate\": \"total_ads=\\uc11c\\uc6b8 \\uad00\\uc545\\uad6c<br>confirmed_date=%{x}<br>cnt_sum=%{y}<extra></extra>\", \"legendgroup\": \"\\uc11c\\uc6b8 \\uad00\\uc545\\uad6c\", \"line\": {\"color\": \"#00cc96\", \"dash\": \"solid\"}, \"mode\": \"lines\", \"name\": \"\\uc11c\\uc6b8 \\uad00\\uc545\\uad6c\", \"orientation\": \"v\", \"showlegend\": true, \"type\": \"scatter\", \"x\": [\"2020-02-25\", \"2020-02-27\", \"2020-02-29\", \"2020-03-07\", \"2020-03-10\", \"2020-03-12\", \"2020-03-13\", \"2020-03-16\", \"2020-03-19\", \"2020-03-20\", \"2020-03-27\", \"2020-03-28\", \"2020-03-29\", \"2020-03-30\", \"2020-03-31\", \"2020-04-02\", \"2020-04-04\", \"2020-04-05\", \"2020-04-06\", \"2020-04-11\", \"2020-04-27\", \"2020-05-08\", \"2020-05-09\", \"2020-05-10\", \"2020-05-11\", \"2020-05-12\", \"2020-05-15\", \"2020-05-21\", \"2020-05-23\", \"2020-05-24\", \"2020-05-26\", \"2020-05-27\", \"2020-06-01\", \"2020-06-03\", \"2020-06-05\", \"2020-06-06\", \"2020-06-08\", \"2020-06-09\", \"2020-06-10\", \"2020-06-11\", \"2020-06-12\", \"2020-06-13\", \"2020-06-16\", \"2020-06-17\", \"2020-06-18\", \"2020-06-20\", \"2020-06-23\", \"2020-06-24\", \"2020-06-25\", \"2020-06-26\", \"2020-06-27\", \"2020-06-28\"], \"xaxis\": \"x\", \"y\": [1, 2, 4, 5, 13, 14, 15, 17, 18, 19, 20, 21, 24, 28, 34, 37, 39, 40, 41, 42, 43, 46, 47, 50, 51, 52, 53, 54, 55, 56, 58, 59, 60, 61, 64, 65, 66, 68, 69, 74, 75, 77, 79, 81, 82, 83, 87, 89, 100, 107, 112, 113], \"yaxis\": \"y\"}, {\"hovertemplate\": \"total_ads=\\uc11c\\uc6b8 \\uae08\\ucc9c\\uad6c<br>confirmed_date=%{x}<br>cnt_sum=%{y}<extra></extra>\", \"legendgroup\": \"\\uc11c\\uc6b8 \\uae08\\ucc9c\\uad6c\", \"line\": {\"color\": \"#ab63fa\", \"dash\": \"solid\"}, \"mode\": \"lines\", \"name\": \"\\uc11c\\uc6b8 \\uae08\\ucc9c\\uad6c\", \"orientation\": \"v\", \"showlegend\": true, \"type\": \"scatter\", \"x\": [\"2020-02-25\", \"2020-03-09\", \"2020-03-10\", \"2020-03-12\", \"2020-03-25\", \"2020-03-26\", \"2020-03-27\", \"2020-03-28\", \"2020-03-29\", \"2020-05-14\", \"2020-05-26\", \"2020-05-28\", \"2020-06-02\", \"2020-06-03\", \"2020-06-09\", \"2020-06-10\", \"2020-06-11\", \"2020-06-12\", \"2020-06-13\", \"2020-06-15\", \"2020-06-24\", \"2020-06-29\"], \"xaxis\": \"x\", \"y\": [1, 2, 3, 5, 6, 7, 8, 9, 13, 14, 15, 16, 17, 19, 20, 24, 27, 28, 29, 30, 31, 32], \"yaxis\": \"y\"}, {\"hovertemplate\": \"total_ads=\\uc11c\\uc6b8 \\ub178\\uc6d0\\uad6c<br>confirmed_date=%{x}<br>cnt_sum=%{y}<extra></extra>\", \"legendgroup\": \"\\uc11c\\uc6b8 \\ub178\\uc6d0\\uad6c\", \"line\": {\"color\": \"#FFA15A\", \"dash\": \"solid\"}, \"mode\": \"lines\", \"name\": \"\\uc11c\\uc6b8 \\ub178\\uc6d0\\uad6c\", \"orientation\": \"v\", \"showlegend\": true, \"type\": \"scatter\", \"x\": [\"2020-02-25\", \"2020-02-26\", \"2020-02-27\", \"2020-02-28\", \"2020-02-29\", \"2020-03-08\", \"2020-03-09\", \"2020-03-10\", \"2020-03-12\", \"2020-03-13\", \"2020-03-15\", \"2020-03-18\", \"2020-03-19\", \"2020-03-20\", \"2020-04-02\", \"2020-04-03\", \"2020-04-06\", \"2020-05-12\", \"2020-05-13\", \"2020-05-16\", \"2020-05-21\", \"2020-05-23\", \"2020-05-25\", \"2020-05-26\", \"2020-06-04\", \"2020-06-05\", \"2020-06-10\", \"2020-06-11\", \"2020-06-12\", \"2020-06-20\", \"2020-06-25\", \"2020-06-26\", \"2020-06-28\", \"2020-06-29\"], \"xaxis\": \"x\", \"y\": [1, 3, 5, 7, 8, 9, 10, 12, 13, 14, 15, 16, 18, 20, 21, 22, 23, 24, 25, 27, 28, 29, 30, 31, 32, 34, 35, 36, 37, 39, 40, 41, 42, 43], \"yaxis\": \"y\"}, {\"hovertemplate\": \"total_ads=\\uc11c\\uc6b8 \\uc740\\ud3c9\\uad6c<br>confirmed_date=%{x}<br>cnt_sum=%{y}<extra></extra>\", \"legendgroup\": \"\\uc11c\\uc6b8 \\uc740\\ud3c9\\uad6c\", \"line\": {\"color\": \"#19d3f3\", \"dash\": \"solid\"}, \"mode\": \"lines\", \"name\": \"\\uc11c\\uc6b8 \\uc740\\ud3c9\\uad6c\", \"orientation\": \"v\", \"showlegend\": true, \"type\": \"scatter\", \"x\": [\"2020-02-25\", \"2020-02-26\", \"2020-02-27\", \"2020-02-28\", \"2020-03-07\", \"2020-03-09\", \"2020-03-10\", \"2020-03-11\", \"2020-03-15\", \"2020-03-16\", \"2020-03-20\", \"2020-03-22\", \"2020-03-24\", \"2020-04-02\", \"2020-04-03\", \"2020-04-04\", \"2020-04-11\", \"2020-04-12\", \"2020-05-15\", \"2020-05-26\", \"2020-05-27\", \"2020-05-29\", \"2020-06-05\", \"2020-06-06\", \"2020-06-10\", \"2020-06-11\", \"2020-06-13\", \"2020-06-14\", \"2020-06-15\", \"2020-06-16\", \"2020-06-17\", \"2020-06-18\", \"2020-06-19\", \"2020-06-26\", \"2020-06-29\"], \"xaxis\": \"x\", \"y\": [1, 3, 5, 7, 8, 12, 14, 16, 17, 18, 19, 20, 21, 23, 24, 26, 27, 28, 30, 32, 34, 35, 37, 39, 40, 41, 42, 43, 44, 47, 49, 50, 51, 52, 53], \"yaxis\": \"y\"}, {\"hovertemplate\": \"total_ads=\\uc11c\\uc6b8 \\uac15\\ub0a8\\uad6c<br>confirmed_date=%{x}<br>cnt_sum=%{y}<extra></extra>\", \"legendgroup\": \"\\uc11c\\uc6b8 \\uac15\\ub0a8\\uad6c\", \"line\": {\"color\": \"#FF6692\", \"dash\": \"solid\"}, \"mode\": \"lines\", \"name\": \"\\uc11c\\uc6b8 \\uac15\\ub0a8\\uad6c\", \"orientation\": \"v\", \"showlegend\": true, \"type\": \"scatter\", \"x\": [\"2020-02-26\", \"2020-02-27\", \"2020-02-29\", \"2020-03-01\", \"2020-03-02\", \"2020-03-05\", \"2020-03-07\", \"2020-03-08\", \"2020-03-12\", \"2020-03-14\", \"2020-03-18\", \"2020-03-19\", \"2020-03-23\", \"2020-03-24\", \"2020-03-25\", \"2020-03-26\", \"2020-03-27\", \"2020-03-28\", \"2020-03-29\", \"2020-03-31\", \"2020-04-02\", \"2020-04-03\", \"2020-04-04\", \"2020-04-06\", \"2020-04-07\", \"2020-04-08\", \"2020-04-09\", \"2020-04-10\", \"2020-04-16\", \"2020-04-17\", \"2020-04-18\", \"2020-04-27\", \"2020-05-09\", \"2020-05-10\", \"2020-05-14\", \"2020-05-15\", \"2020-05-19\", \"2020-05-29\", \"2020-05-31\", \"2020-06-02\", \"2020-06-03\", \"2020-06-16\", \"2020-06-17\", \"2020-06-22\", \"2020-06-24\", \"2020-06-27\"], \"xaxis\": \"x\", \"y\": [1, 3, 7, 8, 9, 10, 11, 12, 13, 14, 16, 17, 18, 19, 23, 27, 29, 34, 38, 41, 43, 48, 50, 53, 54, 56, 57, 59, 60, 61, 62, 64, 65, 69, 70, 71, 72, 74, 75, 76, 78, 79, 80, 81, 82, 83], \"yaxis\": \"y\"}, {\"hovertemplate\": \"total_ads=\\uc11c\\uc6b8 \\ub3d9\\uad6c \\uad6c<br>confirmed_date=%{x}<br>cnt_sum=%{y}<extra></extra>\", \"legendgroup\": \"\\uc11c\\uc6b8 \\ub3d9\\uad6c \\uad6c\", \"line\": {\"color\": \"#B6E880\", \"dash\": \"solid\"}, \"mode\": \"lines\", \"name\": \"\\uc11c\\uc6b8 \\ub3d9\\uad6c \\uad6c\", \"orientation\": \"v\", \"showlegend\": true, \"type\": \"scatter\", \"x\": [\"2020-02-26\", \"2020-03-09\", \"2020-03-10\", \"2020-03-13\", \"2020-03-16\", \"2020-03-18\", \"2020-03-19\", \"2020-03-20\", \"2020-03-24\", \"2020-03-25\", \"2020-03-28\", \"2020-03-29\", \"2020-03-30\", \"2020-03-31\", \"2020-04-01\", \"2020-04-03\", \"2020-04-08\", \"2020-04-12\", \"2020-04-14\", \"2020-05-08\", \"2020-05-09\", \"2020-05-10\", \"2020-05-11\", \"2020-05-12\", \"2020-05-20\", \"2020-05-27\", \"2020-05-28\", \"2020-06-06\", \"2020-06-09\", \"2020-06-10\", \"2020-06-15\", \"2020-06-16\", \"2020-06-19\", \"2020-06-20\", \"2020-06-25\", \"2020-06-26\"], \"xaxis\": \"x\", \"y\": [1, 2, 5, 6, 7, 9, 11, 13, 14, 16, 19, 21, 23, 24, 25, 28, 29, 30, 31, 32, 33, 35, 36, 37, 38, 39, 40, 41, 44, 45, 46, 48, 49, 50, 51, 53], \"yaxis\": \"y\"}, {\"hovertemplate\": \"total_ads=\\uc11c\\uc6b8 \\uad11\\uc9c4\\uad6c<br>confirmed_date=%{x}<br>cnt_sum=%{y}<extra></extra>\", \"legendgroup\": \"\\uc11c\\uc6b8 \\uad11\\uc9c4\\uad6c\", \"line\": {\"color\": \"#FF97FF\", \"dash\": \"solid\"}, \"mode\": \"lines\", \"name\": \"\\uc11c\\uc6b8 \\uad11\\uc9c4\\uad6c\", \"orientation\": \"v\", \"showlegend\": true, \"type\": \"scatter\", \"x\": [\"2020-02-27\", \"2020-03-01\", \"2020-03-18\", \"2020-03-20\", \"2020-03-29\", \"2020-03-31\", \"2020-04-01\", \"2020-04-09\", \"2020-05-09\", \"2020-05-10\", \"2020-05-14\", \"2020-05-21\", \"2020-05-27\", \"2020-06-10\", \"2020-06-18\", \"2020-06-26\"], \"xaxis\": \"x\", \"y\": [1, 2, 3, 4, 5, 6, 7, 8, 10, 11, 12, 13, 14, 15, 16, 17], \"yaxis\": \"y\"}, {\"hovertemplate\": \"total_ads=\\uc11c\\uc6b8 \\ub3d9\\ub300\\ubb38\\uad6c<br>confirmed_date=%{x}<br>cnt_sum=%{y}<extra></extra>\", \"legendgroup\": \"\\uc11c\\uc6b8 \\ub3d9\\ub300\\ubb38\\uad6c\", \"line\": {\"color\": \"#FECB52\", \"dash\": \"solid\"}, \"mode\": \"lines\", \"name\": \"\\uc11c\\uc6b8 \\ub3d9\\ub300\\ubb38\\uad6c\", \"orientation\": \"v\", \"showlegend\": true, \"type\": \"scatter\", \"x\": [\"2020-02-27\", \"2020-03-01\", \"2020-03-04\", \"2020-03-08\", \"2020-03-10\", \"2020-03-11\", \"2020-03-12\", \"2020-03-13\", \"2020-03-16\", \"2020-03-17\", \"2020-03-24\", \"2020-04-01\", \"2020-04-03\", \"2020-04-04\", \"2020-04-07\", \"2020-05-10\", \"2020-05-12\", \"2020-05-14\", \"2020-06-05\", \"2020-06-19\", \"2020-06-26\", \"2020-06-27\"], \"xaxis\": \"x\", \"y\": [1, 2, 4, 11, 15, 18, 19, 22, 24, 25, 26, 27, 28, 30, 31, 32, 33, 34, 35, 36, 37, 38], \"yaxis\": \"y\"}, {\"hovertemplate\": \"total_ads=\\uc11c\\uc6b8 \\uc591\\ucc9c\\uad6c<br>confirmed_date=%{x}<br>cnt_sum=%{y}<extra></extra>\", \"legendgroup\": \"\\uc11c\\uc6b8 \\uc591\\ucc9c\\uad6c\", \"line\": {\"color\": \"#636efa\", \"dash\": \"solid\"}, \"mode\": \"lines\", \"name\": \"\\uc11c\\uc6b8 \\uc591\\ucc9c\\uad6c\", \"orientation\": \"v\", \"showlegend\": true, \"type\": \"scatter\", \"x\": [\"2020-02-27\", \"2020-03-01\", \"2020-03-06\", \"2020-03-07\", \"2020-03-09\", \"2020-03-10\", \"2020-03-18\", \"2020-03-19\", \"2020-03-28\", \"2020-03-31\", \"2020-04-01\", \"2020-04-02\", \"2020-04-10\", \"2020-05-10\", \"2020-05-11\", \"2020-05-18\", \"2020-05-20\", \"2020-05-27\", \"2020-06-01\", \"2020-06-02\", \"2020-06-04\", \"2020-06-05\", \"2020-06-06\", \"2020-06-07\", \"2020-06-08\", \"2020-06-09\", \"2020-06-10\", \"2020-06-11\", \"2020-06-12\", \"2020-06-18\", \"2020-06-19\", \"2020-06-27\"], \"xaxis\": \"x\", \"y\": [1, 2, 3, 5, 7, 14, 15, 16, 17, 18, 20, 21, 22, 23, 24, 26, 27, 28, 31, 36, 40, 44, 52, 57, 58, 60, 63, 64, 66, 68, 70, 71], \"yaxis\": \"y\"}, {\"hovertemplate\": \"total_ads=\\uc11c\\uc6b8 \\uc601\\ub4f1\\ud3ec\\uad6c<br>confirmed_date=%{x}<br>cnt_sum=%{y}<extra></extra>\", \"legendgroup\": \"\\uc11c\\uc6b8 \\uc601\\ub4f1\\ud3ec\\uad6c\", \"line\": {\"color\": \"#EF553B\", \"dash\": \"solid\"}, \"mode\": \"lines\", \"name\": \"\\uc11c\\uc6b8 \\uc601\\ub4f1\\ud3ec\\uad6c\", \"orientation\": \"v\", \"showlegend\": true, \"type\": \"scatter\", \"x\": [\"2020-02-29\", \"2020-03-01\", \"2020-03-02\", \"2020-03-10\", \"2020-03-14\", \"2020-03-15\", \"2020-03-16\", \"2020-03-19\", \"2020-03-20\", \"2020-03-21\", \"2020-03-23\", \"2020-03-27\", \"2020-03-31\", \"2020-04-05\", \"2020-04-07\", \"2020-04-08\", \"2020-05-12\", \"2020-05-14\", \"2020-05-18\", \"2020-05-24\", \"2020-05-27\", \"2020-05-28\", \"2020-05-30\", \"2020-06-01\", \"2020-06-03\", \"2020-06-05\", \"2020-06-06\", \"2020-06-09\", \"2020-06-11\", \"2020-06-12\", \"2020-06-13\", \"2020-06-17\", \"2020-06-18\", \"2020-06-19\", \"2020-06-20\", \"2020-06-23\", \"2020-06-27\"], \"xaxis\": \"x\", \"y\": [2, 3, 4, 9, 11, 12, 13, 15, 16, 17, 18, 19, 20, 22, 23, 24, 25, 26, 27, 29, 30, 32, 35, 38, 39, 40, 41, 42, 47, 48, 50, 53, 54, 56, 59, 60, 62], \"yaxis\": \"y\"}, {\"hovertemplate\": \"total_ads=\\uc11c\\uc6b8 \\ub3c4\\ubd09\\uad6c<br>confirmed_date=%{x}<br>cnt_sum=%{y}<extra></extra>\", \"legendgroup\": \"\\uc11c\\uc6b8 \\ub3c4\\ubd09\\uad6c\", \"line\": {\"color\": \"#00cc96\", \"dash\": \"solid\"}, \"mode\": \"lines\", \"name\": \"\\uc11c\\uc6b8 \\ub3c4\\ubd09\\uad6c\", \"orientation\": \"v\", \"showlegend\": true, \"type\": \"scatter\", \"x\": [\"2020-03-02\", \"2020-03-14\", \"2020-03-22\", \"2020-03-24\", \"2020-03-27\", \"2020-03-29\", \"2020-04-03\", \"2020-04-08\", \"2020-04-12\", \"2020-05-09\", \"2020-05-11\", \"2020-05-12\", \"2020-05-14\", \"2020-05-19\", \"2020-05-20\", \"2020-05-25\", \"2020-05-26\", \"2020-05-29\", \"2020-06-03\", \"2020-06-04\", \"2020-06-05\", \"2020-06-10\", \"2020-06-11\", \"2020-06-12\", \"2020-06-14\", \"2020-06-15\", \"2020-06-16\", \"2020-06-17\", \"2020-06-18\", \"2020-06-19\", \"2020-06-20\", \"2020-06-21\", \"2020-06-23\", \"2020-06-24\"], \"xaxis\": \"x\", \"y\": [1, 2, 3, 4, 5, 6, 7, 8, 9, 10, 11, 12, 14, 15, 16, 17, 18, 19, 20, 21, 22, 23, 24, 36, 37, 38, 40, 51, 53, 55, 57, 58, 61, 62], \"yaxis\": \"y\"}, {\"hovertemplate\": \"total_ads=\\uc11c\\uc6b8 \\uac15\\ubd81\\uad6c<br>confirmed_date=%{x}<br>cnt_sum=%{y}<extra></extra>\", \"legendgroup\": \"\\uc11c\\uc6b8 \\uac15\\ubd81\\uad6c\", \"line\": {\"color\": \"#ab63fa\", \"dash\": \"solid\"}, \"mode\": \"lines\", \"name\": \"\\uc11c\\uc6b8 \\uac15\\ubd81\\uad6c\", \"orientation\": \"v\", \"showlegend\": true, \"type\": \"scatter\", \"x\": [\"2020-03-04\", \"2020-03-05\", \"2020-03-06\", \"2020-03-12\", \"2020-05-10\", \"2020-05-11\", \"2020-05-13\", \"2020-05-19\", \"2020-05-23\", \"2020-05-24\", \"2020-05-27\", \"2020-05-28\", \"2020-06-02\", \"2020-06-03\", \"2020-06-05\", \"2020-06-06\", \"2020-06-07\", \"2020-06-12\", \"2020-06-13\", \"2020-06-18\"], \"xaxis\": \"x\", \"y\": [1, 2, 4, 5, 6, 7, 8, 9, 10, 12, 13, 14, 16, 17, 18, 19, 20, 22, 23, 24], \"yaxis\": \"y\"}, {\"hovertemplate\": \"total_ads=\\uc11c\\uc6b8 \\uc6a9\\uc0b0\\uad6c<br>confirmed_date=%{x}<br>cnt_sum=%{y}<extra></extra>\", \"legendgroup\": \"\\uc11c\\uc6b8 \\uc6a9\\uc0b0\\uad6c\", \"line\": {\"color\": \"#FFA15A\", \"dash\": \"solid\"}, \"mode\": \"lines\", \"name\": \"\\uc11c\\uc6b8 \\uc6a9\\uc0b0\\uad6c\", \"orientation\": \"v\", \"showlegend\": true, \"type\": \"scatter\", \"x\": [\"2020-03-04\", \"2020-03-12\", \"2020-03-16\", \"2020-03-18\", \"2020-03-19\", \"2020-03-23\", \"2020-03-24\", \"2020-03-26\", \"2020-03-30\", \"2020-04-02\", \"2020-04-04\", \"2020-04-05\", \"2020-04-17\", \"2020-05-02\", \"2020-05-08\", \"2020-05-09\", \"2020-05-10\", \"2020-05-11\", \"2020-05-14\", \"2020-05-15\", \"2020-05-19\", \"2020-06-03\", \"2020-06-04\", \"2020-06-05\", \"2020-06-06\", \"2020-06-12\", \"2020-06-14\", \"2020-06-15\", \"2020-06-27\", \"2020-06-28\"], \"xaxis\": \"x\", \"y\": [1, 2, 3, 4, 5, 6, 7, 8, 12, 14, 15, 17, 18, 19, 23, 27, 30, 31, 33, 34, 38, 39, 40, 42, 44, 45, 46, 48, 49, 50], \"yaxis\": \"y\"}, {\"hovertemplate\": \"total_ads=\\uc11c\\uc6b8 \\uc911\\uad6c<br>confirmed_date=%{x}<br>cnt_sum=%{y}<extra></extra>\", \"legendgroup\": \"\\uc11c\\uc6b8 \\uc911\\uad6c\", \"line\": {\"color\": \"#19d3f3\", \"dash\": \"solid\"}, \"mode\": \"lines\", \"name\": \"\\uc11c\\uc6b8 \\uc911\\uad6c\", \"orientation\": \"v\", \"showlegend\": true, \"type\": \"scatter\", \"x\": [\"2020-03-09\", \"2020-03-27\", \"2020-03-28\", \"2020-03-30\", \"2020-03-31\", \"2020-04-15\", \"2020-05-08\", \"2020-05-11\", \"2020-05-28\", \"2020-06-09\", \"2020-06-18\", \"2020-06-26\"], \"xaxis\": \"x\", \"y\": [1, 2, 3, 4, 5, 6, 7, 8, 9, 10, 11, 12], \"yaxis\": \"y\"}],\n",
       "                        {\"legend\": {\"title\": {\"text\": \"total_ads\"}, \"tracegroupgap\": 0}, \"margin\": {\"t\": 60}, \"template\": {\"data\": {\"bar\": [{\"error_x\": {\"color\": \"#2a3f5f\"}, \"error_y\": {\"color\": \"#2a3f5f\"}, \"marker\": {\"line\": {\"color\": \"#E5ECF6\", \"width\": 0.5}}, \"type\": \"bar\"}], \"barpolar\": [{\"marker\": {\"line\": {\"color\": \"#E5ECF6\", \"width\": 0.5}}, \"type\": \"barpolar\"}], \"carpet\": [{\"aaxis\": {\"endlinecolor\": \"#2a3f5f\", \"gridcolor\": \"white\", \"linecolor\": \"white\", \"minorgridcolor\": \"white\", \"startlinecolor\": \"#2a3f5f\"}, \"baxis\": {\"endlinecolor\": \"#2a3f5f\", \"gridcolor\": \"white\", \"linecolor\": \"white\", \"minorgridcolor\": \"white\", \"startlinecolor\": \"#2a3f5f\"}, \"type\": \"carpet\"}], \"choropleth\": [{\"colorbar\": {\"outlinewidth\": 0, \"ticks\": \"\"}, \"type\": \"choropleth\"}], \"contour\": [{\"colorbar\": {\"outlinewidth\": 0, \"ticks\": \"\"}, \"colorscale\": [[0.0, \"#0d0887\"], [0.1111111111111111, \"#46039f\"], [0.2222222222222222, \"#7201a8\"], [0.3333333333333333, \"#9c179e\"], [0.4444444444444444, \"#bd3786\"], [0.5555555555555556, \"#d8576b\"], [0.6666666666666666, \"#ed7953\"], [0.7777777777777778, \"#fb9f3a\"], [0.8888888888888888, \"#fdca26\"], [1.0, \"#f0f921\"]], \"type\": \"contour\"}], \"contourcarpet\": [{\"colorbar\": {\"outlinewidth\": 0, \"ticks\": \"\"}, \"type\": \"contourcarpet\"}], \"heatmap\": [{\"colorbar\": {\"outlinewidth\": 0, \"ticks\": \"\"}, \"colorscale\": [[0.0, \"#0d0887\"], [0.1111111111111111, \"#46039f\"], [0.2222222222222222, \"#7201a8\"], [0.3333333333333333, \"#9c179e\"], [0.4444444444444444, \"#bd3786\"], [0.5555555555555556, \"#d8576b\"], [0.6666666666666666, \"#ed7953\"], [0.7777777777777778, \"#fb9f3a\"], [0.8888888888888888, \"#fdca26\"], [1.0, \"#f0f921\"]], \"type\": \"heatmap\"}], \"heatmapgl\": [{\"colorbar\": {\"outlinewidth\": 0, \"ticks\": \"\"}, \"colorscale\": [[0.0, \"#0d0887\"], [0.1111111111111111, \"#46039f\"], [0.2222222222222222, \"#7201a8\"], [0.3333333333333333, \"#9c179e\"], [0.4444444444444444, \"#bd3786\"], [0.5555555555555556, \"#d8576b\"], [0.6666666666666666, \"#ed7953\"], [0.7777777777777778, \"#fb9f3a\"], [0.8888888888888888, \"#fdca26\"], [1.0, \"#f0f921\"]], \"type\": \"heatmapgl\"}], \"histogram\": [{\"marker\": {\"colorbar\": {\"outlinewidth\": 0, \"ticks\": \"\"}}, \"type\": \"histogram\"}], \"histogram2d\": [{\"colorbar\": {\"outlinewidth\": 0, \"ticks\": \"\"}, \"colorscale\": [[0.0, \"#0d0887\"], [0.1111111111111111, \"#46039f\"], [0.2222222222222222, \"#7201a8\"], [0.3333333333333333, \"#9c179e\"], [0.4444444444444444, \"#bd3786\"], [0.5555555555555556, \"#d8576b\"], [0.6666666666666666, \"#ed7953\"], [0.7777777777777778, \"#fb9f3a\"], [0.8888888888888888, \"#fdca26\"], [1.0, \"#f0f921\"]], \"type\": \"histogram2d\"}], \"histogram2dcontour\": [{\"colorbar\": {\"outlinewidth\": 0, \"ticks\": \"\"}, \"colorscale\": [[0.0, \"#0d0887\"], [0.1111111111111111, \"#46039f\"], [0.2222222222222222, \"#7201a8\"], [0.3333333333333333, \"#9c179e\"], [0.4444444444444444, \"#bd3786\"], [0.5555555555555556, \"#d8576b\"], [0.6666666666666666, \"#ed7953\"], [0.7777777777777778, \"#fb9f3a\"], [0.8888888888888888, \"#fdca26\"], [1.0, \"#f0f921\"]], \"type\": \"histogram2dcontour\"}], \"mesh3d\": [{\"colorbar\": {\"outlinewidth\": 0, \"ticks\": \"\"}, \"type\": \"mesh3d\"}], \"parcoords\": [{\"line\": {\"colorbar\": {\"outlinewidth\": 0, \"ticks\": \"\"}}, \"type\": \"parcoords\"}], \"pie\": [{\"automargin\": true, \"type\": \"pie\"}], \"scatter\": [{\"marker\": {\"colorbar\": {\"outlinewidth\": 0, \"ticks\": \"\"}}, \"type\": \"scatter\"}], \"scatter3d\": [{\"line\": {\"colorbar\": {\"outlinewidth\": 0, \"ticks\": \"\"}}, \"marker\": {\"colorbar\": {\"outlinewidth\": 0, \"ticks\": \"\"}}, \"type\": \"scatter3d\"}], \"scattercarpet\": [{\"marker\": {\"colorbar\": {\"outlinewidth\": 0, \"ticks\": \"\"}}, \"type\": \"scattercarpet\"}], \"scattergeo\": [{\"marker\": {\"colorbar\": {\"outlinewidth\": 0, \"ticks\": \"\"}}, \"type\": \"scattergeo\"}], \"scattergl\": [{\"marker\": {\"colorbar\": {\"outlinewidth\": 0, \"ticks\": \"\"}}, \"type\": \"scattergl\"}], \"scattermapbox\": [{\"marker\": {\"colorbar\": {\"outlinewidth\": 0, \"ticks\": \"\"}}, \"type\": \"scattermapbox\"}], \"scatterpolar\": [{\"marker\": {\"colorbar\": {\"outlinewidth\": 0, \"ticks\": \"\"}}, \"type\": \"scatterpolar\"}], \"scatterpolargl\": [{\"marker\": {\"colorbar\": {\"outlinewidth\": 0, \"ticks\": \"\"}}, \"type\": \"scatterpolargl\"}], \"scatterternary\": [{\"marker\": {\"colorbar\": {\"outlinewidth\": 0, \"ticks\": \"\"}}, \"type\": \"scatterternary\"}], \"surface\": [{\"colorbar\": {\"outlinewidth\": 0, \"ticks\": \"\"}, \"colorscale\": [[0.0, \"#0d0887\"], [0.1111111111111111, \"#46039f\"], [0.2222222222222222, \"#7201a8\"], [0.3333333333333333, \"#9c179e\"], [0.4444444444444444, \"#bd3786\"], [0.5555555555555556, \"#d8576b\"], [0.6666666666666666, \"#ed7953\"], [0.7777777777777778, \"#fb9f3a\"], [0.8888888888888888, \"#fdca26\"], [1.0, \"#f0f921\"]], \"type\": \"surface\"}], \"table\": [{\"cells\": {\"fill\": {\"color\": \"#EBF0F8\"}, \"line\": {\"color\": \"white\"}}, \"header\": {\"fill\": {\"color\": \"#C8D4E3\"}, \"line\": {\"color\": \"white\"}}, \"type\": \"table\"}]}, \"layout\": {\"annotationdefaults\": {\"arrowcolor\": \"#2a3f5f\", \"arrowhead\": 0, \"arrowwidth\": 1}, \"coloraxis\": {\"colorbar\": {\"outlinewidth\": 0, \"ticks\": \"\"}}, \"colorscale\": {\"diverging\": [[0, \"#8e0152\"], [0.1, \"#c51b7d\"], [0.2, \"#de77ae\"], [0.3, \"#f1b6da\"], [0.4, \"#fde0ef\"], [0.5, \"#f7f7f7\"], [0.6, \"#e6f5d0\"], [0.7, \"#b8e186\"], [0.8, \"#7fbc41\"], [0.9, \"#4d9221\"], [1, \"#276419\"]], \"sequential\": [[0.0, \"#0d0887\"], [0.1111111111111111, \"#46039f\"], [0.2222222222222222, \"#7201a8\"], [0.3333333333333333, \"#9c179e\"], [0.4444444444444444, \"#bd3786\"], [0.5555555555555556, \"#d8576b\"], [0.6666666666666666, \"#ed7953\"], [0.7777777777777778, \"#fb9f3a\"], [0.8888888888888888, \"#fdca26\"], [1.0, \"#f0f921\"]], \"sequentialminus\": [[0.0, \"#0d0887\"], [0.1111111111111111, \"#46039f\"], [0.2222222222222222, \"#7201a8\"], [0.3333333333333333, \"#9c179e\"], [0.4444444444444444, \"#bd3786\"], [0.5555555555555556, \"#d8576b\"], [0.6666666666666666, \"#ed7953\"], [0.7777777777777778, \"#fb9f3a\"], [0.8888888888888888, \"#fdca26\"], [1.0, \"#f0f921\"]]}, \"colorway\": [\"#636efa\", \"#EF553B\", \"#00cc96\", \"#ab63fa\", \"#FFA15A\", \"#19d3f3\", \"#FF6692\", \"#B6E880\", \"#FF97FF\", \"#FECB52\"], \"font\": {\"color\": \"#2a3f5f\"}, \"geo\": {\"bgcolor\": \"white\", \"lakecolor\": \"white\", \"landcolor\": \"#E5ECF6\", \"showlakes\": true, \"showland\": true, \"subunitcolor\": \"white\"}, \"hoverlabel\": {\"align\": \"left\"}, \"hovermode\": \"closest\", \"mapbox\": {\"style\": \"light\"}, \"paper_bgcolor\": \"white\", \"plot_bgcolor\": \"#E5ECF6\", \"polar\": {\"angularaxis\": {\"gridcolor\": \"white\", \"linecolor\": \"white\", \"ticks\": \"\"}, \"bgcolor\": \"#E5ECF6\", \"radialaxis\": {\"gridcolor\": \"white\", \"linecolor\": \"white\", \"ticks\": \"\"}}, \"scene\": {\"xaxis\": {\"backgroundcolor\": \"#E5ECF6\", \"gridcolor\": \"white\", \"gridwidth\": 2, \"linecolor\": \"white\", \"showbackground\": true, \"ticks\": \"\", \"zerolinecolor\": \"white\"}, \"yaxis\": {\"backgroundcolor\": \"#E5ECF6\", \"gridcolor\": \"white\", \"gridwidth\": 2, \"linecolor\": \"white\", \"showbackground\": true, \"ticks\": \"\", \"zerolinecolor\": \"white\"}, \"zaxis\": {\"backgroundcolor\": \"#E5ECF6\", \"gridcolor\": \"white\", \"gridwidth\": 2, \"linecolor\": \"white\", \"showbackground\": true, \"ticks\": \"\", \"zerolinecolor\": \"white\"}}, \"shapedefaults\": {\"line\": {\"color\": \"#2a3f5f\"}}, \"ternary\": {\"aaxis\": {\"gridcolor\": \"white\", \"linecolor\": \"white\", \"ticks\": \"\"}, \"baxis\": {\"gridcolor\": \"white\", \"linecolor\": \"white\", \"ticks\": \"\"}, \"bgcolor\": \"#E5ECF6\", \"caxis\": {\"gridcolor\": \"white\", \"linecolor\": \"white\", \"ticks\": \"\"}}, \"title\": {\"x\": 0.05}, \"xaxis\": {\"automargin\": true, \"gridcolor\": \"white\", \"linecolor\": \"white\", \"ticks\": \"\", \"title\": {\"standoff\": 15}, \"zerolinecolor\": \"white\", \"zerolinewidth\": 2}, \"yaxis\": {\"automargin\": true, \"gridcolor\": \"white\", \"linecolor\": \"white\", \"ticks\": \"\", \"title\": {\"standoff\": 15}, \"zerolinecolor\": \"white\", \"zerolinewidth\": 2}}}, \"title\": {\"text\": \"\\uc9c0\\uc5ed\\ubcc4 \\ud655\\uc9c4\\uc790 \\ubcc0\\ud654(\\uc11c\\uc6b8 \\ud55c\\uc815)\", \"x\": 0.5, \"xanchor\": \"center\", \"y\": 1, \"yanchor\": \"top\"}, \"xaxis\": {\"anchor\": \"y\", \"domain\": [0.0, 1.0], \"title\": {\"text\": \"confirmed_date\"}}, \"yaxis\": {\"anchor\": \"x\", \"domain\": [0.0, 1.0], \"title\": {\"text\": \"cnt_sum\"}}},\n",
       "                        {\"responsive\": true}\n",
       "                    ).then(function(){\n",
       "                            \n",
       "var gd = document.getElementById('dd752f23-656e-45a9-99dc-3bea1d2a9cac');\n",
       "var x = new MutationObserver(function (mutations, observer) {{\n",
       "        var display = window.getComputedStyle(gd).display;\n",
       "        if (!display || display === 'none') {{\n",
       "            console.log([gd, 'removed!']);\n",
       "            Plotly.purge(gd);\n",
       "            observer.disconnect();\n",
       "        }}\n",
       "}});\n",
       "\n",
       "// Listen for the removal of the full notebook cells\n",
       "var notebookContainer = gd.closest('#notebook-container');\n",
       "if (notebookContainer) {{\n",
       "    x.observe(notebookContainer, {childList: true});\n",
       "}}\n",
       "\n",
       "// Listen for the clearing of the current output cell\n",
       "var outputEl = gd.closest('.output');\n",
       "if (outputEl) {{\n",
       "    x.observe(outputEl, {childList: true});\n",
       "}}\n",
       "\n",
       "                        })\n",
       "                };\n",
       "                });\n",
       "            </script>\n",
       "        </div>"
      ]
     },
     "metadata": {},
     "output_type": "display_data"
    }
   ],
   "source": [
    "fig=px.line(patient_seoul,x='confirmed_date',y='cnt_sum',color='total_ads')\n",
    "fig.update_layout(\n",
    "    title={\n",
    "        'text': \"지역별 확진자 변화(서울 한정)\",\n",
    "        'y':1,\n",
    "        'x':0.5,\n",
    "        'xanchor': 'center',\n",
    "        'yanchor': 'top'})\n",
    "fig.show()"
   ]
  },
  {
   "cell_type": "markdown",
   "metadata": {},
   "source": [
    "daily를 달 초, 말로 분류"
   ]
  },
  {
   "cell_type": "code",
   "execution_count": 46,
   "metadata": {},
   "outputs": [
    {
     "data": {
      "text/html": [
       "<div>\n",
       "<style scoped>\n",
       "    .dataframe tbody tr th:only-of-type {\n",
       "        vertical-align: middle;\n",
       "    }\n",
       "\n",
       "    .dataframe tbody tr th {\n",
       "        vertical-align: top;\n",
       "    }\n",
       "\n",
       "    .dataframe thead th {\n",
       "        text-align: right;\n",
       "    }\n",
       "</style>\n",
       "<table border=\"1\" class=\"dataframe\">\n",
       "  <thead>\n",
       "    <tr style=\"text-align: right;\">\n",
       "      <th></th>\n",
       "      <th>confirmed_date</th>\n",
       "      <th>total_ads</th>\n",
       "      <th>cnt</th>\n",
       "    </tr>\n",
       "  </thead>\n",
       "  <tbody>\n",
       "    <tr>\n",
       "      <th>0</th>\n",
       "      <td>1_2</td>\n",
       "      <td>서울 강서구</td>\n",
       "      <td>1</td>\n",
       "    </tr>\n",
       "    <tr>\n",
       "      <th>1</th>\n",
       "      <td>1_2</td>\n",
       "      <td>서울 마포구</td>\n",
       "      <td>1</td>\n",
       "    </tr>\n",
       "    <tr>\n",
       "      <th>2</th>\n",
       "      <td>1_2</td>\n",
       "      <td>서울 성북구</td>\n",
       "      <td>1</td>\n",
       "    </tr>\n",
       "    <tr>\n",
       "      <th>3</th>\n",
       "      <td>1_2</td>\n",
       "      <td>서울 종로구</td>\n",
       "      <td>3</td>\n",
       "    </tr>\n",
       "    <tr>\n",
       "      <th>4</th>\n",
       "      <td>1_2</td>\n",
       "      <td>서울 중랑구</td>\n",
       "      <td>1</td>\n",
       "    </tr>\n",
       "  </tbody>\n",
       "</table>\n",
       "</div>"
      ],
      "text/plain": [
       "  confirmed_date total_ads  cnt\n",
       "0            1_2    서울 강서구    1\n",
       "1            1_2    서울 마포구    1\n",
       "2            1_2    서울 성북구    1\n",
       "3            1_2    서울 종로구    3\n",
       "4            1_2    서울 중랑구    1"
      ]
     },
     "execution_count": 46,
     "metadata": {},
     "output_type": "execute_result"
    }
   ],
   "source": [
    "#1월 말부터\n",
    "is_date=patient_seoul['confirmed_date']<'2020-02-01'\n",
    "patient_seoul_jan=patient_seoul[is_date]\n",
    "patient_seoul=patient_seoul.drop(patient_seoul[is_date].index)\n",
    "\n",
    "patient_seoul_jan['confirmed_date']='1_2'\n",
    "patient_seoul_jan=patient_seoul_jan.groupby(['confirmed_date','total_ads'],as_index=False).cnt.sum()\n",
    "patient_seoul_jan"
   ]
  },
  {
   "cell_type": "code",
   "execution_count": 47,
   "metadata": {},
   "outputs": [],
   "source": [
    "#2월 초\n",
    "is_date_1=patient_seoul['confirmed_date']<'2020-02-15'\n",
    "patient_seoul_feb_1=patient_seoul[is_date_1]\n",
    "patient_seoul=patient_seoul.drop(patient_seoul[is_date].index)\n",
    "patient_seoul_feb_1['confirmed_date']='2_1'\n",
    "patient_seoul_feb_1=patient_seoul_feb_1.groupby(['confirmed_date','total_ads'],as_index=False).cnt.sum()\n",
    "\n",
    "#2월 말\n",
    "is_date=patient_seoul['confirmed_date']<'2020-03-01'\n",
    "patient_seoul_feb_2=patient_seoul[is_date]\n",
    "patient_seoul=patient_seoul.drop(patient_seoul[is_date].index)\n",
    "patient_seoul_feb_2['confirmed_date']='2_1'\n",
    "patient_seoul_feb_2=patient_seoul_feb_2.groupby(['confirmed_date','total_ads'],as_index=False).cnt.sum()\n",
    "\n",
    "#3월 초\n",
    "is_date=patient_seoul['confirmed_date']<'2020-03-16'\n",
    "patient_seoul_mar_1=patient_seoul[is_date]\n",
    "patient_seoul=patient_seoul.drop(patient_seoul[is_date].index)\n",
    "patient_seoul_mar_1['confirmed_date']='3_1'\n",
    "patient_seoul_mar_1=patient_seoul_mar_1.groupby(['confirmed_date','total_ads'],as_index=False).cnt.sum()\n",
    "\n",
    "#3월 말\n",
    "is_date=patient_seoul['confirmed_date']<'2020-04-01'\n",
    "patient_seoul_mar_2=patient_seoul[is_date]\n",
    "patient_seoul=patient_seoul.drop(patient_seoul[is_date].index)\n",
    "patient_seoul_mar_2['confirmed_date']='3_2'\n",
    "patient_seoul_mar_2=patient_seoul_mar_2.groupby(['confirmed_date','total_ads'],as_index=False).cnt.sum()\n",
    "\n",
    "#4월 초\n",
    "\n",
    "is_date=patient_seoul['confirmed_date']<'2020-04-16'\n",
    "patient_seoul_apr_1=patient_seoul[is_date]\n",
    "patient_seoul=patient_seoul.drop(patient_seoul[is_date].index)\n",
    "patient_seoul_apr_1['confirmed_date']='4_1'\n",
    "patient_seoul_apr_1=patient_seoul_apr_1.groupby(['confirmed_date','total_ads'],as_index=False).cnt.sum()\n",
    "\n",
    "#4월 말\n",
    "is_date=patient_seoul['confirmed_date']<'2020-05-01'\n",
    "patient_seoul_apr_2=patient_seoul[is_date]\n",
    "patient_seoul=patient_seoul.drop(patient_seoul[is_date].index)\n",
    "patient_seoul_apr_2['confirmed_date']='4_2'\n",
    "patient_seoul_apr_2=patient_seoul_apr_2.groupby(['confirmed_date','total_ads'],as_index=False).cnt.sum()\n",
    "\n",
    "#5월 초\n",
    "is_date=patient_seoul['confirmed_date']<'2020-05-16'\n",
    "patient_seoul_may_1=patient_seoul[is_date]\n",
    "patient_seoul=patient_seoul.drop(patient_seoul[is_date].index)\n",
    "patient_seoul_may_1['confirmed_date']='5_1'\n",
    "patient_seoul_may_1=patient_seoul_may_1.groupby(['confirmed_date','total_ads'],as_index=False).cnt.sum()\n",
    "\n",
    "#5월 말\n",
    "is_date=patient_seoul['confirmed_date']<'2020-06-01'\n",
    "patient_seoul_may_2=patient_seoul[is_date]\n",
    "patient_seoul=patient_seoul.drop(patient_seoul[is_date].index)\n",
    "patient_seoul_may_2['confirmed_date']='5_2'\n",
    "patient_seoul_may_2=patient_seoul_may_2.groupby(['confirmed_date','total_ads'],as_index=False).cnt.sum()\n",
    "\n",
    "#6월 초\n",
    "\n",
    "is_date=patient_seoul['confirmed_date']<'2020-06-16'\n",
    "patient_seoul_june_1=patient_seoul[is_date]\n",
    "patient_seoul=patient_seoul.drop(patient_seoul[is_date].index)\n",
    "patient_seoul_june_1['confirmed_date']='6_1'\n",
    "patient_seoul_june_1=patient_seoul_june_1.groupby(['confirmed_date','total_ads'],as_index=False).cnt.sum()\n",
    "\n",
    "#6월 말\n",
    "is_date=patient_seoul['confirmed_date']<'2020-07-01'\n",
    "patient_seoul_june_2=patient_seoul[is_date]\n",
    "patient_seoul=patient_seoul.drop(patient_seoul[is_date].index)\n",
    "patient_seoul_june_2['confirmed_date']='6_2'\n",
    "patient_seoul_june_2=patient_seoul_june_2.groupby(['confirmed_date','total_ads'],as_index=False).cnt.sum()"
   ]
  },
  {
   "cell_type": "markdown",
   "metadata": {},
   "source": [
    "달별로 나눈걸 병합(그래프 그리기 위해서)"
   ]
  },
  {
   "cell_type": "code",
   "execution_count": 48,
   "metadata": {},
   "outputs": [],
   "source": [
    "patient_seoul_ads=pd.concat([patient_seoul_jan,patient_seoul_feb_1,patient_seoul_feb_2,patient_seoul_mar_1,patient_seoul_mar_2,\n",
    "                             patient_seoul_apr_1,patient_seoul_apr_2,patient_seoul_may_1,patient_seoul_may_2,\n",
    "                             patient_seoul_june_1,patient_seoul_june_2],axis=0)"
   ]
  },
  {
   "cell_type": "code",
   "execution_count": 50,
   "metadata": {},
   "outputs": [],
   "source": [
    "patient_seoul_ads['cnt_sum']=patient_seoul_ads.groupby('total_ads')['cnt'].cumsum()"
   ]
  },
  {
   "cell_type": "code",
   "execution_count": 51,
   "metadata": {},
   "outputs": [
    {
     "data": {
      "application/vnd.plotly.v1+json": {
       "config": {
        "plotlyServerURL": "https://plot.ly"
       },
       "data": [
        {
         "hovertemplate": "total_ads=서울 강서구<br>confirmed_date=%{x}<br>cnt=%{y}<extra></extra>",
         "legendgroup": "서울 강서구",
         "line": {
          "color": "#636efa",
          "dash": "solid"
         },
         "mode": "lines",
         "name": "서울 강서구",
         "orientation": "v",
         "showlegend": true,
         "type": "scatter",
         "x": [
          "1_2",
          "2_1",
          "3_1",
          "3_2",
          "4_1",
          "4_2",
          "5_1",
          "5_2",
          "6_1",
          "6_2"
         ],
         "xaxis": "x",
         "y": [
          1,
          1,
          12,
          8,
          3,
          1,
          5,
          14,
          24,
          9
         ],
         "yaxis": "y"
        },
        {
         "hovertemplate": "total_ads=서울 마포구<br>confirmed_date=%{x}<br>cnt=%{y}<extra></extra>",
         "legendgroup": "서울 마포구",
         "line": {
          "color": "#EF553B",
          "dash": "solid"
         },
         "mode": "lines",
         "name": "서울 마포구",
         "orientation": "v",
         "showlegend": true,
         "type": "scatter",
         "x": [
          "1_2",
          "3_1",
          "3_2",
          "4_1",
          "4_2",
          "5_2",
          "6_1",
          "6_2"
         ],
         "xaxis": "x",
         "y": [
          1,
          7,
          9,
          5,
          2,
          3,
          4,
          7
         ],
         "yaxis": "y"
        },
        {
         "hovertemplate": "total_ads=서울 성북구<br>confirmed_date=%{x}<br>cnt=%{y}<extra></extra>",
         "legendgroup": "서울 성북구",
         "line": {
          "color": "#00cc96",
          "dash": "solid"
         },
         "mode": "lines",
         "name": "서울 성북구",
         "orientation": "v",
         "showlegend": true,
         "type": "scatter",
         "x": [
          "1_2",
          "2_1",
          "2_1",
          "3_1",
          "3_2",
          "4_1",
          "4_2",
          "5_1",
          "5_2",
          "6_1",
          "6_2"
         ],
         "xaxis": "x",
         "y": [
          1,
          1,
          1,
          7,
          6,
          7,
          2,
          3,
          2,
          2,
          2
         ],
         "yaxis": "y"
        },
        {
         "hovertemplate": "total_ads=서울 종로구<br>confirmed_date=%{x}<br>cnt=%{y}<extra></extra>",
         "legendgroup": "서울 종로구",
         "line": {
          "color": "#ab63fa",
          "dash": "solid"
         },
         "mode": "lines",
         "name": "서울 종로구",
         "orientation": "v",
         "showlegend": true,
         "type": "scatter",
         "x": [
          "1_2",
          "2_1",
          "3_2",
          "4_1",
          "5_1",
          "5_2",
          "6_1",
          "6_2"
         ],
         "xaxis": "x",
         "y": [
          3,
          8,
          4,
          1,
          1,
          2,
          2,
          1
         ],
         "yaxis": "y"
        },
        {
         "hovertemplate": "total_ads=서울 중랑구<br>confirmed_date=%{x}<br>cnt=%{y}<extra></extra>",
         "legendgroup": "서울 중랑구",
         "line": {
          "color": "#FFA15A",
          "dash": "solid"
         },
         "mode": "lines",
         "name": "서울 중랑구",
         "orientation": "v",
         "showlegend": true,
         "type": "scatter",
         "x": [
          "1_2",
          "3_1",
          "3_2",
          "4_1",
          "5_1",
          "5_2",
          "6_1",
          "6_2"
         ],
         "xaxis": "x",
         "y": [
          1,
          4,
          8,
          3,
          1,
          2,
          8,
          6
         ],
         "yaxis": "y"
        },
        {
         "hovertemplate": "total_ads=서울 기타<br>confirmed_date=%{x}<br>cnt=%{y}<extra></extra>",
         "legendgroup": "서울 기타",
         "line": {
          "color": "#19d3f3",
          "dash": "solid"
         },
         "mode": "lines",
         "name": "서울 기타",
         "orientation": "v",
         "showlegend": true,
         "type": "scatter",
         "x": [
          "2_1",
          "2_1",
          "3_1",
          "3_2",
          "4_1",
          "4_2",
          "5_1",
          "5_2",
          "6_1",
          "6_2"
         ],
         "xaxis": "x",
         "y": [
          2,
          9,
          8,
          14,
          10,
          2,
          3,
          9,
          14,
          11
         ],
         "yaxis": "y"
        },
        {
         "hovertemplate": "total_ads=서울 서대문구<br>confirmed_date=%{x}<br>cnt=%{y}<extra></extra>",
         "legendgroup": "서울 서대문구",
         "line": {
          "color": "#FF6692",
          "dash": "solid"
         },
         "mode": "lines",
         "name": "서울 서대문구",
         "orientation": "v",
         "showlegend": true,
         "type": "scatter",
         "x": [
          "2_1",
          "2_1",
          "3_1",
          "3_2",
          "4_1",
          "4_2",
          "5_1",
          "5_2",
          "6_1",
          "6_2"
         ],
         "xaxis": "x",
         "y": [
          1,
          4,
          2,
          8,
          5,
          1,
          3,
          5,
          6,
          2
         ],
         "yaxis": "y"
        },
        {
         "hovertemplate": "total_ads=서울 송파구<br>confirmed_date=%{x}<br>cnt=%{y}<extra></extra>",
         "legendgroup": "서울 송파구",
         "line": {
          "color": "#B6E880",
          "dash": "solid"
         },
         "mode": "lines",
         "name": "서울 송파구",
         "orientation": "v",
         "showlegend": true,
         "type": "scatter",
         "x": [
          "2_1",
          "2_1",
          "3_1",
          "3_2",
          "4_1",
          "5_1",
          "5_2",
          "6_1",
          "6_2"
         ],
         "xaxis": "x",
         "y": [
          1,
          11,
          4,
          12,
          10,
          5,
          6,
          3,
          4
         ],
         "yaxis": "y"
        },
        {
         "hovertemplate": "total_ads=서울 강남구<br>confirmed_date=%{x}<br>cnt=%{y}<extra></extra>",
         "legendgroup": "서울 강남구",
         "line": {
          "color": "#FF97FF",
          "dash": "solid"
         },
         "mode": "lines",
         "name": "서울 강남구",
         "orientation": "v",
         "showlegend": true,
         "type": "scatter",
         "x": [
          "2_1",
          "3_1",
          "3_2",
          "4_1",
          "4_2",
          "5_1",
          "5_2",
          "6_1",
          "6_2"
         ],
         "xaxis": "x",
         "y": [
          7,
          7,
          27,
          18,
          5,
          7,
          4,
          3,
          5
         ],
         "yaxis": "y"
        },
        {
         "hovertemplate": "total_ads=서울 강동구<br>confirmed_date=%{x}<br>cnt=%{y}<extra></extra>",
         "legendgroup": "서울 강동구",
         "line": {
          "color": "#FECB52",
          "dash": "solid"
         },
         "mode": "lines",
         "name": "서울 강동구",
         "orientation": "v",
         "showlegend": true,
         "type": "scatter",
         "x": [
          "2_1",
          "3_1",
          "3_2",
          "4_1",
          "5_1",
          "5_2",
          "6_1",
          "6_2"
         ],
         "xaxis": "x",
         "y": [
          4,
          1,
          5,
          3,
          6,
          5,
          9,
          2
         ],
         "yaxis": "y"
        },
        {
         "hovertemplate": "total_ads=서울 관악구<br>confirmed_date=%{x}<br>cnt=%{y}<extra></extra>",
         "legendgroup": "서울 관악구",
         "line": {
          "color": "#636efa",
          "dash": "solid"
         },
         "mode": "lines",
         "name": "서울 관악구",
         "orientation": "v",
         "showlegend": true,
         "type": "scatter",
         "x": [
          "2_1",
          "3_1",
          "3_2",
          "4_1",
          "4_2",
          "5_1",
          "5_2",
          "6_1",
          "6_2"
         ],
         "xaxis": "x",
         "y": [
          4,
          11,
          19,
          8,
          1,
          10,
          6,
          18,
          36
         ],
         "yaxis": "y"
        },
        {
         "hovertemplate": "total_ads=서울 광진구<br>confirmed_date=%{x}<br>cnt=%{y}<extra></extra>",
         "legendgroup": "서울 광진구",
         "line": {
          "color": "#EF553B",
          "dash": "solid"
         },
         "mode": "lines",
         "name": "서울 광진구",
         "orientation": "v",
         "showlegend": true,
         "type": "scatter",
         "x": [
          "2_1",
          "3_1",
          "3_2",
          "4_1",
          "5_1",
          "5_2",
          "6_1",
          "6_2"
         ],
         "xaxis": "x",
         "y": [
          1,
          1,
          4,
          2,
          4,
          2,
          1,
          2
         ],
         "yaxis": "y"
        },
        {
         "hovertemplate": "total_ads=서울 구로구<br>confirmed_date=%{x}<br>cnt=%{y}<extra></extra>",
         "legendgroup": "서울 구로구",
         "line": {
          "color": "#00cc96",
          "dash": "solid"
         },
         "mode": "lines",
         "name": "서울 구로구",
         "orientation": "v",
         "showlegend": true,
         "type": "scatter",
         "x": [
          "2_1",
          "3_1",
          "3_2",
          "4_1",
          "5_2",
          "6_1",
          "6_2"
         ],
         "xaxis": "x",
         "y": [
          1,
          19,
          13,
          1,
          6,
          34,
          11
         ],
         "yaxis": "y"
        },
        {
         "hovertemplate": "total_ads=서울 금천구<br>confirmed_date=%{x}<br>cnt=%{y}<extra></extra>",
         "legendgroup": "서울 금천구",
         "line": {
          "color": "#ab63fa",
          "dash": "solid"
         },
         "mode": "lines",
         "name": "서울 금천구",
         "orientation": "v",
         "showlegend": true,
         "type": "scatter",
         "x": [
          "2_1",
          "3_1",
          "3_2",
          "5_1",
          "5_2",
          "6_1",
          "6_2"
         ],
         "xaxis": "x",
         "y": [
          1,
          4,
          8,
          1,
          2,
          14,
          2
         ],
         "yaxis": "y"
        },
        {
         "hovertemplate": "total_ads=서울 노원구<br>confirmed_date=%{x}<br>cnt=%{y}<extra></extra>",
         "legendgroup": "서울 노원구",
         "line": {
          "color": "#FFA15A",
          "dash": "solid"
         },
         "mode": "lines",
         "name": "서울 노원구",
         "orientation": "v",
         "showlegend": true,
         "type": "scatter",
         "x": [
          "2_1",
          "3_1",
          "3_2",
          "4_1",
          "5_1",
          "5_2",
          "6_1",
          "6_2"
         ],
         "xaxis": "x",
         "y": [
          8,
          7,
          5,
          3,
          2,
          6,
          6,
          6
         ],
         "yaxis": "y"
        },
        {
         "hovertemplate": "total_ads=서울 동구 구<br>confirmed_date=%{x}<br>cnt=%{y}<extra></extra>",
         "legendgroup": "서울 동구 구",
         "line": {
          "color": "#19d3f3",
          "dash": "solid"
         },
         "mode": "lines",
         "name": "서울 동구 구",
         "orientation": "v",
         "showlegend": true,
         "type": "scatter",
         "x": [
          "2_1",
          "3_1",
          "3_2",
          "4_1",
          "5_1",
          "5_2",
          "6_1",
          "6_2"
         ],
         "xaxis": "x",
         "y": [
          1,
          5,
          18,
          7,
          6,
          3,
          6,
          7
         ],
         "yaxis": "y"
        },
        {
         "hovertemplate": "total_ads=서울 동대문구<br>confirmed_date=%{x}<br>cnt=%{y}<extra></extra>",
         "legendgroup": "서울 동대문구",
         "line": {
          "color": "#FF6692",
          "dash": "solid"
         },
         "mode": "lines",
         "name": "서울 동대문구",
         "orientation": "v",
         "showlegend": true,
         "type": "scatter",
         "x": [
          "2_1",
          "3_1",
          "3_2",
          "4_1",
          "5_1",
          "6_1",
          "6_2"
         ],
         "xaxis": "x",
         "y": [
          1,
          21,
          4,
          5,
          3,
          1,
          3
         ],
         "yaxis": "y"
        },
        {
         "hovertemplate": "total_ads=서울 서초구<br>confirmed_date=%{x}<br>cnt=%{y}<extra></extra>",
         "legendgroup": "서울 서초구",
         "line": {
          "color": "#B6E880",
          "dash": "solid"
         },
         "mode": "lines",
         "name": "서울 서초구",
         "orientation": "v",
         "showlegend": true,
         "type": "scatter",
         "x": [
          "2_1",
          "3_1",
          "3_2",
          "4_1",
          "5_1",
          "5_2",
          "6_1",
          "6_2"
         ],
         "xaxis": "x",
         "y": [
          4,
          5,
          15,
          13,
          2,
          2,
          7,
          7
         ],
         "yaxis": "y"
        },
        {
         "hovertemplate": "total_ads=서울 성동구<br>confirmed_date=%{x}<br>cnt=%{y}<extra></extra>",
         "legendgroup": "서울 성동구",
         "line": {
          "color": "#FF97FF",
          "dash": "solid"
         },
         "mode": "lines",
         "name": "서울 성동구",
         "orientation": "v",
         "showlegend": true,
         "type": "scatter",
         "x": [
          "2_1",
          "3_2",
          "4_1",
          "5_1",
          "5_2",
          "6_1",
          "6_2"
         ],
         "xaxis": "x",
         "y": [
          3,
          3,
          13,
          3,
          18,
          7,
          2
         ],
         "yaxis": "y"
        },
        {
         "hovertemplate": "total_ads=서울 양천구<br>confirmed_date=%{x}<br>cnt=%{y}<extra></extra>",
         "legendgroup": "서울 양천구",
         "line": {
          "color": "#FECB52",
          "dash": "solid"
         },
         "mode": "lines",
         "name": "서울 양천구",
         "orientation": "v",
         "showlegend": true,
         "type": "scatter",
         "x": [
          "2_1",
          "3_1",
          "3_2",
          "4_1",
          "5_1",
          "5_2",
          "6_1",
          "6_2"
         ],
         "xaxis": "x",
         "y": [
          1,
          13,
          4,
          4,
          2,
          4,
          38,
          5
         ],
         "yaxis": "y"
        },
        {
         "hovertemplate": "total_ads=서울 영등포구<br>confirmed_date=%{x}<br>cnt=%{y}<extra></extra>",
         "legendgroup": "서울 영등포구",
         "line": {
          "color": "#636efa",
          "dash": "solid"
         },
         "mode": "lines",
         "name": "서울 영등포구",
         "orientation": "v",
         "showlegend": true,
         "type": "scatter",
         "x": [
          "2_1",
          "3_1",
          "3_2",
          "4_1",
          "5_1",
          "5_2",
          "6_1",
          "6_2"
         ],
         "xaxis": "x",
         "y": [
          2,
          10,
          8,
          4,
          2,
          9,
          15,
          12
         ],
         "yaxis": "y"
        },
        {
         "hovertemplate": "total_ads=서울 은평구<br>confirmed_date=%{x}<br>cnt=%{y}<extra></extra>",
         "legendgroup": "서울 은평구",
         "line": {
          "color": "#EF553B",
          "dash": "solid"
         },
         "mode": "lines",
         "name": "서울 은평구",
         "orientation": "v",
         "showlegend": true,
         "type": "scatter",
         "x": [
          "2_1",
          "3_1",
          "3_2",
          "4_1",
          "5_1",
          "5_2",
          "6_1",
          "6_2"
         ],
         "xaxis": "x",
         "y": [
          7,
          10,
          4,
          7,
          2,
          5,
          9,
          9
         ],
         "yaxis": "y"
        },
        {
         "hovertemplate": "total_ads=서울 강북구<br>confirmed_date=%{x}<br>cnt=%{y}<extra></extra>",
         "legendgroup": "서울 강북구",
         "line": {
          "color": "#00cc96",
          "dash": "solid"
         },
         "mode": "lines",
         "name": "서울 강북구",
         "orientation": "v",
         "showlegend": true,
         "type": "scatter",
         "x": [
          "3_1",
          "5_1",
          "5_2",
          "6_1",
          "6_2"
         ],
         "xaxis": "x",
         "y": [
          5,
          3,
          6,
          9,
          1
         ],
         "yaxis": "y"
        },
        {
         "hovertemplate": "total_ads=서울 도봉구<br>confirmed_date=%{x}<br>cnt=%{y}<extra></extra>",
         "legendgroup": "서울 도봉구",
         "line": {
          "color": "#ab63fa",
          "dash": "solid"
         },
         "mode": "lines",
         "name": "서울 도봉구",
         "orientation": "v",
         "showlegend": true,
         "type": "scatter",
         "x": [
          "3_1",
          "3_2",
          "4_1",
          "5_1",
          "5_2",
          "6_1",
          "6_2"
         ],
         "xaxis": "x",
         "y": [
          2,
          4,
          3,
          5,
          5,
          19,
          24
         ],
         "yaxis": "y"
        },
        {
         "hovertemplate": "total_ads=서울 용산구<br>confirmed_date=%{x}<br>cnt=%{y}<extra></extra>",
         "legendgroup": "서울 용산구",
         "line": {
          "color": "#FFA15A",
          "dash": "solid"
         },
         "mode": "lines",
         "name": "서울 용산구",
         "orientation": "v",
         "showlegend": true,
         "type": "scatter",
         "x": [
          "3_1",
          "3_2",
          "4_1",
          "4_2",
          "5_1",
          "5_2",
          "6_1",
          "6_2"
         ],
         "xaxis": "x",
         "y": [
          2,
          10,
          5,
          1,
          16,
          4,
          10,
          2
         ],
         "yaxis": "y"
        },
        {
         "hovertemplate": "total_ads=서울 중구<br>confirmed_date=%{x}<br>cnt=%{y}<extra></extra>",
         "legendgroup": "서울 중구",
         "line": {
          "color": "#19d3f3",
          "dash": "solid"
         },
         "mode": "lines",
         "name": "서울 중구",
         "orientation": "v",
         "showlegend": true,
         "type": "scatter",
         "x": [
          "3_1",
          "3_2",
          "4_1",
          "5_1",
          "5_2",
          "6_1",
          "6_2"
         ],
         "xaxis": "x",
         "y": [
          1,
          4,
          1,
          2,
          1,
          1,
          2
         ],
         "yaxis": "y"
        }
       ],
       "layout": {
        "legend": {
         "title": {
          "text": "total_ads"
         },
         "tracegroupgap": 0
        },
        "margin": {
         "t": 60
        },
        "template": {
         "data": {
          "bar": [
           {
            "error_x": {
             "color": "#2a3f5f"
            },
            "error_y": {
             "color": "#2a3f5f"
            },
            "marker": {
             "line": {
              "color": "#E5ECF6",
              "width": 0.5
             }
            },
            "type": "bar"
           }
          ],
          "barpolar": [
           {
            "marker": {
             "line": {
              "color": "#E5ECF6",
              "width": 0.5
             }
            },
            "type": "barpolar"
           }
          ],
          "carpet": [
           {
            "aaxis": {
             "endlinecolor": "#2a3f5f",
             "gridcolor": "white",
             "linecolor": "white",
             "minorgridcolor": "white",
             "startlinecolor": "#2a3f5f"
            },
            "baxis": {
             "endlinecolor": "#2a3f5f",
             "gridcolor": "white",
             "linecolor": "white",
             "minorgridcolor": "white",
             "startlinecolor": "#2a3f5f"
            },
            "type": "carpet"
           }
          ],
          "choropleth": [
           {
            "colorbar": {
             "outlinewidth": 0,
             "ticks": ""
            },
            "type": "choropleth"
           }
          ],
          "contour": [
           {
            "colorbar": {
             "outlinewidth": 0,
             "ticks": ""
            },
            "colorscale": [
             [
              0,
              "#0d0887"
             ],
             [
              0.1111111111111111,
              "#46039f"
             ],
             [
              0.2222222222222222,
              "#7201a8"
             ],
             [
              0.3333333333333333,
              "#9c179e"
             ],
             [
              0.4444444444444444,
              "#bd3786"
             ],
             [
              0.5555555555555556,
              "#d8576b"
             ],
             [
              0.6666666666666666,
              "#ed7953"
             ],
             [
              0.7777777777777778,
              "#fb9f3a"
             ],
             [
              0.8888888888888888,
              "#fdca26"
             ],
             [
              1,
              "#f0f921"
             ]
            ],
            "type": "contour"
           }
          ],
          "contourcarpet": [
           {
            "colorbar": {
             "outlinewidth": 0,
             "ticks": ""
            },
            "type": "contourcarpet"
           }
          ],
          "heatmap": [
           {
            "colorbar": {
             "outlinewidth": 0,
             "ticks": ""
            },
            "colorscale": [
             [
              0,
              "#0d0887"
             ],
             [
              0.1111111111111111,
              "#46039f"
             ],
             [
              0.2222222222222222,
              "#7201a8"
             ],
             [
              0.3333333333333333,
              "#9c179e"
             ],
             [
              0.4444444444444444,
              "#bd3786"
             ],
             [
              0.5555555555555556,
              "#d8576b"
             ],
             [
              0.6666666666666666,
              "#ed7953"
             ],
             [
              0.7777777777777778,
              "#fb9f3a"
             ],
             [
              0.8888888888888888,
              "#fdca26"
             ],
             [
              1,
              "#f0f921"
             ]
            ],
            "type": "heatmap"
           }
          ],
          "heatmapgl": [
           {
            "colorbar": {
             "outlinewidth": 0,
             "ticks": ""
            },
            "colorscale": [
             [
              0,
              "#0d0887"
             ],
             [
              0.1111111111111111,
              "#46039f"
             ],
             [
              0.2222222222222222,
              "#7201a8"
             ],
             [
              0.3333333333333333,
              "#9c179e"
             ],
             [
              0.4444444444444444,
              "#bd3786"
             ],
             [
              0.5555555555555556,
              "#d8576b"
             ],
             [
              0.6666666666666666,
              "#ed7953"
             ],
             [
              0.7777777777777778,
              "#fb9f3a"
             ],
             [
              0.8888888888888888,
              "#fdca26"
             ],
             [
              1,
              "#f0f921"
             ]
            ],
            "type": "heatmapgl"
           }
          ],
          "histogram": [
           {
            "marker": {
             "colorbar": {
              "outlinewidth": 0,
              "ticks": ""
             }
            },
            "type": "histogram"
           }
          ],
          "histogram2d": [
           {
            "colorbar": {
             "outlinewidth": 0,
             "ticks": ""
            },
            "colorscale": [
             [
              0,
              "#0d0887"
             ],
             [
              0.1111111111111111,
              "#46039f"
             ],
             [
              0.2222222222222222,
              "#7201a8"
             ],
             [
              0.3333333333333333,
              "#9c179e"
             ],
             [
              0.4444444444444444,
              "#bd3786"
             ],
             [
              0.5555555555555556,
              "#d8576b"
             ],
             [
              0.6666666666666666,
              "#ed7953"
             ],
             [
              0.7777777777777778,
              "#fb9f3a"
             ],
             [
              0.8888888888888888,
              "#fdca26"
             ],
             [
              1,
              "#f0f921"
             ]
            ],
            "type": "histogram2d"
           }
          ],
          "histogram2dcontour": [
           {
            "colorbar": {
             "outlinewidth": 0,
             "ticks": ""
            },
            "colorscale": [
             [
              0,
              "#0d0887"
             ],
             [
              0.1111111111111111,
              "#46039f"
             ],
             [
              0.2222222222222222,
              "#7201a8"
             ],
             [
              0.3333333333333333,
              "#9c179e"
             ],
             [
              0.4444444444444444,
              "#bd3786"
             ],
             [
              0.5555555555555556,
              "#d8576b"
             ],
             [
              0.6666666666666666,
              "#ed7953"
             ],
             [
              0.7777777777777778,
              "#fb9f3a"
             ],
             [
              0.8888888888888888,
              "#fdca26"
             ],
             [
              1,
              "#f0f921"
             ]
            ],
            "type": "histogram2dcontour"
           }
          ],
          "mesh3d": [
           {
            "colorbar": {
             "outlinewidth": 0,
             "ticks": ""
            },
            "type": "mesh3d"
           }
          ],
          "parcoords": [
           {
            "line": {
             "colorbar": {
              "outlinewidth": 0,
              "ticks": ""
             }
            },
            "type": "parcoords"
           }
          ],
          "pie": [
           {
            "automargin": true,
            "type": "pie"
           }
          ],
          "scatter": [
           {
            "marker": {
             "colorbar": {
              "outlinewidth": 0,
              "ticks": ""
             }
            },
            "type": "scatter"
           }
          ],
          "scatter3d": [
           {
            "line": {
             "colorbar": {
              "outlinewidth": 0,
              "ticks": ""
             }
            },
            "marker": {
             "colorbar": {
              "outlinewidth": 0,
              "ticks": ""
             }
            },
            "type": "scatter3d"
           }
          ],
          "scattercarpet": [
           {
            "marker": {
             "colorbar": {
              "outlinewidth": 0,
              "ticks": ""
             }
            },
            "type": "scattercarpet"
           }
          ],
          "scattergeo": [
           {
            "marker": {
             "colorbar": {
              "outlinewidth": 0,
              "ticks": ""
             }
            },
            "type": "scattergeo"
           }
          ],
          "scattergl": [
           {
            "marker": {
             "colorbar": {
              "outlinewidth": 0,
              "ticks": ""
             }
            },
            "type": "scattergl"
           }
          ],
          "scattermapbox": [
           {
            "marker": {
             "colorbar": {
              "outlinewidth": 0,
              "ticks": ""
             }
            },
            "type": "scattermapbox"
           }
          ],
          "scatterpolar": [
           {
            "marker": {
             "colorbar": {
              "outlinewidth": 0,
              "ticks": ""
             }
            },
            "type": "scatterpolar"
           }
          ],
          "scatterpolargl": [
           {
            "marker": {
             "colorbar": {
              "outlinewidth": 0,
              "ticks": ""
             }
            },
            "type": "scatterpolargl"
           }
          ],
          "scatterternary": [
           {
            "marker": {
             "colorbar": {
              "outlinewidth": 0,
              "ticks": ""
             }
            },
            "type": "scatterternary"
           }
          ],
          "surface": [
           {
            "colorbar": {
             "outlinewidth": 0,
             "ticks": ""
            },
            "colorscale": [
             [
              0,
              "#0d0887"
             ],
             [
              0.1111111111111111,
              "#46039f"
             ],
             [
              0.2222222222222222,
              "#7201a8"
             ],
             [
              0.3333333333333333,
              "#9c179e"
             ],
             [
              0.4444444444444444,
              "#bd3786"
             ],
             [
              0.5555555555555556,
              "#d8576b"
             ],
             [
              0.6666666666666666,
              "#ed7953"
             ],
             [
              0.7777777777777778,
              "#fb9f3a"
             ],
             [
              0.8888888888888888,
              "#fdca26"
             ],
             [
              1,
              "#f0f921"
             ]
            ],
            "type": "surface"
           }
          ],
          "table": [
           {
            "cells": {
             "fill": {
              "color": "#EBF0F8"
             },
             "line": {
              "color": "white"
             }
            },
            "header": {
             "fill": {
              "color": "#C8D4E3"
             },
             "line": {
              "color": "white"
             }
            },
            "type": "table"
           }
          ]
         },
         "layout": {
          "annotationdefaults": {
           "arrowcolor": "#2a3f5f",
           "arrowhead": 0,
           "arrowwidth": 1
          },
          "coloraxis": {
           "colorbar": {
            "outlinewidth": 0,
            "ticks": ""
           }
          },
          "colorscale": {
           "diverging": [
            [
             0,
             "#8e0152"
            ],
            [
             0.1,
             "#c51b7d"
            ],
            [
             0.2,
             "#de77ae"
            ],
            [
             0.3,
             "#f1b6da"
            ],
            [
             0.4,
             "#fde0ef"
            ],
            [
             0.5,
             "#f7f7f7"
            ],
            [
             0.6,
             "#e6f5d0"
            ],
            [
             0.7,
             "#b8e186"
            ],
            [
             0.8,
             "#7fbc41"
            ],
            [
             0.9,
             "#4d9221"
            ],
            [
             1,
             "#276419"
            ]
           ],
           "sequential": [
            [
             0,
             "#0d0887"
            ],
            [
             0.1111111111111111,
             "#46039f"
            ],
            [
             0.2222222222222222,
             "#7201a8"
            ],
            [
             0.3333333333333333,
             "#9c179e"
            ],
            [
             0.4444444444444444,
             "#bd3786"
            ],
            [
             0.5555555555555556,
             "#d8576b"
            ],
            [
             0.6666666666666666,
             "#ed7953"
            ],
            [
             0.7777777777777778,
             "#fb9f3a"
            ],
            [
             0.8888888888888888,
             "#fdca26"
            ],
            [
             1,
             "#f0f921"
            ]
           ],
           "sequentialminus": [
            [
             0,
             "#0d0887"
            ],
            [
             0.1111111111111111,
             "#46039f"
            ],
            [
             0.2222222222222222,
             "#7201a8"
            ],
            [
             0.3333333333333333,
             "#9c179e"
            ],
            [
             0.4444444444444444,
             "#bd3786"
            ],
            [
             0.5555555555555556,
             "#d8576b"
            ],
            [
             0.6666666666666666,
             "#ed7953"
            ],
            [
             0.7777777777777778,
             "#fb9f3a"
            ],
            [
             0.8888888888888888,
             "#fdca26"
            ],
            [
             1,
             "#f0f921"
            ]
           ]
          },
          "colorway": [
           "#636efa",
           "#EF553B",
           "#00cc96",
           "#ab63fa",
           "#FFA15A",
           "#19d3f3",
           "#FF6692",
           "#B6E880",
           "#FF97FF",
           "#FECB52"
          ],
          "font": {
           "color": "#2a3f5f"
          },
          "geo": {
           "bgcolor": "white",
           "lakecolor": "white",
           "landcolor": "#E5ECF6",
           "showlakes": true,
           "showland": true,
           "subunitcolor": "white"
          },
          "hoverlabel": {
           "align": "left"
          },
          "hovermode": "closest",
          "mapbox": {
           "style": "light"
          },
          "paper_bgcolor": "white",
          "plot_bgcolor": "#E5ECF6",
          "polar": {
           "angularaxis": {
            "gridcolor": "white",
            "linecolor": "white",
            "ticks": ""
           },
           "bgcolor": "#E5ECF6",
           "radialaxis": {
            "gridcolor": "white",
            "linecolor": "white",
            "ticks": ""
           }
          },
          "scene": {
           "xaxis": {
            "backgroundcolor": "#E5ECF6",
            "gridcolor": "white",
            "gridwidth": 2,
            "linecolor": "white",
            "showbackground": true,
            "ticks": "",
            "zerolinecolor": "white"
           },
           "yaxis": {
            "backgroundcolor": "#E5ECF6",
            "gridcolor": "white",
            "gridwidth": 2,
            "linecolor": "white",
            "showbackground": true,
            "ticks": "",
            "zerolinecolor": "white"
           },
           "zaxis": {
            "backgroundcolor": "#E5ECF6",
            "gridcolor": "white",
            "gridwidth": 2,
            "linecolor": "white",
            "showbackground": true,
            "ticks": "",
            "zerolinecolor": "white"
           }
          },
          "shapedefaults": {
           "line": {
            "color": "#2a3f5f"
           }
          },
          "ternary": {
           "aaxis": {
            "gridcolor": "white",
            "linecolor": "white",
            "ticks": ""
           },
           "baxis": {
            "gridcolor": "white",
            "linecolor": "white",
            "ticks": ""
           },
           "bgcolor": "#E5ECF6",
           "caxis": {
            "gridcolor": "white",
            "linecolor": "white",
            "ticks": ""
           }
          },
          "title": {
           "x": 0.05
          },
          "xaxis": {
           "automargin": true,
           "gridcolor": "white",
           "linecolor": "white",
           "ticks": "",
           "title": {
            "standoff": 15
           },
           "zerolinecolor": "white",
           "zerolinewidth": 2
          },
          "yaxis": {
           "automargin": true,
           "gridcolor": "white",
           "linecolor": "white",
           "ticks": "",
           "title": {
            "standoff": 15
           },
           "zerolinecolor": "white",
           "zerolinewidth": 2
          }
         }
        },
        "title": {
         "text": "지역별 확진자 변화(서울 한정)-달 초/말 로 나눔",
         "x": 0.5,
         "xanchor": "center",
         "y": 1,
         "yanchor": "top"
        },
        "xaxis": {
         "anchor": "y",
         "domain": [
          0,
          1
         ],
         "title": {
          "text": "confirmed_date"
         }
        },
        "yaxis": {
         "anchor": "x",
         "domain": [
          0,
          1
         ],
         "title": {
          "text": "cnt"
         }
        }
       }
      },
      "text/html": [
       "<div>\n",
       "        \n",
       "        \n",
       "            <div id=\"259a8d90-5a88-4246-9ab1-e96af9f3430e\" class=\"plotly-graph-div\" style=\"height:525px; width:100%;\"></div>\n",
       "            <script type=\"text/javascript\">\n",
       "                require([\"plotly\"], function(Plotly) {\n",
       "                    window.PLOTLYENV=window.PLOTLYENV || {};\n",
       "                    \n",
       "                if (document.getElementById(\"259a8d90-5a88-4246-9ab1-e96af9f3430e\")) {\n",
       "                    Plotly.newPlot(\n",
       "                        '259a8d90-5a88-4246-9ab1-e96af9f3430e',\n",
       "                        [{\"hovertemplate\": \"total_ads=\\uc11c\\uc6b8 \\uac15\\uc11c\\uad6c<br>confirmed_date=%{x}<br>cnt=%{y}<extra></extra>\", \"legendgroup\": \"\\uc11c\\uc6b8 \\uac15\\uc11c\\uad6c\", \"line\": {\"color\": \"#636efa\", \"dash\": \"solid\"}, \"mode\": \"lines\", \"name\": \"\\uc11c\\uc6b8 \\uac15\\uc11c\\uad6c\", \"orientation\": \"v\", \"showlegend\": true, \"type\": \"scatter\", \"x\": [\"1_2\", \"2_1\", \"3_1\", \"3_2\", \"4_1\", \"4_2\", \"5_1\", \"5_2\", \"6_1\", \"6_2\"], \"xaxis\": \"x\", \"y\": [1, 1, 12, 8, 3, 1, 5, 14, 24, 9], \"yaxis\": \"y\"}, {\"hovertemplate\": \"total_ads=\\uc11c\\uc6b8 \\ub9c8\\ud3ec\\uad6c<br>confirmed_date=%{x}<br>cnt=%{y}<extra></extra>\", \"legendgroup\": \"\\uc11c\\uc6b8 \\ub9c8\\ud3ec\\uad6c\", \"line\": {\"color\": \"#EF553B\", \"dash\": \"solid\"}, \"mode\": \"lines\", \"name\": \"\\uc11c\\uc6b8 \\ub9c8\\ud3ec\\uad6c\", \"orientation\": \"v\", \"showlegend\": true, \"type\": \"scatter\", \"x\": [\"1_2\", \"3_1\", \"3_2\", \"4_1\", \"4_2\", \"5_2\", \"6_1\", \"6_2\"], \"xaxis\": \"x\", \"y\": [1, 7, 9, 5, 2, 3, 4, 7], \"yaxis\": \"y\"}, {\"hovertemplate\": \"total_ads=\\uc11c\\uc6b8 \\uc131\\ubd81\\uad6c<br>confirmed_date=%{x}<br>cnt=%{y}<extra></extra>\", \"legendgroup\": \"\\uc11c\\uc6b8 \\uc131\\ubd81\\uad6c\", \"line\": {\"color\": \"#00cc96\", \"dash\": \"solid\"}, \"mode\": \"lines\", \"name\": \"\\uc11c\\uc6b8 \\uc131\\ubd81\\uad6c\", \"orientation\": \"v\", \"showlegend\": true, \"type\": \"scatter\", \"x\": [\"1_2\", \"2_1\", \"2_1\", \"3_1\", \"3_2\", \"4_1\", \"4_2\", \"5_1\", \"5_2\", \"6_1\", \"6_2\"], \"xaxis\": \"x\", \"y\": [1, 1, 1, 7, 6, 7, 2, 3, 2, 2, 2], \"yaxis\": \"y\"}, {\"hovertemplate\": \"total_ads=\\uc11c\\uc6b8 \\uc885\\ub85c\\uad6c<br>confirmed_date=%{x}<br>cnt=%{y}<extra></extra>\", \"legendgroup\": \"\\uc11c\\uc6b8 \\uc885\\ub85c\\uad6c\", \"line\": {\"color\": \"#ab63fa\", \"dash\": \"solid\"}, \"mode\": \"lines\", \"name\": \"\\uc11c\\uc6b8 \\uc885\\ub85c\\uad6c\", \"orientation\": \"v\", \"showlegend\": true, \"type\": \"scatter\", \"x\": [\"1_2\", \"2_1\", \"3_2\", \"4_1\", \"5_1\", \"5_2\", \"6_1\", \"6_2\"], \"xaxis\": \"x\", \"y\": [3, 8, 4, 1, 1, 2, 2, 1], \"yaxis\": \"y\"}, {\"hovertemplate\": \"total_ads=\\uc11c\\uc6b8 \\uc911\\ub791\\uad6c<br>confirmed_date=%{x}<br>cnt=%{y}<extra></extra>\", \"legendgroup\": \"\\uc11c\\uc6b8 \\uc911\\ub791\\uad6c\", \"line\": {\"color\": \"#FFA15A\", \"dash\": \"solid\"}, \"mode\": \"lines\", \"name\": \"\\uc11c\\uc6b8 \\uc911\\ub791\\uad6c\", \"orientation\": \"v\", \"showlegend\": true, \"type\": \"scatter\", \"x\": [\"1_2\", \"3_1\", \"3_2\", \"4_1\", \"5_1\", \"5_2\", \"6_1\", \"6_2\"], \"xaxis\": \"x\", \"y\": [1, 4, 8, 3, 1, 2, 8, 6], \"yaxis\": \"y\"}, {\"hovertemplate\": \"total_ads=\\uc11c\\uc6b8 \\uae30\\ud0c0<br>confirmed_date=%{x}<br>cnt=%{y}<extra></extra>\", \"legendgroup\": \"\\uc11c\\uc6b8 \\uae30\\ud0c0\", \"line\": {\"color\": \"#19d3f3\", \"dash\": \"solid\"}, \"mode\": \"lines\", \"name\": \"\\uc11c\\uc6b8 \\uae30\\ud0c0\", \"orientation\": \"v\", \"showlegend\": true, \"type\": \"scatter\", \"x\": [\"2_1\", \"2_1\", \"3_1\", \"3_2\", \"4_1\", \"4_2\", \"5_1\", \"5_2\", \"6_1\", \"6_2\"], \"xaxis\": \"x\", \"y\": [2, 9, 8, 14, 10, 2, 3, 9, 14, 11], \"yaxis\": \"y\"}, {\"hovertemplate\": \"total_ads=\\uc11c\\uc6b8 \\uc11c\\ub300\\ubb38\\uad6c<br>confirmed_date=%{x}<br>cnt=%{y}<extra></extra>\", \"legendgroup\": \"\\uc11c\\uc6b8 \\uc11c\\ub300\\ubb38\\uad6c\", \"line\": {\"color\": \"#FF6692\", \"dash\": \"solid\"}, \"mode\": \"lines\", \"name\": \"\\uc11c\\uc6b8 \\uc11c\\ub300\\ubb38\\uad6c\", \"orientation\": \"v\", \"showlegend\": true, \"type\": \"scatter\", \"x\": [\"2_1\", \"2_1\", \"3_1\", \"3_2\", \"4_1\", \"4_2\", \"5_1\", \"5_2\", \"6_1\", \"6_2\"], \"xaxis\": \"x\", \"y\": [1, 4, 2, 8, 5, 1, 3, 5, 6, 2], \"yaxis\": \"y\"}, {\"hovertemplate\": \"total_ads=\\uc11c\\uc6b8 \\uc1a1\\ud30c\\uad6c<br>confirmed_date=%{x}<br>cnt=%{y}<extra></extra>\", \"legendgroup\": \"\\uc11c\\uc6b8 \\uc1a1\\ud30c\\uad6c\", \"line\": {\"color\": \"#B6E880\", \"dash\": \"solid\"}, \"mode\": \"lines\", \"name\": \"\\uc11c\\uc6b8 \\uc1a1\\ud30c\\uad6c\", \"orientation\": \"v\", \"showlegend\": true, \"type\": \"scatter\", \"x\": [\"2_1\", \"2_1\", \"3_1\", \"3_2\", \"4_1\", \"5_1\", \"5_2\", \"6_1\", \"6_2\"], \"xaxis\": \"x\", \"y\": [1, 11, 4, 12, 10, 5, 6, 3, 4], \"yaxis\": \"y\"}, {\"hovertemplate\": \"total_ads=\\uc11c\\uc6b8 \\uac15\\ub0a8\\uad6c<br>confirmed_date=%{x}<br>cnt=%{y}<extra></extra>\", \"legendgroup\": \"\\uc11c\\uc6b8 \\uac15\\ub0a8\\uad6c\", \"line\": {\"color\": \"#FF97FF\", \"dash\": \"solid\"}, \"mode\": \"lines\", \"name\": \"\\uc11c\\uc6b8 \\uac15\\ub0a8\\uad6c\", \"orientation\": \"v\", \"showlegend\": true, \"type\": \"scatter\", \"x\": [\"2_1\", \"3_1\", \"3_2\", \"4_1\", \"4_2\", \"5_1\", \"5_2\", \"6_1\", \"6_2\"], \"xaxis\": \"x\", \"y\": [7, 7, 27, 18, 5, 7, 4, 3, 5], \"yaxis\": \"y\"}, {\"hovertemplate\": \"total_ads=\\uc11c\\uc6b8 \\uac15\\ub3d9\\uad6c<br>confirmed_date=%{x}<br>cnt=%{y}<extra></extra>\", \"legendgroup\": \"\\uc11c\\uc6b8 \\uac15\\ub3d9\\uad6c\", \"line\": {\"color\": \"#FECB52\", \"dash\": \"solid\"}, \"mode\": \"lines\", \"name\": \"\\uc11c\\uc6b8 \\uac15\\ub3d9\\uad6c\", \"orientation\": \"v\", \"showlegend\": true, \"type\": \"scatter\", \"x\": [\"2_1\", \"3_1\", \"3_2\", \"4_1\", \"5_1\", \"5_2\", \"6_1\", \"6_2\"], \"xaxis\": \"x\", \"y\": [4, 1, 5, 3, 6, 5, 9, 2], \"yaxis\": \"y\"}, {\"hovertemplate\": \"total_ads=\\uc11c\\uc6b8 \\uad00\\uc545\\uad6c<br>confirmed_date=%{x}<br>cnt=%{y}<extra></extra>\", \"legendgroup\": \"\\uc11c\\uc6b8 \\uad00\\uc545\\uad6c\", \"line\": {\"color\": \"#636efa\", \"dash\": \"solid\"}, \"mode\": \"lines\", \"name\": \"\\uc11c\\uc6b8 \\uad00\\uc545\\uad6c\", \"orientation\": \"v\", \"showlegend\": true, \"type\": \"scatter\", \"x\": [\"2_1\", \"3_1\", \"3_2\", \"4_1\", \"4_2\", \"5_1\", \"5_2\", \"6_1\", \"6_2\"], \"xaxis\": \"x\", \"y\": [4, 11, 19, 8, 1, 10, 6, 18, 36], \"yaxis\": \"y\"}, {\"hovertemplate\": \"total_ads=\\uc11c\\uc6b8 \\uad11\\uc9c4\\uad6c<br>confirmed_date=%{x}<br>cnt=%{y}<extra></extra>\", \"legendgroup\": \"\\uc11c\\uc6b8 \\uad11\\uc9c4\\uad6c\", \"line\": {\"color\": \"#EF553B\", \"dash\": \"solid\"}, \"mode\": \"lines\", \"name\": \"\\uc11c\\uc6b8 \\uad11\\uc9c4\\uad6c\", \"orientation\": \"v\", \"showlegend\": true, \"type\": \"scatter\", \"x\": [\"2_1\", \"3_1\", \"3_2\", \"4_1\", \"5_1\", \"5_2\", \"6_1\", \"6_2\"], \"xaxis\": \"x\", \"y\": [1, 1, 4, 2, 4, 2, 1, 2], \"yaxis\": \"y\"}, {\"hovertemplate\": \"total_ads=\\uc11c\\uc6b8 \\uad6c\\ub85c\\uad6c<br>confirmed_date=%{x}<br>cnt=%{y}<extra></extra>\", \"legendgroup\": \"\\uc11c\\uc6b8 \\uad6c\\ub85c\\uad6c\", \"line\": {\"color\": \"#00cc96\", \"dash\": \"solid\"}, \"mode\": \"lines\", \"name\": \"\\uc11c\\uc6b8 \\uad6c\\ub85c\\uad6c\", \"orientation\": \"v\", \"showlegend\": true, \"type\": \"scatter\", \"x\": [\"2_1\", \"3_1\", \"3_2\", \"4_1\", \"5_2\", \"6_1\", \"6_2\"], \"xaxis\": \"x\", \"y\": [1, 19, 13, 1, 6, 34, 11], \"yaxis\": \"y\"}, {\"hovertemplate\": \"total_ads=\\uc11c\\uc6b8 \\uae08\\ucc9c\\uad6c<br>confirmed_date=%{x}<br>cnt=%{y}<extra></extra>\", \"legendgroup\": \"\\uc11c\\uc6b8 \\uae08\\ucc9c\\uad6c\", \"line\": {\"color\": \"#ab63fa\", \"dash\": \"solid\"}, \"mode\": \"lines\", \"name\": \"\\uc11c\\uc6b8 \\uae08\\ucc9c\\uad6c\", \"orientation\": \"v\", \"showlegend\": true, \"type\": \"scatter\", \"x\": [\"2_1\", \"3_1\", \"3_2\", \"5_1\", \"5_2\", \"6_1\", \"6_2\"], \"xaxis\": \"x\", \"y\": [1, 4, 8, 1, 2, 14, 2], \"yaxis\": \"y\"}, {\"hovertemplate\": \"total_ads=\\uc11c\\uc6b8 \\ub178\\uc6d0\\uad6c<br>confirmed_date=%{x}<br>cnt=%{y}<extra></extra>\", \"legendgroup\": \"\\uc11c\\uc6b8 \\ub178\\uc6d0\\uad6c\", \"line\": {\"color\": \"#FFA15A\", \"dash\": \"solid\"}, \"mode\": \"lines\", \"name\": \"\\uc11c\\uc6b8 \\ub178\\uc6d0\\uad6c\", \"orientation\": \"v\", \"showlegend\": true, \"type\": \"scatter\", \"x\": [\"2_1\", \"3_1\", \"3_2\", \"4_1\", \"5_1\", \"5_2\", \"6_1\", \"6_2\"], \"xaxis\": \"x\", \"y\": [8, 7, 5, 3, 2, 6, 6, 6], \"yaxis\": \"y\"}, {\"hovertemplate\": \"total_ads=\\uc11c\\uc6b8 \\ub3d9\\uad6c \\uad6c<br>confirmed_date=%{x}<br>cnt=%{y}<extra></extra>\", \"legendgroup\": \"\\uc11c\\uc6b8 \\ub3d9\\uad6c \\uad6c\", \"line\": {\"color\": \"#19d3f3\", \"dash\": \"solid\"}, \"mode\": \"lines\", \"name\": \"\\uc11c\\uc6b8 \\ub3d9\\uad6c \\uad6c\", \"orientation\": \"v\", \"showlegend\": true, \"type\": \"scatter\", \"x\": [\"2_1\", \"3_1\", \"3_2\", \"4_1\", \"5_1\", \"5_2\", \"6_1\", \"6_2\"], \"xaxis\": \"x\", \"y\": [1, 5, 18, 7, 6, 3, 6, 7], \"yaxis\": \"y\"}, {\"hovertemplate\": \"total_ads=\\uc11c\\uc6b8 \\ub3d9\\ub300\\ubb38\\uad6c<br>confirmed_date=%{x}<br>cnt=%{y}<extra></extra>\", \"legendgroup\": \"\\uc11c\\uc6b8 \\ub3d9\\ub300\\ubb38\\uad6c\", \"line\": {\"color\": \"#FF6692\", \"dash\": \"solid\"}, \"mode\": \"lines\", \"name\": \"\\uc11c\\uc6b8 \\ub3d9\\ub300\\ubb38\\uad6c\", \"orientation\": \"v\", \"showlegend\": true, \"type\": \"scatter\", \"x\": [\"2_1\", \"3_1\", \"3_2\", \"4_1\", \"5_1\", \"6_1\", \"6_2\"], \"xaxis\": \"x\", \"y\": [1, 21, 4, 5, 3, 1, 3], \"yaxis\": \"y\"}, {\"hovertemplate\": \"total_ads=\\uc11c\\uc6b8 \\uc11c\\ucd08\\uad6c<br>confirmed_date=%{x}<br>cnt=%{y}<extra></extra>\", \"legendgroup\": \"\\uc11c\\uc6b8 \\uc11c\\ucd08\\uad6c\", \"line\": {\"color\": \"#B6E880\", \"dash\": \"solid\"}, \"mode\": \"lines\", \"name\": \"\\uc11c\\uc6b8 \\uc11c\\ucd08\\uad6c\", \"orientation\": \"v\", \"showlegend\": true, \"type\": \"scatter\", \"x\": [\"2_1\", \"3_1\", \"3_2\", \"4_1\", \"5_1\", \"5_2\", \"6_1\", \"6_2\"], \"xaxis\": \"x\", \"y\": [4, 5, 15, 13, 2, 2, 7, 7], \"yaxis\": \"y\"}, {\"hovertemplate\": \"total_ads=\\uc11c\\uc6b8 \\uc131\\ub3d9\\uad6c<br>confirmed_date=%{x}<br>cnt=%{y}<extra></extra>\", \"legendgroup\": \"\\uc11c\\uc6b8 \\uc131\\ub3d9\\uad6c\", \"line\": {\"color\": \"#FF97FF\", \"dash\": \"solid\"}, \"mode\": \"lines\", \"name\": \"\\uc11c\\uc6b8 \\uc131\\ub3d9\\uad6c\", \"orientation\": \"v\", \"showlegend\": true, \"type\": \"scatter\", \"x\": [\"2_1\", \"3_2\", \"4_1\", \"5_1\", \"5_2\", \"6_1\", \"6_2\"], \"xaxis\": \"x\", \"y\": [3, 3, 13, 3, 18, 7, 2], \"yaxis\": \"y\"}, {\"hovertemplate\": \"total_ads=\\uc11c\\uc6b8 \\uc591\\ucc9c\\uad6c<br>confirmed_date=%{x}<br>cnt=%{y}<extra></extra>\", \"legendgroup\": \"\\uc11c\\uc6b8 \\uc591\\ucc9c\\uad6c\", \"line\": {\"color\": \"#FECB52\", \"dash\": \"solid\"}, \"mode\": \"lines\", \"name\": \"\\uc11c\\uc6b8 \\uc591\\ucc9c\\uad6c\", \"orientation\": \"v\", \"showlegend\": true, \"type\": \"scatter\", \"x\": [\"2_1\", \"3_1\", \"3_2\", \"4_1\", \"5_1\", \"5_2\", \"6_1\", \"6_2\"], \"xaxis\": \"x\", \"y\": [1, 13, 4, 4, 2, 4, 38, 5], \"yaxis\": \"y\"}, {\"hovertemplate\": \"total_ads=\\uc11c\\uc6b8 \\uc601\\ub4f1\\ud3ec\\uad6c<br>confirmed_date=%{x}<br>cnt=%{y}<extra></extra>\", \"legendgroup\": \"\\uc11c\\uc6b8 \\uc601\\ub4f1\\ud3ec\\uad6c\", \"line\": {\"color\": \"#636efa\", \"dash\": \"solid\"}, \"mode\": \"lines\", \"name\": \"\\uc11c\\uc6b8 \\uc601\\ub4f1\\ud3ec\\uad6c\", \"orientation\": \"v\", \"showlegend\": true, \"type\": \"scatter\", \"x\": [\"2_1\", \"3_1\", \"3_2\", \"4_1\", \"5_1\", \"5_2\", \"6_1\", \"6_2\"], \"xaxis\": \"x\", \"y\": [2, 10, 8, 4, 2, 9, 15, 12], \"yaxis\": \"y\"}, {\"hovertemplate\": \"total_ads=\\uc11c\\uc6b8 \\uc740\\ud3c9\\uad6c<br>confirmed_date=%{x}<br>cnt=%{y}<extra></extra>\", \"legendgroup\": \"\\uc11c\\uc6b8 \\uc740\\ud3c9\\uad6c\", \"line\": {\"color\": \"#EF553B\", \"dash\": \"solid\"}, \"mode\": \"lines\", \"name\": \"\\uc11c\\uc6b8 \\uc740\\ud3c9\\uad6c\", \"orientation\": \"v\", \"showlegend\": true, \"type\": \"scatter\", \"x\": [\"2_1\", \"3_1\", \"3_2\", \"4_1\", \"5_1\", \"5_2\", \"6_1\", \"6_2\"], \"xaxis\": \"x\", \"y\": [7, 10, 4, 7, 2, 5, 9, 9], \"yaxis\": \"y\"}, {\"hovertemplate\": \"total_ads=\\uc11c\\uc6b8 \\uac15\\ubd81\\uad6c<br>confirmed_date=%{x}<br>cnt=%{y}<extra></extra>\", \"legendgroup\": \"\\uc11c\\uc6b8 \\uac15\\ubd81\\uad6c\", \"line\": {\"color\": \"#00cc96\", \"dash\": \"solid\"}, \"mode\": \"lines\", \"name\": \"\\uc11c\\uc6b8 \\uac15\\ubd81\\uad6c\", \"orientation\": \"v\", \"showlegend\": true, \"type\": \"scatter\", \"x\": [\"3_1\", \"5_1\", \"5_2\", \"6_1\", \"6_2\"], \"xaxis\": \"x\", \"y\": [5, 3, 6, 9, 1], \"yaxis\": \"y\"}, {\"hovertemplate\": \"total_ads=\\uc11c\\uc6b8 \\ub3c4\\ubd09\\uad6c<br>confirmed_date=%{x}<br>cnt=%{y}<extra></extra>\", \"legendgroup\": \"\\uc11c\\uc6b8 \\ub3c4\\ubd09\\uad6c\", \"line\": {\"color\": \"#ab63fa\", \"dash\": \"solid\"}, \"mode\": \"lines\", \"name\": \"\\uc11c\\uc6b8 \\ub3c4\\ubd09\\uad6c\", \"orientation\": \"v\", \"showlegend\": true, \"type\": \"scatter\", \"x\": [\"3_1\", \"3_2\", \"4_1\", \"5_1\", \"5_2\", \"6_1\", \"6_2\"], \"xaxis\": \"x\", \"y\": [2, 4, 3, 5, 5, 19, 24], \"yaxis\": \"y\"}, {\"hovertemplate\": \"total_ads=\\uc11c\\uc6b8 \\uc6a9\\uc0b0\\uad6c<br>confirmed_date=%{x}<br>cnt=%{y}<extra></extra>\", \"legendgroup\": \"\\uc11c\\uc6b8 \\uc6a9\\uc0b0\\uad6c\", \"line\": {\"color\": \"#FFA15A\", \"dash\": \"solid\"}, \"mode\": \"lines\", \"name\": \"\\uc11c\\uc6b8 \\uc6a9\\uc0b0\\uad6c\", \"orientation\": \"v\", \"showlegend\": true, \"type\": \"scatter\", \"x\": [\"3_1\", \"3_2\", \"4_1\", \"4_2\", \"5_1\", \"5_2\", \"6_1\", \"6_2\"], \"xaxis\": \"x\", \"y\": [2, 10, 5, 1, 16, 4, 10, 2], \"yaxis\": \"y\"}, {\"hovertemplate\": \"total_ads=\\uc11c\\uc6b8 \\uc911\\uad6c<br>confirmed_date=%{x}<br>cnt=%{y}<extra></extra>\", \"legendgroup\": \"\\uc11c\\uc6b8 \\uc911\\uad6c\", \"line\": {\"color\": \"#19d3f3\", \"dash\": \"solid\"}, \"mode\": \"lines\", \"name\": \"\\uc11c\\uc6b8 \\uc911\\uad6c\", \"orientation\": \"v\", \"showlegend\": true, \"type\": \"scatter\", \"x\": [\"3_1\", \"3_2\", \"4_1\", \"5_1\", \"5_2\", \"6_1\", \"6_2\"], \"xaxis\": \"x\", \"y\": [1, 4, 1, 2, 1, 1, 2], \"yaxis\": \"y\"}],\n",
       "                        {\"legend\": {\"title\": {\"text\": \"total_ads\"}, \"tracegroupgap\": 0}, \"margin\": {\"t\": 60}, \"template\": {\"data\": {\"bar\": [{\"error_x\": {\"color\": \"#2a3f5f\"}, \"error_y\": {\"color\": \"#2a3f5f\"}, \"marker\": {\"line\": {\"color\": \"#E5ECF6\", \"width\": 0.5}}, \"type\": \"bar\"}], \"barpolar\": [{\"marker\": {\"line\": {\"color\": \"#E5ECF6\", \"width\": 0.5}}, \"type\": \"barpolar\"}], \"carpet\": [{\"aaxis\": {\"endlinecolor\": \"#2a3f5f\", \"gridcolor\": \"white\", \"linecolor\": \"white\", \"minorgridcolor\": \"white\", \"startlinecolor\": \"#2a3f5f\"}, \"baxis\": {\"endlinecolor\": \"#2a3f5f\", \"gridcolor\": \"white\", \"linecolor\": \"white\", \"minorgridcolor\": \"white\", \"startlinecolor\": \"#2a3f5f\"}, \"type\": \"carpet\"}], \"choropleth\": [{\"colorbar\": {\"outlinewidth\": 0, \"ticks\": \"\"}, \"type\": \"choropleth\"}], \"contour\": [{\"colorbar\": {\"outlinewidth\": 0, \"ticks\": \"\"}, \"colorscale\": [[0.0, \"#0d0887\"], [0.1111111111111111, \"#46039f\"], [0.2222222222222222, \"#7201a8\"], [0.3333333333333333, \"#9c179e\"], [0.4444444444444444, \"#bd3786\"], [0.5555555555555556, \"#d8576b\"], [0.6666666666666666, \"#ed7953\"], [0.7777777777777778, \"#fb9f3a\"], [0.8888888888888888, \"#fdca26\"], [1.0, \"#f0f921\"]], \"type\": \"contour\"}], \"contourcarpet\": [{\"colorbar\": {\"outlinewidth\": 0, \"ticks\": \"\"}, \"type\": \"contourcarpet\"}], \"heatmap\": [{\"colorbar\": {\"outlinewidth\": 0, \"ticks\": \"\"}, \"colorscale\": [[0.0, \"#0d0887\"], [0.1111111111111111, \"#46039f\"], [0.2222222222222222, \"#7201a8\"], [0.3333333333333333, \"#9c179e\"], [0.4444444444444444, \"#bd3786\"], [0.5555555555555556, \"#d8576b\"], [0.6666666666666666, \"#ed7953\"], [0.7777777777777778, \"#fb9f3a\"], [0.8888888888888888, \"#fdca26\"], [1.0, \"#f0f921\"]], \"type\": \"heatmap\"}], \"heatmapgl\": [{\"colorbar\": {\"outlinewidth\": 0, \"ticks\": \"\"}, \"colorscale\": [[0.0, \"#0d0887\"], [0.1111111111111111, \"#46039f\"], [0.2222222222222222, \"#7201a8\"], [0.3333333333333333, \"#9c179e\"], [0.4444444444444444, \"#bd3786\"], [0.5555555555555556, \"#d8576b\"], [0.6666666666666666, \"#ed7953\"], [0.7777777777777778, \"#fb9f3a\"], [0.8888888888888888, \"#fdca26\"], [1.0, \"#f0f921\"]], \"type\": \"heatmapgl\"}], \"histogram\": [{\"marker\": {\"colorbar\": {\"outlinewidth\": 0, \"ticks\": \"\"}}, \"type\": \"histogram\"}], \"histogram2d\": [{\"colorbar\": {\"outlinewidth\": 0, \"ticks\": \"\"}, \"colorscale\": [[0.0, \"#0d0887\"], [0.1111111111111111, \"#46039f\"], [0.2222222222222222, \"#7201a8\"], [0.3333333333333333, \"#9c179e\"], [0.4444444444444444, \"#bd3786\"], [0.5555555555555556, \"#d8576b\"], [0.6666666666666666, \"#ed7953\"], [0.7777777777777778, \"#fb9f3a\"], [0.8888888888888888, \"#fdca26\"], [1.0, \"#f0f921\"]], \"type\": \"histogram2d\"}], \"histogram2dcontour\": [{\"colorbar\": {\"outlinewidth\": 0, \"ticks\": \"\"}, \"colorscale\": [[0.0, \"#0d0887\"], [0.1111111111111111, \"#46039f\"], [0.2222222222222222, \"#7201a8\"], [0.3333333333333333, \"#9c179e\"], [0.4444444444444444, \"#bd3786\"], [0.5555555555555556, \"#d8576b\"], [0.6666666666666666, \"#ed7953\"], [0.7777777777777778, \"#fb9f3a\"], [0.8888888888888888, \"#fdca26\"], [1.0, \"#f0f921\"]], \"type\": \"histogram2dcontour\"}], \"mesh3d\": [{\"colorbar\": {\"outlinewidth\": 0, \"ticks\": \"\"}, \"type\": \"mesh3d\"}], \"parcoords\": [{\"line\": {\"colorbar\": {\"outlinewidth\": 0, \"ticks\": \"\"}}, \"type\": \"parcoords\"}], \"pie\": [{\"automargin\": true, \"type\": \"pie\"}], \"scatter\": [{\"marker\": {\"colorbar\": {\"outlinewidth\": 0, \"ticks\": \"\"}}, \"type\": \"scatter\"}], \"scatter3d\": [{\"line\": {\"colorbar\": {\"outlinewidth\": 0, \"ticks\": \"\"}}, \"marker\": {\"colorbar\": {\"outlinewidth\": 0, \"ticks\": \"\"}}, \"type\": \"scatter3d\"}], \"scattercarpet\": [{\"marker\": {\"colorbar\": {\"outlinewidth\": 0, \"ticks\": \"\"}}, \"type\": \"scattercarpet\"}], \"scattergeo\": [{\"marker\": {\"colorbar\": {\"outlinewidth\": 0, \"ticks\": \"\"}}, \"type\": \"scattergeo\"}], \"scattergl\": [{\"marker\": {\"colorbar\": {\"outlinewidth\": 0, \"ticks\": \"\"}}, \"type\": \"scattergl\"}], \"scattermapbox\": [{\"marker\": {\"colorbar\": {\"outlinewidth\": 0, \"ticks\": \"\"}}, \"type\": \"scattermapbox\"}], \"scatterpolar\": [{\"marker\": {\"colorbar\": {\"outlinewidth\": 0, \"ticks\": \"\"}}, \"type\": \"scatterpolar\"}], \"scatterpolargl\": [{\"marker\": {\"colorbar\": {\"outlinewidth\": 0, \"ticks\": \"\"}}, \"type\": \"scatterpolargl\"}], \"scatterternary\": [{\"marker\": {\"colorbar\": {\"outlinewidth\": 0, \"ticks\": \"\"}}, \"type\": \"scatterternary\"}], \"surface\": [{\"colorbar\": {\"outlinewidth\": 0, \"ticks\": \"\"}, \"colorscale\": [[0.0, \"#0d0887\"], [0.1111111111111111, \"#46039f\"], [0.2222222222222222, \"#7201a8\"], [0.3333333333333333, \"#9c179e\"], [0.4444444444444444, \"#bd3786\"], [0.5555555555555556, \"#d8576b\"], [0.6666666666666666, \"#ed7953\"], [0.7777777777777778, \"#fb9f3a\"], [0.8888888888888888, \"#fdca26\"], [1.0, \"#f0f921\"]], \"type\": \"surface\"}], \"table\": [{\"cells\": {\"fill\": {\"color\": \"#EBF0F8\"}, \"line\": {\"color\": \"white\"}}, \"header\": {\"fill\": {\"color\": \"#C8D4E3\"}, \"line\": {\"color\": \"white\"}}, \"type\": \"table\"}]}, \"layout\": {\"annotationdefaults\": {\"arrowcolor\": \"#2a3f5f\", \"arrowhead\": 0, \"arrowwidth\": 1}, \"coloraxis\": {\"colorbar\": {\"outlinewidth\": 0, \"ticks\": \"\"}}, \"colorscale\": {\"diverging\": [[0, \"#8e0152\"], [0.1, \"#c51b7d\"], [0.2, \"#de77ae\"], [0.3, \"#f1b6da\"], [0.4, \"#fde0ef\"], [0.5, \"#f7f7f7\"], [0.6, \"#e6f5d0\"], [0.7, \"#b8e186\"], [0.8, \"#7fbc41\"], [0.9, \"#4d9221\"], [1, \"#276419\"]], \"sequential\": [[0.0, \"#0d0887\"], [0.1111111111111111, \"#46039f\"], [0.2222222222222222, \"#7201a8\"], [0.3333333333333333, \"#9c179e\"], [0.4444444444444444, \"#bd3786\"], [0.5555555555555556, \"#d8576b\"], [0.6666666666666666, \"#ed7953\"], [0.7777777777777778, \"#fb9f3a\"], [0.8888888888888888, \"#fdca26\"], [1.0, \"#f0f921\"]], \"sequentialminus\": [[0.0, \"#0d0887\"], [0.1111111111111111, \"#46039f\"], [0.2222222222222222, \"#7201a8\"], [0.3333333333333333, \"#9c179e\"], [0.4444444444444444, \"#bd3786\"], [0.5555555555555556, \"#d8576b\"], [0.6666666666666666, \"#ed7953\"], [0.7777777777777778, \"#fb9f3a\"], [0.8888888888888888, \"#fdca26\"], [1.0, \"#f0f921\"]]}, \"colorway\": [\"#636efa\", \"#EF553B\", \"#00cc96\", \"#ab63fa\", \"#FFA15A\", \"#19d3f3\", \"#FF6692\", \"#B6E880\", \"#FF97FF\", \"#FECB52\"], \"font\": {\"color\": \"#2a3f5f\"}, \"geo\": {\"bgcolor\": \"white\", \"lakecolor\": \"white\", \"landcolor\": \"#E5ECF6\", \"showlakes\": true, \"showland\": true, \"subunitcolor\": \"white\"}, \"hoverlabel\": {\"align\": \"left\"}, \"hovermode\": \"closest\", \"mapbox\": {\"style\": \"light\"}, \"paper_bgcolor\": \"white\", \"plot_bgcolor\": \"#E5ECF6\", \"polar\": {\"angularaxis\": {\"gridcolor\": \"white\", \"linecolor\": \"white\", \"ticks\": \"\"}, \"bgcolor\": \"#E5ECF6\", \"radialaxis\": {\"gridcolor\": \"white\", \"linecolor\": \"white\", \"ticks\": \"\"}}, \"scene\": {\"xaxis\": {\"backgroundcolor\": \"#E5ECF6\", \"gridcolor\": \"white\", \"gridwidth\": 2, \"linecolor\": \"white\", \"showbackground\": true, \"ticks\": \"\", \"zerolinecolor\": \"white\"}, \"yaxis\": {\"backgroundcolor\": \"#E5ECF6\", \"gridcolor\": \"white\", \"gridwidth\": 2, \"linecolor\": \"white\", \"showbackground\": true, \"ticks\": \"\", \"zerolinecolor\": \"white\"}, \"zaxis\": {\"backgroundcolor\": \"#E5ECF6\", \"gridcolor\": \"white\", \"gridwidth\": 2, \"linecolor\": \"white\", \"showbackground\": true, \"ticks\": \"\", \"zerolinecolor\": \"white\"}}, \"shapedefaults\": {\"line\": {\"color\": \"#2a3f5f\"}}, \"ternary\": {\"aaxis\": {\"gridcolor\": \"white\", \"linecolor\": \"white\", \"ticks\": \"\"}, \"baxis\": {\"gridcolor\": \"white\", \"linecolor\": \"white\", \"ticks\": \"\"}, \"bgcolor\": \"#E5ECF6\", \"caxis\": {\"gridcolor\": \"white\", \"linecolor\": \"white\", \"ticks\": \"\"}}, \"title\": {\"x\": 0.05}, \"xaxis\": {\"automargin\": true, \"gridcolor\": \"white\", \"linecolor\": \"white\", \"ticks\": \"\", \"title\": {\"standoff\": 15}, \"zerolinecolor\": \"white\", \"zerolinewidth\": 2}, \"yaxis\": {\"automargin\": true, \"gridcolor\": \"white\", \"linecolor\": \"white\", \"ticks\": \"\", \"title\": {\"standoff\": 15}, \"zerolinecolor\": \"white\", \"zerolinewidth\": 2}}}, \"title\": {\"text\": \"\\uc9c0\\uc5ed\\ubcc4 \\ud655\\uc9c4\\uc790 \\ubcc0\\ud654(\\uc11c\\uc6b8 \\ud55c\\uc815)-\\ub2ec \\ucd08/\\ub9d0 \\ub85c \\ub098\\ub214\", \"x\": 0.5, \"xanchor\": \"center\", \"y\": 1, \"yanchor\": \"top\"}, \"xaxis\": {\"anchor\": \"y\", \"domain\": [0.0, 1.0], \"title\": {\"text\": \"confirmed_date\"}}, \"yaxis\": {\"anchor\": \"x\", \"domain\": [0.0, 1.0], \"title\": {\"text\": \"cnt\"}}},\n",
       "                        {\"responsive\": true}\n",
       "                    ).then(function(){\n",
       "                            \n",
       "var gd = document.getElementById('259a8d90-5a88-4246-9ab1-e96af9f3430e');\n",
       "var x = new MutationObserver(function (mutations, observer) {{\n",
       "        var display = window.getComputedStyle(gd).display;\n",
       "        if (!display || display === 'none') {{\n",
       "            console.log([gd, 'removed!']);\n",
       "            Plotly.purge(gd);\n",
       "            observer.disconnect();\n",
       "        }}\n",
       "}});\n",
       "\n",
       "// Listen for the removal of the full notebook cells\n",
       "var notebookContainer = gd.closest('#notebook-container');\n",
       "if (notebookContainer) {{\n",
       "    x.observe(notebookContainer, {childList: true});\n",
       "}}\n",
       "\n",
       "// Listen for the clearing of the current output cell\n",
       "var outputEl = gd.closest('.output');\n",
       "if (outputEl) {{\n",
       "    x.observe(outputEl, {childList: true});\n",
       "}}\n",
       "\n",
       "                        })\n",
       "                };\n",
       "                });\n",
       "            </script>\n",
       "        </div>"
      ]
     },
     "metadata": {},
     "output_type": "display_data"
    }
   ],
   "source": [
    "fig=px.line(patient_seoul_ads,x='confirmed_date',y='cnt',color='total_ads')\n",
    "fig.update_layout(\n",
    "    title={\n",
    "        'text': \"지역별 확진자 변화(서울 한정)-달 초/말 로 나눔\",\n",
    "        'y':1,\n",
    "        'x':0.5,\n",
    "        'xanchor': 'center',\n",
    "        'yanchor': 'top'})\n",
    "fig.show()"
   ]
  },
  {
   "cell_type": "code",
   "execution_count": 52,
   "metadata": {},
   "outputs": [
    {
     "data": {
      "application/vnd.plotly.v1+json": {
       "config": {
        "plotlyServerURL": "https://plot.ly"
       },
       "data": [
        {
         "hovertemplate": "total_ads=서울 강서구<br>confirmed_date=%{x}<br>cnt_sum=%{y}<extra></extra>",
         "legendgroup": "서울 강서구",
         "line": {
          "color": "#636efa",
          "dash": "solid"
         },
         "mode": "lines",
         "name": "서울 강서구",
         "orientation": "v",
         "showlegend": true,
         "type": "scatter",
         "x": [
          "1_2",
          "2_1",
          "3_1",
          "3_2",
          "4_1",
          "4_2",
          "5_1",
          "5_2",
          "6_1",
          "6_2"
         ],
         "xaxis": "x",
         "y": [
          1,
          2,
          14,
          22,
          25,
          26,
          31,
          45,
          69,
          78
         ],
         "yaxis": "y"
        },
        {
         "hovertemplate": "total_ads=서울 마포구<br>confirmed_date=%{x}<br>cnt_sum=%{y}<extra></extra>",
         "legendgroup": "서울 마포구",
         "line": {
          "color": "#EF553B",
          "dash": "solid"
         },
         "mode": "lines",
         "name": "서울 마포구",
         "orientation": "v",
         "showlegend": true,
         "type": "scatter",
         "x": [
          "1_2",
          "3_1",
          "3_2",
          "4_1",
          "4_2",
          "5_2",
          "6_1",
          "6_2"
         ],
         "xaxis": "x",
         "y": [
          1,
          8,
          17,
          22,
          24,
          27,
          31,
          38
         ],
         "yaxis": "y"
        },
        {
         "hovertemplate": "total_ads=서울 성북구<br>confirmed_date=%{x}<br>cnt_sum=%{y}<extra></extra>",
         "legendgroup": "서울 성북구",
         "line": {
          "color": "#00cc96",
          "dash": "solid"
         },
         "mode": "lines",
         "name": "서울 성북구",
         "orientation": "v",
         "showlegend": true,
         "type": "scatter",
         "x": [
          "1_2",
          "2_1",
          "2_1",
          "3_1",
          "3_2",
          "4_1",
          "4_2",
          "5_1",
          "5_2",
          "6_1",
          "6_2"
         ],
         "xaxis": "x",
         "y": [
          1,
          2,
          3,
          10,
          16,
          23,
          25,
          28,
          30,
          32,
          34
         ],
         "yaxis": "y"
        },
        {
         "hovertemplate": "total_ads=서울 종로구<br>confirmed_date=%{x}<br>cnt_sum=%{y}<extra></extra>",
         "legendgroup": "서울 종로구",
         "line": {
          "color": "#ab63fa",
          "dash": "solid"
         },
         "mode": "lines",
         "name": "서울 종로구",
         "orientation": "v",
         "showlegend": true,
         "type": "scatter",
         "x": [
          "1_2",
          "2_1",
          "3_2",
          "4_1",
          "5_1",
          "5_2",
          "6_1",
          "6_2"
         ],
         "xaxis": "x",
         "y": [
          3,
          11,
          15,
          16,
          17,
          19,
          21,
          22
         ],
         "yaxis": "y"
        },
        {
         "hovertemplate": "total_ads=서울 중랑구<br>confirmed_date=%{x}<br>cnt_sum=%{y}<extra></extra>",
         "legendgroup": "서울 중랑구",
         "line": {
          "color": "#FFA15A",
          "dash": "solid"
         },
         "mode": "lines",
         "name": "서울 중랑구",
         "orientation": "v",
         "showlegend": true,
         "type": "scatter",
         "x": [
          "1_2",
          "3_1",
          "3_2",
          "4_1",
          "5_1",
          "5_2",
          "6_1",
          "6_2"
         ],
         "xaxis": "x",
         "y": [
          1,
          5,
          13,
          16,
          17,
          19,
          27,
          33
         ],
         "yaxis": "y"
        },
        {
         "hovertemplate": "total_ads=서울 기타<br>confirmed_date=%{x}<br>cnt_sum=%{y}<extra></extra>",
         "legendgroup": "서울 기타",
         "line": {
          "color": "#19d3f3",
          "dash": "solid"
         },
         "mode": "lines",
         "name": "서울 기타",
         "orientation": "v",
         "showlegend": true,
         "type": "scatter",
         "x": [
          "2_1",
          "2_1",
          "3_1",
          "3_2",
          "4_1",
          "4_2",
          "5_1",
          "5_2",
          "6_1",
          "6_2"
         ],
         "xaxis": "x",
         "y": [
          2,
          11,
          19,
          33,
          43,
          45,
          48,
          57,
          71,
          82
         ],
         "yaxis": "y"
        },
        {
         "hovertemplate": "total_ads=서울 서대문구<br>confirmed_date=%{x}<br>cnt_sum=%{y}<extra></extra>",
         "legendgroup": "서울 서대문구",
         "line": {
          "color": "#FF6692",
          "dash": "solid"
         },
         "mode": "lines",
         "name": "서울 서대문구",
         "orientation": "v",
         "showlegend": true,
         "type": "scatter",
         "x": [
          "2_1",
          "2_1",
          "3_1",
          "3_2",
          "4_1",
          "4_2",
          "5_1",
          "5_2",
          "6_1",
          "6_2"
         ],
         "xaxis": "x",
         "y": [
          1,
          5,
          7,
          15,
          20,
          21,
          24,
          29,
          35,
          37
         ],
         "yaxis": "y"
        },
        {
         "hovertemplate": "total_ads=서울 송파구<br>confirmed_date=%{x}<br>cnt_sum=%{y}<extra></extra>",
         "legendgroup": "서울 송파구",
         "line": {
          "color": "#B6E880",
          "dash": "solid"
         },
         "mode": "lines",
         "name": "서울 송파구",
         "orientation": "v",
         "showlegend": true,
         "type": "scatter",
         "x": [
          "2_1",
          "2_1",
          "3_1",
          "3_2",
          "4_1",
          "5_1",
          "5_2",
          "6_1",
          "6_2"
         ],
         "xaxis": "x",
         "y": [
          1,
          12,
          16,
          28,
          38,
          43,
          49,
          52,
          56
         ],
         "yaxis": "y"
        },
        {
         "hovertemplate": "total_ads=서울 강남구<br>confirmed_date=%{x}<br>cnt_sum=%{y}<extra></extra>",
         "legendgroup": "서울 강남구",
         "line": {
          "color": "#FF97FF",
          "dash": "solid"
         },
         "mode": "lines",
         "name": "서울 강남구",
         "orientation": "v",
         "showlegend": true,
         "type": "scatter",
         "x": [
          "2_1",
          "3_1",
          "3_2",
          "4_1",
          "4_2",
          "5_1",
          "5_2",
          "6_1",
          "6_2"
         ],
         "xaxis": "x",
         "y": [
          7,
          14,
          41,
          59,
          64,
          71,
          75,
          78,
          83
         ],
         "yaxis": "y"
        },
        {
         "hovertemplate": "total_ads=서울 강동구<br>confirmed_date=%{x}<br>cnt_sum=%{y}<extra></extra>",
         "legendgroup": "서울 강동구",
         "line": {
          "color": "#FECB52",
          "dash": "solid"
         },
         "mode": "lines",
         "name": "서울 강동구",
         "orientation": "v",
         "showlegend": true,
         "type": "scatter",
         "x": [
          "2_1",
          "3_1",
          "3_2",
          "4_1",
          "5_1",
          "5_2",
          "6_1",
          "6_2"
         ],
         "xaxis": "x",
         "y": [
          4,
          5,
          10,
          13,
          19,
          24,
          33,
          35
         ],
         "yaxis": "y"
        },
        {
         "hovertemplate": "total_ads=서울 관악구<br>confirmed_date=%{x}<br>cnt_sum=%{y}<extra></extra>",
         "legendgroup": "서울 관악구",
         "line": {
          "color": "#636efa",
          "dash": "solid"
         },
         "mode": "lines",
         "name": "서울 관악구",
         "orientation": "v",
         "showlegend": true,
         "type": "scatter",
         "x": [
          "2_1",
          "3_1",
          "3_2",
          "4_1",
          "4_2",
          "5_1",
          "5_2",
          "6_1",
          "6_2"
         ],
         "xaxis": "x",
         "y": [
          4,
          15,
          34,
          42,
          43,
          53,
          59,
          77,
          113
         ],
         "yaxis": "y"
        },
        {
         "hovertemplate": "total_ads=서울 광진구<br>confirmed_date=%{x}<br>cnt_sum=%{y}<extra></extra>",
         "legendgroup": "서울 광진구",
         "line": {
          "color": "#EF553B",
          "dash": "solid"
         },
         "mode": "lines",
         "name": "서울 광진구",
         "orientation": "v",
         "showlegend": true,
         "type": "scatter",
         "x": [
          "2_1",
          "3_1",
          "3_2",
          "4_1",
          "5_1",
          "5_2",
          "6_1",
          "6_2"
         ],
         "xaxis": "x",
         "y": [
          1,
          2,
          6,
          8,
          12,
          14,
          15,
          17
         ],
         "yaxis": "y"
        },
        {
         "hovertemplate": "total_ads=서울 구로구<br>confirmed_date=%{x}<br>cnt_sum=%{y}<extra></extra>",
         "legendgroup": "서울 구로구",
         "line": {
          "color": "#00cc96",
          "dash": "solid"
         },
         "mode": "lines",
         "name": "서울 구로구",
         "orientation": "v",
         "showlegend": true,
         "type": "scatter",
         "x": [
          "2_1",
          "3_1",
          "3_2",
          "4_1",
          "5_2",
          "6_1",
          "6_2"
         ],
         "xaxis": "x",
         "y": [
          1,
          20,
          33,
          34,
          40,
          74,
          85
         ],
         "yaxis": "y"
        },
        {
         "hovertemplate": "total_ads=서울 금천구<br>confirmed_date=%{x}<br>cnt_sum=%{y}<extra></extra>",
         "legendgroup": "서울 금천구",
         "line": {
          "color": "#ab63fa",
          "dash": "solid"
         },
         "mode": "lines",
         "name": "서울 금천구",
         "orientation": "v",
         "showlegend": true,
         "type": "scatter",
         "x": [
          "2_1",
          "3_1",
          "3_2",
          "5_1",
          "5_2",
          "6_1",
          "6_2"
         ],
         "xaxis": "x",
         "y": [
          1,
          5,
          13,
          14,
          16,
          30,
          32
         ],
         "yaxis": "y"
        },
        {
         "hovertemplate": "total_ads=서울 노원구<br>confirmed_date=%{x}<br>cnt_sum=%{y}<extra></extra>",
         "legendgroup": "서울 노원구",
         "line": {
          "color": "#FFA15A",
          "dash": "solid"
         },
         "mode": "lines",
         "name": "서울 노원구",
         "orientation": "v",
         "showlegend": true,
         "type": "scatter",
         "x": [
          "2_1",
          "3_1",
          "3_2",
          "4_1",
          "5_1",
          "5_2",
          "6_1",
          "6_2"
         ],
         "xaxis": "x",
         "y": [
          8,
          15,
          20,
          23,
          25,
          31,
          37,
          43
         ],
         "yaxis": "y"
        },
        {
         "hovertemplate": "total_ads=서울 동구 구<br>confirmed_date=%{x}<br>cnt_sum=%{y}<extra></extra>",
         "legendgroup": "서울 동구 구",
         "line": {
          "color": "#19d3f3",
          "dash": "solid"
         },
         "mode": "lines",
         "name": "서울 동구 구",
         "orientation": "v",
         "showlegend": true,
         "type": "scatter",
         "x": [
          "2_1",
          "3_1",
          "3_2",
          "4_1",
          "5_1",
          "5_2",
          "6_1",
          "6_2"
         ],
         "xaxis": "x",
         "y": [
          1,
          6,
          24,
          31,
          37,
          40,
          46,
          53
         ],
         "yaxis": "y"
        },
        {
         "hovertemplate": "total_ads=서울 동대문구<br>confirmed_date=%{x}<br>cnt_sum=%{y}<extra></extra>",
         "legendgroup": "서울 동대문구",
         "line": {
          "color": "#FF6692",
          "dash": "solid"
         },
         "mode": "lines",
         "name": "서울 동대문구",
         "orientation": "v",
         "showlegend": true,
         "type": "scatter",
         "x": [
          "2_1",
          "3_1",
          "3_2",
          "4_1",
          "5_1",
          "6_1",
          "6_2"
         ],
         "xaxis": "x",
         "y": [
          1,
          22,
          26,
          31,
          34,
          35,
          38
         ],
         "yaxis": "y"
        },
        {
         "hovertemplate": "total_ads=서울 서초구<br>confirmed_date=%{x}<br>cnt_sum=%{y}<extra></extra>",
         "legendgroup": "서울 서초구",
         "line": {
          "color": "#B6E880",
          "dash": "solid"
         },
         "mode": "lines",
         "name": "서울 서초구",
         "orientation": "v",
         "showlegend": true,
         "type": "scatter",
         "x": [
          "2_1",
          "3_1",
          "3_2",
          "4_1",
          "5_1",
          "5_2",
          "6_1",
          "6_2"
         ],
         "xaxis": "x",
         "y": [
          4,
          9,
          24,
          37,
          39,
          41,
          48,
          55
         ],
         "yaxis": "y"
        },
        {
         "hovertemplate": "total_ads=서울 성동구<br>confirmed_date=%{x}<br>cnt_sum=%{y}<extra></extra>",
         "legendgroup": "서울 성동구",
         "line": {
          "color": "#FF97FF",
          "dash": "solid"
         },
         "mode": "lines",
         "name": "서울 성동구",
         "orientation": "v",
         "showlegend": true,
         "type": "scatter",
         "x": [
          "2_1",
          "3_2",
          "4_1",
          "5_1",
          "5_2",
          "6_1",
          "6_2"
         ],
         "xaxis": "x",
         "y": [
          3,
          6,
          19,
          22,
          40,
          47,
          49
         ],
         "yaxis": "y"
        },
        {
         "hovertemplate": "total_ads=서울 양천구<br>confirmed_date=%{x}<br>cnt_sum=%{y}<extra></extra>",
         "legendgroup": "서울 양천구",
         "line": {
          "color": "#FECB52",
          "dash": "solid"
         },
         "mode": "lines",
         "name": "서울 양천구",
         "orientation": "v",
         "showlegend": true,
         "type": "scatter",
         "x": [
          "2_1",
          "3_1",
          "3_2",
          "4_1",
          "5_1",
          "5_2",
          "6_1",
          "6_2"
         ],
         "xaxis": "x",
         "y": [
          1,
          14,
          18,
          22,
          24,
          28,
          66,
          71
         ],
         "yaxis": "y"
        },
        {
         "hovertemplate": "total_ads=서울 영등포구<br>confirmed_date=%{x}<br>cnt_sum=%{y}<extra></extra>",
         "legendgroup": "서울 영등포구",
         "line": {
          "color": "#636efa",
          "dash": "solid"
         },
         "mode": "lines",
         "name": "서울 영등포구",
         "orientation": "v",
         "showlegend": true,
         "type": "scatter",
         "x": [
          "2_1",
          "3_1",
          "3_2",
          "4_1",
          "5_1",
          "5_2",
          "6_1",
          "6_2"
         ],
         "xaxis": "x",
         "y": [
          2,
          12,
          20,
          24,
          26,
          35,
          50,
          62
         ],
         "yaxis": "y"
        },
        {
         "hovertemplate": "total_ads=서울 은평구<br>confirmed_date=%{x}<br>cnt_sum=%{y}<extra></extra>",
         "legendgroup": "서울 은평구",
         "line": {
          "color": "#EF553B",
          "dash": "solid"
         },
         "mode": "lines",
         "name": "서울 은평구",
         "orientation": "v",
         "showlegend": true,
         "type": "scatter",
         "x": [
          "2_1",
          "3_1",
          "3_2",
          "4_1",
          "5_1",
          "5_2",
          "6_1",
          "6_2"
         ],
         "xaxis": "x",
         "y": [
          7,
          17,
          21,
          28,
          30,
          35,
          44,
          53
         ],
         "yaxis": "y"
        },
        {
         "hovertemplate": "total_ads=서울 강북구<br>confirmed_date=%{x}<br>cnt_sum=%{y}<extra></extra>",
         "legendgroup": "서울 강북구",
         "line": {
          "color": "#00cc96",
          "dash": "solid"
         },
         "mode": "lines",
         "name": "서울 강북구",
         "orientation": "v",
         "showlegend": true,
         "type": "scatter",
         "x": [
          "3_1",
          "5_1",
          "5_2",
          "6_1",
          "6_2"
         ],
         "xaxis": "x",
         "y": [
          5,
          8,
          14,
          23,
          24
         ],
         "yaxis": "y"
        },
        {
         "hovertemplate": "total_ads=서울 도봉구<br>confirmed_date=%{x}<br>cnt_sum=%{y}<extra></extra>",
         "legendgroup": "서울 도봉구",
         "line": {
          "color": "#ab63fa",
          "dash": "solid"
         },
         "mode": "lines",
         "name": "서울 도봉구",
         "orientation": "v",
         "showlegend": true,
         "type": "scatter",
         "x": [
          "3_1",
          "3_2",
          "4_1",
          "5_1",
          "5_2",
          "6_1",
          "6_2"
         ],
         "xaxis": "x",
         "y": [
          2,
          6,
          9,
          14,
          19,
          38,
          62
         ],
         "yaxis": "y"
        },
        {
         "hovertemplate": "total_ads=서울 용산구<br>confirmed_date=%{x}<br>cnt_sum=%{y}<extra></extra>",
         "legendgroup": "서울 용산구",
         "line": {
          "color": "#FFA15A",
          "dash": "solid"
         },
         "mode": "lines",
         "name": "서울 용산구",
         "orientation": "v",
         "showlegend": true,
         "type": "scatter",
         "x": [
          "3_1",
          "3_2",
          "4_1",
          "4_2",
          "5_1",
          "5_2",
          "6_1",
          "6_2"
         ],
         "xaxis": "x",
         "y": [
          2,
          12,
          17,
          18,
          34,
          38,
          48,
          50
         ],
         "yaxis": "y"
        },
        {
         "hovertemplate": "total_ads=서울 중구<br>confirmed_date=%{x}<br>cnt_sum=%{y}<extra></extra>",
         "legendgroup": "서울 중구",
         "line": {
          "color": "#19d3f3",
          "dash": "solid"
         },
         "mode": "lines",
         "name": "서울 중구",
         "orientation": "v",
         "showlegend": true,
         "type": "scatter",
         "x": [
          "3_1",
          "3_2",
          "4_1",
          "5_1",
          "5_2",
          "6_1",
          "6_2"
         ],
         "xaxis": "x",
         "y": [
          1,
          5,
          6,
          8,
          9,
          10,
          12
         ],
         "yaxis": "y"
        }
       ],
       "layout": {
        "legend": {
         "title": {
          "text": "total_ads"
         },
         "tracegroupgap": 0
        },
        "margin": {
         "t": 60
        },
        "template": {
         "data": {
          "bar": [
           {
            "error_x": {
             "color": "#2a3f5f"
            },
            "error_y": {
             "color": "#2a3f5f"
            },
            "marker": {
             "line": {
              "color": "#E5ECF6",
              "width": 0.5
             }
            },
            "type": "bar"
           }
          ],
          "barpolar": [
           {
            "marker": {
             "line": {
              "color": "#E5ECF6",
              "width": 0.5
             }
            },
            "type": "barpolar"
           }
          ],
          "carpet": [
           {
            "aaxis": {
             "endlinecolor": "#2a3f5f",
             "gridcolor": "white",
             "linecolor": "white",
             "minorgridcolor": "white",
             "startlinecolor": "#2a3f5f"
            },
            "baxis": {
             "endlinecolor": "#2a3f5f",
             "gridcolor": "white",
             "linecolor": "white",
             "minorgridcolor": "white",
             "startlinecolor": "#2a3f5f"
            },
            "type": "carpet"
           }
          ],
          "choropleth": [
           {
            "colorbar": {
             "outlinewidth": 0,
             "ticks": ""
            },
            "type": "choropleth"
           }
          ],
          "contour": [
           {
            "colorbar": {
             "outlinewidth": 0,
             "ticks": ""
            },
            "colorscale": [
             [
              0,
              "#0d0887"
             ],
             [
              0.1111111111111111,
              "#46039f"
             ],
             [
              0.2222222222222222,
              "#7201a8"
             ],
             [
              0.3333333333333333,
              "#9c179e"
             ],
             [
              0.4444444444444444,
              "#bd3786"
             ],
             [
              0.5555555555555556,
              "#d8576b"
             ],
             [
              0.6666666666666666,
              "#ed7953"
             ],
             [
              0.7777777777777778,
              "#fb9f3a"
             ],
             [
              0.8888888888888888,
              "#fdca26"
             ],
             [
              1,
              "#f0f921"
             ]
            ],
            "type": "contour"
           }
          ],
          "contourcarpet": [
           {
            "colorbar": {
             "outlinewidth": 0,
             "ticks": ""
            },
            "type": "contourcarpet"
           }
          ],
          "heatmap": [
           {
            "colorbar": {
             "outlinewidth": 0,
             "ticks": ""
            },
            "colorscale": [
             [
              0,
              "#0d0887"
             ],
             [
              0.1111111111111111,
              "#46039f"
             ],
             [
              0.2222222222222222,
              "#7201a8"
             ],
             [
              0.3333333333333333,
              "#9c179e"
             ],
             [
              0.4444444444444444,
              "#bd3786"
             ],
             [
              0.5555555555555556,
              "#d8576b"
             ],
             [
              0.6666666666666666,
              "#ed7953"
             ],
             [
              0.7777777777777778,
              "#fb9f3a"
             ],
             [
              0.8888888888888888,
              "#fdca26"
             ],
             [
              1,
              "#f0f921"
             ]
            ],
            "type": "heatmap"
           }
          ],
          "heatmapgl": [
           {
            "colorbar": {
             "outlinewidth": 0,
             "ticks": ""
            },
            "colorscale": [
             [
              0,
              "#0d0887"
             ],
             [
              0.1111111111111111,
              "#46039f"
             ],
             [
              0.2222222222222222,
              "#7201a8"
             ],
             [
              0.3333333333333333,
              "#9c179e"
             ],
             [
              0.4444444444444444,
              "#bd3786"
             ],
             [
              0.5555555555555556,
              "#d8576b"
             ],
             [
              0.6666666666666666,
              "#ed7953"
             ],
             [
              0.7777777777777778,
              "#fb9f3a"
             ],
             [
              0.8888888888888888,
              "#fdca26"
             ],
             [
              1,
              "#f0f921"
             ]
            ],
            "type": "heatmapgl"
           }
          ],
          "histogram": [
           {
            "marker": {
             "colorbar": {
              "outlinewidth": 0,
              "ticks": ""
             }
            },
            "type": "histogram"
           }
          ],
          "histogram2d": [
           {
            "colorbar": {
             "outlinewidth": 0,
             "ticks": ""
            },
            "colorscale": [
             [
              0,
              "#0d0887"
             ],
             [
              0.1111111111111111,
              "#46039f"
             ],
             [
              0.2222222222222222,
              "#7201a8"
             ],
             [
              0.3333333333333333,
              "#9c179e"
             ],
             [
              0.4444444444444444,
              "#bd3786"
             ],
             [
              0.5555555555555556,
              "#d8576b"
             ],
             [
              0.6666666666666666,
              "#ed7953"
             ],
             [
              0.7777777777777778,
              "#fb9f3a"
             ],
             [
              0.8888888888888888,
              "#fdca26"
             ],
             [
              1,
              "#f0f921"
             ]
            ],
            "type": "histogram2d"
           }
          ],
          "histogram2dcontour": [
           {
            "colorbar": {
             "outlinewidth": 0,
             "ticks": ""
            },
            "colorscale": [
             [
              0,
              "#0d0887"
             ],
             [
              0.1111111111111111,
              "#46039f"
             ],
             [
              0.2222222222222222,
              "#7201a8"
             ],
             [
              0.3333333333333333,
              "#9c179e"
             ],
             [
              0.4444444444444444,
              "#bd3786"
             ],
             [
              0.5555555555555556,
              "#d8576b"
             ],
             [
              0.6666666666666666,
              "#ed7953"
             ],
             [
              0.7777777777777778,
              "#fb9f3a"
             ],
             [
              0.8888888888888888,
              "#fdca26"
             ],
             [
              1,
              "#f0f921"
             ]
            ],
            "type": "histogram2dcontour"
           }
          ],
          "mesh3d": [
           {
            "colorbar": {
             "outlinewidth": 0,
             "ticks": ""
            },
            "type": "mesh3d"
           }
          ],
          "parcoords": [
           {
            "line": {
             "colorbar": {
              "outlinewidth": 0,
              "ticks": ""
             }
            },
            "type": "parcoords"
           }
          ],
          "pie": [
           {
            "automargin": true,
            "type": "pie"
           }
          ],
          "scatter": [
           {
            "marker": {
             "colorbar": {
              "outlinewidth": 0,
              "ticks": ""
             }
            },
            "type": "scatter"
           }
          ],
          "scatter3d": [
           {
            "line": {
             "colorbar": {
              "outlinewidth": 0,
              "ticks": ""
             }
            },
            "marker": {
             "colorbar": {
              "outlinewidth": 0,
              "ticks": ""
             }
            },
            "type": "scatter3d"
           }
          ],
          "scattercarpet": [
           {
            "marker": {
             "colorbar": {
              "outlinewidth": 0,
              "ticks": ""
             }
            },
            "type": "scattercarpet"
           }
          ],
          "scattergeo": [
           {
            "marker": {
             "colorbar": {
              "outlinewidth": 0,
              "ticks": ""
             }
            },
            "type": "scattergeo"
           }
          ],
          "scattergl": [
           {
            "marker": {
             "colorbar": {
              "outlinewidth": 0,
              "ticks": ""
             }
            },
            "type": "scattergl"
           }
          ],
          "scattermapbox": [
           {
            "marker": {
             "colorbar": {
              "outlinewidth": 0,
              "ticks": ""
             }
            },
            "type": "scattermapbox"
           }
          ],
          "scatterpolar": [
           {
            "marker": {
             "colorbar": {
              "outlinewidth": 0,
              "ticks": ""
             }
            },
            "type": "scatterpolar"
           }
          ],
          "scatterpolargl": [
           {
            "marker": {
             "colorbar": {
              "outlinewidth": 0,
              "ticks": ""
             }
            },
            "type": "scatterpolargl"
           }
          ],
          "scatterternary": [
           {
            "marker": {
             "colorbar": {
              "outlinewidth": 0,
              "ticks": ""
             }
            },
            "type": "scatterternary"
           }
          ],
          "surface": [
           {
            "colorbar": {
             "outlinewidth": 0,
             "ticks": ""
            },
            "colorscale": [
             [
              0,
              "#0d0887"
             ],
             [
              0.1111111111111111,
              "#46039f"
             ],
             [
              0.2222222222222222,
              "#7201a8"
             ],
             [
              0.3333333333333333,
              "#9c179e"
             ],
             [
              0.4444444444444444,
              "#bd3786"
             ],
             [
              0.5555555555555556,
              "#d8576b"
             ],
             [
              0.6666666666666666,
              "#ed7953"
             ],
             [
              0.7777777777777778,
              "#fb9f3a"
             ],
             [
              0.8888888888888888,
              "#fdca26"
             ],
             [
              1,
              "#f0f921"
             ]
            ],
            "type": "surface"
           }
          ],
          "table": [
           {
            "cells": {
             "fill": {
              "color": "#EBF0F8"
             },
             "line": {
              "color": "white"
             }
            },
            "header": {
             "fill": {
              "color": "#C8D4E3"
             },
             "line": {
              "color": "white"
             }
            },
            "type": "table"
           }
          ]
         },
         "layout": {
          "annotationdefaults": {
           "arrowcolor": "#2a3f5f",
           "arrowhead": 0,
           "arrowwidth": 1
          },
          "coloraxis": {
           "colorbar": {
            "outlinewidth": 0,
            "ticks": ""
           }
          },
          "colorscale": {
           "diverging": [
            [
             0,
             "#8e0152"
            ],
            [
             0.1,
             "#c51b7d"
            ],
            [
             0.2,
             "#de77ae"
            ],
            [
             0.3,
             "#f1b6da"
            ],
            [
             0.4,
             "#fde0ef"
            ],
            [
             0.5,
             "#f7f7f7"
            ],
            [
             0.6,
             "#e6f5d0"
            ],
            [
             0.7,
             "#b8e186"
            ],
            [
             0.8,
             "#7fbc41"
            ],
            [
             0.9,
             "#4d9221"
            ],
            [
             1,
             "#276419"
            ]
           ],
           "sequential": [
            [
             0,
             "#0d0887"
            ],
            [
             0.1111111111111111,
             "#46039f"
            ],
            [
             0.2222222222222222,
             "#7201a8"
            ],
            [
             0.3333333333333333,
             "#9c179e"
            ],
            [
             0.4444444444444444,
             "#bd3786"
            ],
            [
             0.5555555555555556,
             "#d8576b"
            ],
            [
             0.6666666666666666,
             "#ed7953"
            ],
            [
             0.7777777777777778,
             "#fb9f3a"
            ],
            [
             0.8888888888888888,
             "#fdca26"
            ],
            [
             1,
             "#f0f921"
            ]
           ],
           "sequentialminus": [
            [
             0,
             "#0d0887"
            ],
            [
             0.1111111111111111,
             "#46039f"
            ],
            [
             0.2222222222222222,
             "#7201a8"
            ],
            [
             0.3333333333333333,
             "#9c179e"
            ],
            [
             0.4444444444444444,
             "#bd3786"
            ],
            [
             0.5555555555555556,
             "#d8576b"
            ],
            [
             0.6666666666666666,
             "#ed7953"
            ],
            [
             0.7777777777777778,
             "#fb9f3a"
            ],
            [
             0.8888888888888888,
             "#fdca26"
            ],
            [
             1,
             "#f0f921"
            ]
           ]
          },
          "colorway": [
           "#636efa",
           "#EF553B",
           "#00cc96",
           "#ab63fa",
           "#FFA15A",
           "#19d3f3",
           "#FF6692",
           "#B6E880",
           "#FF97FF",
           "#FECB52"
          ],
          "font": {
           "color": "#2a3f5f"
          },
          "geo": {
           "bgcolor": "white",
           "lakecolor": "white",
           "landcolor": "#E5ECF6",
           "showlakes": true,
           "showland": true,
           "subunitcolor": "white"
          },
          "hoverlabel": {
           "align": "left"
          },
          "hovermode": "closest",
          "mapbox": {
           "style": "light"
          },
          "paper_bgcolor": "white",
          "plot_bgcolor": "#E5ECF6",
          "polar": {
           "angularaxis": {
            "gridcolor": "white",
            "linecolor": "white",
            "ticks": ""
           },
           "bgcolor": "#E5ECF6",
           "radialaxis": {
            "gridcolor": "white",
            "linecolor": "white",
            "ticks": ""
           }
          },
          "scene": {
           "xaxis": {
            "backgroundcolor": "#E5ECF6",
            "gridcolor": "white",
            "gridwidth": 2,
            "linecolor": "white",
            "showbackground": true,
            "ticks": "",
            "zerolinecolor": "white"
           },
           "yaxis": {
            "backgroundcolor": "#E5ECF6",
            "gridcolor": "white",
            "gridwidth": 2,
            "linecolor": "white",
            "showbackground": true,
            "ticks": "",
            "zerolinecolor": "white"
           },
           "zaxis": {
            "backgroundcolor": "#E5ECF6",
            "gridcolor": "white",
            "gridwidth": 2,
            "linecolor": "white",
            "showbackground": true,
            "ticks": "",
            "zerolinecolor": "white"
           }
          },
          "shapedefaults": {
           "line": {
            "color": "#2a3f5f"
           }
          },
          "ternary": {
           "aaxis": {
            "gridcolor": "white",
            "linecolor": "white",
            "ticks": ""
           },
           "baxis": {
            "gridcolor": "white",
            "linecolor": "white",
            "ticks": ""
           },
           "bgcolor": "#E5ECF6",
           "caxis": {
            "gridcolor": "white",
            "linecolor": "white",
            "ticks": ""
           }
          },
          "title": {
           "x": 0.05
          },
          "xaxis": {
           "automargin": true,
           "gridcolor": "white",
           "linecolor": "white",
           "ticks": "",
           "title": {
            "standoff": 15
           },
           "zerolinecolor": "white",
           "zerolinewidth": 2
          },
          "yaxis": {
           "automargin": true,
           "gridcolor": "white",
           "linecolor": "white",
           "ticks": "",
           "title": {
            "standoff": 15
           },
           "zerolinecolor": "white",
           "zerolinewidth": 2
          }
         }
        },
        "title": {
         "text": "지역별 확진자 변화(서울 한정)-달 초/말 로 나눔",
         "x": 0.5,
         "xanchor": "center",
         "y": 1,
         "yanchor": "top"
        },
        "xaxis": {
         "anchor": "y",
         "domain": [
          0,
          1
         ],
         "title": {
          "text": "confirmed_date"
         }
        },
        "yaxis": {
         "anchor": "x",
         "domain": [
          0,
          1
         ],
         "title": {
          "text": "cnt_sum"
         }
        }
       }
      },
      "text/html": [
       "<div>\n",
       "        \n",
       "        \n",
       "            <div id=\"dc15e395-a2bd-45f1-b812-177800379a06\" class=\"plotly-graph-div\" style=\"height:525px; width:100%;\"></div>\n",
       "            <script type=\"text/javascript\">\n",
       "                require([\"plotly\"], function(Plotly) {\n",
       "                    window.PLOTLYENV=window.PLOTLYENV || {};\n",
       "                    \n",
       "                if (document.getElementById(\"dc15e395-a2bd-45f1-b812-177800379a06\")) {\n",
       "                    Plotly.newPlot(\n",
       "                        'dc15e395-a2bd-45f1-b812-177800379a06',\n",
       "                        [{\"hovertemplate\": \"total_ads=\\uc11c\\uc6b8 \\uac15\\uc11c\\uad6c<br>confirmed_date=%{x}<br>cnt_sum=%{y}<extra></extra>\", \"legendgroup\": \"\\uc11c\\uc6b8 \\uac15\\uc11c\\uad6c\", \"line\": {\"color\": \"#636efa\", \"dash\": \"solid\"}, \"mode\": \"lines\", \"name\": \"\\uc11c\\uc6b8 \\uac15\\uc11c\\uad6c\", \"orientation\": \"v\", \"showlegend\": true, \"type\": \"scatter\", \"x\": [\"1_2\", \"2_1\", \"3_1\", \"3_2\", \"4_1\", \"4_2\", \"5_1\", \"5_2\", \"6_1\", \"6_2\"], \"xaxis\": \"x\", \"y\": [1, 2, 14, 22, 25, 26, 31, 45, 69, 78], \"yaxis\": \"y\"}, {\"hovertemplate\": \"total_ads=\\uc11c\\uc6b8 \\ub9c8\\ud3ec\\uad6c<br>confirmed_date=%{x}<br>cnt_sum=%{y}<extra></extra>\", \"legendgroup\": \"\\uc11c\\uc6b8 \\ub9c8\\ud3ec\\uad6c\", \"line\": {\"color\": \"#EF553B\", \"dash\": \"solid\"}, \"mode\": \"lines\", \"name\": \"\\uc11c\\uc6b8 \\ub9c8\\ud3ec\\uad6c\", \"orientation\": \"v\", \"showlegend\": true, \"type\": \"scatter\", \"x\": [\"1_2\", \"3_1\", \"3_2\", \"4_1\", \"4_2\", \"5_2\", \"6_1\", \"6_2\"], \"xaxis\": \"x\", \"y\": [1, 8, 17, 22, 24, 27, 31, 38], \"yaxis\": \"y\"}, {\"hovertemplate\": \"total_ads=\\uc11c\\uc6b8 \\uc131\\ubd81\\uad6c<br>confirmed_date=%{x}<br>cnt_sum=%{y}<extra></extra>\", \"legendgroup\": \"\\uc11c\\uc6b8 \\uc131\\ubd81\\uad6c\", \"line\": {\"color\": \"#00cc96\", \"dash\": \"solid\"}, \"mode\": \"lines\", \"name\": \"\\uc11c\\uc6b8 \\uc131\\ubd81\\uad6c\", \"orientation\": \"v\", \"showlegend\": true, \"type\": \"scatter\", \"x\": [\"1_2\", \"2_1\", \"2_1\", \"3_1\", \"3_2\", \"4_1\", \"4_2\", \"5_1\", \"5_2\", \"6_1\", \"6_2\"], \"xaxis\": \"x\", \"y\": [1, 2, 3, 10, 16, 23, 25, 28, 30, 32, 34], \"yaxis\": \"y\"}, {\"hovertemplate\": \"total_ads=\\uc11c\\uc6b8 \\uc885\\ub85c\\uad6c<br>confirmed_date=%{x}<br>cnt_sum=%{y}<extra></extra>\", \"legendgroup\": \"\\uc11c\\uc6b8 \\uc885\\ub85c\\uad6c\", \"line\": {\"color\": \"#ab63fa\", \"dash\": \"solid\"}, \"mode\": \"lines\", \"name\": \"\\uc11c\\uc6b8 \\uc885\\ub85c\\uad6c\", \"orientation\": \"v\", \"showlegend\": true, \"type\": \"scatter\", \"x\": [\"1_2\", \"2_1\", \"3_2\", \"4_1\", \"5_1\", \"5_2\", \"6_1\", \"6_2\"], \"xaxis\": \"x\", \"y\": [3, 11, 15, 16, 17, 19, 21, 22], \"yaxis\": \"y\"}, {\"hovertemplate\": \"total_ads=\\uc11c\\uc6b8 \\uc911\\ub791\\uad6c<br>confirmed_date=%{x}<br>cnt_sum=%{y}<extra></extra>\", \"legendgroup\": \"\\uc11c\\uc6b8 \\uc911\\ub791\\uad6c\", \"line\": {\"color\": \"#FFA15A\", \"dash\": \"solid\"}, \"mode\": \"lines\", \"name\": \"\\uc11c\\uc6b8 \\uc911\\ub791\\uad6c\", \"orientation\": \"v\", \"showlegend\": true, \"type\": \"scatter\", \"x\": [\"1_2\", \"3_1\", \"3_2\", \"4_1\", \"5_1\", \"5_2\", \"6_1\", \"6_2\"], \"xaxis\": \"x\", \"y\": [1, 5, 13, 16, 17, 19, 27, 33], \"yaxis\": \"y\"}, {\"hovertemplate\": \"total_ads=\\uc11c\\uc6b8 \\uae30\\ud0c0<br>confirmed_date=%{x}<br>cnt_sum=%{y}<extra></extra>\", \"legendgroup\": \"\\uc11c\\uc6b8 \\uae30\\ud0c0\", \"line\": {\"color\": \"#19d3f3\", \"dash\": \"solid\"}, \"mode\": \"lines\", \"name\": \"\\uc11c\\uc6b8 \\uae30\\ud0c0\", \"orientation\": \"v\", \"showlegend\": true, \"type\": \"scatter\", \"x\": [\"2_1\", \"2_1\", \"3_1\", \"3_2\", \"4_1\", \"4_2\", \"5_1\", \"5_2\", \"6_1\", \"6_2\"], \"xaxis\": \"x\", \"y\": [2, 11, 19, 33, 43, 45, 48, 57, 71, 82], \"yaxis\": \"y\"}, {\"hovertemplate\": \"total_ads=\\uc11c\\uc6b8 \\uc11c\\ub300\\ubb38\\uad6c<br>confirmed_date=%{x}<br>cnt_sum=%{y}<extra></extra>\", \"legendgroup\": \"\\uc11c\\uc6b8 \\uc11c\\ub300\\ubb38\\uad6c\", \"line\": {\"color\": \"#FF6692\", \"dash\": \"solid\"}, \"mode\": \"lines\", \"name\": \"\\uc11c\\uc6b8 \\uc11c\\ub300\\ubb38\\uad6c\", \"orientation\": \"v\", \"showlegend\": true, \"type\": \"scatter\", \"x\": [\"2_1\", \"2_1\", \"3_1\", \"3_2\", \"4_1\", \"4_2\", \"5_1\", \"5_2\", \"6_1\", \"6_2\"], \"xaxis\": \"x\", \"y\": [1, 5, 7, 15, 20, 21, 24, 29, 35, 37], \"yaxis\": \"y\"}, {\"hovertemplate\": \"total_ads=\\uc11c\\uc6b8 \\uc1a1\\ud30c\\uad6c<br>confirmed_date=%{x}<br>cnt_sum=%{y}<extra></extra>\", \"legendgroup\": \"\\uc11c\\uc6b8 \\uc1a1\\ud30c\\uad6c\", \"line\": {\"color\": \"#B6E880\", \"dash\": \"solid\"}, \"mode\": \"lines\", \"name\": \"\\uc11c\\uc6b8 \\uc1a1\\ud30c\\uad6c\", \"orientation\": \"v\", \"showlegend\": true, \"type\": \"scatter\", \"x\": [\"2_1\", \"2_1\", \"3_1\", \"3_2\", \"4_1\", \"5_1\", \"5_2\", \"6_1\", \"6_2\"], \"xaxis\": \"x\", \"y\": [1, 12, 16, 28, 38, 43, 49, 52, 56], \"yaxis\": \"y\"}, {\"hovertemplate\": \"total_ads=\\uc11c\\uc6b8 \\uac15\\ub0a8\\uad6c<br>confirmed_date=%{x}<br>cnt_sum=%{y}<extra></extra>\", \"legendgroup\": \"\\uc11c\\uc6b8 \\uac15\\ub0a8\\uad6c\", \"line\": {\"color\": \"#FF97FF\", \"dash\": \"solid\"}, \"mode\": \"lines\", \"name\": \"\\uc11c\\uc6b8 \\uac15\\ub0a8\\uad6c\", \"orientation\": \"v\", \"showlegend\": true, \"type\": \"scatter\", \"x\": [\"2_1\", \"3_1\", \"3_2\", \"4_1\", \"4_2\", \"5_1\", \"5_2\", \"6_1\", \"6_2\"], \"xaxis\": \"x\", \"y\": [7, 14, 41, 59, 64, 71, 75, 78, 83], \"yaxis\": \"y\"}, {\"hovertemplate\": \"total_ads=\\uc11c\\uc6b8 \\uac15\\ub3d9\\uad6c<br>confirmed_date=%{x}<br>cnt_sum=%{y}<extra></extra>\", \"legendgroup\": \"\\uc11c\\uc6b8 \\uac15\\ub3d9\\uad6c\", \"line\": {\"color\": \"#FECB52\", \"dash\": \"solid\"}, \"mode\": \"lines\", \"name\": \"\\uc11c\\uc6b8 \\uac15\\ub3d9\\uad6c\", \"orientation\": \"v\", \"showlegend\": true, \"type\": \"scatter\", \"x\": [\"2_1\", \"3_1\", \"3_2\", \"4_1\", \"5_1\", \"5_2\", \"6_1\", \"6_2\"], \"xaxis\": \"x\", \"y\": [4, 5, 10, 13, 19, 24, 33, 35], \"yaxis\": \"y\"}, {\"hovertemplate\": \"total_ads=\\uc11c\\uc6b8 \\uad00\\uc545\\uad6c<br>confirmed_date=%{x}<br>cnt_sum=%{y}<extra></extra>\", \"legendgroup\": \"\\uc11c\\uc6b8 \\uad00\\uc545\\uad6c\", \"line\": {\"color\": \"#636efa\", \"dash\": \"solid\"}, \"mode\": \"lines\", \"name\": \"\\uc11c\\uc6b8 \\uad00\\uc545\\uad6c\", \"orientation\": \"v\", \"showlegend\": true, \"type\": \"scatter\", \"x\": [\"2_1\", \"3_1\", \"3_2\", \"4_1\", \"4_2\", \"5_1\", \"5_2\", \"6_1\", \"6_2\"], \"xaxis\": \"x\", \"y\": [4, 15, 34, 42, 43, 53, 59, 77, 113], \"yaxis\": \"y\"}, {\"hovertemplate\": \"total_ads=\\uc11c\\uc6b8 \\uad11\\uc9c4\\uad6c<br>confirmed_date=%{x}<br>cnt_sum=%{y}<extra></extra>\", \"legendgroup\": \"\\uc11c\\uc6b8 \\uad11\\uc9c4\\uad6c\", \"line\": {\"color\": \"#EF553B\", \"dash\": \"solid\"}, \"mode\": \"lines\", \"name\": \"\\uc11c\\uc6b8 \\uad11\\uc9c4\\uad6c\", \"orientation\": \"v\", \"showlegend\": true, \"type\": \"scatter\", \"x\": [\"2_1\", \"3_1\", \"3_2\", \"4_1\", \"5_1\", \"5_2\", \"6_1\", \"6_2\"], \"xaxis\": \"x\", \"y\": [1, 2, 6, 8, 12, 14, 15, 17], \"yaxis\": \"y\"}, {\"hovertemplate\": \"total_ads=\\uc11c\\uc6b8 \\uad6c\\ub85c\\uad6c<br>confirmed_date=%{x}<br>cnt_sum=%{y}<extra></extra>\", \"legendgroup\": \"\\uc11c\\uc6b8 \\uad6c\\ub85c\\uad6c\", \"line\": {\"color\": \"#00cc96\", \"dash\": \"solid\"}, \"mode\": \"lines\", \"name\": \"\\uc11c\\uc6b8 \\uad6c\\ub85c\\uad6c\", \"orientation\": \"v\", \"showlegend\": true, \"type\": \"scatter\", \"x\": [\"2_1\", \"3_1\", \"3_2\", \"4_1\", \"5_2\", \"6_1\", \"6_2\"], \"xaxis\": \"x\", \"y\": [1, 20, 33, 34, 40, 74, 85], \"yaxis\": \"y\"}, {\"hovertemplate\": \"total_ads=\\uc11c\\uc6b8 \\uae08\\ucc9c\\uad6c<br>confirmed_date=%{x}<br>cnt_sum=%{y}<extra></extra>\", \"legendgroup\": \"\\uc11c\\uc6b8 \\uae08\\ucc9c\\uad6c\", \"line\": {\"color\": \"#ab63fa\", \"dash\": \"solid\"}, \"mode\": \"lines\", \"name\": \"\\uc11c\\uc6b8 \\uae08\\ucc9c\\uad6c\", \"orientation\": \"v\", \"showlegend\": true, \"type\": \"scatter\", \"x\": [\"2_1\", \"3_1\", \"3_2\", \"5_1\", \"5_2\", \"6_1\", \"6_2\"], \"xaxis\": \"x\", \"y\": [1, 5, 13, 14, 16, 30, 32], \"yaxis\": \"y\"}, {\"hovertemplate\": \"total_ads=\\uc11c\\uc6b8 \\ub178\\uc6d0\\uad6c<br>confirmed_date=%{x}<br>cnt_sum=%{y}<extra></extra>\", \"legendgroup\": \"\\uc11c\\uc6b8 \\ub178\\uc6d0\\uad6c\", \"line\": {\"color\": \"#FFA15A\", \"dash\": \"solid\"}, \"mode\": \"lines\", \"name\": \"\\uc11c\\uc6b8 \\ub178\\uc6d0\\uad6c\", \"orientation\": \"v\", \"showlegend\": true, \"type\": \"scatter\", \"x\": [\"2_1\", \"3_1\", \"3_2\", \"4_1\", \"5_1\", \"5_2\", \"6_1\", \"6_2\"], \"xaxis\": \"x\", \"y\": [8, 15, 20, 23, 25, 31, 37, 43], \"yaxis\": \"y\"}, {\"hovertemplate\": \"total_ads=\\uc11c\\uc6b8 \\ub3d9\\uad6c \\uad6c<br>confirmed_date=%{x}<br>cnt_sum=%{y}<extra></extra>\", \"legendgroup\": \"\\uc11c\\uc6b8 \\ub3d9\\uad6c \\uad6c\", \"line\": {\"color\": \"#19d3f3\", \"dash\": \"solid\"}, \"mode\": \"lines\", \"name\": \"\\uc11c\\uc6b8 \\ub3d9\\uad6c \\uad6c\", \"orientation\": \"v\", \"showlegend\": true, \"type\": \"scatter\", \"x\": [\"2_1\", \"3_1\", \"3_2\", \"4_1\", \"5_1\", \"5_2\", \"6_1\", \"6_2\"], \"xaxis\": \"x\", \"y\": [1, 6, 24, 31, 37, 40, 46, 53], \"yaxis\": \"y\"}, {\"hovertemplate\": \"total_ads=\\uc11c\\uc6b8 \\ub3d9\\ub300\\ubb38\\uad6c<br>confirmed_date=%{x}<br>cnt_sum=%{y}<extra></extra>\", \"legendgroup\": \"\\uc11c\\uc6b8 \\ub3d9\\ub300\\ubb38\\uad6c\", \"line\": {\"color\": \"#FF6692\", \"dash\": \"solid\"}, \"mode\": \"lines\", \"name\": \"\\uc11c\\uc6b8 \\ub3d9\\ub300\\ubb38\\uad6c\", \"orientation\": \"v\", \"showlegend\": true, \"type\": \"scatter\", \"x\": [\"2_1\", \"3_1\", \"3_2\", \"4_1\", \"5_1\", \"6_1\", \"6_2\"], \"xaxis\": \"x\", \"y\": [1, 22, 26, 31, 34, 35, 38], \"yaxis\": \"y\"}, {\"hovertemplate\": \"total_ads=\\uc11c\\uc6b8 \\uc11c\\ucd08\\uad6c<br>confirmed_date=%{x}<br>cnt_sum=%{y}<extra></extra>\", \"legendgroup\": \"\\uc11c\\uc6b8 \\uc11c\\ucd08\\uad6c\", \"line\": {\"color\": \"#B6E880\", \"dash\": \"solid\"}, \"mode\": \"lines\", \"name\": \"\\uc11c\\uc6b8 \\uc11c\\ucd08\\uad6c\", \"orientation\": \"v\", \"showlegend\": true, \"type\": \"scatter\", \"x\": [\"2_1\", \"3_1\", \"3_2\", \"4_1\", \"5_1\", \"5_2\", \"6_1\", \"6_2\"], \"xaxis\": \"x\", \"y\": [4, 9, 24, 37, 39, 41, 48, 55], \"yaxis\": \"y\"}, {\"hovertemplate\": \"total_ads=\\uc11c\\uc6b8 \\uc131\\ub3d9\\uad6c<br>confirmed_date=%{x}<br>cnt_sum=%{y}<extra></extra>\", \"legendgroup\": \"\\uc11c\\uc6b8 \\uc131\\ub3d9\\uad6c\", \"line\": {\"color\": \"#FF97FF\", \"dash\": \"solid\"}, \"mode\": \"lines\", \"name\": \"\\uc11c\\uc6b8 \\uc131\\ub3d9\\uad6c\", \"orientation\": \"v\", \"showlegend\": true, \"type\": \"scatter\", \"x\": [\"2_1\", \"3_2\", \"4_1\", \"5_1\", \"5_2\", \"6_1\", \"6_2\"], \"xaxis\": \"x\", \"y\": [3, 6, 19, 22, 40, 47, 49], \"yaxis\": \"y\"}, {\"hovertemplate\": \"total_ads=\\uc11c\\uc6b8 \\uc591\\ucc9c\\uad6c<br>confirmed_date=%{x}<br>cnt_sum=%{y}<extra></extra>\", \"legendgroup\": \"\\uc11c\\uc6b8 \\uc591\\ucc9c\\uad6c\", \"line\": {\"color\": \"#FECB52\", \"dash\": \"solid\"}, \"mode\": \"lines\", \"name\": \"\\uc11c\\uc6b8 \\uc591\\ucc9c\\uad6c\", \"orientation\": \"v\", \"showlegend\": true, \"type\": \"scatter\", \"x\": [\"2_1\", \"3_1\", \"3_2\", \"4_1\", \"5_1\", \"5_2\", \"6_1\", \"6_2\"], \"xaxis\": \"x\", \"y\": [1, 14, 18, 22, 24, 28, 66, 71], \"yaxis\": \"y\"}, {\"hovertemplate\": \"total_ads=\\uc11c\\uc6b8 \\uc601\\ub4f1\\ud3ec\\uad6c<br>confirmed_date=%{x}<br>cnt_sum=%{y}<extra></extra>\", \"legendgroup\": \"\\uc11c\\uc6b8 \\uc601\\ub4f1\\ud3ec\\uad6c\", \"line\": {\"color\": \"#636efa\", \"dash\": \"solid\"}, \"mode\": \"lines\", \"name\": \"\\uc11c\\uc6b8 \\uc601\\ub4f1\\ud3ec\\uad6c\", \"orientation\": \"v\", \"showlegend\": true, \"type\": \"scatter\", \"x\": [\"2_1\", \"3_1\", \"3_2\", \"4_1\", \"5_1\", \"5_2\", \"6_1\", \"6_2\"], \"xaxis\": \"x\", \"y\": [2, 12, 20, 24, 26, 35, 50, 62], \"yaxis\": \"y\"}, {\"hovertemplate\": \"total_ads=\\uc11c\\uc6b8 \\uc740\\ud3c9\\uad6c<br>confirmed_date=%{x}<br>cnt_sum=%{y}<extra></extra>\", \"legendgroup\": \"\\uc11c\\uc6b8 \\uc740\\ud3c9\\uad6c\", \"line\": {\"color\": \"#EF553B\", \"dash\": \"solid\"}, \"mode\": \"lines\", \"name\": \"\\uc11c\\uc6b8 \\uc740\\ud3c9\\uad6c\", \"orientation\": \"v\", \"showlegend\": true, \"type\": \"scatter\", \"x\": [\"2_1\", \"3_1\", \"3_2\", \"4_1\", \"5_1\", \"5_2\", \"6_1\", \"6_2\"], \"xaxis\": \"x\", \"y\": [7, 17, 21, 28, 30, 35, 44, 53], \"yaxis\": \"y\"}, {\"hovertemplate\": \"total_ads=\\uc11c\\uc6b8 \\uac15\\ubd81\\uad6c<br>confirmed_date=%{x}<br>cnt_sum=%{y}<extra></extra>\", \"legendgroup\": \"\\uc11c\\uc6b8 \\uac15\\ubd81\\uad6c\", \"line\": {\"color\": \"#00cc96\", \"dash\": \"solid\"}, \"mode\": \"lines\", \"name\": \"\\uc11c\\uc6b8 \\uac15\\ubd81\\uad6c\", \"orientation\": \"v\", \"showlegend\": true, \"type\": \"scatter\", \"x\": [\"3_1\", \"5_1\", \"5_2\", \"6_1\", \"6_2\"], \"xaxis\": \"x\", \"y\": [5, 8, 14, 23, 24], \"yaxis\": \"y\"}, {\"hovertemplate\": \"total_ads=\\uc11c\\uc6b8 \\ub3c4\\ubd09\\uad6c<br>confirmed_date=%{x}<br>cnt_sum=%{y}<extra></extra>\", \"legendgroup\": \"\\uc11c\\uc6b8 \\ub3c4\\ubd09\\uad6c\", \"line\": {\"color\": \"#ab63fa\", \"dash\": \"solid\"}, \"mode\": \"lines\", \"name\": \"\\uc11c\\uc6b8 \\ub3c4\\ubd09\\uad6c\", \"orientation\": \"v\", \"showlegend\": true, \"type\": \"scatter\", \"x\": [\"3_1\", \"3_2\", \"4_1\", \"5_1\", \"5_2\", \"6_1\", \"6_2\"], \"xaxis\": \"x\", \"y\": [2, 6, 9, 14, 19, 38, 62], \"yaxis\": \"y\"}, {\"hovertemplate\": \"total_ads=\\uc11c\\uc6b8 \\uc6a9\\uc0b0\\uad6c<br>confirmed_date=%{x}<br>cnt_sum=%{y}<extra></extra>\", \"legendgroup\": \"\\uc11c\\uc6b8 \\uc6a9\\uc0b0\\uad6c\", \"line\": {\"color\": \"#FFA15A\", \"dash\": \"solid\"}, \"mode\": \"lines\", \"name\": \"\\uc11c\\uc6b8 \\uc6a9\\uc0b0\\uad6c\", \"orientation\": \"v\", \"showlegend\": true, \"type\": \"scatter\", \"x\": [\"3_1\", \"3_2\", \"4_1\", \"4_2\", \"5_1\", \"5_2\", \"6_1\", \"6_2\"], \"xaxis\": \"x\", \"y\": [2, 12, 17, 18, 34, 38, 48, 50], \"yaxis\": \"y\"}, {\"hovertemplate\": \"total_ads=\\uc11c\\uc6b8 \\uc911\\uad6c<br>confirmed_date=%{x}<br>cnt_sum=%{y}<extra></extra>\", \"legendgroup\": \"\\uc11c\\uc6b8 \\uc911\\uad6c\", \"line\": {\"color\": \"#19d3f3\", \"dash\": \"solid\"}, \"mode\": \"lines\", \"name\": \"\\uc11c\\uc6b8 \\uc911\\uad6c\", \"orientation\": \"v\", \"showlegend\": true, \"type\": \"scatter\", \"x\": [\"3_1\", \"3_2\", \"4_1\", \"5_1\", \"5_2\", \"6_1\", \"6_2\"], \"xaxis\": \"x\", \"y\": [1, 5, 6, 8, 9, 10, 12], \"yaxis\": \"y\"}],\n",
       "                        {\"legend\": {\"title\": {\"text\": \"total_ads\"}, \"tracegroupgap\": 0}, \"margin\": {\"t\": 60}, \"template\": {\"data\": {\"bar\": [{\"error_x\": {\"color\": \"#2a3f5f\"}, \"error_y\": {\"color\": \"#2a3f5f\"}, \"marker\": {\"line\": {\"color\": \"#E5ECF6\", \"width\": 0.5}}, \"type\": \"bar\"}], \"barpolar\": [{\"marker\": {\"line\": {\"color\": \"#E5ECF6\", \"width\": 0.5}}, \"type\": \"barpolar\"}], \"carpet\": [{\"aaxis\": {\"endlinecolor\": \"#2a3f5f\", \"gridcolor\": \"white\", \"linecolor\": \"white\", \"minorgridcolor\": \"white\", \"startlinecolor\": \"#2a3f5f\"}, \"baxis\": {\"endlinecolor\": \"#2a3f5f\", \"gridcolor\": \"white\", \"linecolor\": \"white\", \"minorgridcolor\": \"white\", \"startlinecolor\": \"#2a3f5f\"}, \"type\": \"carpet\"}], \"choropleth\": [{\"colorbar\": {\"outlinewidth\": 0, \"ticks\": \"\"}, \"type\": \"choropleth\"}], \"contour\": [{\"colorbar\": {\"outlinewidth\": 0, \"ticks\": \"\"}, \"colorscale\": [[0.0, \"#0d0887\"], [0.1111111111111111, \"#46039f\"], [0.2222222222222222, \"#7201a8\"], [0.3333333333333333, \"#9c179e\"], [0.4444444444444444, \"#bd3786\"], [0.5555555555555556, \"#d8576b\"], [0.6666666666666666, \"#ed7953\"], [0.7777777777777778, \"#fb9f3a\"], [0.8888888888888888, \"#fdca26\"], [1.0, \"#f0f921\"]], \"type\": \"contour\"}], \"contourcarpet\": [{\"colorbar\": {\"outlinewidth\": 0, \"ticks\": \"\"}, \"type\": \"contourcarpet\"}], \"heatmap\": [{\"colorbar\": {\"outlinewidth\": 0, \"ticks\": \"\"}, \"colorscale\": [[0.0, \"#0d0887\"], [0.1111111111111111, \"#46039f\"], [0.2222222222222222, \"#7201a8\"], [0.3333333333333333, \"#9c179e\"], [0.4444444444444444, \"#bd3786\"], [0.5555555555555556, \"#d8576b\"], [0.6666666666666666, \"#ed7953\"], [0.7777777777777778, \"#fb9f3a\"], [0.8888888888888888, \"#fdca26\"], [1.0, \"#f0f921\"]], \"type\": \"heatmap\"}], \"heatmapgl\": [{\"colorbar\": {\"outlinewidth\": 0, \"ticks\": \"\"}, \"colorscale\": [[0.0, \"#0d0887\"], [0.1111111111111111, \"#46039f\"], [0.2222222222222222, \"#7201a8\"], [0.3333333333333333, \"#9c179e\"], [0.4444444444444444, \"#bd3786\"], [0.5555555555555556, \"#d8576b\"], [0.6666666666666666, \"#ed7953\"], [0.7777777777777778, \"#fb9f3a\"], [0.8888888888888888, \"#fdca26\"], [1.0, \"#f0f921\"]], \"type\": \"heatmapgl\"}], \"histogram\": [{\"marker\": {\"colorbar\": {\"outlinewidth\": 0, \"ticks\": \"\"}}, \"type\": \"histogram\"}], \"histogram2d\": [{\"colorbar\": {\"outlinewidth\": 0, \"ticks\": \"\"}, \"colorscale\": [[0.0, \"#0d0887\"], [0.1111111111111111, \"#46039f\"], [0.2222222222222222, \"#7201a8\"], [0.3333333333333333, \"#9c179e\"], [0.4444444444444444, \"#bd3786\"], [0.5555555555555556, \"#d8576b\"], [0.6666666666666666, \"#ed7953\"], [0.7777777777777778, \"#fb9f3a\"], [0.8888888888888888, \"#fdca26\"], [1.0, \"#f0f921\"]], \"type\": \"histogram2d\"}], \"histogram2dcontour\": [{\"colorbar\": {\"outlinewidth\": 0, \"ticks\": \"\"}, \"colorscale\": [[0.0, \"#0d0887\"], [0.1111111111111111, \"#46039f\"], [0.2222222222222222, \"#7201a8\"], [0.3333333333333333, \"#9c179e\"], [0.4444444444444444, \"#bd3786\"], [0.5555555555555556, \"#d8576b\"], [0.6666666666666666, \"#ed7953\"], [0.7777777777777778, \"#fb9f3a\"], [0.8888888888888888, \"#fdca26\"], [1.0, \"#f0f921\"]], \"type\": \"histogram2dcontour\"}], \"mesh3d\": [{\"colorbar\": {\"outlinewidth\": 0, \"ticks\": \"\"}, \"type\": \"mesh3d\"}], \"parcoords\": [{\"line\": {\"colorbar\": {\"outlinewidth\": 0, \"ticks\": \"\"}}, \"type\": \"parcoords\"}], \"pie\": [{\"automargin\": true, \"type\": \"pie\"}], \"scatter\": [{\"marker\": {\"colorbar\": {\"outlinewidth\": 0, \"ticks\": \"\"}}, \"type\": \"scatter\"}], \"scatter3d\": [{\"line\": {\"colorbar\": {\"outlinewidth\": 0, \"ticks\": \"\"}}, \"marker\": {\"colorbar\": {\"outlinewidth\": 0, \"ticks\": \"\"}}, \"type\": \"scatter3d\"}], \"scattercarpet\": [{\"marker\": {\"colorbar\": {\"outlinewidth\": 0, \"ticks\": \"\"}}, \"type\": \"scattercarpet\"}], \"scattergeo\": [{\"marker\": {\"colorbar\": {\"outlinewidth\": 0, \"ticks\": \"\"}}, \"type\": \"scattergeo\"}], \"scattergl\": [{\"marker\": {\"colorbar\": {\"outlinewidth\": 0, \"ticks\": \"\"}}, \"type\": \"scattergl\"}], \"scattermapbox\": [{\"marker\": {\"colorbar\": {\"outlinewidth\": 0, \"ticks\": \"\"}}, \"type\": \"scattermapbox\"}], \"scatterpolar\": [{\"marker\": {\"colorbar\": {\"outlinewidth\": 0, \"ticks\": \"\"}}, \"type\": \"scatterpolar\"}], \"scatterpolargl\": [{\"marker\": {\"colorbar\": {\"outlinewidth\": 0, \"ticks\": \"\"}}, \"type\": \"scatterpolargl\"}], \"scatterternary\": [{\"marker\": {\"colorbar\": {\"outlinewidth\": 0, \"ticks\": \"\"}}, \"type\": \"scatterternary\"}], \"surface\": [{\"colorbar\": {\"outlinewidth\": 0, \"ticks\": \"\"}, \"colorscale\": [[0.0, \"#0d0887\"], [0.1111111111111111, \"#46039f\"], [0.2222222222222222, \"#7201a8\"], [0.3333333333333333, \"#9c179e\"], [0.4444444444444444, \"#bd3786\"], [0.5555555555555556, \"#d8576b\"], [0.6666666666666666, \"#ed7953\"], [0.7777777777777778, \"#fb9f3a\"], [0.8888888888888888, \"#fdca26\"], [1.0, \"#f0f921\"]], \"type\": \"surface\"}], \"table\": [{\"cells\": {\"fill\": {\"color\": \"#EBF0F8\"}, \"line\": {\"color\": \"white\"}}, \"header\": {\"fill\": {\"color\": \"#C8D4E3\"}, \"line\": {\"color\": \"white\"}}, \"type\": \"table\"}]}, \"layout\": {\"annotationdefaults\": {\"arrowcolor\": \"#2a3f5f\", \"arrowhead\": 0, \"arrowwidth\": 1}, \"coloraxis\": {\"colorbar\": {\"outlinewidth\": 0, \"ticks\": \"\"}}, \"colorscale\": {\"diverging\": [[0, \"#8e0152\"], [0.1, \"#c51b7d\"], [0.2, \"#de77ae\"], [0.3, \"#f1b6da\"], [0.4, \"#fde0ef\"], [0.5, \"#f7f7f7\"], [0.6, \"#e6f5d0\"], [0.7, \"#b8e186\"], [0.8, \"#7fbc41\"], [0.9, \"#4d9221\"], [1, \"#276419\"]], \"sequential\": [[0.0, \"#0d0887\"], [0.1111111111111111, \"#46039f\"], [0.2222222222222222, \"#7201a8\"], [0.3333333333333333, \"#9c179e\"], [0.4444444444444444, \"#bd3786\"], [0.5555555555555556, \"#d8576b\"], [0.6666666666666666, \"#ed7953\"], [0.7777777777777778, \"#fb9f3a\"], [0.8888888888888888, \"#fdca26\"], [1.0, \"#f0f921\"]], \"sequentialminus\": [[0.0, \"#0d0887\"], [0.1111111111111111, \"#46039f\"], [0.2222222222222222, \"#7201a8\"], [0.3333333333333333, \"#9c179e\"], [0.4444444444444444, \"#bd3786\"], [0.5555555555555556, \"#d8576b\"], [0.6666666666666666, \"#ed7953\"], [0.7777777777777778, \"#fb9f3a\"], [0.8888888888888888, \"#fdca26\"], [1.0, \"#f0f921\"]]}, \"colorway\": [\"#636efa\", \"#EF553B\", \"#00cc96\", \"#ab63fa\", \"#FFA15A\", \"#19d3f3\", \"#FF6692\", \"#B6E880\", \"#FF97FF\", \"#FECB52\"], \"font\": {\"color\": \"#2a3f5f\"}, \"geo\": {\"bgcolor\": \"white\", \"lakecolor\": \"white\", \"landcolor\": \"#E5ECF6\", \"showlakes\": true, \"showland\": true, \"subunitcolor\": \"white\"}, \"hoverlabel\": {\"align\": \"left\"}, \"hovermode\": \"closest\", \"mapbox\": {\"style\": \"light\"}, \"paper_bgcolor\": \"white\", \"plot_bgcolor\": \"#E5ECF6\", \"polar\": {\"angularaxis\": {\"gridcolor\": \"white\", \"linecolor\": \"white\", \"ticks\": \"\"}, \"bgcolor\": \"#E5ECF6\", \"radialaxis\": {\"gridcolor\": \"white\", \"linecolor\": \"white\", \"ticks\": \"\"}}, \"scene\": {\"xaxis\": {\"backgroundcolor\": \"#E5ECF6\", \"gridcolor\": \"white\", \"gridwidth\": 2, \"linecolor\": \"white\", \"showbackground\": true, \"ticks\": \"\", \"zerolinecolor\": \"white\"}, \"yaxis\": {\"backgroundcolor\": \"#E5ECF6\", \"gridcolor\": \"white\", \"gridwidth\": 2, \"linecolor\": \"white\", \"showbackground\": true, \"ticks\": \"\", \"zerolinecolor\": \"white\"}, \"zaxis\": {\"backgroundcolor\": \"#E5ECF6\", \"gridcolor\": \"white\", \"gridwidth\": 2, \"linecolor\": \"white\", \"showbackground\": true, \"ticks\": \"\", \"zerolinecolor\": \"white\"}}, \"shapedefaults\": {\"line\": {\"color\": \"#2a3f5f\"}}, \"ternary\": {\"aaxis\": {\"gridcolor\": \"white\", \"linecolor\": \"white\", \"ticks\": \"\"}, \"baxis\": {\"gridcolor\": \"white\", \"linecolor\": \"white\", \"ticks\": \"\"}, \"bgcolor\": \"#E5ECF6\", \"caxis\": {\"gridcolor\": \"white\", \"linecolor\": \"white\", \"ticks\": \"\"}}, \"title\": {\"x\": 0.05}, \"xaxis\": {\"automargin\": true, \"gridcolor\": \"white\", \"linecolor\": \"white\", \"ticks\": \"\", \"title\": {\"standoff\": 15}, \"zerolinecolor\": \"white\", \"zerolinewidth\": 2}, \"yaxis\": {\"automargin\": true, \"gridcolor\": \"white\", \"linecolor\": \"white\", \"ticks\": \"\", \"title\": {\"standoff\": 15}, \"zerolinecolor\": \"white\", \"zerolinewidth\": 2}}}, \"title\": {\"text\": \"\\uc9c0\\uc5ed\\ubcc4 \\ud655\\uc9c4\\uc790 \\ubcc0\\ud654(\\uc11c\\uc6b8 \\ud55c\\uc815)-\\ub2ec \\ucd08/\\ub9d0 \\ub85c \\ub098\\ub214\", \"x\": 0.5, \"xanchor\": \"center\", \"y\": 1, \"yanchor\": \"top\"}, \"xaxis\": {\"anchor\": \"y\", \"domain\": [0.0, 1.0], \"title\": {\"text\": \"confirmed_date\"}}, \"yaxis\": {\"anchor\": \"x\", \"domain\": [0.0, 1.0], \"title\": {\"text\": \"cnt_sum\"}}},\n",
       "                        {\"responsive\": true}\n",
       "                    ).then(function(){\n",
       "                            \n",
       "var gd = document.getElementById('dc15e395-a2bd-45f1-b812-177800379a06');\n",
       "var x = new MutationObserver(function (mutations, observer) {{\n",
       "        var display = window.getComputedStyle(gd).display;\n",
       "        if (!display || display === 'none') {{\n",
       "            console.log([gd, 'removed!']);\n",
       "            Plotly.purge(gd);\n",
       "            observer.disconnect();\n",
       "        }}\n",
       "}});\n",
       "\n",
       "// Listen for the removal of the full notebook cells\n",
       "var notebookContainer = gd.closest('#notebook-container');\n",
       "if (notebookContainer) {{\n",
       "    x.observe(notebookContainer, {childList: true});\n",
       "}}\n",
       "\n",
       "// Listen for the clearing of the current output cell\n",
       "var outputEl = gd.closest('.output');\n",
       "if (outputEl) {{\n",
       "    x.observe(outputEl, {childList: true});\n",
       "}}\n",
       "\n",
       "                        })\n",
       "                };\n",
       "                });\n",
       "            </script>\n",
       "        </div>"
      ]
     },
     "metadata": {},
     "output_type": "display_data"
    }
   ],
   "source": [
    "fig=px.line(patient_seoul_ads,x='confirmed_date',y='cnt_sum',color='total_ads')\n",
    "fig.update_layout(\n",
    "    title={\n",
    "        'text': \"지역별 확진자 변화(서울/누적)\",\n",
    "        'y':1,\n",
    "        'x':0.5,\n",
    "        'xanchor': 'center',\n",
    "        'yanchor': 'top'})\n",
    "fig.show()"
   ]
  },
  {
   "cell_type": "code",
   "execution_count": 48,
   "metadata": {},
   "outputs": [
    {
     "data": {
      "text/html": [
       "<div>\n",
       "<style scoped>\n",
       "    .dataframe tbody tr th:only-of-type {\n",
       "        vertical-align: middle;\n",
       "    }\n",
       "\n",
       "    .dataframe tbody tr th {\n",
       "        vertical-align: top;\n",
       "    }\n",
       "\n",
       "    .dataframe thead th {\n",
       "        text-align: right;\n",
       "    }\n",
       "</style>\n",
       "<table border=\"1\" class=\"dataframe\">\n",
       "  <thead>\n",
       "    <tr style=\"text-align: right;\">\n",
       "      <th></th>\n",
       "      <th>confirmed_date</th>\n",
       "      <th>total_ads</th>\n",
       "      <th>cnt</th>\n",
       "    </tr>\n",
       "  </thead>\n",
       "  <tbody>\n",
       "    <tr>\n",
       "      <th>12</th>\n",
       "      <td>3_1</td>\n",
       "      <td>서울 동대문구</td>\n",
       "      <td>21</td>\n",
       "    </tr>\n",
       "    <tr>\n",
       "      <th>6</th>\n",
       "      <td>3_1</td>\n",
       "      <td>서울 구로구</td>\n",
       "      <td>19</td>\n",
       "    </tr>\n",
       "    <tr>\n",
       "      <th>18</th>\n",
       "      <td>3_1</td>\n",
       "      <td>서울 양천구</td>\n",
       "      <td>13</td>\n",
       "    </tr>\n",
       "    <tr>\n",
       "      <th>3</th>\n",
       "      <td>3_1</td>\n",
       "      <td>서울 강서구</td>\n",
       "      <td>12</td>\n",
       "    </tr>\n",
       "    <tr>\n",
       "      <th>4</th>\n",
       "      <td>3_1</td>\n",
       "      <td>서울 관악구</td>\n",
       "      <td>11</td>\n",
       "    </tr>\n",
       "    <tr>\n",
       "      <th>21</th>\n",
       "      <td>3_1</td>\n",
       "      <td>서울 은평구</td>\n",
       "      <td>10</td>\n",
       "    </tr>\n",
       "    <tr>\n",
       "      <th>19</th>\n",
       "      <td>3_1</td>\n",
       "      <td>서울 영등포구</td>\n",
       "      <td>10</td>\n",
       "    </tr>\n",
       "    <tr>\n",
       "      <th>8</th>\n",
       "      <td>3_1</td>\n",
       "      <td>서울 기타</td>\n",
       "      <td>8</td>\n",
       "    </tr>\n",
       "    <tr>\n",
       "      <th>13</th>\n",
       "      <td>3_1</td>\n",
       "      <td>서울 마포구</td>\n",
       "      <td>7</td>\n",
       "    </tr>\n",
       "    <tr>\n",
       "      <th>16</th>\n",
       "      <td>3_1</td>\n",
       "      <td>서울 성북구</td>\n",
       "      <td>7</td>\n",
       "    </tr>\n",
       "    <tr>\n",
       "      <th>0</th>\n",
       "      <td>3_1</td>\n",
       "      <td>서울 강남구</td>\n",
       "      <td>7</td>\n",
       "    </tr>\n",
       "    <tr>\n",
       "      <th>9</th>\n",
       "      <td>3_1</td>\n",
       "      <td>서울 노원구</td>\n",
       "      <td>7</td>\n",
       "    </tr>\n",
       "    <tr>\n",
       "      <th>11</th>\n",
       "      <td>3_1</td>\n",
       "      <td>서울 동구 구</td>\n",
       "      <td>5</td>\n",
       "    </tr>\n",
       "    <tr>\n",
       "      <th>15</th>\n",
       "      <td>3_1</td>\n",
       "      <td>서울 서초구</td>\n",
       "      <td>5</td>\n",
       "    </tr>\n",
       "    <tr>\n",
       "      <th>2</th>\n",
       "      <td>3_1</td>\n",
       "      <td>서울 강북구</td>\n",
       "      <td>5</td>\n",
       "    </tr>\n",
       "    <tr>\n",
       "      <th>17</th>\n",
       "      <td>3_1</td>\n",
       "      <td>서울 송파구</td>\n",
       "      <td>4</td>\n",
       "    </tr>\n",
       "    <tr>\n",
       "      <th>7</th>\n",
       "      <td>3_1</td>\n",
       "      <td>서울 금천구</td>\n",
       "      <td>4</td>\n",
       "    </tr>\n",
       "    <tr>\n",
       "      <th>23</th>\n",
       "      <td>3_1</td>\n",
       "      <td>서울 중랑구</td>\n",
       "      <td>4</td>\n",
       "    </tr>\n",
       "    <tr>\n",
       "      <th>10</th>\n",
       "      <td>3_1</td>\n",
       "      <td>서울 도봉구</td>\n",
       "      <td>2</td>\n",
       "    </tr>\n",
       "    <tr>\n",
       "      <th>14</th>\n",
       "      <td>3_1</td>\n",
       "      <td>서울 서대문구</td>\n",
       "      <td>2</td>\n",
       "    </tr>\n",
       "    <tr>\n",
       "      <th>20</th>\n",
       "      <td>3_1</td>\n",
       "      <td>서울 용산구</td>\n",
       "      <td>2</td>\n",
       "    </tr>\n",
       "    <tr>\n",
       "      <th>1</th>\n",
       "      <td>3_1</td>\n",
       "      <td>서울 강동구</td>\n",
       "      <td>1</td>\n",
       "    </tr>\n",
       "    <tr>\n",
       "      <th>5</th>\n",
       "      <td>3_1</td>\n",
       "      <td>서울 광진구</td>\n",
       "      <td>1</td>\n",
       "    </tr>\n",
       "    <tr>\n",
       "      <th>22</th>\n",
       "      <td>3_1</td>\n",
       "      <td>서울 중구</td>\n",
       "      <td>1</td>\n",
       "    </tr>\n",
       "  </tbody>\n",
       "</table>\n",
       "</div>"
      ],
      "text/plain": [
       "   confirmed_date total_ads  cnt\n",
       "12            3_1   서울 동대문구   21\n",
       "6             3_1    서울 구로구   19\n",
       "18            3_1    서울 양천구   13\n",
       "3             3_1    서울 강서구   12\n",
       "4             3_1    서울 관악구   11\n",
       "21            3_1    서울 은평구   10\n",
       "19            3_1   서울 영등포구   10\n",
       "8             3_1     서울 기타    8\n",
       "13            3_1    서울 마포구    7\n",
       "16            3_1    서울 성북구    7\n",
       "0             3_1    서울 강남구    7\n",
       "9             3_1    서울 노원구    7\n",
       "11            3_1   서울 동구 구    5\n",
       "15            3_1    서울 서초구    5\n",
       "2             3_1    서울 강북구    5\n",
       "17            3_1    서울 송파구    4\n",
       "7             3_1    서울 금천구    4\n",
       "23            3_1    서울 중랑구    4\n",
       "10            3_1    서울 도봉구    2\n",
       "14            3_1   서울 서대문구    2\n",
       "20            3_1    서울 용산구    2\n",
       "1             3_1    서울 강동구    1\n",
       "5             3_1    서울 광진구    1\n",
       "22            3_1     서울 중구    1"
      ]
     },
     "execution_count": 48,
     "metadata": {},
     "output_type": "execute_result"
    }
   ],
   "source": [
    "patient_seoul_mar_1.sort_values('cnt', ascending=False)"
   ]
  },
  {
   "cell_type": "code",
   "execution_count": 49,
   "metadata": {},
   "outputs": [
    {
     "data": {
      "text/html": [
       "<div>\n",
       "<style scoped>\n",
       "    .dataframe tbody tr th:only-of-type {\n",
       "        vertical-align: middle;\n",
       "    }\n",
       "\n",
       "    .dataframe tbody tr th {\n",
       "        vertical-align: top;\n",
       "    }\n",
       "\n",
       "    .dataframe thead th {\n",
       "        text-align: right;\n",
       "    }\n",
       "</style>\n",
       "<table border=\"1\" class=\"dataframe\">\n",
       "  <thead>\n",
       "    <tr style=\"text-align: right;\">\n",
       "      <th></th>\n",
       "      <th>confirmed_date</th>\n",
       "      <th>total_ads</th>\n",
       "      <th>cnt</th>\n",
       "    </tr>\n",
       "  </thead>\n",
       "  <tbody>\n",
       "    <tr>\n",
       "      <th>0</th>\n",
       "      <td>3_2</td>\n",
       "      <td>서울 강남구</td>\n",
       "      <td>27</td>\n",
       "    </tr>\n",
       "    <tr>\n",
       "      <th>3</th>\n",
       "      <td>3_2</td>\n",
       "      <td>서울 관악구</td>\n",
       "      <td>19</td>\n",
       "    </tr>\n",
       "    <tr>\n",
       "      <th>10</th>\n",
       "      <td>3_2</td>\n",
       "      <td>서울 동구 구</td>\n",
       "      <td>18</td>\n",
       "    </tr>\n",
       "    <tr>\n",
       "      <th>14</th>\n",
       "      <td>3_2</td>\n",
       "      <td>서울 서초구</td>\n",
       "      <td>15</td>\n",
       "    </tr>\n",
       "    <tr>\n",
       "      <th>7</th>\n",
       "      <td>3_2</td>\n",
       "      <td>서울 기타</td>\n",
       "      <td>14</td>\n",
       "    </tr>\n",
       "    <tr>\n",
       "      <th>5</th>\n",
       "      <td>3_2</td>\n",
       "      <td>서울 구로구</td>\n",
       "      <td>13</td>\n",
       "    </tr>\n",
       "    <tr>\n",
       "      <th>17</th>\n",
       "      <td>3_2</td>\n",
       "      <td>서울 송파구</td>\n",
       "      <td>12</td>\n",
       "    </tr>\n",
       "    <tr>\n",
       "      <th>20</th>\n",
       "      <td>3_2</td>\n",
       "      <td>서울 용산구</td>\n",
       "      <td>10</td>\n",
       "    </tr>\n",
       "    <tr>\n",
       "      <th>12</th>\n",
       "      <td>3_2</td>\n",
       "      <td>서울 마포구</td>\n",
       "      <td>9</td>\n",
       "    </tr>\n",
       "    <tr>\n",
       "      <th>13</th>\n",
       "      <td>3_2</td>\n",
       "      <td>서울 서대문구</td>\n",
       "      <td>8</td>\n",
       "    </tr>\n",
       "    <tr>\n",
       "      <th>6</th>\n",
       "      <td>3_2</td>\n",
       "      <td>서울 금천구</td>\n",
       "      <td>8</td>\n",
       "    </tr>\n",
       "    <tr>\n",
       "      <th>19</th>\n",
       "      <td>3_2</td>\n",
       "      <td>서울 영등포구</td>\n",
       "      <td>8</td>\n",
       "    </tr>\n",
       "    <tr>\n",
       "      <th>2</th>\n",
       "      <td>3_2</td>\n",
       "      <td>서울 강서구</td>\n",
       "      <td>8</td>\n",
       "    </tr>\n",
       "    <tr>\n",
       "      <th>24</th>\n",
       "      <td>3_2</td>\n",
       "      <td>서울 중랑구</td>\n",
       "      <td>8</td>\n",
       "    </tr>\n",
       "    <tr>\n",
       "      <th>16</th>\n",
       "      <td>3_2</td>\n",
       "      <td>서울 성북구</td>\n",
       "      <td>6</td>\n",
       "    </tr>\n",
       "    <tr>\n",
       "      <th>8</th>\n",
       "      <td>3_2</td>\n",
       "      <td>서울 노원구</td>\n",
       "      <td>5</td>\n",
       "    </tr>\n",
       "    <tr>\n",
       "      <th>1</th>\n",
       "      <td>3_2</td>\n",
       "      <td>서울 강동구</td>\n",
       "      <td>5</td>\n",
       "    </tr>\n",
       "    <tr>\n",
       "      <th>9</th>\n",
       "      <td>3_2</td>\n",
       "      <td>서울 도봉구</td>\n",
       "      <td>4</td>\n",
       "    </tr>\n",
       "    <tr>\n",
       "      <th>11</th>\n",
       "      <td>3_2</td>\n",
       "      <td>서울 동대문구</td>\n",
       "      <td>4</td>\n",
       "    </tr>\n",
       "    <tr>\n",
       "      <th>4</th>\n",
       "      <td>3_2</td>\n",
       "      <td>서울 광진구</td>\n",
       "      <td>4</td>\n",
       "    </tr>\n",
       "    <tr>\n",
       "      <th>18</th>\n",
       "      <td>3_2</td>\n",
       "      <td>서울 양천구</td>\n",
       "      <td>4</td>\n",
       "    </tr>\n",
       "    <tr>\n",
       "      <th>21</th>\n",
       "      <td>3_2</td>\n",
       "      <td>서울 은평구</td>\n",
       "      <td>4</td>\n",
       "    </tr>\n",
       "    <tr>\n",
       "      <th>22</th>\n",
       "      <td>3_2</td>\n",
       "      <td>서울 종로구</td>\n",
       "      <td>4</td>\n",
       "    </tr>\n",
       "    <tr>\n",
       "      <th>23</th>\n",
       "      <td>3_2</td>\n",
       "      <td>서울 중구</td>\n",
       "      <td>4</td>\n",
       "    </tr>\n",
       "    <tr>\n",
       "      <th>15</th>\n",
       "      <td>3_2</td>\n",
       "      <td>서울 성동구</td>\n",
       "      <td>3</td>\n",
       "    </tr>\n",
       "  </tbody>\n",
       "</table>\n",
       "</div>"
      ],
      "text/plain": [
       "   confirmed_date total_ads  cnt\n",
       "0             3_2    서울 강남구   27\n",
       "3             3_2    서울 관악구   19\n",
       "10            3_2   서울 동구 구   18\n",
       "14            3_2    서울 서초구   15\n",
       "7             3_2     서울 기타   14\n",
       "5             3_2    서울 구로구   13\n",
       "17            3_2    서울 송파구   12\n",
       "20            3_2    서울 용산구   10\n",
       "12            3_2    서울 마포구    9\n",
       "13            3_2   서울 서대문구    8\n",
       "6             3_2    서울 금천구    8\n",
       "19            3_2   서울 영등포구    8\n",
       "2             3_2    서울 강서구    8\n",
       "24            3_2    서울 중랑구    8\n",
       "16            3_2    서울 성북구    6\n",
       "8             3_2    서울 노원구    5\n",
       "1             3_2    서울 강동구    5\n",
       "9             3_2    서울 도봉구    4\n",
       "11            3_2   서울 동대문구    4\n",
       "4             3_2    서울 광진구    4\n",
       "18            3_2    서울 양천구    4\n",
       "21            3_2    서울 은평구    4\n",
       "22            3_2    서울 종로구    4\n",
       "23            3_2     서울 중구    4\n",
       "15            3_2    서울 성동구    3"
      ]
     },
     "execution_count": 49,
     "metadata": {},
     "output_type": "execute_result"
    }
   ],
   "source": [
    "patient_seoul_mar_2.sort_values('cnt', ascending=False)"
   ]
  },
  {
   "cell_type": "code",
   "execution_count": null,
   "metadata": {},
   "outputs": [],
   "source": []
  }
 ],
 "metadata": {
  "kernelspec": {
   "display_name": "Python 3",
   "language": "python",
   "name": "python3"
  },
  "language_info": {
   "codemirror_mode": {
    "name": "ipython",
    "version": 3
   },
   "file_extension": ".py",
   "mimetype": "text/x-python",
   "name": "python",
   "nbconvert_exporter": "python",
   "pygments_lexer": "ipython3",
   "version": "3.7.6"
  }
 },
 "nbformat": 4,
 "nbformat_minor": 4
}
