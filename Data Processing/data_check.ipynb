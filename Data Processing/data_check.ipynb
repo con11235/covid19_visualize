{
  "nbformat": 4,
  "nbformat_minor": 0,
  "metadata": {
    "kernelspec": {
      "display_name": "Python 3",
      "language": "python",
      "name": "python3"
    },
    "colab": {
      "name": "data_check.ipynb",
      "provenance": [],
      "collapsed_sections": [],
      "include_colab_link": true
    }
  },
  "cells": [
    {
      "cell_type": "markdown",
      "metadata": {
        "id": "view-in-github",
        "colab_type": "text"
      },
      "source": [
        "<a href=\"https://colab.research.google.com/github/con11235/covid19_visualize/blob/master/Data%20Processing/data_check.ipynb\" target=\"_parent\"><img src=\"https://colab.research.google.com/assets/colab-badge.svg\" alt=\"Open In Colab\"/></a>"
      ]
    },
    {
      "cell_type": "code",
      "metadata": {
        "id": "hAVSJpGWkvA4",
        "colab_type": "code",
        "colab": {
          "base_uri": "https://localhost:8080/",
          "height": 34
        },
        "outputId": "3af47388-0180-410e-89cf-d5642a98b486"
      },
      "source": [
        "from google.colab import drive\n",
        "drive.mount('/content/gdrive')\n"
      ],
      "execution_count": null,
      "outputs": [
        {
          "output_type": "stream",
          "text": [
            "Drive already mounted at /content/gdrive; to attempt to forcibly remount, call drive.mount(\"/content/gdrive\", force_remount=True).\n"
          ],
          "name": "stdout"
        }
      ]
    },
    {
      "cell_type": "code",
      "metadata": {
        "id": "4nJY1KAOj2zp",
        "colab_type": "code",
        "colab": {
          "base_uri": "https://localhost:8080/",
          "height": 154
        },
        "outputId": "578dfa61-88de-4e1b-ff8a-67b9ea0d8543"
      },
      "source": [
        "\n",
        "import pandas as pd\n",
        "import seaborn as sns\n",
        "import numpy as np\n",
        "import warnings\n",
        "warnings.filterwarnings(action='ignore')\n",
        "\n",
        "import matplotlib as mpl\n",
        "import matplotlib.pyplot as plt\n",
        "%config InlineBackend.figure_format = 'retina' \n",
        "!apt -qq -y install fonts-nanum\n",
        "import matplotlib.font_manager as fm\n",
        "fontpath = '/usr/share/fonts/truetype/nanum/NanumBarunGothic.ttf'\n",
        "font = fm.FontProperties(fname=fontpath, size=9)\n",
        "plt.rc('font', family='NanumBarunGothic') \n",
        "mpl.font_manager._rebuild()\n"
      ],
      "execution_count": null,
      "outputs": [
        {
          "output_type": "stream",
          "text": [
            "/usr/local/lib/python3.6/dist-packages/statsmodels/tools/_testing.py:19: FutureWarning: pandas.util.testing is deprecated. Use the functions in the public API at pandas.testing instead.\n",
            "  import pandas.util.testing as tm\n"
          ],
          "name": "stderr"
        },
        {
          "output_type": "stream",
          "text": [
            "fonts-nanum is already the newest version (20170925-1).\n",
            "The following package was automatically installed and is no longer required:\n",
            "  libnvidia-common-440\n",
            "Use 'apt autoremove' to remove it.\n",
            "0 upgraded, 0 newly installed, 0 to remove and 33 not upgraded.\n"
          ],
          "name": "stdout"
        }
      ]
    },
    {
      "cell_type": "code",
      "metadata": {
        "id": "1fSZMKagj20B",
        "colab_type": "code",
        "colab": {
          "base_uri": "https://localhost:8080/",
          "height": 204
        },
        "outputId": "e1cba210-e426-40f7-daa9-d6136495aa29"
      },
      "source": [
        "adstrd=pd.read_csv('/content/gdrive/My Drive/dacon/adstrd_master.csv')\n",
        "adstrd.head()"
      ],
      "execution_count": null,
      "outputs": [
        {
          "output_type": "execute_result",
          "data": {
            "text/html": [
              "<div>\n",
              "<style scoped>\n",
              "    .dataframe tbody tr th:only-of-type {\n",
              "        vertical-align: middle;\n",
              "    }\n",
              "\n",
              "    .dataframe tbody tr th {\n",
              "        vertical-align: top;\n",
              "    }\n",
              "\n",
              "    .dataframe thead th {\n",
              "        text-align: right;\n",
              "    }\n",
              "</style>\n",
              "<table border=\"1\" class=\"dataframe\">\n",
              "  <thead>\n",
              "    <tr style=\"text-align: right;\">\n",
              "      <th></th>\n",
              "      <th>adstrd_code</th>\n",
              "      <th>adstrd_nm</th>\n",
              "      <th>brtc_nm</th>\n",
              "      <th>signgu_nm</th>\n",
              "    </tr>\n",
              "  </thead>\n",
              "  <tbody>\n",
              "    <tr>\n",
              "      <th>0</th>\n",
              "      <td>11110515.0</td>\n",
              "      <td>청운효자동</td>\n",
              "      <td>서울특별시</td>\n",
              "      <td>종로구</td>\n",
              "    </tr>\n",
              "    <tr>\n",
              "      <th>1</th>\n",
              "      <td>11110530.0</td>\n",
              "      <td>사직동</td>\n",
              "      <td>서울특별시</td>\n",
              "      <td>종로구</td>\n",
              "    </tr>\n",
              "    <tr>\n",
              "      <th>2</th>\n",
              "      <td>11110540.0</td>\n",
              "      <td>삼청동</td>\n",
              "      <td>서울특별시</td>\n",
              "      <td>종로구</td>\n",
              "    </tr>\n",
              "    <tr>\n",
              "      <th>3</th>\n",
              "      <td>11110550.0</td>\n",
              "      <td>부암동</td>\n",
              "      <td>서울특별시</td>\n",
              "      <td>종로구</td>\n",
              "    </tr>\n",
              "    <tr>\n",
              "      <th>4</th>\n",
              "      <td>11110560.0</td>\n",
              "      <td>평창동</td>\n",
              "      <td>서울특별시</td>\n",
              "      <td>종로구</td>\n",
              "    </tr>\n",
              "  </tbody>\n",
              "</table>\n",
              "</div>"
            ],
            "text/plain": [
              "   adstrd_code adstrd_nm brtc_nm signgu_nm\n",
              "0   11110515.0     청운효자동   서울특별시       종로구\n",
              "1   11110530.0       사직동   서울특별시       종로구\n",
              "2   11110540.0       삼청동   서울특별시       종로구\n",
              "3   11110550.0       부암동   서울특별시       종로구\n",
              "4   11110560.0       평창동   서울특별시       종로구"
            ]
          },
          "metadata": {
            "tags": []
          },
          "execution_count": 62
        }
      ]
    },
    {
      "cell_type": "markdown",
      "metadata": {
        "id": "g9ncBe3pr6h8",
        "colab_type": "text"
      },
      "source": [
        "Card data"
      ]
    },
    {
      "cell_type": "code",
      "metadata": {
        "id": "ObqSOgu3j20S",
        "colab_type": "code",
        "colab": {
          "base_uri": "https://localhost:8080/",
          "height": 195
        },
        "outputId": "365c86e2-8beb-4106-8149-70d46b8693ff"
      },
      "source": [
        "card=pd.read_csv('/content/gdrive/My Drive/dacon/card.csv')\n",
        "card.head()"
      ],
      "execution_count": null,
      "outputs": [
        {
          "output_type": "execute_result",
          "data": {
            "text/html": [
              "<div>\n",
              "<style scoped>\n",
              "    .dataframe tbody tr th:only-of-type {\n",
              "        vertical-align: middle;\n",
              "    }\n",
              "\n",
              "    .dataframe tbody tr th {\n",
              "        vertical-align: top;\n",
              "    }\n",
              "\n",
              "    .dataframe thead th {\n",
              "        text-align: right;\n",
              "    }\n",
              "</style>\n",
              "<table border=\"1\" class=\"dataframe\">\n",
              "  <thead>\n",
              "    <tr style=\"text-align: right;\">\n",
              "      <th></th>\n",
              "      <th>receipt_dttm</th>\n",
              "      <th>adstrd_code</th>\n",
              "      <th>adstrd_nm</th>\n",
              "      <th>mrhst_induty_cl_code</th>\n",
              "      <th>mrhst_induty_cl_nm</th>\n",
              "      <th>selng_cascnt</th>\n",
              "      <th>salamt</th>\n",
              "    </tr>\n",
              "  </thead>\n",
              "  <tbody>\n",
              "    <tr>\n",
              "      <th>0</th>\n",
              "      <td>20200104</td>\n",
              "      <td>1174066000</td>\n",
              "      <td>성내3동</td>\n",
              "      <td>7041</td>\n",
              "      <td>약국</td>\n",
              "      <td>463</td>\n",
              "      <td>5843230</td>\n",
              "    </tr>\n",
              "    <tr>\n",
              "      <th>1</th>\n",
              "      <td>20200104</td>\n",
              "      <td>1174066000</td>\n",
              "      <td>성내3동</td>\n",
              "      <td>7022</td>\n",
              "      <td>치과의원</td>\n",
              "      <td>33</td>\n",
              "      <td>7835550</td>\n",
              "    </tr>\n",
              "    <tr>\n",
              "      <th>2</th>\n",
              "      <td>20200104</td>\n",
              "      <td>1174066000</td>\n",
              "      <td>성내3동</td>\n",
              "      <td>7021</td>\n",
              "      <td>한의원</td>\n",
              "      <td>53</td>\n",
              "      <td>4589800</td>\n",
              "    </tr>\n",
              "    <tr>\n",
              "      <th>3</th>\n",
              "      <td>20200104</td>\n",
              "      <td>1174066000</td>\n",
              "      <td>성내3동</td>\n",
              "      <td>7020</td>\n",
              "      <td>의원</td>\n",
              "      <td>339</td>\n",
              "      <td>9267240</td>\n",
              "    </tr>\n",
              "    <tr>\n",
              "      <th>4</th>\n",
              "      <td>20200104</td>\n",
              "      <td>1174066000</td>\n",
              "      <td>성내3동</td>\n",
              "      <td>6110</td>\n",
              "      <td>자동차정비</td>\n",
              "      <td>19</td>\n",
              "      <td>4441000</td>\n",
              "    </tr>\n",
              "  </tbody>\n",
              "</table>\n",
              "</div>"
            ],
            "text/plain": [
              "   receipt_dttm  adstrd_code adstrd_nm  ...  mrhst_induty_cl_nm selng_cascnt   salamt\n",
              "0      20200104   1174066000      성내3동  ...                  약국          463  5843230\n",
              "1      20200104   1174066000      성내3동  ...                치과의원           33  7835550\n",
              "2      20200104   1174066000      성내3동  ...                 한의원           53  4589800\n",
              "3      20200104   1174066000      성내3동  ...                  의원          339  9267240\n",
              "4      20200104   1174066000      성내3동  ...               자동차정비           19  4441000\n",
              "\n",
              "[5 rows x 7 columns]"
            ]
          },
          "metadata": {
            "tags": []
          },
          "execution_count": 3
        }
      ]
    },
    {
      "cell_type": "code",
      "metadata": {
        "id": "mZRprk0Xc3ER",
        "colab_type": "code",
        "colab": {
          "base_uri": "https://localhost:8080/",
          "height": 35
        },
        "outputId": "7a1d7e5e-4b36-46a0-f87d-725ef2919f32"
      },
      "source": [
        ""
      ],
      "execution_count": null,
      "outputs": [
        {
          "output_type": "execute_result",
          "data": {
            "text/plain": [
              "265"
            ]
          },
          "metadata": {
            "tags": []
          },
          "execution_count": 63
        }
      ]
    },
    {
      "cell_type": "code",
      "metadata": {
        "id": "XDYifTgoPI1L",
        "colab_type": "code",
        "colab": {
          "base_uri": "https://localhost:8080/",
          "height": 768
        },
        "outputId": "a7135cae-b0f0-49f4-b29e-dd10fafeb14d"
      },
      "source": [
        "plt.figure(figsize=(10 ,5))\n",
        "sns.countplot(x='mrhst_induty_cl_nm',data=card)\n",
        "plt.title('업종명')\n",
        "plt.xticks(rotation=90,fontsize=5)"
      ],
      "execution_count": null,
      "outputs": [
        {
          "output_type": "execute_result",
          "data": {
            "text/plain": [
              "(array([  0,   1,   2,   3,   4,   5,   6,   7,   8,   9,  10,  11,  12,\n",
              "         13,  14,  15,  16,  17,  18,  19,  20,  21,  22,  23,  24,  25,\n",
              "         26,  27,  28,  29,  30,  31,  32,  33,  34,  35,  36,  37,  38,\n",
              "         39,  40,  41,  42,  43,  44,  45,  46,  47,  48,  49,  50,  51,\n",
              "         52,  53,  54,  55,  56,  57,  58,  59,  60,  61,  62,  63,  64,\n",
              "         65,  66,  67,  68,  69,  70,  71,  72,  73,  74,  75,  76,  77,\n",
              "         78,  79,  80,  81,  82,  83,  84,  85,  86,  87,  88,  89,  90,\n",
              "         91,  92,  93,  94,  95,  96,  97,  98,  99, 100, 101, 102, 103,\n",
              "        104, 105, 106, 107, 108, 109, 110, 111, 112, 113, 114, 115, 116,\n",
              "        117, 118, 119, 120, 121, 122, 123, 124, 125, 126, 127, 128, 129,\n",
              "        130, 131, 132, 133, 134, 135, 136, 137, 138, 139, 140, 141, 142,\n",
              "        143, 144, 145, 146, 147, 148, 149, 150, 151, 152, 153, 154, 155,\n",
              "        156, 157, 158, 159, 160, 161, 162, 163, 164, 165, 166, 167, 168,\n",
              "        169, 170, 171, 172, 173, 174, 175, 176, 177, 178, 179, 180, 181,\n",
              "        182, 183, 184, 185, 186, 187, 188, 189, 190, 191, 192, 193, 194,\n",
              "        195, 196, 197, 198, 199, 200, 201, 202, 203, 204, 205, 206, 207,\n",
              "        208, 209, 210, 211, 212, 213, 214, 215, 216, 217, 218, 219, 220,\n",
              "        221, 222, 223, 224, 225, 226, 227, 228, 229, 230, 231, 232, 233,\n",
              "        234, 235, 236, 237, 238, 239, 240, 241, 242, 243, 244, 245, 246,\n",
              "        247, 248, 249, 250, 251, 252, 253, 254, 255, 256, 257, 258, 259,\n",
              "        260, 261, 262, 263, 264]),\n",
              " <a list of 265 Text major ticklabel objects>)"
            ]
          },
          "metadata": {
            "tags": []
          },
          "execution_count": 10
        },
        {
          "output_type": "display_data",
          "data": {
            "image/png": "[encoded data removed]",
            "text/plain": [
              "<Figure size 720x360 with 1 Axes>"
            ]
          },
          "metadata": {
            "tags": [],
            "image/png": {
              "width": 624,
              "height": 381
            },
            "needs_background": "light"
          }
        }
      ]
    },
    {
      "cell_type": "code",
      "metadata": {
        "id": "3R4Z3mVfj20l",
        "colab_type": "code",
        "colab": {}
      },
      "source": [
        "#data_3=pd.read_excel('COVID_eng_kor_table.xlsx')#->영문/한글 변경시 사"
      ],
      "execution_count": null,
      "outputs": []
    },
    {
      "cell_type": "markdown",
      "metadata": {
        "id": "TSaBvcWWTdtR",
        "colab_type": "text"
      },
      "source": [
        "Delivery"
      ]
    },
    {
      "cell_type": "code",
      "metadata": {
        "id": "zv8nJSOSj204",
        "colab_type": "code",
        "colab": {
          "base_uri": "https://localhost:8080/",
          "height": 299
        },
        "outputId": "8ce91c4c-83a4-4462-be14-ddea74652a7b"
      },
      "source": [
        "delivery=pd.read_csv('/content/gdrive/My Drive/dacon/delivery.csv')\n",
        "delivery.head()"
      ],
      "execution_count": null,
      "outputs": [
        {
          "output_type": "execute_result",
          "data": {
            "text/html": [
              "<div>\n",
              "<style scoped>\n",
              "    .dataframe tbody tr th:only-of-type {\n",
              "        vertical-align: middle;\n",
              "    }\n",
              "\n",
              "    .dataframe tbody tr th {\n",
              "        vertical-align: top;\n",
              "    }\n",
              "\n",
              "    .dataframe thead th {\n",
              "        text-align: right;\n",
              "    }\n",
              "</style>\n",
              "<table border=\"1\" class=\"dataframe\">\n",
              "  <thead>\n",
              "    <tr style=\"text-align: right;\">\n",
              "      <th></th>\n",
              "      <th>SERIAL_NUMBER</th>\n",
              "      <th>PROCESS_DT</th>\n",
              "      <th>DLVR_RQESTER_ID</th>\n",
              "      <th>DLVR_REQUST_STTUS_VALUE</th>\n",
              "      <th>DLVR_RCEPT_CMPNY_ID</th>\n",
              "      <th>DLVR_STORE_ID</th>\n",
              "      <th>DLVR_STORE_INDUTY_NM</th>\n",
              "      <th>DLVR_STORE_LEGALDONG_CODE</th>\n",
              "      <th>DLVR_STORE_SIDO</th>\n",
              "      <th>DLVR_STORE_SIGUNGU</th>\n",
              "      <th>DLVR_STORE_DONG</th>\n",
              "      <th>DLVR_STORE_RI</th>\n",
              "      <th>DLVR_STORE_ADSTRD_CODE</th>\n",
              "      <th>DLVR_STORE_RDNMADR_CODE</th>\n",
              "      <th>DLVR_DSTN_LEGALDONG_CODE</th>\n",
              "      <th>DLVR_DSTN_SIDO</th>\n",
              "      <th>DLVR_DSTN_SIGUNGU</th>\n",
              "      <th>DLVR_DSTN_DONG</th>\n",
              "      <th>DLVR_DSTN_RI</th>\n",
              "      <th>DLVR_DSTN_ADSTRD_CODE</th>\n",
              "      <th>DLVR_DSTN_RDNMADR_CODE</th>\n",
              "      <th>DLVR_MAN_ID</th>\n",
              "      <th>DLVR_AMOUNT</th>\n",
              "      <th>CALL_RLAY_FEE_AMOUNT</th>\n",
              "      <th>GOODS_AMOUNT</th>\n",
              "      <th>SETLE_KND_VALUE</th>\n",
              "      <th>SETLE_CARD_CN</th>\n",
              "      <th>DLVR_RCEPT_TIME</th>\n",
              "      <th>DLVR_CARALC_TIME</th>\n",
              "      <th>DLVR_COMPT_TIME</th>\n",
              "      <th>DLVR_CANCL_TIME</th>\n",
              "    </tr>\n",
              "  </thead>\n",
              "  <tbody>\n",
              "    <tr>\n",
              "      <th>0</th>\n",
              "      <td>4577985</td>\n",
              "      <td>2020-01-01</td>\n",
              "      <td>C000035</td>\n",
              "      <td>1</td>\n",
              "      <td>C000035</td>\n",
              "      <td>S0032342</td>\n",
              "      <td>치킨</td>\n",
              "      <td>4812710600</td>\n",
              "      <td>경상남도</td>\n",
              "      <td>창원시 마산회원구</td>\n",
              "      <td>합성동</td>\n",
              "      <td>NaN</td>\n",
              "      <td>4812759000</td>\n",
              "      <td>4.812748e+11</td>\n",
              "      <td>4.812710e+09</td>\n",
              "      <td>경상남도</td>\n",
              "      <td>창원시 마산회원구</td>\n",
              "      <td>석전동</td>\n",
              "      <td>NaN</td>\n",
              "      <td>4.812754e+09</td>\n",
              "      <td>4.812748e+11</td>\n",
              "      <td>D0005271</td>\n",
              "      <td>4290</td>\n",
              "      <td>300</td>\n",
              "      <td>25000</td>\n",
              "      <td>1</td>\n",
              "      <td>승인:비씨카드사</td>\n",
              "      <td>2020-01-01 00:15:49</td>\n",
              "      <td>2020-01-01 00:21:38</td>\n",
              "      <td>2020-01-01 00:41:37</td>\n",
              "      <td>NaN</td>\n",
              "    </tr>\n",
              "    <tr>\n",
              "      <th>1</th>\n",
              "      <td>4577986</td>\n",
              "      <td>2020-01-01</td>\n",
              "      <td>C000237</td>\n",
              "      <td>1</td>\n",
              "      <td>C000237</td>\n",
              "      <td>S0021847</td>\n",
              "      <td>찜탕</td>\n",
              "      <td>4121010200</td>\n",
              "      <td>경기도</td>\n",
              "      <td>광명시</td>\n",
              "      <td>철산동</td>\n",
              "      <td>NaN</td>\n",
              "      <td>4121061000</td>\n",
              "      <td>4.121030e+11</td>\n",
              "      <td>1.154510e+09</td>\n",
              "      <td>서울특별시</td>\n",
              "      <td>금천구</td>\n",
              "      <td>가산동</td>\n",
              "      <td>NaN</td>\n",
              "      <td>1.154551e+09</td>\n",
              "      <td>1.154531e+11</td>\n",
              "      <td>D0003269</td>\n",
              "      <td>4800</td>\n",
              "      <td>200</td>\n",
              "      <td>49000</td>\n",
              "      <td>2</td>\n",
              "      <td>NaN</td>\n",
              "      <td>2020-01-01 01:12:14</td>\n",
              "      <td>2020-01-01 01:21:41</td>\n",
              "      <td>2020-01-01 01:31:44</td>\n",
              "      <td>NaN</td>\n",
              "    </tr>\n",
              "    <tr>\n",
              "      <th>2</th>\n",
              "      <td>4577988</td>\n",
              "      <td>2020-01-01</td>\n",
              "      <td>C000129</td>\n",
              "      <td>1</td>\n",
              "      <td>C000129</td>\n",
              "      <td>S0025740</td>\n",
              "      <td>치킨</td>\n",
              "      <td>1138010400</td>\n",
              "      <td>서울특별시</td>\n",
              "      <td>은평구</td>\n",
              "      <td>갈현동</td>\n",
              "      <td>NaN</td>\n",
              "      <td>1138055100</td>\n",
              "      <td>1.138041e+11</td>\n",
              "      <td>1.138010e+09</td>\n",
              "      <td>서울특별시</td>\n",
              "      <td>은평구</td>\n",
              "      <td>갈현동</td>\n",
              "      <td>NaN</td>\n",
              "      <td>1.138055e+09</td>\n",
              "      <td>1.138041e+11</td>\n",
              "      <td>D0001536</td>\n",
              "      <td>3300</td>\n",
              "      <td>300</td>\n",
              "      <td>23000</td>\n",
              "      <td>3</td>\n",
              "      <td>승인:</td>\n",
              "      <td>2020-01-01 00:01:14</td>\n",
              "      <td>2020-01-01 00:01:47</td>\n",
              "      <td>2020-01-01 00:18:47</td>\n",
              "      <td>NaN</td>\n",
              "    </tr>\n",
              "    <tr>\n",
              "      <th>3</th>\n",
              "      <td>4577989</td>\n",
              "      <td>2020-01-01</td>\n",
              "      <td>C000029</td>\n",
              "      <td>1</td>\n",
              "      <td>C000043</td>\n",
              "      <td>S0039634</td>\n",
              "      <td>한식</td>\n",
              "      <td>4115010100</td>\n",
              "      <td>경기도</td>\n",
              "      <td>의정부시</td>\n",
              "      <td>의정부동</td>\n",
              "      <td>NaN</td>\n",
              "      <td>4115051000</td>\n",
              "      <td>4.115043e+11</td>\n",
              "      <td>4.115010e+09</td>\n",
              "      <td>경기도</td>\n",
              "      <td>의정부시</td>\n",
              "      <td>의정부동</td>\n",
              "      <td>NaN</td>\n",
              "      <td>4.115051e+09</td>\n",
              "      <td>4.115043e+11</td>\n",
              "      <td>D0005061</td>\n",
              "      <td>4500</td>\n",
              "      <td>300</td>\n",
              "      <td>20000</td>\n",
              "      <td>2</td>\n",
              "      <td>NaN</td>\n",
              "      <td>2020-01-01 01:01:34</td>\n",
              "      <td>2020-01-01 01:28:06</td>\n",
              "      <td>2020-01-01 01:36:48</td>\n",
              "      <td>NaN</td>\n",
              "    </tr>\n",
              "    <tr>\n",
              "      <th>4</th>\n",
              "      <td>4577991</td>\n",
              "      <td>2020-01-01</td>\n",
              "      <td>C000130</td>\n",
              "      <td>1</td>\n",
              "      <td>C000130</td>\n",
              "      <td>S0002237</td>\n",
              "      <td>한식</td>\n",
              "      <td>4128112800</td>\n",
              "      <td>경기도</td>\n",
              "      <td>고양시 덕양구</td>\n",
              "      <td>행신동</td>\n",
              "      <td>NaN</td>\n",
              "      <td>4128164000</td>\n",
              "      <td>4.128144e+11</td>\n",
              "      <td>4.128110e+09</td>\n",
              "      <td>경기도</td>\n",
              "      <td>고양시 덕양구</td>\n",
              "      <td>주교동</td>\n",
              "      <td>NaN</td>\n",
              "      <td>4.128151e+09</td>\n",
              "      <td>4.128144e+11</td>\n",
              "      <td>D0005215</td>\n",
              "      <td>6500</td>\n",
              "      <td>300</td>\n",
              "      <td>32000</td>\n",
              "      <td>2</td>\n",
              "      <td>NaN</td>\n",
              "      <td>2020-01-01 01:05:06</td>\n",
              "      <td>2020-01-01 01:08:01</td>\n",
              "      <td>2020-01-01 01:29:00</td>\n",
              "      <td>NaN</td>\n",
              "    </tr>\n",
              "  </tbody>\n",
              "</table>\n",
              "</div>"
            ],
            "text/plain": [
              "   SERIAL_NUMBER  PROCESS_DT  ...      DLVR_COMPT_TIME  DLVR_CANCL_TIME\n",
              "0        4577985  2020-01-01  ...  2020-01-01 00:41:37              NaN\n",
              "1        4577986  2020-01-01  ...  2020-01-01 01:31:44              NaN\n",
              "2        4577988  2020-01-01  ...  2020-01-01 00:18:47              NaN\n",
              "3        4577989  2020-01-01  ...  2020-01-01 01:36:48              NaN\n",
              "4        4577991  2020-01-01  ...  2020-01-01 01:29:00              NaN\n",
              "\n",
              "[5 rows x 31 columns]"
            ]
          },
          "metadata": {
            "tags": []
          },
          "execution_count": 13
        }
      ]
    },
    {
      "cell_type": "code",
      "metadata": {
        "id": "0wVs-UVEjnFw",
        "colab_type": "code",
        "colab": {
          "base_uri": "https://localhost:8080/",
          "height": 229
        },
        "outputId": "f22536cc-5f69-42dd-aab5-e7bd2f8d7607"
      },
      "source": [
        "sns.countplot(x='DLVR_STORE_INDUTY_NM',data=delivery)\n",
        "plt.title('폼묵별')\n",
        "plt.xticks(rotation=70)\n",
        "plt.figure(figsize=(100,100))\n",
        "plt.show()"
      ],
      "execution_count": null,
      "outputs": [
        {
          "output_type": "error",
          "ename": "NameError",
          "evalue": "ignored",
          "traceback": [
            "\u001b[0;31m---------------------------------------------------------------------------\u001b[0m",
            "\u001b[0;31mNameError\u001b[0m                                 Traceback (most recent call last)",
            "\u001b[0;32m<ipython-input-12-515d26a75c84>\u001b[0m in \u001b[0;36m<module>\u001b[0;34m()\u001b[0m\n\u001b[0;32m----> 1\u001b[0;31m \u001b[0msns\u001b[0m\u001b[0;34m.\u001b[0m\u001b[0mcountplot\u001b[0m\u001b[0;34m(\u001b[0m\u001b[0mx\u001b[0m\u001b[0;34m=\u001b[0m\u001b[0;34m'DLVR_STORE_INDUTY_NM'\u001b[0m\u001b[0;34m,\u001b[0m\u001b[0mdata\u001b[0m\u001b[0;34m=\u001b[0m\u001b[0mdelivery\u001b[0m\u001b[0;34m)\u001b[0m\u001b[0;34m\u001b[0m\u001b[0;34m\u001b[0m\u001b[0m\n\u001b[0m\u001b[1;32m      2\u001b[0m \u001b[0mplt\u001b[0m\u001b[0;34m.\u001b[0m\u001b[0mtitle\u001b[0m\u001b[0;34m(\u001b[0m\u001b[0;34m'폼묵별'\u001b[0m\u001b[0;34m)\u001b[0m\u001b[0;34m\u001b[0m\u001b[0;34m\u001b[0m\u001b[0m\n\u001b[1;32m      3\u001b[0m \u001b[0mplt\u001b[0m\u001b[0;34m.\u001b[0m\u001b[0mxticks\u001b[0m\u001b[0;34m(\u001b[0m\u001b[0mrotation\u001b[0m\u001b[0;34m=\u001b[0m\u001b[0;36m70\u001b[0m\u001b[0;34m)\u001b[0m\u001b[0;34m\u001b[0m\u001b[0;34m\u001b[0m\u001b[0m\n\u001b[1;32m      4\u001b[0m \u001b[0mplt\u001b[0m\u001b[0;34m.\u001b[0m\u001b[0mfigure\u001b[0m\u001b[0;34m(\u001b[0m\u001b[0mfigsize\u001b[0m\u001b[0;34m=\u001b[0m\u001b[0;34m(\u001b[0m\u001b[0;36m100\u001b[0m\u001b[0;34m,\u001b[0m\u001b[0;36m100\u001b[0m\u001b[0;34m)\u001b[0m\u001b[0;34m)\u001b[0m\u001b[0;34m\u001b[0m\u001b[0;34m\u001b[0m\u001b[0m\n\u001b[1;32m      5\u001b[0m \u001b[0mplt\u001b[0m\u001b[0;34m.\u001b[0m\u001b[0mshow\u001b[0m\u001b[0;34m(\u001b[0m\u001b[0;34m)\u001b[0m\u001b[0;34m\u001b[0m\u001b[0;34m\u001b[0m\u001b[0m\n",
            "\u001b[0;31mNameError\u001b[0m: name 'delivery' is not defined"
          ]
        }
      ]
    },
    {
      "cell_type": "markdown",
      "metadata": {
        "id": "ekaBGnZ-ThUP",
        "colab_type": "text"
      },
      "source": [
        "### fpopl유동인구"
      ]
    },
    {
      "cell_type": "code",
      "metadata": {
        "id": "ye3LwADKj21J",
        "colab_type": "code",
        "colab": {
          "base_uri": "https://localhost:8080/",
          "height": 204
        },
        "outputId": "327ec499-59cf-48fa-f33d-e73ac41e530c"
      },
      "source": [
        "fpopl=pd.read_csv('/content/gdrive/My Drive/dacon/fpopl.csv')\n",
        "fpopl.head()"
      ],
      "execution_count": null,
      "outputs": [
        {
          "output_type": "execute_result",
          "data": {
            "text/html": [
              "<div>\n",
              "<style scoped>\n",
              "    .dataframe tbody tr th:only-of-type {\n",
              "        vertical-align: middle;\n",
              "    }\n",
              "\n",
              "    .dataframe tbody tr th {\n",
              "        vertical-align: top;\n",
              "    }\n",
              "\n",
              "    .dataframe thead th {\n",
              "        text-align: right;\n",
              "    }\n",
              "</style>\n",
              "<table border=\"1\" class=\"dataframe\">\n",
              "  <thead>\n",
              "    <tr style=\"text-align: right;\">\n",
              "      <th></th>\n",
              "      <th>base_ymd</th>\n",
              "      <th>tmzon_se_code</th>\n",
              "      <th>sexdstn_se_code</th>\n",
              "      <th>agrde_se_code</th>\n",
              "      <th>adstrd_code</th>\n",
              "      <th>popltn_cascnt</th>\n",
              "    </tr>\n",
              "  </thead>\n",
              "  <tbody>\n",
              "    <tr>\n",
              "      <th>0</th>\n",
              "      <td>20200101</td>\n",
              "      <td>0</td>\n",
              "      <td>M</td>\n",
              "      <td>age_00</td>\n",
              "      <td>11650560</td>\n",
              "      <td>15</td>\n",
              "    </tr>\n",
              "    <tr>\n",
              "      <th>1</th>\n",
              "      <td>20200101</td>\n",
              "      <td>0</td>\n",
              "      <td>M</td>\n",
              "      <td>age_00</td>\n",
              "      <td>11590620</td>\n",
              "      <td>6</td>\n",
              "    </tr>\n",
              "    <tr>\n",
              "      <th>2</th>\n",
              "      <td>20200101</td>\n",
              "      <td>0</td>\n",
              "      <td>M</td>\n",
              "      <td>age_00</td>\n",
              "      <td>11560710</td>\n",
              "      <td>4</td>\n",
              "    </tr>\n",
              "    <tr>\n",
              "      <th>3</th>\n",
              "      <td>20200101</td>\n",
              "      <td>0</td>\n",
              "      <td>M</td>\n",
              "      <td>age_00</td>\n",
              "      <td>11470680</td>\n",
              "      <td>12</td>\n",
              "    </tr>\n",
              "    <tr>\n",
              "      <th>4</th>\n",
              "      <td>20200101</td>\n",
              "      <td>0</td>\n",
              "      <td>M</td>\n",
              "      <td>age_00</td>\n",
              "      <td>11350665</td>\n",
              "      <td>6</td>\n",
              "    </tr>\n",
              "  </tbody>\n",
              "</table>\n",
              "</div>"
            ],
            "text/plain": [
              "   base_ymd  tmzon_se_code  ... adstrd_code popltn_cascnt\n",
              "0  20200101              0  ...    11650560            15\n",
              "1  20200101              0  ...    11590620             6\n",
              "2  20200101              0  ...    11560710             4\n",
              "3  20200101              0  ...    11470680            12\n",
              "4  20200101              0  ...    11350665             6\n",
              "\n",
              "[5 rows x 6 columns]"
            ]
          },
          "metadata": {
            "tags": []
          },
          "execution_count": 65
        }
      ]
    },
    {
      "cell_type": "code",
      "metadata": {
        "id": "VcXBlKCgvrsK",
        "colab_type": "code",
        "colab": {}
      },
      "source": [
        ""
      ],
      "execution_count": null,
      "outputs": []
    },
    {
      "cell_type": "markdown",
      "metadata": {
        "id": "eKZXtZvVTmQZ",
        "colab_type": "text"
      },
      "source": [
        "Index"
      ]
    },
    {
      "cell_type": "markdown",
      "metadata": {
        "id": "pftlLOG3tiCb",
        "colab_type": "text"
      },
      "source": [
        "*달별/품목별/지역별/나이대별/성별 배열 (한지역 36개)\n",
        "\n",
        "*   나이대 : 20,30,40,50,60,all (6개)\n",
        "*   성별 : F,M,all (3개)\n",
        "*   지역 : 26개\n",
        "*   품목 : 17개\n"
      ]
    },
    {
      "cell_type": "code",
      "metadata": {
        "id": "i3P4TltdsUsv",
        "colab_type": "code",
        "colab": {}
      },
      "source": [
        "index=pd.read_csv('/content/gdrive/My Drive/dacon/index.csv')\n",
        "\n",
        "year_col=[]\n",
        "month_col=[]\n",
        "for i in range(len(index['period'])):\n",
        "  year_col.append(int(index['period'][i]/100))\n",
        "  if index['period'][i]-201900 >100:\n",
        "    month_col.append(index['period'][i]-202000)\n",
        "  else:\n",
        "    month_col.append(index['period'][i]-201900)\n",
        "index['year']=year_col\n",
        "index['month']=month_col\n",
        "\n",
        "index=index.sort_values(by=['month','catm','sigungu'])\n",
        "\n",
        "index=index.reset_index()\n",
        "index=index.drop(['index'], axis=1)\n",
        "\n",
        "\n",
        "index_s=index.sort_values(by=['month','catm','sigungu','age','gender'])\n",
        "\n",
        "index_s=index_s.reset_index()\n",
        "index_s=index_s.drop(['index'], axis=1)\n",
        "\n",
        "index_by_catm=index_s[index_s['sigungu']=='all']\n",
        "index_by_catm=index_by_catm[index_by_catm['month']<=5]\n",
        "index_by_catm=index_by_catm[index_by_catm['gender']=='all']\n",
        "index_by_catm=index_by_catm[index_by_catm['age']=='all']\n",
        "index_by_catm=index_by_catm.reset_index()\n",
        "index_by_catm=index_by_catm.drop(['index'], axis=1)\n",
        "\n"
      ],
      "execution_count": null,
      "outputs": []
    },
    {
      "cell_type": "markdown",
      "metadata": {
        "id": "8oqpe94_SWrH",
        "colab_type": "text"
      },
      "source": [
        "서울 시군구 all인걸 먼저 확인\n",
        "\n",
        "\\n성별 구분도 일단x\n",
        "\n",
        "나이대도 구분x"
      ]
    },
    {
      "cell_type": "code",
      "metadata": {
        "id": "TLjGcf4YSg4n",
        "colab_type": "code",
        "colab": {}
      },
      "source": [
        "index_2019=index_by_catm[index_by_catm['year']==2019]\n",
        "index_2020=index_by_catm[index_by_catm['year']==2020]\n",
        "\n",
        "index_201901=index_2019[index_2019['month']==1]\n",
        "index_202001=index_2020[index_2020['month']==1]\n",
        "\n",
        "index_201903=index_2019[index_2019['month']==3]\n",
        "index_202003=index_2020[index_2020['month']==3]\n",
        "\n",
        "index_201905=index_2019[index_2019['month']==5]\n",
        "index_202005=index_2020[index_2020['month']==5]\n"
      ],
      "execution_count": null,
      "outputs": []
    },
    {
      "cell_type": "code",
      "metadata": {
        "id": "2CdN9oGBiYU9",
        "colab_type": "code",
        "colab": {
          "base_uri": "https://localhost:8080/",
          "height": 35
        },
        "outputId": "45046e2b-3f2d-41ac-9032-dfd9993e0efe"
      },
      "source": [
        "index_19 = index_2019.drop_duplicates(['catm'],keep='first')\n",
        "index_19= index_19.loc[:,['catm']]\n",
        "\n",
        "index_19=index_19.reset_index()\n",
        "index_19=index_19.drop(['index'], axis=1)\n",
        "\n",
        "catm=[]\n",
        "for i in range(len(index_19)):\n",
        "  catm.append(index_19['catm'][i])\n",
        "\n",
        "print(catm)"
      ],
      "execution_count": null,
      "outputs": [
        {
          "output_type": "stream",
          "text": [
            "['가공식품', '건강관리용품', '기타화장품', '기호식품', '담배', '바디/헤어용품', '뷰티소품', '빙과류', '빵류', '생활용품', '신선식품', '애완동물용품', '유제품류', '음료', '제과류', '주류', '화장품']\n"
          ],
          "name": "stdout"
        }
      ]
    },
    {
      "cell_type": "markdown",
      "metadata": {
        "id": "bsj1OsQTZB6f",
        "colab_type": "text"
      },
      "source": [
        "5월 : 2020년 데이터에 빠진 부분 제거"
      ]
    },
    {
      "cell_type": "code",
      "metadata": {
        "id": "oPj2aUGuZBDm",
        "colab_type": "code",
        "colab": {}
      },
      "source": [
        "catm_202005 = index_202005.drop_duplicates(['catm'],keep='first')\n",
        "catm_202005= index_202005.loc[:,['catm']]\n",
        "catm_2005=[]\n",
        "for i in range(len(catm_2005)):\n",
        "  catm_2005.append(catm_202005['catm'][i])\n"
      ],
      "execution_count": null,
      "outputs": []
    },
    {
      "cell_type": "markdown",
      "metadata": {
        "id": "iSxLjXVoV_pL",
        "colab_type": "text"
      },
      "source": [
        "index값 정렬"
      ]
    },
    {
      "cell_type": "code",
      "metadata": {
        "id": "e4JUNGWjMvzD",
        "colab_type": "code",
        "colab": {}
      },
      "source": [
        "\n",
        "index_2019=index_2019.reset_index()\n",
        "index_2019=index_2019.drop(['index'], axis=1)\n",
        "\n",
        "index_2020=index_2020.reset_index()\n",
        "index_2020=index_2020.drop(['index'], axis=1)\n",
        "\n",
        "#1월\n",
        "index_201901=index_201901.reset_index()\n",
        "index_201901=index_201901.drop(['index'], axis=1)\n",
        "\n",
        "index_202001=index_202001.reset_index()\n",
        "index_202001=index_202001.drop(['index'], axis=1)\n",
        "\n",
        "#3월\n",
        "index_201903=index_201903.reset_index()\n",
        "index_201903=index_201903.drop(['index'], axis=1)\n",
        "\n",
        "index_202003=index_202003.reset_index()\n",
        "index_202003=index_202003.drop(['index'], axis=1)\n",
        "\n",
        "#5월\n",
        "index_201905=index_201905.reset_index()\n",
        "index_201905=index_201905.drop(['index'], axis=1)\n",
        "\n",
        "index_202005=index_202005.reset_index()\n",
        "index_202005=index_202005.drop(['index'], axis=1)\n"
      ],
      "execution_count": null,
      "outputs": []
    },
    {
      "cell_type": "markdown",
      "metadata": {
        "id": "IAn3gDmQErhB",
        "colab_type": "text"
      },
      "source": [
        "1,3,5월 비교\n",
        "\n",
        "1월 : 코로나 이전\n",
        "3월 : 코로나 확산이 가장 퍼졌을 시기\n",
        "5월 : 잠잠해졌다가 다시 심해진 시기\n",
        "\n"
      ]
    },
    {
      "cell_type": "code",
      "metadata": {
        "id": "vJDZDO5K8wNB",
        "colab_type": "code",
        "colab": {}
      },
      "source": [
        "catm_by_jan=dict()\n",
        "\n",
        "for i in range(len(index_201901)):\n",
        "  name=index_201901['catm'][i]\n",
        "  input_L=[]\n",
        "  input_L.append(index_201901['cgi'][i])\n",
        "  input_L.append(index_202001['cgi'][i])\n",
        "  catm_by_jan[name]=input_L\n",
        "\n",
        "\n",
        "catm_jan=pd.DataFrame(catm_by_jan)\n",
        "catm_jan=np.transpose(catm_jan)\n",
        "catm_jan.columns=['201901','202001']\n",
        "catm_jan['diff']=catm_jan['202001']-catm_jan['201901']\n",
        "\n",
        "catm_jan=catm_jan.reset_index()\n"
      ],
      "execution_count": null,
      "outputs": []
    },
    {
      "cell_type": "code",
      "metadata": {
        "id": "A3pisZu68y8D",
        "colab_type": "code",
        "colab": {}
      },
      "source": [
        "catm_by_mar=dict()\n",
        "\n",
        "for i in range(len(index_201903)):\n",
        "  name=index_201903['catm'][i]\n",
        "  input_L=[]\n",
        "  input_L.append(index_201903['cgi'][i])\n",
        "  input_L.append(index_202003['cgi'][i])\n",
        "  catm_by_mar[name]=input_L\n",
        "\n",
        "\n",
        "catm_mar=pd.DataFrame(catm_by_mar)\n",
        "catm_mar=np.transpose(catm_mar)\n",
        "catm_mar.columns=['201903','202003']\n",
        "catm_mar['diff']=catm_mar['202003']-catm_mar['201903']\n",
        "catm_mar=catm_mar.reset_index()"
      ],
      "execution_count": null,
      "outputs": []
    },
    {
      "cell_type": "markdown",
      "metadata": {
        "id": "g5L-xEB99NAW",
        "colab_type": "text"
      },
      "source": [
        "2019,2020 품목별 비교"
      ]
    },
    {
      "cell_type": "code",
      "metadata": {
        "id": "iqQZRBV5dGgk",
        "colab_type": "code",
        "colab": {
          "base_uri": "https://localhost:8080/",
          "height": 522
        },
        "outputId": "9d661d54-653f-41e7-e2de-5b478ef49b4f"
      },
      "source": [
        "\n",
        "label=catm\n",
        "index=np.arange(len(label))\n",
        "\n",
        "bar_width=0.3\n",
        "alpha=0.5\n",
        "\n",
        "\n",
        "plt.rcParams[\"figure.figsize\"] = (15,7)\n",
        "\n",
        "plt.subplot(1,2,1)\n",
        "p1=plt.bar(index,catm_jan['201901'],bar_width,color='b',alpha=alpha, label=2019)\n",
        "p2=plt.bar(index+bar_width,catm_jan['202001'],bar_width,color='r',alpha=alpha, label=2020)\n",
        "plt.title('Jan',fontsize=20)\n",
        "plt.xlabel('catm',fontsize=18)\n",
        "plt.ylabel('cgi',fontsize=18)\n",
        "plt.xticks(index,label,fontsize=10,rotation=70)\n",
        "plt.legend((p1[0],p2[0]),('2019','2020'),fontsize=12)\n",
        "plt.axhline(y=100,linewidth=1)\n",
        "\n",
        "\n",
        "plt.subplot(1,2,2)\n",
        "\n",
        "p3=plt.bar(index,catm_mar['201903'],bar_width,color='b',alpha=alpha, label=2019)\n",
        "p4=plt.bar(index+bar_width,catm_mar['202003'],bar_width,color='r',alpha=alpha, label=2020)\n",
        "plt.title('Mar',fontsize=20)\n",
        "plt.xlabel('catm',fontsize=18)\n",
        "plt.xticks(index,label,fontsize=10,rotation=70)\n",
        "plt.legend((p1[0],p2[0]),('2019','2020'),fontsize=12)\n",
        "plt.axhline(y=100,linewidth=1)\n",
        "\n",
        "\n",
        "plt.show()\n",
        "\n",
        "\n"
      ],
      "execution_count": null,
      "outputs": [
        {
          "output_type": "display_data",
          "data": {
            "image/png": "[encoded data removed]",
            "text/plain": [
              "<Figure size 1080x504 with 2 Axes>"
            ]
          },
          "metadata": {
            "tags": [],
            "image/png": {
              "width": 899,
              "height": 505
            },
            "needs_background": "light"
          }
        }
      ]
    },
    {
      "cell_type": "code",
      "metadata": {
        "id": "GTw6d00kL4fG",
        "colab_type": "code",
        "colab": {
          "base_uri": "https://localhost:8080/",
          "height": 540
        },
        "outputId": "32802541-0d13-45e7-f802-94ab81ab7fb9"
      },
      "source": [
        "\n",
        "label=catm\n",
        "index=np.arange(len(label))\n",
        "\n",
        "bar_width=0.3\n",
        "alpha=0.5\n",
        "\n",
        "\n",
        "plt.rcParams[\"figure.figsize\"] = (15,7)\n",
        "\n",
        "p1=plt.bar(index,catm_jan['diff'],bar_width,color='b',alpha=alpha, label='jan')\n",
        "p2=plt.bar(index+bar_width,catm_mar['diff'],bar_width,color='r',alpha=alpha, label='mar')\n",
        "plt.title('성장비율 변화 비교',fontsize=20)\n",
        "plt.xlabel('품목',fontsize=18)\n",
        "plt.ylabel('성장비율 차이',fontsize=18)\n",
        "plt.xticks(index,label,fontsize=10,rotation=70)\n",
        "plt.legend((p1[0],p2[0]),('jan','mar'),fontsize=12)\n",
        "plt.axhline(y=0,linewidth=1)\n",
        "\n",
        "\n"
      ],
      "execution_count": null,
      "outputs": [
        {
          "output_type": "execute_result",
          "data": {
            "text/plain": [
              "<matplotlib.lines.Line2D at 0x7f8bf0e928d0>"
            ]
          },
          "metadata": {
            "tags": []
          },
          "execution_count": 46
        },
        {
          "output_type": "display_data",
          "data": {
            "image/png": "[encoded data removed]",
            "text/plain": [
              "<Figure size 1080x504 with 1 Axes>"
            ]
          },
          "metadata": {
            "tags": [],
            "image/png": {
              "width": 895,
              "height": 505
            },
            "needs_background": "light"
          }
        }
      ]
    },
    {
      "cell_type": "markdown",
      "metadata": {
        "id": "vrJ9RFM9M6b4",
        "colab_type": "text"
      },
      "source": [
        "성장비율 차이= 2019년 성장비율-2020년 성장비율\n"
      ]
    },
    {
      "cell_type": "code",
      "metadata": {
        "id": "BdhUrjwTAJaR",
        "colab_type": "code",
        "colab": {}
      },
      "source": [
        ""
      ],
      "execution_count": null,
      "outputs": []
    },
    {
      "cell_type": "code",
      "metadata": {
        "id": "LmYsmwL0E5Jr",
        "colab_type": "code",
        "colab": {
          "base_uri": "https://localhost:8080/",
          "height": 136
        },
        "outputId": "3b430bd2-e49e-4e6c-e5a9-ed36e4971e5a"
      },
      "source": [
        ""
      ],
      "execution_count": null,
      "outputs": [
        {
          "output_type": "error",
          "ename": "SyntaxError",
          "evalue": "ignored",
          "traceback": [
            "\u001b[0;36m  File \u001b[0;32m\"<ipython-input-11-d72cdd7c3fec>\"\u001b[0;36m, line \u001b[0;32m33\u001b[0m\n\u001b[0;31m    catm_by_year_month[name].append(index_202003['cgi'][i]\u001b[0m\n\u001b[0m                                                          ^\u001b[0m\n\u001b[0;31mSyntaxError\u001b[0m\u001b[0;31m:\u001b[0m unexpected EOF while parsing\n"
          ]
        }
      ]
    },
    {
      "cell_type": "code",
      "metadata": {
        "id": "Xnb-VTCCcmr9",
        "colab_type": "code",
        "colab": {
          "base_uri": "https://localhost:8080/",
          "height": 55
        },
        "outputId": "a0d203bf-f5a3-47f5-a4a1-2d594e249aff"
      },
      "source": [
        "dic_3.update(dic_1)\n",
        "print(dic_3)"
      ],
      "execution_count": null,
      "outputs": [
        {
          "output_type": "stream",
          "text": [
            "{'가공식품': [117.57091899999999, 113.92681019999999], '건강관리용품': [93.14822348, 93.55641316], '기타화장품': [65.64975066, 55.61748313], '기호식품': [130.918672, 106.3439719], '담배': [131.34247309999998, 134.115702], '바디/헤어용품': [123.4022917, 126.9413894], '뷰티소품': [72.57839579, 83.47512083], '빙과류': [67.23331115, 65.80177552], '빵류': [112.0923398, 103.25177070000001], '생활용품': [101.2622824, 81.92276397], '신선식품': [117.3829018, 106.28515279999999], '애완동물용품': [90.61327792, 76.34479461], '유제품류': [99.93239859999998, 89.35639198], '음료': [95.52503598, 92.97432476], '제과류': [98.43432584, 91.05435509], '주류': [104.5888276, 98.69129528], '화장품': [104.8825193, 86.05638651]}\n"
          ],
          "name": "stdout"
        }
      ]
    },
    {
      "cell_type": "code",
      "metadata": {
        "id": "Wpqmu1UST-vv",
        "colab_type": "code",
        "colab": {
          "base_uri": "https://localhost:8080/",
          "height": 111
        },
        "outputId": "0066adc0-ad8b-4d70-e90b-3a45eb76c88c"
      },
      "source": [
        "test_df=pd.DataFrame(dic_1)\n",
        "test_df"
      ],
      "execution_count": null,
      "outputs": [
        {
          "output_type": "execute_result",
          "data": {
            "text/html": [
              "<div>\n",
              "<style scoped>\n",
              "    .dataframe tbody tr th:only-of-type {\n",
              "        vertical-align: middle;\n",
              "    }\n",
              "\n",
              "    .dataframe tbody tr th {\n",
              "        vertical-align: top;\n",
              "    }\n",
              "\n",
              "    .dataframe thead th {\n",
              "        text-align: right;\n",
              "    }\n",
              "</style>\n",
              "<table border=\"1\" class=\"dataframe\">\n",
              "  <thead>\n",
              "    <tr style=\"text-align: right;\">\n",
              "      <th></th>\n",
              "      <th>가공식품</th>\n",
              "      <th>건강관리용품</th>\n",
              "      <th>기타화장품</th>\n",
              "      <th>기호식품</th>\n",
              "      <th>담배</th>\n",
              "      <th>바디/헤어용품</th>\n",
              "      <th>뷰티소품</th>\n",
              "      <th>빙과류</th>\n",
              "      <th>빵류</th>\n",
              "      <th>생활용품</th>\n",
              "      <th>신선식품</th>\n",
              "      <th>애완동물용품</th>\n",
              "      <th>유제품류</th>\n",
              "      <th>음료</th>\n",
              "      <th>제과류</th>\n",
              "      <th>주류</th>\n",
              "      <th>화장품</th>\n",
              "    </tr>\n",
              "  </thead>\n",
              "  <tbody>\n",
              "    <tr>\n",
              "      <th>0</th>\n",
              "      <td>117.570919</td>\n",
              "      <td>93.148223</td>\n",
              "      <td>65.649751</td>\n",
              "      <td>130.918672</td>\n",
              "      <td>131.342473</td>\n",
              "      <td>123.402292</td>\n",
              "      <td>72.578396</td>\n",
              "      <td>67.233311</td>\n",
              "      <td>112.092340</td>\n",
              "      <td>101.262282</td>\n",
              "      <td>117.382902</td>\n",
              "      <td>90.613278</td>\n",
              "      <td>99.932399</td>\n",
              "      <td>95.525036</td>\n",
              "      <td>98.434326</td>\n",
              "      <td>104.588828</td>\n",
              "      <td>104.882519</td>\n",
              "    </tr>\n",
              "    <tr>\n",
              "      <th>1</th>\n",
              "      <td>113.926810</td>\n",
              "      <td>93.556413</td>\n",
              "      <td>55.617483</td>\n",
              "      <td>106.343972</td>\n",
              "      <td>134.115702</td>\n",
              "      <td>126.941389</td>\n",
              "      <td>83.475121</td>\n",
              "      <td>65.801776</td>\n",
              "      <td>103.251771</td>\n",
              "      <td>81.922764</td>\n",
              "      <td>106.285153</td>\n",
              "      <td>76.344795</td>\n",
              "      <td>89.356392</td>\n",
              "      <td>92.974325</td>\n",
              "      <td>91.054355</td>\n",
              "      <td>98.691295</td>\n",
              "      <td>86.056387</td>\n",
              "    </tr>\n",
              "  </tbody>\n",
              "</table>\n",
              "</div>"
            ],
            "text/plain": [
              "         가공식품     건강관리용품      기타화장품  ...        제과류          주류         화장품\n",
              "0  117.570919  93.148223  65.649751  ...  98.434326  104.588828  104.882519\n",
              "1  113.926810  93.556413  55.617483  ...  91.054355   98.691295   86.056387\n",
              "\n",
              "[2 rows x 17 columns]"
            ]
          },
          "metadata": {
            "tags": []
          },
          "execution_count": 139
        }
      ]
    },
    {
      "cell_type": "code",
      "metadata": {
        "id": "VqsfvZSTzFVv",
        "colab_type": "code",
        "colab": {
          "base_uri": "https://localhost:8080/",
          "height": 394
        },
        "outputId": "eb27d27e-339b-42b8-c0b8-7b3573a2d0cb"
      },
      "source": [
        "d_2019=[]\n",
        "d_2020=[]\n",
        "for i in range(len(index_by_catm)):\n",
        "  if index_by_catm['year'][i]==2019:\n",
        "    ipd={}\n",
        "    name=index_by_catm['catl'][i]\n",
        "    cgi=index_by_catm['cgi'][i]\n",
        "    ipd[name]=cgi\n",
        "    index_201901.append(id)\n",
        "  else:\n",
        "    id={}\n",
        "    name=index_by_catm['catl']\n",
        "    id[name]=index_by_catm['cgi'][i]\n",
        "    index_202001.append(id)\n",
        "\n",
        "\n"
      ],
      "execution_count": null,
      "outputs": [
        {
          "output_type": "error",
          "ename": "TypeError",
          "evalue": "ignored",
          "traceback": [
            "\u001b[0;31m---------------------------------------------------------------------------\u001b[0m",
            "\u001b[0;31mTypeError\u001b[0m                                 Traceback (most recent call last)",
            "\u001b[0;32m<ipython-input-42-1ee9c6c85fd9>\u001b[0m in \u001b[0;36m<module>\u001b[0;34m()\u001b[0m\n\u001b[1;32m      7\u001b[0m     \u001b[0mcgi\u001b[0m\u001b[0;34m=\u001b[0m\u001b[0mindex_by_catm\u001b[0m\u001b[0;34m[\u001b[0m\u001b[0;34m'cgi'\u001b[0m\u001b[0;34m]\u001b[0m\u001b[0;34m[\u001b[0m\u001b[0mi\u001b[0m\u001b[0;34m]\u001b[0m\u001b[0;34m\u001b[0m\u001b[0;34m\u001b[0m\u001b[0m\n\u001b[1;32m      8\u001b[0m     \u001b[0mipd\u001b[0m\u001b[0;34m[\u001b[0m\u001b[0mname\u001b[0m\u001b[0;34m]\u001b[0m\u001b[0;34m=\u001b[0m\u001b[0mcgi\u001b[0m\u001b[0;34m\u001b[0m\u001b[0;34m\u001b[0m\u001b[0m\n\u001b[0;32m----> 9\u001b[0;31m     \u001b[0mindex_201901\u001b[0m\u001b[0;34m.\u001b[0m\u001b[0mappend\u001b[0m\u001b[0;34m(\u001b[0m\u001b[0mid\u001b[0m\u001b[0;34m)\u001b[0m\u001b[0;34m\u001b[0m\u001b[0;34m\u001b[0m\u001b[0m\n\u001b[0m\u001b[1;32m     10\u001b[0m   \u001b[0;32melse\u001b[0m\u001b[0;34m:\u001b[0m\u001b[0;34m\u001b[0m\u001b[0;34m\u001b[0m\u001b[0m\n\u001b[1;32m     11\u001b[0m     \u001b[0mid\u001b[0m\u001b[0;34m=\u001b[0m\u001b[0;34m{\u001b[0m\u001b[0;34m}\u001b[0m\u001b[0;34m\u001b[0m\u001b[0;34m\u001b[0m\u001b[0m\n",
            "\u001b[0;32m/usr/local/lib/python3.6/dist-packages/pandas/core/frame.py\u001b[0m in \u001b[0;36mappend\u001b[0;34m(self, other, ignore_index, verify_integrity, sort)\u001b[0m\n\u001b[1;32m   7083\u001b[0m             \u001b[0mignore_index\u001b[0m\u001b[0;34m=\u001b[0m\u001b[0mignore_index\u001b[0m\u001b[0;34m,\u001b[0m\u001b[0;34m\u001b[0m\u001b[0;34m\u001b[0m\u001b[0m\n\u001b[1;32m   7084\u001b[0m             \u001b[0mverify_integrity\u001b[0m\u001b[0;34m=\u001b[0m\u001b[0mverify_integrity\u001b[0m\u001b[0;34m,\u001b[0m\u001b[0;34m\u001b[0m\u001b[0;34m\u001b[0m\u001b[0m\n\u001b[0;32m-> 7085\u001b[0;31m             \u001b[0msort\u001b[0m\u001b[0;34m=\u001b[0m\u001b[0msort\u001b[0m\u001b[0;34m,\u001b[0m\u001b[0;34m\u001b[0m\u001b[0;34m\u001b[0m\u001b[0m\n\u001b[0m\u001b[1;32m   7086\u001b[0m         )\n\u001b[1;32m   7087\u001b[0m \u001b[0;34m\u001b[0m\u001b[0m\n",
            "\u001b[0;32m/usr/local/lib/python3.6/dist-packages/pandas/core/reshape/concat.py\u001b[0m in \u001b[0;36mconcat\u001b[0;34m(objs, axis, join, ignore_index, keys, levels, names, verify_integrity, sort, copy)\u001b[0m\n\u001b[1;32m    279\u001b[0m         \u001b[0mverify_integrity\u001b[0m\u001b[0;34m=\u001b[0m\u001b[0mverify_integrity\u001b[0m\u001b[0;34m,\u001b[0m\u001b[0;34m\u001b[0m\u001b[0;34m\u001b[0m\u001b[0m\n\u001b[1;32m    280\u001b[0m         \u001b[0mcopy\u001b[0m\u001b[0;34m=\u001b[0m\u001b[0mcopy\u001b[0m\u001b[0;34m,\u001b[0m\u001b[0;34m\u001b[0m\u001b[0;34m\u001b[0m\u001b[0m\n\u001b[0;32m--> 281\u001b[0;31m         \u001b[0msort\u001b[0m\u001b[0;34m=\u001b[0m\u001b[0msort\u001b[0m\u001b[0;34m,\u001b[0m\u001b[0;34m\u001b[0m\u001b[0;34m\u001b[0m\u001b[0m\n\u001b[0m\u001b[1;32m    282\u001b[0m     )\n\u001b[1;32m    283\u001b[0m \u001b[0;34m\u001b[0m\u001b[0m\n",
            "\u001b[0;32m/usr/local/lib/python3.6/dist-packages/pandas/core/reshape/concat.py\u001b[0m in \u001b[0;36m__init__\u001b[0;34m(self, objs, axis, join, keys, levels, names, ignore_index, verify_integrity, copy, sort)\u001b[0m\n\u001b[1;32m    355\u001b[0m                     \u001b[0;34m\"only Series and DataFrame objs are valid\"\u001b[0m\u001b[0;34m.\u001b[0m\u001b[0mformat\u001b[0m\u001b[0;34m(\u001b[0m\u001b[0mtyp\u001b[0m\u001b[0;34m=\u001b[0m\u001b[0mtype\u001b[0m\u001b[0;34m(\u001b[0m\u001b[0mobj\u001b[0m\u001b[0;34m)\u001b[0m\u001b[0;34m)\u001b[0m\u001b[0;34m\u001b[0m\u001b[0;34m\u001b[0m\u001b[0m\n\u001b[1;32m    356\u001b[0m                 )\n\u001b[0;32m--> 357\u001b[0;31m                 \u001b[0;32mraise\u001b[0m \u001b[0mTypeError\u001b[0m\u001b[0;34m(\u001b[0m\u001b[0mmsg\u001b[0m\u001b[0;34m)\u001b[0m\u001b[0;34m\u001b[0m\u001b[0;34m\u001b[0m\u001b[0m\n\u001b[0m\u001b[1;32m    358\u001b[0m \u001b[0;34m\u001b[0m\u001b[0m\n\u001b[1;32m    359\u001b[0m             \u001b[0;31m# consolidate\u001b[0m\u001b[0;34m\u001b[0m\u001b[0;34m\u001b[0m\u001b[0;34m\u001b[0m\u001b[0m\n",
            "\u001b[0;31mTypeError\u001b[0m: cannot concatenate object of type '<class 'builtin_function_or_method'>'; only Series and DataFrame objs are valid"
          ]
        }
      ]
    },
    {
      "cell_type": "markdown",
      "metadata": {
        "id": "2HM0AYgDVUjH",
        "colab_type": "text"
      },
      "source": [
        "2019/2020 비교"
      ]
    },
    {
      "cell_type": "code",
      "metadata": {
        "id": "Fr_M2vq8wyAX",
        "colab_type": "code",
        "colab": {
          "base_uri": "https://localhost:8080/",
          "height": 244
        },
        "outputId": "82f53bc7-f2df-4fd6-8fe0-8b65be51729c"
      },
      "source": [
        "\n",
        "\n",
        "\n",
        "\n",
        "\n",
        "\n",
        "\n",
        "\n",
        "\n",
        "  \n"
      ],
      "execution_count": null,
      "outputs": [
        {
          "output_type": "error",
          "ename": "KeyError",
          "evalue": "ignored",
          "traceback": [
            "\u001b[0;31m---------------------------------------------------------------------------\u001b[0m",
            "\u001b[0;31mKeyError\u001b[0m                                  Traceback (most recent call last)",
            "\u001b[0;32m<ipython-input-83-69ee7fe016a8>\u001b[0m in \u001b[0;36m<module>\u001b[0;34m()\u001b[0m\n\u001b[1;32m      5\u001b[0m \u001b[0;34m\u001b[0m\u001b[0m\n\u001b[1;32m      6\u001b[0m \u001b[0;34m\u001b[0m\u001b[0m\n\u001b[0;32m----> 7\u001b[0;31m   \u001b[0;32mif\u001b[0m \u001b[0mname\u001b[0m \u001b[0;32min\u001b[0m \u001b[0mcatm_comp\u001b[0m\u001b[0;34m[\u001b[0m\u001b[0mmonth\u001b[0m\u001b[0;34m]\u001b[0m\u001b[0;34m.\u001b[0m\u001b[0mkeys\u001b[0m\u001b[0;34m(\u001b[0m\u001b[0;34m)\u001b[0m\u001b[0;34m:\u001b[0m\u001b[0;34m\u001b[0m\u001b[0;34m\u001b[0m\u001b[0m\n\u001b[0m\u001b[1;32m      8\u001b[0m     \u001b[0mcatm_comp\u001b[0m\u001b[0;34m[\u001b[0m\u001b[0mmonth\u001b[0m\u001b[0;34m]\u001b[0m\u001b[0;34m[\u001b[0m\u001b[0mname\u001b[0m\u001b[0;34m]\u001b[0m\u001b[0;34m.\u001b[0m\u001b[0mappend\u001b[0m\u001b[0;34m(\u001b[0m\u001b[0mdr_2\u001b[0m\u001b[0;34m[\u001b[0m\u001b[0;34m'cgi'\u001b[0m\u001b[0;34m]\u001b[0m\u001b[0;34m[\u001b[0m\u001b[0mi\u001b[0m\u001b[0;34m]\u001b[0m\u001b[0;34m)\u001b[0m\u001b[0;34m\u001b[0m\u001b[0;34m\u001b[0m\u001b[0m\n\u001b[1;32m      9\u001b[0m   \u001b[0;32melse\u001b[0m\u001b[0;34m:\u001b[0m\u001b[0;34m\u001b[0m\u001b[0;34m\u001b[0m\u001b[0m\n",
            "\u001b[0;31mKeyError\u001b[0m: 1"
          ]
        }
      ]
    },
    {
      "cell_type": "code",
      "metadata": {
        "id": "ryXGaqgZVw7E",
        "colab_type": "code",
        "colab": {}
      },
      "source": [
        "catm=dr_2.drop_duplicates(['catm'],keep='first')\n",
        "catm=catm.loc[:,['catm']]\n",
        "catm=catm.reset_index()\n",
        "catm=catm.drop(['index'], axis=1)"
      ],
      "execution_count": null,
      "outputs": []
    },
    {
      "cell_type": "markdown",
      "metadata": {
        "id": "lDe2ACDgguoe",
        "colab_type": "text"
      },
      "source": [
        "달별로\n"
      ]
    },
    {
      "cell_type": "code",
      "metadata": {
        "id": "dXir9FV3oevq",
        "colab_type": "code",
        "colab": {
          "base_uri": "https://localhost:8080/",
          "height": 244
        },
        "outputId": "df18808d-d8e1-4492-9eb8-c5b6289638d2"
      },
      "source": [
        "catm_comp=dict()\n",
        "a=[]\n",
        "c=[]\n",
        "\n",
        "\n",
        "for i in range(len(index_by_catm)):\n",
        "  month=index_by_catm['month'][i]\n",
        "  if month not in a:\n",
        "    name=index_by_catm['catm'][j]\n",
        "    if name in c:\n",
        "      catm_comp[month][name].append(index_by_catm['cgi'][i])\n",
        "      \n",
        "    else:\n",
        "      inputd={}\n",
        "      inputL=[]\n",
        "      inputL.append(dr_2['cgi'][i])\n",
        "      inputd[name]=inputL\n",
        "      catm_comp[month]=inputd\n",
        "      c.append(name)\n",
        "        \n",
        "  \n",
        "\n",
        "  a.append(month)\n",
        "\n",
        "print(catm_comp)\n",
        "\n",
        "\n",
        "\n"
      ],
      "execution_count": null,
      "outputs": [
        {
          "output_type": "error",
          "ename": "NameError",
          "evalue": "ignored",
          "traceback": [
            "\u001b[0;31m---------------------------------------------------------------------------\u001b[0m",
            "\u001b[0;31mNameError\u001b[0m                                 Traceback (most recent call last)",
            "\u001b[0;32m<ipython-input-43-741d7395f69f>\u001b[0m in \u001b[0;36m<module>\u001b[0;34m()\u001b[0m\n\u001b[1;32m      7\u001b[0m   \u001b[0mmonth\u001b[0m\u001b[0;34m=\u001b[0m\u001b[0mindex_by_catm\u001b[0m\u001b[0;34m[\u001b[0m\u001b[0;34m'month'\u001b[0m\u001b[0;34m]\u001b[0m\u001b[0;34m[\u001b[0m\u001b[0mi\u001b[0m\u001b[0;34m]\u001b[0m\u001b[0;34m\u001b[0m\u001b[0;34m\u001b[0m\u001b[0m\n\u001b[1;32m      8\u001b[0m   \u001b[0;32mif\u001b[0m \u001b[0mmonth\u001b[0m \u001b[0;32mnot\u001b[0m \u001b[0;32min\u001b[0m \u001b[0ma\u001b[0m\u001b[0;34m:\u001b[0m\u001b[0;34m\u001b[0m\u001b[0;34m\u001b[0m\u001b[0m\n\u001b[0;32m----> 9\u001b[0;31m     \u001b[0mname\u001b[0m\u001b[0;34m=\u001b[0m\u001b[0mindex_by_catm\u001b[0m\u001b[0;34m[\u001b[0m\u001b[0;34m'catm'\u001b[0m\u001b[0;34m]\u001b[0m\u001b[0;34m[\u001b[0m\u001b[0mj\u001b[0m\u001b[0;34m]\u001b[0m\u001b[0;34m\u001b[0m\u001b[0;34m\u001b[0m\u001b[0m\n\u001b[0m\u001b[1;32m     10\u001b[0m     \u001b[0;32mif\u001b[0m \u001b[0mname\u001b[0m \u001b[0;32min\u001b[0m \u001b[0mc\u001b[0m\u001b[0;34m:\u001b[0m\u001b[0;34m\u001b[0m\u001b[0;34m\u001b[0m\u001b[0m\n\u001b[1;32m     11\u001b[0m       \u001b[0mcatm_comp\u001b[0m\u001b[0;34m[\u001b[0m\u001b[0mmonth\u001b[0m\u001b[0;34m]\u001b[0m\u001b[0;34m[\u001b[0m\u001b[0mname\u001b[0m\u001b[0;34m]\u001b[0m\u001b[0;34m.\u001b[0m\u001b[0mappend\u001b[0m\u001b[0;34m(\u001b[0m\u001b[0mindex_by_catm\u001b[0m\u001b[0;34m[\u001b[0m\u001b[0;34m'cgi'\u001b[0m\u001b[0;34m]\u001b[0m\u001b[0;34m[\u001b[0m\u001b[0mi\u001b[0m\u001b[0;34m]\u001b[0m\u001b[0;34m)\u001b[0m\u001b[0;34m\u001b[0m\u001b[0;34m\u001b[0m\u001b[0m\n",
            "\u001b[0;31mNameError\u001b[0m: name 'j' is not defined"
          ]
        }
      ]
    },
    {
      "cell_type": "code",
      "metadata": {
        "id": "a1-_l96XguVF",
        "colab_type": "code",
        "colab": {
          "base_uri": "https://localhost:8080/",
          "height": 244
        },
        "outputId": "86a163a4-dea0-4128-ba88-2f21cb272342"
      },
      "source": [
        "catm_comp=dict()\n",
        "a=[]\n",
        "\n",
        "for i in range(len(dr_2)):\n",
        "  name=dr_2['catm'][i]\n",
        "  month=dr_2['month'][i]\n",
        "  if month not in a:\n",
        "    if name in catm_comp[month].keys():\n",
        "      inputd[month][name].append(dr_2['cgi'][i])\n",
        "    else:\n",
        "      inputd={}\n",
        "      inputd[name]=dr_2['cgi'][i]\n",
        "      \n",
        "      catm_comp[month][name]=inputL\n",
        "  else:\n",
        "\n",
        "   a.append(month)\n",
        "\n",
        "\n",
        "\n",
        "print(catm_comp)\n",
        "\n",
        "  \n",
        "\n",
        "    "
      ],
      "execution_count": null,
      "outputs": [
        {
          "output_type": "error",
          "ename": "NameError",
          "evalue": "ignored",
          "traceback": [
            "\u001b[0;31m---------------------------------------------------------------------------\u001b[0m",
            "\u001b[0;31mNameError\u001b[0m                                 Traceback (most recent call last)",
            "\u001b[0;32m<ipython-input-44-51d1b4a7d9d2>\u001b[0m in \u001b[0;36m<module>\u001b[0;34m()\u001b[0m\n\u001b[1;32m      2\u001b[0m \u001b[0ma\u001b[0m\u001b[0;34m=\u001b[0m\u001b[0;34m[\u001b[0m\u001b[0;34m]\u001b[0m\u001b[0;34m\u001b[0m\u001b[0;34m\u001b[0m\u001b[0m\n\u001b[1;32m      3\u001b[0m \u001b[0;34m\u001b[0m\u001b[0m\n\u001b[0;32m----> 4\u001b[0;31m \u001b[0;32mfor\u001b[0m \u001b[0mi\u001b[0m \u001b[0;32min\u001b[0m \u001b[0mrange\u001b[0m\u001b[0;34m(\u001b[0m\u001b[0mlen\u001b[0m\u001b[0;34m(\u001b[0m\u001b[0mdr_2\u001b[0m\u001b[0;34m)\u001b[0m\u001b[0;34m)\u001b[0m\u001b[0;34m:\u001b[0m\u001b[0;34m\u001b[0m\u001b[0;34m\u001b[0m\u001b[0m\n\u001b[0m\u001b[1;32m      5\u001b[0m   \u001b[0mname\u001b[0m\u001b[0;34m=\u001b[0m\u001b[0mdr_2\u001b[0m\u001b[0;34m[\u001b[0m\u001b[0;34m'catm'\u001b[0m\u001b[0;34m]\u001b[0m\u001b[0;34m[\u001b[0m\u001b[0mi\u001b[0m\u001b[0;34m]\u001b[0m\u001b[0;34m\u001b[0m\u001b[0;34m\u001b[0m\u001b[0m\n\u001b[1;32m      6\u001b[0m   \u001b[0mmonth\u001b[0m\u001b[0;34m=\u001b[0m\u001b[0mdr_2\u001b[0m\u001b[0;34m[\u001b[0m\u001b[0;34m'month'\u001b[0m\u001b[0;34m]\u001b[0m\u001b[0;34m[\u001b[0m\u001b[0mi\u001b[0m\u001b[0;34m]\u001b[0m\u001b[0;34m\u001b[0m\u001b[0;34m\u001b[0m\u001b[0m\n",
            "\u001b[0;31mNameError\u001b[0m: name 'dr_2' is not defined"
          ]
        }
      ]
    },
    {
      "cell_type": "code",
      "metadata": {
        "id": "XWMq9VsdVUF0",
        "colab_type": "code",
        "colab": {
          "base_uri": "https://localhost:8080/",
          "height": 244
        },
        "outputId": "9cd355b6-3aae-4c28-f144-8dfc67547e7b"
      },
      "source": [
        "\n",
        "\n",
        "\n",
        "\n"
      ],
      "execution_count": null,
      "outputs": [
        {
          "output_type": "error",
          "ename": "KeyError",
          "evalue": "ignored",
          "traceback": [
            "\u001b[0;31m---------------------------------------------------------------------------\u001b[0m",
            "\u001b[0;31mKeyError\u001b[0m                                  Traceback (most recent call last)",
            "\u001b[0;32m<ipython-input-36-0761a7293a51>\u001b[0m in \u001b[0;36m<module>\u001b[0;34m()\u001b[0m\n\u001b[1;32m     11\u001b[0m     \u001b[0minputL\u001b[0m\u001b[0;34m=\u001b[0m\u001b[0;34m[\u001b[0m\u001b[0;34m]\u001b[0m\u001b[0;34m\u001b[0m\u001b[0;34m\u001b[0m\u001b[0m\n\u001b[1;32m     12\u001b[0m     \u001b[0minputL\u001b[0m\u001b[0;34m.\u001b[0m\u001b[0mappend\u001b[0m\u001b[0;34m(\u001b[0m\u001b[0mdr_2\u001b[0m\u001b[0;34m[\u001b[0m\u001b[0;34m'cgi'\u001b[0m\u001b[0;34m]\u001b[0m\u001b[0;34m[\u001b[0m\u001b[0mi\u001b[0m\u001b[0;34m]\u001b[0m\u001b[0;34m)\u001b[0m\u001b[0;34m\u001b[0m\u001b[0;34m\u001b[0m\u001b[0m\n\u001b[0;32m---> 13\u001b[0;31m     \u001b[0mcatm_comp\u001b[0m\u001b[0;34m[\u001b[0m\u001b[0mname\u001b[0m\u001b[0;34m]\u001b[0m\u001b[0;34m[\u001b[0m\u001b[0mmonth\u001b[0m\u001b[0;34m]\u001b[0m\u001b[0;34m=\u001b[0m\u001b[0minputL\u001b[0m\u001b[0;34m\u001b[0m\u001b[0;34m\u001b[0m\u001b[0m\n\u001b[0m\u001b[1;32m     14\u001b[0m \u001b[0;34m\u001b[0m\u001b[0m\n\u001b[1;32m     15\u001b[0m \u001b[0;34m\u001b[0m\u001b[0m\n",
            "\u001b[0;31mKeyError\u001b[0m: '가공식품'"
          ]
        }
      ]
    },
    {
      "cell_type": "code",
      "metadata": {
        "id": "H4FE-05ni6XP",
        "colab_type": "code",
        "colab": {
          "base_uri": "https://localhost:8080/",
          "height": 35
        },
        "outputId": "3e551054-4b4e-4212-8dd0-c888615d97d3"
      },
      "source": [
        "#시군구 종류\n",
        "sig=df_1.drop_duplicates(['sigungu'],keep='first')\n",
        "sig=sig.loc[:,['sigungu']]\n",
        "len(sig)"
      ],
      "execution_count": null,
      "outputs": [
        {
          "output_type": "execute_result",
          "data": {
            "text/plain": [
              "26"
            ]
          },
          "metadata": {
            "tags": []
          },
          "execution_count": 78
        }
      ]
    },
    {
      "cell_type": "code",
      "metadata": {
        "id": "9wkfCjk5i_cw",
        "colab_type": "code",
        "colab": {
          "base_uri": "https://localhost:8080/",
          "height": 35
        },
        "outputId": "c2946437-3e22-49df-a4b3-a965d7d9eaaa"
      },
      "source": [
        "#품목 종류\n",
        "catm=df_1.drop_duplicates(['catm'],keep='first')\n",
        "catm=catm.loc[:,['catm']]\n",
        "catm=catm.reset_index()\n",
        "catm=catm.drop(['index'], axis=1)\n",
        "len(catm)"
      ],
      "execution_count": null,
      "outputs": [
        {
          "output_type": "execute_result",
          "data": {
            "text/plain": [
              "17"
            ]
          },
          "metadata": {
            "tags": []
          },
          "execution_count": 77
        }
      ]
    },
    {
      "cell_type": "code",
      "metadata": {
        "id": "nFpwsZ0Rj2IH",
        "colab_type": "code",
        "colab": {
          "base_uri": "https://localhost:8080/",
          "height": 35
        },
        "outputId": "cf81f5df-8422-4517-883a-83aae380a0a4"
      },
      "source": [
        "#년도,달별\n",
        "period=df_1.drop_duplicates(['period'],keep='first')\n",
        "period=period.loc[:,['period']]\n",
        "period=period.reset_index()\n",
        "period=period.drop(['index'], axis=1)\n",
        "len(period)"
      ],
      "execution_count": null,
      "outputs": [
        {
          "output_type": "execute_result",
          "data": {
            "text/plain": [
              "17"
            ]
          },
          "metadata": {
            "tags": []
          },
          "execution_count": 80
        }
      ]
    },
    {
      "cell_type": "code",
      "metadata": {
        "id": "DHbZjbDDkYu2",
        "colab_type": "code",
        "colab": {
          "base_uri": "https://localhost:8080/",
          "height": 568
        },
        "outputId": "3191bbd8-636d-4e36-a61d-7f0d95192ebd"
      },
      "source": [
        "#100이상만 남기기\n",
        "up=df_1[df_1['cgi']>=100]\n",
        "down=df_1[df_1['cgi']<100]\n",
        "up\n",
        "\n"
      ],
      "execution_count": null,
      "outputs": [
        {
          "output_type": "execute_result",
          "data": {
            "text/html": [
              "<div>\n",
              "<style scoped>\n",
              "    .dataframe tbody tr th:only-of-type {\n",
              "        vertical-align: middle;\n",
              "    }\n",
              "\n",
              "    .dataframe tbody tr th {\n",
              "        vertical-align: top;\n",
              "    }\n",
              "\n",
              "    .dataframe thead th {\n",
              "        text-align: right;\n",
              "    }\n",
              "</style>\n",
              "<table border=\"1\" class=\"dataframe\">\n",
              "  <thead>\n",
              "    <tr style=\"text-align: right;\">\n",
              "      <th></th>\n",
              "      <th>period</th>\n",
              "      <th>catm</th>\n",
              "      <th>age</th>\n",
              "      <th>gender</th>\n",
              "      <th>sido</th>\n",
              "      <th>sigungu</th>\n",
              "      <th>cgi</th>\n",
              "      <th>year</th>\n",
              "      <th>month</th>\n",
              "      <th>total_nm</th>\n",
              "    </tr>\n",
              "  </thead>\n",
              "  <tbody>\n",
              "    <tr>\n",
              "      <th>0</th>\n",
              "      <td>201901</td>\n",
              "      <td>건강관리용품</td>\n",
              "      <td>20</td>\n",
              "      <td>F</td>\n",
              "      <td>서울</td>\n",
              "      <td>관악구</td>\n",
              "      <td>115.374642</td>\n",
              "      <td>2019</td>\n",
              "      <td>1</td>\n",
              "      <td>서울 관악구</td>\n",
              "    </tr>\n",
              "    <tr>\n",
              "      <th>1</th>\n",
              "      <td>201901</td>\n",
              "      <td>건강관리용품</td>\n",
              "      <td>20</td>\n",
              "      <td>F</td>\n",
              "      <td>서울</td>\n",
              "      <td>광진구</td>\n",
              "      <td>119.596454</td>\n",
              "      <td>2019</td>\n",
              "      <td>1</td>\n",
              "      <td>서울 광진구</td>\n",
              "    </tr>\n",
              "    <tr>\n",
              "      <th>2</th>\n",
              "      <td>201901</td>\n",
              "      <td>건강관리용품</td>\n",
              "      <td>20</td>\n",
              "      <td>F</td>\n",
              "      <td>서울</td>\n",
              "      <td>도봉구</td>\n",
              "      <td>156.992847</td>\n",
              "      <td>2019</td>\n",
              "      <td>1</td>\n",
              "      <td>서울 도봉구</td>\n",
              "    </tr>\n",
              "    <tr>\n",
              "      <th>4</th>\n",
              "      <td>201901</td>\n",
              "      <td>건강관리용품</td>\n",
              "      <td>20</td>\n",
              "      <td>F</td>\n",
              "      <td>서울</td>\n",
              "      <td>마포구</td>\n",
              "      <td>145.147595</td>\n",
              "      <td>2019</td>\n",
              "      <td>1</td>\n",
              "      <td>서울 마포구</td>\n",
              "    </tr>\n",
              "    <tr>\n",
              "      <th>7</th>\n",
              "      <td>201901</td>\n",
              "      <td>건강관리용품</td>\n",
              "      <td>20</td>\n",
              "      <td>M</td>\n",
              "      <td>서울</td>\n",
              "      <td>all</td>\n",
              "      <td>102.170986</td>\n",
              "      <td>2019</td>\n",
              "      <td>1</td>\n",
              "      <td>서울 all</td>\n",
              "    </tr>\n",
              "    <tr>\n",
              "      <th>...</th>\n",
              "      <td>...</td>\n",
              "      <td>...</td>\n",
              "      <td>...</td>\n",
              "      <td>...</td>\n",
              "      <td>...</td>\n",
              "      <td>...</td>\n",
              "      <td>...</td>\n",
              "      <td>...</td>\n",
              "      <td>...</td>\n",
              "      <td>...</td>\n",
              "    </tr>\n",
              "    <tr>\n",
              "      <th>127400</th>\n",
              "      <td>202005</td>\n",
              "      <td>주류</td>\n",
              "      <td>all</td>\n",
              "      <td>F</td>\n",
              "      <td>서울</td>\n",
              "      <td>서초구</td>\n",
              "      <td>105.601034</td>\n",
              "      <td>2020</td>\n",
              "      <td>5</td>\n",
              "      <td>서울 서초구</td>\n",
              "    </tr>\n",
              "    <tr>\n",
              "      <th>127404</th>\n",
              "      <td>202005</td>\n",
              "      <td>주류</td>\n",
              "      <td>all</td>\n",
              "      <td>F</td>\n",
              "      <td>서울</td>\n",
              "      <td>중랑구</td>\n",
              "      <td>101.971130</td>\n",
              "      <td>2020</td>\n",
              "      <td>5</td>\n",
              "      <td>서울 중랑구</td>\n",
              "    </tr>\n",
              "    <tr>\n",
              "      <th>127412</th>\n",
              "      <td>202005</td>\n",
              "      <td>주류</td>\n",
              "      <td>all</td>\n",
              "      <td>all</td>\n",
              "      <td>서울</td>\n",
              "      <td>금천구</td>\n",
              "      <td>111.219339</td>\n",
              "      <td>2020</td>\n",
              "      <td>5</td>\n",
              "      <td>서울 금천구</td>\n",
              "    </tr>\n",
              "    <tr>\n",
              "      <th>127417</th>\n",
              "      <td>202005</td>\n",
              "      <td>주류</td>\n",
              "      <td>all</td>\n",
              "      <td>all</td>\n",
              "      <td>서울</td>\n",
              "      <td>영등포구</td>\n",
              "      <td>106.408920</td>\n",
              "      <td>2020</td>\n",
              "      <td>5</td>\n",
              "      <td>서울 영등포구</td>\n",
              "    </tr>\n",
              "    <tr>\n",
              "      <th>127500</th>\n",
              "      <td>202005</td>\n",
              "      <td>뷰티소품</td>\n",
              "      <td>all</td>\n",
              "      <td>all</td>\n",
              "      <td>서울</td>\n",
              "      <td>금천구</td>\n",
              "      <td>118.779314</td>\n",
              "      <td>2020</td>\n",
              "      <td>5</td>\n",
              "      <td>서울 금천구</td>\n",
              "    </tr>\n",
              "  </tbody>\n",
              "</table>\n",
              "<p>47452 rows × 10 columns</p>\n",
              "</div>"
            ],
            "text/plain": [
              "        period    catm  age gender  ...         cgi  year  month  total_nm\n",
              "0       201901  건강관리용품   20      F  ...  115.374642  2019      1    서울 관악구\n",
              "1       201901  건강관리용품   20      F  ...  119.596454  2019      1    서울 광진구\n",
              "2       201901  건강관리용품   20      F  ...  156.992847  2019      1    서울 도봉구\n",
              "4       201901  건강관리용품   20      F  ...  145.147595  2019      1    서울 마포구\n",
              "7       201901  건강관리용품   20      M  ...  102.170986  2019      1    서울 all\n",
              "...        ...     ...  ...    ...  ...         ...   ...    ...       ...\n",
              "127400  202005      주류  all      F  ...  105.601034  2020      5    서울 서초구\n",
              "127404  202005      주류  all      F  ...  101.971130  2020      5    서울 중랑구\n",
              "127412  202005      주류  all    all  ...  111.219339  2020      5    서울 금천구\n",
              "127417  202005      주류  all    all  ...  106.408920  2020      5   서울 영등포구\n",
              "127500  202005    뷰티소품  all    all  ...  118.779314  2020      5    서울 금천구\n",
              "\n",
              "[47452 rows x 10 columns]"
            ]
          },
          "metadata": {
            "tags": []
          },
          "execution_count": 81
        }
      ]
    },
    {
      "cell_type": "code",
      "metadata": {
        "id": "DEfhcY12bP4F",
        "colab_type": "code",
        "colab": {
          "base_uri": "https://localhost:8080/",
          "height": 194
        },
        "outputId": "7ed4b7b9-9bd6-4d29-b176-c143866fa566"
      },
      "source": [
        "df_1['sigungu'] = df_1['sigungu'].fillna('')\n",
        "df_1['total_nm'] =df_1['sido'] + ' ' + df_1['sigungu']\n",
        "\n",
        "df_1.head()"
      ],
      "execution_count": null,
      "outputs": [
        {
          "output_type": "execute_result",
          "data": {
            "text/html": [
              "<div>\n",
              "<style scoped>\n",
              "    .dataframe tbody tr th:only-of-type {\n",
              "        vertical-align: middle;\n",
              "    }\n",
              "\n",
              "    .dataframe tbody tr th {\n",
              "        vertical-align: top;\n",
              "    }\n",
              "\n",
              "    .dataframe thead th {\n",
              "        text-align: right;\n",
              "    }\n",
              "</style>\n",
              "<table border=\"1\" class=\"dataframe\">\n",
              "  <thead>\n",
              "    <tr style=\"text-align: right;\">\n",
              "      <th></th>\n",
              "      <th>period</th>\n",
              "      <th>catm</th>\n",
              "      <th>age</th>\n",
              "      <th>gender</th>\n",
              "      <th>sido</th>\n",
              "      <th>sigungu</th>\n",
              "      <th>cgi</th>\n",
              "      <th>year</th>\n",
              "      <th>month</th>\n",
              "      <th>total_nm</th>\n",
              "    </tr>\n",
              "  </thead>\n",
              "  <tbody>\n",
              "    <tr>\n",
              "      <th>0</th>\n",
              "      <td>201901</td>\n",
              "      <td>건강관리용품</td>\n",
              "      <td>20</td>\n",
              "      <td>F</td>\n",
              "      <td>서울</td>\n",
              "      <td>관악구</td>\n",
              "      <td>115.374642</td>\n",
              "      <td>2019</td>\n",
              "      <td>1</td>\n",
              "      <td>서울 관악구</td>\n",
              "    </tr>\n",
              "    <tr>\n",
              "      <th>1</th>\n",
              "      <td>201901</td>\n",
              "      <td>건강관리용품</td>\n",
              "      <td>20</td>\n",
              "      <td>F</td>\n",
              "      <td>서울</td>\n",
              "      <td>광진구</td>\n",
              "      <td>119.596454</td>\n",
              "      <td>2019</td>\n",
              "      <td>1</td>\n",
              "      <td>서울 광진구</td>\n",
              "    </tr>\n",
              "    <tr>\n",
              "      <th>2</th>\n",
              "      <td>201901</td>\n",
              "      <td>건강관리용품</td>\n",
              "      <td>20</td>\n",
              "      <td>F</td>\n",
              "      <td>서울</td>\n",
              "      <td>도봉구</td>\n",
              "      <td>156.992847</td>\n",
              "      <td>2019</td>\n",
              "      <td>1</td>\n",
              "      <td>서울 도봉구</td>\n",
              "    </tr>\n",
              "    <tr>\n",
              "      <th>3</th>\n",
              "      <td>201901</td>\n",
              "      <td>건강관리용품</td>\n",
              "      <td>20</td>\n",
              "      <td>F</td>\n",
              "      <td>서울</td>\n",
              "      <td>동작구</td>\n",
              "      <td>58.342726</td>\n",
              "      <td>2019</td>\n",
              "      <td>1</td>\n",
              "      <td>서울 동작구</td>\n",
              "    </tr>\n",
              "    <tr>\n",
              "      <th>4</th>\n",
              "      <td>201901</td>\n",
              "      <td>건강관리용품</td>\n",
              "      <td>20</td>\n",
              "      <td>F</td>\n",
              "      <td>서울</td>\n",
              "      <td>마포구</td>\n",
              "      <td>145.147595</td>\n",
              "      <td>2019</td>\n",
              "      <td>1</td>\n",
              "      <td>서울 마포구</td>\n",
              "    </tr>\n",
              "  </tbody>\n",
              "</table>\n",
              "</div>"
            ],
            "text/plain": [
              "   period    catm age gender sido sigungu         cgi  year  month total_nm\n",
              "0  201901  건강관리용품  20      F   서울     관악구  115.374642  2019      1   서울 관악구\n",
              "1  201901  건강관리용품  20      F   서울     광진구  119.596454  2019      1   서울 광진구\n",
              "2  201901  건강관리용품  20      F   서울     도봉구  156.992847  2019      1   서울 도봉구\n",
              "3  201901  건강관리용품  20      F   서울     동작구   58.342726  2019      1   서울 동작구\n",
              "4  201901  건강관리용품  20      F   서울     마포구  145.147595  2019      1   서울 마포구"
            ]
          },
          "metadata": {
            "tags": []
          },
          "execution_count": 48
        }
      ]
    },
    {
      "cell_type": "markdown",
      "metadata": {
        "id": "x37jQW8DbwsG",
        "colab_type": "text"
      },
      "source": [
        "1) 업종별"
      ]
    },
    {
      "cell_type": "code",
      "metadata": {
        "id": "x3ardQrDbqQz",
        "colab_type": "code",
        "colab": {
          "base_uri": "https://localhost:8080/",
          "height": 194
        },
        "outputId": "2da1b663-4f5b-4c6e-9fab-51086650aa32"
      },
      "source": [
        "#지역, 품목별 cgi 비교\n",
        "\n",
        "df_2=df_1.drop(['period','gender','sido','total_nm'],axis=1)\n",
        "df_2.head()"
      ],
      "execution_count": null,
      "outputs": [
        {
          "output_type": "execute_result",
          "data": {
            "text/html": [
              "<div>\n",
              "<style scoped>\n",
              "    .dataframe tbody tr th:only-of-type {\n",
              "        vertical-align: middle;\n",
              "    }\n",
              "\n",
              "    .dataframe tbody tr th {\n",
              "        vertical-align: top;\n",
              "    }\n",
              "\n",
              "    .dataframe thead th {\n",
              "        text-align: right;\n",
              "    }\n",
              "</style>\n",
              "<table border=\"1\" class=\"dataframe\">\n",
              "  <thead>\n",
              "    <tr style=\"text-align: right;\">\n",
              "      <th></th>\n",
              "      <th>catm</th>\n",
              "      <th>age</th>\n",
              "      <th>sigungu</th>\n",
              "      <th>cgi</th>\n",
              "      <th>year</th>\n",
              "      <th>month</th>\n",
              "    </tr>\n",
              "  </thead>\n",
              "  <tbody>\n",
              "    <tr>\n",
              "      <th>0</th>\n",
              "      <td>건강관리용품</td>\n",
              "      <td>20</td>\n",
              "      <td>관악구</td>\n",
              "      <td>115.374642</td>\n",
              "      <td>2019</td>\n",
              "      <td>1</td>\n",
              "    </tr>\n",
              "    <tr>\n",
              "      <th>1</th>\n",
              "      <td>건강관리용품</td>\n",
              "      <td>20</td>\n",
              "      <td>광진구</td>\n",
              "      <td>119.596454</td>\n",
              "      <td>2019</td>\n",
              "      <td>1</td>\n",
              "    </tr>\n",
              "    <tr>\n",
              "      <th>2</th>\n",
              "      <td>건강관리용품</td>\n",
              "      <td>20</td>\n",
              "      <td>도봉구</td>\n",
              "      <td>156.992847</td>\n",
              "      <td>2019</td>\n",
              "      <td>1</td>\n",
              "    </tr>\n",
              "    <tr>\n",
              "      <th>3</th>\n",
              "      <td>건강관리용품</td>\n",
              "      <td>20</td>\n",
              "      <td>동작구</td>\n",
              "      <td>58.342726</td>\n",
              "      <td>2019</td>\n",
              "      <td>1</td>\n",
              "    </tr>\n",
              "    <tr>\n",
              "      <th>4</th>\n",
              "      <td>건강관리용품</td>\n",
              "      <td>20</td>\n",
              "      <td>마포구</td>\n",
              "      <td>145.147595</td>\n",
              "      <td>2019</td>\n",
              "      <td>1</td>\n",
              "    </tr>\n",
              "  </tbody>\n",
              "</table>\n",
              "</div>"
            ],
            "text/plain": [
              "     catm age sigungu         cgi  year  month\n",
              "0  건강관리용품  20     관악구  115.374642  2019      1\n",
              "1  건강관리용품  20     광진구  119.596454  2019      1\n",
              "2  건강관리용품  20     도봉구  156.992847  2019      1\n",
              "3  건강관리용품  20     동작구   58.342726  2019      1\n",
              "4  건강관리용품  20     마포구  145.147595  2019      1"
            ]
          },
          "metadata": {
            "tags": []
          },
          "execution_count": 50
        }
      ]
    },
    {
      "cell_type": "code",
      "metadata": {
        "id": "Asbw53nkddel",
        "colab_type": "code",
        "colab": {
          "base_uri": "https://localhost:8080/",
          "height": 399
        },
        "outputId": "3bf66627-41ed-47f6-cc93-bb0f315c7661"
      },
      "source": [
        "df=df_2[df_2['catm']=='건강관리용품']\n",
        "df=df[df['month']==1]\n",
        "df['age'].value_counts()\n",
        "df"
      ],
      "execution_count": null,
      "outputs": [
        {
          "output_type": "execute_result",
          "data": {
            "text/html": [
              "<div>\n",
              "<style scoped>\n",
              "    .dataframe tbody tr th:only-of-type {\n",
              "        vertical-align: middle;\n",
              "    }\n",
              "\n",
              "    .dataframe tbody tr th {\n",
              "        vertical-align: top;\n",
              "    }\n",
              "\n",
              "    .dataframe thead th {\n",
              "        text-align: right;\n",
              "    }\n",
              "</style>\n",
              "<table border=\"1\" class=\"dataframe\">\n",
              "  <thead>\n",
              "    <tr style=\"text-align: right;\">\n",
              "      <th></th>\n",
              "      <th>catm</th>\n",
              "      <th>age</th>\n",
              "      <th>sigungu</th>\n",
              "      <th>cgi</th>\n",
              "      <th>year</th>\n",
              "      <th>month</th>\n",
              "    </tr>\n",
              "  </thead>\n",
              "  <tbody>\n",
              "    <tr>\n",
              "      <th>0</th>\n",
              "      <td>건강관리용품</td>\n",
              "      <td>20</td>\n",
              "      <td>관악구</td>\n",
              "      <td>115.374642</td>\n",
              "      <td>2019</td>\n",
              "      <td>1</td>\n",
              "    </tr>\n",
              "    <tr>\n",
              "      <th>1</th>\n",
              "      <td>건강관리용품</td>\n",
              "      <td>20</td>\n",
              "      <td>광진구</td>\n",
              "      <td>119.596454</td>\n",
              "      <td>2019</td>\n",
              "      <td>1</td>\n",
              "    </tr>\n",
              "    <tr>\n",
              "      <th>2</th>\n",
              "      <td>건강관리용품</td>\n",
              "      <td>20</td>\n",
              "      <td>도봉구</td>\n",
              "      <td>156.992847</td>\n",
              "      <td>2019</td>\n",
              "      <td>1</td>\n",
              "    </tr>\n",
              "    <tr>\n",
              "      <th>3</th>\n",
              "      <td>건강관리용품</td>\n",
              "      <td>20</td>\n",
              "      <td>동작구</td>\n",
              "      <td>58.342726</td>\n",
              "      <td>2019</td>\n",
              "      <td>1</td>\n",
              "    </tr>\n",
              "    <tr>\n",
              "      <th>4</th>\n",
              "      <td>건강관리용품</td>\n",
              "      <td>20</td>\n",
              "      <td>마포구</td>\n",
              "      <td>145.147595</td>\n",
              "      <td>2019</td>\n",
              "      <td>1</td>\n",
              "    </tr>\n",
              "    <tr>\n",
              "      <th>...</th>\n",
              "      <td>...</td>\n",
              "      <td>...</td>\n",
              "      <td>...</td>\n",
              "      <td>...</td>\n",
              "      <td>...</td>\n",
              "      <td>...</td>\n",
              "    </tr>\n",
              "    <tr>\n",
              "      <th>97350</th>\n",
              "      <td>건강관리용품</td>\n",
              "      <td>all</td>\n",
              "      <td>광진구</td>\n",
              "      <td>88.136296</td>\n",
              "      <td>2020</td>\n",
              "      <td>1</td>\n",
              "    </tr>\n",
              "    <tr>\n",
              "      <th>97351</th>\n",
              "      <td>건강관리용품</td>\n",
              "      <td>all</td>\n",
              "      <td>구로구</td>\n",
              "      <td>63.018603</td>\n",
              "      <td>2020</td>\n",
              "      <td>1</td>\n",
              "    </tr>\n",
              "    <tr>\n",
              "      <th>97352</th>\n",
              "      <td>건강관리용품</td>\n",
              "      <td>all</td>\n",
              "      <td>서대문구</td>\n",
              "      <td>119.418157</td>\n",
              "      <td>2020</td>\n",
              "      <td>1</td>\n",
              "    </tr>\n",
              "    <tr>\n",
              "      <th>97353</th>\n",
              "      <td>건강관리용품</td>\n",
              "      <td>all</td>\n",
              "      <td>서초구</td>\n",
              "      <td>101.988565</td>\n",
              "      <td>2020</td>\n",
              "      <td>1</td>\n",
              "    </tr>\n",
              "    <tr>\n",
              "      <th>97354</th>\n",
              "      <td>건강관리용품</td>\n",
              "      <td>all</td>\n",
              "      <td>성동구</td>\n",
              "      <td>90.026487</td>\n",
              "      <td>2020</td>\n",
              "      <td>1</td>\n",
              "    </tr>\n",
              "  </tbody>\n",
              "</table>\n",
              "<p>933 rows × 6 columns</p>\n",
              "</div>"
            ],
            "text/plain": [
              "         catm  age sigungu         cgi  year  month\n",
              "0      건강관리용품   20     관악구  115.374642  2019      1\n",
              "1      건강관리용품   20     광진구  119.596454  2019      1\n",
              "2      건강관리용품   20     도봉구  156.992847  2019      1\n",
              "3      건강관리용품   20     동작구   58.342726  2019      1\n",
              "4      건강관리용품   20     마포구  145.147595  2019      1\n",
              "...       ...  ...     ...         ...   ...    ...\n",
              "97350  건강관리용품  all     광진구   88.136296  2020      1\n",
              "97351  건강관리용품  all     구로구   63.018603  2020      1\n",
              "97352  건강관리용품  all    서대문구  119.418157  2020      1\n",
              "97353  건강관리용품  all     서초구  101.988565  2020      1\n",
              "97354  건강관리용품  all     성동구   90.026487  2020      1\n",
              "\n",
              "[933 rows x 6 columns]"
            ]
          },
          "metadata": {
            "tags": []
          },
          "execution_count": 65
        }
      ]
    },
    {
      "cell_type": "code",
      "metadata": {
        "id": "AdKkWoOkgdqq",
        "colab_type": "code",
        "colab": {
          "base_uri": "https://localhost:8080/",
          "height": 35
        },
        "outputId": "0e3d4a9b-b866-4dc5-b480-7899f974adfa"
      },
      "source": [
        "sig=df.drop_duplicates(['sigungu'],keep='first')\n",
        "sig=sig.loc[:,['sigungu']]\n",
        "sig.head()\n",
        "\n"
      ],
      "execution_count": null,
      "outputs": [
        {
          "output_type": "execute_result",
          "data": {
            "text/plain": [
              "26"
            ]
          },
          "metadata": {
            "tags": []
          },
          "execution_count": 69
        }
      ]
    },
    {
      "cell_type": "code",
      "metadata": {
        "id": "NkZG8Rz7hBgz",
        "colab_type": "code",
        "colab": {}
      },
      "source": [
        "comp=dict()\n",
        "for i in range(len(df)):\n",
        "  for j in range(len(sig)):\n",
        "    name=sig['sigugu'][i]\n",
        "    if name in address:\n",
        "      if"
      ],
      "execution_count": null,
      "outputs": []
    },
    {
      "cell_type": "markdown",
      "metadata": {
        "id": "9poBpP2Yaca2",
        "colab_type": "text"
      },
      "source": [
        "건강관리 용품"
      ]
    },
    {
      "cell_type": "code",
      "metadata": {
        "id": "a5CpTOOgnmA4",
        "colab_type": "code",
        "colab": {}
      },
      "source": [
        ""
      ],
      "execution_count": null,
      "outputs": []
    }
  ]
}