{
  "nbformat": 4,
  "nbformat_minor": 0,
  "metadata": {
    "colab": {
      "name": "승혜.ipynb",
      "provenance": [],
      "authorship_tag": "ABX9TyMAMzc//EDdoEEolgs0MFLN",
      "include_colab_link": true
    },
    "kernelspec": {
      "name": "python3",
      "display_name": "Python 3"
    }
  },
  "cells": [
    {
      "cell_type": "markdown",
      "metadata": {
        "id": "view-in-github",
        "colab_type": "text"
      },
      "source": [
        "<a href=\"https://colab.research.google.com/github/con11235/covid19_visualize/blob/master/markdown/%EC%8A%B9%ED%98%9C.ipynb\" target=\"_parent\"><img src=\"https://colab.research.google.com/assets/colab-badge.svg\" alt=\"Open In Colab\"/></a>"
      ]
    },
    {
      "cell_type": "markdown",
      "metadata": {
        "id": "rs3hLJ7vAVMi",
        "colab_type": "text"
      },
      "source": [
        "# Part.0. 분석의 목적 및 흐름\n",
        "안녕하세요, 팀 클릭입니다. 코로나 발생 이후 사회에 생긴 변화는 새로운 소비 트렌드가 등장했다는 점입니다. 우리는 이와 관련한 데이터를 분석하고 파악함으로써 이러한 트렌드를 가장 적극적으로 반영할 수 있는 산업이 무엇인지를 찾고자 합니다.  \n",
        " \n",
        "코로나로 인해 생긴 가장 큰 변화를 떠올려보면 다음과 같은 두 특징이 있습니다.  \n",
        " \n",
        "첫 번째, 코로나로 인해 발생한 여러 소비 트렌드들로 인해 사람들이 주로 소비하는 산업 자체가 달라졌다는 점입니다.  \n",
        "![코로나19와 5대 소비 트렌드 이미지](https://i.ibb.co/VVfwcS0/1.png)  \n",
        "집에서 보내는 시간의 증가로 집 안에서의 다양한 의식주 라이프스타일과 여가생활을 추구하는 '홈코노미', 인간 본원적 가치를 중시하는 현상으로 인해 불안감 및 두려움 등의 심리를 위안하는 '불안케어', 나를 위한 자기중심적 소비인 '에고이즘' 등이 대표적인 예입니다[(참고 기사)](http://m.joseilbo.com/news/view.htm?newsid=402010#_enliple). 우리는 소비 트렌드의 변화로 영향을 받았을 산업을 찾고자 하였고, 이를 위해 카드 소비 데이터를 분석하기로 하였습니다.  \n",
        " \n",
        "두 번째, 대면 접촉이 꺼려짐으로 인해 비대면 방식의 생활이 확산되었습니다. 우리가 이러한 비대면 생활에 쉽게 적응될 수 있었던 것은 스마트폰이나 인터넷의 힘이 큽니다. 이로 미루어 보아, 사람들이 코로나 이후로 관심이 높아진 산업이 무엇인지를 찾기 위한 답은 스마트폰 안에 있을 것입니다. 우리는 이를 찾기 위해 스마트폰 앱의 순위 데이터를 장르별로 분석하기로 하였습니다.\n",
        "\n",
        "즉, 우리는 코로나로 인한 소비 및 흥미의 변화를 파악하여 트렌드가 반영된 유망 산업을 찾는 방식으로 데이터를 분석해보았습니다.  \n",
        " \n",
        "이후의 설명에는 필수적인 코드와 결과만을 포함하며 전체 코드에 대한 정보는 [깃허브 링크](https://github.com/con11235/covid19_visualize)에서 확인할 수 있습니다."
      ]
    },
    {
      "cell_type": "markdown",
      "metadata": {
        "id": "AdR9OVuFNj-H",
        "colab_type": "text"
      },
      "source": [
        "# Part.1. 코로나 확진자 데이터의 분석  \n",
        "주어진 데이터 내에 한계가 있다보니 우리는 분석 대상을 서울시로 한정짓기로 하였습니다.  \n",
        "위에서 언급한 데이터들을 분석해보기 이전에, 코로나 자체의 발생 동향을 파악하기 위해 서울시 확진자의 데이터를 분석해보기로 하였습니다.\n"
      ]
    },
    {
      "cell_type": "code",
      "metadata": {
        "id": "00EF-jDPAMDR",
        "colab_type": "code",
        "colab": {
          "base_uri": "https://localhost:8080/",
          "height": 35
        },
        "outputId": "03507f56-3a3c-40c0-fd66-b0cf4e0a80a7"
      },
      "source": [
        "from google.colab import drive\n",
        "drive.mount('/content/gdrive')"
      ],
      "execution_count": 3,
      "outputs": [
        {
          "output_type": "stream",
          "text": [
            "Drive already mounted at /content/gdrive; to attempt to forcibly remount, call drive.mount(\"/content/gdrive\", force_remount=True).\n"
          ],
          "name": "stdout"
        }
      ]
    },
    {
      "cell_type": "code",
      "metadata": {
        "id": "6w8UK2yfPDDH",
        "colab_type": "code",
        "colab": {
          "base_uri": "https://localhost:8080/",
          "height": 321
        },
        "outputId": "e9889522-5713-4f74-ec24-5129db3608a8"
      },
      "source": [
        "import pandas as pd\n",
        "import seaborn as sns\n",
        "import numpy as np\n",
        "import warnings\n",
        "warnings.filterwarnings(action='ignore')\n",
        "\n",
        "import matplotlib as mpl\n",
        "import matplotlib.pyplot as plt\n",
        "%config InlineBackend.figure_format = 'retina' \n",
        "!apt -qq -y install fonts-nanum\n",
        "import matplotlib.font_manager as fm\n",
        "fontpath = '/usr/share/fonts/truetype/nanum/NanumBarunGothic.ttf'\n",
        "font = fm.FontProperties(fname=fontpath, size=9)\n",
        "plt.rc('font', family='NanumBarunGothic') \n",
        "mpl.font_manager._rebuild()\n",
        "\n",
        "import datetime\n",
        "import plotly.express as px\n",
        "\n",
        "import plotly\n",
        "from plotly.graph_objs import Scatter, Line, Layout\n",
        " \n",
        "import importlib\n",
        "import json\n",
        " \n",
        "from plotly.subplots import make_subplots\n",
        "import plotly.graph_objects as go"
      ],
      "execution_count": 2,
      "outputs": [
        {
          "output_type": "stream",
          "text": [
            "/usr/local/lib/python3.6/dist-packages/statsmodels/tools/_testing.py:19: FutureWarning: pandas.util.testing is deprecated. Use the functions in the public API at pandas.testing instead.\n",
            "  import pandas.util.testing as tm\n"
          ],
          "name": "stderr"
        },
        {
          "output_type": "stream",
          "text": [
            "The following package was automatically installed and is no longer required:\n",
            "  libnvidia-common-440\n",
            "Use 'apt autoremove' to remove it.\n",
            "The following NEW packages will be installed:\n",
            "  fonts-nanum\n",
            "0 upgraded, 1 newly installed, 0 to remove and 35 not upgraded.\n",
            "Need to get 9,604 kB of archives.\n",
            "After this operation, 29.5 MB of additional disk space will be used.\n",
            "Selecting previously unselected package fonts-nanum.\n",
            "(Reading database ... 144465 files and directories currently installed.)\n",
            "Preparing to unpack .../fonts-nanum_20170925-1_all.deb ...\n",
            "Unpacking fonts-nanum (20170925-1) ...\n",
            "Setting up fonts-nanum (20170925-1) ...\n",
            "Processing triggers for fontconfig (2.12.6-0ubuntu2) ...\n"
          ],
          "name": "stdout"
        }
      ]
    },
    {
      "cell_type": "code",
      "metadata": {
        "id": "wRJnE8x_PGFH",
        "colab_type": "code",
        "colab": {
          "base_uri": "https://localhost:8080/",
          "height": 206
        },
        "outputId": "46ab0f69-f722-493f-884b-e2eed3eb202c"
      },
      "source": [
        "patientinfo=pd.read_csv('/content/gdrive/My Drive/dacon/COVID_19/PatientInfo.csv')\n",
        "patientinfo.head(3)"
      ],
      "execution_count": 4,
      "outputs": [
        {
          "output_type": "execute_result",
          "data": {
            "text/html": [
              "<div>\n",
              "<style scoped>\n",
              "    .dataframe tbody tr th:only-of-type {\n",
              "        vertical-align: middle;\n",
              "    }\n",
              "\n",
              "    .dataframe tbody tr th {\n",
              "        vertical-align: top;\n",
              "    }\n",
              "\n",
              "    .dataframe thead th {\n",
              "        text-align: right;\n",
              "    }\n",
              "</style>\n",
              "<table border=\"1\" class=\"dataframe\">\n",
              "  <thead>\n",
              "    <tr style=\"text-align: right;\">\n",
              "      <th></th>\n",
              "      <th>patient_id</th>\n",
              "      <th>sex</th>\n",
              "      <th>age</th>\n",
              "      <th>country</th>\n",
              "      <th>province</th>\n",
              "      <th>city</th>\n",
              "      <th>infection_case</th>\n",
              "      <th>infected_by</th>\n",
              "      <th>contact_number</th>\n",
              "      <th>symptom_onset_date</th>\n",
              "      <th>confirmed_date</th>\n",
              "      <th>released_date</th>\n",
              "      <th>deceased_date</th>\n",
              "      <th>state</th>\n",
              "    </tr>\n",
              "  </thead>\n",
              "  <tbody>\n",
              "    <tr>\n",
              "      <th>0</th>\n",
              "      <td>1000000001</td>\n",
              "      <td>male</td>\n",
              "      <td>50s</td>\n",
              "      <td>Korea</td>\n",
              "      <td>서울</td>\n",
              "      <td>강서구</td>\n",
              "      <td>overseas inflow</td>\n",
              "      <td>NaN</td>\n",
              "      <td>75</td>\n",
              "      <td>2020-01-22</td>\n",
              "      <td>2020-01-23</td>\n",
              "      <td>2020-02-05</td>\n",
              "      <td>NaN</td>\n",
              "      <td>released</td>\n",
              "    </tr>\n",
              "    <tr>\n",
              "      <th>1</th>\n",
              "      <td>1000000002</td>\n",
              "      <td>male</td>\n",
              "      <td>30s</td>\n",
              "      <td>Korea</td>\n",
              "      <td>서울</td>\n",
              "      <td>중랑구</td>\n",
              "      <td>overseas inflow</td>\n",
              "      <td>NaN</td>\n",
              "      <td>31</td>\n",
              "      <td>NaN</td>\n",
              "      <td>2020-01-30</td>\n",
              "      <td>2020-03-02</td>\n",
              "      <td>NaN</td>\n",
              "      <td>released</td>\n",
              "    </tr>\n",
              "    <tr>\n",
              "      <th>2</th>\n",
              "      <td>1000000003</td>\n",
              "      <td>male</td>\n",
              "      <td>50s</td>\n",
              "      <td>Korea</td>\n",
              "      <td>서울</td>\n",
              "      <td>종로구</td>\n",
              "      <td>contact with patient</td>\n",
              "      <td>2002000001</td>\n",
              "      <td>17</td>\n",
              "      <td>NaN</td>\n",
              "      <td>2020-01-30</td>\n",
              "      <td>2020-02-19</td>\n",
              "      <td>NaN</td>\n",
              "      <td>released</td>\n",
              "    </tr>\n",
              "  </tbody>\n",
              "</table>\n",
              "</div>"
            ],
            "text/plain": [
              "   patient_id   sex  age  ... released_date deceased_date     state\n",
              "0  1000000001  male  50s  ...    2020-02-05           NaN  released\n",
              "1  1000000002  male  30s  ...    2020-03-02           NaN  released\n",
              "2  1000000003  male  50s  ...    2020-02-19           NaN  released\n",
              "\n",
              "[3 rows x 14 columns]"
            ]
          },
          "metadata": {
            "tags": []
          },
          "execution_count": 4
        }
      ]
    },
    {
      "cell_type": "markdown",
      "metadata": {
        "id": "yhYejnVQQM9j",
        "colab_type": "text"
      },
      "source": [
        "### 서울 확진자만 분류\n"
      ]
    },
    {
      "cell_type": "code",
      "metadata": {
        "id": "qwgRvNxQQMt5",
        "colab_type": "code",
        "colab": {}
      },
      "source": [
        "patientinfo_seoul=patientinfo[patientinfo['province']=='서울']"
      ],
      "execution_count": 5,
      "outputs": []
    },
    {
      "cell_type": "code",
      "metadata": {
        "id": "OthK8dvWQERj",
        "colab_type": "code",
        "colab": {}
      },
      "source": [
        "patient_seoul=patientinfo_seoul[['province','city','confirmed_date']]\n",
        "patient_seoul['total_ads']=patient_seoul['province']+' '+patientinfo_seoul['city']"
      ],
      "execution_count": 6,
      "outputs": []
    },
    {
      "cell_type": "markdown",
      "metadata": {
        "id": "4UBzMefXQYZK",
        "colab_type": "text"
      },
      "source": [
        "서울 내의 지역별 분류"
      ]
    },
    {
      "cell_type": "code",
      "metadata": {
        "id": "sr4uW-tMQYKA",
        "colab_type": "code",
        "colab": {
          "base_uri": "https://localhost:8080/",
          "height": 135
        },
        "outputId": "b31b6398-5511-4153-b878-72ca6b601eb5"
      },
      "source": [
        "patient_seoul=patient_seoul[['confirmed_date','total_ads']]\n",
        "patient_seoul['cnt']=1\n",
        "patient_seoul=patient_seoul.sort_values(by=['confirmed_date',],ascending=True)\n",
        "patient_seoul.head(3)"
      ],
      "execution_count": 9,
      "outputs": [
        {
          "output_type": "execute_result",
          "data": {
            "text/html": [
              "<div>\n",
              "<style scoped>\n",
              "    .dataframe tbody tr th:only-of-type {\n",
              "        vertical-align: middle;\n",
              "    }\n",
              "\n",
              "    .dataframe tbody tr th {\n",
              "        vertical-align: top;\n",
              "    }\n",
              "\n",
              "    .dataframe thead th {\n",
              "        text-align: right;\n",
              "    }\n",
              "</style>\n",
              "<table border=\"1\" class=\"dataframe\">\n",
              "  <thead>\n",
              "    <tr style=\"text-align: right;\">\n",
              "      <th></th>\n",
              "      <th>confirmed_date</th>\n",
              "      <th>total_ads</th>\n",
              "      <th>cnt</th>\n",
              "    </tr>\n",
              "  </thead>\n",
              "  <tbody>\n",
              "    <tr>\n",
              "      <th>0</th>\n",
              "      <td>2020-01-23</td>\n",
              "      <td>서울 강서구</td>\n",
              "      <td>1</td>\n",
              "    </tr>\n",
              "    <tr>\n",
              "      <th>1</th>\n",
              "      <td>2020-01-30</td>\n",
              "      <td>서울 중랑구</td>\n",
              "      <td>1</td>\n",
              "    </tr>\n",
              "    <tr>\n",
              "      <th>2</th>\n",
              "      <td>2020-01-30</td>\n",
              "      <td>서울 종로구</td>\n",
              "      <td>1</td>\n",
              "    </tr>\n",
              "  </tbody>\n",
              "</table>\n",
              "</div>"
            ],
            "text/plain": [
              "  confirmed_date total_ads  cnt\n",
              "0     2020-01-23    서울 강서구    1\n",
              "1     2020-01-30    서울 중랑구    1\n",
              "2     2020-01-30    서울 종로구    1"
            ]
          },
          "metadata": {
            "tags": []
          },
          "execution_count": 9
        }
      ]
    },
    {
      "cell_type": "markdown",
      "metadata": {
        "id": "y2pvfz6GQm_k",
        "colab_type": "text"
      },
      "source": [
        "날짜별 지역 확진자 수로 병합 (ex, 1/23일 종로구가 2번 -> 2명)"
      ]
    },
    {
      "cell_type": "code",
      "metadata": {
        "id": "XemL3rcUQWLE",
        "colab_type": "code",
        "colab": {}
      },
      "source": [
        "patient_seoul=patient_seoul.groupby(['confirmed_date','total_ads'],as_index=False).cnt.sum()"
      ],
      "execution_count": 10,
      "outputs": []
    },
    {
      "cell_type": "markdown",
      "metadata": {
        "id": "RcCbljjoQx_G",
        "colab_type": "text"
      },
      "source": [
        "지역별 누적 확진자 추가"
      ]
    },
    {
      "cell_type": "code",
      "metadata": {
        "id": "p86CmNpLQxM0",
        "colab_type": "code",
        "colab": {}
      },
      "source": [
        "patient_seoul['cnt_sum']=patient_seoul.groupby('total_ads')['cnt'].cumsum()"
      ],
      "execution_count": 12,
      "outputs": []
    },
    {
      "cell_type": "code",
      "metadata": {
        "id": "QpL5fMWJQ3eQ",
        "colab_type": "code",
        "colab": {
          "base_uri": "https://localhost:8080/",
          "height": 542
        },
        "outputId": "0561c60d-a752-4bec-f981-3861898d5a0b"
      },
      "source": [
        "fig=px.line(patient_seoul,x='confirmed_date',y='cnt_sum',color='total_ads')\n",
        "fig.update_layout(\n",
        "    title={\n",
        "        'text': \"지역별 확진자 변화(서울 한정)\",\n",
        "        'y':1,\n",
        "        'x':0.5,\n",
        "        'xanchor': 'center',\n",
        "        'yanchor': 'top'})\n",
        "fig.show()"
      ],
      "execution_count": 13,
      "outputs": [
        {
          "output_type": "display_data",
          "data": {
            "text/html": [
              "<html>\n",
              "<head><meta charset=\"utf-8\" /></head>\n",
              "<body>\n",
              "    <div>\n",
              "            <script src=\"https://cdnjs.cloudflare.com/ajax/libs/mathjax/2.7.5/MathJax.js?config=TeX-AMS-MML_SVG\"></script><script type=\"text/javascript\">if (window.MathJax) {MathJax.Hub.Config({SVG: {font: \"STIX-Web\"}});}</script>\n",
              "                <script type=\"text/javascript\">window.PlotlyConfig = {MathJaxConfig: 'local'};</script>\n",
              "        <script src=\"https://cdn.plot.ly/plotly-latest.min.js\"></script>    \n",
              "            <div id=\"e1b49e5f-0002-44d0-9cf2-47e6aaa52ab4\" class=\"plotly-graph-div\" style=\"height:525px; width:100%;\"></div>\n",
              "            <script type=\"text/javascript\">\n",
              "                \n",
              "                    window.PLOTLYENV=window.PLOTLYENV || {};\n",
              "                    \n",
              "                if (document.getElementById(\"e1b49e5f-0002-44d0-9cf2-47e6aaa52ab4\")) {\n",
              "                    Plotly.newPlot(\n",
              "                        'e1b49e5f-0002-44d0-9cf2-47e6aaa52ab4',\n",
              "                        [{\"hoverlabel\": {\"namelength\": 0}, \"hovertemplate\": \"total_ads=\\uc11c\\uc6b8 \\uac15\\uc11c\\uad6c<br>confirmed_date=%{x}<br>cnt_sum=%{y}\", \"legendgroup\": \"total_ads=\\uc11c\\uc6b8 \\uac15\\uc11c\\uad6c\", \"line\": {\"color\": \"#636efa\", \"dash\": \"solid\"}, \"mode\": \"lines\", \"name\": \"total_ads=\\uc11c\\uc6b8 \\uac15\\uc11c\\uad6c\", \"showlegend\": true, \"type\": \"scatter\", \"x\": [\"2020-01-23\", \"2020-02-23\", \"2020-03-06\", \"2020-03-09\", \"2020-03-10\", \"2020-03-11\", \"2020-03-15\", \"2020-03-16\", \"2020-03-19\", \"2020-03-20\", \"2020-03-21\", \"2020-03-22\", \"2020-03-24\", \"2020-03-25\", \"2020-04-04\", \"2020-04-05\", \"2020-04-07\", \"2020-04-19\", \"2020-05-09\", \"2020-05-11\", \"2020-05-13\", \"2020-05-18\", \"2020-05-25\", \"2020-05-26\", \"2020-05-27\", \"2020-05-28\", \"2020-05-30\", \"2020-06-01\", \"2020-06-02\", \"2020-06-03\", \"2020-06-04\", \"2020-06-05\", \"2020-06-06\", \"2020-06-07\", \"2020-06-08\", \"2020-06-11\", \"2020-06-12\", \"2020-06-13\", \"2020-06-17\", \"2020-06-18\", \"2020-06-19\", \"2020-06-20\", \"2020-06-21\", \"2020-06-22\", \"2020-06-25\"], \"xaxis\": \"x\", \"y\": [1, 2, 3, 6, 10, 13, 14, 15, 16, 17, 18, 19, 21, 22, 23, 24, 25, 26, 28, 30, 31, 32, 33, 35, 39, 43, 45, 47, 50, 52, 54, 55, 57, 59, 62, 65, 67, 69, 71, 73, 74, 75, 76, 77, 78], \"yaxis\": \"y\"}, {\"hoverlabel\": {\"namelength\": 0}, \"hovertemplate\": \"total_ads=\\uc11c\\uc6b8 \\ub9c8\\ud3ec\\uad6c<br>confirmed_date=%{x}<br>cnt_sum=%{y}\", \"legendgroup\": \"total_ads=\\uc11c\\uc6b8 \\ub9c8\\ud3ec\\uad6c\", \"line\": {\"color\": \"#EF553B\", \"dash\": \"solid\"}, \"mode\": \"lines\", \"name\": \"total_ads=\\uc11c\\uc6b8 \\ub9c8\\ud3ec\\uad6c\", \"showlegend\": true, \"type\": \"scatter\", \"x\": [\"2020-01-30\", \"2020-03-10\", \"2020-03-11\", \"2020-03-13\", \"2020-03-14\", \"2020-03-17\", \"2020-03-18\", \"2020-03-19\", \"2020-03-27\", \"2020-03-29\", \"2020-03-31\", \"2020-04-01\", \"2020-04-04\", \"2020-04-08\", \"2020-04-20\", \"2020-04-21\", \"2020-05-27\", \"2020-05-28\", \"2020-06-03\", \"2020-06-04\", \"2020-06-06\", \"2020-06-09\", \"2020-06-16\", \"2020-06-18\", \"2020-06-19\", \"2020-06-27\", \"2020-06-29\"], \"xaxis\": \"x\", \"y\": [1, 5, 6, 7, 8, 9, 10, 13, 14, 15, 17, 18, 19, 22, 23, 24, 25, 27, 28, 29, 30, 31, 32, 33, 34, 35, 38], \"yaxis\": \"y\"}, {\"hoverlabel\": {\"namelength\": 0}, \"hovertemplate\": \"total_ads=\\uc11c\\uc6b8 \\uc885\\ub85c\\uad6c<br>confirmed_date=%{x}<br>cnt_sum=%{y}\", \"legendgroup\": \"total_ads=\\uc11c\\uc6b8 \\uc885\\ub85c\\uad6c\", \"line\": {\"color\": \"#00cc96\", \"dash\": \"solid\"}, \"mode\": \"lines\", \"name\": \"total_ads=\\uc11c\\uc6b8 \\uc885\\ub85c\\uad6c\", \"showlegend\": true, \"type\": \"scatter\", \"x\": [\"2020-01-30\", \"2020-01-31\", \"2020-02-16\", \"2020-02-19\", \"2020-02-20\", \"2020-02-23\", \"2020-02-26\", \"2020-03-23\", \"2020-03-24\", \"2020-03-31\", \"2020-04-02\", \"2020-05-08\", \"2020-05-17\", \"2020-05-29\", \"2020-06-12\", \"2020-06-13\", \"2020-06-24\"], \"xaxis\": \"x\", \"y\": [1, 3, 5, 6, 9, 10, 11, 12, 13, 15, 16, 17, 18, 19, 20, 21, 22], \"yaxis\": \"y\"}, {\"hoverlabel\": {\"namelength\": 0}, \"hovertemplate\": \"total_ads=\\uc11c\\uc6b8 \\uc911\\ub791\\uad6c<br>confirmed_date=%{x}<br>cnt_sum=%{y}\", \"legendgroup\": \"total_ads=\\uc11c\\uc6b8 \\uc911\\ub791\\uad6c\", \"line\": {\"color\": \"#ab63fa\", \"dash\": \"solid\"}, \"mode\": \"lines\", \"name\": \"total_ads=\\uc11c\\uc6b8 \\uc911\\ub791\\uad6c\", \"showlegend\": true, \"type\": \"scatter\", \"x\": [\"2020-01-30\", \"2020-03-04\", \"2020-03-11\", \"2020-03-14\", \"2020-03-20\", \"2020-03-21\", \"2020-03-24\", \"2020-03-26\", \"2020-03-27\", \"2020-04-02\", \"2020-04-04\", \"2020-04-06\", \"2020-05-09\", \"2020-05-23\", \"2020-05-24\", \"2020-06-05\", \"2020-06-08\", \"2020-06-11\", \"2020-06-12\", \"2020-06-13\", \"2020-06-16\", \"2020-06-18\", \"2020-06-19\", \"2020-06-23\", \"2020-06-25\", \"2020-06-26\"], \"xaxis\": \"x\", \"y\": [1, 2, 4, 5, 6, 8, 10, 11, 13, 14, 15, 16, 17, 18, 19, 20, 21, 23, 26, 27, 28, 29, 30, 31, 32, 33], \"yaxis\": \"y\"}, {\"hoverlabel\": {\"namelength\": 0}, \"hovertemplate\": \"total_ads=\\uc11c\\uc6b8 \\uc131\\ubd81\\uad6c<br>confirmed_date=%{x}<br>cnt_sum=%{y}\", \"legendgroup\": \"total_ads=\\uc11c\\uc6b8 \\uc131\\ubd81\\uad6c\", \"line\": {\"color\": \"#FFA15A\", \"dash\": \"solid\"}, \"mode\": \"lines\", \"name\": \"total_ads=\\uc11c\\uc6b8 \\uc131\\ubd81\\uad6c\", \"showlegend\": true, \"type\": \"scatter\", \"x\": [\"2020-01-31\", \"2020-02-05\", \"2020-03-01\", \"2020-03-02\", \"2020-03-06\", \"2020-03-11\", \"2020-03-12\", \"2020-03-18\", \"2020-03-20\", \"2020-03-22\", \"2020-03-26\", \"2020-03-27\", \"2020-04-04\", \"2020-04-05\", \"2020-04-07\", \"2020-04-09\", \"2020-04-13\", \"2020-04-17\", \"2020-04-27\", \"2020-05-08\", \"2020-05-09\", \"2020-05-10\", \"2020-05-18\", \"2020-05-29\", \"2020-06-10\", \"2020-06-12\", \"2020-06-18\", \"2020-06-21\"], \"xaxis\": \"x\", \"y\": [1, 2, 3, 5, 6, 8, 9, 11, 12, 13, 14, 15, 16, 18, 20, 21, 22, 23, 24, 25, 26, 27, 28, 29, 30, 31, 32, 33], \"yaxis\": \"y\"}, {\"hoverlabel\": {\"namelength\": 0}, \"hovertemplate\": \"total_ads=\\uc11c\\uc6b8 \\uae30\\ud0c0<br>confirmed_date=%{x}<br>cnt_sum=%{y}\", \"legendgroup\": \"total_ads=\\uc11c\\uc6b8 \\uae30\\ud0c0\", \"line\": {\"color\": \"#19d3f3\", \"dash\": \"solid\"}, \"mode\": \"lines\", \"name\": \"total_ads=\\uc11c\\uc6b8 \\uae30\\ud0c0\", \"showlegend\": true, \"type\": \"scatter\", \"x\": [\"2020-02-02\", \"2020-02-07\", \"2020-02-20\", \"2020-02-25\", \"2020-02-26\", \"2020-02-27\", \"2020-03-06\", \"2020-03-07\", \"2020-03-08\", \"2020-03-09\", \"2020-03-17\", \"2020-03-24\", \"2020-03-25\", \"2020-03-27\", \"2020-03-28\", \"2020-03-29\", \"2020-03-30\", \"2020-03-31\", \"2020-04-01\", \"2020-04-02\", \"2020-04-04\", \"2020-04-05\", \"2020-04-06\", \"2020-04-21\", \"2020-04-24\", \"2020-05-08\", \"2020-05-11\", \"2020-05-20\", \"2020-05-22\", \"2020-05-23\", \"2020-05-26\", \"2020-05-27\", \"2020-05-28\", \"2020-06-02\", \"2020-06-03\", \"2020-06-04\", \"2020-06-06\", \"2020-06-07\", \"2020-06-08\", \"2020-06-09\", \"2020-06-10\", \"2020-06-14\", \"2020-06-17\", \"2020-06-18\", \"2020-06-19\", \"2020-06-20\", \"2020-06-24\", \"2020-06-25\", \"2020-06-28\", \"2020-06-29\"], \"xaxis\": \"x\", \"y\": [1, 2, 3, 5, 6, 9, 11, 12, 13, 17, 18, 19, 21, 22, 25, 26, 29, 31, 37, 38, 39, 40, 41, 42, 43, 45, 46, 47, 48, 49, 50, 53, 55, 57, 58, 59, 63, 65, 66, 67, 68, 69, 70, 71, 73, 75, 77, 78, 79, 80], \"yaxis\": \"y\"}, {\"hoverlabel\": {\"namelength\": 0}, \"hovertemplate\": \"total_ads=\\uc11c\\uc6b8 \\uc1a1\\ud30c\\uad6c<br>confirmed_date=%{x}<br>cnt_sum=%{y}\", \"legendgroup\": \"total_ads=\\uc11c\\uc6b8 \\uc1a1\\ud30c\\uad6c\", \"line\": {\"color\": \"#FF6692\", \"dash\": \"solid\"}, \"mode\": \"lines\", \"name\": \"total_ads=\\uc11c\\uc6b8 \\uc1a1\\ud30c\\uad6c\", \"showlegend\": true, \"type\": \"scatter\", \"x\": [\"2020-02-05\", \"2020-02-22\", \"2020-02-24\", \"2020-02-25\", \"2020-02-26\", \"2020-02-27\", \"2020-02-29\", \"2020-03-01\", \"2020-03-10\", \"2020-03-11\", \"2020-03-12\", \"2020-03-17\", \"2020-03-19\", \"2020-03-23\", \"2020-03-26\", \"2020-03-27\", \"2020-03-28\", \"2020-03-29\", \"2020-03-30\", \"2020-03-31\", \"2020-04-01\", \"2020-04-03\", \"2020-04-04\", \"2020-04-05\", \"2020-04-12\", \"2020-05-09\", \"2020-05-10\", \"2020-05-12\", \"2020-05-13\", \"2020-05-14\", \"2020-05-16\", \"2020-05-18\", \"2020-05-27\", \"2020-05-28\", \"2020-05-29\", \"2020-06-01\", \"2020-06-05\", \"2020-06-10\", \"2020-06-16\", \"2020-06-21\", \"2020-06-27\", \"2020-06-28\"], \"xaxis\": \"x\", \"y\": [1, 2, 4, 5, 7, 10, 11, 12, 13, 14, 15, 16, 18, 19, 21, 22, 23, 24, 25, 27, 28, 32, 35, 36, 37, 38, 39, 40, 41, 42, 44, 45, 46, 47, 48, 49, 50, 51, 52, 53, 54, 55], \"yaxis\": \"y\"}, {\"hoverlabel\": {\"namelength\": 0}, \"hovertemplate\": \"total_ads=\\uc11c\\uc6b8 \\uc11c\\ub300\\ubb38\\uad6c<br>confirmed_date=%{x}<br>cnt_sum=%{y}\", \"legendgroup\": \"total_ads=\\uc11c\\uc6b8 \\uc11c\\ub300\\ubb38\\uad6c\", \"line\": {\"color\": \"#B6E880\", \"dash\": \"solid\"}, \"mode\": \"lines\", \"name\": \"total_ads=\\uc11c\\uc6b8 \\uc11c\\ub300\\ubb38\\uad6c\", \"showlegend\": true, \"type\": \"scatter\", \"x\": [\"2020-02-06\", \"2020-02-21\", \"2020-02-28\", \"2020-03-11\", \"2020-03-16\", \"2020-03-21\", \"2020-03-22\", \"2020-03-27\", \"2020-03-29\", \"2020-04-01\", \"2020-04-03\", \"2020-04-04\", \"2020-04-15\", \"2020-04-30\", \"2020-05-09\", \"2020-05-11\", \"2020-05-15\", \"2020-05-27\", \"2020-05-28\", \"2020-05-29\", \"2020-05-30\", \"2020-06-01\", \"2020-06-02\", \"2020-06-08\", \"2020-06-14\", \"2020-06-15\", \"2020-06-18\", \"2020-06-19\"], \"xaxis\": \"x\", \"y\": [1, 2, 4, 6, 8, 10, 12, 13, 14, 15, 16, 18, 19, 20, 21, 22, 23, 24, 26, 27, 28, 29, 31, 32, 33, 34, 35, 36], \"yaxis\": \"y\"}, {\"hoverlabel\": {\"namelength\": 0}, \"hovertemplate\": \"total_ads=\\uc11c\\uc6b8 \\uc131\\ub3d9\\uad6c<br>confirmed_date=%{x}<br>cnt_sum=%{y}\", \"legendgroup\": \"total_ads=\\uc11c\\uc6b8 \\uc131\\ub3d9\\uad6c\", \"line\": {\"color\": \"#FF97FF\", \"dash\": \"solid\"}, \"mode\": \"lines\", \"name\": \"total_ads=\\uc11c\\uc6b8 \\uc131\\ub3d9\\uad6c\", \"showlegend\": true, \"type\": \"scatter\", \"x\": [\"2020-02-19\", \"2020-02-20\", \"2020-02-28\", \"2020-03-19\", \"2020-03-20\", \"2020-03-21\", \"2020-04-02\", \"2020-04-06\", \"2020-04-07\", \"2020-04-08\", \"2020-04-09\", \"2020-04-12\", \"2020-04-13\", \"2020-04-14\", \"2020-05-01\", \"2020-05-10\", \"2020-05-12\", \"2020-05-24\", \"2020-05-25\", \"2020-05-26\", \"2020-05-27\", \"2020-05-28\", \"2020-05-29\", \"2020-06-02\", \"2020-06-05\", \"2020-06-06\", \"2020-06-07\", \"2020-06-09\", \"2020-06-20\"], \"xaxis\": \"x\", \"y\": [1, 2, 3, 4, 5, 6, 7, 8, 9, 10, 12, 16, 18, 19, 20, 21, 22, 23, 26, 34, 37, 39, 40, 41, 42, 44, 46, 47, 49], \"yaxis\": \"y\"}, {\"hoverlabel\": {\"namelength\": 0}, \"hovertemplate\": \"total_ads=\\uc11c\\uc6b8 \\uc11c\\ucd08\\uad6c<br>confirmed_date=%{x}<br>cnt_sum=%{y}\", \"legendgroup\": \"total_ads=\\uc11c\\uc6b8 \\uc11c\\ucd08\\uad6c\", \"line\": {\"color\": \"#FECB52\", \"dash\": \"solid\"}, \"mode\": \"lines\", \"name\": \"total_ads=\\uc11c\\uc6b8 \\uc11c\\ucd08\\uad6c\", \"showlegend\": true, \"type\": \"scatter\", \"x\": [\"2020-02-21\", \"2020-02-22\", \"2020-02-23\", \"2020-02-27\", \"2020-03-02\", \"2020-03-07\", \"2020-03-12\", \"2020-03-13\", \"2020-03-20\", \"2020-03-21\", \"2020-03-24\", \"2020-03-25\", \"2020-03-26\", \"2020-03-28\", \"2020-03-29\", \"2020-03-30\", \"2020-03-31\", \"2020-04-01\", \"2020-04-02\", \"2020-04-03\", \"2020-04-07\", \"2020-04-08\", \"2020-04-14\", \"2020-05-09\", \"2020-05-11\", \"2020-05-19\", \"2020-05-22\", \"2020-06-01\", \"2020-06-08\", \"2020-06-10\", \"2020-06-11\", \"2020-06-13\", \"2020-06-14\", \"2020-06-16\", \"2020-06-17\", \"2020-06-18\", \"2020-06-19\", \"2020-06-20\", \"2020-06-26\", \"2020-06-28\"], \"xaxis\": \"x\", \"y\": [1, 2, 3, 4, 5, 6, 7, 9, 11, 12, 13, 16, 17, 20, 21, 23, 24, 26, 28, 30, 33, 35, 37, 38, 39, 40, 41, 43, 44, 45, 46, 47, 48, 49, 50, 51, 52, 53, 54, 55], \"yaxis\": \"y\"}, {\"hoverlabel\": {\"namelength\": 0}, \"hovertemplate\": \"total_ads=\\uc11c\\uc6b8 \\uac15\\ub3d9\\uad6c<br>confirmed_date=%{x}<br>cnt_sum=%{y}\", \"legendgroup\": \"total_ads=\\uc11c\\uc6b8 \\uac15\\ub3d9\\uad6c\", \"line\": {\"color\": \"#636efa\", \"dash\": \"solid\"}, \"mode\": \"lines\", \"name\": \"total_ads=\\uc11c\\uc6b8 \\uac15\\ub3d9\\uad6c\", \"showlegend\": true, \"type\": \"scatter\", \"x\": [\"2020-02-22\", \"2020-02-23\", \"2020-02-25\", \"2020-02-27\", \"2020-03-09\", \"2020-03-20\", \"2020-03-23\", \"2020-03-26\", \"2020-03-30\", \"2020-04-02\", \"2020-04-03\", \"2020-04-05\", \"2020-05-05\", \"2020-05-08\", \"2020-05-10\", \"2020-05-13\", \"2020-05-14\", \"2020-05-19\", \"2020-05-22\", \"2020-05-23\", \"2020-05-25\", \"2020-05-27\", \"2020-06-01\", \"2020-06-02\", \"2020-06-04\", \"2020-06-05\", \"2020-06-07\", \"2020-06-11\", \"2020-06-12\", \"2020-06-22\"], \"xaxis\": \"x\", \"y\": [1, 2, 3, 4, 5, 7, 8, 9, 10, 11, 12, 13, 14, 15, 16, 17, 19, 20, 21, 22, 23, 24, 25, 26, 28, 30, 31, 32, 33, 35], \"yaxis\": \"y\"}, {\"hoverlabel\": {\"namelength\": 0}, \"hovertemplate\": \"total_ads=\\uc11c\\uc6b8 \\uad6c\\ub85c\\uad6c<br>confirmed_date=%{x}<br>cnt_sum=%{y}\", \"legendgroup\": \"total_ads=\\uc11c\\uc6b8 \\uad6c\\ub85c\\uad6c\", \"line\": {\"color\": \"#EF553B\", \"dash\": \"solid\"}, \"mode\": \"lines\", \"name\": \"total_ads=\\uc11c\\uc6b8 \\uad6c\\ub85c\\uad6c\", \"showlegend\": true, \"type\": \"scatter\", \"x\": [\"2020-02-22\", \"2020-03-09\", \"2020-03-10\", \"2020-03-11\", \"2020-03-14\", \"2020-03-15\", \"2020-03-16\", \"2020-03-20\", \"2020-03-26\", \"2020-03-27\", \"2020-03-28\", \"2020-03-29\", \"2020-03-30\", \"2020-03-31\", \"2020-04-02\", \"2020-05-18\", \"2020-05-25\", \"2020-05-26\", \"2020-05-27\", \"2020-06-02\", \"2020-06-03\", \"2020-06-04\", \"2020-06-05\", \"2020-06-06\", \"2020-06-07\", \"2020-06-08\", \"2020-06-09\", \"2020-06-10\", \"2020-06-11\", \"2020-06-12\", \"2020-06-14\", \"2020-06-15\", \"2020-06-17\", \"2020-06-21\", \"2020-06-23\", \"2020-06-24\", \"2020-06-25\", \"2020-06-26\", \"2020-06-27\", \"2020-06-28\"], \"xaxis\": \"x\", \"y\": [1, 9, 14, 16, 18, 20, 22, 23, 25, 26, 29, 30, 32, 33, 34, 35, 36, 37, 40, 42, 43, 45, 49, 52, 55, 64, 65, 67, 68, 69, 70, 74, 75, 79, 80, 81, 82, 83, 84, 85], \"yaxis\": \"y\"}, {\"hoverlabel\": {\"namelength\": 0}, \"hovertemplate\": \"total_ads=\\uc11c\\uc6b8 \\uad00\\uc545\\uad6c<br>confirmed_date=%{x}<br>cnt_sum=%{y}\", \"legendgroup\": \"total_ads=\\uc11c\\uc6b8 \\uad00\\uc545\\uad6c\", \"line\": {\"color\": \"#00cc96\", \"dash\": \"solid\"}, \"mode\": \"lines\", \"name\": \"total_ads=\\uc11c\\uc6b8 \\uad00\\uc545\\uad6c\", \"showlegend\": true, \"type\": \"scatter\", \"x\": [\"2020-02-25\", \"2020-02-27\", \"2020-02-29\", \"2020-03-07\", \"2020-03-10\", \"2020-03-12\", \"2020-03-13\", \"2020-03-16\", \"2020-03-19\", \"2020-03-20\", \"2020-03-27\", \"2020-03-28\", \"2020-03-29\", \"2020-03-30\", \"2020-03-31\", \"2020-04-02\", \"2020-04-04\", \"2020-04-05\", \"2020-04-06\", \"2020-04-11\", \"2020-04-27\", \"2020-05-08\", \"2020-05-09\", \"2020-05-10\", \"2020-05-11\", \"2020-05-12\", \"2020-05-15\", \"2020-05-21\", \"2020-05-23\", \"2020-05-24\", \"2020-05-26\", \"2020-05-27\", \"2020-06-01\", \"2020-06-03\", \"2020-06-05\", \"2020-06-06\", \"2020-06-08\", \"2020-06-09\", \"2020-06-10\", \"2020-06-11\", \"2020-06-12\", \"2020-06-13\", \"2020-06-16\", \"2020-06-17\", \"2020-06-18\", \"2020-06-20\", \"2020-06-23\", \"2020-06-24\", \"2020-06-25\", \"2020-06-26\", \"2020-06-27\", \"2020-06-28\"], \"xaxis\": \"x\", \"y\": [1, 2, 4, 5, 13, 14, 15, 17, 18, 19, 20, 21, 24, 28, 34, 37, 39, 40, 41, 42, 43, 46, 47, 50, 51, 52, 53, 54, 55, 56, 58, 59, 60, 61, 64, 65, 66, 68, 69, 74, 75, 77, 79, 81, 82, 83, 87, 89, 100, 107, 112, 113], \"yaxis\": \"y\"}, {\"hoverlabel\": {\"namelength\": 0}, \"hovertemplate\": \"total_ads=\\uc11c\\uc6b8 \\uae08\\ucc9c\\uad6c<br>confirmed_date=%{x}<br>cnt_sum=%{y}\", \"legendgroup\": \"total_ads=\\uc11c\\uc6b8 \\uae08\\ucc9c\\uad6c\", \"line\": {\"color\": \"#ab63fa\", \"dash\": \"solid\"}, \"mode\": \"lines\", \"name\": \"total_ads=\\uc11c\\uc6b8 \\uae08\\ucc9c\\uad6c\", \"showlegend\": true, \"type\": \"scatter\", \"x\": [\"2020-02-25\", \"2020-03-09\", \"2020-03-10\", \"2020-03-12\", \"2020-03-25\", \"2020-03-26\", \"2020-03-27\", \"2020-03-28\", \"2020-03-29\", \"2020-05-14\", \"2020-05-26\", \"2020-05-28\", \"2020-06-02\", \"2020-06-03\", \"2020-06-09\", \"2020-06-10\", \"2020-06-11\", \"2020-06-12\", \"2020-06-13\", \"2020-06-15\", \"2020-06-24\", \"2020-06-29\"], \"xaxis\": \"x\", \"y\": [1, 2, 3, 5, 6, 7, 8, 9, 13, 14, 15, 16, 17, 19, 20, 24, 27, 28, 29, 30, 31, 32], \"yaxis\": \"y\"}, {\"hoverlabel\": {\"namelength\": 0}, \"hovertemplate\": \"total_ads=\\uc11c\\uc6b8 \\ub178\\uc6d0\\uad6c<br>confirmed_date=%{x}<br>cnt_sum=%{y}\", \"legendgroup\": \"total_ads=\\uc11c\\uc6b8 \\ub178\\uc6d0\\uad6c\", \"line\": {\"color\": \"#FFA15A\", \"dash\": \"solid\"}, \"mode\": \"lines\", \"name\": \"total_ads=\\uc11c\\uc6b8 \\ub178\\uc6d0\\uad6c\", \"showlegend\": true, \"type\": \"scatter\", \"x\": [\"2020-02-25\", \"2020-02-26\", \"2020-02-27\", \"2020-02-28\", \"2020-02-29\", \"2020-03-08\", \"2020-03-09\", \"2020-03-10\", \"2020-03-12\", \"2020-03-13\", \"2020-03-15\", \"2020-03-18\", \"2020-03-19\", \"2020-03-20\", \"2020-04-02\", \"2020-04-03\", \"2020-04-06\", \"2020-05-12\", \"2020-05-13\", \"2020-05-16\", \"2020-05-21\", \"2020-05-23\", \"2020-05-25\", \"2020-05-26\", \"2020-06-04\", \"2020-06-05\", \"2020-06-10\", \"2020-06-11\", \"2020-06-12\", \"2020-06-20\", \"2020-06-25\", \"2020-06-26\", \"2020-06-28\", \"2020-06-29\"], \"xaxis\": \"x\", \"y\": [1, 3, 5, 7, 8, 9, 10, 12, 13, 14, 15, 16, 18, 20, 21, 22, 23, 24, 25, 27, 28, 29, 30, 31, 32, 34, 35, 36, 37, 39, 40, 41, 42, 43], \"yaxis\": \"y\"}, {\"hoverlabel\": {\"namelength\": 0}, \"hovertemplate\": \"total_ads=\\uc11c\\uc6b8 \\uc740\\ud3c9\\uad6c<br>confirmed_date=%{x}<br>cnt_sum=%{y}\", \"legendgroup\": \"total_ads=\\uc11c\\uc6b8 \\uc740\\ud3c9\\uad6c\", \"line\": {\"color\": \"#19d3f3\", \"dash\": \"solid\"}, \"mode\": \"lines\", \"name\": \"total_ads=\\uc11c\\uc6b8 \\uc740\\ud3c9\\uad6c\", \"showlegend\": true, \"type\": \"scatter\", \"x\": [\"2020-02-25\", \"2020-02-26\", \"2020-02-27\", \"2020-02-28\", \"2020-03-07\", \"2020-03-09\", \"2020-03-10\", \"2020-03-11\", \"2020-03-15\", \"2020-03-16\", \"2020-03-20\", \"2020-03-22\", \"2020-03-24\", \"2020-04-02\", \"2020-04-03\", \"2020-04-04\", \"2020-04-11\", \"2020-04-12\", \"2020-05-15\", \"2020-05-26\", \"2020-05-27\", \"2020-05-29\", \"2020-06-05\", \"2020-06-06\", \"2020-06-10\", \"2020-06-11\", \"2020-06-13\", \"2020-06-14\", \"2020-06-15\", \"2020-06-16\", \"2020-06-17\", \"2020-06-18\", \"2020-06-19\", \"2020-06-26\", \"2020-06-29\"], \"xaxis\": \"x\", \"y\": [1, 3, 5, 7, 8, 12, 14, 16, 17, 18, 19, 20, 21, 23, 24, 26, 27, 28, 30, 32, 34, 35, 37, 39, 40, 41, 42, 43, 44, 47, 49, 50, 51, 52, 53], \"yaxis\": \"y\"}, {\"hoverlabel\": {\"namelength\": 0}, \"hovertemplate\": \"total_ads=\\uc11c\\uc6b8 \\uac15\\ub0a8\\uad6c<br>confirmed_date=%{x}<br>cnt_sum=%{y}\", \"legendgroup\": \"total_ads=\\uc11c\\uc6b8 \\uac15\\ub0a8\\uad6c\", \"line\": {\"color\": \"#FF6692\", \"dash\": \"solid\"}, \"mode\": \"lines\", \"name\": \"total_ads=\\uc11c\\uc6b8 \\uac15\\ub0a8\\uad6c\", \"showlegend\": true, \"type\": \"scatter\", \"x\": [\"2020-02-26\", \"2020-02-27\", \"2020-02-29\", \"2020-03-01\", \"2020-03-02\", \"2020-03-05\", \"2020-03-07\", \"2020-03-08\", \"2020-03-12\", \"2020-03-14\", \"2020-03-18\", \"2020-03-19\", \"2020-03-23\", \"2020-03-24\", \"2020-03-25\", \"2020-03-26\", \"2020-03-27\", \"2020-03-28\", \"2020-03-29\", \"2020-03-31\", \"2020-04-02\", \"2020-04-03\", \"2020-04-04\", \"2020-04-06\", \"2020-04-07\", \"2020-04-08\", \"2020-04-09\", \"2020-04-10\", \"2020-04-16\", \"2020-04-17\", \"2020-04-18\", \"2020-04-27\", \"2020-05-09\", \"2020-05-10\", \"2020-05-14\", \"2020-05-15\", \"2020-05-19\", \"2020-05-29\", \"2020-05-31\", \"2020-06-02\", \"2020-06-03\", \"2020-06-16\", \"2020-06-17\", \"2020-06-22\", \"2020-06-24\", \"2020-06-27\"], \"xaxis\": \"x\", \"y\": [1, 3, 7, 8, 9, 10, 11, 12, 13, 14, 16, 17, 18, 19, 23, 27, 29, 34, 38, 41, 43, 48, 50, 53, 54, 56, 57, 59, 60, 61, 62, 64, 65, 69, 70, 71, 72, 74, 75, 76, 78, 79, 80, 81, 82, 83], \"yaxis\": \"y\"}, {\"hoverlabel\": {\"namelength\": 0}, \"hovertemplate\": \"total_ads=\\uc11c\\uc6b8 \\ub3d9\\uad6c \\uad6c<br>confirmed_date=%{x}<br>cnt_sum=%{y}\", \"legendgroup\": \"total_ads=\\uc11c\\uc6b8 \\ub3d9\\uad6c \\uad6c\", \"line\": {\"color\": \"#B6E880\", \"dash\": \"solid\"}, \"mode\": \"lines\", \"name\": \"total_ads=\\uc11c\\uc6b8 \\ub3d9\\uad6c \\uad6c\", \"showlegend\": true, \"type\": \"scatter\", \"x\": [\"2020-02-26\", \"2020-03-09\", \"2020-03-10\", \"2020-03-13\", \"2020-03-16\", \"2020-03-18\", \"2020-03-19\", \"2020-03-20\", \"2020-03-24\", \"2020-03-25\", \"2020-03-28\", \"2020-03-29\", \"2020-03-30\", \"2020-03-31\", \"2020-04-01\", \"2020-04-03\", \"2020-04-08\", \"2020-04-12\", \"2020-04-14\", \"2020-05-08\", \"2020-05-09\", \"2020-05-10\", \"2020-05-11\", \"2020-05-12\", \"2020-05-20\", \"2020-05-27\", \"2020-05-28\", \"2020-06-06\", \"2020-06-09\", \"2020-06-10\", \"2020-06-15\", \"2020-06-16\", \"2020-06-19\", \"2020-06-20\", \"2020-06-25\", \"2020-06-26\"], \"xaxis\": \"x\", \"y\": [1, 2, 5, 6, 7, 9, 11, 13, 14, 16, 19, 21, 23, 24, 25, 28, 29, 30, 31, 32, 33, 35, 36, 37, 38, 39, 40, 41, 44, 45, 46, 48, 49, 50, 51, 53], \"yaxis\": \"y\"}, {\"hoverlabel\": {\"namelength\": 0}, \"hovertemplate\": \"total_ads=\\uc11c\\uc6b8 \\uad11\\uc9c4\\uad6c<br>confirmed_date=%{x}<br>cnt_sum=%{y}\", \"legendgroup\": \"total_ads=\\uc11c\\uc6b8 \\uad11\\uc9c4\\uad6c\", \"line\": {\"color\": \"#FF97FF\", \"dash\": \"solid\"}, \"mode\": \"lines\", \"name\": \"total_ads=\\uc11c\\uc6b8 \\uad11\\uc9c4\\uad6c\", \"showlegend\": true, \"type\": \"scatter\", \"x\": [\"2020-02-27\", \"2020-03-01\", \"2020-03-18\", \"2020-03-20\", \"2020-03-29\", \"2020-03-31\", \"2020-04-01\", \"2020-04-09\", \"2020-05-09\", \"2020-05-10\", \"2020-05-14\", \"2020-05-21\", \"2020-05-27\", \"2020-06-10\", \"2020-06-18\", \"2020-06-26\"], \"xaxis\": \"x\", \"y\": [1, 2, 3, 4, 5, 6, 7, 8, 10, 11, 12, 13, 14, 15, 16, 17], \"yaxis\": \"y\"}, {\"hoverlabel\": {\"namelength\": 0}, \"hovertemplate\": \"total_ads=\\uc11c\\uc6b8 \\ub3d9\\ub300\\ubb38\\uad6c<br>confirmed_date=%{x}<br>cnt_sum=%{y}\", \"legendgroup\": \"total_ads=\\uc11c\\uc6b8 \\ub3d9\\ub300\\ubb38\\uad6c\", \"line\": {\"color\": \"#FECB52\", \"dash\": \"solid\"}, \"mode\": \"lines\", \"name\": \"total_ads=\\uc11c\\uc6b8 \\ub3d9\\ub300\\ubb38\\uad6c\", \"showlegend\": true, \"type\": \"scatter\", \"x\": [\"2020-02-27\", \"2020-03-01\", \"2020-03-04\", \"2020-03-08\", \"2020-03-10\", \"2020-03-11\", \"2020-03-12\", \"2020-03-13\", \"2020-03-16\", \"2020-03-17\", \"2020-03-24\", \"2020-04-01\", \"2020-04-03\", \"2020-04-04\", \"2020-04-07\", \"2020-05-10\", \"2020-05-12\", \"2020-05-14\", \"2020-06-05\", \"2020-06-19\", \"2020-06-26\", \"2020-06-27\"], \"xaxis\": \"x\", \"y\": [1, 2, 4, 11, 15, 18, 19, 22, 24, 25, 26, 27, 28, 30, 31, 32, 33, 34, 35, 36, 37, 38], \"yaxis\": \"y\"}, {\"hoverlabel\": {\"namelength\": 0}, \"hovertemplate\": \"total_ads=\\uc11c\\uc6b8 \\uc591\\ucc9c\\uad6c<br>confirmed_date=%{x}<br>cnt_sum=%{y}\", \"legendgroup\": \"total_ads=\\uc11c\\uc6b8 \\uc591\\ucc9c\\uad6c\", \"line\": {\"color\": \"#636efa\", \"dash\": \"solid\"}, \"mode\": \"lines\", \"name\": \"total_ads=\\uc11c\\uc6b8 \\uc591\\ucc9c\\uad6c\", \"showlegend\": true, \"type\": \"scatter\", \"x\": [\"2020-02-27\", \"2020-03-01\", \"2020-03-06\", \"2020-03-07\", \"2020-03-09\", \"2020-03-10\", \"2020-03-18\", \"2020-03-19\", \"2020-03-28\", \"2020-03-31\", \"2020-04-01\", \"2020-04-02\", \"2020-04-10\", \"2020-05-10\", \"2020-05-11\", \"2020-05-18\", \"2020-05-20\", \"2020-05-27\", \"2020-06-01\", \"2020-06-02\", \"2020-06-04\", \"2020-06-05\", \"2020-06-06\", \"2020-06-07\", \"2020-06-08\", \"2020-06-09\", \"2020-06-10\", \"2020-06-11\", \"2020-06-12\", \"2020-06-18\", \"2020-06-19\", \"2020-06-27\"], \"xaxis\": \"x\", \"y\": [1, 2, 3, 5, 7, 14, 15, 16, 17, 18, 20, 21, 22, 23, 24, 26, 27, 28, 31, 36, 40, 44, 52, 57, 58, 60, 63, 64, 66, 68, 70, 71], \"yaxis\": \"y\"}, {\"hoverlabel\": {\"namelength\": 0}, \"hovertemplate\": \"total_ads=\\uc11c\\uc6b8 \\uc601\\ub4f1\\ud3ec\\uad6c<br>confirmed_date=%{x}<br>cnt_sum=%{y}\", \"legendgroup\": \"total_ads=\\uc11c\\uc6b8 \\uc601\\ub4f1\\ud3ec\\uad6c\", \"line\": {\"color\": \"#EF553B\", \"dash\": \"solid\"}, \"mode\": \"lines\", \"name\": \"total_ads=\\uc11c\\uc6b8 \\uc601\\ub4f1\\ud3ec\\uad6c\", \"showlegend\": true, \"type\": \"scatter\", \"x\": [\"2020-02-29\", \"2020-03-01\", \"2020-03-02\", \"2020-03-10\", \"2020-03-14\", \"2020-03-15\", \"2020-03-16\", \"2020-03-19\", \"2020-03-20\", \"2020-03-21\", \"2020-03-23\", \"2020-03-27\", \"2020-03-31\", \"2020-04-05\", \"2020-04-07\", \"2020-04-08\", \"2020-05-12\", \"2020-05-14\", \"2020-05-18\", \"2020-05-24\", \"2020-05-27\", \"2020-05-28\", \"2020-05-30\", \"2020-06-01\", \"2020-06-03\", \"2020-06-05\", \"2020-06-06\", \"2020-06-09\", \"2020-06-11\", \"2020-06-12\", \"2020-06-13\", \"2020-06-17\", \"2020-06-18\", \"2020-06-19\", \"2020-06-20\", \"2020-06-23\", \"2020-06-27\"], \"xaxis\": \"x\", \"y\": [2, 3, 4, 9, 11, 12, 13, 15, 16, 17, 18, 19, 20, 22, 23, 24, 25, 26, 27, 29, 30, 32, 35, 38, 39, 40, 41, 42, 47, 48, 50, 53, 54, 56, 59, 60, 62], \"yaxis\": \"y\"}, {\"hoverlabel\": {\"namelength\": 0}, \"hovertemplate\": \"total_ads=\\uc11c\\uc6b8 \\ub3c4\\ubd09\\uad6c<br>confirmed_date=%{x}<br>cnt_sum=%{y}\", \"legendgroup\": \"total_ads=\\uc11c\\uc6b8 \\ub3c4\\ubd09\\uad6c\", \"line\": {\"color\": \"#00cc96\", \"dash\": \"solid\"}, \"mode\": \"lines\", \"name\": \"total_ads=\\uc11c\\uc6b8 \\ub3c4\\ubd09\\uad6c\", \"showlegend\": true, \"type\": \"scatter\", \"x\": [\"2020-03-02\", \"2020-03-14\", \"2020-03-22\", \"2020-03-24\", \"2020-03-27\", \"2020-03-29\", \"2020-04-03\", \"2020-04-08\", \"2020-04-12\", \"2020-05-09\", \"2020-05-11\", \"2020-05-12\", \"2020-05-14\", \"2020-05-19\", \"2020-05-20\", \"2020-05-25\", \"2020-05-26\", \"2020-05-29\", \"2020-06-03\", \"2020-06-04\", \"2020-06-05\", \"2020-06-10\", \"2020-06-11\", \"2020-06-12\", \"2020-06-14\", \"2020-06-15\", \"2020-06-16\", \"2020-06-17\", \"2020-06-18\", \"2020-06-19\", \"2020-06-20\", \"2020-06-21\", \"2020-06-23\", \"2020-06-24\"], \"xaxis\": \"x\", \"y\": [1, 2, 3, 4, 5, 6, 7, 8, 9, 10, 11, 12, 14, 15, 16, 17, 18, 19, 20, 21, 22, 23, 24, 36, 37, 38, 40, 51, 53, 55, 57, 58, 61, 62], \"yaxis\": \"y\"}, {\"hoverlabel\": {\"namelength\": 0}, \"hovertemplate\": \"total_ads=\\uc11c\\uc6b8 \\uac15\\ubd81\\uad6c<br>confirmed_date=%{x}<br>cnt_sum=%{y}\", \"legendgroup\": \"total_ads=\\uc11c\\uc6b8 \\uac15\\ubd81\\uad6c\", \"line\": {\"color\": \"#ab63fa\", \"dash\": \"solid\"}, \"mode\": \"lines\", \"name\": \"total_ads=\\uc11c\\uc6b8 \\uac15\\ubd81\\uad6c\", \"showlegend\": true, \"type\": \"scatter\", \"x\": [\"2020-03-04\", \"2020-03-05\", \"2020-03-06\", \"2020-03-12\", \"2020-05-10\", \"2020-05-11\", \"2020-05-13\", \"2020-05-19\", \"2020-05-23\", \"2020-05-24\", \"2020-05-27\", \"2020-05-28\", \"2020-06-02\", \"2020-06-03\", \"2020-06-05\", \"2020-06-06\", \"2020-06-07\", \"2020-06-12\", \"2020-06-13\", \"2020-06-18\"], \"xaxis\": \"x\", \"y\": [1, 2, 4, 5, 6, 7, 8, 9, 10, 12, 13, 14, 16, 17, 18, 19, 20, 22, 23, 24], \"yaxis\": \"y\"}, {\"hoverlabel\": {\"namelength\": 0}, \"hovertemplate\": \"total_ads=\\uc11c\\uc6b8 \\uc6a9\\uc0b0\\uad6c<br>confirmed_date=%{x}<br>cnt_sum=%{y}\", \"legendgroup\": \"total_ads=\\uc11c\\uc6b8 \\uc6a9\\uc0b0\\uad6c\", \"line\": {\"color\": \"#FFA15A\", \"dash\": \"solid\"}, \"mode\": \"lines\", \"name\": \"total_ads=\\uc11c\\uc6b8 \\uc6a9\\uc0b0\\uad6c\", \"showlegend\": true, \"type\": \"scatter\", \"x\": [\"2020-03-04\", \"2020-03-12\", \"2020-03-16\", \"2020-03-18\", \"2020-03-19\", \"2020-03-23\", \"2020-03-24\", \"2020-03-26\", \"2020-03-30\", \"2020-04-02\", \"2020-04-04\", \"2020-04-05\", \"2020-04-17\", \"2020-05-02\", \"2020-05-08\", \"2020-05-09\", \"2020-05-10\", \"2020-05-11\", \"2020-05-14\", \"2020-05-15\", \"2020-05-19\", \"2020-06-03\", \"2020-06-04\", \"2020-06-05\", \"2020-06-06\", \"2020-06-12\", \"2020-06-14\", \"2020-06-15\", \"2020-06-27\", \"2020-06-28\"], \"xaxis\": \"x\", \"y\": [1, 2, 3, 4, 5, 6, 7, 8, 12, 14, 15, 17, 18, 19, 23, 27, 30, 31, 33, 34, 38, 39, 40, 42, 44, 45, 46, 48, 49, 50], \"yaxis\": \"y\"}, {\"hoverlabel\": {\"namelength\": 0}, \"hovertemplate\": \"total_ads=\\uc11c\\uc6b8 \\uc911\\uad6c<br>confirmed_date=%{x}<br>cnt_sum=%{y}\", \"legendgroup\": \"total_ads=\\uc11c\\uc6b8 \\uc911\\uad6c\", \"line\": {\"color\": \"#19d3f3\", \"dash\": \"solid\"}, \"mode\": \"lines\", \"name\": \"total_ads=\\uc11c\\uc6b8 \\uc911\\uad6c\", \"showlegend\": true, \"type\": \"scatter\", \"x\": [\"2020-03-09\", \"2020-03-27\", \"2020-03-28\", \"2020-03-30\", \"2020-03-31\", \"2020-04-15\", \"2020-05-08\", \"2020-05-11\", \"2020-05-28\", \"2020-06-09\", \"2020-06-18\", \"2020-06-26\"], \"xaxis\": \"x\", \"y\": [1, 2, 3, 4, 5, 6, 7, 8, 9, 10, 11, 12], \"yaxis\": \"y\"}],\n",
              "                        {\"legend\": {\"tracegroupgap\": 0}, \"margin\": {\"t\": 60}, \"template\": {\"data\": {\"bar\": [{\"error_x\": {\"color\": \"#2a3f5f\"}, \"error_y\": {\"color\": \"#2a3f5f\"}, \"marker\": {\"line\": {\"color\": \"#E5ECF6\", \"width\": 0.5}}, \"type\": \"bar\"}], \"barpolar\": [{\"marker\": {\"line\": {\"color\": \"#E5ECF6\", \"width\": 0.5}}, \"type\": \"barpolar\"}], \"carpet\": [{\"aaxis\": {\"endlinecolor\": \"#2a3f5f\", \"gridcolor\": \"white\", \"linecolor\": \"white\", \"minorgridcolor\": \"white\", \"startlinecolor\": \"#2a3f5f\"}, \"baxis\": {\"endlinecolor\": \"#2a3f5f\", \"gridcolor\": \"white\", \"linecolor\": \"white\", \"minorgridcolor\": \"white\", \"startlinecolor\": \"#2a3f5f\"}, \"type\": \"carpet\"}], \"choropleth\": [{\"colorbar\": {\"outlinewidth\": 0, \"ticks\": \"\"}, \"type\": \"choropleth\"}], \"contour\": [{\"colorbar\": {\"outlinewidth\": 0, \"ticks\": \"\"}, \"colorscale\": [[0.0, \"#0d0887\"], [0.1111111111111111, \"#46039f\"], [0.2222222222222222, \"#7201a8\"], [0.3333333333333333, \"#9c179e\"], [0.4444444444444444, \"#bd3786\"], [0.5555555555555556, \"#d8576b\"], [0.6666666666666666, \"#ed7953\"], [0.7777777777777778, \"#fb9f3a\"], [0.8888888888888888, \"#fdca26\"], [1.0, \"#f0f921\"]], \"type\": \"contour\"}], \"contourcarpet\": [{\"colorbar\": {\"outlinewidth\": 0, \"ticks\": \"\"}, \"type\": \"contourcarpet\"}], \"heatmap\": [{\"colorbar\": {\"outlinewidth\": 0, \"ticks\": \"\"}, \"colorscale\": [[0.0, \"#0d0887\"], [0.1111111111111111, \"#46039f\"], [0.2222222222222222, \"#7201a8\"], [0.3333333333333333, \"#9c179e\"], [0.4444444444444444, \"#bd3786\"], [0.5555555555555556, \"#d8576b\"], [0.6666666666666666, \"#ed7953\"], [0.7777777777777778, \"#fb9f3a\"], [0.8888888888888888, \"#fdca26\"], [1.0, \"#f0f921\"]], \"type\": \"heatmap\"}], \"heatmapgl\": [{\"colorbar\": {\"outlinewidth\": 0, \"ticks\": \"\"}, \"colorscale\": [[0.0, \"#0d0887\"], [0.1111111111111111, \"#46039f\"], [0.2222222222222222, \"#7201a8\"], [0.3333333333333333, \"#9c179e\"], [0.4444444444444444, \"#bd3786\"], [0.5555555555555556, \"#d8576b\"], [0.6666666666666666, \"#ed7953\"], [0.7777777777777778, \"#fb9f3a\"], [0.8888888888888888, \"#fdca26\"], [1.0, \"#f0f921\"]], \"type\": \"heatmapgl\"}], \"histogram\": [{\"marker\": {\"colorbar\": {\"outlinewidth\": 0, \"ticks\": \"\"}}, \"type\": \"histogram\"}], \"histogram2d\": [{\"colorbar\": {\"outlinewidth\": 0, \"ticks\": \"\"}, \"colorscale\": [[0.0, \"#0d0887\"], [0.1111111111111111, \"#46039f\"], [0.2222222222222222, \"#7201a8\"], [0.3333333333333333, \"#9c179e\"], [0.4444444444444444, \"#bd3786\"], [0.5555555555555556, \"#d8576b\"], [0.6666666666666666, \"#ed7953\"], [0.7777777777777778, \"#fb9f3a\"], [0.8888888888888888, \"#fdca26\"], [1.0, \"#f0f921\"]], \"type\": \"histogram2d\"}], \"histogram2dcontour\": [{\"colorbar\": {\"outlinewidth\": 0, \"ticks\": \"\"}, \"colorscale\": [[0.0, \"#0d0887\"], [0.1111111111111111, \"#46039f\"], [0.2222222222222222, \"#7201a8\"], [0.3333333333333333, \"#9c179e\"], [0.4444444444444444, \"#bd3786\"], [0.5555555555555556, \"#d8576b\"], [0.6666666666666666, \"#ed7953\"], [0.7777777777777778, \"#fb9f3a\"], [0.8888888888888888, \"#fdca26\"], [1.0, \"#f0f921\"]], \"type\": \"histogram2dcontour\"}], \"mesh3d\": [{\"colorbar\": {\"outlinewidth\": 0, \"ticks\": \"\"}, \"type\": \"mesh3d\"}], \"parcoords\": [{\"line\": {\"colorbar\": {\"outlinewidth\": 0, \"ticks\": \"\"}}, \"type\": \"parcoords\"}], \"pie\": [{\"automargin\": true, \"type\": \"pie\"}], \"scatter\": [{\"marker\": {\"colorbar\": {\"outlinewidth\": 0, \"ticks\": \"\"}}, \"type\": \"scatter\"}], \"scatter3d\": [{\"line\": {\"colorbar\": {\"outlinewidth\": 0, \"ticks\": \"\"}}, \"marker\": {\"colorbar\": {\"outlinewidth\": 0, \"ticks\": \"\"}}, \"type\": \"scatter3d\"}], \"scattercarpet\": [{\"marker\": {\"colorbar\": {\"outlinewidth\": 0, \"ticks\": \"\"}}, \"type\": \"scattercarpet\"}], \"scattergeo\": [{\"marker\": {\"colorbar\": {\"outlinewidth\": 0, \"ticks\": \"\"}}, \"type\": \"scattergeo\"}], \"scattergl\": [{\"marker\": {\"colorbar\": {\"outlinewidth\": 0, \"ticks\": \"\"}}, \"type\": \"scattergl\"}], \"scattermapbox\": [{\"marker\": {\"colorbar\": {\"outlinewidth\": 0, \"ticks\": \"\"}}, \"type\": \"scattermapbox\"}], \"scatterpolar\": [{\"marker\": {\"colorbar\": {\"outlinewidth\": 0, \"ticks\": \"\"}}, \"type\": \"scatterpolar\"}], \"scatterpolargl\": [{\"marker\": {\"colorbar\": {\"outlinewidth\": 0, \"ticks\": \"\"}}, \"type\": \"scatterpolargl\"}], \"scatterternary\": [{\"marker\": {\"colorbar\": {\"outlinewidth\": 0, \"ticks\": \"\"}}, \"type\": \"scatterternary\"}], \"surface\": [{\"colorbar\": {\"outlinewidth\": 0, \"ticks\": \"\"}, \"colorscale\": [[0.0, \"#0d0887\"], [0.1111111111111111, \"#46039f\"], [0.2222222222222222, \"#7201a8\"], [0.3333333333333333, \"#9c179e\"], [0.4444444444444444, \"#bd3786\"], [0.5555555555555556, \"#d8576b\"], [0.6666666666666666, \"#ed7953\"], [0.7777777777777778, \"#fb9f3a\"], [0.8888888888888888, \"#fdca26\"], [1.0, \"#f0f921\"]], \"type\": \"surface\"}], \"table\": [{\"cells\": {\"fill\": {\"color\": \"#EBF0F8\"}, \"line\": {\"color\": \"white\"}}, \"header\": {\"fill\": {\"color\": \"#C8D4E3\"}, \"line\": {\"color\": \"white\"}}, \"type\": \"table\"}]}, \"layout\": {\"annotationdefaults\": {\"arrowcolor\": \"#2a3f5f\", \"arrowhead\": 0, \"arrowwidth\": 1}, \"coloraxis\": {\"colorbar\": {\"outlinewidth\": 0, \"ticks\": \"\"}}, \"colorscale\": {\"diverging\": [[0, \"#8e0152\"], [0.1, \"#c51b7d\"], [0.2, \"#de77ae\"], [0.3, \"#f1b6da\"], [0.4, \"#fde0ef\"], [0.5, \"#f7f7f7\"], [0.6, \"#e6f5d0\"], [0.7, \"#b8e186\"], [0.8, \"#7fbc41\"], [0.9, \"#4d9221\"], [1, \"#276419\"]], \"sequential\": [[0.0, \"#0d0887\"], [0.1111111111111111, \"#46039f\"], [0.2222222222222222, \"#7201a8\"], [0.3333333333333333, \"#9c179e\"], [0.4444444444444444, \"#bd3786\"], [0.5555555555555556, \"#d8576b\"], [0.6666666666666666, \"#ed7953\"], [0.7777777777777778, \"#fb9f3a\"], [0.8888888888888888, \"#fdca26\"], [1.0, \"#f0f921\"]], \"sequentialminus\": [[0.0, \"#0d0887\"], [0.1111111111111111, \"#46039f\"], [0.2222222222222222, \"#7201a8\"], [0.3333333333333333, \"#9c179e\"], [0.4444444444444444, \"#bd3786\"], [0.5555555555555556, \"#d8576b\"], [0.6666666666666666, \"#ed7953\"], [0.7777777777777778, \"#fb9f3a\"], [0.8888888888888888, \"#fdca26\"], [1.0, \"#f0f921\"]]}, \"colorway\": [\"#636efa\", \"#EF553B\", \"#00cc96\", \"#ab63fa\", \"#FFA15A\", \"#19d3f3\", \"#FF6692\", \"#B6E880\", \"#FF97FF\", \"#FECB52\"], \"font\": {\"color\": \"#2a3f5f\"}, \"geo\": {\"bgcolor\": \"white\", \"lakecolor\": \"white\", \"landcolor\": \"#E5ECF6\", \"showlakes\": true, \"showland\": true, \"subunitcolor\": \"white\"}, \"hoverlabel\": {\"align\": \"left\"}, \"hovermode\": \"closest\", \"mapbox\": {\"style\": \"light\"}, \"paper_bgcolor\": \"white\", \"plot_bgcolor\": \"#E5ECF6\", \"polar\": {\"angularaxis\": {\"gridcolor\": \"white\", \"linecolor\": \"white\", \"ticks\": \"\"}, \"bgcolor\": \"#E5ECF6\", \"radialaxis\": {\"gridcolor\": \"white\", \"linecolor\": \"white\", \"ticks\": \"\"}}, \"scene\": {\"xaxis\": {\"backgroundcolor\": \"#E5ECF6\", \"gridcolor\": \"white\", \"gridwidth\": 2, \"linecolor\": \"white\", \"showbackground\": true, \"ticks\": \"\", \"zerolinecolor\": \"white\"}, \"yaxis\": {\"backgroundcolor\": \"#E5ECF6\", \"gridcolor\": \"white\", \"gridwidth\": 2, \"linecolor\": \"white\", \"showbackground\": true, \"ticks\": \"\", \"zerolinecolor\": \"white\"}, \"zaxis\": {\"backgroundcolor\": \"#E5ECF6\", \"gridcolor\": \"white\", \"gridwidth\": 2, \"linecolor\": \"white\", \"showbackground\": true, \"ticks\": \"\", \"zerolinecolor\": \"white\"}}, \"shapedefaults\": {\"line\": {\"color\": \"#2a3f5f\"}}, \"ternary\": {\"aaxis\": {\"gridcolor\": \"white\", \"linecolor\": \"white\", \"ticks\": \"\"}, \"baxis\": {\"gridcolor\": \"white\", \"linecolor\": \"white\", \"ticks\": \"\"}, \"bgcolor\": \"#E5ECF6\", \"caxis\": {\"gridcolor\": \"white\", \"linecolor\": \"white\", \"ticks\": \"\"}}, \"title\": {\"x\": 0.05}, \"xaxis\": {\"automargin\": true, \"gridcolor\": \"white\", \"linecolor\": \"white\", \"ticks\": \"\", \"title\": {\"standoff\": 15}, \"zerolinecolor\": \"white\", \"zerolinewidth\": 2}, \"yaxis\": {\"automargin\": true, \"gridcolor\": \"white\", \"linecolor\": \"white\", \"ticks\": \"\", \"title\": {\"standoff\": 15}, \"zerolinecolor\": \"white\", \"zerolinewidth\": 2}}}, \"title\": {\"text\": \"\\uc9c0\\uc5ed\\ubcc4 \\ud655\\uc9c4\\uc790 \\ubcc0\\ud654(\\uc11c\\uc6b8 \\ud55c\\uc815)\", \"x\": 0.5, \"xanchor\": \"center\", \"y\": 1, \"yanchor\": \"top\"}, \"xaxis\": {\"anchor\": \"y\", \"domain\": [0.0, 1.0], \"title\": {\"text\": \"confirmed_date\"}}, \"yaxis\": {\"anchor\": \"x\", \"domain\": [0.0, 1.0], \"title\": {\"text\": \"cnt_sum\"}}},\n",
              "                        {\"responsive\": true}\n",
              "                    ).then(function(){\n",
              "                            \n",
              "var gd = document.getElementById('e1b49e5f-0002-44d0-9cf2-47e6aaa52ab4');\n",
              "var x = new MutationObserver(function (mutations, observer) {{\n",
              "        var display = window.getComputedStyle(gd).display;\n",
              "        if (!display || display === 'none') {{\n",
              "            console.log([gd, 'removed!']);\n",
              "            Plotly.purge(gd);\n",
              "            observer.disconnect();\n",
              "        }}\n",
              "}});\n",
              "\n",
              "// Listen for the removal of the full notebook cells\n",
              "var notebookContainer = gd.closest('#notebook-container');\n",
              "if (notebookContainer) {{\n",
              "    x.observe(notebookContainer, {childList: true});\n",
              "}}\n",
              "\n",
              "// Listen for the clearing of the current output cell\n",
              "var outputEl = gd.closest('.output');\n",
              "if (outputEl) {{\n",
              "    x.observe(outputEl, {childList: true});\n",
              "}}\n",
              "\n",
              "                        })\n",
              "                };\n",
              "                \n",
              "            </script>\n",
              "        </div>\n",
              "</body>\n",
              "</html>"
            ]
          },
          "metadata": {
            "tags": []
          }
        }
      ]
    },
    {
      "cell_type": "markdown",
      "metadata": {
        "id": "_8o4DdXDQ9Rr",
        "colab_type": "text"
      },
      "source": [
        "### 1월/2월초/2월말/3월초/3월말/4월초/4월말/5월초/5월말/6월초 나누기"
      ]
    },
    {
      "cell_type": "code",
      "metadata": {
        "id": "xBv1JNBUQ7os",
        "colab_type": "code",
        "colab": {}
      },
      "source": [
        "is_date=patient_seoul['confirmed_date']<'2020-02-01'\n",
        "patient_seoul_jan=patient_seoul[is_date]\n",
        "patient_seoul=patient_seoul.drop(patient_seoul[is_date].index)\n",
        "\n",
        "patient_seoul_jan['confirmed_date']='1월 말'\n",
        "patient_seoul_jan=patient_seoul_jan.groupby(['confirmed_date','total_ads'],as_index=False).cnt.sum()"
      ],
      "execution_count": 14,
      "outputs": []
    },
    {
      "cell_type": "code",
      "metadata": {
        "id": "aHYhcmjVRCkz",
        "colab_type": "code",
        "colab": {
          "base_uri": "https://localhost:8080/",
          "height": 241
        },
        "outputId": "7136a60f-40dc-4769-9a2c-66dc550ac304"
      },
      "source": [
        "#2월 초\n",
        "is_date_1=patient_seoul_1['confirmed_date']<'2020-02-15'\n",
        "patient_seoul_feb_1=patient_seoul[is_date_1]\n",
        "patient_seoul=patient_seoul.drop(patient_seoul[is_date].index)\n",
        "patient_seoul_feb_1['confirmed_date']='2월 초'\n",
        "patient_seoul_feb_1=patient_seoul_feb_1.groupby(['confirmed_date','total_ads'],as_index=False).cnt.sum()\n",
        "\n",
        "#2월 말\n",
        "is_date=patient_seoul['confirmed_date']<'2020-03-01'\n",
        "patient_seoul_feb_2=patient_seoul[is_date]\n",
        "patient_seoul=patient_seoul.drop(patient_seoul[is_date].index)\n",
        "patient_seoul_feb_2['confirmed_date']='2월 말'\n",
        "patient_seoul_feb_2=patient_seoul_feb_2.groupby(['confirmed_date','total_ads'],as_index=False).cnt.sum()\n",
        "\n",
        "#3월 초\n",
        "is_date=patient_seoul['confirmed_date']<'2020-03-16'\n",
        "patient_seoul_mar_1=patient_seoul[is_date]\n",
        "patient_seoul=patient_seoul.drop(patient_seoul[is_date].index)\n",
        "patient_seoul_mar_1['confirmed_date']='3월 초'\n",
        "patient_seoul_mar_1=patient_seoul_mar_1.groupby(['confirmed_date','total_ads'],as_index=False).cnt.sum()\n",
        "\n",
        "#3월 말\n",
        "is_date=patient_seoul['confirmed_date']<'2020-04-01'\n",
        "patient_seoul_mar_2=patient_seoul[is_date]\n",
        "patient_seoul=patient_seoul.drop(patient_seoul[is_date].index)\n",
        "patient_seoul_mar_2['confirmed_date']='3월 말'\n",
        "patient_seoul_mar_2=patient_seoul_mar_2.groupby(['confirmed_date','total_ads'],as_index=False).cnt.sum()\n",
        "\n",
        "#4월 초\n",
        "\n",
        "is_date=patient_seoul['confirmed_date']<'2020-04-16'\n",
        "patient_seoul_apr_1=patient_seoul[is_date]\n",
        "patient_seoul=patient_seoul.drop(patient_seoul[is_date].index)\n",
        "patient_seoul_apr_1['confirmed_date']='4월 초'\n",
        "patient_seoul_apr_1=patient_seoul_apr_1.groupby(['confirmed_date','total_ads'],as_index=False).cnt.sum()\n",
        "\n",
        "#4월 말\n",
        "is_date=patient_seoul['confirmed_date']<'2020-05-01'\n",
        "patient_seoul_apr_2=patient_seoul[is_date]\n",
        "patient_seoul=patient_seoul.drop(patient_seoul[is_date].index)\n",
        "patient_seoul_apr_2['confirmed_date']='4월 말'\n",
        "patient_seoul_apr_2=patient_seoul_apr_2.groupby(['confirmed_date','total_ads'],as_index=False).cnt.sum()\n",
        "\n",
        "#5월 초\n",
        "is_date=patient_seoul['confirmed_date']<'2020-05-16'\n",
        "patient_seoul_may_1=patient_seoul[is_date]\n",
        "patient_seoul=patient_seoul.drop(patient_seoul[is_date].index)\n",
        "patient_seoul_may_1['confirmed_date']='5월 초'\n",
        "patient_seoul_may_1=patient_seoul_may_1.groupby(['confirmed_date','total_ads'],as_index=False).cnt.sum()\n",
        "\n",
        "#5월 말\n",
        "is_date=patient_seoul['confirmed_date']<'2020-06-01'\n",
        "patient_seoul_may_2=patient_seoul[is_date]\n",
        "patient_seoul=patient_seoul.drop(patient_seoul[is_date].index)\n",
        "patient_seoul_may_2['confirmed_date']='3월 말'\n",
        "patient_seoul_may_2=patient_seoul_may_2.groupby(['confirmed_date','total_ads'],as_index=False).cnt.sum()\n",
        "\n",
        "#6월 초\n",
        "\n",
        "is_date=patient_seoul['confirmed_date']<'2020-06-16'\n",
        "patient_seoul_june_1=patient_seoul[is_date]\n",
        "patient_seoul=patient_seoul.drop(patient_seoul[is_date].index)\n",
        "patient_seoul_june_1['confirmed_date']='6월 초'\n",
        "patient_seoul_june_1=patient_seoul_june_1.groupby(['confirmed_date','total_ads'],as_index=False).cnt.sum()\n",
        "\n",
        "#6월 말\n",
        "is_date=patient_seoul['confirmed_date']<'2020-07-01'\n",
        "patient_seoul_june_2=patient_seoul[is_date]\n",
        "patient_seoul=patient_seoul.drop(patient_seoul[is_date].index)\n",
        "patient_seoul_june_2['confirmed_date']='6월 말'\n",
        "patient_seoul_june_2=patient_seoul_june_2.groupby(['confirmed_date','total_ads'],as_index=False).cnt.sum()\n"
      ],
      "execution_count": 15,
      "outputs": [
        {
          "output_type": "error",
          "ename": "NameError",
          "evalue": "ignored",
          "traceback": [
            "\u001b[0;31m---------------------------------------------------------------------------\u001b[0m",
            "\u001b[0;31mNameError\u001b[0m                                 Traceback (most recent call last)",
            "\u001b[0;32m<ipython-input-15-29281673c6ff>\u001b[0m in \u001b[0;36m<module>\u001b[0;34m()\u001b[0m\n\u001b[1;32m      1\u001b[0m \u001b[0;31m#2월 초\u001b[0m\u001b[0;34m\u001b[0m\u001b[0;34m\u001b[0m\u001b[0;34m\u001b[0m\u001b[0m\n\u001b[0;32m----> 2\u001b[0;31m \u001b[0mis_date_1\u001b[0m\u001b[0;34m=\u001b[0m\u001b[0mpatient_seoul_1\u001b[0m\u001b[0;34m[\u001b[0m\u001b[0;34m'confirmed_date'\u001b[0m\u001b[0;34m]\u001b[0m\u001b[0;34m<\u001b[0m\u001b[0;34m'2020-02-15'\u001b[0m\u001b[0;34m\u001b[0m\u001b[0;34m\u001b[0m\u001b[0m\n\u001b[0m\u001b[1;32m      3\u001b[0m \u001b[0mpatient_seoul_feb_1\u001b[0m\u001b[0;34m=\u001b[0m\u001b[0mpatient_seoul\u001b[0m\u001b[0;34m[\u001b[0m\u001b[0mis_date_1\u001b[0m\u001b[0;34m]\u001b[0m\u001b[0;34m\u001b[0m\u001b[0;34m\u001b[0m\u001b[0m\n\u001b[1;32m      4\u001b[0m \u001b[0mpatient_seoul\u001b[0m\u001b[0;34m=\u001b[0m\u001b[0mpatient_seoul\u001b[0m\u001b[0;34m.\u001b[0m\u001b[0mdrop\u001b[0m\u001b[0;34m(\u001b[0m\u001b[0mpatient_seoul\u001b[0m\u001b[0;34m[\u001b[0m\u001b[0mis_date\u001b[0m\u001b[0;34m]\u001b[0m\u001b[0;34m.\u001b[0m\u001b[0mindex\u001b[0m\u001b[0;34m)\u001b[0m\u001b[0;34m\u001b[0m\u001b[0;34m\u001b[0m\u001b[0m\n\u001b[1;32m      5\u001b[0m \u001b[0mpatient_seoul_feb_1\u001b[0m\u001b[0;34m[\u001b[0m\u001b[0;34m'confirmed_date'\u001b[0m\u001b[0;34m]\u001b[0m\u001b[0;34m=\u001b[0m\u001b[0;34m'2월 초'\u001b[0m\u001b[0;34m\u001b[0m\u001b[0;34m\u001b[0m\u001b[0m\n",
            "\u001b[0;31mNameError\u001b[0m: name 'patient_seoul_1' is not defined"
          ]
        }
      ]
    },
    {
      "cell_type": "code",
      "metadata": {
        "id": "B_X7S8OtRRwu",
        "colab_type": "code",
        "colab": {}
      },
      "source": [
        "patient_seoul_ads=pd.concat([patient_seoul_jan,patient_seoul_feb_1,patient_seoul_feb_2,patient_seoul_mar_1,patient_seoul_mar_2,\n",
        "                             patient_seoul_apr_1,patient_seoul_apr_2,patient_seoul_may_1,patient_seoul_may_2,\n",
        "                             patient_seoul_june_1,patient_seoul_june_2],axis=0)"
      ],
      "execution_count": null,
      "outputs": []
    },
    {
      "cell_type": "code",
      "metadata": {
        "id": "SBtJXoidRStB",
        "colab_type": "code",
        "colab": {}
      },
      "source": [
        "patient_seoul_ads['cnt_sum']=patient_seoul_ads.groupby('total_ads')['cnt'].cumsum()"
      ],
      "execution_count": null,
      "outputs": []
    },
    {
      "cell_type": "code",
      "metadata": {
        "id": "in1RIWOlRTgY",
        "colab_type": "code",
        "colab": {}
      },
      "source": [
        "fig=px.line(patient_seoul_ads,x='confirmed_date',y='cnt_sum',color='total_ads')\n",
        "fig.update_layout(\n",
        "    title={\n",
        "        'text': \"지역별 확진자 변화(서울 한정)\",\n",
        "        'y':1,\n",
        "        'x':0.5,\n",
        "        'xanchor': 'center',\n",
        "        'yanchor': 'top'})\n",
        "fig.show()"
      ],
      "execution_count": null,
      "outputs": []
    },
    {
      "cell_type": "markdown",
      "metadata": {
        "id": "sQkKQTKxTE6N",
        "colab_type": "text"
      },
      "source": [
        "### 집단감염 시각화"
      ]
    },
    {
      "cell_type": "code",
      "metadata": {
        "id": "USUGaN2VSejO",
        "colab_type": "code",
        "colab": {}
      },
      "source": [
        "import numpy as np # linear algebra\n",
        "import pandas as pd # data processing, CSV file I/O (e.g. pd.read_csv)\n",
        "\n",
        "\n",
        "import os\n",
        "        \n",
        "import seaborn as sns\n",
        "import matplotlib.pyplot as plt\n",
        "\n",
        "import folium \n",
        "from folium import plugins\n",
        "# from folium.plugins import HeatMap\n",
        "\n",
        "import json \n",
        "from datetime import datetime\n",
        "\n",
        "import warnings\n",
        "warnings.filterwarnings(\"ignore\")\n",
        "\n",
        "import webbrowser"
      ],
      "execution_count": 16,
      "outputs": []
    },
    {
      "cell_type": "code",
      "metadata": {
        "id": "Y1d3-6KLTIv4",
        "colab_type": "code",
        "colab": {
          "base_uri": "https://localhost:8080/",
          "height": 425
        },
        "outputId": "5f0a497f-cd11-497d-d9b9-bdf4192e8ff5"
      },
      "source": [
        "fpopl = pd.read_csv('/content/gdrive/My Drive/dacon/fpopl.csv')\n",
        "case = pd.read_csv('/content/gdrive/My Drive/dacon/COVID_19/Case.csv')"
      ],
      "execution_count": 18,
      "outputs": [
        {
          "output_type": "error",
          "ename": "FileNotFoundError",
          "evalue": "ignored",
          "traceback": [
            "\u001b[0;31m---------------------------------------------------------------------------\u001b[0m",
            "\u001b[0;31mFileNotFoundError\u001b[0m                         Traceback (most recent call last)",
            "\u001b[0;32m<ipython-input-18-3c48578202ec>\u001b[0m in \u001b[0;36m<module>\u001b[0;34m()\u001b[0m\n\u001b[0;32m----> 1\u001b[0;31m \u001b[0mfpopl\u001b[0m \u001b[0;34m=\u001b[0m \u001b[0mpd\u001b[0m\u001b[0;34m.\u001b[0m\u001b[0mread_csv\u001b[0m\u001b[0;34m(\u001b[0m\u001b[0;34m'/content/gdrive/My Drive/dacon/fpopl.csv'\u001b[0m\u001b[0;34m)\u001b[0m\u001b[0;34m\u001b[0m\u001b[0;34m\u001b[0m\u001b[0m\n\u001b[0m\u001b[1;32m      2\u001b[0m \u001b[0mcase\u001b[0m \u001b[0;34m=\u001b[0m \u001b[0mpd\u001b[0m\u001b[0;34m.\u001b[0m\u001b[0mread_csv\u001b[0m\u001b[0;34m(\u001b[0m\u001b[0;34m'/content/gdrive/My Drive/dacon/COVID_19/Case.csv'\u001b[0m\u001b[0;34m)\u001b[0m\u001b[0;34m\u001b[0m\u001b[0;34m\u001b[0m\u001b[0m\n",
            "\u001b[0;32m/usr/local/lib/python3.6/dist-packages/pandas/io/parsers.py\u001b[0m in \u001b[0;36mparser_f\u001b[0;34m(filepath_or_buffer, sep, delimiter, header, names, index_col, usecols, squeeze, prefix, mangle_dupe_cols, dtype, engine, converters, true_values, false_values, skipinitialspace, skiprows, skipfooter, nrows, na_values, keep_default_na, na_filter, verbose, skip_blank_lines, parse_dates, infer_datetime_format, keep_date_col, date_parser, dayfirst, cache_dates, iterator, chunksize, compression, thousands, decimal, lineterminator, quotechar, quoting, doublequote, escapechar, comment, encoding, dialect, error_bad_lines, warn_bad_lines, delim_whitespace, low_memory, memory_map, float_precision)\u001b[0m\n\u001b[1;32m    674\u001b[0m         )\n\u001b[1;32m    675\u001b[0m \u001b[0;34m\u001b[0m\u001b[0m\n\u001b[0;32m--> 676\u001b[0;31m         \u001b[0;32mreturn\u001b[0m \u001b[0m_read\u001b[0m\u001b[0;34m(\u001b[0m\u001b[0mfilepath_or_buffer\u001b[0m\u001b[0;34m,\u001b[0m \u001b[0mkwds\u001b[0m\u001b[0;34m)\u001b[0m\u001b[0;34m\u001b[0m\u001b[0;34m\u001b[0m\u001b[0m\n\u001b[0m\u001b[1;32m    677\u001b[0m \u001b[0;34m\u001b[0m\u001b[0m\n\u001b[1;32m    678\u001b[0m     \u001b[0mparser_f\u001b[0m\u001b[0;34m.\u001b[0m\u001b[0m__name__\u001b[0m \u001b[0;34m=\u001b[0m \u001b[0mname\u001b[0m\u001b[0;34m\u001b[0m\u001b[0;34m\u001b[0m\u001b[0m\n",
            "\u001b[0;32m/usr/local/lib/python3.6/dist-packages/pandas/io/parsers.py\u001b[0m in \u001b[0;36m_read\u001b[0;34m(filepath_or_buffer, kwds)\u001b[0m\n\u001b[1;32m    446\u001b[0m \u001b[0;34m\u001b[0m\u001b[0m\n\u001b[1;32m    447\u001b[0m     \u001b[0;31m# Create the parser.\u001b[0m\u001b[0;34m\u001b[0m\u001b[0;34m\u001b[0m\u001b[0;34m\u001b[0m\u001b[0m\n\u001b[0;32m--> 448\u001b[0;31m     \u001b[0mparser\u001b[0m \u001b[0;34m=\u001b[0m \u001b[0mTextFileReader\u001b[0m\u001b[0;34m(\u001b[0m\u001b[0mfp_or_buf\u001b[0m\u001b[0;34m,\u001b[0m \u001b[0;34m**\u001b[0m\u001b[0mkwds\u001b[0m\u001b[0;34m)\u001b[0m\u001b[0;34m\u001b[0m\u001b[0;34m\u001b[0m\u001b[0m\n\u001b[0m\u001b[1;32m    449\u001b[0m \u001b[0;34m\u001b[0m\u001b[0m\n\u001b[1;32m    450\u001b[0m     \u001b[0;32mif\u001b[0m \u001b[0mchunksize\u001b[0m \u001b[0;32mor\u001b[0m \u001b[0miterator\u001b[0m\u001b[0;34m:\u001b[0m\u001b[0;34m\u001b[0m\u001b[0;34m\u001b[0m\u001b[0m\n",
            "\u001b[0;32m/usr/local/lib/python3.6/dist-packages/pandas/io/parsers.py\u001b[0m in \u001b[0;36m__init__\u001b[0;34m(self, f, engine, **kwds)\u001b[0m\n\u001b[1;32m    878\u001b[0m             \u001b[0mself\u001b[0m\u001b[0;34m.\u001b[0m\u001b[0moptions\u001b[0m\u001b[0;34m[\u001b[0m\u001b[0;34m\"has_index_names\"\u001b[0m\u001b[0;34m]\u001b[0m \u001b[0;34m=\u001b[0m \u001b[0mkwds\u001b[0m\u001b[0;34m[\u001b[0m\u001b[0;34m\"has_index_names\"\u001b[0m\u001b[0;34m]\u001b[0m\u001b[0;34m\u001b[0m\u001b[0;34m\u001b[0m\u001b[0m\n\u001b[1;32m    879\u001b[0m \u001b[0;34m\u001b[0m\u001b[0m\n\u001b[0;32m--> 880\u001b[0;31m         \u001b[0mself\u001b[0m\u001b[0;34m.\u001b[0m\u001b[0m_make_engine\u001b[0m\u001b[0;34m(\u001b[0m\u001b[0mself\u001b[0m\u001b[0;34m.\u001b[0m\u001b[0mengine\u001b[0m\u001b[0;34m)\u001b[0m\u001b[0;34m\u001b[0m\u001b[0;34m\u001b[0m\u001b[0m\n\u001b[0m\u001b[1;32m    881\u001b[0m \u001b[0;34m\u001b[0m\u001b[0m\n\u001b[1;32m    882\u001b[0m     \u001b[0;32mdef\u001b[0m \u001b[0mclose\u001b[0m\u001b[0;34m(\u001b[0m\u001b[0mself\u001b[0m\u001b[0;34m)\u001b[0m\u001b[0;34m:\u001b[0m\u001b[0;34m\u001b[0m\u001b[0;34m\u001b[0m\u001b[0m\n",
            "\u001b[0;32m/usr/local/lib/python3.6/dist-packages/pandas/io/parsers.py\u001b[0m in \u001b[0;36m_make_engine\u001b[0;34m(self, engine)\u001b[0m\n\u001b[1;32m   1112\u001b[0m     \u001b[0;32mdef\u001b[0m \u001b[0m_make_engine\u001b[0m\u001b[0;34m(\u001b[0m\u001b[0mself\u001b[0m\u001b[0;34m,\u001b[0m \u001b[0mengine\u001b[0m\u001b[0;34m=\u001b[0m\u001b[0;34m\"c\"\u001b[0m\u001b[0;34m)\u001b[0m\u001b[0;34m:\u001b[0m\u001b[0;34m\u001b[0m\u001b[0;34m\u001b[0m\u001b[0m\n\u001b[1;32m   1113\u001b[0m         \u001b[0;32mif\u001b[0m \u001b[0mengine\u001b[0m \u001b[0;34m==\u001b[0m \u001b[0;34m\"c\"\u001b[0m\u001b[0;34m:\u001b[0m\u001b[0;34m\u001b[0m\u001b[0;34m\u001b[0m\u001b[0m\n\u001b[0;32m-> 1114\u001b[0;31m             \u001b[0mself\u001b[0m\u001b[0;34m.\u001b[0m\u001b[0m_engine\u001b[0m \u001b[0;34m=\u001b[0m \u001b[0mCParserWrapper\u001b[0m\u001b[0;34m(\u001b[0m\u001b[0mself\u001b[0m\u001b[0;34m.\u001b[0m\u001b[0mf\u001b[0m\u001b[0;34m,\u001b[0m \u001b[0;34m**\u001b[0m\u001b[0mself\u001b[0m\u001b[0;34m.\u001b[0m\u001b[0moptions\u001b[0m\u001b[0;34m)\u001b[0m\u001b[0;34m\u001b[0m\u001b[0;34m\u001b[0m\u001b[0m\n\u001b[0m\u001b[1;32m   1115\u001b[0m         \u001b[0;32melse\u001b[0m\u001b[0;34m:\u001b[0m\u001b[0;34m\u001b[0m\u001b[0;34m\u001b[0m\u001b[0m\n\u001b[1;32m   1116\u001b[0m             \u001b[0;32mif\u001b[0m \u001b[0mengine\u001b[0m \u001b[0;34m==\u001b[0m \u001b[0;34m\"python\"\u001b[0m\u001b[0;34m:\u001b[0m\u001b[0;34m\u001b[0m\u001b[0;34m\u001b[0m\u001b[0m\n",
            "\u001b[0;32m/usr/local/lib/python3.6/dist-packages/pandas/io/parsers.py\u001b[0m in \u001b[0;36m__init__\u001b[0;34m(self, src, **kwds)\u001b[0m\n\u001b[1;32m   1889\u001b[0m         \u001b[0mkwds\u001b[0m\u001b[0;34m[\u001b[0m\u001b[0;34m\"usecols\"\u001b[0m\u001b[0;34m]\u001b[0m \u001b[0;34m=\u001b[0m \u001b[0mself\u001b[0m\u001b[0;34m.\u001b[0m\u001b[0musecols\u001b[0m\u001b[0;34m\u001b[0m\u001b[0;34m\u001b[0m\u001b[0m\n\u001b[1;32m   1890\u001b[0m \u001b[0;34m\u001b[0m\u001b[0m\n\u001b[0;32m-> 1891\u001b[0;31m         \u001b[0mself\u001b[0m\u001b[0;34m.\u001b[0m\u001b[0m_reader\u001b[0m \u001b[0;34m=\u001b[0m \u001b[0mparsers\u001b[0m\u001b[0;34m.\u001b[0m\u001b[0mTextReader\u001b[0m\u001b[0;34m(\u001b[0m\u001b[0msrc\u001b[0m\u001b[0;34m,\u001b[0m \u001b[0;34m**\u001b[0m\u001b[0mkwds\u001b[0m\u001b[0;34m)\u001b[0m\u001b[0;34m\u001b[0m\u001b[0;34m\u001b[0m\u001b[0m\n\u001b[0m\u001b[1;32m   1892\u001b[0m         \u001b[0mself\u001b[0m\u001b[0;34m.\u001b[0m\u001b[0munnamed_cols\u001b[0m \u001b[0;34m=\u001b[0m \u001b[0mself\u001b[0m\u001b[0;34m.\u001b[0m\u001b[0m_reader\u001b[0m\u001b[0;34m.\u001b[0m\u001b[0munnamed_cols\u001b[0m\u001b[0;34m\u001b[0m\u001b[0;34m\u001b[0m\u001b[0m\n\u001b[1;32m   1893\u001b[0m \u001b[0;34m\u001b[0m\u001b[0m\n",
            "\u001b[0;32mpandas/_libs/parsers.pyx\u001b[0m in \u001b[0;36mpandas._libs.parsers.TextReader.__cinit__\u001b[0;34m()\u001b[0m\n",
            "\u001b[0;32mpandas/_libs/parsers.pyx\u001b[0m in \u001b[0;36mpandas._libs.parsers.TextReader._setup_parser_source\u001b[0;34m()\u001b[0m\n",
            "\u001b[0;31mFileNotFoundError\u001b[0m: [Errno 2] File /content/gdrive/My Drive/dacon/fpopl.csv does not exist: '/content/gdrive/My Drive/dacon/fpopl.csv'"
          ]
        }
      ]
    },
    {
      "cell_type": "markdown",
      "metadata": {
        "id": "-0r0GhYFTohB",
        "colab_type": "text"
      },
      "source": [
        "데이터로부터 발생 지역, 감염유형, 확진자 수, 위도, 경도를 확인할 수 있습니다.  \n",
        "맨 마지막의 size값은 바로 아래에서 설정한 대/중/소규모 집단 감염의 분류에 따라 대규모는 1, 중규모는 2, 소규모는 3으로 라벨링 된 값입니다."
      ]
    },
    {
      "cell_type": "code",
      "metadata": {
        "id": "ViCzb6OaTJ6z",
        "colab_type": "code",
        "colab": {}
      },
      "source": [
        "data = case[['province','city','infection_case','confirmed','latitude','longitude','size']].dropna()\n",
        "data"
      ],
      "execution_count": null,
      "outputs": []
    },
    {
      "cell_type": "markdown",
      "metadata": {
        "id": "73GRpAToTtec",
        "colab_type": "text"
      },
      "source": [
        "확진환자 수에 따라 집단감염을 분류하기 위해 확진환자 수의 분포를 막대그래프로 표현하였습니다.  \n",
        "확진환자 수는 아래와 같이 80, 25인 지점에서 큰 격차를 보였습니다. 따라서 이들을 기준으로 하여 80명 이상은 **대규모 집단 감염**, 25명 이상 80명 미만은 **중규모 집단 감염**, 25명 미만은 **소규모 집단 감염**으로 분류합니다."
      ]
    },
    {
      "cell_type": "code",
      "metadata": {
        "id": "j3TseP4ETwm8",
        "colab_type": "code",
        "colab": {}
      },
      "source": [
        "data.sort_values(by='confirmed')\n",
        "icdata = data[['infection_case','confirmed']][1:]\n",
        "sns.barplot(x='infection_case',y='confirmed',data=icdata)\n",
        "plt.xticks(rotation=60, fontsize = 5)\n",
        "plt.axhline(y=80, color='gray', linewidth=1)\n",
        "plt.axhline(y=25, color='gray', linewidth=1)\n",
        "plt.show()"
      ],
      "execution_count": null,
      "outputs": []
    },
    {
      "cell_type": "markdown",
      "metadata": {
        "id": "zBxrHf7jUK_3",
        "colab_type": "text"
      },
      "source": [
        "분류한 집단별로 발생 위치와 감염의 크기를 지도에 시각화 하기 위해 세개의 데이터로 분류합니다.  \n",
        "생성한 데이터를 사용하여 지도에 시각화합니다.  \n",
        "규모에 따라 색의 진하기와 원의 크기를 다르게 하여 비교할 수 있도록 하였습니다.  \n",
        "분류별 감염 위치를 확인할 수 있도록 레이어를 사용하였습니다."
      ]
    },
    {
      "cell_type": "markdown",
      "metadata": {
        "id": "QRFtfGwwUccu",
        "colab_type": "text"
      },
      "source": [
        "각 지역별 인구 수와 집단감염간의 관계를 살펴보기 위해 지역별 인구 분포를 지도에 시각화하였습니다. 이 부분은 [해당 링크](https://blog.naver.com/PostView.nhn?blogId=kcchang61&logNo=221350672356)를 참고하였습니다."
      ]
    },
    {
      "cell_type": "code",
      "metadata": {
        "id": "69VBpKLQUbXx",
        "colab_type": "code",
        "colab": {}
      },
      "source": [
        "code = []\n",
        "fpopl1 = fpopl[['adstrd_code','popltn_cascnt','base_ymd','agrde_se_code']]\\\n",
        ".query('base_ymd in (\"20200101\")').dropna()\n",
        "for i in range(len(fpopl1['adstrd_code'])):\n",
        "    code.append(str(fpopl1['adstrd_code'][i]//1000))\n",
        "print(len(code))\n",
        "fpopl1['code'] = code\n",
        "\n",
        "fpopl00 = fpopl1\\\n",
        ".query('agrde_se_code in (\"age_00\")').dropna()\\\n",
        ".groupby(['code'])['popltn_cascnt'].sum().reset_index()\n"
      ],
      "execution_count": null,
      "outputs": []
    },
    {
      "cell_type": "code",
      "metadata": {
        "id": "zX0pl5tjUMGQ",
        "colab_type": "code",
        "colab": {}
      },
      "source": [
        "m = folium.Map(location=[37.55, 127], tiles=\"OpenStreetMap\", zoom_start=10)\n",
        "# Add the color for the chloropleth:\n",
        "\n",
        "m.choropleth(\n",
        " geo_data=state_geo2,\n",
        " name='0~9세 유동인구수',\n",
        " data=fpopl00,\n",
        " columns=['code', 'popltn_cascnt'],\n",
        " key_on='feature.properties.SIG_CD',\n",
        " fill_color='YlGn',\n",
        " fill_opacity=0.7,\n",
        " line_opacity=0.5,\n",
        " legend_name='Population Rate (%)'\n",
        ")\n",
        "\n",
        "\n",
        "fg1 = folium.FeatureGroup(name='대규모 집단감염')\n",
        "m.add_child(fg1)\n",
        "\n",
        "fg2 = folium.FeatureGroup(name='중규모 집단감염')\n",
        "m.add_child(fg2)\n",
        "\n",
        "fg3 = folium.FeatureGroup(name='소규모 집단감염')\n",
        "m.add_child(fg3)\n",
        "\n",
        "for i in range(len(data1)):\n",
        "    tmp = data1.loc[i]\n",
        "    folium.CircleMarker([tmp['latitude'],tmp['longitude']], radius=30, \n",
        "                        color='#a31c19',fill_color='a31c19',popup=tmp['infection_case']).add_to(fg1)\n",
        "\n",
        "    \n",
        "for i in range(len(data1),len(data1)+len(data2)):\n",
        "    tmp = data2.loc[i]\n",
        "    folium.CircleMarker([tmp['latitude'],tmp['longitude']], radius=20, \n",
        "                        color='#a63117',fill_color='#a63117',popup=tmp['infection_case']).add_to(fg2)\n",
        "\n",
        "for i in range(len(data1)+len(data2),len(data1)+len(data2)+len(data3)):\n",
        "    tmp = data3.loc[i]\n",
        "    folium.CircleMarker([tmp['latitude'],tmp['longitude']], radius=10, \n",
        "                        color='#ed685e',fill_color='#ed685e',popup=tmp['infection_case']).add_to(fg3)\n",
        "\n",
        "folium.LayerControl(collapsed=False).add_to(m)\n",
        "    \n",
        "\n",
        "plugins.Fullscreen(position='topright',  # Full screen\n",
        "                   title='Click to Expand', \n",
        "                   title_cancel='Click to Exit', \n",
        "                   force_separate_button=True).add_to(m)\n",
        "\n",
        "plugins.MousePosition().add_to(m) ## you can easily get coordinates.\n",
        "\n",
        "m\n"
      ],
      "execution_count": null,
      "outputs": []
    }
  ]
}