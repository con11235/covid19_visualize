{
  "nbformat": 4,
  "nbformat_minor": 0,
  "metadata": {
    "colab": {
      "name": "앱 장르 구하기_진행중.ipynb",
      "provenance": []
    },
    "kernelspec": {
      "name": "python3",
      "display_name": "Python 3"
    }
  },
  "cells": [
    {
      "cell_type": "code",
      "metadata": {
        "id": "sFXNuGLmodJJ",
        "colab_type": "code",
        "colab": {
          "base_uri": "https://localhost:8080/",
          "height": 35
        },
        "outputId": "0d0ec4f7-f037-4593-b889-c30a00f68b49"
      },
      "source": [
        "from google.colab import drive\n",
        "drive.mount('/content/gdrive')"
      ],
      "execution_count": 1,
      "outputs": [
        {
          "output_type": "stream",
          "text": [
            "Drive already mounted at /content/gdrive; to attempt to forcibly remount, call drive.mount(\"/content/gdrive\", force_remount=True).\n"
          ],
          "name": "stdout"
        }
      ]
    },
    {
      "cell_type": "code",
      "metadata": {
        "id": "1IMAVTWnoeAK",
        "colab_type": "code",
        "colab": {
          "base_uri": "https://localhost:8080/",
          "height": 195
        },
        "outputId": "6658c3b2-bbce-4c3f-b714-643809f02cbd"
      },
      "source": [
        "!apt install chromium-chromedriver\n",
        "!pip install selenium\n",
        "\n",
        "from selenium import webdriver\n",
        "options = webdriver.ChromeOptions()\n",
        "options.add_argument('--headless')\n",
        "options.add_argument('--no-sandbox')\n",
        "options.add_argument('--disable-dev-shm-usage')"
      ],
      "execution_count": 29,
      "outputs": [
        {
          "output_type": "stream",
          "text": [
            "Reading package lists... Done\n",
            "Building dependency tree       \n",
            "Reading state information... Done\n",
            "chromium-chromedriver is already the newest version (83.0.4103.61-0ubuntu0.18.04.1).\n",
            "The following package was automatically installed and is no longer required:\n",
            "  libnvidia-common-440\n",
            "Use 'apt autoremove' to remove it.\n",
            "0 upgraded, 0 newly installed, 0 to remove and 35 not upgraded.\n",
            "Requirement already satisfied: selenium in /usr/local/lib/python3.6/dist-packages (3.141.0)\n",
            "Requirement already satisfied: urllib3 in /usr/local/lib/python3.6/dist-packages (from selenium) (1.24.3)\n"
          ],
          "name": "stdout"
        }
      ]
    },
    {
      "cell_type": "code",
      "metadata": {
        "id": "wCOLFFNrolb4",
        "colab_type": "code",
        "colab": {}
      },
      "source": [
        "from bs4 import BeautifulSoup\n",
        "import pandas as pd\n",
        "\n",
        "genre_dic = {}\n",
        "\n",
        "def makeUrl(dateList,i, kinds):\n",
        "  if kinds == 'playstore': \n",
        "    url = 'https://www.mobileindex.com/app/get_rank_all?rt=r&mk=2&c=kr&t=app&rs=100&d=' + dateList[i]\n",
        "  else:\n",
        "    url = 'https://www.mobileindex.com/app/get_rank_all?rt=r&mk=1&c=kr&t=app&rs=100&d=' + dateList[i]\n",
        "  return url\n",
        "\n",
        "def getGenreUrl(url):\n",
        "  driver = webdriver.Chrome('chromedriver',options=options)\n",
        "  driver.get(url)\n",
        "  #driver.implicitly_wait(3)\n",
        "\n",
        "  html = driver.page_source\n",
        "  soup = BeautifulSoup(html, 'html.parser')\n",
        "  genreURL = soup.select('div.item-info > a')\n",
        "  return genreURL\n",
        "\n",
        "def get_genre(url,appname):\n",
        "  if appname in genre_dic:\n",
        "    return genre_dic[appname]\n",
        "  dr = webdriver.Chrome('chromedriver',options=options)\n",
        "  dr.get(url)\n",
        "  #dr.implicitly_wait(3)\n",
        "  ht = dr.page_source\n",
        "  so = BeautifulSoup(ht, 'html.parser')\n",
        "  genre = so.select('tr.text-center')[0].text\n",
        "  index = genre.find('2')\n",
        "  if genre[1] == 'G':\n",
        "    genre_dic[appname] = genre[13:(index-1)]\n",
        "    return genre[13:(index-1)]\n",
        "  elif genre[1] == 'A':\n",
        "    genre_dic[appname] = genre[11:(index-1)]\n",
        "    return genre[11:(index-1)]\n",
        "\n",
        "def separateAppRank(rank):\n",
        "  free_rank = []\n",
        "  pay_rank = []\n",
        "  sales_rank = [] \n",
        "  for j in range(len(rank)):\n",
        "    if len(rank[j]) == 100:\n",
        "      free_rank.append(rank[j][0::2])\n",
        "      pay_rank.append(rank[j][1::2])\n",
        "    elif len(rank[j]) == 150 or len(rank[j]) == 300:\n",
        "      free_rank.append(rank[j][0::3])\n",
        "      pay_rank.append(rank[j][1::3])\n",
        "      sales_rank.append(rank[j][2::3])\n",
        "  return free_rank, pay_rank, sales_rank\n",
        "\n",
        "def getAppRank(url, year):\n",
        "  driver = webdriver.Chrome('chromedriver',options=options)\n",
        "  driver.get(url)\n",
        "  #driver.implicitly_wait(3)\n",
        "\n",
        "  html = driver.page_source\n",
        "  soup = BeautifulSoup(html, 'html.parser')\n",
        "  notices = soup.select('span.appname')\n",
        "  \n",
        "  tmp = []\n",
        "  for n in notices:\n",
        "    tmp.append(n.text.strip())\n",
        "  return tmp"
      ],
      "execution_count": 26,
      "outputs": []
    },
    {
      "cell_type": "code",
      "metadata": {
        "id": "fOxd0uJ3o3qB",
        "colab_type": "code",
        "colab": {
          "base_uri": "https://localhost:8080/",
          "height": 266
        },
        "outputId": "f0953576-535b-4790-d13e-0d2431eddcc9"
      },
      "source": [
        "#2019\n",
        "appRank_p = []\n",
        "appRank_a = []\n",
        "date_2019 = ['2019-01-31','2019-02-28','2019-03-31','2019-04-30','2019-05-31','2019-06-30','2019-07-31','2019-08-31','2019-09-30','2019-10-31','2019-11-30','2019-12-31']\n",
        "date_size = len(date_2019)\n",
        "kinds = ['playstore','appstore']\n",
        "\n",
        "for kind in kinds:\n",
        "  appRank = []\n",
        "  appGenre = []\n",
        "  for i in range(date_size):\n",
        "    url = makeUrl(date_2019,i,kind)\n",
        "    tmp = getAppRank(url,2019)\n",
        "    appRank.append(tmp)\n",
        "    genreURL = getGenreUrl(url)\n",
        "    genreList = list()\n",
        "    for j in range(len(genreURL)):\n",
        "      genreList.append(get_genre('https://www.mobileindex.com/'+genreURL[j]['href'],tmp[j]))\n",
        "    appGenre.append(genreList)\n",
        "    print(kind,' data of ',date_2019[i],' is done')\n",
        "  if kind == 'playstore': \n",
        "    appRank_p = appRank[:]\n",
        "  else:\n",
        "    appRank_a = appRank[:] \n",
        "  \n",
        "  if kind == 'playstore': \n",
        "    p_appRank_free_2019,p_appRank_pay_2019,p_appRank_sales_2019 = separateAppRank(appRank)\n",
        "    print('sep is done')\n",
        "    p_appGenre_free_2019,p_appGenre_pay_2019,p_appGenre_sales_2019  = separateAppRank(appGenre)\n",
        "    print('sep2 is done') \n",
        "  else:\n",
        "    a_appRank_free_2019,a_appRank_pay_2019,a_appRank_sales_2019 = separateAppRank(appRank)\n",
        "    print('sep is done')\n",
        "    a_appGenre_free_2019,a_appGenre_pay_2019,a_appGenre_sales_2019  = separateAppRank(appGenre)\n",
        "    print('sep2 is done') "
      ],
      "execution_count": 27,
      "outputs": [
        {
          "output_type": "stream",
          "text": [
            "appstore  data of  2019-01-31  is done\n",
            "appstore  data of  2019-02-28  is done\n",
            "appstore  data of  2019-03-31  is done\n",
            "appstore  data of  2019-04-30  is done\n",
            "appstore  data of  2019-05-31  is done\n",
            "appstore  data of  2019-06-30  is done\n",
            "appstore  data of  2019-07-31  is done\n",
            "appstore  data of  2019-08-31  is done\n",
            "appstore  data of  2019-09-30  is done\n",
            "appstore  data of  2019-10-31  is done\n",
            "appstore  data of  2019-11-30  is done\n",
            "appstore  data of  2019-12-31  is done\n",
            "sep is done\n",
            "sep2 is done\n"
          ],
          "name": "stdout"
        }
      ]
    },
    {
      "cell_type": "code",
      "metadata": {
        "id": "Ao0NVHx6pFwP",
        "colab_type": "code",
        "colab": {
          "base_uri": "https://localhost:8080/",
          "height": 159
        },
        "outputId": "1a61b612-c9a4-457c-f27f-d331dd27ceb6"
      },
      "source": [
        "#2020\n",
        "appRank = []\n",
        "date_2020 = ['2020-01-31','2020-02-29','2020-03-31','2020-04-30','2020-05-31','2020-06-30']\n",
        "date_size = len(date_2020)\n",
        "kinds = ['playstore','appstore']\n",
        "\n",
        "for kind in kinds:\n",
        "  appRank = []\n",
        "  appGenre = []\n",
        "  for i in range(date_size):\n",
        "    url = makeUrl(date_2020,i,kind)\n",
        "    tmp = getAppRank(url,2020)\n",
        "    appRank.append(tmp)\n",
        "    genreURL = getGenreUrl(url)\n",
        "    genreList = list()\n",
        "    for j in range(len(genreURL)):\n",
        "      genreList.append(get_genre('https://www.mobileindex.com/'+genreURL[j]['href'],tmp[j]))\n",
        "    appGenre.append(genreList)\n",
        "    print(kind,' date of ',date_2020[i],' is done')\n",
        "  \n",
        "  if kind == 'playstore': \n",
        "    p_appRank_free_2020,p_appRank_pay_2020,p_appRank_sales_2020 = separateAppRank(appRank)\n",
        "    print('sep is done')\n",
        "    p_appGenre_free_2020,p_appGenre_pay_2020,p_appGenre_sales_2020  = separateAppRank(appGenre)\n",
        "    print('sep2 is done') \n",
        "  else:\n",
        "    a_appRank_free_2020,a_appRank_pay_2020,a_appRank_sales_2020 = separateAppRank(appRank)\n",
        "    print('sep is done')\n",
        "    a_appGenre_free_2020,a_appGenre_pay_2020,a_appGenre_sales_2020  = separateAppRank(appGenre)\n",
        "    print('sep2 is done') "
      ],
      "execution_count": 30,
      "outputs": [
        {
          "output_type": "stream",
          "text": [
            "appstore  date of  2020-01-31  is done\n",
            "appstore  date of  2020-02-29  is done\n",
            "appstore  date of  2020-03-31  is done\n",
            "appstore  date of  2020-04-30  is done\n",
            "appstore  date of  2020-05-31  is done\n",
            "appstore  date of  2020-06-30  is done\n",
            "sep is done\n",
            "sep2 is done\n"
          ],
          "name": "stdout"
        }
      ]
    },
    {
      "cell_type": "code",
      "metadata": {
        "id": "J4bPIBhEB3Ji",
        "colab_type": "code",
        "colab": {}
      },
      "source": [
        "\n",
        "p_appRank_free = list()\n",
        "for i in range(len(p_appRank_free_2019)):\n",
        "  p_appRank_free.append(p_appRank_free_2019[i])\n",
        "  p_appRank_free.append(p_appGenre_free_2019[i])\n",
        "for i in range(len(p_appRank_free_2020)):\n",
        "  p_appRank_free.append(p_appRank_free_2020[i])\n",
        "  p_appRank_free.append(p_appGenre_free_2020[i])\n",
        "\n",
        "a_appRank_free = list()\n",
        "for i in range(len(a_appRank_free_2019)):\n",
        "  a_appRank_free.append(a_appRank_free_2019[i])\n",
        "  a_appRank_free.append(a_appGenre_free_2019[i])\n",
        "for i in range(len(a_appRank_free_2020)):\n",
        "  a_appRank_free.append(a_appRank_free_2020[i])\n",
        "  a_appRank_free.append(a_appGenre_free_2020[i])\n"
      ],
      "execution_count": 37,
      "outputs": []
    },
    {
      "cell_type": "code",
      "metadata": {
        "id": "2kfBfMicCUx4",
        "colab_type": "code",
        "colab": {}
      },
      "source": [
        "col = []\n",
        "for i in range(12):\n",
        "  col.append('19_'+str(i+1))\n",
        "  col.append('19_'+str(i+1)+'_gen')\n",
        "for i in range(6):\n",
        "  col.append('20_'+str(i+1))\n",
        "  col.append('20_'+str(i+1)+'_gen')\n",
        "\n",
        "appRank_free_playstore_df = pd.DataFrame(p_appRank_free)\n",
        "appRank_free_playstore_df = appRank_free_playstore_df.T\n",
        "appRank_free_playstore_df.columns = col\n",
        "appRank_free_playstore_df.to_csv('/content/gdrive/My Drive/dacon/appRank_free_playstore_2019.csv', encoding='utf-8-sig')\n",
        "\n",
        "appRank_free_appstore_df = pd.DataFrame(a_appRank_free)\n",
        "appRank_free_appstore_df = appRank_free_appstore_df.T\n",
        "appRank_free_appstore_df.columns = col\n",
        "appRank_free_appstore_df.to_csv('/content/gdrive/My Drive/dacon/appRank_free_appstore_2020.csv', encoding='utf-8-sig')"
      ],
      "execution_count": 39,
      "outputs": []
    },
    {
      "cell_type": "code",
      "metadata": {
        "id": "6rrTuGrhEJd3",
        "colab_type": "code",
        "colab": {}
      },
      "source": [
        "\n",
        "p_appRank_pay = list()\n",
        "for i in range(len(p_appRank_pay_2019)):\n",
        "  p_appRank_pay.append(p_appRank_pay_2019[i])\n",
        "  p_appRank_pay.append(p_appGenre_pay_2019[i])\n",
        "for i in range(len(p_appRank_pay_2020)):\n",
        "  p_appRank_pay.append(p_appRank_pay_2020[i])\n",
        "  p_appRank_pay.append(p_appGenre_pay_2020[i])\n",
        "\n",
        "a_appRank_pay = list()\n",
        "for i in range(len(a_appRank_pay_2019)):\n",
        "  a_appRank_pay.append(a_appRank_pay_2019[i])\n",
        "  a_appRank_pay.append(a_appGenre_pay_2019[i])\n",
        "for i in range(len(a_appRank_pay_2020)):\n",
        "  a_appRank_pay.append(a_appRank_pay_2020[i])\n",
        "  a_appRank_pay.append(a_appGenre_pay_2020[i])\n"
      ],
      "execution_count": 40,
      "outputs": []
    },
    {
      "cell_type": "code",
      "metadata": {
        "id": "nER-e_P8FwyI",
        "colab_type": "code",
        "colab": {}
      },
      "source": [
        "appRank_pay_playstore_df = pd.DataFrame(p_appRank_pay)\n",
        "appRank_pay_playstore_df = appRank_pay_playstore_df.T\n",
        "appRank_pay_playstore_df.columns = col\n",
        "appRank_pay_playstore_df.to_csv('/content/gdrive/My Drive/dacon/appRank_pay_playstore_2019.csv', encoding='utf-8-sig')\n",
        "\n",
        "appRank_pay_appstore_df = pd.DataFrame(a_appRank_pay)\n",
        "appRank_pay_appstore_df = appRank_pay_appstore_df.T\n",
        "appRank_pay_appstore_df.columns = col\n",
        "appRank_pay_appstore_df.to_csv('/content/gdrive/My Drive/dacon/appRank_pay_appstore_2020.csv', encoding='utf-8-sig')"
      ],
      "execution_count": 41,
      "outputs": []
    },
    {
      "cell_type": "code",
      "metadata": {
        "id": "aK0KgZc2F0Ot",
        "colab_type": "code",
        "colab": {}
      },
      "source": [
        "\n",
        "p_appRank_sales = list()\n",
        "for i in range(len(p_appRank_sales_2019)):\n",
        "  p_appRank_sales.append(p_appRank_sales_2019[i])\n",
        "  p_appRank_sales.append(p_appGenre_sales_2019[i])\n",
        "for i in range(len(p_appRank_sales_2020)):\n",
        "  p_appRank_sales.append(p_appRank_sales_2020[i])\n",
        "  p_appRank_sales.append(p_appGenre_sales_2020[i])\n",
        "\n",
        "a_appRank_sales = list()\n",
        "for i in range(len(a_appRank_sales_2019)):\n",
        "  a_appRank_sales.append(a_appRank_sales_2019[i])\n",
        "  a_appRank_sales.append(a_appGenre_sales_2019[i])\n",
        "for i in range(len(a_appRank_sales_2020)):\n",
        "  a_appRank_sales.append(a_appRank_sales_2020[i])\n",
        "  a_appRank_sales.append(a_appGenre_sales_2020[i])"
      ],
      "execution_count": 42,
      "outputs": []
    },
    {
      "cell_type": "code",
      "metadata": {
        "id": "ukW2MMFbF3GZ",
        "colab_type": "code",
        "colab": {}
      },
      "source": [
        "p_sales_rank_df = pd.DataFrame(p_appRank_sales)\n",
        "p_sales_rank_df = p_sales_rank_df.T\n",
        "p_sales_rank_df.columns = col[12:]\n",
        "p_sales_rank_df.to_csv('/content/gdrive/My Drive/app_sales_rank_playstore_2019.csv', encoding='utf-8-sig')\n",
        "\n",
        "a_sales_rank_df = pd.DataFrame(a_appRank_sales)\n",
        "a_sales_rank_df = a_sales_rank_df.T\n",
        "a_sales_rank_df.columns = col\n",
        "a_sales_rank_df.to_csv('/content/gdrive/My Drive/dacon/app_sales_rank_appstore_2020.csv', encoding='utf-8-sig')"
      ],
      "execution_count": 43,
      "outputs": []
    }
  ]
}