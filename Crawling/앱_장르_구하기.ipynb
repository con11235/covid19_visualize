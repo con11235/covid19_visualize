{
  "nbformat": 4,
  "nbformat_minor": 0,
  "metadata": {
    "colab": {
      "name": "앱 장르 구하기_진행중.ipynb",
      "provenance": []
    },
    "kernelspec": {
      "name": "python3",
      "display_name": "Python 3"
    }
  },
  "cells": [
    {
      "cell_type": "code",
      "metadata": {
        "id": "sFXNuGLmodJJ",
        "colab_type": "code",
        "colab": {
          "base_uri": "https://localhost:8080/",
          "height": 126
        },
        "outputId": "e369c376-3969-4d6c-9700-1b4136647dbb"
      },
      "source": [
        "from google.colab import drive\n",
        "drive.mount('/content/gdrive')"
      ],
      "execution_count": 1,
      "outputs": [
        {
          "output_type": "stream",
          "text": [
            "Go to this URL in a browser: https://accounts.google.com/o/oauth2/auth?client_id=947318989803-6bn6qk8qdgf4n4g3pfee6491hc0brc4i.apps.googleusercontent.com&redirect_uri=urn%3aietf%3awg%3aoauth%3a2.0%3aoob&response_type=code&scope=email%20https%3a%2f%2fwww.googleapis.com%2fauth%2fdocs.test%20https%3a%2f%2fwww.googleapis.com%2fauth%2fdrive%20https%3a%2f%2fwww.googleapis.com%2fauth%2fdrive.photos.readonly%20https%3a%2f%2fwww.googleapis.com%2fauth%2fpeopleapi.readonly\n",
            "\n",
            "Enter your authorization code:\n",
            "··········\n",
            "Mounted at /content/gdrive\n"
          ],
          "name": "stdout"
        }
      ]
    },
    {
      "cell_type": "code",
      "metadata": {
        "id": "1IMAVTWnoeAK",
        "colab_type": "code",
        "colab": {
          "base_uri": "https://localhost:8080/",
          "height": 888
        },
        "outputId": "0fa3c0ab-b873-4204-95ce-fc158b050c5b"
      },
      "source": [
        "!apt install chromium-chromedriver\n",
        "!pip install selenium\n",
        "\n",
        "from selenium import webdriver\n",
        "options = webdriver.ChromeOptions()\n",
        "options.add_argument('--headless')\n",
        "options.add_argument('--no-sandbox')\n",
        "options.add_argument('--disable-dev-shm-usage')"
      ],
      "execution_count": 2,
      "outputs": [
        {
          "output_type": "stream",
          "text": [
            "Reading package lists... Done\n",
            "Building dependency tree       \n",
            "Reading state information... Done\n",
            "The following package was automatically installed and is no longer required:\n",
            "  libnvidia-common-440\n",
            "Use 'apt autoremove' to remove it.\n",
            "The following additional packages will be installed:\n",
            "  chromium-browser chromium-browser-l10n chromium-codecs-ffmpeg-extra\n",
            "Suggested packages:\n",
            "  webaccounts-chromium-extension unity-chromium-extension adobe-flashplugin\n",
            "The following NEW packages will be installed:\n",
            "  chromium-browser chromium-browser-l10n chromium-chromedriver\n",
            "  chromium-codecs-ffmpeg-extra\n",
            "0 upgraded, 4 newly installed, 0 to remove and 35 not upgraded.\n",
            "Need to get 75.5 MB of archives.\n",
            "After this operation, 256 MB of additional disk space will be used.\n",
            "Get:1 http://archive.ubuntu.com/ubuntu bionic-updates/universe amd64 chromium-codecs-ffmpeg-extra amd64 83.0.4103.61-0ubuntu0.18.04.1 [1,119 kB]\n",
            "Get:2 http://archive.ubuntu.com/ubuntu bionic-updates/universe amd64 chromium-browser amd64 83.0.4103.61-0ubuntu0.18.04.1 [66.7 MB]\n",
            "Get:3 http://archive.ubuntu.com/ubuntu bionic-updates/universe amd64 chromium-browser-l10n all 83.0.4103.61-0ubuntu0.18.04.1 [3,378 kB]\n",
            "Get:4 http://archive.ubuntu.com/ubuntu bionic-updates/universe amd64 chromium-chromedriver amd64 83.0.4103.61-0ubuntu0.18.04.1 [4,294 kB]\n",
            "Fetched 75.5 MB in 3s (23.6 MB/s)\n",
            "Selecting previously unselected package chromium-codecs-ffmpeg-extra.\n",
            "(Reading database ... 144465 files and directories currently installed.)\n",
            "Preparing to unpack .../chromium-codecs-ffmpeg-extra_83.0.4103.61-0ubuntu0.18.04.1_amd64.deb ...\n",
            "Unpacking chromium-codecs-ffmpeg-extra (83.0.4103.61-0ubuntu0.18.04.1) ...\n",
            "Selecting previously unselected package chromium-browser.\n",
            "Preparing to unpack .../chromium-browser_83.0.4103.61-0ubuntu0.18.04.1_amd64.deb ...\n",
            "Unpacking chromium-browser (83.0.4103.61-0ubuntu0.18.04.1) ...\n",
            "Selecting previously unselected package chromium-browser-l10n.\n",
            "Preparing to unpack .../chromium-browser-l10n_83.0.4103.61-0ubuntu0.18.04.1_all.deb ...\n",
            "Unpacking chromium-browser-l10n (83.0.4103.61-0ubuntu0.18.04.1) ...\n",
            "Selecting previously unselected package chromium-chromedriver.\n",
            "Preparing to unpack .../chromium-chromedriver_83.0.4103.61-0ubuntu0.18.04.1_amd64.deb ...\n",
            "Unpacking chromium-chromedriver (83.0.4103.61-0ubuntu0.18.04.1) ...\n",
            "Setting up chromium-codecs-ffmpeg-extra (83.0.4103.61-0ubuntu0.18.04.1) ...\n",
            "Setting up chromium-browser (83.0.4103.61-0ubuntu0.18.04.1) ...\n",
            "update-alternatives: using /usr/bin/chromium-browser to provide /usr/bin/x-www-browser (x-www-browser) in auto mode\n",
            "update-alternatives: using /usr/bin/chromium-browser to provide /usr/bin/gnome-www-browser (gnome-www-browser) in auto mode\n",
            "Setting up chromium-chromedriver (83.0.4103.61-0ubuntu0.18.04.1) ...\n",
            "Setting up chromium-browser-l10n (83.0.4103.61-0ubuntu0.18.04.1) ...\n",
            "Processing triggers for hicolor-icon-theme (0.17-2) ...\n",
            "Processing triggers for mime-support (3.60ubuntu1) ...\n",
            "Processing triggers for man-db (2.8.3-2ubuntu0.1) ...\n",
            "Collecting selenium\n",
            "\u001b[?25l  Downloading https://files.pythonhosted.org/packages/80/d6/4294f0b4bce4de0abf13e17190289f9d0613b0a44e5dd6a7f5ca98459853/selenium-3.141.0-py2.py3-none-any.whl (904kB)\n",
            "\u001b[K     |████████████████████████████████| 911kB 2.8MB/s \n",
            "\u001b[?25hRequirement already satisfied: urllib3 in /usr/local/lib/python3.6/dist-packages (from selenium) (1.24.3)\n",
            "Installing collected packages: selenium\n",
            "Successfully installed selenium-3.141.0\n"
          ],
          "name": "stdout"
        }
      ]
    },
    {
      "cell_type": "code",
      "metadata": {
        "id": "wCOLFFNrolb4",
        "colab_type": "code",
        "colab": {}
      },
      "source": [
        "from bs4 import BeautifulSoup\n",
        "import pandas as pd\n",
        "\n",
        "genre_dic = {}\n",
        "\n",
        "def makeUrl(dateList,i, kinds):\n",
        "  if kinds == 'playstore': \n",
        "    url = 'https://www.mobileindex.com/app/get_rank_all?rt=r&mk=2&c=kr&t=app&rs=100&d=' + dateList[i]\n",
        "  else:\n",
        "    url = 'https://www.mobileindex.com/app/get_rank_all?rt=r&mk=1&c=kr&t=app&rs=100&d=' + dateList[i]\n",
        "  return url\n",
        "\n",
        "def getGenreUrl(url):\n",
        "  driver = webdriver.Chrome('chromedriver',options=options)\n",
        "  driver.get(url)\n",
        "  #driver.implicitly_wait(3)\n",
        "\n",
        "  html = driver.page_source\n",
        "  soup = BeautifulSoup(html, 'html.parser')\n",
        "  genreURL = soup.select('div.item-info > a')\n",
        "  return genreURL\n",
        "\n",
        "def get_genre(url,appname):\n",
        "  if appname in genre_dic:\n",
        "    return genre_dic[appname]\n",
        "  dr = webdriver.Chrome('chromedriver',options=options)\n",
        "  dr.get(url)\n",
        "  #dr.implicitly_wait(3)\n",
        "  ht = dr.page_source\n",
        "  so = BeautifulSoup(ht, 'html.parser')\n",
        "  genre = so.select('tr.text-center')[0].text\n",
        "  index = genre.find('2')\n",
        "  genre_dic[appname] = genre[13:(index-1)]\n",
        "  return genre[13:(index-1)]\n",
        "\n",
        "def separateAppRank(rank):\n",
        "  free_rank = []\n",
        "  pay_rank = []\n",
        "  sales_rank = []\n",
        "  if len(rank) == 100:\n",
        "    #무료, 유료 순위만 존재\n",
        "    for j in range(len(rank)):\n",
        "      free_rank.append(rank[j][0::2])\n",
        "      pay_rank.append(rank[j][1::2])\n",
        "    return free_rank, pay_rank\n",
        "  elif len(rank) == 150:\n",
        "    #무료, 유료, 매출순위 존재\n",
        "    for j in range(len(rank)):\n",
        "      free_rank.append(rank[j][0::3])\n",
        "      pay_rank.append(rank[j][1::3])\n",
        "      sales_rank.append(rank[j][2::3])\n",
        "    return free_rank, pay_rank, sales_rank\n",
        "  return\n",
        "\n",
        "def getAppRank(url, year):\n",
        "  driver = webdriver.Chrome('chromedriver',options=options)\n",
        "  driver.get(url)\n",
        "  #driver.implicitly_wait(3)\n",
        "\n",
        "  html = driver.page_source\n",
        "  soup = BeautifulSoup(html, 'html.parser')\n",
        "  notices = soup.select('span.appname')\n",
        "  \n",
        "  tmp = []\n",
        "  for n in notices:\n",
        "    tmp.append(n.text.strip())\n",
        "  return tmp"
      ],
      "execution_count": 3,
      "outputs": []
    },
    {
      "cell_type": "code",
      "metadata": {
        "id": "fOxd0uJ3o3qB",
        "colab_type": "code",
        "colab": {}
      },
      "source": [
        "#2019\n",
        "appRank = []\n",
        "date_2019 = ['2019-01-31','2019-02-28','2019-03-31','2019-04-30','2019-05-31','2019-06-30','2019-07-31','2019-08-31','2019-09-30','2019-10-31','2019-11-30','2019-12-31']\n",
        "date_size = len(date_2019)\n",
        "kinds = ['playstore','appstore']\n",
        "\n",
        "for kind in kinds:\n",
        "  appRank = []\n",
        "  appGenre = []\n",
        "  for i in range(date_size):\n",
        "    url = makeUrl(date_2019,i,kind)\n",
        "    tmp = getAppRank(url,2019)\n",
        "    appRank.append(tmp)\n",
        "    genreURL = getGenreUrl(url)\n",
        "    genreList = list()\n",
        "    for j in range(len(genreURL)):\n",
        "      genreList.append(get_genre('https://www.mobileindex.com/'+genreURL[j]['href'],tmp[j]))\n",
        "    appGenre.append(genreList)\n",
        "    print(kind,' data of ',date_2019[i],' is done')\n",
        "\n",
        "  \n",
        "  if kind == 'playstore': \n",
        "    p_appRank_free_2019,p_appRank_pay_2019 = separateAppRank(appRank)\n",
        "    print('sep is done')\n",
        "    p_appGenre_free_2019,p_appGenre_pay_2019  = separateAppRank(appGenre)\n",
        "    print('sep2 is done') \n",
        "  else:\n",
        "    a_appRank_free_2019,a_appRank_pay_2019 = separateAppRank(appRank)\n",
        "    print('sep is done')\n",
        "    a_appGenre_free_2019,a_appGenre_pay_2019  = separateAppRank(appGenre)\n",
        "    print('sep2 is done') "
      ],
      "execution_count": null,
      "outputs": []
    },
    {
      "cell_type": "code",
      "metadata": {
        "id": "Ao0NVHx6pFwP",
        "colab_type": "code",
        "colab": {
          "base_uri": "https://localhost:8080/",
          "height": 472
        },
        "outputId": "9671138b-301f-4905-8871-ae664e94ab1c"
      },
      "source": [
        "#2020\n",
        "appRank = []\n",
        "date_2020 = ['2020-01-31','2020-02-29','2020-03-31','2020-04-30','2020-05-31','2020-06-30']\n",
        "date_size = len(date_2020)\n",
        "kinds = ['playstore','appstore']\n",
        "\n",
        "for kind in kinds:\n",
        "  appRank = []\n",
        "  appGenre = []\n",
        "  for i in range(date_size):\n",
        "    url = makeUrl(date_2020,i,kind)\n",
        "    tmp = getAppRank(url,2020)\n",
        "    appRank.append(tmp)\n",
        "    genreURL = getGenreUrl(url)\n",
        "    genreList = list()\n",
        "    for j in range(len(genreURL)):\n",
        "      genreList.append(get_genre('https://www.mobileindex.com/'+genreURL[j]['href'],tmp[j]))\n",
        "    appGenre.append(genreList)\n",
        "    print(kind,' date of ',date_2020[i],' is done')\n",
        "  \n",
        "  if kind == 'playstore': \n",
        "    p_appRank_free_2020,p_appRank_pay_2020,p_sales_rank = separateAppRank(appRank)\n",
        "    print('sep is done')\n",
        "    p_appGenre_free_2020,p_appGenre_pay_2020,p_sales_genre  = separateAppRank(appGenre)\n",
        "    print('sep2 is done') \n",
        "  else:\n",
        "    a_appRank_free_2020,a_appRank_pay_2020,a_sales_rank = separateAppRank(appRank)\n",
        "    print('sep is done')\n",
        "    a_appGenre_free_2020,a_appGenre_pay_2020,a_sales_genre  = separateAppRank(appGenre)\n",
        "    print('sep2 is done') "
      ],
      "execution_count": 10,
      "outputs": [
        {
          "output_type": "stream",
          "text": [
            "playstore  date of  2020-01-31  is done\n",
            "playstore  date of  2020-02-29  is done\n",
            "playstore  date of  2020-03-31  is done\n",
            "playstore  date of  2020-04-30  is done\n",
            "playstore  date of  2020-05-31  is done\n",
            "playstore  date of  2020-06-30  is done\n"
          ],
          "name": "stdout"
        },
        {
          "output_type": "error",
          "ename": "NameError",
          "evalue": "ignored",
          "traceback": [
            "\u001b[0;31m---------------------------------------------------------------------------\u001b[0m",
            "\u001b[0;31mNameError\u001b[0m                                 Traceback (most recent call last)",
            "\u001b[0;32m<ipython-input-10-7019295da95c>\u001b[0m in \u001b[0;36m<module>\u001b[0;34m()\u001b[0m\n\u001b[1;32m     20\u001b[0m \u001b[0;34m\u001b[0m\u001b[0m\n\u001b[1;32m     21\u001b[0m   \u001b[0;32mif\u001b[0m \u001b[0mkind\u001b[0m \u001b[0;34m==\u001b[0m \u001b[0;34m'playstore'\u001b[0m\u001b[0;34m:\u001b[0m\u001b[0;34m\u001b[0m\u001b[0;34m\u001b[0m\u001b[0m\n\u001b[0;32m---> 22\u001b[0;31m     \u001b[0mp_appRank_free_2020\u001b[0m\u001b[0;34m,\u001b[0m\u001b[0mp_appRank_pay_2020\u001b[0m\u001b[0;34m,\u001b[0m\u001b[0mp_sales_rank\u001b[0m \u001b[0;34m=\u001b[0m \u001b[0mseparateAppRank\u001b[0m\u001b[0;34m(\u001b[0m\u001b[0mappRank\u001b[0m\u001b[0;34m,\u001b[0m\u001b[0;36m2020\u001b[0m\u001b[0;34m)\u001b[0m\u001b[0;34m\u001b[0m\u001b[0;34m\u001b[0m\u001b[0m\n\u001b[0m\u001b[1;32m     23\u001b[0m     \u001b[0mprint\u001b[0m\u001b[0;34m(\u001b[0m\u001b[0;34m'sep is done'\u001b[0m\u001b[0;34m)\u001b[0m\u001b[0;34m\u001b[0m\u001b[0;34m\u001b[0m\u001b[0m\n\u001b[1;32m     24\u001b[0m     \u001b[0mp_appGenre_free_2020\u001b[0m\u001b[0;34m,\u001b[0m\u001b[0mp_appGenre_pay_2020\u001b[0m\u001b[0;34m,\u001b[0m\u001b[0mp_sales_genre\u001b[0m  \u001b[0;34m=\u001b[0m \u001b[0mseparateAppRank\u001b[0m\u001b[0;34m(\u001b[0m\u001b[0mappGenre\u001b[0m\u001b[0;34m,\u001b[0m\u001b[0;36m2020\u001b[0m\u001b[0;34m)\u001b[0m\u001b[0;34m\u001b[0m\u001b[0;34m\u001b[0m\u001b[0m\n",
            "\u001b[0;32m<ipython-input-5-83f4144d391f>\u001b[0m in \u001b[0;36mseparateAppRank\u001b[0;34m(rank, isYear)\u001b[0m\n\u001b[1;32m     47\u001b[0m     \u001b[0;31m#무료, 유료, 매출순위 존재\u001b[0m\u001b[0;34m\u001b[0m\u001b[0;34m\u001b[0m\u001b[0;34m\u001b[0m\u001b[0m\n\u001b[1;32m     48\u001b[0m     \u001b[0;32mfor\u001b[0m \u001b[0mj\u001b[0m \u001b[0;32min\u001b[0m \u001b[0mrange\u001b[0m\u001b[0;34m(\u001b[0m\u001b[0mlen\u001b[0m\u001b[0;34m(\u001b[0m\u001b[0mrank\u001b[0m\u001b[0;34m)\u001b[0m\u001b[0;34m)\u001b[0m\u001b[0;34m:\u001b[0m\u001b[0;34m\u001b[0m\u001b[0;34m\u001b[0m\u001b[0m\n\u001b[0;32m---> 49\u001b[0;31m       \u001b[0mfree_rank\u001b[0m\u001b[0;34m.\u001b[0m\u001b[0mappend\u001b[0m\u001b[0;34m(\u001b[0m\u001b[0mfree_rank_input\u001b[0m\u001b[0;34m)\u001b[0m\u001b[0;34m\u001b[0m\u001b[0;34m\u001b[0m\u001b[0m\n\u001b[0m\u001b[1;32m     50\u001b[0m       \u001b[0mpay_rank\u001b[0m\u001b[0;34m.\u001b[0m\u001b[0mappend\u001b[0m\u001b[0;34m(\u001b[0m\u001b[0mrank\u001b[0m\u001b[0;34m[\u001b[0m\u001b[0mj\u001b[0m\u001b[0;34m]\u001b[0m\u001b[0;34m[\u001b[0m\u001b[0;36m2\u001b[0m\u001b[0;34m:\u001b[0m\u001b[0;34m:\u001b[0m\u001b[0;36m3\u001b[0m\u001b[0;34m]\u001b[0m\u001b[0;34m)\u001b[0m\u001b[0;34m\u001b[0m\u001b[0;34m\u001b[0m\u001b[0m\n\u001b[1;32m     51\u001b[0m       \u001b[0msales_rank\u001b[0m\u001b[0;34m.\u001b[0m\u001b[0mappend\u001b[0m\u001b[0;34m(\u001b[0m\u001b[0mrank\u001b[0m\u001b[0;34m[\u001b[0m\u001b[0mj\u001b[0m\u001b[0;34m]\u001b[0m\u001b[0;34m[\u001b[0m\u001b[0;36m0\u001b[0m\u001b[0;34m:\u001b[0m\u001b[0;34m:\u001b[0m\u001b[0;36m3\u001b[0m\u001b[0;34m]\u001b[0m\u001b[0;34m)\u001b[0m\u001b[0;34m\u001b[0m\u001b[0;34m\u001b[0m\u001b[0m\n",
            "\u001b[0;31mNameError\u001b[0m: name 'free_rank_input' is not defined"
          ]
        }
      ]
    },
    {
      "cell_type": "code",
      "metadata": {
        "id": "J4bPIBhEB3Ji",
        "colab_type": "code",
        "colab": {}
      },
      "source": [
        "p_appRank_free = list()\n",
        "for i in range(len(p_appRank_free_2019)):\n",
        "  p_appRank_free.append(p_appRank_free_2019[i])\n",
        "  p_appRank_free.append(p_appGenre_free_2019[i])\n",
        "for i in range(len(p_appRank_free_2020)):\n",
        "  p_appRank_free.append(p_appRank_free_2020[i])\n",
        "  p_appRank_free.append(p_appGenre_free_2020[i])\n",
        "\n",
        "a_appRank_free = list()\n",
        "for i in range(len(a_appRank_free_2019)):\n",
        "  a_appRank_free.append(a_appRank_free_2019[i])\n",
        "  a_appRank_free.append(a_appGenre_free_2019[i])\n",
        "for i in range(len(a_appRank_free_2020)):\n",
        "  a_appRank_free.append(a_appRank_free_2020[i])\n",
        "  a_appRank_free.append(a_appGenre_free_2020[i])\n"
      ],
      "execution_count": 15,
      "outputs": []
    },
    {
      "cell_type": "code",
      "metadata": {
        "id": "2kfBfMicCUx4",
        "colab_type": "code",
        "colab": {}
      },
      "source": [
        "col = []\n",
        "for i in range(12):\n",
        "  col.append('19_'+str(i+1))\n",
        "  col.append('19_'+str(i+1)+'_gen')\n",
        "for i in range(6):\n",
        "  col.append('20_'+str(i+1))\n",
        "  col.append('20_'+str(i+1)+'_gen')\n",
        "\n",
        "appRank_free_playstore_df = pd.DataFrame(p_appRank_free)\n",
        "appRank_free_playstore_df = appRank_free_playstore_df.T\n",
        "appRank_free_playstore_df.columns = col\n",
        "appRank_free_playstore_df.to_csv('/content/gdrive/My Drive/dacon/appRank_free_playstore.csv', encoding='utf-8-sig')\n",
        "\n",
        "appRank_free_appstore_df = pd.DataFrame(a_appRank_free)\n",
        "appRank_free_appstore_df = appRank_free_appstore_df.T\n",
        "appRank_free_appstore_df.columns = col\n",
        "appRank_free_appstore_df.to_csv('/content/gdrive/My Drive/dacon/appRank_free_appstore.csv', encoding='utf-8-sig')"
      ],
      "execution_count": 18,
      "outputs": []
    },
    {
      "cell_type": "code",
      "metadata": {
        "id": "6rrTuGrhEJd3",
        "colab_type": "code",
        "colab": {}
      },
      "source": [
        "p_appRank_pay = list()\n",
        "for i in range(len(p_appRank_free_2019)):\n",
        "  p_appRank_pay.append(p_appRank_free_2019[i])\n",
        "  p_appRank_pay.append(p_appGenre_free_2019[i])\n",
        "for i in range(len(p_appRank_free_2020)):\n",
        "  p_appRank_pay.append(p_appRank_free_2020[i])\n",
        "  p_appRank_pay.append(p_appGenre_free_2020[i])\n",
        "\n",
        "a_appRank_pay = list()\n",
        "for i in range(len(a_appRank_pay_2019)):\n",
        "  a_appRank_pay.append(a_appRank_pay_2019[i])\n",
        "  a_appRank_pay.append(a_appGenre_pay_2019[i])\n",
        "for i in range(len(a_appRank_pay_2020)):\n",
        "  a_appRank_pay.append(a_appRank_pay_2020[i])\n",
        "  a_appRank_pay.append(a_appGenre_pay_2020[i])\n"
      ],
      "execution_count": 19,
      "outputs": []
    },
    {
      "cell_type": "code",
      "metadata": {
        "id": "nER-e_P8FwyI",
        "colab_type": "code",
        "colab": {}
      },
      "source": [
        "appRank_pay_playstore_df = pd.DataFrame(p_appRank_pay)\n",
        "appRank_pay_playstore_df = appRank_pay_playstore_df.T\n",
        "appRank_pay_playstore_df.columns = col\n",
        "appRank_pay_playstore_df.to_csv('/content/gdrive/My Drive/dacon/appRank_pay_playstore.csv', encoding='utf-8-sig')\n",
        "\n",
        "appRank_pay_appstore_df = pd.DataFrame(a_appRank_pay)\n",
        "appRank_pay_appstore_df = appRank_pay_appstore_df.T\n",
        "appRank_pay_appstore_df.columns = col\n",
        "appRank_pay_appstore_df.to_csv('/content/gdrive/My Drive/dacon/appRank_pay_appstore.csv', encoding='utf-8-sig')"
      ],
      "execution_count": 20,
      "outputs": []
    },
    {
      "cell_type": "code",
      "metadata": {
        "id": "aK0KgZc2F0Ot",
        "colab_type": "code",
        "colab": {}
      },
      "source": [
        "p_sales_r = list()\n",
        "for i in range(len(p_sales_rank)):\n",
        "  p_sales_r.append(p_sales_rank[i])\n",
        "  p_sales_r.append(p_sales_genre[i])\n",
        "\n",
        "a_sales_r = list()\n",
        "for i in range(len(a_sales_rank)):\n",
        "  a_sales_r.append(a_sales_rank[i])\n",
        "  a_sales_r.append(a_sales_genre[i])"
      ],
      "execution_count": 21,
      "outputs": []
    },
    {
      "cell_type": "code",
      "metadata": {
        "id": "ukW2MMFbF3GZ",
        "colab_type": "code",
        "colab": {}
      },
      "source": [
        "p_sales_rank_df = pd.DataFrame(p_sales_r)\n",
        "p_sales_rank_df = p_sales_rank_df.T\n",
        "p_sales_rank_df.columns = col[24:]\n",
        "p_sales_rank_df.to_csv('/content/gdrive/My Drive/app_sales_rank_playstore.csv', encoding='utf-8-sig')\n",
        "\n",
        "a_sales_rank_df = pd.DataFrame(a_sales_r)\n",
        "a_sales_rank_df = a_sales_rank_df.T\n",
        "a_sales_rank_df.columns = col[24:]\n",
        "a_sales_rank_df.to_csv('/content/gdrive/My Drive/app_sales_rank_appstore.csv', encoding='utf-8-sig')"
      ],
      "execution_count": 24,
      "outputs": []
    }
  ]
}