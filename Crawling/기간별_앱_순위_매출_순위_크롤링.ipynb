{
  "nbformat": 4,
  "nbformat_minor": 0,
  "metadata": {
    "colab": {
      "name": "날짜별 앱 순위 크롤링.ipynb",
      "provenance": [],
      "collapsed_sections": []
    },
    "kernelspec": {
      "name": "python3",
      "display_name": "Python 3"
    }
  },
  "cells": [
    {
      "cell_type": "code",
      "metadata": {
        "id": "m6KaU4-S1yYY",
        "colab_type": "code",
        "colab": {
          "base_uri": "https://localhost:8080/",
          "height": 125
        },
        "outputId": "b41bfad4-cdfb-4fb4-f321-05deccb0ff91"
      },
      "source": [
        "from google.colab import drive\n",
        "drive.mount('/content/gdrive')"
      ],
      "execution_count": 2,
      "outputs": [
        {
          "output_type": "stream",
          "text": [
            "Go to this URL in a browser: https://accounts.google.com/o/oauth2/auth?client_id=947318989803-6bn6qk8qdgf4n4g3pfee6491hc0brc4i.apps.googleusercontent.com&redirect_uri=urn%3aietf%3awg%3aoauth%3a2.0%3aoob&response_type=code&scope=email%20https%3a%2f%2fwww.googleapis.com%2fauth%2fdocs.test%20https%3a%2f%2fwww.googleapis.com%2fauth%2fdrive%20https%3a%2f%2fwww.googleapis.com%2fauth%2fdrive.photos.readonly%20https%3a%2f%2fwww.googleapis.com%2fauth%2fpeopleapi.readonly\n",
            "\n",
            "Enter your authorization code:\n",
            "··········\n",
            "Mounted at /content/gdrive\n"
          ],
          "name": "stdout"
        }
      ]
    },
    {
      "cell_type": "code",
      "metadata": {
        "id": "e0H4KXbU299w",
        "colab_type": "code",
        "colab": {
          "base_uri": "https://localhost:8080/",
          "height": 899
        },
        "outputId": "f8c7793b-7215-42ac-fbf7-c97544b4828d"
      },
      "source": [
        "!apt install chromium-chromedriver\n",
        "!pip install selenium\n",
        "\n",
        "from selenium import webdriver\n",
        "options = webdriver.ChromeOptions()\n",
        "options.add_argument('--headless')\n",
        "options.add_argument('--no-sandbox')\n",
        "options.add_argument('--disable-dev-shm-usage')"
      ],
      "execution_count": 3,
      "outputs": [
        {
          "output_type": "stream",
          "text": [
            "Reading package lists... Done\n",
            "Building dependency tree       \n",
            "Reading state information... Done\n",
            "The following package was automatically installed and is no longer required:\n",
            "  libnvidia-common-440\n",
            "Use 'apt autoremove' to remove it.\n",
            "The following additional packages will be installed:\n",
            "  chromium-browser chromium-browser-l10n chromium-codecs-ffmpeg-extra\n",
            "Suggested packages:\n",
            "  webaccounts-chromium-extension unity-chromium-extension adobe-flashplugin\n",
            "The following NEW packages will be installed:\n",
            "  chromium-browser chromium-browser-l10n chromium-chromedriver\n",
            "  chromium-codecs-ffmpeg-extra\n",
            "0 upgraded, 4 newly installed, 0 to remove and 35 not upgraded.\n",
            "Need to get 75.5 MB of archives.\n",
            "After this operation, 256 MB of additional disk space will be used.\n",
            "Get:1 http://archive.ubuntu.com/ubuntu bionic-updates/universe amd64 chromium-codecs-ffmpeg-extra amd64 83.0.4103.61-0ubuntu0.18.04.1 [1,119 kB]\n",
            "Get:2 http://archive.ubuntu.com/ubuntu bionic-updates/universe amd64 chromium-browser amd64 83.0.4103.61-0ubuntu0.18.04.1 [66.7 MB]\n",
            "Get:3 http://archive.ubuntu.com/ubuntu bionic-updates/universe amd64 chromium-browser-l10n all 83.0.4103.61-0ubuntu0.18.04.1 [3,378 kB]\n",
            "Get:4 http://archive.ubuntu.com/ubuntu bionic-updates/universe amd64 chromium-chromedriver amd64 83.0.4103.61-0ubuntu0.18.04.1 [4,294 kB]\n",
            "Fetched 75.5 MB in 3s (23.9 MB/s)\n",
            "Selecting previously unselected package chromium-codecs-ffmpeg-extra.\n",
            "(Reading database ... 144465 files and directories currently installed.)\n",
            "Preparing to unpack .../chromium-codecs-ffmpeg-extra_83.0.4103.61-0ubuntu0.18.04.1_amd64.deb ...\n",
            "Unpacking chromium-codecs-ffmpeg-extra (83.0.4103.61-0ubuntu0.18.04.1) ...\n",
            "Selecting previously unselected package chromium-browser.\n",
            "Preparing to unpack .../chromium-browser_83.0.4103.61-0ubuntu0.18.04.1_amd64.deb ...\n",
            "Unpacking chromium-browser (83.0.4103.61-0ubuntu0.18.04.1) ...\n",
            "Selecting previously unselected package chromium-browser-l10n.\n",
            "Preparing to unpack .../chromium-browser-l10n_83.0.4103.61-0ubuntu0.18.04.1_all.deb ...\n",
            "Unpacking chromium-browser-l10n (83.0.4103.61-0ubuntu0.18.04.1) ...\n",
            "Selecting previously unselected package chromium-chromedriver.\n",
            "Preparing to unpack .../chromium-chromedriver_83.0.4103.61-0ubuntu0.18.04.1_amd64.deb ...\n",
            "Unpacking chromium-chromedriver (83.0.4103.61-0ubuntu0.18.04.1) ...\n",
            "Setting up chromium-codecs-ffmpeg-extra (83.0.4103.61-0ubuntu0.18.04.1) ...\n",
            "Setting up chromium-browser (83.0.4103.61-0ubuntu0.18.04.1) ...\n",
            "update-alternatives: using /usr/bin/chromium-browser to provide /usr/bin/x-www-browser (x-www-browser) in auto mode\n",
            "update-alternatives: using /usr/bin/chromium-browser to provide /usr/bin/gnome-www-browser (gnome-www-browser) in auto mode\n",
            "Setting up chromium-chromedriver (83.0.4103.61-0ubuntu0.18.04.1) ...\n",
            "Setting up chromium-browser-l10n (83.0.4103.61-0ubuntu0.18.04.1) ...\n",
            "Processing triggers for hicolor-icon-theme (0.17-2) ...\n",
            "Processing triggers for mime-support (3.60ubuntu1) ...\n",
            "Processing triggers for man-db (2.8.3-2ubuntu0.1) ...\n",
            "Collecting selenium\n",
            "\u001b[?25l  Downloading https://files.pythonhosted.org/packages/80/d6/4294f0b4bce4de0abf13e17190289f9d0613b0a44e5dd6a7f5ca98459853/selenium-3.141.0-py2.py3-none-any.whl (904kB)\n",
            "\u001b[K     |████████████████████████████████| 911kB 2.8MB/s \n",
            "\u001b[?25hRequirement already satisfied: urllib3 in /usr/local/lib/python3.6/dist-packages (from selenium) (1.24.3)\n",
            "Installing collected packages: selenium\n",
            "Successfully installed selenium-3.141.0\n"
          ],
          "name": "stdout"
        }
      ]
    },
    {
      "cell_type": "code",
      "metadata": {
        "id": "lUDJtJWz1oSo",
        "colab_type": "code",
        "colab": {}
      },
      "source": [
        "from bs4 import BeautifulSoup\n",
        "import pandas as pd\n",
        "\n",
        "def makeUrl(dateList,i, kinds):\n",
        "  if kinds == 'playstore': \n",
        "    url = 'https://www.mobileindex.com/app/get_rank_all?rt=r&mk=2&c=kr&t=app&rs=100&d=' + dateList[i]\n",
        "  else:\n",
        "    url = 'https://www.mobileindex.com/app/get_rank_all?rt=r&mk=1&c=kr&t=app&rs=100&d=' + dateList[i]\n",
        "  return url\n",
        "\n",
        "def separateAppRank(rank,isYear):\n",
        "  free_rank = []\n",
        "  pay_rank = []\n",
        "  sales_rank = []\n",
        "  if isYear == 2019:\n",
        "    #무료, 유료 순위만 존재\n",
        "    for j in range(len(rank)):\n",
        "      free_rank_input = []\n",
        "      pay_rank_input = []\n",
        "      for i in range(len(rank[0])):\n",
        "        if i % 2 == 1: \n",
        "          free_rank_input.append(rank[j][i])\n",
        "        else:\n",
        "          pay_rank_input.append(rank[j][i])\n",
        "      free_rank.append(free_rank_input)\n",
        "      pay_rank.append(pay_rank_input)\n",
        "    return [free_rank, pay_rank]\n",
        "  else:\n",
        "    #무료, 유료, 매출순위 존재\n",
        "    for j in range(len(rank)):\n",
        "      free_rank_input = []\n",
        "      pay_rank_input = []\n",
        "      sales_input = []\n",
        "      for i in range(len(rank[0])):\n",
        "        if i%3 == 1:\n",
        "          free_rank_input.append(rank[j][i])\n",
        "        elif i%3 == 2:\n",
        "          pay_rank_input.append(rank[j][i])\n",
        "        else:\n",
        "          sales_input.append(rank[j][i])\n",
        "      free_rank.append(free_rank_input)\n",
        "      pay_rank.append(pay_rank_input)\n",
        "      sales_rank.append(sales_input)\n",
        "    return [free_rank, pay_rank, sales_rank]\n",
        "\n",
        "\n",
        "def getAppRank(url, year):\n",
        "  driver = webdriver.Chrome('chromedriver',options=options)\n",
        "  driver.get(url)\n",
        "  driver.implicitly_wait(3)\n",
        "\n",
        "  html = driver.page_source\n",
        "  soup = BeautifulSoup(html, 'html.parser')\n",
        "  notices = soup.select('span.appname')\n",
        "  \n",
        "  tmp = []\n",
        "  for n in notices:\n",
        "    tmp.append(n.text.strip())\n",
        "  return tmp"
      ],
      "execution_count": 9,
      "outputs": []
    },
    {
      "cell_type": "code",
      "metadata": {
        "id": "ziEaCLpH8D2F",
        "colab_type": "code",
        "colab": {}
      },
      "source": [
        "#2019\n",
        "appRank = []\n",
        "date_2019 = ['2019-01-01','2019-02-01','2019-03-01','2019-04-01','2019-05-01','2019-06-01']\n",
        "date_size = len(date_2019)\n",
        "kinds = ['playstore','appstore']\n",
        "\n",
        "p_appRank_free_2019 = []\n",
        "p_appRank_pay_2019 = []\n",
        "a_appRank_free_2019 = []\n",
        "a_appRank_pay_2019 = []\n",
        "\n",
        "for kind in kinds:\n",
        "  appRank = []\n",
        "  for i in range(date_size):\n",
        "    url = makeUrl(date_2019,i,kind)\n",
        "    tmp = getAppRank(url,2019)\n",
        "    appRank.append(tmp)\n",
        "\n",
        "  sep = separateAppRank(appRank,2019)\n",
        "  if kind == 'playstore': \n",
        "    p_appRank_free_2019 = sep[0]\n",
        "    p_appRank_pay_2019 = sep[1]\n",
        "  else:\n",
        "    a_appRank_free_2019 = sep[0]\n",
        "    a_appRank_pay_2019 = sep[1]"
      ],
      "execution_count": 33,
      "outputs": []
    },
    {
      "cell_type": "code",
      "metadata": {
        "id": "vINwb2rR9ngf",
        "colab_type": "code",
        "colab": {}
      },
      "source": [
        "#2020\n",
        "appRank = []\n",
        "date_2020 = ['2020-01-01','2020-02-01','2020-03-01','2020-04-01','2020-05-01','2020-06-01']\n",
        "date_size = len(date_2020)\n",
        "kinds = ['playstore','appstore']\n",
        "\n",
        "p_sales_rank = []\n",
        "a_sales_rank = []\n",
        "p_appRank_free_2020 = []\n",
        "p_appRank_pay_2020 = []\n",
        "a_appRank_free_2020 = []\n",
        "a_appRank_pay_2020 = []\n",
        "\n",
        "for kind in kinds:\n",
        "  appRank = []\n",
        "  for i in range(date_size):\n",
        "    url = makeUrl(date_2020,i,kind)\n",
        "    tmp = getAppRank(url,2020)\n",
        "    appRank.append(tmp)\n",
        "\n",
        "  sep = separateAppRank(appRank,2020)\n",
        "\n",
        "  if kind == 'playstore':\n",
        "    p_appRank_free_2020 = sep[0]\n",
        "    p_appRank_pay_2020 = sep[1]\n",
        "    p_sales_rank = sep[2]\n",
        "  else:\n",
        "    a_appRank_free_2020 = sep[0]\n",
        "    a_appRank_pay_2020 = sep[1]\n",
        "    a_sales_rank = sep[2]"
      ],
      "execution_count": 20,
      "outputs": []
    },
    {
      "cell_type": "code",
      "metadata": {
        "id": "srgsAK7LwGXL",
        "colab_type": "code",
        "colab": {
          "base_uri": "https://localhost:8080/",
          "height": 34
        },
        "outputId": "488e6962-7239-4370-bb30-e0ffcb82adc2"
      },
      "source": [
        "k = []\n",
        "a = [[1],[2]]\n",
        "for item in a:\n",
        "  k.append(item)\n",
        "print(k)"
      ],
      "execution_count": 39,
      "outputs": [
        {
          "output_type": "stream",
          "text": [
            "[[1], [2]]\n"
          ],
          "name": "stdout"
        }
      ]
    },
    {
      "cell_type": "code",
      "metadata": {
        "id": "wffK0iiAv92q",
        "colab_type": "code",
        "colab": {}
      },
      "source": [
        "p_appRank_free = list()\n",
        "for item in p_appRank_free_2019:\n",
        "  p_appRank_free.append(item)\n",
        "\n",
        "for item in p_appRank_free_2020:\n",
        "  p_appRank_free.append(item)\n",
        "\n",
        "\n",
        "a_appRank_free = list()\n",
        "for item in a_appRank_free_2019:\n",
        "  a_appRank_free.append(item)\n",
        "\n",
        "for item in a_appRank_free_2020:\n",
        "  a_appRank_free.append(item)"
      ],
      "execution_count": 40,
      "outputs": []
    },
    {
      "cell_type": "code",
      "metadata": {
        "id": "X_vIkVOwFBOK",
        "colab_type": "code",
        "colab": {}
      },
      "source": [
        "appRank_free_playstore_df = pd.DataFrame(p_appRank_free)\n",
        "appRank_free_playstore_df = appRank_free_playstore_df.T\n",
        "appRank_free_playstore_df.columns = ['2019-01-01','2019-02-01','2019-03-01','2019-04-01','2019-05-01','2019-06-01','2020-01-01','2020-02-01','2020-03-01','2020-04-01','2020-05-01','2020-06-01']\n",
        "appRank_free_playstore_df.to_csv('/content/gdrive/My Drive/dacon/appRank_free_playstore.csv', encoding='utf-8-sig')\n",
        "\n",
        "appRank_free_appstore_df = pd.DataFrame(a_appRank_free)\n",
        "appRank_free_appstore_df = appRank_free_appstore_df.T\n",
        "appRank_free_appstore_df.columns = ['2019-01-01','2019-02-01','2019-03-01','2019-04-01','2019-05-01','2019-06-01','2020-01-01','2020-02-01','2020-03-01','2020-04-01','2020-05-01','2020-06-01']\n",
        "appRank_free_appstore_df.to_csv('/content/gdrive/My Drive/dacon/appRank_free_appstore.csv', encoding='utf-8-sig')"
      ],
      "execution_count": 42,
      "outputs": []
    },
    {
      "cell_type": "code",
      "metadata": {
        "id": "cEXmzheXwoSh",
        "colab_type": "code",
        "colab": {}
      },
      "source": [
        "p_appRank_pay = list()\n",
        "for item in p_appRank_pay_2019:\n",
        "  p_appRank_pay.append(item)\n",
        "\n",
        "for item in p_appRank_pay_2020:\n",
        "  p_appRank_pay.append(item)\n",
        "\n",
        "\n",
        "a_appRank_pay = list()\n",
        "for item in a_appRank_pay_2019:\n",
        "  a_appRank_pay.append(item)\n",
        "\n",
        "for item in a_appRank_pay_2020:\n",
        "  a_appRank_pay.append(item)"
      ],
      "execution_count": 43,
      "outputs": []
    },
    {
      "cell_type": "code",
      "metadata": {
        "id": "rahtnv4KFHtR",
        "colab_type": "code",
        "colab": {}
      },
      "source": [
        "appRank_pay_playstore_df = pd.DataFrame(p_appRank_pay)\n",
        "appRank_pay_playstore_df = appRank_pay_playstore_df.T\n",
        "appRank_pay_playstore_df.columns = ['2019-01-01','2019-02-01','2019-03-01','2019-04-01','2019-05-01','2019-06-01','2020-01-01','2020-02-01','2020-03-01','2020-04-01','2020-05-01','2020-06-01']\n",
        "appRank_pay_playstore_df.to_csv('/content/gdrive/My Drive/dacon/appRank_pay_playstore.csv', encoding='utf-8-sig')\n",
        "\n",
        "appRank_pay_appstore_df = pd.DataFrame(a_appRank_pay)\n",
        "appRank_pay_appstore_df = appRank_pay_appstore_df.T\n",
        "appRank_pay_appstore_df.columns = ['2019-01-01','2019-02-01','2019-03-01','2019-04-01','2019-05-01','2019-06-01','2020-01-01','2020-02-01','2020-03-01','2020-04-01','2020-05-01','2020-06-01']\n",
        "appRank_pay_appstore_df.to_csv('/content/gdrive/My Drive/dacon/appRank_pay_appstore.csv', encoding='utf-8-sig')"
      ],
      "execution_count": 44,
      "outputs": []
    },
    {
      "cell_type": "code",
      "metadata": {
        "id": "DyxnVPyPFl4O",
        "colab_type": "code",
        "colab": {}
      },
      "source": [
        "p_sales_rank_df = pd.DataFrame(p_sales_rank)\n",
        "p_sales_rank_df = p_sales_rank_df.T\n",
        "p_sales_rank_df.columns = ['2020-01-01','2020-02-01','2020-03-01','2020-04-01','2020-05-01','2020-06-01']\n",
        "p_sales_rank_df.to_csv('/content/gdrive/My Drive/dacon/app_sales_rank_playstore.csv', encoding='utf-8-sig')\n",
        "\n",
        "a_sales_rank_df = pd.DataFrame(a_sales_rank)\n",
        "a_sales_rank_df = a_sales_rank_df.T\n",
        "a_sales_rank_df.columns = ['2020-01-01','2020-02-01','2020-03-01','2020-04-01','2020-05-01','2020-06-01']\n",
        "a_sales_rank_df.to_csv('/content/gdrive/My Drive/dacon/app_sales_rank_appstore.csv', encoding='utf-8-sig')"
      ],
      "execution_count": 50,
      "outputs": []
    }
  ]
}