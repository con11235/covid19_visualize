{
  "nbformat": 4,
  "nbformat_minor": 0,
  "metadata": {
    "colab": {
      "name": "앱 장르 구하기_진행중.ipynb",
      "provenance": []
    },
    "kernelspec": {
      "name": "python3",
      "display_name": "Python 3"
    }
  },
  "cells": [
    {
      "cell_type": "code",
      "metadata": {
        "id": "sFXNuGLmodJJ",
        "colab_type": "code",
        "colab": {
          "base_uri": "https://localhost:8080/",
          "height": 35
        },
        "outputId": "42fd7f63-4d8a-4409-abda-1388b4c6a62d"
      },
      "source": [
        "from google.colab import drive\n",
        "drive.mount('/content/gdrive')"
      ],
      "execution_count": 5,
      "outputs": [
        {
          "output_type": "stream",
          "text": [
            "Drive already mounted at /content/gdrive; to attempt to forcibly remount, call drive.mount(\"/content/gdrive\", force_remount=True).\n"
          ],
          "name": "stdout"
        }
      ]
    },
    {
      "cell_type": "code",
      "metadata": {
        "id": "1IMAVTWnoeAK",
        "colab_type": "code",
        "colab": {
          "base_uri": "https://localhost:8080/",
          "height": 195
        },
        "outputId": "28d3fba8-82d8-4e73-8696-865741f4182a"
      },
      "source": [
        "!apt install chromium-chromedriver\n",
        "!pip install selenium\n",
        "\n",
        "from selenium import webdriver\n",
        "options = webdriver.ChromeOptions()\n",
        "options.add_argument('--headless')\n",
        "options.add_argument('--no-sandbox')\n",
        "options.add_argument('--disable-dev-shm-usage')"
      ],
      "execution_count": 6,
      "outputs": [
        {
          "output_type": "stream",
          "text": [
            "Reading package lists... Done\n",
            "Building dependency tree       \n",
            "Reading state information... Done\n",
            "chromium-chromedriver is already the newest version (83.0.4103.61-0ubuntu0.18.04.1).\n",
            "The following package was automatically installed and is no longer required:\n",
            "  libnvidia-common-440\n",
            "Use 'apt autoremove' to remove it.\n",
            "0 upgraded, 0 newly installed, 0 to remove and 35 not upgraded.\n",
            "Requirement already satisfied: selenium in /usr/local/lib/python3.6/dist-packages (3.141.0)\n",
            "Requirement already satisfied: urllib3 in /usr/local/lib/python3.6/dist-packages (from selenium) (1.24.3)\n"
          ],
          "name": "stdout"
        }
      ]
    },
    {
      "cell_type": "code",
      "metadata": {
        "id": "wCOLFFNrolb4",
        "colab_type": "code",
        "colab": {}
      },
      "source": [
        "from bs4 import BeautifulSoup\n",
        "import pandas as pd\n",
        "\n",
        "genre_dic = {}\n",
        "\n",
        "def makeUrl(dateList,i, kinds):\n",
        "  if kinds == 'playstore': \n",
        "    url = 'https://www.mobileindex.com/app/get_rank_all?rt=r&mk=2&c=kr&t=app&rs=100&d=' + dateList[i]\n",
        "  else:\n",
        "    url = 'https://www.mobileindex.com/app/get_rank_all?rt=r&mk=1&c=kr&t=app&rs=100&d=' + dateList[i]\n",
        "  return url\n",
        "\n",
        "def getGenreUrl(url):\n",
        "  driver = webdriver.Chrome('chromedriver',options=options)\n",
        "  driver.get(url)\n",
        "  driver.implicitly_wait(3)\n",
        "\n",
        "  html = driver.page_source\n",
        "  soup = BeautifulSoup(html, 'html.parser')\n",
        "  genreURL = soup.select('div.item-info > a')\n",
        "  return genreURL\n",
        "\n",
        "def get_genre(url,appname):\n",
        "  if appname in genre_dic:\n",
        "    return genre_dic[appname]\n",
        "  dr = webdriver.Chrome('chromedriver',options=options)\n",
        "  dr.get(url)\n",
        "  dr.implicitly_wait(3)\n",
        "  ht = dr.page_source\n",
        "  so = BeautifulSoup(ht, 'html.parser')\n",
        "  genre = so.select('tr.text-center')[0].text\n",
        "  index = genre.find('2')\n",
        "  genre_dic[appname] = genre[13:(index-1)]\n",
        "  return genre[13:(index-1)]\n",
        "\n",
        "def separateAppRank(rank,isYear):\n",
        "  free_rank = []\n",
        "  pay_rank = []\n",
        "  sales_rank = []\n",
        "  if isYear == 2019:\n",
        "    #무료, 유료 순위만 존재\n",
        "    for j in range(len(rank)):\n",
        "      free_rank.append(rank[j][1::2])\n",
        "      pay_rank.append(rank[j][0::2])\n",
        "    return [free_rank, pay_rank]\n",
        "  else:\n",
        "    #무료, 유료, 매출순위 존재\n",
        "    for j in range(len(rank)):\n",
        "      free_rank.append(free_rank_input)\n",
        "      pay_rank.append(rank[j][2::3])\n",
        "      sales_rank.append(rank[j][0::3])\n",
        "    return [free_rank, pay_rank, sales_rank]\n",
        "\n",
        "\n",
        "def getAppRank(url, year):\n",
        "  driver = webdriver.Chrome('chromedriver',options=options)\n",
        "  driver.get(url)\n",
        "  driver.implicitly_wait(3)\n",
        "\n",
        "  html = driver.page_source\n",
        "  soup = BeautifulSoup(html, 'html.parser')\n",
        "  notices = soup.select('span.appname')\n",
        "  \n",
        "  tmp = []\n",
        "  for n in notices:\n",
        "    tmp.append(n.text.strip())\n",
        "  return tmp"
      ],
      "execution_count": 7,
      "outputs": []
    },
    {
      "cell_type": "code",
      "metadata": {
        "id": "fOxd0uJ3o3qB",
        "colab_type": "code",
        "colab": {
          "base_uri": "https://localhost:8080/",
          "height": 425
        },
        "outputId": "22742e83-1d5b-42d2-dcb3-dca77c91035f"
      },
      "source": [
        "#2019\n",
        "appRank = []\n",
        "date_2019 = ['2019-01-01']#,'2019-02-01','2019-03-01','2019-04-01','2019-05-01','2019-06-01','2019-07-01','2019-08-01','2019-09-01','2019-10-01','2019-11-01','2019-12-01']\n",
        "date_size = len(date_2019)\n",
        "kinds = ['playstore','appstore']\n",
        "\n",
        "p_appRank_free_2019 = []\n",
        "p_appRank_pay_2019 = []\n",
        "a_appRank_free_2019 = []\n",
        "a_appRank_pay_2019 = []\n",
        "\n",
        "for kind in kinds:\n",
        "  appRank = []\n",
        "  appGenre = []\n",
        "  for i in range(date_size):\n",
        "    url = makeUrl(date_2019,i,kind)\n",
        "    tmp = getAppRank(url,2019)\n",
        "    appRank.append(tmp)\n",
        "    genreURL = getGenreUrl(url)\n",
        "    genreList = list()\n",
        "    for j in range(len(genreURL)):\n",
        "      genreList.append(get_genre('https://www.mobileindex.com/'+genreURL[j]['href'],tmp[j]))\n",
        "    appGenre.append(genreList)\n",
        "    print(kind,' data of ',date_2019[i],' is done')\n",
        "\n",
        "  sep = separateAppRank(appRank,2019)\n",
        "  print('sep is done')\n",
        "  sep2 = separateAppRank(appGenre,2019)\n",
        "  print('sep2 is done')\n",
        "  if kind == 'playstore': \n",
        "    p_appRank_free_2019 = sep[0]\n",
        "    p_appRank_pay_2019 = sep[1]\n",
        "    p_appGenre_free_2019 = sep2[0]\n",
        "    p_appGenre_pay_2019 = sep2[1]\n",
        "  else:\n",
        "    a_appRank_free_2019 = sep[0]\n",
        "    a_appRank_pay_2019 = sep[1]\n",
        "    a_appGenre_free_2019 = sep2[0]\n",
        "    a_appGenre_pay_2019 = sep2[1]"
      ],
      "execution_count": 8,
      "outputs": [
        {
          "output_type": "error",
          "ename": "WebDriverException",
          "evalue": "ignored",
          "traceback": [
            "\u001b[0;31m---------------------------------------------------------------------------\u001b[0m",
            "\u001b[0;31mWebDriverException\u001b[0m                        Traceback (most recent call last)",
            "\u001b[0;32m<ipython-input-8-83ebaabfe23d>\u001b[0m in \u001b[0;36m<module>\u001b[0;34m()\u001b[0m\n\u001b[1;32m     20\u001b[0m     \u001b[0mgenreList\u001b[0m \u001b[0;34m=\u001b[0m \u001b[0mlist\u001b[0m\u001b[0;34m(\u001b[0m\u001b[0;34m)\u001b[0m\u001b[0;34m\u001b[0m\u001b[0;34m\u001b[0m\u001b[0m\n\u001b[1;32m     21\u001b[0m     \u001b[0;32mfor\u001b[0m \u001b[0mj\u001b[0m \u001b[0;32min\u001b[0m \u001b[0mrange\u001b[0m\u001b[0;34m(\u001b[0m\u001b[0mlen\u001b[0m\u001b[0;34m(\u001b[0m\u001b[0mgenreURL\u001b[0m\u001b[0;34m)\u001b[0m\u001b[0;34m)\u001b[0m\u001b[0;34m:\u001b[0m\u001b[0;34m\u001b[0m\u001b[0;34m\u001b[0m\u001b[0m\n\u001b[0;32m---> 22\u001b[0;31m       \u001b[0mgenreList\u001b[0m\u001b[0;34m.\u001b[0m\u001b[0mappend\u001b[0m\u001b[0;34m(\u001b[0m\u001b[0mget_genre\u001b[0m\u001b[0;34m(\u001b[0m\u001b[0;34m'https://www.mobileindex.com/'\u001b[0m\u001b[0;34m+\u001b[0m\u001b[0mgenreURL\u001b[0m\u001b[0;34m[\u001b[0m\u001b[0mj\u001b[0m\u001b[0;34m]\u001b[0m\u001b[0;34m[\u001b[0m\u001b[0;34m'href'\u001b[0m\u001b[0;34m]\u001b[0m\u001b[0;34m,\u001b[0m\u001b[0mtmp\u001b[0m\u001b[0;34m[\u001b[0m\u001b[0mj\u001b[0m\u001b[0;34m]\u001b[0m\u001b[0;34m)\u001b[0m\u001b[0;34m)\u001b[0m\u001b[0;34m\u001b[0m\u001b[0;34m\u001b[0m\u001b[0m\n\u001b[0m\u001b[1;32m     23\u001b[0m     \u001b[0mappGenre\u001b[0m\u001b[0;34m.\u001b[0m\u001b[0mappend\u001b[0m\u001b[0;34m(\u001b[0m\u001b[0mgenreList\u001b[0m\u001b[0;34m)\u001b[0m\u001b[0;34m\u001b[0m\u001b[0;34m\u001b[0m\u001b[0m\n\u001b[1;32m     24\u001b[0m     \u001b[0mprint\u001b[0m\u001b[0;34m(\u001b[0m\u001b[0mkind\u001b[0m\u001b[0;34m,\u001b[0m\u001b[0;34m' data of '\u001b[0m\u001b[0;34m,\u001b[0m\u001b[0mdate_2019\u001b[0m\u001b[0;34m[\u001b[0m\u001b[0mi\u001b[0m\u001b[0;34m]\u001b[0m\u001b[0;34m,\u001b[0m\u001b[0;34m' is done'\u001b[0m\u001b[0;34m)\u001b[0m\u001b[0;34m\u001b[0m\u001b[0;34m\u001b[0m\u001b[0m\n",
            "\u001b[0;32m<ipython-input-7-e588fb1be4cc>\u001b[0m in \u001b[0;36mget_genre\u001b[0;34m(url, appname)\u001b[0m\n\u001b[1;32m     24\u001b[0m   \u001b[0;32mif\u001b[0m \u001b[0mappname\u001b[0m \u001b[0;32min\u001b[0m \u001b[0mgenre_dic\u001b[0m\u001b[0;34m:\u001b[0m\u001b[0;34m\u001b[0m\u001b[0;34m\u001b[0m\u001b[0m\n\u001b[1;32m     25\u001b[0m     \u001b[0;32mreturn\u001b[0m \u001b[0mgenre_dic\u001b[0m\u001b[0;34m[\u001b[0m\u001b[0mappname\u001b[0m\u001b[0;34m]\u001b[0m\u001b[0;34m\u001b[0m\u001b[0;34m\u001b[0m\u001b[0m\n\u001b[0;32m---> 26\u001b[0;31m   \u001b[0mdr\u001b[0m \u001b[0;34m=\u001b[0m \u001b[0mwebdriver\u001b[0m\u001b[0;34m.\u001b[0m\u001b[0mChrome\u001b[0m\u001b[0;34m(\u001b[0m\u001b[0;34m'chromedriver'\u001b[0m\u001b[0;34m,\u001b[0m\u001b[0moptions\u001b[0m\u001b[0;34m=\u001b[0m\u001b[0moptions\u001b[0m\u001b[0;34m)\u001b[0m\u001b[0;34m\u001b[0m\u001b[0;34m\u001b[0m\u001b[0m\n\u001b[0m\u001b[1;32m     27\u001b[0m   \u001b[0mdr\u001b[0m\u001b[0;34m.\u001b[0m\u001b[0mget\u001b[0m\u001b[0;34m(\u001b[0m\u001b[0murl\u001b[0m\u001b[0;34m)\u001b[0m\u001b[0;34m\u001b[0m\u001b[0;34m\u001b[0m\u001b[0m\n\u001b[1;32m     28\u001b[0m   \u001b[0mdr\u001b[0m\u001b[0;34m.\u001b[0m\u001b[0mimplicitly_wait\u001b[0m\u001b[0;34m(\u001b[0m\u001b[0;36m3\u001b[0m\u001b[0;34m)\u001b[0m\u001b[0;34m\u001b[0m\u001b[0;34m\u001b[0m\u001b[0m\n",
            "\u001b[0;32m/usr/local/lib/python3.6/dist-packages/selenium/webdriver/chrome/webdriver.py\u001b[0m in \u001b[0;36m__init__\u001b[0;34m(self, executable_path, port, options, service_args, desired_capabilities, service_log_path, chrome_options, keep_alive)\u001b[0m\n\u001b[1;32m     79\u001b[0m                     \u001b[0mremote_server_addr\u001b[0m\u001b[0;34m=\u001b[0m\u001b[0mself\u001b[0m\u001b[0;34m.\u001b[0m\u001b[0mservice\u001b[0m\u001b[0;34m.\u001b[0m\u001b[0mservice_url\u001b[0m\u001b[0;34m,\u001b[0m\u001b[0;34m\u001b[0m\u001b[0;34m\u001b[0m\u001b[0m\n\u001b[1;32m     80\u001b[0m                     keep_alive=keep_alive),\n\u001b[0;32m---> 81\u001b[0;31m                 desired_capabilities=desired_capabilities)\n\u001b[0m\u001b[1;32m     82\u001b[0m         \u001b[0;32mexcept\u001b[0m \u001b[0mException\u001b[0m\u001b[0;34m:\u001b[0m\u001b[0;34m\u001b[0m\u001b[0;34m\u001b[0m\u001b[0m\n\u001b[1;32m     83\u001b[0m             \u001b[0mself\u001b[0m\u001b[0;34m.\u001b[0m\u001b[0mquit\u001b[0m\u001b[0;34m(\u001b[0m\u001b[0;34m)\u001b[0m\u001b[0;34m\u001b[0m\u001b[0;34m\u001b[0m\u001b[0m\n",
            "\u001b[0;32m/usr/local/lib/python3.6/dist-packages/selenium/webdriver/remote/webdriver.py\u001b[0m in \u001b[0;36m__init__\u001b[0;34m(self, command_executor, desired_capabilities, browser_profile, proxy, keep_alive, file_detector, options)\u001b[0m\n\u001b[1;32m    155\u001b[0m             warnings.warn(\"Please use FirefoxOptions to set browser profile\",\n\u001b[1;32m    156\u001b[0m                           DeprecationWarning, stacklevel=2)\n\u001b[0;32m--> 157\u001b[0;31m         \u001b[0mself\u001b[0m\u001b[0;34m.\u001b[0m\u001b[0mstart_session\u001b[0m\u001b[0;34m(\u001b[0m\u001b[0mcapabilities\u001b[0m\u001b[0;34m,\u001b[0m \u001b[0mbrowser_profile\u001b[0m\u001b[0;34m)\u001b[0m\u001b[0;34m\u001b[0m\u001b[0;34m\u001b[0m\u001b[0m\n\u001b[0m\u001b[1;32m    158\u001b[0m         \u001b[0mself\u001b[0m\u001b[0;34m.\u001b[0m\u001b[0m_switch_to\u001b[0m \u001b[0;34m=\u001b[0m \u001b[0mSwitchTo\u001b[0m\u001b[0;34m(\u001b[0m\u001b[0mself\u001b[0m\u001b[0;34m)\u001b[0m\u001b[0;34m\u001b[0m\u001b[0;34m\u001b[0m\u001b[0m\n\u001b[1;32m    159\u001b[0m         \u001b[0mself\u001b[0m\u001b[0;34m.\u001b[0m\u001b[0m_mobile\u001b[0m \u001b[0;34m=\u001b[0m \u001b[0mMobile\u001b[0m\u001b[0;34m(\u001b[0m\u001b[0mself\u001b[0m\u001b[0;34m)\u001b[0m\u001b[0;34m\u001b[0m\u001b[0;34m\u001b[0m\u001b[0m\n",
            "\u001b[0;32m/usr/local/lib/python3.6/dist-packages/selenium/webdriver/remote/webdriver.py\u001b[0m in \u001b[0;36mstart_session\u001b[0;34m(self, capabilities, browser_profile)\u001b[0m\n\u001b[1;32m    250\u001b[0m         parameters = {\"capabilities\": w3c_caps,\n\u001b[1;32m    251\u001b[0m                       \"desiredCapabilities\": capabilities}\n\u001b[0;32m--> 252\u001b[0;31m         \u001b[0mresponse\u001b[0m \u001b[0;34m=\u001b[0m \u001b[0mself\u001b[0m\u001b[0;34m.\u001b[0m\u001b[0mexecute\u001b[0m\u001b[0;34m(\u001b[0m\u001b[0mCommand\u001b[0m\u001b[0;34m.\u001b[0m\u001b[0mNEW_SESSION\u001b[0m\u001b[0;34m,\u001b[0m \u001b[0mparameters\u001b[0m\u001b[0;34m)\u001b[0m\u001b[0;34m\u001b[0m\u001b[0;34m\u001b[0m\u001b[0m\n\u001b[0m\u001b[1;32m    253\u001b[0m         \u001b[0;32mif\u001b[0m \u001b[0;34m'sessionId'\u001b[0m \u001b[0;32mnot\u001b[0m \u001b[0;32min\u001b[0m \u001b[0mresponse\u001b[0m\u001b[0;34m:\u001b[0m\u001b[0;34m\u001b[0m\u001b[0;34m\u001b[0m\u001b[0m\n\u001b[1;32m    254\u001b[0m             \u001b[0mresponse\u001b[0m \u001b[0;34m=\u001b[0m \u001b[0mresponse\u001b[0m\u001b[0;34m[\u001b[0m\u001b[0;34m'value'\u001b[0m\u001b[0;34m]\u001b[0m\u001b[0;34m\u001b[0m\u001b[0;34m\u001b[0m\u001b[0m\n",
            "\u001b[0;32m/usr/local/lib/python3.6/dist-packages/selenium/webdriver/remote/webdriver.py\u001b[0m in \u001b[0;36mexecute\u001b[0;34m(self, driver_command, params)\u001b[0m\n\u001b[1;32m    319\u001b[0m         \u001b[0mresponse\u001b[0m \u001b[0;34m=\u001b[0m \u001b[0mself\u001b[0m\u001b[0;34m.\u001b[0m\u001b[0mcommand_executor\u001b[0m\u001b[0;34m.\u001b[0m\u001b[0mexecute\u001b[0m\u001b[0;34m(\u001b[0m\u001b[0mdriver_command\u001b[0m\u001b[0;34m,\u001b[0m \u001b[0mparams\u001b[0m\u001b[0;34m)\u001b[0m\u001b[0;34m\u001b[0m\u001b[0;34m\u001b[0m\u001b[0m\n\u001b[1;32m    320\u001b[0m         \u001b[0;32mif\u001b[0m \u001b[0mresponse\u001b[0m\u001b[0;34m:\u001b[0m\u001b[0;34m\u001b[0m\u001b[0;34m\u001b[0m\u001b[0m\n\u001b[0;32m--> 321\u001b[0;31m             \u001b[0mself\u001b[0m\u001b[0;34m.\u001b[0m\u001b[0merror_handler\u001b[0m\u001b[0;34m.\u001b[0m\u001b[0mcheck_response\u001b[0m\u001b[0;34m(\u001b[0m\u001b[0mresponse\u001b[0m\u001b[0;34m)\u001b[0m\u001b[0;34m\u001b[0m\u001b[0;34m\u001b[0m\u001b[0m\n\u001b[0m\u001b[1;32m    322\u001b[0m             response['value'] = self._unwrap_value(\n\u001b[1;32m    323\u001b[0m                 response.get('value', None))\n",
            "\u001b[0;32m/usr/local/lib/python3.6/dist-packages/selenium/webdriver/remote/errorhandler.py\u001b[0m in \u001b[0;36mcheck_response\u001b[0;34m(self, response)\u001b[0m\n\u001b[1;32m    240\u001b[0m                 \u001b[0malert_text\u001b[0m \u001b[0;34m=\u001b[0m \u001b[0mvalue\u001b[0m\u001b[0;34m[\u001b[0m\u001b[0;34m'alert'\u001b[0m\u001b[0;34m]\u001b[0m\u001b[0;34m.\u001b[0m\u001b[0mget\u001b[0m\u001b[0;34m(\u001b[0m\u001b[0;34m'text'\u001b[0m\u001b[0;34m)\u001b[0m\u001b[0;34m\u001b[0m\u001b[0;34m\u001b[0m\u001b[0m\n\u001b[1;32m    241\u001b[0m             \u001b[0;32mraise\u001b[0m \u001b[0mexception_class\u001b[0m\u001b[0;34m(\u001b[0m\u001b[0mmessage\u001b[0m\u001b[0;34m,\u001b[0m \u001b[0mscreen\u001b[0m\u001b[0;34m,\u001b[0m \u001b[0mstacktrace\u001b[0m\u001b[0;34m,\u001b[0m \u001b[0malert_text\u001b[0m\u001b[0;34m)\u001b[0m\u001b[0;34m\u001b[0m\u001b[0;34m\u001b[0m\u001b[0m\n\u001b[0;32m--> 242\u001b[0;31m         \u001b[0;32mraise\u001b[0m \u001b[0mexception_class\u001b[0m\u001b[0;34m(\u001b[0m\u001b[0mmessage\u001b[0m\u001b[0;34m,\u001b[0m \u001b[0mscreen\u001b[0m\u001b[0;34m,\u001b[0m \u001b[0mstacktrace\u001b[0m\u001b[0;34m)\u001b[0m\u001b[0;34m\u001b[0m\u001b[0;34m\u001b[0m\u001b[0m\n\u001b[0m\u001b[1;32m    243\u001b[0m \u001b[0;34m\u001b[0m\u001b[0m\n\u001b[1;32m    244\u001b[0m     \u001b[0;32mdef\u001b[0m \u001b[0m_value_or_default\u001b[0m\u001b[0;34m(\u001b[0m\u001b[0mself\u001b[0m\u001b[0;34m,\u001b[0m \u001b[0mobj\u001b[0m\u001b[0;34m,\u001b[0m \u001b[0mkey\u001b[0m\u001b[0;34m,\u001b[0m \u001b[0mdefault\u001b[0m\u001b[0;34m)\u001b[0m\u001b[0;34m:\u001b[0m\u001b[0;34m\u001b[0m\u001b[0;34m\u001b[0m\u001b[0m\n",
            "\u001b[0;31mWebDriverException\u001b[0m: Message: unknown error: Chrome failed to start: exited abnormally.\n  (chrome not reachable)\n  (The process started from chrome location /usr/bin/chromium-browser is no longer running, so ChromeDriver is assuming that Chrome has crashed.)\n"
          ]
        }
      ]
    },
    {
      "cell_type": "code",
      "metadata": {
        "id": "Ao0NVHx6pFwP",
        "colab_type": "code",
        "colab": {}
      },
      "source": [
        "#2020\n",
        "appRank = []\n",
        "date_2020 = ['2020-01-01'] #,'2020-02-01','2020-03-01','2020-04-01','2020-05-01','2020-06-01']\n",
        "date_size = len(date_2020)\n",
        "kinds = ['playstore','appstore']\n",
        "\n",
        "p_sales_rank = []\n",
        "a_sales_rank = []\n",
        "p_appRank_free_2020 = []\n",
        "p_appRank_pay_2020 = []\n",
        "a_appRank_free_2020 = []\n",
        "a_appRank_pay_2020 = []\n",
        "\n",
        "for kind in kinds:\n",
        "  appRank = []\n",
        "  appGenre = []\n",
        "  for i in range(date_size):\n",
        "    url = makeUrl(date_2020,i,kind)\n",
        "    tmp = getAppRank(url,2020)\n",
        "    appRank.append(tmp)\n",
        "    genreURL = getGenreUrl(url)\n",
        "    genreList = list()\n",
        "    for j in range(len(genreURL)):\n",
        "      genreList.append(get_genre('https://www.mobileindex.com/'+genreURL[j]['href'],tmp[j]))\n",
        "    appGenre.append(genreList)\n",
        "    print(kind,' data of ',data_2019[i],' is done')\n",
        "  \n",
        "  sep = separateAppRank(appRank,2020)\n",
        "  sep2 = separateAppRank(appGenre,2019)\n",
        "  \n",
        "  if kind == 'playstore':\n",
        "    p_appRank_free_2020 = sep[0]\n",
        "    p_appRank_pay_2020 = sep[1]\n",
        "    p_sales_rank = sep[2]\n",
        "    p_appGenre_free_2020 = sep2[0]\n",
        "    p_appGenre_pay_2020 = sep2[1]\n",
        "    p_sales_genre = sep2[2]\n",
        "  else:\n",
        "    a_appRank_free_2020 = sep[0]\n",
        "    a_appRank_pay_2020 = sep[1]\n",
        "    a_sales_rank = sep[2]\n",
        "    a_appGenre_free_2020 = sep2[0]\n",
        "    a_appGenre_pay_2020 = sep2[1]\n",
        "    a_sales_genre = sep2[2]"
      ],
      "execution_count": null,
      "outputs": []
    },
    {
      "cell_type": "code",
      "metadata": {
        "id": "J4bPIBhEB3Ji",
        "colab_type": "code",
        "colab": {}
      },
      "source": [
        "p_appRank_free = list()\n",
        "for i in range(len(p_appRank_free_2019)):\n",
        "  p_appRank_free.append(p_appRank_free_2019[i])\n",
        "  p_appRank_free.append(p_appGenre_free_2019[i])\n",
        "for i in range(len(p_appRank_free_2020)):\n",
        "  p_appRank_free.append(p_appRank_free_2020[i])\n",
        "  p_appRank_free.append(p_appGenre_free_2020[i])\n",
        "\n",
        "a_appRank_free = list()\n",
        "for i in range(len(a_appRank_free_2019)):\n",
        "  a_appRank_free.append(a_appRank_free_2019[i])\n",
        "  a_appRank_free.append(a_appGenre_free_2019[i])\n",
        "for i in range(len(a_appRank_free_2020)):\n",
        "  a_appRank_free.append(a_appRank_free_2020[i])\n",
        "  a_appRank_free.append(a_appGenre_free_2020[i])\n"
      ],
      "execution_count": null,
      "outputs": []
    },
    {
      "cell_type": "code",
      "metadata": {
        "id": "2kfBfMicCUx4",
        "colab_type": "code",
        "colab": {}
      },
      "source": [
        "col = []\n",
        "for i in range(1):\n",
        "  col.append('19-'+str(i+1))\n",
        "  col.append('19-'+str(i+1)+'-gen')\n",
        "for i in range(1):\n",
        "  col.append('20-'+str(i+1))\n",
        "  col.append('20-'+str(i+1)+'-gen')\n",
        "\n",
        "appRank_free_playstore_df = pd.DataFrame(p_appRank_free)\n",
        "appRank_free_playstore_df = appRank_free_playstore_df.T\n",
        "appRank_free_playstore_df.columns = col\n",
        "appRank_free_playstore_df.to_csv('/content/gdrive/My Drive/dacon/appRank_free_playstore.csv', encoding='utf-8-sig')\n",
        "\n",
        "appRank_free_appstore_df = pd.DataFrame(a_appRank_free)\n",
        "appRank_free_appstore_df = appRank_free_appstore_df.T\n",
        "appRank_free_appstore_df.columns = col\n",
        "appRank_free_appstore_df.to_csv('/content/gdrive/My Drive/dacon/appRank_free_appstore.csv', encoding='utf-8-sig')"
      ],
      "execution_count": null,
      "outputs": []
    },
    {
      "cell_type": "code",
      "metadata": {
        "id": "6rrTuGrhEJd3",
        "colab_type": "code",
        "colab": {}
      },
      "source": [
        "p_appRank_pay = list()\n",
        "for i in range(len(p_appRank_free_2019)):\n",
        "  p_appRank_pay.append(p_appRank_free_2019[i])\n",
        "  p_appRank_pay.append(p_appGenre_free_2019[i])\n",
        "for i in range(len(p_appRank_free_2020)):\n",
        "  p_appRank_pay.append(p_appRank_free_2020[i])\n",
        "  p_appRank_pay.append(p_appGenre_free_2020[i])\n",
        "\n",
        "a_appRank_pay = list()\n",
        "for i in range(len(a_appRank_pay_2019)):\n",
        "  a_appRank_pay.append(a_appRank_pay_2019[i])\n",
        "  a_appRank_pay.append(a_appGenre_pay_2019[i])\n",
        "for i in range(len(a_appRank_pay_2020)):\n",
        "  a_appRank_pay.append(a_appRank_pay_2020[i])\n",
        "  a_appRank_pay.append(a_appGenre_pay_2020[i])\n"
      ],
      "execution_count": null,
      "outputs": []
    },
    {
      "cell_type": "code",
      "metadata": {
        "id": "nER-e_P8FwyI",
        "colab_type": "code",
        "colab": {}
      },
      "source": [
        "appRank_pay_playstore_df = pd.DataFrame(p_appRank_pay)\n",
        "appRank_pay_playstore_df = appRank_pay_playstore_df.T\n",
        "appRank_pay_playstore_df.columns = col\n",
        "appRank_pay_playstore_df.to_csv('/content/gdrive/My Drive/dacon/appRank_pay_playstore.csv', encoding='utf-8-sig')\n",
        "\n",
        "appRank_pay_appstore_df = pd.DataFrame(a_appRank_pay)\n",
        "appRank_pay_appstore_df = appRank_pay_appstore_df.T\n",
        "appRank_pay_appstore_df.columns = col\n",
        "appRank_pay_appstore_df.to_csv('/content/gdrive/My Drive/dacon/appRank_pay_appstore.csv', encoding='utf-8-sig')"
      ],
      "execution_count": null,
      "outputs": []
    },
    {
      "cell_type": "code",
      "metadata": {
        "id": "aK0KgZc2F0Ot",
        "colab_type": "code",
        "colab": {}
      },
      "source": [
        "p_sales_r = list()\n",
        "for i in range(len(p_sales_rank)):\n",
        "  p_sales_r.append(p_sales_rank[i])\n",
        "  p_sales_r.append(p_sales_genre[i])\n",
        "\n",
        "a_sales_r = list()\n",
        "for i in range(len(a_sales_rank)):\n",
        "  a_sales_r.append(a_sales_rank[i])\n",
        "  a_sales_r.append(a_sales_genre[i])"
      ],
      "execution_count": null,
      "outputs": []
    },
    {
      "cell_type": "code",
      "metadata": {
        "id": "ukW2MMFbF3GZ",
        "colab_type": "code",
        "colab": {}
      },
      "source": [
        "p_sales_rank_df = pd.DataFrame(p_sales_r)\n",
        "p_sales_rank_df = p_sales_rank_df.T\n",
        "p_sales_rank_df.columns = \n",
        "p_sales_rank_df.to_csv('/content/gdrive/My Drive/dacon/app_sales_rank_playstore.csv', encoding='utf-8-sig')\n",
        "\n",
        "a_sales_rank_df = pd.DataFrame(a_sales_r)\n",
        "a_sales_rank_df = a_sales_rank_df.T\n",
        "a_sales_rank_df.columns = ['2020-01-01','2020-02-01','2020-03-01','2020-04-01','2020-05-01','2020-06-01']\n",
        "a_sales_rank_df.to_csv('/content/gdrive/My Drive/dacon/app_sales_rank_appstore.csv', encoding='utf-8-sig')"
      ],
      "execution_count": null,
      "outputs": []
    }
  ]
}