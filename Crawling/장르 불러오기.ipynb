{
 "cells": [
  {
   "cell_type": "code",
   "execution_count": 55,
   "metadata": {},
   "outputs": [],
   "source": [
    "def get_genre(url):\n",
    "    dr = webdriver.Chrome('/Users/tmdgp/python/chromedriver')\n",
    "    dr.implicitly_wait(3)\n",
    "    dr.get(url)\n",
    "    close = dr.find_element_by_xpath(\"//a[@class='btn btn-outline-secondary2']\")\n",
    "    close.click()\n",
    "    ht = dr.page_source\n",
    "    so = BeautifulSoup(ht, 'html.parser')\n",
    "    genre = so.select('tr.text-center')[0].text\n",
    "    index = genre.find('2')\n",
    "    dr.close()\n",
    "    return genre[13:(index-1)]"
   ]
  },
  {
   "cell_type": "code",
   "execution_count": 57,
   "metadata": {},
   "outputs": [
    {
     "ename": "NameError",
     "evalue": "name 'pd' is not defined",
     "output_type": "error",
     "traceback": [
      "\u001b[1;31m---------------------------------------------------------------------------\u001b[0m",
      "\u001b[1;31mNameError\u001b[0m                                 Traceback (most recent call last)",
      "\u001b[1;32m<ipython-input-57-7bd680f3bae1>\u001b[0m in \u001b[0;36m<module>\u001b[1;34m\u001b[0m\n\u001b[0;32m     21\u001b[0m \u001b[1;32mfor\u001b[0m \u001b[0mi\u001b[0m \u001b[1;32min\u001b[0m \u001b[0mrange\u001b[0m\u001b[1;33m(\u001b[0m\u001b[1;36m3\u001b[0m\u001b[1;33m)\u001b[0m\u001b[1;33m:\u001b[0m\u001b[1;33m\u001b[0m\u001b[1;33m\u001b[0m\u001b[0m\n\u001b[0;32m     22\u001b[0m     \u001b[0mappgenre\u001b[0m\u001b[1;33m.\u001b[0m\u001b[0mappend\u001b[0m\u001b[1;33m(\u001b[0m\u001b[0mget_genre\u001b[0m\u001b[1;33m(\u001b[0m\u001b[1;34m'https://www.mobileindex.com/'\u001b[0m\u001b[1;33m+\u001b[0m\u001b[0mgenreURL\u001b[0m\u001b[1;33m[\u001b[0m\u001b[0mi\u001b[0m\u001b[1;33m]\u001b[0m\u001b[1;33m[\u001b[0m\u001b[1;34m'href'\u001b[0m\u001b[1;33m]\u001b[0m\u001b[1;33m)\u001b[0m\u001b[1;33m)\u001b[0m\u001b[1;33m\u001b[0m\u001b[1;33m\u001b[0m\u001b[0m\n\u001b[1;32m---> 23\u001b[1;33m \u001b[0mdf\u001b[0m \u001b[1;33m=\u001b[0m \u001b[0mpd\u001b[0m\u001b[1;33m.\u001b[0m\u001b[0mDataFrame\u001b[0m\u001b[1;33m(\u001b[0m\u001b[0mappname\u001b[0m\u001b[1;33m[\u001b[0m\u001b[1;33m:\u001b[0m\u001b[1;36m3\u001b[0m\u001b[1;33m]\u001b[0m\u001b[1;33m,\u001b[0m \u001b[0mappgenre\u001b[0m\u001b[1;33m)\u001b[0m\u001b[1;33m\u001b[0m\u001b[1;33m\u001b[0m\u001b[0m\n\u001b[0m\u001b[0;32m     24\u001b[0m \u001b[1;33m\u001b[0m\u001b[0m\n",
      "\u001b[1;31mNameError\u001b[0m: name 'pd' is not defined"
     ]
    }
   ],
   "source": [
    "from bs4 import BeautifulSoup\n",
    "from selenium import webdriver\n",
    "\n",
    "driver = webdriver.Chrome('/Users/tmdgp/python/chromedriver')\n",
    "driver.implicitly_wait(3)\n",
    "\n",
    "driver.get('https://www.mobileindex.com/app/rank')\n",
    "\n",
    "close = driver.find_element_by_xpath(\"//a[@class='btn btn-outline-secondary2']\")\n",
    "close.click()\n",
    "\n",
    "html = driver.page_source\n",
    "soup = BeautifulSoup(html, 'html.parser')\n",
    "names = soup.select('span.appname')\n",
    "genreURL = soup.select('div.item-info > a')\n",
    "#driver.close()\n",
    "appname = []\n",
    "appgenre = []\n",
    "for n in names:\n",
    "    appname.append(n.text.strip())\n",
    "for i in range(150):\n",
    "    appgenre.append(get_genre('https://www.mobileindex.com/'+genreURL[i]['href']))\n",
    "\n",
    "    "
   ]
  },
  {
   "cell_type": "code",
   "execution_count": 58,
   "metadata": {},
   "outputs": [
    {
     "name": "stdout",
     "output_type": "stream",
     "text": [
      "['당근마켓 - 우리 동네 중고 직거래 벼룩장터', 'Noteshelf - 손으로 메모하고 | PDF 주석을 달아 정리하고', '카카오톡 KakaoTalk', 'TikTok 틱톡', '@picn2k camera (피크닉 카메라)', '하쿠나 라이브 -  Live 방송', '토스', '갓피플성경', '왓챠', '한국 속보 : 최신 지역 뉴스 및 속보', '유니콘:광고차단 필수 앱', 'Twitch: 리그 오브 레전드, Hearthstone, MMO 게임 스트리밍 라이브 시청', 'Netflix(넷플릭스)', 'nPlayer', '위피 - 동네 친구가 필요할 때', 'Bill Letter', 'MX 플레이어 Pro', 'Bigo Live (비고라이브) – 라이브방송, 영상채팅', '팝콘티비 - PopkonTV', '한컴오피스 한글', 'Google One', 'ZOOM Cloud Meetings', '영화보며 영어공부 - 배속재생 미플레이어무비프로 어학용 동영상 플레이어', 'IZ*ONE Private Mail', '오늘의집 - 1000만이 선택한 No.1 인테리어 필수앱', 'Jump Desktop (RDP & VNC)', '아자르 Azar - 새 친구로 일상을 새로고침', 'Samsung Smart Switch Mobile', 'Word master 워드마스터 수능 2000(18개정)', '스카이피플 (스피) : 서울대생이 만든 인증을 통한 안전한 소개팅 + 직장인 익명 커뮤니티', '카카오톡 KakaoTalk', 'Twomon SE (투몬 SE) - 휴대용 디스플레이, USB 모니터', '글램 - 모든 매력적인 만남', '네이버 - NAVER', 'Torque Pro (OBD2 / 자동차)', '심쿵 - 여사친 남사친 동네친구 만들기', '배달의민족', '무음무음 PRO', '정오의데이트 소개팅 - 동네친구와 톡 하고 싶을때', '쿠팡 (Coupang)', 'Puffin Browser Pro', '탄탄 - 남사친이 필요할 때', 'Instagram', 'USB Audio Player PRO', '아마시아 - 나와 가까운 인연부터 외국인까지👩\\u200d❤️\\u200d💋\\u200d👨', '카카오 T - 택시, 대리운전, 주차, 내비, 카풀, 바이크', 'Flashcards Deluxe', '밀리의 서재 - 독서와 무제한 친해지리', '쿠팡이츠 - 맛있는 음식을 빠르고 편하게', 'LectureNotes', '리슨 Lysn', '배달요기요', 'Tasker', '윌라 오디오북', '실시간 무료 TV - 지상파, 종합편성, 케이블 무료 티비', 'Poweramp Full Version Unlocker', 'Tinder 틴더', 'V3 Mobile Plus', 'Magic DosBox', 'Kmate 케이메이트 - 한국을 사랑하는 외국인친구 사귀기, 미팅, 외국어 채팅, 언어교환', '여기어때 - 호텔, 모텔, 펜션, 캠핑, 게하, 액티비티 최저가 예약!', '옥철이_무더위 카톡테마', 'LIVE스코어 - KBO, K리그, EPL 등 가장 빠른 스포츠 전종목 라이브스코어', '야놀자 - 국내 및 해외 호텔, 모텔, 펜션, 레저, 렌터카, KTX 최대 80 할인', 'Aa정답쓰기™ 한국어 Flipfont', '라인 플레이 – 전세계 No.1 패션 게임', 'T map - 내비게이션 / 지도', '심플 갤러리 Pro', '골드스푼 : 자격을 갖춘 남녀를 위한 안전한 소개팅', '에이블리 - 셀럽마켓 모음앱', '구닥', 'ZEPETO', '네이버 지도, 내비게이션', '@yoojinkim camera', '아만다: 눈 높아도 괜찮은 프리미엄 소개팅', 'FaceApp', 'Aa문라이즈™ 한국어 Flipfont', '여보야 - 결혼, 재혼을 위한 중매쟁이 앱', 'VITA', '말킴의 영어회화 패턴500-A', '증권플러스 - 국민 증권앱', '네이버 시리즈on - SERIES ON', '지피지기 (사주,운세,궁합,토정비결,이름,해몽)', '커넥팅 - 클린한 소셜 통화 어플', '카카오뱅크 - 같지만 다른 은행', 'Hi-Fi Status(LG)', '너랑나랑 - 매일16명 소개팅 (소셜데이팅,연애)', '윌라 오디오북', 'AlpineQuest Off-Road Explorer', 'VivaVideo - 동영상 편집 어플 & 무비메이커', '한컴오피스 viewer', '무음모드 (순정 무음카메라)', '포스텔러 - 애정운, 신년운세, 무료운세, 사주, 타로, 궁합, 토정비결, 별자리, 손금', '카카오맵 - 대한민국 No.1 지도앱 ( 지도 / 내비게이션 / 대중교통 / 로드뷰 )', 'Game Booster 4x Faster Pro - GFX Tool & Lag Fix', '아르고 ARGO - 영상메신저, 영상채팅, 친구찾기', 'wavve(웨이브) - 재미의 파도를 타다!', 'Panda Gamepad Pro (BETA)', '소모임 - No.1 취미모임 앱', '직방 - No.1 부동산 앱 (아파트, 분양, 원룸, 오피스텔, 빌라, 상가)', 'VHS Camcorder (VHS Cam) 📼📹 Retro 80s Cam', '(앙팅 즐팅 통합) 앙팅즐팅 톡톡 랜덤채팅', '카카오내비', '아라-만화뷰어,텍스트뷰어,스캔뷰어,소설뷰어', '데이톡(DayTalk) - 매일 100만 회원과 새로운 인연과 데이트', 'PASS by SKT – 운전면허증이 내 휴대폰속으로!', 'Velo VPN Pro', '만남,돌싱,중년,채팅어플,소개팅,채팅 만남어플 - 불팅', 'Google Play 게임', '무음모드 PRO (기본 카메라 무음)', '스코어센터 LIVE - 전 세계 스포츠 통합 라이브스코어', '아이디어스(idus) - 작품구매부터 취미생활까지!', 'TouchRetouch', 'LivU - 랜덤 영상 채팅', '스타벅스', '편한가계부 (+음성, PC)', '당연시 - 당신도 연애를 시작할 때, 미팅/소개팅/동네 친구 찾기', '밴드', 'DroidCamX Wireless Webcam Pro', '아이쉐어링 위치추적 - 가족 자녀안심, 친구찾기, GPS 안심이', 'Facebook', 'WolframAlpha', '스픽 (Speak): 영어회화, 스피킹, 발음', '티빙(TVING) - 실시간TV, 방송VOD, 영화VOD', 'Nova Launcher Prime', 'V LIVE', 'Wish - 쇼핑은 즐겁다', 'OruxMaps GP', '카카오키즈', '차이 - 결제마다 할인받는 간편결제', 'FiLMiC Pro: 프로 HD 수동 비디오 카메라 어플', '썸데이 - 이상형 만남 소개팅 (만남, 데이트, 소개팅 어플)', '삼성카드', '이비스 페인트 (ibis Paint)', '키네마스터 - 동영상 편집, 동영상 자막, 필터, vlog 편집 앱', '전자출입명부(KI-Pass) 보건복지부', '굴삭기 면허시험 시뮬레이터', 'Microsoft OneDrive', 'FLO – 플로', '친일인명사전', '채팅 만남 비밀친구 필요할때 - 즐챗', 'SODA 소다 - Natural Beauty Camera', 'SimpleMind Pro - Intuitive Mind Mapping', '캐치잇 잉글리시 : 게임보다 쉬운 영어 학습', 'QR 코드 스캐너', '우리말 공부', '스와이프 - 새로운 친구 찾기', 'LG전자 멤버십', 'µTorrent® Pro - Torrent App', '즐겁게톡 - 채팅, 랜덤채팅']\n",
      "['쇼핑', '생산성', '커뮤니케이션']\n"
     ]
    }
   ],
   "source": [
    "print(appname)\n",
    "print(appgenre)"
   ]
  }
 ],
 "metadata": {
  "kernelspec": {
   "display_name": "Python 3",
   "language": "python",
   "name": "python3"
  },
  "language_info": {
   "codemirror_mode": {
    "name": "ipython",
    "version": 3
   },
   "file_extension": ".py",
   "mimetype": "text/x-python",
   "name": "python",
   "nbconvert_exporter": "python",
   "pygments_lexer": "ipython3",
   "version": "3.8.2"
  }
 },
 "nbformat": 4,
 "nbformat_minor": 4
}
